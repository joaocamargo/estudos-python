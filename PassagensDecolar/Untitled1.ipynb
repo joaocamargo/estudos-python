{
 "cells": [
  {
   "cell_type": "code",
   "execution_count": null,
   "metadata": {},
   "outputs": [],
   "source": [
    "import pandas as pd\n",
    "import urllib.request\n",
    "import json\n",
    "import pandas as pd\n",
    "from datetime import datetime\n",
    "import seaborn as sns\n",
    "cm = sns.light_palette(\"red\", as_cmap=True)\n",
    "from jinja2 import Environment, FileSystemLoader\n",
    "from sqlalchemy import create_engine\n",
    "from datetime import datetime\n",
    "import pdfkit \n",
    "import json\n",
    "import os"
   ]
  },
  {
   "cell_type": "code",
   "execution_count": null,
   "metadata": {},
   "outputs": [],
   "source": [
    "dfLoadPontosIda = pd.read_csv(\"historicoPesquisaPontosIda.csv\") \n",
    "dfLoadPontosVolta = pd.read_csv(\"historicoPesquisaPontosVolta.csv\")\n",
    "dfGrafico = pd.read_csv(\"historicoPesquisaPrecos.csv\") \n",
    "\n",
    "\n",
    "print(dfGrafico['DataPesquisa'].max())\n",
    "\n",
    "print(dfGrafico['de'].unique())\n",
    "print(dfGrafico['para'].unique())\n",
    "\n",
    "\n",
    "print(dfLoadPontosIda['De'].unique())\n",
    "print(dfLoadPontosIda['Para'].unique())\n",
    "print(dfLoadPontosVolta['De'].unique())\n",
    "print(dfLoadPontosVolta['Para'].unique())\n",
    "\n",
    "\n",
    "dfGrafico['DataPesquisaReferencia'] = dfGrafico['DataPesquisa'].apply(lambda x: x[0:13])\n",
    "dfLoadPontosIda['DataPesquisaReferencia'] = dfLoadPontosIda['DataPesquisa'].apply(lambda x: x[0:13])\n",
    "dfLoadPontosVolta['DataPesquisaReferencia'] = dfLoadPontosVolta['DataPesquisa'].apply(lambda x: x[0:13])\n",
    "\n",
    "dataMaximaPesquisa = dfGrafico.max()['DataPesquisa'][0:13]\n",
    "dfGraficoAtual = dfGrafico.query('DataPesquisaReferencia == @dataMaximaPesquisa')\n",
    "\n",
    "dataMaximaPesquisaPontoIda = dfLoadPontosIda.max()['DataPesquisa'][0:13]\n",
    "dfGraficoPontoIdaAtual = dfLoadPontosIda.query('DataPesquisaReferencia == @dataMaximaPesquisaPontoIda')\n",
    "\n",
    "dataMaximaPesquisaPontoVolta = dfLoadPontosVolta.max()['DataPesquisa'][0:13]\n",
    "dfGraficoPontoVoltaAtual = dfLoadPontosVolta.query('DataPesquisaReferencia == @dataMaximaPesquisaPontoVolta')\n",
    "\n",
    "print(dfLoadPontosIda.count()[0],'-',dfGraficoPontoIdaAtual.count()[0])\n",
    "print(dfLoadPontosVolta.count()[0],'-',dfGraficoPontoVoltaAtual.count()[0])\n",
    "print(dfGrafico.count()[0],'-',dfGraficoAtual.count()[0])\n",
    "\n",
    "\n",
    "del dfGraficoAtual['Unnamed: 0']\n",
    "del dfGraficoAtual['DataPesquisa']\n",
    "del dfGraficoAtual['DataPesquisaReferencia']\n",
    "del dfGraficoPontoIdaAtual['Unnamed: 0']\n",
    "del dfGraficoPontoIdaAtual['DataPesquisa']\n",
    "del dfGraficoPontoIdaAtual['DataPesquisaReferencia']\n",
    "del dfGraficoPontoVoltaAtual['Unnamed: 0']\n",
    "del dfGraficoPontoVoltaAtual['DataPesquisa']\n",
    "del dfGraficoPontoVoltaAtual['DataPesquisaReferencia']\n",
    "\n",
    "\n",
    "#display(dfLoadPontosIda.head(2))\n",
    "#display(dfLoadPontosVolta.head(2))\n",
    "#display(dfGrafico.head(2))\n"
   ]
  },
  {
   "cell_type": "code",
   "execution_count": null,
   "metadata": {},
   "outputs": [],
   "source": [
    "print(dfGraficoAtual['de'].unique())\n",
    "print(dfGraficoAtual['para'].unique())"
   ]
  },
  {
   "cell_type": "code",
   "execution_count": null,
   "metadata": {
    "scrolled": false
   },
   "outputs": [],
   "source": [
    "for origem in dfGraficoAtual['de'].unique():    \n",
    "    dfGraficoAtualP = pd.pivot_table(dfGraficoAtual.query('de==@origem'),values='preco',index=['de','para','Ida'],columns='Volta')\n",
    "    dfGraficoAtualP.fillna(0,inplace=True)\n",
    "    display(dfGraficoAtualP.style.background_gradient(cmap='OrRd'))"
   ]
  },
  {
   "cell_type": "code",
   "execution_count": null,
   "metadata": {
    "scrolled": false
   },
   "outputs": [],
   "source": [
    "display(dfGraficoPontoIdaAtual.columns)\n",
    "for origem in dfGraficoPontoIdaAtual['De'].unique():      \n",
    "    dfGraficoPontoIdaAtualP = pd.pivot_table(dfGraficoPontoIdaAtual.query('De==@origem & pontos < 85000'),values=['pontos','preco'],index=['De','Para','PartidaData','PartidaHora'],columns='Paradas')\n",
    "    dfGraficoPontoIdaAtualP.fillna(0,inplace=True)\n",
    "    print('DE:',origem,dfGraficoPontoIdaAtualP.count())\n",
    "    display(dfGraficoPontoIdaAtualP.style.background_gradient(cmap='OrRd'))"
   ]
  },
  {
   "cell_type": "code",
   "execution_count": null,
   "metadata": {
    "scrolled": false
   },
   "outputs": [],
   "source": [
    "display(dfGraficoPontoVoltaAtual.columns)\n",
    "for origem in dfGraficoPontoVoltaAtual['De'].unique():  \n",
    "    dfGraficoPontoVoltaAtualP = pd.pivot_table(dfGraficoPontoVoltaAtual.query('De==@origem & pontos < 185000'),values=['pontos'],index=['De','Para','PartidaData','PartidaHora'],columns='Paradas')\n",
    "    dfGraficoPontoVoltaAtualP.fillna(0,inplace=True)\n",
    "    print('DE:',origem,dfGraficoPontoIdaAtualP.count())\n",
    "    display(dfGraficoPontoVoltaAtualP.style.background_gradient(cmap='OrRd'))"
   ]
  },
  {
   "cell_type": "code",
   "execution_count": null,
   "metadata": {},
   "outputs": [],
   "source": []
  },
  {
   "cell_type": "code",
   "execution_count": null,
   "metadata": {},
   "outputs": [],
   "source": []
  },
  {
   "cell_type": "code",
   "execution_count": null,
   "metadata": {},
   "outputs": [],
   "source": []
  },
  {
   "cell_type": "code",
   "execution_count": null,
   "metadata": {},
   "outputs": [],
   "source": []
  }
 ],
 "metadata": {
  "kernelspec": {
   "display_name": "Python 3",
   "language": "python",
   "name": "python3"
  },
  "language_info": {
   "codemirror_mode": {
    "name": "ipython",
    "version": 3
   },
   "file_extension": ".py",
   "mimetype": "text/x-python",
   "name": "python",
   "nbconvert_exporter": "python",
   "pygments_lexer": "ipython3",
   "version": "3.7.4"
  }
 },
 "nbformat": 4,
 "nbformat_minor": 2
}
