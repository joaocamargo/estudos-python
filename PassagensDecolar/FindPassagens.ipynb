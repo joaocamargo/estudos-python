{
 "cells": [
  {
   "cell_type": "code",
   "execution_count": 48,
   "metadata": {},
   "outputs": [],
   "source": [
    "import urllib.request\n",
    "import json\n",
    "import pandas as pd\n",
    "from datetime import datetime\n",
    "\n",
    "#https://www.trilhaseaventuras.com.br/siglas-dos-principais-aeroportos-do-mundo-iata/\n",
    "\n",
    "#urlOneWay\n",
    "#https://www.decolar.com/shop/flights-busquets/api/v1/web/search?adults=1&children=0&infants=0&limit=4&site=BR&channel=site&from=POA&to=MIA&departureDate=2020-03-04&groupBy=default&orderBy=total_price_ascending&viewMode=CLUSTER&language=pt_BR&airlineSummary=false&chargesDespegar=false&user=e1861e3a-3357-4a76-861e-3a3357ea76c0&h=38dc1f66dbf4f5c8df105321c3286b5c&flow=SEARCH&di=1-0&clientType=WEB&disambiguationApplied=true&newDisambiguationService=true&initialOrigins=POA&initialDestinations=MIA&pageViewId=62ef8aab-ab53-406c-8429-885702acecbd"
   ]
  },
  {
   "cell_type": "code",
   "execution_count": 49,
   "metadata": {},
   "outputs": [],
   "source": [
    "dataInicial = '2020-07-05'\n",
    "dataFinal = '2020-07-20'\n",
    "\n",
    "idaEvolta=True\n",
    "#tripType=''\n",
    "\n",
    "#dataInicial = '2020-04-08'\n",
    "#dataFinal = '2020-04-22'\n",
    "\n",
    "#if idaEvolta:\n",
    "#    tripType = 'roundtrip'\n",
    "#else:\n",
    "#    tripType = 'oneway'\n",
    "\n",
    "specificDate = False"
   ]
  },
  {
   "cell_type": "code",
   "execution_count": 50,
   "metadata": {},
   "outputs": [],
   "source": [
    "origens = ['POA','GRU','GIG']\n",
    "destinos = ['ATL','MIA']\n",
    "\n",
    "#dfDict.append({'de':origem,'para':destino,'Ida': p['departureDate'],'Volta':arr['arrivalDate'],'preco':arr['price'][\"amount\"]})"
   ]
  },
  {
   "cell_type": "code",
   "execution_count": 51,
   "metadata": {
    "scrolled": true
   },
   "outputs": [
    {
     "name": "stdout",
     "output_type": "stream",
     "text": [
      "POA -> ATL\n",
      "de:2020-07-05  ate  2020-07-20 - valor: 6175\n",
      "\n",
      "('Voo mais barato POA -> ATL de:2020-07-05', ' ate ', '2020-07-20', '- valor: 6175')\n",
      "6175\n",
      "\n",
      "POA -> MIA\n",
      "de:2020-07-02  ate  2020-07-17 - valor: 3632\n",
      "de:2020-07-02  ate  2020-07-18 - valor: 3691\n",
      "de:2020-07-02  ate  2020-07-19 - valor: 3873\n",
      "de:2020-07-02  ate  2020-07-20 - valor: 3670\n",
      "de:2020-07-02  ate  2020-07-21 - valor: 3555\n",
      "de:2020-07-02  ate  2020-07-22 - valor: 3612\n",
      "de:2020-07-02  ate  2020-07-23 - valor: 3612\n",
      "de:2020-07-03  ate  2020-07-17 - valor: 3700\n",
      "de:2020-07-03  ate  2020-07-18 - valor: 3762\n",
      "de:2020-07-03  ate  2020-07-19 - valor: 3803\n",
      "de:2020-07-03  ate  2020-07-20 - valor: 3757\n",
      "de:2020-07-03  ate  2020-07-21 - valor: 3706\n",
      "de:2020-07-03  ate  2020-07-22 - valor: 3732\n",
      "de:2020-07-03  ate  2020-07-23 - valor: 3757\n",
      "de:2020-07-04  ate  2020-07-17 - valor: 3790\n",
      "de:2020-07-04  ate  2020-07-18 - valor: 4025\n",
      "de:2020-07-04  ate  2020-07-19 - valor: 3880\n",
      "de:2020-07-04  ate  2020-07-20 - valor: 3786\n",
      "de:2020-07-04  ate  2020-07-21 - valor: 3753\n",
      "de:2020-07-04  ate  2020-07-22 - valor: 3806\n",
      "de:2020-07-04  ate  2020-07-23 - valor: 3823\n",
      "de:2020-07-05  ate  2020-07-17 - valor: 3888\n",
      "de:2020-07-05  ate  2020-07-18 - valor: 3974\n",
      "de:2020-07-05  ate  2020-07-19 - valor: 3992\n",
      "de:2020-07-05  ate  2020-07-20 - valor: 3876\n",
      "de:2020-07-05  ate  2020-07-21 - valor: 3851\n",
      "de:2020-07-05  ate  2020-07-22 - valor: 3910\n",
      "de:2020-07-05  ate  2020-07-23 - valor: 3921\n",
      "de:2020-07-06  ate  2020-07-17 - valor: 3757\n",
      "de:2020-07-06  ate  2020-07-18 - valor: 3697\n",
      "de:2020-07-06  ate  2020-07-19 - valor: 3747\n",
      "de:2020-07-06  ate  2020-07-20 - valor: 3681\n",
      "de:2020-07-06  ate  2020-07-21 - valor: 3548\n",
      "de:2020-07-06  ate  2020-07-22 - valor: 3617\n",
      "de:2020-07-06  ate  2020-07-23 - valor: 3610\n",
      "de:2020-07-07  ate  2020-07-17 - valor: 3676\n",
      "de:2020-07-07  ate  2020-07-18 - valor: 3714\n",
      "de:2020-07-07  ate  2020-07-19 - valor: 3755\n",
      "de:2020-07-07  ate  2020-07-20 - valor: 3679\n",
      "de:2020-07-07  ate  2020-07-21 - valor: 3637\n",
      "de:2020-07-07  ate  2020-07-22 - valor: 3666\n",
      "de:2020-07-07  ate  2020-07-23 - valor: 3648\n",
      "de:2020-07-08  ate  2020-07-17 - valor: 3761\n",
      "de:2020-07-08  ate  2020-07-18 - valor: 3677\n",
      "de:2020-07-08  ate  2020-07-19 - valor: 3853\n",
      "de:2020-07-08  ate  2020-07-20 - valor: 3868\n",
      "de:2020-07-08  ate  2020-07-21 - valor: 3800\n",
      "de:2020-07-08  ate  2020-07-22 - valor: 3792\n",
      "de:2020-07-08  ate  2020-07-23 - valor: 3751\n",
      "\n",
      "('Voo mais barato POA -> MIA de:2020-07-06', ' ate ', '2020-07-21', '- valor: 3548')\n",
      "3548\n",
      "\n",
      "GRU -> ATL\n",
      "de:2020-07-05  ate  2020-07-20 - valor: 4865\n",
      "\n",
      "('Voo mais barato GRU -> ATL de:2020-07-05', ' ate ', '2020-07-20', '- valor: 4865')\n",
      "4865\n",
      "\n",
      "GRU -> MIA\n",
      "de:2020-07-02  ate  2020-07-17 - valor: 3419\n",
      "de:2020-07-02  ate  2020-07-18 - valor: 3420\n",
      "de:2020-07-02  ate  2020-07-19 - valor: 3439\n",
      "de:2020-07-02  ate  2020-07-20 - valor: 3527\n",
      "de:2020-07-02  ate  2020-07-21 - valor: 3266\n",
      "de:2020-07-02  ate  2020-07-22 - valor: 3238\n",
      "de:2020-07-02  ate  2020-07-23 - valor: 3263\n",
      "de:2020-07-03  ate  2020-07-17 - valor: 3634\n",
      "de:2020-07-03  ate  2020-07-18 - valor: 3779\n",
      "de:2020-07-03  ate  2020-07-19 - valor: 3435\n",
      "de:2020-07-03  ate  2020-07-20 - valor: 3318\n",
      "de:2020-07-03  ate  2020-07-21 - valor: 3301\n",
      "de:2020-07-03  ate  2020-07-22 - valor: 3295\n",
      "de:2020-07-03  ate  2020-07-23 - valor: 3316\n",
      "de:2020-07-04  ate  2020-07-17 - valor: 3485\n",
      "de:2020-07-04  ate  2020-07-18 - valor: 3779\n",
      "de:2020-07-04  ate  2020-07-19 - valor: 3475\n",
      "de:2020-07-04  ate  2020-07-20 - valor: 3294\n",
      "de:2020-07-04  ate  2020-07-21 - valor: 3295\n",
      "de:2020-07-04  ate  2020-07-22 - valor: 3312\n",
      "de:2020-07-04  ate  2020-07-23 - valor: 3331\n",
      "de:2020-07-05  ate  2020-07-17 - valor: 3472\n",
      "de:2020-07-05  ate  2020-07-18 - valor: 3457\n",
      "de:2020-07-05  ate  2020-07-19 - valor: 3428\n",
      "de:2020-07-05  ate  2020-07-20 - valor: 3279\n",
      "de:2020-07-05  ate  2020-07-21 - valor: 3544\n",
      "de:2020-07-05  ate  2020-07-22 - valor: 3307\n",
      "de:2020-07-05  ate  2020-07-23 - valor: 3327\n",
      "de:2020-07-06  ate  2020-07-17 - valor: 3417\n",
      "de:2020-07-06  ate  2020-07-18 - valor: 3634\n",
      "de:2020-07-06  ate  2020-07-19 - valor: 3398\n",
      "de:2020-07-06  ate  2020-07-20 - valor: 3380\n",
      "de:2020-07-06  ate  2020-07-21 - valor: 3226\n",
      "de:2020-07-06  ate  2020-07-22 - valor: 3177\n",
      "de:2020-07-06  ate  2020-07-23 - valor: 3254\n",
      "de:2020-07-07  ate  2020-07-17 - valor: 3401\n",
      "de:2020-07-07  ate  2020-07-18 - valor: 3409\n",
      "de:2020-07-07  ate  2020-07-19 - valor: 3404\n",
      "de:2020-07-07  ate  2020-07-20 - valor: 3527\n",
      "de:2020-07-07  ate  2020-07-21 - valor: 3286\n",
      "de:2020-07-07  ate  2020-07-22 - valor: 3137\n",
      "de:2020-07-07  ate  2020-07-23 - valor: 3246\n",
      "de:2020-07-08  ate  2020-07-17 - valor: 3359\n",
      "de:2020-07-08  ate  2020-07-18 - valor: 3354\n",
      "de:2020-07-08  ate  2020-07-19 - valor: 3370\n",
      "de:2020-07-08  ate  2020-07-20 - valor: 3527\n",
      "de:2020-07-08  ate  2020-07-21 - valor: 3212\n",
      "de:2020-07-08  ate  2020-07-22 - valor: 3199\n",
      "de:2020-07-08  ate  2020-07-23 - valor: 3527\n",
      "\n",
      "('Voo mais barato GRU -> MIA de:2020-07-07', ' ate ', '2020-07-22', '- valor: 3137')\n",
      "3137\n",
      "\n",
      "GIG -> ATL\n",
      "de:2020-07-05  ate  2020-07-20 - valor: 5690\n",
      "de:2020-07-07  ate  2020-07-18 - valor: 6177\n",
      "\n",
      "('Voo mais barato GIG -> ATL de:2020-07-05', ' ate ', '2020-07-20', '- valor: 5690')\n",
      "5690\n",
      "\n",
      "GIG -> MIA\n",
      "de:2020-07-02  ate  2020-07-17 - valor: 3278\n",
      "de:2020-07-02  ate  2020-07-18 - valor: 3277\n",
      "de:2020-07-02  ate  2020-07-19 - valor: 3268\n",
      "de:2020-07-02  ate  2020-07-20 - valor: 3458\n",
      "de:2020-07-02  ate  2020-07-21 - valor: 3440\n",
      "de:2020-07-02  ate  2020-07-22 - valor: 3358\n",
      "de:2020-07-02  ate  2020-07-23 - valor: 3347\n",
      "de:2020-07-03  ate  2020-07-17 - valor: 3237\n",
      "de:2020-07-03  ate  2020-07-18 - valor: 3270\n",
      "de:2020-07-03  ate  2020-07-19 - valor: 3272\n",
      "de:2020-07-03  ate  2020-07-20 - valor: 3391\n",
      "de:2020-07-03  ate  2020-07-21 - valor: 3432\n",
      "de:2020-07-03  ate  2020-07-22 - valor: 3354\n",
      "de:2020-07-03  ate  2020-07-23 - valor: 3333\n",
      "de:2020-07-04  ate  2020-07-17 - valor: 3296\n",
      "de:2020-07-04  ate  2020-07-18 - valor: 3290\n",
      "de:2020-07-04  ate  2020-07-19 - valor: 3300\n",
      "de:2020-07-04  ate  2020-07-20 - valor: 3430\n",
      "de:2020-07-04  ate  2020-07-21 - valor: 3422\n",
      "de:2020-07-04  ate  2020-07-22 - valor: 3428\n",
      "de:2020-07-04  ate  2020-07-23 - valor: 3414\n",
      "de:2020-07-05  ate  2020-07-17 - valor: 3320\n",
      "de:2020-07-05  ate  2020-07-18 - valor: 3283\n",
      "de:2020-07-05  ate  2020-07-19 - valor: 3293\n",
      "de:2020-07-05  ate  2020-07-20 - valor: 3419\n",
      "de:2020-07-05  ate  2020-07-21 - valor: 3418\n",
      "de:2020-07-05  ate  2020-07-22 - valor: 3400\n",
      "de:2020-07-05  ate  2020-07-23 - valor: 3410\n",
      "de:2020-07-06  ate  2020-07-17 - valor: 3368\n",
      "de:2020-07-06  ate  2020-07-18 - valor: 3365\n",
      "de:2020-07-06  ate  2020-07-19 - valor: 3348\n",
      "de:2020-07-06  ate  2020-07-20 - valor: 3461\n",
      "de:2020-07-06  ate  2020-07-21 - valor: 3464\n",
      "de:2020-07-06  ate  2020-07-22 - valor: 3422\n",
      "de:2020-07-06  ate  2020-07-23 - valor: 3405\n",
      "de:2020-07-07  ate  2020-07-17 - valor: 3384\n",
      "de:2020-07-07  ate  2020-07-18 - valor: 3765\n",
      "de:2020-07-07  ate  2020-07-19 - valor: 3357\n",
      "de:2020-07-07  ate  2020-07-20 - valor: 3453\n",
      "de:2020-07-07  ate  2020-07-21 - valor: 3482\n",
      "de:2020-07-07  ate  2020-07-22 - valor: 3443\n",
      "de:2020-07-07  ate  2020-07-23 - valor: 3433\n",
      "de:2020-07-08  ate  2020-07-17 - valor: 3430\n",
      "de:2020-07-08  ate  2020-07-18 - valor: 3385\n",
      "de:2020-07-08  ate  2020-07-19 - valor: 3374\n",
      "de:2020-07-08  ate  2020-07-20 - valor: 3442\n",
      "de:2020-07-08  ate  2020-07-21 - valor: 3484\n",
      "de:2020-07-08  ate  2020-07-22 - valor: 3457\n",
      "de:2020-07-08  ate  2020-07-23 - valor: 3475\n",
      "\n",
      "('Voo mais barato GIG -> MIA de:2020-07-03', ' ate ', '2020-07-17', '- valor: 3237')\n",
      "3237\n",
      "\n",
      "('Voo mais barato POA -> ATL de:2020-07-05', ' ate ', '2020-07-20', '- valor: 6175')\n",
      "('Voo mais barato POA -> MIA de:2020-07-02', ' ate ', '2020-07-17', '- valor: 3632')\n",
      "('Voo mais barato POA -> MIA de:2020-07-02', ' ate ', '2020-07-21', '- valor: 3555')\n",
      "('Voo mais barato POA -> MIA de:2020-07-06', ' ate ', '2020-07-21', '- valor: 3548')\n",
      "('Voo mais barato GRU -> ATL de:2020-07-05', ' ate ', '2020-07-20', '- valor: 4865')\n",
      "('Voo mais barato GRU -> MIA de:2020-07-02', ' ate ', '2020-07-17', '- valor: 3419')\n",
      "('Voo mais barato GRU -> MIA de:2020-07-02', ' ate ', '2020-07-21', '- valor: 3266')\n",
      "('Voo mais barato GRU -> MIA de:2020-07-02', ' ate ', '2020-07-22', '- valor: 3238')\n",
      "('Voo mais barato GRU -> MIA de:2020-07-06', ' ate ', '2020-07-21', '- valor: 3226')\n",
      "('Voo mais barato GRU -> MIA de:2020-07-06', ' ate ', '2020-07-22', '- valor: 3177')\n",
      "('Voo mais barato GRU -> MIA de:2020-07-07', ' ate ', '2020-07-22', '- valor: 3137')\n",
      "('Voo mais barato GIG -> ATL de:2020-07-05', ' ate ', '2020-07-20', '- valor: 5690')\n",
      "('Voo mais barato GIG -> MIA de:2020-07-02', ' ate ', '2020-07-17', '- valor: 3278')\n",
      "('Voo mais barato GIG -> MIA de:2020-07-02', ' ate ', '2020-07-18', '- valor: 3277')\n",
      "('Voo mais barato GIG -> MIA de:2020-07-02', ' ate ', '2020-07-19', '- valor: 3268')\n",
      "('Voo mais barato GIG -> MIA de:2020-07-03', ' ate ', '2020-07-17', '- valor: 3237')\n"
     ]
    }
   ],
   "source": [
    "resumo = []\n",
    "dfDict =[]\n",
    "\n",
    "for origem in origens:\n",
    "    for destino in destinos:  \n",
    "        minValue = 999999999\n",
    "        fraseFinal= ''\n",
    "        print(origem + ' -> '+ destino)\n",
    "        urlDecolar = '''https://www.decolar.com/shop/flights-busquets/api/v1/web/calendar-prices/matrix?adults=1&children=0&infants=0&limit=4&site=BR&channel=site&from={origem}&to={destino}&departureDate={dataInicial}&returnDate={dataFinal}&orderBy=total_price_ascending&viewMode=CLUSTER&language=pt_BR&clientType=WEB&initialOrigins={origem}&initialDestinations={destino}&pageViewId=b35e67df-abc9-4308-875f-c3810b3729e4&mustIncludeDates=NA_NA&currency=BRL&breakdownType=TOTAL_FARE_ONLY'''.format(dataInicial=dataInicial,dataFinal=dataFinal,origem=origem,destino=destino)\n",
    "        #print(urlDecolar)\n",
    "        with urllib.request.urlopen(urlDecolar) as url:\n",
    "            s = url.read()\n",
    "            data = json.loads(s.decode('utf-8'))\n",
    "            #print(data)\n",
    "            for p in data['departures']:\n",
    "                for arr in p['arrivals']:\n",
    "                    if 'price' in arr:\n",
    "                        dfDict.append({'DataPesquisa':datetime.now().strftime(\"%d/%m/%Y %H:%M:%S\"),'de':origem,'para':destino,'Ida': p['departureDate'],'Volta':arr['arrivalDate'],'preco':arr['price'][\"amount\"]})\n",
    "                        if specificDate:\n",
    "                            if p['departureDate'] == dataInicial and arr['arrivalDate'] == dataFinal:                                                                \n",
    "                                    if minValue > arr['price'][\"amount\"]:\n",
    "                                        minValue = arr['price'][\"amount\"]\n",
    "                                        fraseFinal = 'Voo mais barato '+origem + ' -> '+ destino+' de:' + p['departureDate'], ' ate ',arr['arrivalDate'],'- valor: ' + str(arr['price'][\"amount\"])                                \n",
    "                                        resumo.append(fraseFinal)\n",
    "                                    print('de:' + p['departureDate'], ' ate ',arr['arrivalDate'],'- valor: ' + str(arr['price'][\"amount\"]))                        \n",
    "                        else:                        \n",
    "                                if minValue > arr['price'][\"amount\"]:\n",
    "                                    minValue = arr['price'][\"amount\"]\n",
    "                                    fraseFinal = 'Voo mais barato '+origem + ' -> '+ destino+' de:' + p['departureDate'], ' ate ',arr['arrivalDate'],'- valor: ' + str(arr['price'][\"amount\"])                                \n",
    "                                    resumo.append(fraseFinal)\n",
    "                                print('de:' + p['departureDate'], ' ate ',arr['arrivalDate'],'- valor: ' + str(arr['price'][\"amount\"]))                        \n",
    "            print('')\n",
    "            print(fraseFinal)\n",
    "            print(minValue)\n",
    "            print('')\n",
    "                        \n",
    "for r in resumo:\n",
    "    print(r)\n",
    "                    "
   ]
  },
  {
   "cell_type": "code",
   "execution_count": 52,
   "metadata": {
    "scrolled": false
   },
   "outputs": [
    {
     "data": {
      "text/html": [
       "<div>\n",
       "<style scoped>\n",
       "    .dataframe tbody tr th:only-of-type {\n",
       "        vertical-align: middle;\n",
       "    }\n",
       "\n",
       "    .dataframe tbody tr th {\n",
       "        vertical-align: top;\n",
       "    }\n",
       "\n",
       "    .dataframe thead th {\n",
       "        text-align: right;\n",
       "    }\n",
       "</style>\n",
       "<table border=\"1\" class=\"dataframe\">\n",
       "  <thead>\n",
       "    <tr style=\"text-align: right;\">\n",
       "      <th></th>\n",
       "      <th>preco</th>\n",
       "    </tr>\n",
       "  </thead>\n",
       "  <tbody>\n",
       "    <tr>\n",
       "      <th>count</th>\n",
       "      <td>151.000000</td>\n",
       "    </tr>\n",
       "    <tr>\n",
       "      <th>mean</th>\n",
       "      <td>3568.821192</td>\n",
       "    </tr>\n",
       "    <tr>\n",
       "      <th>std</th>\n",
       "      <td>421.532997</td>\n",
       "    </tr>\n",
       "    <tr>\n",
       "      <th>min</th>\n",
       "      <td>3137.000000</td>\n",
       "    </tr>\n",
       "    <tr>\n",
       "      <th>25%</th>\n",
       "      <td>3354.000000</td>\n",
       "    </tr>\n",
       "    <tr>\n",
       "      <th>50%</th>\n",
       "      <td>3443.000000</td>\n",
       "    </tr>\n",
       "    <tr>\n",
       "      <th>75%</th>\n",
       "      <td>3703.000000</td>\n",
       "    </tr>\n",
       "    <tr>\n",
       "      <th>max</th>\n",
       "      <td>6177.000000</td>\n",
       "    </tr>\n",
       "  </tbody>\n",
       "</table>\n",
       "</div>"
      ],
      "text/plain": [
       "             preco\n",
       "count   151.000000\n",
       "mean   3568.821192\n",
       "std     421.532997\n",
       "min    3137.000000\n",
       "25%    3354.000000\n",
       "50%    3443.000000\n",
       "75%    3703.000000\n",
       "max    6177.000000"
      ]
     },
     "metadata": {},
     "output_type": "display_data"
    },
    {
     "data": {
      "text/html": [
       "<div>\n",
       "<style scoped>\n",
       "    .dataframe tbody tr th:only-of-type {\n",
       "        vertical-align: middle;\n",
       "    }\n",
       "\n",
       "    .dataframe tbody tr th {\n",
       "        vertical-align: top;\n",
       "    }\n",
       "\n",
       "    .dataframe thead th {\n",
       "        text-align: right;\n",
       "    }\n",
       "</style>\n",
       "<table border=\"1\" class=\"dataframe\">\n",
       "  <thead>\n",
       "    <tr style=\"text-align: right;\">\n",
       "      <th></th>\n",
       "      <th>DataPesquisa</th>\n",
       "      <th>Ida</th>\n",
       "      <th>Volta</th>\n",
       "      <th>de</th>\n",
       "      <th>para</th>\n",
       "      <th>preco</th>\n",
       "    </tr>\n",
       "  </thead>\n",
       "  <tbody>\n",
       "    <tr>\n",
       "      <th>91</th>\n",
       "      <td>17/01/2020 16:54:22</td>\n",
       "      <td>2020-07-07</td>\n",
       "      <td>2020-07-22</td>\n",
       "      <td>GRU</td>\n",
       "      <td>MIA</td>\n",
       "      <td>3137</td>\n",
       "    </tr>\n",
       "    <tr>\n",
       "      <th>84</th>\n",
       "      <td>17/01/2020 16:54:22</td>\n",
       "      <td>2020-07-06</td>\n",
       "      <td>2020-07-22</td>\n",
       "      <td>GRU</td>\n",
       "      <td>MIA</td>\n",
       "      <td>3177</td>\n",
       "    </tr>\n",
       "    <tr>\n",
       "      <th>98</th>\n",
       "      <td>17/01/2020 16:54:22</td>\n",
       "      <td>2020-07-08</td>\n",
       "      <td>2020-07-22</td>\n",
       "      <td>GRU</td>\n",
       "      <td>MIA</td>\n",
       "      <td>3199</td>\n",
       "    </tr>\n",
       "    <tr>\n",
       "      <th>97</th>\n",
       "      <td>17/01/2020 16:54:22</td>\n",
       "      <td>2020-07-08</td>\n",
       "      <td>2020-07-21</td>\n",
       "      <td>GRU</td>\n",
       "      <td>MIA</td>\n",
       "      <td>3212</td>\n",
       "    </tr>\n",
       "    <tr>\n",
       "      <th>83</th>\n",
       "      <td>17/01/2020 16:54:22</td>\n",
       "      <td>2020-07-06</td>\n",
       "      <td>2020-07-21</td>\n",
       "      <td>GRU</td>\n",
       "      <td>MIA</td>\n",
       "      <td>3226</td>\n",
       "    </tr>\n",
       "    <tr>\n",
       "      <th>109</th>\n",
       "      <td>17/01/2020 16:54:23</td>\n",
       "      <td>2020-07-03</td>\n",
       "      <td>2020-07-17</td>\n",
       "      <td>GIG</td>\n",
       "      <td>MIA</td>\n",
       "      <td>3237</td>\n",
       "    </tr>\n",
       "    <tr>\n",
       "      <th>56</th>\n",
       "      <td>17/01/2020 16:54:22</td>\n",
       "      <td>2020-07-02</td>\n",
       "      <td>2020-07-22</td>\n",
       "      <td>GRU</td>\n",
       "      <td>MIA</td>\n",
       "      <td>3238</td>\n",
       "    </tr>\n",
       "    <tr>\n",
       "      <th>92</th>\n",
       "      <td>17/01/2020 16:54:22</td>\n",
       "      <td>2020-07-07</td>\n",
       "      <td>2020-07-23</td>\n",
       "      <td>GRU</td>\n",
       "      <td>MIA</td>\n",
       "      <td>3246</td>\n",
       "    </tr>\n",
       "    <tr>\n",
       "      <th>85</th>\n",
       "      <td>17/01/2020 16:54:22</td>\n",
       "      <td>2020-07-06</td>\n",
       "      <td>2020-07-23</td>\n",
       "      <td>GRU</td>\n",
       "      <td>MIA</td>\n",
       "      <td>3254</td>\n",
       "    </tr>\n",
       "    <tr>\n",
       "      <th>57</th>\n",
       "      <td>17/01/2020 16:54:22</td>\n",
       "      <td>2020-07-02</td>\n",
       "      <td>2020-07-23</td>\n",
       "      <td>GRU</td>\n",
       "      <td>MIA</td>\n",
       "      <td>3263</td>\n",
       "    </tr>\n",
       "    <tr>\n",
       "      <th>55</th>\n",
       "      <td>17/01/2020 16:54:22</td>\n",
       "      <td>2020-07-02</td>\n",
       "      <td>2020-07-21</td>\n",
       "      <td>GRU</td>\n",
       "      <td>MIA</td>\n",
       "      <td>3266</td>\n",
       "    </tr>\n",
       "    <tr>\n",
       "      <th>104</th>\n",
       "      <td>17/01/2020 16:54:23</td>\n",
       "      <td>2020-07-02</td>\n",
       "      <td>2020-07-19</td>\n",
       "      <td>GIG</td>\n",
       "      <td>MIA</td>\n",
       "      <td>3268</td>\n",
       "    </tr>\n",
       "    <tr>\n",
       "      <th>110</th>\n",
       "      <td>17/01/2020 16:54:23</td>\n",
       "      <td>2020-07-03</td>\n",
       "      <td>2020-07-18</td>\n",
       "      <td>GIG</td>\n",
       "      <td>MIA</td>\n",
       "      <td>3270</td>\n",
       "    </tr>\n",
       "    <tr>\n",
       "      <th>111</th>\n",
       "      <td>17/01/2020 16:54:23</td>\n",
       "      <td>2020-07-03</td>\n",
       "      <td>2020-07-19</td>\n",
       "      <td>GIG</td>\n",
       "      <td>MIA</td>\n",
       "      <td>3272</td>\n",
       "    </tr>\n",
       "    <tr>\n",
       "      <th>103</th>\n",
       "      <td>17/01/2020 16:54:23</td>\n",
       "      <td>2020-07-02</td>\n",
       "      <td>2020-07-18</td>\n",
       "      <td>GIG</td>\n",
       "      <td>MIA</td>\n",
       "      <td>3277</td>\n",
       "    </tr>\n",
       "    <tr>\n",
       "      <th>102</th>\n",
       "      <td>17/01/2020 16:54:23</td>\n",
       "      <td>2020-07-02</td>\n",
       "      <td>2020-07-17</td>\n",
       "      <td>GIG</td>\n",
       "      <td>MIA</td>\n",
       "      <td>3278</td>\n",
       "    </tr>\n",
       "    <tr>\n",
       "      <th>75</th>\n",
       "      <td>17/01/2020 16:54:22</td>\n",
       "      <td>2020-07-05</td>\n",
       "      <td>2020-07-20</td>\n",
       "      <td>GRU</td>\n",
       "      <td>MIA</td>\n",
       "      <td>3279</td>\n",
       "    </tr>\n",
       "    <tr>\n",
       "      <th>124</th>\n",
       "      <td>17/01/2020 16:54:23</td>\n",
       "      <td>2020-07-05</td>\n",
       "      <td>2020-07-18</td>\n",
       "      <td>GIG</td>\n",
       "      <td>MIA</td>\n",
       "      <td>3283</td>\n",
       "    </tr>\n",
       "    <tr>\n",
       "      <th>90</th>\n",
       "      <td>17/01/2020 16:54:22</td>\n",
       "      <td>2020-07-07</td>\n",
       "      <td>2020-07-21</td>\n",
       "      <td>GRU</td>\n",
       "      <td>MIA</td>\n",
       "      <td>3286</td>\n",
       "    </tr>\n",
       "    <tr>\n",
       "      <th>117</th>\n",
       "      <td>17/01/2020 16:54:23</td>\n",
       "      <td>2020-07-04</td>\n",
       "      <td>2020-07-18</td>\n",
       "      <td>GIG</td>\n",
       "      <td>MIA</td>\n",
       "      <td>3290</td>\n",
       "    </tr>\n",
       "    <tr>\n",
       "      <th>125</th>\n",
       "      <td>17/01/2020 16:54:23</td>\n",
       "      <td>2020-07-05</td>\n",
       "      <td>2020-07-19</td>\n",
       "      <td>GIG</td>\n",
       "      <td>MIA</td>\n",
       "      <td>3293</td>\n",
       "    </tr>\n",
       "    <tr>\n",
       "      <th>68</th>\n",
       "      <td>17/01/2020 16:54:22</td>\n",
       "      <td>2020-07-04</td>\n",
       "      <td>2020-07-20</td>\n",
       "      <td>GRU</td>\n",
       "      <td>MIA</td>\n",
       "      <td>3294</td>\n",
       "    </tr>\n",
       "    <tr>\n",
       "      <th>69</th>\n",
       "      <td>17/01/2020 16:54:22</td>\n",
       "      <td>2020-07-04</td>\n",
       "      <td>2020-07-21</td>\n",
       "      <td>GRU</td>\n",
       "      <td>MIA</td>\n",
       "      <td>3295</td>\n",
       "    </tr>\n",
       "    <tr>\n",
       "      <th>63</th>\n",
       "      <td>17/01/2020 16:54:22</td>\n",
       "      <td>2020-07-03</td>\n",
       "      <td>2020-07-22</td>\n",
       "      <td>GRU</td>\n",
       "      <td>MIA</td>\n",
       "      <td>3295</td>\n",
       "    </tr>\n",
       "    <tr>\n",
       "      <th>116</th>\n",
       "      <td>17/01/2020 16:54:23</td>\n",
       "      <td>2020-07-04</td>\n",
       "      <td>2020-07-17</td>\n",
       "      <td>GIG</td>\n",
       "      <td>MIA</td>\n",
       "      <td>3296</td>\n",
       "    </tr>\n",
       "    <tr>\n",
       "      <th>118</th>\n",
       "      <td>17/01/2020 16:54:23</td>\n",
       "      <td>2020-07-04</td>\n",
       "      <td>2020-07-19</td>\n",
       "      <td>GIG</td>\n",
       "      <td>MIA</td>\n",
       "      <td>3300</td>\n",
       "    </tr>\n",
       "    <tr>\n",
       "      <th>62</th>\n",
       "      <td>17/01/2020 16:54:22</td>\n",
       "      <td>2020-07-03</td>\n",
       "      <td>2020-07-21</td>\n",
       "      <td>GRU</td>\n",
       "      <td>MIA</td>\n",
       "      <td>3301</td>\n",
       "    </tr>\n",
       "    <tr>\n",
       "      <th>77</th>\n",
       "      <td>17/01/2020 16:54:22</td>\n",
       "      <td>2020-07-05</td>\n",
       "      <td>2020-07-22</td>\n",
       "      <td>GRU</td>\n",
       "      <td>MIA</td>\n",
       "      <td>3307</td>\n",
       "    </tr>\n",
       "    <tr>\n",
       "      <th>70</th>\n",
       "      <td>17/01/2020 16:54:22</td>\n",
       "      <td>2020-07-04</td>\n",
       "      <td>2020-07-22</td>\n",
       "      <td>GRU</td>\n",
       "      <td>MIA</td>\n",
       "      <td>3312</td>\n",
       "    </tr>\n",
       "    <tr>\n",
       "      <th>64</th>\n",
       "      <td>17/01/2020 16:54:22</td>\n",
       "      <td>2020-07-03</td>\n",
       "      <td>2020-07-23</td>\n",
       "      <td>GRU</td>\n",
       "      <td>MIA</td>\n",
       "      <td>3316</td>\n",
       "    </tr>\n",
       "    <tr>\n",
       "      <th>...</th>\n",
       "      <td>...</td>\n",
       "      <td>...</td>\n",
       "      <td>...</td>\n",
       "      <td>...</td>\n",
       "      <td>...</td>\n",
       "      <td>...</td>\n",
       "    </tr>\n",
       "    <tr>\n",
       "      <th>14</th>\n",
       "      <td>17/01/2020 16:54:20</td>\n",
       "      <td>2020-07-03</td>\n",
       "      <td>2020-07-23</td>\n",
       "      <td>POA</td>\n",
       "      <td>MIA</td>\n",
       "      <td>3757</td>\n",
       "    </tr>\n",
       "    <tr>\n",
       "      <th>29</th>\n",
       "      <td>17/01/2020 16:54:20</td>\n",
       "      <td>2020-07-06</td>\n",
       "      <td>2020-07-17</td>\n",
       "      <td>POA</td>\n",
       "      <td>MIA</td>\n",
       "      <td>3757</td>\n",
       "    </tr>\n",
       "    <tr>\n",
       "      <th>43</th>\n",
       "      <td>17/01/2020 16:54:20</td>\n",
       "      <td>2020-07-08</td>\n",
       "      <td>2020-07-17</td>\n",
       "      <td>POA</td>\n",
       "      <td>MIA</td>\n",
       "      <td>3761</td>\n",
       "    </tr>\n",
       "    <tr>\n",
       "      <th>9</th>\n",
       "      <td>17/01/2020 16:54:20</td>\n",
       "      <td>2020-07-03</td>\n",
       "      <td>2020-07-18</td>\n",
       "      <td>POA</td>\n",
       "      <td>MIA</td>\n",
       "      <td>3762</td>\n",
       "    </tr>\n",
       "    <tr>\n",
       "      <th>138</th>\n",
       "      <td>17/01/2020 16:54:23</td>\n",
       "      <td>2020-07-07</td>\n",
       "      <td>2020-07-18</td>\n",
       "      <td>GIG</td>\n",
       "      <td>MIA</td>\n",
       "      <td>3765</td>\n",
       "    </tr>\n",
       "    <tr>\n",
       "      <th>59</th>\n",
       "      <td>17/01/2020 16:54:22</td>\n",
       "      <td>2020-07-03</td>\n",
       "      <td>2020-07-18</td>\n",
       "      <td>GRU</td>\n",
       "      <td>MIA</td>\n",
       "      <td>3779</td>\n",
       "    </tr>\n",
       "    <tr>\n",
       "      <th>66</th>\n",
       "      <td>17/01/2020 16:54:22</td>\n",
       "      <td>2020-07-04</td>\n",
       "      <td>2020-07-18</td>\n",
       "      <td>GRU</td>\n",
       "      <td>MIA</td>\n",
       "      <td>3779</td>\n",
       "    </tr>\n",
       "    <tr>\n",
       "      <th>18</th>\n",
       "      <td>17/01/2020 16:54:20</td>\n",
       "      <td>2020-07-04</td>\n",
       "      <td>2020-07-20</td>\n",
       "      <td>POA</td>\n",
       "      <td>MIA</td>\n",
       "      <td>3786</td>\n",
       "    </tr>\n",
       "    <tr>\n",
       "      <th>15</th>\n",
       "      <td>17/01/2020 16:54:20</td>\n",
       "      <td>2020-07-04</td>\n",
       "      <td>2020-07-17</td>\n",
       "      <td>POA</td>\n",
       "      <td>MIA</td>\n",
       "      <td>3790</td>\n",
       "    </tr>\n",
       "    <tr>\n",
       "      <th>48</th>\n",
       "      <td>17/01/2020 16:54:20</td>\n",
       "      <td>2020-07-08</td>\n",
       "      <td>2020-07-22</td>\n",
       "      <td>POA</td>\n",
       "      <td>MIA</td>\n",
       "      <td>3792</td>\n",
       "    </tr>\n",
       "    <tr>\n",
       "      <th>47</th>\n",
       "      <td>17/01/2020 16:54:20</td>\n",
       "      <td>2020-07-08</td>\n",
       "      <td>2020-07-21</td>\n",
       "      <td>POA</td>\n",
       "      <td>MIA</td>\n",
       "      <td>3800</td>\n",
       "    </tr>\n",
       "    <tr>\n",
       "      <th>10</th>\n",
       "      <td>17/01/2020 16:54:20</td>\n",
       "      <td>2020-07-03</td>\n",
       "      <td>2020-07-19</td>\n",
       "      <td>POA</td>\n",
       "      <td>MIA</td>\n",
       "      <td>3803</td>\n",
       "    </tr>\n",
       "    <tr>\n",
       "      <th>20</th>\n",
       "      <td>17/01/2020 16:54:20</td>\n",
       "      <td>2020-07-04</td>\n",
       "      <td>2020-07-22</td>\n",
       "      <td>POA</td>\n",
       "      <td>MIA</td>\n",
       "      <td>3806</td>\n",
       "    </tr>\n",
       "    <tr>\n",
       "      <th>21</th>\n",
       "      <td>17/01/2020 16:54:20</td>\n",
       "      <td>2020-07-04</td>\n",
       "      <td>2020-07-23</td>\n",
       "      <td>POA</td>\n",
       "      <td>MIA</td>\n",
       "      <td>3823</td>\n",
       "    </tr>\n",
       "    <tr>\n",
       "      <th>26</th>\n",
       "      <td>17/01/2020 16:54:20</td>\n",
       "      <td>2020-07-05</td>\n",
       "      <td>2020-07-21</td>\n",
       "      <td>POA</td>\n",
       "      <td>MIA</td>\n",
       "      <td>3851</td>\n",
       "    </tr>\n",
       "    <tr>\n",
       "      <th>45</th>\n",
       "      <td>17/01/2020 16:54:20</td>\n",
       "      <td>2020-07-08</td>\n",
       "      <td>2020-07-19</td>\n",
       "      <td>POA</td>\n",
       "      <td>MIA</td>\n",
       "      <td>3853</td>\n",
       "    </tr>\n",
       "    <tr>\n",
       "      <th>46</th>\n",
       "      <td>17/01/2020 16:54:20</td>\n",
       "      <td>2020-07-08</td>\n",
       "      <td>2020-07-20</td>\n",
       "      <td>POA</td>\n",
       "      <td>MIA</td>\n",
       "      <td>3868</td>\n",
       "    </tr>\n",
       "    <tr>\n",
       "      <th>3</th>\n",
       "      <td>17/01/2020 16:54:20</td>\n",
       "      <td>2020-07-02</td>\n",
       "      <td>2020-07-19</td>\n",
       "      <td>POA</td>\n",
       "      <td>MIA</td>\n",
       "      <td>3873</td>\n",
       "    </tr>\n",
       "    <tr>\n",
       "      <th>25</th>\n",
       "      <td>17/01/2020 16:54:20</td>\n",
       "      <td>2020-07-05</td>\n",
       "      <td>2020-07-20</td>\n",
       "      <td>POA</td>\n",
       "      <td>MIA</td>\n",
       "      <td>3876</td>\n",
       "    </tr>\n",
       "    <tr>\n",
       "      <th>17</th>\n",
       "      <td>17/01/2020 16:54:20</td>\n",
       "      <td>2020-07-04</td>\n",
       "      <td>2020-07-19</td>\n",
       "      <td>POA</td>\n",
       "      <td>MIA</td>\n",
       "      <td>3880</td>\n",
       "    </tr>\n",
       "    <tr>\n",
       "      <th>22</th>\n",
       "      <td>17/01/2020 16:54:20</td>\n",
       "      <td>2020-07-05</td>\n",
       "      <td>2020-07-17</td>\n",
       "      <td>POA</td>\n",
       "      <td>MIA</td>\n",
       "      <td>3888</td>\n",
       "    </tr>\n",
       "    <tr>\n",
       "      <th>27</th>\n",
       "      <td>17/01/2020 16:54:20</td>\n",
       "      <td>2020-07-05</td>\n",
       "      <td>2020-07-22</td>\n",
       "      <td>POA</td>\n",
       "      <td>MIA</td>\n",
       "      <td>3910</td>\n",
       "    </tr>\n",
       "    <tr>\n",
       "      <th>28</th>\n",
       "      <td>17/01/2020 16:54:20</td>\n",
       "      <td>2020-07-05</td>\n",
       "      <td>2020-07-23</td>\n",
       "      <td>POA</td>\n",
       "      <td>MIA</td>\n",
       "      <td>3921</td>\n",
       "    </tr>\n",
       "    <tr>\n",
       "      <th>23</th>\n",
       "      <td>17/01/2020 16:54:20</td>\n",
       "      <td>2020-07-05</td>\n",
       "      <td>2020-07-18</td>\n",
       "      <td>POA</td>\n",
       "      <td>MIA</td>\n",
       "      <td>3974</td>\n",
       "    </tr>\n",
       "    <tr>\n",
       "      <th>24</th>\n",
       "      <td>17/01/2020 16:54:20</td>\n",
       "      <td>2020-07-05</td>\n",
       "      <td>2020-07-19</td>\n",
       "      <td>POA</td>\n",
       "      <td>MIA</td>\n",
       "      <td>3992</td>\n",
       "    </tr>\n",
       "    <tr>\n",
       "      <th>16</th>\n",
       "      <td>17/01/2020 16:54:20</td>\n",
       "      <td>2020-07-04</td>\n",
       "      <td>2020-07-18</td>\n",
       "      <td>POA</td>\n",
       "      <td>MIA</td>\n",
       "      <td>4025</td>\n",
       "    </tr>\n",
       "    <tr>\n",
       "      <th>50</th>\n",
       "      <td>17/01/2020 16:54:21</td>\n",
       "      <td>2020-07-05</td>\n",
       "      <td>2020-07-20</td>\n",
       "      <td>GRU</td>\n",
       "      <td>ATL</td>\n",
       "      <td>4865</td>\n",
       "    </tr>\n",
       "    <tr>\n",
       "      <th>100</th>\n",
       "      <td>17/01/2020 16:54:22</td>\n",
       "      <td>2020-07-05</td>\n",
       "      <td>2020-07-20</td>\n",
       "      <td>GIG</td>\n",
       "      <td>ATL</td>\n",
       "      <td>5690</td>\n",
       "    </tr>\n",
       "    <tr>\n",
       "      <th>0</th>\n",
       "      <td>17/01/2020 16:54:19</td>\n",
       "      <td>2020-07-05</td>\n",
       "      <td>2020-07-20</td>\n",
       "      <td>POA</td>\n",
       "      <td>ATL</td>\n",
       "      <td>6175</td>\n",
       "    </tr>\n",
       "    <tr>\n",
       "      <th>101</th>\n",
       "      <td>17/01/2020 16:54:22</td>\n",
       "      <td>2020-07-07</td>\n",
       "      <td>2020-07-18</td>\n",
       "      <td>GIG</td>\n",
       "      <td>ATL</td>\n",
       "      <td>6177</td>\n",
       "    </tr>\n",
       "  </tbody>\n",
       "</table>\n",
       "<p>151 rows × 6 columns</p>\n",
       "</div>"
      ],
      "text/plain": [
       "            DataPesquisa         Ida       Volta   de para  preco\n",
       "91   17/01/2020 16:54:22  2020-07-07  2020-07-22  GRU  MIA   3137\n",
       "84   17/01/2020 16:54:22  2020-07-06  2020-07-22  GRU  MIA   3177\n",
       "98   17/01/2020 16:54:22  2020-07-08  2020-07-22  GRU  MIA   3199\n",
       "97   17/01/2020 16:54:22  2020-07-08  2020-07-21  GRU  MIA   3212\n",
       "83   17/01/2020 16:54:22  2020-07-06  2020-07-21  GRU  MIA   3226\n",
       "109  17/01/2020 16:54:23  2020-07-03  2020-07-17  GIG  MIA   3237\n",
       "56   17/01/2020 16:54:22  2020-07-02  2020-07-22  GRU  MIA   3238\n",
       "92   17/01/2020 16:54:22  2020-07-07  2020-07-23  GRU  MIA   3246\n",
       "85   17/01/2020 16:54:22  2020-07-06  2020-07-23  GRU  MIA   3254\n",
       "57   17/01/2020 16:54:22  2020-07-02  2020-07-23  GRU  MIA   3263\n",
       "55   17/01/2020 16:54:22  2020-07-02  2020-07-21  GRU  MIA   3266\n",
       "104  17/01/2020 16:54:23  2020-07-02  2020-07-19  GIG  MIA   3268\n",
       "110  17/01/2020 16:54:23  2020-07-03  2020-07-18  GIG  MIA   3270\n",
       "111  17/01/2020 16:54:23  2020-07-03  2020-07-19  GIG  MIA   3272\n",
       "103  17/01/2020 16:54:23  2020-07-02  2020-07-18  GIG  MIA   3277\n",
       "102  17/01/2020 16:54:23  2020-07-02  2020-07-17  GIG  MIA   3278\n",
       "75   17/01/2020 16:54:22  2020-07-05  2020-07-20  GRU  MIA   3279\n",
       "124  17/01/2020 16:54:23  2020-07-05  2020-07-18  GIG  MIA   3283\n",
       "90   17/01/2020 16:54:22  2020-07-07  2020-07-21  GRU  MIA   3286\n",
       "117  17/01/2020 16:54:23  2020-07-04  2020-07-18  GIG  MIA   3290\n",
       "125  17/01/2020 16:54:23  2020-07-05  2020-07-19  GIG  MIA   3293\n",
       "68   17/01/2020 16:54:22  2020-07-04  2020-07-20  GRU  MIA   3294\n",
       "69   17/01/2020 16:54:22  2020-07-04  2020-07-21  GRU  MIA   3295\n",
       "63   17/01/2020 16:54:22  2020-07-03  2020-07-22  GRU  MIA   3295\n",
       "116  17/01/2020 16:54:23  2020-07-04  2020-07-17  GIG  MIA   3296\n",
       "118  17/01/2020 16:54:23  2020-07-04  2020-07-19  GIG  MIA   3300\n",
       "62   17/01/2020 16:54:22  2020-07-03  2020-07-21  GRU  MIA   3301\n",
       "77   17/01/2020 16:54:22  2020-07-05  2020-07-22  GRU  MIA   3307\n",
       "70   17/01/2020 16:54:22  2020-07-04  2020-07-22  GRU  MIA   3312\n",
       "64   17/01/2020 16:54:22  2020-07-03  2020-07-23  GRU  MIA   3316\n",
       "..                   ...         ...         ...  ...  ...    ...\n",
       "14   17/01/2020 16:54:20  2020-07-03  2020-07-23  POA  MIA   3757\n",
       "29   17/01/2020 16:54:20  2020-07-06  2020-07-17  POA  MIA   3757\n",
       "43   17/01/2020 16:54:20  2020-07-08  2020-07-17  POA  MIA   3761\n",
       "9    17/01/2020 16:54:20  2020-07-03  2020-07-18  POA  MIA   3762\n",
       "138  17/01/2020 16:54:23  2020-07-07  2020-07-18  GIG  MIA   3765\n",
       "59   17/01/2020 16:54:22  2020-07-03  2020-07-18  GRU  MIA   3779\n",
       "66   17/01/2020 16:54:22  2020-07-04  2020-07-18  GRU  MIA   3779\n",
       "18   17/01/2020 16:54:20  2020-07-04  2020-07-20  POA  MIA   3786\n",
       "15   17/01/2020 16:54:20  2020-07-04  2020-07-17  POA  MIA   3790\n",
       "48   17/01/2020 16:54:20  2020-07-08  2020-07-22  POA  MIA   3792\n",
       "47   17/01/2020 16:54:20  2020-07-08  2020-07-21  POA  MIA   3800\n",
       "10   17/01/2020 16:54:20  2020-07-03  2020-07-19  POA  MIA   3803\n",
       "20   17/01/2020 16:54:20  2020-07-04  2020-07-22  POA  MIA   3806\n",
       "21   17/01/2020 16:54:20  2020-07-04  2020-07-23  POA  MIA   3823\n",
       "26   17/01/2020 16:54:20  2020-07-05  2020-07-21  POA  MIA   3851\n",
       "45   17/01/2020 16:54:20  2020-07-08  2020-07-19  POA  MIA   3853\n",
       "46   17/01/2020 16:54:20  2020-07-08  2020-07-20  POA  MIA   3868\n",
       "3    17/01/2020 16:54:20  2020-07-02  2020-07-19  POA  MIA   3873\n",
       "25   17/01/2020 16:54:20  2020-07-05  2020-07-20  POA  MIA   3876\n",
       "17   17/01/2020 16:54:20  2020-07-04  2020-07-19  POA  MIA   3880\n",
       "22   17/01/2020 16:54:20  2020-07-05  2020-07-17  POA  MIA   3888\n",
       "27   17/01/2020 16:54:20  2020-07-05  2020-07-22  POA  MIA   3910\n",
       "28   17/01/2020 16:54:20  2020-07-05  2020-07-23  POA  MIA   3921\n",
       "23   17/01/2020 16:54:20  2020-07-05  2020-07-18  POA  MIA   3974\n",
       "24   17/01/2020 16:54:20  2020-07-05  2020-07-19  POA  MIA   3992\n",
       "16   17/01/2020 16:54:20  2020-07-04  2020-07-18  POA  MIA   4025\n",
       "50   17/01/2020 16:54:21  2020-07-05  2020-07-20  GRU  ATL   4865\n",
       "100  17/01/2020 16:54:22  2020-07-05  2020-07-20  GIG  ATL   5690\n",
       "0    17/01/2020 16:54:19  2020-07-05  2020-07-20  POA  ATL   6175\n",
       "101  17/01/2020 16:54:22  2020-07-07  2020-07-18  GIG  ATL   6177\n",
       "\n",
       "[151 rows x 6 columns]"
      ]
     },
     "metadata": {},
     "output_type": "display_data"
    }
   ],
   "source": [
    "df = pd.DataFrame.from_dict(dfDict)\n",
    "\n",
    "if specificDate:\n",
    "    df = df[df['Ida']==dataInicial]\n",
    "    df = df[df['Volta']==dataFinal]\n",
    "display(df.describe())\n",
    "display(df.sort_values(by='preco',ascending=True))"
   ]
  },
  {
   "cell_type": "code",
   "execution_count": 53,
   "metadata": {},
   "outputs": [],
   "source": [
    "with open('historicoPesquisaPrecos.csv', 'a') as f:\n",
    "    df.to_csv(f, mode='a',header=f.tell()==0)"
   ]
  },
  {
   "cell_type": "code",
   "execution_count": 54,
   "metadata": {},
   "outputs": [],
   "source": [
    "dfGrafico = pd.read_csv(\"historicoPesquisaPrecos.csv\") \n",
    "dfGrafico['DataPesquisa'] = dfGrafico['DataPesquisa'].apply(lambda x:x[0:13])\n",
    "dfGrafico['DataPesquisaDATA']=dfGrafico['DataPesquisa'].apply(lambda x:pd.to_datetime(x[0:10]))\n",
    "dfGrafico['Dias'] = dfGrafico.apply(lambda x: int(str(pd.to_datetime(x['Volta'])- pd.to_datetime(x['Ida']))[0:2]),axis=1)"
   ]
  },
  {
   "cell_type": "code",
   "execution_count": 55,
   "metadata": {
    "scrolled": true
   },
   "outputs": [
    {
     "data": {
      "text/html": [
       "<div>\n",
       "<style scoped>\n",
       "    .dataframe tbody tr th:only-of-type {\n",
       "        vertical-align: middle;\n",
       "    }\n",
       "\n",
       "    .dataframe tbody tr th {\n",
       "        vertical-align: top;\n",
       "    }\n",
       "\n",
       "    .dataframe thead th {\n",
       "        text-align: right;\n",
       "    }\n",
       "</style>\n",
       "<table border=\"1\" class=\"dataframe\">\n",
       "  <thead>\n",
       "    <tr style=\"text-align: right;\">\n",
       "      <th></th>\n",
       "      <th>Unnamed: 0</th>\n",
       "      <th>DataPesquisa</th>\n",
       "      <th>Ida</th>\n",
       "      <th>Volta</th>\n",
       "      <th>de</th>\n",
       "      <th>para</th>\n",
       "      <th>preco</th>\n",
       "      <th>DataPesquisaDATA</th>\n",
       "      <th>Dias</th>\n",
       "      <th>OrigemDestino</th>\n",
       "      <th>EspecificoIda</th>\n",
       "      <th>EspecificoVolta</th>\n",
       "      <th>EspecificoTodos</th>\n",
       "    </tr>\n",
       "  </thead>\n",
       "  <tbody>\n",
       "    <tr>\n",
       "      <th>0</th>\n",
       "      <td>0</td>\n",
       "      <td>16/01/2020 15</td>\n",
       "      <td>2020-07-05</td>\n",
       "      <td>2020-07-20</td>\n",
       "      <td>POA</td>\n",
       "      <td>ATL</td>\n",
       "      <td>6561</td>\n",
       "      <td>2020-01-16</td>\n",
       "      <td>15</td>\n",
       "      <td>POAATL</td>\n",
       "      <td>POAATL-2020-07-05</td>\n",
       "      <td>POAATL-2020-07-20</td>\n",
       "      <td>POAATL-2020-07-05-2020-07-20</td>\n",
       "    </tr>\n",
       "    <tr>\n",
       "      <th>1</th>\n",
       "      <td>1</td>\n",
       "      <td>16/01/2020 15</td>\n",
       "      <td>2020-07-02</td>\n",
       "      <td>2020-07-17</td>\n",
       "      <td>POA</td>\n",
       "      <td>MIA</td>\n",
       "      <td>3834</td>\n",
       "      <td>2020-01-16</td>\n",
       "      <td>15</td>\n",
       "      <td>POAMIA</td>\n",
       "      <td>POAMIA-2020-07-02</td>\n",
       "      <td>POAMIA-2020-07-17</td>\n",
       "      <td>POAMIA-2020-07-02-2020-07-17</td>\n",
       "    </tr>\n",
       "    <tr>\n",
       "      <th>2</th>\n",
       "      <td>2</td>\n",
       "      <td>16/01/2020 15</td>\n",
       "      <td>2020-07-02</td>\n",
       "      <td>2020-07-18</td>\n",
       "      <td>POA</td>\n",
       "      <td>MIA</td>\n",
       "      <td>3864</td>\n",
       "      <td>2020-01-16</td>\n",
       "      <td>16</td>\n",
       "      <td>POAMIA</td>\n",
       "      <td>POAMIA-2020-07-02</td>\n",
       "      <td>POAMIA-2020-07-18</td>\n",
       "      <td>POAMIA-2020-07-02-2020-07-18</td>\n",
       "    </tr>\n",
       "    <tr>\n",
       "      <th>3</th>\n",
       "      <td>3</td>\n",
       "      <td>16/01/2020 15</td>\n",
       "      <td>2020-07-02</td>\n",
       "      <td>2020-07-19</td>\n",
       "      <td>POA</td>\n",
       "      <td>MIA</td>\n",
       "      <td>4003</td>\n",
       "      <td>2020-01-16</td>\n",
       "      <td>17</td>\n",
       "      <td>POAMIA</td>\n",
       "      <td>POAMIA-2020-07-02</td>\n",
       "      <td>POAMIA-2020-07-19</td>\n",
       "      <td>POAMIA-2020-07-02-2020-07-19</td>\n",
       "    </tr>\n",
       "    <tr>\n",
       "      <th>4</th>\n",
       "      <td>4</td>\n",
       "      <td>16/01/2020 15</td>\n",
       "      <td>2020-07-02</td>\n",
       "      <td>2020-07-20</td>\n",
       "      <td>POA</td>\n",
       "      <td>MIA</td>\n",
       "      <td>3892</td>\n",
       "      <td>2020-01-16</td>\n",
       "      <td>18</td>\n",
       "      <td>POAMIA</td>\n",
       "      <td>POAMIA-2020-07-02</td>\n",
       "      <td>POAMIA-2020-07-20</td>\n",
       "      <td>POAMIA-2020-07-02-2020-07-20</td>\n",
       "    </tr>\n",
       "    <tr>\n",
       "      <th>5</th>\n",
       "      <td>5</td>\n",
       "      <td>16/01/2020 15</td>\n",
       "      <td>2020-07-02</td>\n",
       "      <td>2020-07-21</td>\n",
       "      <td>POA</td>\n",
       "      <td>MIA</td>\n",
       "      <td>3922</td>\n",
       "      <td>2020-01-16</td>\n",
       "      <td>19</td>\n",
       "      <td>POAMIA</td>\n",
       "      <td>POAMIA-2020-07-02</td>\n",
       "      <td>POAMIA-2020-07-21</td>\n",
       "      <td>POAMIA-2020-07-02-2020-07-21</td>\n",
       "    </tr>\n",
       "    <tr>\n",
       "      <th>6</th>\n",
       "      <td>6</td>\n",
       "      <td>16/01/2020 15</td>\n",
       "      <td>2020-07-02</td>\n",
       "      <td>2020-07-22</td>\n",
       "      <td>POA</td>\n",
       "      <td>MIA</td>\n",
       "      <td>3919</td>\n",
       "      <td>2020-01-16</td>\n",
       "      <td>20</td>\n",
       "      <td>POAMIA</td>\n",
       "      <td>POAMIA-2020-07-02</td>\n",
       "      <td>POAMIA-2020-07-22</td>\n",
       "      <td>POAMIA-2020-07-02-2020-07-22</td>\n",
       "    </tr>\n",
       "    <tr>\n",
       "      <th>7</th>\n",
       "      <td>7</td>\n",
       "      <td>16/01/2020 15</td>\n",
       "      <td>2020-07-02</td>\n",
       "      <td>2020-07-23</td>\n",
       "      <td>POA</td>\n",
       "      <td>MIA</td>\n",
       "      <td>3928</td>\n",
       "      <td>2020-01-16</td>\n",
       "      <td>21</td>\n",
       "      <td>POAMIA</td>\n",
       "      <td>POAMIA-2020-07-02</td>\n",
       "      <td>POAMIA-2020-07-23</td>\n",
       "      <td>POAMIA-2020-07-02-2020-07-23</td>\n",
       "    </tr>\n",
       "    <tr>\n",
       "      <th>8</th>\n",
       "      <td>8</td>\n",
       "      <td>16/01/2020 15</td>\n",
       "      <td>2020-07-03</td>\n",
       "      <td>2020-07-17</td>\n",
       "      <td>POA</td>\n",
       "      <td>MIA</td>\n",
       "      <td>3766</td>\n",
       "      <td>2020-01-16</td>\n",
       "      <td>14</td>\n",
       "      <td>POAMIA</td>\n",
       "      <td>POAMIA-2020-07-03</td>\n",
       "      <td>POAMIA-2020-07-17</td>\n",
       "      <td>POAMIA-2020-07-03-2020-07-17</td>\n",
       "    </tr>\n",
       "    <tr>\n",
       "      <th>9</th>\n",
       "      <td>9</td>\n",
       "      <td>16/01/2020 15</td>\n",
       "      <td>2020-07-03</td>\n",
       "      <td>2020-07-18</td>\n",
       "      <td>POA</td>\n",
       "      <td>MIA</td>\n",
       "      <td>3781</td>\n",
       "      <td>2020-01-16</td>\n",
       "      <td>15</td>\n",
       "      <td>POAMIA</td>\n",
       "      <td>POAMIA-2020-07-03</td>\n",
       "      <td>POAMIA-2020-07-18</td>\n",
       "      <td>POAMIA-2020-07-03-2020-07-18</td>\n",
       "    </tr>\n",
       "    <tr>\n",
       "      <th>10</th>\n",
       "      <td>10</td>\n",
       "      <td>16/01/2020 15</td>\n",
       "      <td>2020-07-03</td>\n",
       "      <td>2020-07-19</td>\n",
       "      <td>POA</td>\n",
       "      <td>MIA</td>\n",
       "      <td>3789</td>\n",
       "      <td>2020-01-16</td>\n",
       "      <td>16</td>\n",
       "      <td>POAMIA</td>\n",
       "      <td>POAMIA-2020-07-03</td>\n",
       "      <td>POAMIA-2020-07-19</td>\n",
       "      <td>POAMIA-2020-07-03-2020-07-19</td>\n",
       "    </tr>\n",
       "    <tr>\n",
       "      <th>11</th>\n",
       "      <td>11</td>\n",
       "      <td>16/01/2020 15</td>\n",
       "      <td>2020-07-03</td>\n",
       "      <td>2020-07-20</td>\n",
       "      <td>POA</td>\n",
       "      <td>MIA</td>\n",
       "      <td>3748</td>\n",
       "      <td>2020-01-16</td>\n",
       "      <td>17</td>\n",
       "      <td>POAMIA</td>\n",
       "      <td>POAMIA-2020-07-03</td>\n",
       "      <td>POAMIA-2020-07-20</td>\n",
       "      <td>POAMIA-2020-07-03-2020-07-20</td>\n",
       "    </tr>\n",
       "    <tr>\n",
       "      <th>12</th>\n",
       "      <td>12</td>\n",
       "      <td>16/01/2020 15</td>\n",
       "      <td>2020-07-03</td>\n",
       "      <td>2020-07-21</td>\n",
       "      <td>POA</td>\n",
       "      <td>MIA</td>\n",
       "      <td>3761</td>\n",
       "      <td>2020-01-16</td>\n",
       "      <td>18</td>\n",
       "      <td>POAMIA</td>\n",
       "      <td>POAMIA-2020-07-03</td>\n",
       "      <td>POAMIA-2020-07-21</td>\n",
       "      <td>POAMIA-2020-07-03-2020-07-21</td>\n",
       "    </tr>\n",
       "    <tr>\n",
       "      <th>13</th>\n",
       "      <td>13</td>\n",
       "      <td>16/01/2020 15</td>\n",
       "      <td>2020-07-03</td>\n",
       "      <td>2020-07-22</td>\n",
       "      <td>POA</td>\n",
       "      <td>MIA</td>\n",
       "      <td>3781</td>\n",
       "      <td>2020-01-16</td>\n",
       "      <td>19</td>\n",
       "      <td>POAMIA</td>\n",
       "      <td>POAMIA-2020-07-03</td>\n",
       "      <td>POAMIA-2020-07-22</td>\n",
       "      <td>POAMIA-2020-07-03-2020-07-22</td>\n",
       "    </tr>\n",
       "    <tr>\n",
       "      <th>14</th>\n",
       "      <td>14</td>\n",
       "      <td>16/01/2020 15</td>\n",
       "      <td>2020-07-03</td>\n",
       "      <td>2020-07-23</td>\n",
       "      <td>POA</td>\n",
       "      <td>MIA</td>\n",
       "      <td>3807</td>\n",
       "      <td>2020-01-16</td>\n",
       "      <td>20</td>\n",
       "      <td>POAMIA</td>\n",
       "      <td>POAMIA-2020-07-03</td>\n",
       "      <td>POAMIA-2020-07-23</td>\n",
       "      <td>POAMIA-2020-07-03-2020-07-23</td>\n",
       "    </tr>\n",
       "    <tr>\n",
       "      <th>15</th>\n",
       "      <td>15</td>\n",
       "      <td>16/01/2020 15</td>\n",
       "      <td>2020-07-04</td>\n",
       "      <td>2020-07-17</td>\n",
       "      <td>POA</td>\n",
       "      <td>MIA</td>\n",
       "      <td>3781</td>\n",
       "      <td>2020-01-16</td>\n",
       "      <td>13</td>\n",
       "      <td>POAMIA</td>\n",
       "      <td>POAMIA-2020-07-04</td>\n",
       "      <td>POAMIA-2020-07-17</td>\n",
       "      <td>POAMIA-2020-07-04-2020-07-17</td>\n",
       "    </tr>\n",
       "    <tr>\n",
       "      <th>16</th>\n",
       "      <td>16</td>\n",
       "      <td>16/01/2020 15</td>\n",
       "      <td>2020-07-04</td>\n",
       "      <td>2020-07-18</td>\n",
       "      <td>POA</td>\n",
       "      <td>MIA</td>\n",
       "      <td>3825</td>\n",
       "      <td>2020-01-16</td>\n",
       "      <td>14</td>\n",
       "      <td>POAMIA</td>\n",
       "      <td>POAMIA-2020-07-04</td>\n",
       "      <td>POAMIA-2020-07-18</td>\n",
       "      <td>POAMIA-2020-07-04-2020-07-18</td>\n",
       "    </tr>\n",
       "    <tr>\n",
       "      <th>17</th>\n",
       "      <td>17</td>\n",
       "      <td>16/01/2020 15</td>\n",
       "      <td>2020-07-04</td>\n",
       "      <td>2020-07-19</td>\n",
       "      <td>POA</td>\n",
       "      <td>MIA</td>\n",
       "      <td>3823</td>\n",
       "      <td>2020-01-16</td>\n",
       "      <td>15</td>\n",
       "      <td>POAMIA</td>\n",
       "      <td>POAMIA-2020-07-04</td>\n",
       "      <td>POAMIA-2020-07-19</td>\n",
       "      <td>POAMIA-2020-07-04-2020-07-19</td>\n",
       "    </tr>\n",
       "    <tr>\n",
       "      <th>18</th>\n",
       "      <td>18</td>\n",
       "      <td>16/01/2020 15</td>\n",
       "      <td>2020-07-04</td>\n",
       "      <td>2020-07-20</td>\n",
       "      <td>POA</td>\n",
       "      <td>MIA</td>\n",
       "      <td>3838</td>\n",
       "      <td>2020-01-16</td>\n",
       "      <td>16</td>\n",
       "      <td>POAMIA</td>\n",
       "      <td>POAMIA-2020-07-04</td>\n",
       "      <td>POAMIA-2020-07-20</td>\n",
       "      <td>POAMIA-2020-07-04-2020-07-20</td>\n",
       "    </tr>\n",
       "    <tr>\n",
       "      <th>19</th>\n",
       "      <td>19</td>\n",
       "      <td>16/01/2020 15</td>\n",
       "      <td>2020-07-04</td>\n",
       "      <td>2020-07-21</td>\n",
       "      <td>POA</td>\n",
       "      <td>MIA</td>\n",
       "      <td>3878</td>\n",
       "      <td>2020-01-16</td>\n",
       "      <td>17</td>\n",
       "      <td>POAMIA</td>\n",
       "      <td>POAMIA-2020-07-04</td>\n",
       "      <td>POAMIA-2020-07-21</td>\n",
       "      <td>POAMIA-2020-07-04-2020-07-21</td>\n",
       "    </tr>\n",
       "    <tr>\n",
       "      <th>20</th>\n",
       "      <td>20</td>\n",
       "      <td>16/01/2020 15</td>\n",
       "      <td>2020-07-04</td>\n",
       "      <td>2020-07-22</td>\n",
       "      <td>POA</td>\n",
       "      <td>MIA</td>\n",
       "      <td>3900</td>\n",
       "      <td>2020-01-16</td>\n",
       "      <td>18</td>\n",
       "      <td>POAMIA</td>\n",
       "      <td>POAMIA-2020-07-04</td>\n",
       "      <td>POAMIA-2020-07-22</td>\n",
       "      <td>POAMIA-2020-07-04-2020-07-22</td>\n",
       "    </tr>\n",
       "    <tr>\n",
       "      <th>21</th>\n",
       "      <td>21</td>\n",
       "      <td>16/01/2020 15</td>\n",
       "      <td>2020-07-04</td>\n",
       "      <td>2020-07-23</td>\n",
       "      <td>POA</td>\n",
       "      <td>MIA</td>\n",
       "      <td>3923</td>\n",
       "      <td>2020-01-16</td>\n",
       "      <td>19</td>\n",
       "      <td>POAMIA</td>\n",
       "      <td>POAMIA-2020-07-04</td>\n",
       "      <td>POAMIA-2020-07-23</td>\n",
       "      <td>POAMIA-2020-07-04-2020-07-23</td>\n",
       "    </tr>\n",
       "    <tr>\n",
       "      <th>22</th>\n",
       "      <td>22</td>\n",
       "      <td>16/01/2020 15</td>\n",
       "      <td>2020-07-05</td>\n",
       "      <td>2020-07-17</td>\n",
       "      <td>POA</td>\n",
       "      <td>MIA</td>\n",
       "      <td>3930</td>\n",
       "      <td>2020-01-16</td>\n",
       "      <td>12</td>\n",
       "      <td>POAMIA</td>\n",
       "      <td>POAMIA-2020-07-05</td>\n",
       "      <td>POAMIA-2020-07-17</td>\n",
       "      <td>POAMIA-2020-07-05-2020-07-17</td>\n",
       "    </tr>\n",
       "    <tr>\n",
       "      <th>23</th>\n",
       "      <td>23</td>\n",
       "      <td>16/01/2020 15</td>\n",
       "      <td>2020-07-05</td>\n",
       "      <td>2020-07-18</td>\n",
       "      <td>POA</td>\n",
       "      <td>MIA</td>\n",
       "      <td>3889</td>\n",
       "      <td>2020-01-16</td>\n",
       "      <td>13</td>\n",
       "      <td>POAMIA</td>\n",
       "      <td>POAMIA-2020-07-05</td>\n",
       "      <td>POAMIA-2020-07-18</td>\n",
       "      <td>POAMIA-2020-07-05-2020-07-18</td>\n",
       "    </tr>\n",
       "    <tr>\n",
       "      <th>24</th>\n",
       "      <td>24</td>\n",
       "      <td>16/01/2020 15</td>\n",
       "      <td>2020-07-05</td>\n",
       "      <td>2020-07-19</td>\n",
       "      <td>POA</td>\n",
       "      <td>MIA</td>\n",
       "      <td>3863</td>\n",
       "      <td>2020-01-16</td>\n",
       "      <td>14</td>\n",
       "      <td>POAMIA</td>\n",
       "      <td>POAMIA-2020-07-05</td>\n",
       "      <td>POAMIA-2020-07-19</td>\n",
       "      <td>POAMIA-2020-07-05-2020-07-19</td>\n",
       "    </tr>\n",
       "    <tr>\n",
       "      <th>25</th>\n",
       "      <td>25</td>\n",
       "      <td>16/01/2020 15</td>\n",
       "      <td>2020-07-05</td>\n",
       "      <td>2020-07-20</td>\n",
       "      <td>POA</td>\n",
       "      <td>MIA</td>\n",
       "      <td>3948</td>\n",
       "      <td>2020-01-16</td>\n",
       "      <td>15</td>\n",
       "      <td>POAMIA</td>\n",
       "      <td>POAMIA-2020-07-05</td>\n",
       "      <td>POAMIA-2020-07-20</td>\n",
       "      <td>POAMIA-2020-07-05-2020-07-20</td>\n",
       "    </tr>\n",
       "    <tr>\n",
       "      <th>26</th>\n",
       "      <td>26</td>\n",
       "      <td>16/01/2020 15</td>\n",
       "      <td>2020-07-05</td>\n",
       "      <td>2020-07-21</td>\n",
       "      <td>POA</td>\n",
       "      <td>MIA</td>\n",
       "      <td>3918</td>\n",
       "      <td>2020-01-16</td>\n",
       "      <td>16</td>\n",
       "      <td>POAMIA</td>\n",
       "      <td>POAMIA-2020-07-05</td>\n",
       "      <td>POAMIA-2020-07-21</td>\n",
       "      <td>POAMIA-2020-07-05-2020-07-21</td>\n",
       "    </tr>\n",
       "    <tr>\n",
       "      <th>27</th>\n",
       "      <td>27</td>\n",
       "      <td>16/01/2020 15</td>\n",
       "      <td>2020-07-05</td>\n",
       "      <td>2020-07-22</td>\n",
       "      <td>POA</td>\n",
       "      <td>MIA</td>\n",
       "      <td>3939</td>\n",
       "      <td>2020-01-16</td>\n",
       "      <td>17</td>\n",
       "      <td>POAMIA</td>\n",
       "      <td>POAMIA-2020-07-05</td>\n",
       "      <td>POAMIA-2020-07-22</td>\n",
       "      <td>POAMIA-2020-07-05-2020-07-22</td>\n",
       "    </tr>\n",
       "    <tr>\n",
       "      <th>28</th>\n",
       "      <td>28</td>\n",
       "      <td>16/01/2020 15</td>\n",
       "      <td>2020-07-05</td>\n",
       "      <td>2020-07-23</td>\n",
       "      <td>POA</td>\n",
       "      <td>MIA</td>\n",
       "      <td>3975</td>\n",
       "      <td>2020-01-16</td>\n",
       "      <td>18</td>\n",
       "      <td>POAMIA</td>\n",
       "      <td>POAMIA-2020-07-05</td>\n",
       "      <td>POAMIA-2020-07-23</td>\n",
       "      <td>POAMIA-2020-07-05-2020-07-23</td>\n",
       "    </tr>\n",
       "    <tr>\n",
       "      <th>29</th>\n",
       "      <td>29</td>\n",
       "      <td>16/01/2020 15</td>\n",
       "      <td>2020-07-06</td>\n",
       "      <td>2020-07-17</td>\n",
       "      <td>POA</td>\n",
       "      <td>MIA</td>\n",
       "      <td>3940</td>\n",
       "      <td>2020-01-16</td>\n",
       "      <td>11</td>\n",
       "      <td>POAMIA</td>\n",
       "      <td>POAMIA-2020-07-06</td>\n",
       "      <td>POAMIA-2020-07-17</td>\n",
       "      <td>POAMIA-2020-07-06-2020-07-17</td>\n",
       "    </tr>\n",
       "    <tr>\n",
       "      <th>...</th>\n",
       "      <td>...</td>\n",
       "      <td>...</td>\n",
       "      <td>...</td>\n",
       "      <td>...</td>\n",
       "      <td>...</td>\n",
       "      <td>...</td>\n",
       "      <td>...</td>\n",
       "      <td>...</td>\n",
       "      <td>...</td>\n",
       "      <td>...</td>\n",
       "      <td>...</td>\n",
       "      <td>...</td>\n",
       "      <td>...</td>\n",
       "    </tr>\n",
       "    <tr>\n",
       "      <th>1439</th>\n",
       "      <td>121</td>\n",
       "      <td>17/01/2020 16</td>\n",
       "      <td>2020-07-04</td>\n",
       "      <td>2020-07-22</td>\n",
       "      <td>GIG</td>\n",
       "      <td>MIA</td>\n",
       "      <td>3428</td>\n",
       "      <td>2020-01-17</td>\n",
       "      <td>18</td>\n",
       "      <td>GIGMIA</td>\n",
       "      <td>GIGMIA-2020-07-04</td>\n",
       "      <td>GIGMIA-2020-07-22</td>\n",
       "      <td>GIGMIA-2020-07-04-2020-07-22</td>\n",
       "    </tr>\n",
       "    <tr>\n",
       "      <th>1440</th>\n",
       "      <td>122</td>\n",
       "      <td>17/01/2020 16</td>\n",
       "      <td>2020-07-04</td>\n",
       "      <td>2020-07-23</td>\n",
       "      <td>GIG</td>\n",
       "      <td>MIA</td>\n",
       "      <td>3414</td>\n",
       "      <td>2020-01-17</td>\n",
       "      <td>19</td>\n",
       "      <td>GIGMIA</td>\n",
       "      <td>GIGMIA-2020-07-04</td>\n",
       "      <td>GIGMIA-2020-07-23</td>\n",
       "      <td>GIGMIA-2020-07-04-2020-07-23</td>\n",
       "    </tr>\n",
       "    <tr>\n",
       "      <th>1441</th>\n",
       "      <td>123</td>\n",
       "      <td>17/01/2020 16</td>\n",
       "      <td>2020-07-05</td>\n",
       "      <td>2020-07-17</td>\n",
       "      <td>GIG</td>\n",
       "      <td>MIA</td>\n",
       "      <td>3320</td>\n",
       "      <td>2020-01-17</td>\n",
       "      <td>12</td>\n",
       "      <td>GIGMIA</td>\n",
       "      <td>GIGMIA-2020-07-05</td>\n",
       "      <td>GIGMIA-2020-07-17</td>\n",
       "      <td>GIGMIA-2020-07-05-2020-07-17</td>\n",
       "    </tr>\n",
       "    <tr>\n",
       "      <th>1442</th>\n",
       "      <td>124</td>\n",
       "      <td>17/01/2020 16</td>\n",
       "      <td>2020-07-05</td>\n",
       "      <td>2020-07-18</td>\n",
       "      <td>GIG</td>\n",
       "      <td>MIA</td>\n",
       "      <td>3283</td>\n",
       "      <td>2020-01-17</td>\n",
       "      <td>13</td>\n",
       "      <td>GIGMIA</td>\n",
       "      <td>GIGMIA-2020-07-05</td>\n",
       "      <td>GIGMIA-2020-07-18</td>\n",
       "      <td>GIGMIA-2020-07-05-2020-07-18</td>\n",
       "    </tr>\n",
       "    <tr>\n",
       "      <th>1443</th>\n",
       "      <td>125</td>\n",
       "      <td>17/01/2020 16</td>\n",
       "      <td>2020-07-05</td>\n",
       "      <td>2020-07-19</td>\n",
       "      <td>GIG</td>\n",
       "      <td>MIA</td>\n",
       "      <td>3293</td>\n",
       "      <td>2020-01-17</td>\n",
       "      <td>14</td>\n",
       "      <td>GIGMIA</td>\n",
       "      <td>GIGMIA-2020-07-05</td>\n",
       "      <td>GIGMIA-2020-07-19</td>\n",
       "      <td>GIGMIA-2020-07-05-2020-07-19</td>\n",
       "    </tr>\n",
       "    <tr>\n",
       "      <th>1444</th>\n",
       "      <td>126</td>\n",
       "      <td>17/01/2020 16</td>\n",
       "      <td>2020-07-05</td>\n",
       "      <td>2020-07-20</td>\n",
       "      <td>GIG</td>\n",
       "      <td>MIA</td>\n",
       "      <td>3419</td>\n",
       "      <td>2020-01-17</td>\n",
       "      <td>15</td>\n",
       "      <td>GIGMIA</td>\n",
       "      <td>GIGMIA-2020-07-05</td>\n",
       "      <td>GIGMIA-2020-07-20</td>\n",
       "      <td>GIGMIA-2020-07-05-2020-07-20</td>\n",
       "    </tr>\n",
       "    <tr>\n",
       "      <th>1445</th>\n",
       "      <td>127</td>\n",
       "      <td>17/01/2020 16</td>\n",
       "      <td>2020-07-05</td>\n",
       "      <td>2020-07-21</td>\n",
       "      <td>GIG</td>\n",
       "      <td>MIA</td>\n",
       "      <td>3418</td>\n",
       "      <td>2020-01-17</td>\n",
       "      <td>16</td>\n",
       "      <td>GIGMIA</td>\n",
       "      <td>GIGMIA-2020-07-05</td>\n",
       "      <td>GIGMIA-2020-07-21</td>\n",
       "      <td>GIGMIA-2020-07-05-2020-07-21</td>\n",
       "    </tr>\n",
       "    <tr>\n",
       "      <th>1446</th>\n",
       "      <td>128</td>\n",
       "      <td>17/01/2020 16</td>\n",
       "      <td>2020-07-05</td>\n",
       "      <td>2020-07-22</td>\n",
       "      <td>GIG</td>\n",
       "      <td>MIA</td>\n",
       "      <td>3400</td>\n",
       "      <td>2020-01-17</td>\n",
       "      <td>17</td>\n",
       "      <td>GIGMIA</td>\n",
       "      <td>GIGMIA-2020-07-05</td>\n",
       "      <td>GIGMIA-2020-07-22</td>\n",
       "      <td>GIGMIA-2020-07-05-2020-07-22</td>\n",
       "    </tr>\n",
       "    <tr>\n",
       "      <th>1447</th>\n",
       "      <td>129</td>\n",
       "      <td>17/01/2020 16</td>\n",
       "      <td>2020-07-05</td>\n",
       "      <td>2020-07-23</td>\n",
       "      <td>GIG</td>\n",
       "      <td>MIA</td>\n",
       "      <td>3410</td>\n",
       "      <td>2020-01-17</td>\n",
       "      <td>18</td>\n",
       "      <td>GIGMIA</td>\n",
       "      <td>GIGMIA-2020-07-05</td>\n",
       "      <td>GIGMIA-2020-07-23</td>\n",
       "      <td>GIGMIA-2020-07-05-2020-07-23</td>\n",
       "    </tr>\n",
       "    <tr>\n",
       "      <th>1448</th>\n",
       "      <td>130</td>\n",
       "      <td>17/01/2020 16</td>\n",
       "      <td>2020-07-06</td>\n",
       "      <td>2020-07-17</td>\n",
       "      <td>GIG</td>\n",
       "      <td>MIA</td>\n",
       "      <td>3368</td>\n",
       "      <td>2020-01-17</td>\n",
       "      <td>11</td>\n",
       "      <td>GIGMIA</td>\n",
       "      <td>GIGMIA-2020-07-06</td>\n",
       "      <td>GIGMIA-2020-07-17</td>\n",
       "      <td>GIGMIA-2020-07-06-2020-07-17</td>\n",
       "    </tr>\n",
       "    <tr>\n",
       "      <th>1449</th>\n",
       "      <td>131</td>\n",
       "      <td>17/01/2020 16</td>\n",
       "      <td>2020-07-06</td>\n",
       "      <td>2020-07-18</td>\n",
       "      <td>GIG</td>\n",
       "      <td>MIA</td>\n",
       "      <td>3365</td>\n",
       "      <td>2020-01-17</td>\n",
       "      <td>12</td>\n",
       "      <td>GIGMIA</td>\n",
       "      <td>GIGMIA-2020-07-06</td>\n",
       "      <td>GIGMIA-2020-07-18</td>\n",
       "      <td>GIGMIA-2020-07-06-2020-07-18</td>\n",
       "    </tr>\n",
       "    <tr>\n",
       "      <th>1450</th>\n",
       "      <td>132</td>\n",
       "      <td>17/01/2020 16</td>\n",
       "      <td>2020-07-06</td>\n",
       "      <td>2020-07-19</td>\n",
       "      <td>GIG</td>\n",
       "      <td>MIA</td>\n",
       "      <td>3348</td>\n",
       "      <td>2020-01-17</td>\n",
       "      <td>13</td>\n",
       "      <td>GIGMIA</td>\n",
       "      <td>GIGMIA-2020-07-06</td>\n",
       "      <td>GIGMIA-2020-07-19</td>\n",
       "      <td>GIGMIA-2020-07-06-2020-07-19</td>\n",
       "    </tr>\n",
       "    <tr>\n",
       "      <th>1451</th>\n",
       "      <td>133</td>\n",
       "      <td>17/01/2020 16</td>\n",
       "      <td>2020-07-06</td>\n",
       "      <td>2020-07-20</td>\n",
       "      <td>GIG</td>\n",
       "      <td>MIA</td>\n",
       "      <td>3461</td>\n",
       "      <td>2020-01-17</td>\n",
       "      <td>14</td>\n",
       "      <td>GIGMIA</td>\n",
       "      <td>GIGMIA-2020-07-06</td>\n",
       "      <td>GIGMIA-2020-07-20</td>\n",
       "      <td>GIGMIA-2020-07-06-2020-07-20</td>\n",
       "    </tr>\n",
       "    <tr>\n",
       "      <th>1452</th>\n",
       "      <td>134</td>\n",
       "      <td>17/01/2020 16</td>\n",
       "      <td>2020-07-06</td>\n",
       "      <td>2020-07-21</td>\n",
       "      <td>GIG</td>\n",
       "      <td>MIA</td>\n",
       "      <td>3464</td>\n",
       "      <td>2020-01-17</td>\n",
       "      <td>15</td>\n",
       "      <td>GIGMIA</td>\n",
       "      <td>GIGMIA-2020-07-06</td>\n",
       "      <td>GIGMIA-2020-07-21</td>\n",
       "      <td>GIGMIA-2020-07-06-2020-07-21</td>\n",
       "    </tr>\n",
       "    <tr>\n",
       "      <th>1453</th>\n",
       "      <td>135</td>\n",
       "      <td>17/01/2020 16</td>\n",
       "      <td>2020-07-06</td>\n",
       "      <td>2020-07-22</td>\n",
       "      <td>GIG</td>\n",
       "      <td>MIA</td>\n",
       "      <td>3422</td>\n",
       "      <td>2020-01-17</td>\n",
       "      <td>16</td>\n",
       "      <td>GIGMIA</td>\n",
       "      <td>GIGMIA-2020-07-06</td>\n",
       "      <td>GIGMIA-2020-07-22</td>\n",
       "      <td>GIGMIA-2020-07-06-2020-07-22</td>\n",
       "    </tr>\n",
       "    <tr>\n",
       "      <th>1454</th>\n",
       "      <td>136</td>\n",
       "      <td>17/01/2020 16</td>\n",
       "      <td>2020-07-06</td>\n",
       "      <td>2020-07-23</td>\n",
       "      <td>GIG</td>\n",
       "      <td>MIA</td>\n",
       "      <td>3405</td>\n",
       "      <td>2020-01-17</td>\n",
       "      <td>17</td>\n",
       "      <td>GIGMIA</td>\n",
       "      <td>GIGMIA-2020-07-06</td>\n",
       "      <td>GIGMIA-2020-07-23</td>\n",
       "      <td>GIGMIA-2020-07-06-2020-07-23</td>\n",
       "    </tr>\n",
       "    <tr>\n",
       "      <th>1455</th>\n",
       "      <td>137</td>\n",
       "      <td>17/01/2020 16</td>\n",
       "      <td>2020-07-07</td>\n",
       "      <td>2020-07-17</td>\n",
       "      <td>GIG</td>\n",
       "      <td>MIA</td>\n",
       "      <td>3384</td>\n",
       "      <td>2020-01-17</td>\n",
       "      <td>10</td>\n",
       "      <td>GIGMIA</td>\n",
       "      <td>GIGMIA-2020-07-07</td>\n",
       "      <td>GIGMIA-2020-07-17</td>\n",
       "      <td>GIGMIA-2020-07-07-2020-07-17</td>\n",
       "    </tr>\n",
       "    <tr>\n",
       "      <th>1456</th>\n",
       "      <td>138</td>\n",
       "      <td>17/01/2020 16</td>\n",
       "      <td>2020-07-07</td>\n",
       "      <td>2020-07-18</td>\n",
       "      <td>GIG</td>\n",
       "      <td>MIA</td>\n",
       "      <td>3765</td>\n",
       "      <td>2020-01-17</td>\n",
       "      <td>11</td>\n",
       "      <td>GIGMIA</td>\n",
       "      <td>GIGMIA-2020-07-07</td>\n",
       "      <td>GIGMIA-2020-07-18</td>\n",
       "      <td>GIGMIA-2020-07-07-2020-07-18</td>\n",
       "    </tr>\n",
       "    <tr>\n",
       "      <th>1457</th>\n",
       "      <td>139</td>\n",
       "      <td>17/01/2020 16</td>\n",
       "      <td>2020-07-07</td>\n",
       "      <td>2020-07-19</td>\n",
       "      <td>GIG</td>\n",
       "      <td>MIA</td>\n",
       "      <td>3357</td>\n",
       "      <td>2020-01-17</td>\n",
       "      <td>12</td>\n",
       "      <td>GIGMIA</td>\n",
       "      <td>GIGMIA-2020-07-07</td>\n",
       "      <td>GIGMIA-2020-07-19</td>\n",
       "      <td>GIGMIA-2020-07-07-2020-07-19</td>\n",
       "    </tr>\n",
       "    <tr>\n",
       "      <th>1458</th>\n",
       "      <td>140</td>\n",
       "      <td>17/01/2020 16</td>\n",
       "      <td>2020-07-07</td>\n",
       "      <td>2020-07-20</td>\n",
       "      <td>GIG</td>\n",
       "      <td>MIA</td>\n",
       "      <td>3453</td>\n",
       "      <td>2020-01-17</td>\n",
       "      <td>13</td>\n",
       "      <td>GIGMIA</td>\n",
       "      <td>GIGMIA-2020-07-07</td>\n",
       "      <td>GIGMIA-2020-07-20</td>\n",
       "      <td>GIGMIA-2020-07-07-2020-07-20</td>\n",
       "    </tr>\n",
       "    <tr>\n",
       "      <th>1459</th>\n",
       "      <td>141</td>\n",
       "      <td>17/01/2020 16</td>\n",
       "      <td>2020-07-07</td>\n",
       "      <td>2020-07-21</td>\n",
       "      <td>GIG</td>\n",
       "      <td>MIA</td>\n",
       "      <td>3482</td>\n",
       "      <td>2020-01-17</td>\n",
       "      <td>14</td>\n",
       "      <td>GIGMIA</td>\n",
       "      <td>GIGMIA-2020-07-07</td>\n",
       "      <td>GIGMIA-2020-07-21</td>\n",
       "      <td>GIGMIA-2020-07-07-2020-07-21</td>\n",
       "    </tr>\n",
       "    <tr>\n",
       "      <th>1460</th>\n",
       "      <td>142</td>\n",
       "      <td>17/01/2020 16</td>\n",
       "      <td>2020-07-07</td>\n",
       "      <td>2020-07-22</td>\n",
       "      <td>GIG</td>\n",
       "      <td>MIA</td>\n",
       "      <td>3443</td>\n",
       "      <td>2020-01-17</td>\n",
       "      <td>15</td>\n",
       "      <td>GIGMIA</td>\n",
       "      <td>GIGMIA-2020-07-07</td>\n",
       "      <td>GIGMIA-2020-07-22</td>\n",
       "      <td>GIGMIA-2020-07-07-2020-07-22</td>\n",
       "    </tr>\n",
       "    <tr>\n",
       "      <th>1461</th>\n",
       "      <td>143</td>\n",
       "      <td>17/01/2020 16</td>\n",
       "      <td>2020-07-07</td>\n",
       "      <td>2020-07-23</td>\n",
       "      <td>GIG</td>\n",
       "      <td>MIA</td>\n",
       "      <td>3433</td>\n",
       "      <td>2020-01-17</td>\n",
       "      <td>16</td>\n",
       "      <td>GIGMIA</td>\n",
       "      <td>GIGMIA-2020-07-07</td>\n",
       "      <td>GIGMIA-2020-07-23</td>\n",
       "      <td>GIGMIA-2020-07-07-2020-07-23</td>\n",
       "    </tr>\n",
       "    <tr>\n",
       "      <th>1462</th>\n",
       "      <td>144</td>\n",
       "      <td>17/01/2020 16</td>\n",
       "      <td>2020-07-08</td>\n",
       "      <td>2020-07-17</td>\n",
       "      <td>GIG</td>\n",
       "      <td>MIA</td>\n",
       "      <td>3430</td>\n",
       "      <td>2020-01-17</td>\n",
       "      <td>9</td>\n",
       "      <td>GIGMIA</td>\n",
       "      <td>GIGMIA-2020-07-08</td>\n",
       "      <td>GIGMIA-2020-07-17</td>\n",
       "      <td>GIGMIA-2020-07-08-2020-07-17</td>\n",
       "    </tr>\n",
       "    <tr>\n",
       "      <th>1463</th>\n",
       "      <td>145</td>\n",
       "      <td>17/01/2020 16</td>\n",
       "      <td>2020-07-08</td>\n",
       "      <td>2020-07-18</td>\n",
       "      <td>GIG</td>\n",
       "      <td>MIA</td>\n",
       "      <td>3385</td>\n",
       "      <td>2020-01-17</td>\n",
       "      <td>10</td>\n",
       "      <td>GIGMIA</td>\n",
       "      <td>GIGMIA-2020-07-08</td>\n",
       "      <td>GIGMIA-2020-07-18</td>\n",
       "      <td>GIGMIA-2020-07-08-2020-07-18</td>\n",
       "    </tr>\n",
       "    <tr>\n",
       "      <th>1464</th>\n",
       "      <td>146</td>\n",
       "      <td>17/01/2020 16</td>\n",
       "      <td>2020-07-08</td>\n",
       "      <td>2020-07-19</td>\n",
       "      <td>GIG</td>\n",
       "      <td>MIA</td>\n",
       "      <td>3374</td>\n",
       "      <td>2020-01-17</td>\n",
       "      <td>11</td>\n",
       "      <td>GIGMIA</td>\n",
       "      <td>GIGMIA-2020-07-08</td>\n",
       "      <td>GIGMIA-2020-07-19</td>\n",
       "      <td>GIGMIA-2020-07-08-2020-07-19</td>\n",
       "    </tr>\n",
       "    <tr>\n",
       "      <th>1465</th>\n",
       "      <td>147</td>\n",
       "      <td>17/01/2020 16</td>\n",
       "      <td>2020-07-08</td>\n",
       "      <td>2020-07-20</td>\n",
       "      <td>GIG</td>\n",
       "      <td>MIA</td>\n",
       "      <td>3442</td>\n",
       "      <td>2020-01-17</td>\n",
       "      <td>12</td>\n",
       "      <td>GIGMIA</td>\n",
       "      <td>GIGMIA-2020-07-08</td>\n",
       "      <td>GIGMIA-2020-07-20</td>\n",
       "      <td>GIGMIA-2020-07-08-2020-07-20</td>\n",
       "    </tr>\n",
       "    <tr>\n",
       "      <th>1466</th>\n",
       "      <td>148</td>\n",
       "      <td>17/01/2020 16</td>\n",
       "      <td>2020-07-08</td>\n",
       "      <td>2020-07-21</td>\n",
       "      <td>GIG</td>\n",
       "      <td>MIA</td>\n",
       "      <td>3484</td>\n",
       "      <td>2020-01-17</td>\n",
       "      <td>13</td>\n",
       "      <td>GIGMIA</td>\n",
       "      <td>GIGMIA-2020-07-08</td>\n",
       "      <td>GIGMIA-2020-07-21</td>\n",
       "      <td>GIGMIA-2020-07-08-2020-07-21</td>\n",
       "    </tr>\n",
       "    <tr>\n",
       "      <th>1467</th>\n",
       "      <td>149</td>\n",
       "      <td>17/01/2020 16</td>\n",
       "      <td>2020-07-08</td>\n",
       "      <td>2020-07-22</td>\n",
       "      <td>GIG</td>\n",
       "      <td>MIA</td>\n",
       "      <td>3457</td>\n",
       "      <td>2020-01-17</td>\n",
       "      <td>14</td>\n",
       "      <td>GIGMIA</td>\n",
       "      <td>GIGMIA-2020-07-08</td>\n",
       "      <td>GIGMIA-2020-07-22</td>\n",
       "      <td>GIGMIA-2020-07-08-2020-07-22</td>\n",
       "    </tr>\n",
       "    <tr>\n",
       "      <th>1468</th>\n",
       "      <td>150</td>\n",
       "      <td>17/01/2020 16</td>\n",
       "      <td>2020-07-08</td>\n",
       "      <td>2020-07-23</td>\n",
       "      <td>GIG</td>\n",
       "      <td>MIA</td>\n",
       "      <td>3475</td>\n",
       "      <td>2020-01-17</td>\n",
       "      <td>15</td>\n",
       "      <td>GIGMIA</td>\n",
       "      <td>GIGMIA-2020-07-08</td>\n",
       "      <td>GIGMIA-2020-07-23</td>\n",
       "      <td>GIGMIA-2020-07-08-2020-07-23</td>\n",
       "    </tr>\n",
       "  </tbody>\n",
       "</table>\n",
       "<p>1469 rows × 13 columns</p>\n",
       "</div>"
      ],
      "text/plain": [
       "      Unnamed: 0   DataPesquisa         Ida       Volta   de para  preco  \\\n",
       "0              0  16/01/2020 15  2020-07-05  2020-07-20  POA  ATL   6561   \n",
       "1              1  16/01/2020 15  2020-07-02  2020-07-17  POA  MIA   3834   \n",
       "2              2  16/01/2020 15  2020-07-02  2020-07-18  POA  MIA   3864   \n",
       "3              3  16/01/2020 15  2020-07-02  2020-07-19  POA  MIA   4003   \n",
       "4              4  16/01/2020 15  2020-07-02  2020-07-20  POA  MIA   3892   \n",
       "5              5  16/01/2020 15  2020-07-02  2020-07-21  POA  MIA   3922   \n",
       "6              6  16/01/2020 15  2020-07-02  2020-07-22  POA  MIA   3919   \n",
       "7              7  16/01/2020 15  2020-07-02  2020-07-23  POA  MIA   3928   \n",
       "8              8  16/01/2020 15  2020-07-03  2020-07-17  POA  MIA   3766   \n",
       "9              9  16/01/2020 15  2020-07-03  2020-07-18  POA  MIA   3781   \n",
       "10            10  16/01/2020 15  2020-07-03  2020-07-19  POA  MIA   3789   \n",
       "11            11  16/01/2020 15  2020-07-03  2020-07-20  POA  MIA   3748   \n",
       "12            12  16/01/2020 15  2020-07-03  2020-07-21  POA  MIA   3761   \n",
       "13            13  16/01/2020 15  2020-07-03  2020-07-22  POA  MIA   3781   \n",
       "14            14  16/01/2020 15  2020-07-03  2020-07-23  POA  MIA   3807   \n",
       "15            15  16/01/2020 15  2020-07-04  2020-07-17  POA  MIA   3781   \n",
       "16            16  16/01/2020 15  2020-07-04  2020-07-18  POA  MIA   3825   \n",
       "17            17  16/01/2020 15  2020-07-04  2020-07-19  POA  MIA   3823   \n",
       "18            18  16/01/2020 15  2020-07-04  2020-07-20  POA  MIA   3838   \n",
       "19            19  16/01/2020 15  2020-07-04  2020-07-21  POA  MIA   3878   \n",
       "20            20  16/01/2020 15  2020-07-04  2020-07-22  POA  MIA   3900   \n",
       "21            21  16/01/2020 15  2020-07-04  2020-07-23  POA  MIA   3923   \n",
       "22            22  16/01/2020 15  2020-07-05  2020-07-17  POA  MIA   3930   \n",
       "23            23  16/01/2020 15  2020-07-05  2020-07-18  POA  MIA   3889   \n",
       "24            24  16/01/2020 15  2020-07-05  2020-07-19  POA  MIA   3863   \n",
       "25            25  16/01/2020 15  2020-07-05  2020-07-20  POA  MIA   3948   \n",
       "26            26  16/01/2020 15  2020-07-05  2020-07-21  POA  MIA   3918   \n",
       "27            27  16/01/2020 15  2020-07-05  2020-07-22  POA  MIA   3939   \n",
       "28            28  16/01/2020 15  2020-07-05  2020-07-23  POA  MIA   3975   \n",
       "29            29  16/01/2020 15  2020-07-06  2020-07-17  POA  MIA   3940   \n",
       "...          ...            ...         ...         ...  ...  ...    ...   \n",
       "1439         121  17/01/2020 16  2020-07-04  2020-07-22  GIG  MIA   3428   \n",
       "1440         122  17/01/2020 16  2020-07-04  2020-07-23  GIG  MIA   3414   \n",
       "1441         123  17/01/2020 16  2020-07-05  2020-07-17  GIG  MIA   3320   \n",
       "1442         124  17/01/2020 16  2020-07-05  2020-07-18  GIG  MIA   3283   \n",
       "1443         125  17/01/2020 16  2020-07-05  2020-07-19  GIG  MIA   3293   \n",
       "1444         126  17/01/2020 16  2020-07-05  2020-07-20  GIG  MIA   3419   \n",
       "1445         127  17/01/2020 16  2020-07-05  2020-07-21  GIG  MIA   3418   \n",
       "1446         128  17/01/2020 16  2020-07-05  2020-07-22  GIG  MIA   3400   \n",
       "1447         129  17/01/2020 16  2020-07-05  2020-07-23  GIG  MIA   3410   \n",
       "1448         130  17/01/2020 16  2020-07-06  2020-07-17  GIG  MIA   3368   \n",
       "1449         131  17/01/2020 16  2020-07-06  2020-07-18  GIG  MIA   3365   \n",
       "1450         132  17/01/2020 16  2020-07-06  2020-07-19  GIG  MIA   3348   \n",
       "1451         133  17/01/2020 16  2020-07-06  2020-07-20  GIG  MIA   3461   \n",
       "1452         134  17/01/2020 16  2020-07-06  2020-07-21  GIG  MIA   3464   \n",
       "1453         135  17/01/2020 16  2020-07-06  2020-07-22  GIG  MIA   3422   \n",
       "1454         136  17/01/2020 16  2020-07-06  2020-07-23  GIG  MIA   3405   \n",
       "1455         137  17/01/2020 16  2020-07-07  2020-07-17  GIG  MIA   3384   \n",
       "1456         138  17/01/2020 16  2020-07-07  2020-07-18  GIG  MIA   3765   \n",
       "1457         139  17/01/2020 16  2020-07-07  2020-07-19  GIG  MIA   3357   \n",
       "1458         140  17/01/2020 16  2020-07-07  2020-07-20  GIG  MIA   3453   \n",
       "1459         141  17/01/2020 16  2020-07-07  2020-07-21  GIG  MIA   3482   \n",
       "1460         142  17/01/2020 16  2020-07-07  2020-07-22  GIG  MIA   3443   \n",
       "1461         143  17/01/2020 16  2020-07-07  2020-07-23  GIG  MIA   3433   \n",
       "1462         144  17/01/2020 16  2020-07-08  2020-07-17  GIG  MIA   3430   \n",
       "1463         145  17/01/2020 16  2020-07-08  2020-07-18  GIG  MIA   3385   \n",
       "1464         146  17/01/2020 16  2020-07-08  2020-07-19  GIG  MIA   3374   \n",
       "1465         147  17/01/2020 16  2020-07-08  2020-07-20  GIG  MIA   3442   \n",
       "1466         148  17/01/2020 16  2020-07-08  2020-07-21  GIG  MIA   3484   \n",
       "1467         149  17/01/2020 16  2020-07-08  2020-07-22  GIG  MIA   3457   \n",
       "1468         150  17/01/2020 16  2020-07-08  2020-07-23  GIG  MIA   3475   \n",
       "\n",
       "     DataPesquisaDATA  Dias OrigemDestino      EspecificoIda  \\\n",
       "0          2020-01-16    15        POAATL  POAATL-2020-07-05   \n",
       "1          2020-01-16    15        POAMIA  POAMIA-2020-07-02   \n",
       "2          2020-01-16    16        POAMIA  POAMIA-2020-07-02   \n",
       "3          2020-01-16    17        POAMIA  POAMIA-2020-07-02   \n",
       "4          2020-01-16    18        POAMIA  POAMIA-2020-07-02   \n",
       "5          2020-01-16    19        POAMIA  POAMIA-2020-07-02   \n",
       "6          2020-01-16    20        POAMIA  POAMIA-2020-07-02   \n",
       "7          2020-01-16    21        POAMIA  POAMIA-2020-07-02   \n",
       "8          2020-01-16    14        POAMIA  POAMIA-2020-07-03   \n",
       "9          2020-01-16    15        POAMIA  POAMIA-2020-07-03   \n",
       "10         2020-01-16    16        POAMIA  POAMIA-2020-07-03   \n",
       "11         2020-01-16    17        POAMIA  POAMIA-2020-07-03   \n",
       "12         2020-01-16    18        POAMIA  POAMIA-2020-07-03   \n",
       "13         2020-01-16    19        POAMIA  POAMIA-2020-07-03   \n",
       "14         2020-01-16    20        POAMIA  POAMIA-2020-07-03   \n",
       "15         2020-01-16    13        POAMIA  POAMIA-2020-07-04   \n",
       "16         2020-01-16    14        POAMIA  POAMIA-2020-07-04   \n",
       "17         2020-01-16    15        POAMIA  POAMIA-2020-07-04   \n",
       "18         2020-01-16    16        POAMIA  POAMIA-2020-07-04   \n",
       "19         2020-01-16    17        POAMIA  POAMIA-2020-07-04   \n",
       "20         2020-01-16    18        POAMIA  POAMIA-2020-07-04   \n",
       "21         2020-01-16    19        POAMIA  POAMIA-2020-07-04   \n",
       "22         2020-01-16    12        POAMIA  POAMIA-2020-07-05   \n",
       "23         2020-01-16    13        POAMIA  POAMIA-2020-07-05   \n",
       "24         2020-01-16    14        POAMIA  POAMIA-2020-07-05   \n",
       "25         2020-01-16    15        POAMIA  POAMIA-2020-07-05   \n",
       "26         2020-01-16    16        POAMIA  POAMIA-2020-07-05   \n",
       "27         2020-01-16    17        POAMIA  POAMIA-2020-07-05   \n",
       "28         2020-01-16    18        POAMIA  POAMIA-2020-07-05   \n",
       "29         2020-01-16    11        POAMIA  POAMIA-2020-07-06   \n",
       "...               ...   ...           ...                ...   \n",
       "1439       2020-01-17    18        GIGMIA  GIGMIA-2020-07-04   \n",
       "1440       2020-01-17    19        GIGMIA  GIGMIA-2020-07-04   \n",
       "1441       2020-01-17    12        GIGMIA  GIGMIA-2020-07-05   \n",
       "1442       2020-01-17    13        GIGMIA  GIGMIA-2020-07-05   \n",
       "1443       2020-01-17    14        GIGMIA  GIGMIA-2020-07-05   \n",
       "1444       2020-01-17    15        GIGMIA  GIGMIA-2020-07-05   \n",
       "1445       2020-01-17    16        GIGMIA  GIGMIA-2020-07-05   \n",
       "1446       2020-01-17    17        GIGMIA  GIGMIA-2020-07-05   \n",
       "1447       2020-01-17    18        GIGMIA  GIGMIA-2020-07-05   \n",
       "1448       2020-01-17    11        GIGMIA  GIGMIA-2020-07-06   \n",
       "1449       2020-01-17    12        GIGMIA  GIGMIA-2020-07-06   \n",
       "1450       2020-01-17    13        GIGMIA  GIGMIA-2020-07-06   \n",
       "1451       2020-01-17    14        GIGMIA  GIGMIA-2020-07-06   \n",
       "1452       2020-01-17    15        GIGMIA  GIGMIA-2020-07-06   \n",
       "1453       2020-01-17    16        GIGMIA  GIGMIA-2020-07-06   \n",
       "1454       2020-01-17    17        GIGMIA  GIGMIA-2020-07-06   \n",
       "1455       2020-01-17    10        GIGMIA  GIGMIA-2020-07-07   \n",
       "1456       2020-01-17    11        GIGMIA  GIGMIA-2020-07-07   \n",
       "1457       2020-01-17    12        GIGMIA  GIGMIA-2020-07-07   \n",
       "1458       2020-01-17    13        GIGMIA  GIGMIA-2020-07-07   \n",
       "1459       2020-01-17    14        GIGMIA  GIGMIA-2020-07-07   \n",
       "1460       2020-01-17    15        GIGMIA  GIGMIA-2020-07-07   \n",
       "1461       2020-01-17    16        GIGMIA  GIGMIA-2020-07-07   \n",
       "1462       2020-01-17     9        GIGMIA  GIGMIA-2020-07-08   \n",
       "1463       2020-01-17    10        GIGMIA  GIGMIA-2020-07-08   \n",
       "1464       2020-01-17    11        GIGMIA  GIGMIA-2020-07-08   \n",
       "1465       2020-01-17    12        GIGMIA  GIGMIA-2020-07-08   \n",
       "1466       2020-01-17    13        GIGMIA  GIGMIA-2020-07-08   \n",
       "1467       2020-01-17    14        GIGMIA  GIGMIA-2020-07-08   \n",
       "1468       2020-01-17    15        GIGMIA  GIGMIA-2020-07-08   \n",
       "\n",
       "        EspecificoVolta               EspecificoTodos  \n",
       "0     POAATL-2020-07-20  POAATL-2020-07-05-2020-07-20  \n",
       "1     POAMIA-2020-07-17  POAMIA-2020-07-02-2020-07-17  \n",
       "2     POAMIA-2020-07-18  POAMIA-2020-07-02-2020-07-18  \n",
       "3     POAMIA-2020-07-19  POAMIA-2020-07-02-2020-07-19  \n",
       "4     POAMIA-2020-07-20  POAMIA-2020-07-02-2020-07-20  \n",
       "5     POAMIA-2020-07-21  POAMIA-2020-07-02-2020-07-21  \n",
       "6     POAMIA-2020-07-22  POAMIA-2020-07-02-2020-07-22  \n",
       "7     POAMIA-2020-07-23  POAMIA-2020-07-02-2020-07-23  \n",
       "8     POAMIA-2020-07-17  POAMIA-2020-07-03-2020-07-17  \n",
       "9     POAMIA-2020-07-18  POAMIA-2020-07-03-2020-07-18  \n",
       "10    POAMIA-2020-07-19  POAMIA-2020-07-03-2020-07-19  \n",
       "11    POAMIA-2020-07-20  POAMIA-2020-07-03-2020-07-20  \n",
       "12    POAMIA-2020-07-21  POAMIA-2020-07-03-2020-07-21  \n",
       "13    POAMIA-2020-07-22  POAMIA-2020-07-03-2020-07-22  \n",
       "14    POAMIA-2020-07-23  POAMIA-2020-07-03-2020-07-23  \n",
       "15    POAMIA-2020-07-17  POAMIA-2020-07-04-2020-07-17  \n",
       "16    POAMIA-2020-07-18  POAMIA-2020-07-04-2020-07-18  \n",
       "17    POAMIA-2020-07-19  POAMIA-2020-07-04-2020-07-19  \n",
       "18    POAMIA-2020-07-20  POAMIA-2020-07-04-2020-07-20  \n",
       "19    POAMIA-2020-07-21  POAMIA-2020-07-04-2020-07-21  \n",
       "20    POAMIA-2020-07-22  POAMIA-2020-07-04-2020-07-22  \n",
       "21    POAMIA-2020-07-23  POAMIA-2020-07-04-2020-07-23  \n",
       "22    POAMIA-2020-07-17  POAMIA-2020-07-05-2020-07-17  \n",
       "23    POAMIA-2020-07-18  POAMIA-2020-07-05-2020-07-18  \n",
       "24    POAMIA-2020-07-19  POAMIA-2020-07-05-2020-07-19  \n",
       "25    POAMIA-2020-07-20  POAMIA-2020-07-05-2020-07-20  \n",
       "26    POAMIA-2020-07-21  POAMIA-2020-07-05-2020-07-21  \n",
       "27    POAMIA-2020-07-22  POAMIA-2020-07-05-2020-07-22  \n",
       "28    POAMIA-2020-07-23  POAMIA-2020-07-05-2020-07-23  \n",
       "29    POAMIA-2020-07-17  POAMIA-2020-07-06-2020-07-17  \n",
       "...                 ...                           ...  \n",
       "1439  GIGMIA-2020-07-22  GIGMIA-2020-07-04-2020-07-22  \n",
       "1440  GIGMIA-2020-07-23  GIGMIA-2020-07-04-2020-07-23  \n",
       "1441  GIGMIA-2020-07-17  GIGMIA-2020-07-05-2020-07-17  \n",
       "1442  GIGMIA-2020-07-18  GIGMIA-2020-07-05-2020-07-18  \n",
       "1443  GIGMIA-2020-07-19  GIGMIA-2020-07-05-2020-07-19  \n",
       "1444  GIGMIA-2020-07-20  GIGMIA-2020-07-05-2020-07-20  \n",
       "1445  GIGMIA-2020-07-21  GIGMIA-2020-07-05-2020-07-21  \n",
       "1446  GIGMIA-2020-07-22  GIGMIA-2020-07-05-2020-07-22  \n",
       "1447  GIGMIA-2020-07-23  GIGMIA-2020-07-05-2020-07-23  \n",
       "1448  GIGMIA-2020-07-17  GIGMIA-2020-07-06-2020-07-17  \n",
       "1449  GIGMIA-2020-07-18  GIGMIA-2020-07-06-2020-07-18  \n",
       "1450  GIGMIA-2020-07-19  GIGMIA-2020-07-06-2020-07-19  \n",
       "1451  GIGMIA-2020-07-20  GIGMIA-2020-07-06-2020-07-20  \n",
       "1452  GIGMIA-2020-07-21  GIGMIA-2020-07-06-2020-07-21  \n",
       "1453  GIGMIA-2020-07-22  GIGMIA-2020-07-06-2020-07-22  \n",
       "1454  GIGMIA-2020-07-23  GIGMIA-2020-07-06-2020-07-23  \n",
       "1455  GIGMIA-2020-07-17  GIGMIA-2020-07-07-2020-07-17  \n",
       "1456  GIGMIA-2020-07-18  GIGMIA-2020-07-07-2020-07-18  \n",
       "1457  GIGMIA-2020-07-19  GIGMIA-2020-07-07-2020-07-19  \n",
       "1458  GIGMIA-2020-07-20  GIGMIA-2020-07-07-2020-07-20  \n",
       "1459  GIGMIA-2020-07-21  GIGMIA-2020-07-07-2020-07-21  \n",
       "1460  GIGMIA-2020-07-22  GIGMIA-2020-07-07-2020-07-22  \n",
       "1461  GIGMIA-2020-07-23  GIGMIA-2020-07-07-2020-07-23  \n",
       "1462  GIGMIA-2020-07-17  GIGMIA-2020-07-08-2020-07-17  \n",
       "1463  GIGMIA-2020-07-18  GIGMIA-2020-07-08-2020-07-18  \n",
       "1464  GIGMIA-2020-07-19  GIGMIA-2020-07-08-2020-07-19  \n",
       "1465  GIGMIA-2020-07-20  GIGMIA-2020-07-08-2020-07-20  \n",
       "1466  GIGMIA-2020-07-21  GIGMIA-2020-07-08-2020-07-21  \n",
       "1467  GIGMIA-2020-07-22  GIGMIA-2020-07-08-2020-07-22  \n",
       "1468  GIGMIA-2020-07-23  GIGMIA-2020-07-08-2020-07-23  \n",
       "\n",
       "[1469 rows x 13 columns]"
      ]
     },
     "metadata": {},
     "output_type": "display_data"
    }
   ],
   "source": [
    "dfGrafico['OrigemDestino'] = dfGrafico.apply(lambda x: x['de'] + x['para'],axis=1)\n",
    "dfGrafico['EspecificoIda'] = dfGrafico.apply(lambda x: x['de'] + x['para']+'-'+x['Ida'],axis=1)\n",
    "dfGrafico['EspecificoVolta'] = dfGrafico.apply(lambda x: x['de'] + x['para']+'-'+x['Volta'],axis=1)\n",
    "dfGrafico['EspecificoTodos'] = dfGrafico.apply(lambda x: x['de'] + x['para']+'-'+x['Ida']+'-'+x['Volta'],axis=1)\n",
    "display(dfGrafico)"
   ]
  },
  {
   "cell_type": "code",
   "execution_count": 56,
   "metadata": {},
   "outputs": [
    {
     "name": "stdout",
     "output_type": "stream",
     "text": [
      "9\n",
      "441\n",
      "441\n",
      "22\n"
     ]
    }
   ],
   "source": [
    "dfGraficoPOA_ATL = dfGrafico.query('de == \"POA\" & para == \"ATL\"')\n",
    "dfGraficoPOA_MIA = dfGrafico.query('de == \"POA\" & para == \"MIA\"')\n",
    "dfGraficoGRU_MIA = dfGrafico.query('de == \"GRU\" & para == \"MIA\"')\n",
    "dfGraficoGRU_ATL = dfGrafico.query('de == \"GRU\" & para == \"ATL\"')\n",
    "\n",
    "datasets = [dfGrafico,dfGraficoPOA_ATL,dfGraficoPOA_MIA,dfGraficoGRU_MIA,dfGraficoGRU_ATL]\n",
    "\n",
    "print(dfGraficoPOA_ATL['Ida'].count())\n",
    "print(dfGraficoPOA_MIA['Ida'].count())\n",
    "print(dfGraficoGRU_MIA['Ida'].count())\n",
    "print(dfGraficoGRU_ATL['Ida'].count())"
   ]
  },
  {
   "cell_type": "code",
   "execution_count": 57,
   "metadata": {
    "scrolled": false
   },
   "outputs": [
    {
     "data": {
      "application/vnd.plotly.v1+json": {
       "config": {
        "plotlyServerURL": "https://plot.ly"
       },
       "data": [
        {
         "customdata": [
          [
           "POA",
           "ATL",
           "2020-07-05",
           "2020-07-20",
           6561
          ],
          [
           "POA",
           "ATL",
           "2020-07-05",
           "2020-07-20",
           6561
          ],
          [
           "POA",
           "ATL",
           "2020-07-05",
           "2020-07-20",
           6175
          ],
          [
           "POA",
           "ATL",
           "2020-07-05",
           "2020-07-20",
           6175
          ],
          [
           "POA",
           "ATL",
           "2020-07-05",
           "2020-07-20",
           6175
          ],
          [
           "POA",
           "ATL",
           "2020-07-05",
           "2020-07-20",
           6175
          ]
         ],
         "hoverlabel": {
          "namelength": 0
         },
         "hovertemplate": "EspecificoTodos=POAATL-2020-07-05-2020-07-20<br>DataPesquisa=%{x}<br>preco=%{customdata[4]}<br>de=%{customdata[0]}<br>para=%{customdata[1]}<br>Ida=%{customdata[2]}<br>Volta=%{customdata[3]}",
         "legendgroup": "EspecificoTodos=POAATL-2020-07-05-2020-07-20",
         "line": {
          "color": "#636efa",
          "dash": "solid"
         },
         "mode": "lines",
         "name": "EspecificoTodos=POAATL-2020-07-05-2020-07-20",
         "showlegend": true,
         "type": "scatter",
         "x": [
          "16/01/2020 15",
          "16/01/2020 17",
          "17/01/2020 09",
          "17/01/2020 10",
          "17/01/2020 12",
          "17/01/2020 16"
         ],
         "xaxis": "x",
         "y": [
          6561,
          6561,
          6175,
          6175,
          6175,
          6175
         ],
         "yaxis": "y"
        },
        {
         "customdata": [
          [
           "POA",
           "MIA",
           "2020-07-02",
           "2020-07-17",
           3834
          ],
          [
           "POA",
           "MIA",
           "2020-07-02",
           "2020-07-17",
           3919
          ],
          [
           "POA",
           "MIA",
           "2020-07-02",
           "2020-07-17",
           3652
          ],
          [
           "POA",
           "MIA",
           "2020-07-02",
           "2020-07-17",
           3604
          ],
          [
           "POA",
           "MIA",
           "2020-07-02",
           "2020-07-17",
           3637
          ],
          [
           "POA",
           "MIA",
           "2020-07-02",
           "2020-07-17",
           3632
          ]
         ],
         "hoverlabel": {
          "namelength": 0
         },
         "hovertemplate": "EspecificoTodos=POAMIA-2020-07-02-2020-07-17<br>DataPesquisa=%{x}<br>preco=%{customdata[4]}<br>de=%{customdata[0]}<br>para=%{customdata[1]}<br>Ida=%{customdata[2]}<br>Volta=%{customdata[3]}",
         "legendgroup": "EspecificoTodos=POAMIA-2020-07-02-2020-07-17",
         "line": {
          "color": "#EF553B",
          "dash": "solid"
         },
         "mode": "lines",
         "name": "EspecificoTodos=POAMIA-2020-07-02-2020-07-17",
         "showlegend": true,
         "type": "scatter",
         "x": [
          "16/01/2020 15",
          "16/01/2020 17",
          "17/01/2020 09",
          "17/01/2020 10",
          "17/01/2020 12",
          "17/01/2020 16"
         ],
         "xaxis": "x",
         "y": [
          3834,
          3919,
          3652,
          3604,
          3637,
          3632
         ],
         "yaxis": "y"
        },
        {
         "customdata": [
          [
           "POA",
           "MIA",
           "2020-07-02",
           "2020-07-18",
           3864
          ],
          [
           "POA",
           "MIA",
           "2020-07-02",
           "2020-07-18",
           3896
          ],
          [
           "POA",
           "MIA",
           "2020-07-02",
           "2020-07-18",
           3774
          ],
          [
           "POA",
           "MIA",
           "2020-07-02",
           "2020-07-18",
           3696
          ],
          [
           "POA",
           "MIA",
           "2020-07-02",
           "2020-07-18",
           3720
          ],
          [
           "POA",
           "MIA",
           "2020-07-02",
           "2020-07-18",
           3691
          ]
         ],
         "hoverlabel": {
          "namelength": 0
         },
         "hovertemplate": "EspecificoTodos=POAMIA-2020-07-02-2020-07-18<br>DataPesquisa=%{x}<br>preco=%{customdata[4]}<br>de=%{customdata[0]}<br>para=%{customdata[1]}<br>Ida=%{customdata[2]}<br>Volta=%{customdata[3]}",
         "legendgroup": "EspecificoTodos=POAMIA-2020-07-02-2020-07-18",
         "line": {
          "color": "#00cc96",
          "dash": "solid"
         },
         "mode": "lines",
         "name": "EspecificoTodos=POAMIA-2020-07-02-2020-07-18",
         "showlegend": true,
         "type": "scatter",
         "x": [
          "16/01/2020 15",
          "16/01/2020 17",
          "17/01/2020 09",
          "17/01/2020 10",
          "17/01/2020 12",
          "17/01/2020 16"
         ],
         "xaxis": "x",
         "y": [
          3864,
          3896,
          3774,
          3696,
          3720,
          3691
         ],
         "yaxis": "y"
        },
        {
         "customdata": [
          [
           "POA",
           "MIA",
           "2020-07-02",
           "2020-07-19",
           4003
          ],
          [
           "POA",
           "MIA",
           "2020-07-02",
           "2020-07-19",
           4032
          ],
          [
           "POA",
           "MIA",
           "2020-07-02",
           "2020-07-19",
           3853
          ],
          [
           "POA",
           "MIA",
           "2020-07-02",
           "2020-07-19",
           3754
          ],
          [
           "POA",
           "MIA",
           "2020-07-02",
           "2020-07-19",
           3716
          ],
          [
           "POA",
           "MIA",
           "2020-07-02",
           "2020-07-19",
           3873
          ]
         ],
         "hoverlabel": {
          "namelength": 0
         },
         "hovertemplate": "EspecificoTodos=POAMIA-2020-07-02-2020-07-19<br>DataPesquisa=%{x}<br>preco=%{customdata[4]}<br>de=%{customdata[0]}<br>para=%{customdata[1]}<br>Ida=%{customdata[2]}<br>Volta=%{customdata[3]}",
         "legendgroup": "EspecificoTodos=POAMIA-2020-07-02-2020-07-19",
         "line": {
          "color": "#ab63fa",
          "dash": "solid"
         },
         "mode": "lines",
         "name": "EspecificoTodos=POAMIA-2020-07-02-2020-07-19",
         "showlegend": true,
         "type": "scatter",
         "x": [
          "16/01/2020 15",
          "16/01/2020 17",
          "17/01/2020 09",
          "17/01/2020 10",
          "17/01/2020 12",
          "17/01/2020 16"
         ],
         "xaxis": "x",
         "y": [
          4003,
          4032,
          3853,
          3754,
          3716,
          3873
         ],
         "yaxis": "y"
        },
        {
         "customdata": [
          [
           "POA",
           "MIA",
           "2020-07-03",
           "2020-07-17",
           3766
          ],
          [
           "POA",
           "MIA",
           "2020-07-03",
           "2020-07-17",
           3678
          ],
          [
           "POA",
           "MIA",
           "2020-07-03",
           "2020-07-17",
           3549
          ],
          [
           "POA",
           "MIA",
           "2020-07-03",
           "2020-07-17",
           3757
          ],
          [
           "POA",
           "MIA",
           "2020-07-03",
           "2020-07-17",
           3644
          ],
          [
           "POA",
           "MIA",
           "2020-07-03",
           "2020-07-17",
           3700
          ]
         ],
         "hoverlabel": {
          "namelength": 0
         },
         "hovertemplate": "EspecificoTodos=POAMIA-2020-07-03-2020-07-17<br>DataPesquisa=%{x}<br>preco=%{customdata[4]}<br>de=%{customdata[0]}<br>para=%{customdata[1]}<br>Ida=%{customdata[2]}<br>Volta=%{customdata[3]}",
         "legendgroup": "EspecificoTodos=POAMIA-2020-07-03-2020-07-17",
         "line": {
          "color": "#FFA15A",
          "dash": "solid"
         },
         "mode": "lines",
         "name": "EspecificoTodos=POAMIA-2020-07-03-2020-07-17",
         "showlegend": true,
         "type": "scatter",
         "x": [
          "16/01/2020 15",
          "16/01/2020 17",
          "17/01/2020 09",
          "17/01/2020 10",
          "17/01/2020 12",
          "17/01/2020 16"
         ],
         "xaxis": "x",
         "y": [
          3766,
          3678,
          3549,
          3757,
          3644,
          3700
         ],
         "yaxis": "y"
        },
        {
         "customdata": [
          [
           "POA",
           "MIA",
           "2020-07-03",
           "2020-07-18",
           3781
          ],
          [
           "POA",
           "MIA",
           "2020-07-03",
           "2020-07-18",
           3805
          ],
          [
           "POA",
           "MIA",
           "2020-07-03",
           "2020-07-18",
           3590
          ],
          [
           "POA",
           "MIA",
           "2020-07-03",
           "2020-07-18",
           3832
          ],
          [
           "POA",
           "MIA",
           "2020-07-03",
           "2020-07-18",
           3823
          ],
          [
           "POA",
           "MIA",
           "2020-07-03",
           "2020-07-18",
           3762
          ]
         ],
         "hoverlabel": {
          "namelength": 0
         },
         "hovertemplate": "EspecificoTodos=POAMIA-2020-07-03-2020-07-18<br>DataPesquisa=%{x}<br>preco=%{customdata[4]}<br>de=%{customdata[0]}<br>para=%{customdata[1]}<br>Ida=%{customdata[2]}<br>Volta=%{customdata[3]}",
         "legendgroup": "EspecificoTodos=POAMIA-2020-07-03-2020-07-18",
         "line": {
          "color": "#19d3f3",
          "dash": "solid"
         },
         "mode": "lines",
         "name": "EspecificoTodos=POAMIA-2020-07-03-2020-07-18",
         "showlegend": true,
         "type": "scatter",
         "x": [
          "16/01/2020 15",
          "16/01/2020 17",
          "17/01/2020 09",
          "17/01/2020 10",
          "17/01/2020 12",
          "17/01/2020 16"
         ],
         "xaxis": "x",
         "y": [
          3781,
          3805,
          3590,
          3832,
          3823,
          3762
         ],
         "yaxis": "y"
        },
        {
         "customdata": [
          [
           "POA",
           "MIA",
           "2020-07-03",
           "2020-07-19",
           3789
          ],
          [
           "POA",
           "MIA",
           "2020-07-03",
           "2020-07-19",
           3937
          ],
          [
           "POA",
           "MIA",
           "2020-07-03",
           "2020-07-19",
           3562
          ],
          [
           "POA",
           "MIA",
           "2020-07-03",
           "2020-07-19",
           3831
          ],
          [
           "POA",
           "MIA",
           "2020-07-03",
           "2020-07-19",
           3882
          ],
          [
           "POA",
           "MIA",
           "2020-07-03",
           "2020-07-19",
           3803
          ]
         ],
         "hoverlabel": {
          "namelength": 0
         },
         "hovertemplate": "EspecificoTodos=POAMIA-2020-07-03-2020-07-19<br>DataPesquisa=%{x}<br>preco=%{customdata[4]}<br>de=%{customdata[0]}<br>para=%{customdata[1]}<br>Ida=%{customdata[2]}<br>Volta=%{customdata[3]}",
         "legendgroup": "EspecificoTodos=POAMIA-2020-07-03-2020-07-19",
         "line": {
          "color": "#FF6692",
          "dash": "solid"
         },
         "mode": "lines",
         "name": "EspecificoTodos=POAMIA-2020-07-03-2020-07-19",
         "showlegend": true,
         "type": "scatter",
         "x": [
          "16/01/2020 15",
          "16/01/2020 17",
          "17/01/2020 09",
          "17/01/2020 10",
          "17/01/2020 12",
          "17/01/2020 16"
         ],
         "xaxis": "x",
         "y": [
          3789,
          3937,
          3562,
          3831,
          3882,
          3803
         ],
         "yaxis": "y"
        },
        {
         "customdata": [
          [
           "POA",
           "MIA",
           "2020-07-03",
           "2020-07-20",
           3748
          ],
          [
           "POA",
           "MIA",
           "2020-07-03",
           "2020-07-20",
           3807
          ],
          [
           "POA",
           "MIA",
           "2020-07-03",
           "2020-07-20",
           3493
          ],
          [
           "POA",
           "MIA",
           "2020-07-03",
           "2020-07-20",
           3686
          ],
          [
           "POA",
           "MIA",
           "2020-07-03",
           "2020-07-20",
           3622
          ],
          [
           "POA",
           "MIA",
           "2020-07-03",
           "2020-07-20",
           3757
          ]
         ],
         "hoverlabel": {
          "namelength": 0
         },
         "hovertemplate": "EspecificoTodos=POAMIA-2020-07-03-2020-07-20<br>DataPesquisa=%{x}<br>preco=%{customdata[4]}<br>de=%{customdata[0]}<br>para=%{customdata[1]}<br>Ida=%{customdata[2]}<br>Volta=%{customdata[3]}",
         "legendgroup": "EspecificoTodos=POAMIA-2020-07-03-2020-07-20",
         "line": {
          "color": "#B6E880",
          "dash": "solid"
         },
         "mode": "lines",
         "name": "EspecificoTodos=POAMIA-2020-07-03-2020-07-20",
         "showlegend": true,
         "type": "scatter",
         "x": [
          "16/01/2020 15",
          "16/01/2020 17",
          "17/01/2020 09",
          "17/01/2020 10",
          "17/01/2020 12",
          "17/01/2020 16"
         ],
         "xaxis": "x",
         "y": [
          3748,
          3807,
          3493,
          3686,
          3622,
          3757
         ],
         "yaxis": "y"
        },
        {
         "customdata": [
          [
           "POA",
           "MIA",
           "2020-07-04",
           "2020-07-18",
           3825
          ],
          [
           "POA",
           "MIA",
           "2020-07-04",
           "2020-07-18",
           3952
          ],
          [
           "POA",
           "MIA",
           "2020-07-04",
           "2020-07-18",
           4025
          ],
          [
           "POA",
           "MIA",
           "2020-07-04",
           "2020-07-18",
           4025
          ],
          [
           "POA",
           "MIA",
           "2020-07-04",
           "2020-07-18",
           4025
          ],
          [
           "POA",
           "MIA",
           "2020-07-04",
           "2020-07-18",
           4025
          ]
         ],
         "hoverlabel": {
          "namelength": 0
         },
         "hovertemplate": "EspecificoTodos=POAMIA-2020-07-04-2020-07-18<br>DataPesquisa=%{x}<br>preco=%{customdata[4]}<br>de=%{customdata[0]}<br>para=%{customdata[1]}<br>Ida=%{customdata[2]}<br>Volta=%{customdata[3]}",
         "legendgroup": "EspecificoTodos=POAMIA-2020-07-04-2020-07-18",
         "line": {
          "color": "#FF97FF",
          "dash": "solid"
         },
         "mode": "lines",
         "name": "EspecificoTodos=POAMIA-2020-07-04-2020-07-18",
         "showlegend": true,
         "type": "scatter",
         "x": [
          "16/01/2020 15",
          "16/01/2020 17",
          "17/01/2020 09",
          "17/01/2020 10",
          "17/01/2020 12",
          "17/01/2020 16"
         ],
         "xaxis": "x",
         "y": [
          3825,
          3952,
          4025,
          4025,
          4025,
          4025
         ],
         "yaxis": "y"
        },
        {
         "customdata": [
          [
           "POA",
           "MIA",
           "2020-07-04",
           "2020-07-19",
           3823
          ],
          [
           "POA",
           "MIA",
           "2020-07-04",
           "2020-07-19",
           4017
          ],
          [
           "POA",
           "MIA",
           "2020-07-04",
           "2020-07-19",
           3736
          ],
          [
           "POA",
           "MIA",
           "2020-07-04",
           "2020-07-19",
           3846
          ],
          [
           "POA",
           "MIA",
           "2020-07-04",
           "2020-07-19",
           3994
          ],
          [
           "POA",
           "MIA",
           "2020-07-04",
           "2020-07-19",
           3880
          ]
         ],
         "hoverlabel": {
          "namelength": 0
         },
         "hovertemplate": "EspecificoTodos=POAMIA-2020-07-04-2020-07-19<br>DataPesquisa=%{x}<br>preco=%{customdata[4]}<br>de=%{customdata[0]}<br>para=%{customdata[1]}<br>Ida=%{customdata[2]}<br>Volta=%{customdata[3]}",
         "legendgroup": "EspecificoTodos=POAMIA-2020-07-04-2020-07-19",
         "line": {
          "color": "#FECB52",
          "dash": "solid"
         },
         "mode": "lines",
         "name": "EspecificoTodos=POAMIA-2020-07-04-2020-07-19",
         "showlegend": true,
         "type": "scatter",
         "x": [
          "16/01/2020 15",
          "16/01/2020 17",
          "17/01/2020 09",
          "17/01/2020 10",
          "17/01/2020 12",
          "17/01/2020 16"
         ],
         "xaxis": "x",
         "y": [
          3823,
          4017,
          3736,
          3846,
          3994,
          3880
         ],
         "yaxis": "y"
        },
        {
         "customdata": [
          [
           "POA",
           "MIA",
           "2020-07-04",
           "2020-07-20",
           3838
          ],
          [
           "POA",
           "MIA",
           "2020-07-04",
           "2020-07-20",
           3932
          ],
          [
           "POA",
           "MIA",
           "2020-07-04",
           "2020-07-20",
           3577
          ],
          [
           "POA",
           "MIA",
           "2020-07-04",
           "2020-07-20",
           3832
          ],
          [
           "POA",
           "MIA",
           "2020-07-04",
           "2020-07-20",
           3769
          ],
          [
           "POA",
           "MIA",
           "2020-07-04",
           "2020-07-20",
           3786
          ]
         ],
         "hoverlabel": {
          "namelength": 0
         },
         "hovertemplate": "EspecificoTodos=POAMIA-2020-07-04-2020-07-20<br>DataPesquisa=%{x}<br>preco=%{customdata[4]}<br>de=%{customdata[0]}<br>para=%{customdata[1]}<br>Ida=%{customdata[2]}<br>Volta=%{customdata[3]}",
         "legendgroup": "EspecificoTodos=POAMIA-2020-07-04-2020-07-20",
         "line": {
          "color": "#636efa",
          "dash": "solid"
         },
         "mode": "lines",
         "name": "EspecificoTodos=POAMIA-2020-07-04-2020-07-20",
         "showlegend": true,
         "type": "scatter",
         "x": [
          "16/01/2020 15",
          "16/01/2020 17",
          "17/01/2020 09",
          "17/01/2020 10",
          "17/01/2020 12",
          "17/01/2020 16"
         ],
         "xaxis": "x",
         "y": [
          3838,
          3932,
          3577,
          3832,
          3769,
          3786
         ],
         "yaxis": "y"
        },
        {
         "customdata": [
          [
           "POA",
           "MIA",
           "2020-07-04",
           "2020-07-21",
           3878
          ],
          [
           "POA",
           "MIA",
           "2020-07-04",
           "2020-07-21",
           3877
          ],
          [
           "POA",
           "MIA",
           "2020-07-04",
           "2020-07-21",
           3592
          ],
          [
           "POA",
           "MIA",
           "2020-07-04",
           "2020-07-21",
           3821
          ],
          [
           "POA",
           "MIA",
           "2020-07-04",
           "2020-07-21",
           3792
          ],
          [
           "POA",
           "MIA",
           "2020-07-04",
           "2020-07-21",
           3753
          ]
         ],
         "hoverlabel": {
          "namelength": 0
         },
         "hovertemplate": "EspecificoTodos=POAMIA-2020-07-04-2020-07-21<br>DataPesquisa=%{x}<br>preco=%{customdata[4]}<br>de=%{customdata[0]}<br>para=%{customdata[1]}<br>Ida=%{customdata[2]}<br>Volta=%{customdata[3]}",
         "legendgroup": "EspecificoTodos=POAMIA-2020-07-04-2020-07-21",
         "line": {
          "color": "#EF553B",
          "dash": "solid"
         },
         "mode": "lines",
         "name": "EspecificoTodos=POAMIA-2020-07-04-2020-07-21",
         "showlegend": true,
         "type": "scatter",
         "x": [
          "16/01/2020 15",
          "16/01/2020 17",
          "17/01/2020 09",
          "17/01/2020 10",
          "17/01/2020 12",
          "17/01/2020 16"
         ],
         "xaxis": "x",
         "y": [
          3878,
          3877,
          3592,
          3821,
          3792,
          3753
         ],
         "yaxis": "y"
        },
        {
         "customdata": [
          [
           "POA",
           "MIA",
           "2020-07-05",
           "2020-07-19",
           3863
          ],
          [
           "POA",
           "MIA",
           "2020-07-05",
           "2020-07-19",
           3957
          ],
          [
           "POA",
           "MIA",
           "2020-07-05",
           "2020-07-19",
           3788
          ],
          [
           "POA",
           "MIA",
           "2020-07-05",
           "2020-07-19",
           4010
          ],
          [
           "POA",
           "MIA",
           "2020-07-05",
           "2020-07-19",
           4082
          ],
          [
           "POA",
           "MIA",
           "2020-07-05",
           "2020-07-19",
           3992
          ]
         ],
         "hoverlabel": {
          "namelength": 0
         },
         "hovertemplate": "EspecificoTodos=POAMIA-2020-07-05-2020-07-19<br>DataPesquisa=%{x}<br>preco=%{customdata[4]}<br>de=%{customdata[0]}<br>para=%{customdata[1]}<br>Ida=%{customdata[2]}<br>Volta=%{customdata[3]}",
         "legendgroup": "EspecificoTodos=POAMIA-2020-07-05-2020-07-19",
         "line": {
          "color": "#00cc96",
          "dash": "solid"
         },
         "mode": "lines",
         "name": "EspecificoTodos=POAMIA-2020-07-05-2020-07-19",
         "showlegend": true,
         "type": "scatter",
         "x": [
          "16/01/2020 15",
          "16/01/2020 17",
          "17/01/2020 09",
          "17/01/2020 10",
          "17/01/2020 12",
          "17/01/2020 16"
         ],
         "xaxis": "x",
         "y": [
          3863,
          3957,
          3788,
          4010,
          4082,
          3992
         ],
         "yaxis": "y"
        },
        {
         "customdata": [
          [
           "POA",
           "MIA",
           "2020-07-05",
           "2020-07-20",
           3948
          ],
          [
           "POA",
           "MIA",
           "2020-07-05",
           "2020-07-20",
           4006
          ],
          [
           "POA",
           "MIA",
           "2020-07-05",
           "2020-07-20",
           3692
          ],
          [
           "POA",
           "MIA",
           "2020-07-05",
           "2020-07-20",
           3973
          ],
          [
           "POA",
           "MIA",
           "2020-07-05",
           "2020-07-20",
           3863
          ],
          [
           "POA",
           "MIA",
           "2020-07-05",
           "2020-07-20",
           3876
          ]
         ],
         "hoverlabel": {
          "namelength": 0
         },
         "hovertemplate": "EspecificoTodos=POAMIA-2020-07-05-2020-07-20<br>DataPesquisa=%{x}<br>preco=%{customdata[4]}<br>de=%{customdata[0]}<br>para=%{customdata[1]}<br>Ida=%{customdata[2]}<br>Volta=%{customdata[3]}",
         "legendgroup": "EspecificoTodos=POAMIA-2020-07-05-2020-07-20",
         "line": {
          "color": "#ab63fa",
          "dash": "solid"
         },
         "mode": "lines",
         "name": "EspecificoTodos=POAMIA-2020-07-05-2020-07-20",
         "showlegend": true,
         "type": "scatter",
         "x": [
          "16/01/2020 15",
          "16/01/2020 17",
          "17/01/2020 09",
          "17/01/2020 10",
          "17/01/2020 12",
          "17/01/2020 16"
         ],
         "xaxis": "x",
         "y": [
          3948,
          4006,
          3692,
          3973,
          3863,
          3876
         ],
         "yaxis": "y"
        },
        {
         "customdata": [
          [
           "POA",
           "MIA",
           "2020-07-05",
           "2020-07-21",
           3918
          ],
          [
           "POA",
           "MIA",
           "2020-07-05",
           "2020-07-21",
           3972
          ],
          [
           "POA",
           "MIA",
           "2020-07-05",
           "2020-07-21",
           3700
          ],
          [
           "POA",
           "MIA",
           "2020-07-05",
           "2020-07-21",
           3954
          ],
          [
           "POA",
           "MIA",
           "2020-07-05",
           "2020-07-21",
           3867
          ],
          [
           "POA",
           "MIA",
           "2020-07-05",
           "2020-07-21",
           3851
          ]
         ],
         "hoverlabel": {
          "namelength": 0
         },
         "hovertemplate": "EspecificoTodos=POAMIA-2020-07-05-2020-07-21<br>DataPesquisa=%{x}<br>preco=%{customdata[4]}<br>de=%{customdata[0]}<br>para=%{customdata[1]}<br>Ida=%{customdata[2]}<br>Volta=%{customdata[3]}",
         "legendgroup": "EspecificoTodos=POAMIA-2020-07-05-2020-07-21",
         "line": {
          "color": "#FFA15A",
          "dash": "solid"
         },
         "mode": "lines",
         "name": "EspecificoTodos=POAMIA-2020-07-05-2020-07-21",
         "showlegend": true,
         "type": "scatter",
         "x": [
          "16/01/2020 15",
          "16/01/2020 17",
          "17/01/2020 09",
          "17/01/2020 10",
          "17/01/2020 12",
          "17/01/2020 16"
         ],
         "xaxis": "x",
         "y": [
          3918,
          3972,
          3700,
          3954,
          3867,
          3851
         ],
         "yaxis": "y"
        },
        {
         "customdata": [
          [
           "POA",
           "MIA",
           "2020-07-05",
           "2020-07-22",
           3939
          ],
          [
           "POA",
           "MIA",
           "2020-07-05",
           "2020-07-22",
           3923
          ],
          [
           "POA",
           "MIA",
           "2020-07-05",
           "2020-07-22",
           3697
          ],
          [
           "POA",
           "MIA",
           "2020-07-05",
           "2020-07-22",
           3966
          ],
          [
           "POA",
           "MIA",
           "2020-07-05",
           "2020-07-22",
           3902
          ],
          [
           "POA",
           "MIA",
           "2020-07-05",
           "2020-07-22",
           3910
          ]
         ],
         "hoverlabel": {
          "namelength": 0
         },
         "hovertemplate": "EspecificoTodos=POAMIA-2020-07-05-2020-07-22<br>DataPesquisa=%{x}<br>preco=%{customdata[4]}<br>de=%{customdata[0]}<br>para=%{customdata[1]}<br>Ida=%{customdata[2]}<br>Volta=%{customdata[3]}",
         "legendgroup": "EspecificoTodos=POAMIA-2020-07-05-2020-07-22",
         "line": {
          "color": "#19d3f3",
          "dash": "solid"
         },
         "mode": "lines",
         "name": "EspecificoTodos=POAMIA-2020-07-05-2020-07-22",
         "showlegend": true,
         "type": "scatter",
         "x": [
          "16/01/2020 15",
          "16/01/2020 17",
          "17/01/2020 09",
          "17/01/2020 10",
          "17/01/2020 12",
          "17/01/2020 16"
         ],
         "xaxis": "x",
         "y": [
          3939,
          3923,
          3697,
          3966,
          3902,
          3910
         ],
         "yaxis": "y"
        },
        {
         "customdata": [
          [
           "POA",
           "MIA",
           "2020-07-06",
           "2020-07-20",
           3901
          ],
          [
           "POA",
           "MIA",
           "2020-07-06",
           "2020-07-20",
           3936
          ],
          [
           "POA",
           "MIA",
           "2020-07-06",
           "2020-07-20",
           3749
          ],
          [
           "POA",
           "MIA",
           "2020-07-06",
           "2020-07-20",
           3879
          ],
          [
           "POA",
           "MIA",
           "2020-07-06",
           "2020-07-20",
           3723
          ],
          [
           "POA",
           "MIA",
           "2020-07-06",
           "2020-07-20",
           3681
          ]
         ],
         "hoverlabel": {
          "namelength": 0
         },
         "hovertemplate": "EspecificoTodos=POAMIA-2020-07-06-2020-07-20<br>DataPesquisa=%{x}<br>preco=%{customdata[4]}<br>de=%{customdata[0]}<br>para=%{customdata[1]}<br>Ida=%{customdata[2]}<br>Volta=%{customdata[3]}",
         "legendgroup": "EspecificoTodos=POAMIA-2020-07-06-2020-07-20",
         "line": {
          "color": "#FF6692",
          "dash": "solid"
         },
         "mode": "lines",
         "name": "EspecificoTodos=POAMIA-2020-07-06-2020-07-20",
         "showlegend": true,
         "type": "scatter",
         "x": [
          "16/01/2020 15",
          "16/01/2020 17",
          "17/01/2020 09",
          "17/01/2020 10",
          "17/01/2020 12",
          "17/01/2020 16"
         ],
         "xaxis": "x",
         "y": [
          3901,
          3936,
          3749,
          3879,
          3723,
          3681
         ],
         "yaxis": "y"
        },
        {
         "customdata": [
          [
           "POA",
           "MIA",
           "2020-07-06",
           "2020-07-21",
           3836
          ],
          [
           "POA",
           "MIA",
           "2020-07-06",
           "2020-07-21",
           3838
          ],
          [
           "POA",
           "MIA",
           "2020-07-06",
           "2020-07-21",
           3651
          ],
          [
           "POA",
           "MIA",
           "2020-07-06",
           "2020-07-21",
           3803
          ],
          [
           "POA",
           "MIA",
           "2020-07-06",
           "2020-07-21",
           3647
          ],
          [
           "POA",
           "MIA",
           "2020-07-06",
           "2020-07-21",
           3548
          ]
         ],
         "hoverlabel": {
          "namelength": 0
         },
         "hovertemplate": "EspecificoTodos=POAMIA-2020-07-06-2020-07-21<br>DataPesquisa=%{x}<br>preco=%{customdata[4]}<br>de=%{customdata[0]}<br>para=%{customdata[1]}<br>Ida=%{customdata[2]}<br>Volta=%{customdata[3]}",
         "legendgroup": "EspecificoTodos=POAMIA-2020-07-06-2020-07-21",
         "line": {
          "color": "#B6E880",
          "dash": "solid"
         },
         "mode": "lines",
         "name": "EspecificoTodos=POAMIA-2020-07-06-2020-07-21",
         "showlegend": true,
         "type": "scatter",
         "x": [
          "16/01/2020 15",
          "16/01/2020 17",
          "17/01/2020 09",
          "17/01/2020 10",
          "17/01/2020 12",
          "17/01/2020 16"
         ],
         "xaxis": "x",
         "y": [
          3836,
          3838,
          3651,
          3803,
          3647,
          3548
         ],
         "yaxis": "y"
        },
        {
         "customdata": [
          [
           "POA",
           "MIA",
           "2020-07-06",
           "2020-07-22",
           3825
          ],
          [
           "POA",
           "MIA",
           "2020-07-06",
           "2020-07-22",
           3826
          ],
          [
           "POA",
           "MIA",
           "2020-07-06",
           "2020-07-22",
           3751
          ],
          [
           "POA",
           "MIA",
           "2020-07-06",
           "2020-07-22",
           3723
          ],
          [
           "POA",
           "MIA",
           "2020-07-06",
           "2020-07-22",
           3615
          ],
          [
           "POA",
           "MIA",
           "2020-07-06",
           "2020-07-22",
           3617
          ]
         ],
         "hoverlabel": {
          "namelength": 0
         },
         "hovertemplate": "EspecificoTodos=POAMIA-2020-07-06-2020-07-22<br>DataPesquisa=%{x}<br>preco=%{customdata[4]}<br>de=%{customdata[0]}<br>para=%{customdata[1]}<br>Ida=%{customdata[2]}<br>Volta=%{customdata[3]}",
         "legendgroup": "EspecificoTodos=POAMIA-2020-07-06-2020-07-22",
         "line": {
          "color": "#FF97FF",
          "dash": "solid"
         },
         "mode": "lines",
         "name": "EspecificoTodos=POAMIA-2020-07-06-2020-07-22",
         "showlegend": true,
         "type": "scatter",
         "x": [
          "16/01/2020 15",
          "16/01/2020 17",
          "17/01/2020 09",
          "17/01/2020 10",
          "17/01/2020 12",
          "17/01/2020 16"
         ],
         "xaxis": "x",
         "y": [
          3825,
          3826,
          3751,
          3723,
          3615,
          3617
         ],
         "yaxis": "y"
        },
        {
         "customdata": [
          [
           "POA",
           "MIA",
           "2020-07-06",
           "2020-07-23",
           3838
          ],
          [
           "POA",
           "MIA",
           "2020-07-06",
           "2020-07-23",
           3800
          ],
          [
           "POA",
           "MIA",
           "2020-07-06",
           "2020-07-23",
           3754
          ],
          [
           "POA",
           "MIA",
           "2020-07-06",
           "2020-07-23",
           3729
          ],
          [
           "POA",
           "MIA",
           "2020-07-06",
           "2020-07-23",
           3620
          ],
          [
           "POA",
           "MIA",
           "2020-07-06",
           "2020-07-23",
           3610
          ]
         ],
         "hoverlabel": {
          "namelength": 0
         },
         "hovertemplate": "EspecificoTodos=POAMIA-2020-07-06-2020-07-23<br>DataPesquisa=%{x}<br>preco=%{customdata[4]}<br>de=%{customdata[0]}<br>para=%{customdata[1]}<br>Ida=%{customdata[2]}<br>Volta=%{customdata[3]}",
         "legendgroup": "EspecificoTodos=POAMIA-2020-07-06-2020-07-23",
         "line": {
          "color": "#FECB52",
          "dash": "solid"
         },
         "mode": "lines",
         "name": "EspecificoTodos=POAMIA-2020-07-06-2020-07-23",
         "showlegend": true,
         "type": "scatter",
         "x": [
          "16/01/2020 15",
          "16/01/2020 17",
          "17/01/2020 09",
          "17/01/2020 10",
          "17/01/2020 12",
          "17/01/2020 16"
         ],
         "xaxis": "x",
         "y": [
          3838,
          3800,
          3754,
          3729,
          3620,
          3610
         ],
         "yaxis": "y"
        },
        {
         "customdata": [
          [
           "POA",
           "MIA",
           "2020-07-07",
           "2020-07-21",
           3828
          ],
          [
           "POA",
           "MIA",
           "2020-07-07",
           "2020-07-21",
           3824
          ],
          [
           "POA",
           "MIA",
           "2020-07-07",
           "2020-07-21",
           3754
          ],
          [
           "POA",
           "MIA",
           "2020-07-07",
           "2020-07-21",
           3840
          ],
          [
           "POA",
           "MIA",
           "2020-07-07",
           "2020-07-21",
           3574
          ],
          [
           "POA",
           "MIA",
           "2020-07-07",
           "2020-07-21",
           3637
          ]
         ],
         "hoverlabel": {
          "namelength": 0
         },
         "hovertemplate": "EspecificoTodos=POAMIA-2020-07-07-2020-07-21<br>DataPesquisa=%{x}<br>preco=%{customdata[4]}<br>de=%{customdata[0]}<br>para=%{customdata[1]}<br>Ida=%{customdata[2]}<br>Volta=%{customdata[3]}",
         "legendgroup": "EspecificoTodos=POAMIA-2020-07-07-2020-07-21",
         "line": {
          "color": "#636efa",
          "dash": "solid"
         },
         "mode": "lines",
         "name": "EspecificoTodos=POAMIA-2020-07-07-2020-07-21",
         "showlegend": true,
         "type": "scatter",
         "x": [
          "16/01/2020 15",
          "16/01/2020 17",
          "17/01/2020 09",
          "17/01/2020 10",
          "17/01/2020 12",
          "17/01/2020 16"
         ],
         "xaxis": "x",
         "y": [
          3828,
          3824,
          3754,
          3840,
          3574,
          3637
         ],
         "yaxis": "y"
        },
        {
         "customdata": [
          [
           "POA",
           "MIA",
           "2020-07-07",
           "2020-07-22",
           3798
          ],
          [
           "POA",
           "MIA",
           "2020-07-07",
           "2020-07-22",
           3855
          ],
          [
           "POA",
           "MIA",
           "2020-07-07",
           "2020-07-22",
           3708
          ],
          [
           "POA",
           "MIA",
           "2020-07-07",
           "2020-07-22",
           3895
          ],
          [
           "POA",
           "MIA",
           "2020-07-07",
           "2020-07-22",
           3619
          ],
          [
           "POA",
           "MIA",
           "2020-07-07",
           "2020-07-22",
           3666
          ]
         ],
         "hoverlabel": {
          "namelength": 0
         },
         "hovertemplate": "EspecificoTodos=POAMIA-2020-07-07-2020-07-22<br>DataPesquisa=%{x}<br>preco=%{customdata[4]}<br>de=%{customdata[0]}<br>para=%{customdata[1]}<br>Ida=%{customdata[2]}<br>Volta=%{customdata[3]}",
         "legendgroup": "EspecificoTodos=POAMIA-2020-07-07-2020-07-22",
         "line": {
          "color": "#EF553B",
          "dash": "solid"
         },
         "mode": "lines",
         "name": "EspecificoTodos=POAMIA-2020-07-07-2020-07-22",
         "showlegend": true,
         "type": "scatter",
         "x": [
          "16/01/2020 15",
          "16/01/2020 17",
          "17/01/2020 09",
          "17/01/2020 10",
          "17/01/2020 12",
          "17/01/2020 16"
         ],
         "xaxis": "x",
         "y": [
          3798,
          3855,
          3708,
          3895,
          3619,
          3666
         ],
         "yaxis": "y"
        },
        {
         "customdata": [
          [
           "POA",
           "MIA",
           "2020-07-07",
           "2020-07-23",
           3812
          ],
          [
           "POA",
           "MIA",
           "2020-07-07",
           "2020-07-23",
           3777
          ],
          [
           "POA",
           "MIA",
           "2020-07-07",
           "2020-07-23",
           3736
          ],
          [
           "POA",
           "MIA",
           "2020-07-07",
           "2020-07-23",
           3770
          ],
          [
           "POA",
           "MIA",
           "2020-07-07",
           "2020-07-23",
           3560
          ],
          [
           "POA",
           "MIA",
           "2020-07-07",
           "2020-07-23",
           3648
          ]
         ],
         "hoverlabel": {
          "namelength": 0
         },
         "hovertemplate": "EspecificoTodos=POAMIA-2020-07-07-2020-07-23<br>DataPesquisa=%{x}<br>preco=%{customdata[4]}<br>de=%{customdata[0]}<br>para=%{customdata[1]}<br>Ida=%{customdata[2]}<br>Volta=%{customdata[3]}",
         "legendgroup": "EspecificoTodos=POAMIA-2020-07-07-2020-07-23",
         "line": {
          "color": "#00cc96",
          "dash": "solid"
         },
         "mode": "lines",
         "name": "EspecificoTodos=POAMIA-2020-07-07-2020-07-23",
         "showlegend": true,
         "type": "scatter",
         "x": [
          "16/01/2020 15",
          "16/01/2020 17",
          "17/01/2020 09",
          "17/01/2020 10",
          "17/01/2020 12",
          "17/01/2020 16"
         ],
         "xaxis": "x",
         "y": [
          3812,
          3777,
          3736,
          3770,
          3560,
          3648
         ],
         "yaxis": "y"
        },
        {
         "customdata": [
          [
           "POA",
           "MIA",
           "2020-07-08",
           "2020-07-22",
           3950
          ],
          [
           "POA",
           "MIA",
           "2020-07-08",
           "2020-07-22",
           3958
          ],
          [
           "POA",
           "MIA",
           "2020-07-08",
           "2020-07-22",
           3743
          ],
          [
           "POA",
           "MIA",
           "2020-07-08",
           "2020-07-22",
           3889
          ],
          [
           "POA",
           "MIA",
           "2020-07-08",
           "2020-07-22",
           3696
          ],
          [
           "POA",
           "MIA",
           "2020-07-08",
           "2020-07-22",
           3792
          ]
         ],
         "hoverlabel": {
          "namelength": 0
         },
         "hovertemplate": "EspecificoTodos=POAMIA-2020-07-08-2020-07-22<br>DataPesquisa=%{x}<br>preco=%{customdata[4]}<br>de=%{customdata[0]}<br>para=%{customdata[1]}<br>Ida=%{customdata[2]}<br>Volta=%{customdata[3]}",
         "legendgroup": "EspecificoTodos=POAMIA-2020-07-08-2020-07-22",
         "line": {
          "color": "#ab63fa",
          "dash": "solid"
         },
         "mode": "lines",
         "name": "EspecificoTodos=POAMIA-2020-07-08-2020-07-22",
         "showlegend": true,
         "type": "scatter",
         "x": [
          "16/01/2020 15",
          "16/01/2020 17",
          "17/01/2020 09",
          "17/01/2020 10",
          "17/01/2020 12",
          "17/01/2020 16"
         ],
         "xaxis": "x",
         "y": [
          3950,
          3958,
          3743,
          3889,
          3696,
          3792
         ],
         "yaxis": "y"
        },
        {
         "customdata": [
          [
           "POA",
           "MIA",
           "2020-07-08",
           "2020-07-23",
           3943
          ],
          [
           "POA",
           "MIA",
           "2020-07-08",
           "2020-07-23",
           3970
          ],
          [
           "POA",
           "MIA",
           "2020-07-08",
           "2020-07-23",
           3773
          ],
          [
           "POA",
           "MIA",
           "2020-07-08",
           "2020-07-23",
           3909
          ],
          [
           "POA",
           "MIA",
           "2020-07-08",
           "2020-07-23",
           3712
          ],
          [
           "POA",
           "MIA",
           "2020-07-08",
           "2020-07-23",
           3751
          ]
         ],
         "hoverlabel": {
          "namelength": 0
         },
         "hovertemplate": "EspecificoTodos=POAMIA-2020-07-08-2020-07-23<br>DataPesquisa=%{x}<br>preco=%{customdata[4]}<br>de=%{customdata[0]}<br>para=%{customdata[1]}<br>Ida=%{customdata[2]}<br>Volta=%{customdata[3]}",
         "legendgroup": "EspecificoTodos=POAMIA-2020-07-08-2020-07-23",
         "line": {
          "color": "#FFA15A",
          "dash": "solid"
         },
         "mode": "lines",
         "name": "EspecificoTodos=POAMIA-2020-07-08-2020-07-23",
         "showlegend": true,
         "type": "scatter",
         "x": [
          "16/01/2020 15",
          "16/01/2020 17",
          "17/01/2020 09",
          "17/01/2020 10",
          "17/01/2020 12",
          "17/01/2020 16"
         ],
         "xaxis": "x",
         "y": [
          3943,
          3970,
          3773,
          3909,
          3712,
          3751
         ],
         "yaxis": "y"
        }
       ],
       "layout": {
        "height": 600,
        "legend": {
         "tracegroupgap": 0
        },
        "margin": {
         "t": 60
        },
        "template": {
         "data": {
          "bar": [
           {
            "error_x": {
             "color": "#2a3f5f"
            },
            "error_y": {
             "color": "#2a3f5f"
            },
            "marker": {
             "line": {
              "color": "#E5ECF6",
              "width": 0.5
             }
            },
            "type": "bar"
           }
          ],
          "barpolar": [
           {
            "marker": {
             "line": {
              "color": "#E5ECF6",
              "width": 0.5
             }
            },
            "type": "barpolar"
           }
          ],
          "carpet": [
           {
            "aaxis": {
             "endlinecolor": "#2a3f5f",
             "gridcolor": "white",
             "linecolor": "white",
             "minorgridcolor": "white",
             "startlinecolor": "#2a3f5f"
            },
            "baxis": {
             "endlinecolor": "#2a3f5f",
             "gridcolor": "white",
             "linecolor": "white",
             "minorgridcolor": "white",
             "startlinecolor": "#2a3f5f"
            },
            "type": "carpet"
           }
          ],
          "choropleth": [
           {
            "colorbar": {
             "outlinewidth": 0,
             "ticks": ""
            },
            "type": "choropleth"
           }
          ],
          "contour": [
           {
            "colorbar": {
             "outlinewidth": 0,
             "ticks": ""
            },
            "colorscale": [
             [
              0,
              "#0d0887"
             ],
             [
              0.1111111111111111,
              "#46039f"
             ],
             [
              0.2222222222222222,
              "#7201a8"
             ],
             [
              0.3333333333333333,
              "#9c179e"
             ],
             [
              0.4444444444444444,
              "#bd3786"
             ],
             [
              0.5555555555555556,
              "#d8576b"
             ],
             [
              0.6666666666666666,
              "#ed7953"
             ],
             [
              0.7777777777777778,
              "#fb9f3a"
             ],
             [
              0.8888888888888888,
              "#fdca26"
             ],
             [
              1,
              "#f0f921"
             ]
            ],
            "type": "contour"
           }
          ],
          "contourcarpet": [
           {
            "colorbar": {
             "outlinewidth": 0,
             "ticks": ""
            },
            "type": "contourcarpet"
           }
          ],
          "heatmap": [
           {
            "colorbar": {
             "outlinewidth": 0,
             "ticks": ""
            },
            "colorscale": [
             [
              0,
              "#0d0887"
             ],
             [
              0.1111111111111111,
              "#46039f"
             ],
             [
              0.2222222222222222,
              "#7201a8"
             ],
             [
              0.3333333333333333,
              "#9c179e"
             ],
             [
              0.4444444444444444,
              "#bd3786"
             ],
             [
              0.5555555555555556,
              "#d8576b"
             ],
             [
              0.6666666666666666,
              "#ed7953"
             ],
             [
              0.7777777777777778,
              "#fb9f3a"
             ],
             [
              0.8888888888888888,
              "#fdca26"
             ],
             [
              1,
              "#f0f921"
             ]
            ],
            "type": "heatmap"
           }
          ],
          "heatmapgl": [
           {
            "colorbar": {
             "outlinewidth": 0,
             "ticks": ""
            },
            "colorscale": [
             [
              0,
              "#0d0887"
             ],
             [
              0.1111111111111111,
              "#46039f"
             ],
             [
              0.2222222222222222,
              "#7201a8"
             ],
             [
              0.3333333333333333,
              "#9c179e"
             ],
             [
              0.4444444444444444,
              "#bd3786"
             ],
             [
              0.5555555555555556,
              "#d8576b"
             ],
             [
              0.6666666666666666,
              "#ed7953"
             ],
             [
              0.7777777777777778,
              "#fb9f3a"
             ],
             [
              0.8888888888888888,
              "#fdca26"
             ],
             [
              1,
              "#f0f921"
             ]
            ],
            "type": "heatmapgl"
           }
          ],
          "histogram": [
           {
            "marker": {
             "colorbar": {
              "outlinewidth": 0,
              "ticks": ""
             }
            },
            "type": "histogram"
           }
          ],
          "histogram2d": [
           {
            "colorbar": {
             "outlinewidth": 0,
             "ticks": ""
            },
            "colorscale": [
             [
              0,
              "#0d0887"
             ],
             [
              0.1111111111111111,
              "#46039f"
             ],
             [
              0.2222222222222222,
              "#7201a8"
             ],
             [
              0.3333333333333333,
              "#9c179e"
             ],
             [
              0.4444444444444444,
              "#bd3786"
             ],
             [
              0.5555555555555556,
              "#d8576b"
             ],
             [
              0.6666666666666666,
              "#ed7953"
             ],
             [
              0.7777777777777778,
              "#fb9f3a"
             ],
             [
              0.8888888888888888,
              "#fdca26"
             ],
             [
              1,
              "#f0f921"
             ]
            ],
            "type": "histogram2d"
           }
          ],
          "histogram2dcontour": [
           {
            "colorbar": {
             "outlinewidth": 0,
             "ticks": ""
            },
            "colorscale": [
             [
              0,
              "#0d0887"
             ],
             [
              0.1111111111111111,
              "#46039f"
             ],
             [
              0.2222222222222222,
              "#7201a8"
             ],
             [
              0.3333333333333333,
              "#9c179e"
             ],
             [
              0.4444444444444444,
              "#bd3786"
             ],
             [
              0.5555555555555556,
              "#d8576b"
             ],
             [
              0.6666666666666666,
              "#ed7953"
             ],
             [
              0.7777777777777778,
              "#fb9f3a"
             ],
             [
              0.8888888888888888,
              "#fdca26"
             ],
             [
              1,
              "#f0f921"
             ]
            ],
            "type": "histogram2dcontour"
           }
          ],
          "mesh3d": [
           {
            "colorbar": {
             "outlinewidth": 0,
             "ticks": ""
            },
            "type": "mesh3d"
           }
          ],
          "parcoords": [
           {
            "line": {
             "colorbar": {
              "outlinewidth": 0,
              "ticks": ""
             }
            },
            "type": "parcoords"
           }
          ],
          "scatter": [
           {
            "marker": {
             "colorbar": {
              "outlinewidth": 0,
              "ticks": ""
             }
            },
            "type": "scatter"
           }
          ],
          "scatter3d": [
           {
            "line": {
             "colorbar": {
              "outlinewidth": 0,
              "ticks": ""
             }
            },
            "marker": {
             "colorbar": {
              "outlinewidth": 0,
              "ticks": ""
             }
            },
            "type": "scatter3d"
           }
          ],
          "scattercarpet": [
           {
            "marker": {
             "colorbar": {
              "outlinewidth": 0,
              "ticks": ""
             }
            },
            "type": "scattercarpet"
           }
          ],
          "scattergeo": [
           {
            "marker": {
             "colorbar": {
              "outlinewidth": 0,
              "ticks": ""
             }
            },
            "type": "scattergeo"
           }
          ],
          "scattergl": [
           {
            "marker": {
             "colorbar": {
              "outlinewidth": 0,
              "ticks": ""
             }
            },
            "type": "scattergl"
           }
          ],
          "scattermapbox": [
           {
            "marker": {
             "colorbar": {
              "outlinewidth": 0,
              "ticks": ""
             }
            },
            "type": "scattermapbox"
           }
          ],
          "scatterpolar": [
           {
            "marker": {
             "colorbar": {
              "outlinewidth": 0,
              "ticks": ""
             }
            },
            "type": "scatterpolar"
           }
          ],
          "scatterpolargl": [
           {
            "marker": {
             "colorbar": {
              "outlinewidth": 0,
              "ticks": ""
             }
            },
            "type": "scatterpolargl"
           }
          ],
          "scatterternary": [
           {
            "marker": {
             "colorbar": {
              "outlinewidth": 0,
              "ticks": ""
             }
            },
            "type": "scatterternary"
           }
          ],
          "surface": [
           {
            "colorbar": {
             "outlinewidth": 0,
             "ticks": ""
            },
            "colorscale": [
             [
              0,
              "#0d0887"
             ],
             [
              0.1111111111111111,
              "#46039f"
             ],
             [
              0.2222222222222222,
              "#7201a8"
             ],
             [
              0.3333333333333333,
              "#9c179e"
             ],
             [
              0.4444444444444444,
              "#bd3786"
             ],
             [
              0.5555555555555556,
              "#d8576b"
             ],
             [
              0.6666666666666666,
              "#ed7953"
             ],
             [
              0.7777777777777778,
              "#fb9f3a"
             ],
             [
              0.8888888888888888,
              "#fdca26"
             ],
             [
              1,
              "#f0f921"
             ]
            ],
            "type": "surface"
           }
          ],
          "table": [
           {
            "cells": {
             "fill": {
              "color": "#EBF0F8"
             },
             "line": {
              "color": "white"
             }
            },
            "header": {
             "fill": {
              "color": "#C8D4E3"
             },
             "line": {
              "color": "white"
             }
            },
            "type": "table"
           }
          ]
         },
         "layout": {
          "annotationdefaults": {
           "arrowcolor": "#2a3f5f",
           "arrowhead": 0,
           "arrowwidth": 1
          },
          "colorscale": {
           "diverging": [
            [
             0,
             "#8e0152"
            ],
            [
             0.1,
             "#c51b7d"
            ],
            [
             0.2,
             "#de77ae"
            ],
            [
             0.3,
             "#f1b6da"
            ],
            [
             0.4,
             "#fde0ef"
            ],
            [
             0.5,
             "#f7f7f7"
            ],
            [
             0.6,
             "#e6f5d0"
            ],
            [
             0.7,
             "#b8e186"
            ],
            [
             0.8,
             "#7fbc41"
            ],
            [
             0.9,
             "#4d9221"
            ],
            [
             1,
             "#276419"
            ]
           ],
           "sequential": [
            [
             0,
             "#0d0887"
            ],
            [
             0.1111111111111111,
             "#46039f"
            ],
            [
             0.2222222222222222,
             "#7201a8"
            ],
            [
             0.3333333333333333,
             "#9c179e"
            ],
            [
             0.4444444444444444,
             "#bd3786"
            ],
            [
             0.5555555555555556,
             "#d8576b"
            ],
            [
             0.6666666666666666,
             "#ed7953"
            ],
            [
             0.7777777777777778,
             "#fb9f3a"
            ],
            [
             0.8888888888888888,
             "#fdca26"
            ],
            [
             1,
             "#f0f921"
            ]
           ],
           "sequentialminus": [
            [
             0,
             "#0d0887"
            ],
            [
             0.1111111111111111,
             "#46039f"
            ],
            [
             0.2222222222222222,
             "#7201a8"
            ],
            [
             0.3333333333333333,
             "#9c179e"
            ],
            [
             0.4444444444444444,
             "#bd3786"
            ],
            [
             0.5555555555555556,
             "#d8576b"
            ],
            [
             0.6666666666666666,
             "#ed7953"
            ],
            [
             0.7777777777777778,
             "#fb9f3a"
            ],
            [
             0.8888888888888888,
             "#fdca26"
            ],
            [
             1,
             "#f0f921"
            ]
           ]
          },
          "colorway": [
           "#636efa",
           "#EF553B",
           "#00cc96",
           "#ab63fa",
           "#FFA15A",
           "#19d3f3",
           "#FF6692",
           "#B6E880",
           "#FF97FF",
           "#FECB52"
          ],
          "font": {
           "color": "#2a3f5f"
          },
          "geo": {
           "bgcolor": "white",
           "lakecolor": "white",
           "landcolor": "#E5ECF6",
           "showlakes": true,
           "showland": true,
           "subunitcolor": "white"
          },
          "hoverlabel": {
           "align": "left"
          },
          "hovermode": "closest",
          "mapbox": {
           "style": "light"
          },
          "paper_bgcolor": "white",
          "plot_bgcolor": "#E5ECF6",
          "polar": {
           "angularaxis": {
            "gridcolor": "white",
            "linecolor": "white",
            "ticks": ""
           },
           "bgcolor": "#E5ECF6",
           "radialaxis": {
            "gridcolor": "white",
            "linecolor": "white",
            "ticks": ""
           }
          },
          "scene": {
           "xaxis": {
            "backgroundcolor": "#E5ECF6",
            "gridcolor": "white",
            "gridwidth": 2,
            "linecolor": "white",
            "showbackground": true,
            "ticks": "",
            "zerolinecolor": "white"
           },
           "yaxis": {
            "backgroundcolor": "#E5ECF6",
            "gridcolor": "white",
            "gridwidth": 2,
            "linecolor": "white",
            "showbackground": true,
            "ticks": "",
            "zerolinecolor": "white"
           },
           "zaxis": {
            "backgroundcolor": "#E5ECF6",
            "gridcolor": "white",
            "gridwidth": 2,
            "linecolor": "white",
            "showbackground": true,
            "ticks": "",
            "zerolinecolor": "white"
           }
          },
          "shapedefaults": {
           "line": {
            "color": "#2a3f5f"
           }
          },
          "ternary": {
           "aaxis": {
            "gridcolor": "white",
            "linecolor": "white",
            "ticks": ""
           },
           "baxis": {
            "gridcolor": "white",
            "linecolor": "white",
            "ticks": ""
           },
           "bgcolor": "#E5ECF6",
           "caxis": {
            "gridcolor": "white",
            "linecolor": "white",
            "ticks": ""
           }
          },
          "title": {
           "x": 0.05
          },
          "xaxis": {
           "automargin": true,
           "gridcolor": "white",
           "linecolor": "white",
           "ticks": "",
           "zerolinecolor": "white",
           "zerolinewidth": 2
          },
          "yaxis": {
           "automargin": true,
           "gridcolor": "white",
           "linecolor": "white",
           "ticks": "",
           "zerolinecolor": "white",
           "zerolinewidth": 2
          }
         }
        },
        "xaxis": {
         "anchor": "y",
         "domain": [
          0,
          0.98
         ],
         "title": {
          "text": "DataPesquisa"
         }
        },
        "yaxis": {
         "anchor": "x",
         "domain": [
          0,
          1
         ],
         "title": {
          "text": "preco"
         }
        }
       }
      },
      "text/html": [
       "<div>\n",
       "        \n",
       "        \n",
       "            <div id=\"731caf22-557f-44e3-bdc9-eec42c2a00a4\" class=\"plotly-graph-div\" style=\"height:600px; width:100%;\"></div>\n",
       "            <script type=\"text/javascript\">\n",
       "                require([\"plotly\"], function(Plotly) {\n",
       "                    window.PLOTLYENV=window.PLOTLYENV || {};\n",
       "                    \n",
       "                if (document.getElementById(\"731caf22-557f-44e3-bdc9-eec42c2a00a4\")) {\n",
       "                    Plotly.newPlot(\n",
       "                        '731caf22-557f-44e3-bdc9-eec42c2a00a4',\n",
       "                        [{\"customdata\": [[\"POA\", \"ATL\", \"2020-07-05\", \"2020-07-20\", 6561], [\"POA\", \"ATL\", \"2020-07-05\", \"2020-07-20\", 6561], [\"POA\", \"ATL\", \"2020-07-05\", \"2020-07-20\", 6175], [\"POA\", \"ATL\", \"2020-07-05\", \"2020-07-20\", 6175], [\"POA\", \"ATL\", \"2020-07-05\", \"2020-07-20\", 6175], [\"POA\", \"ATL\", \"2020-07-05\", \"2020-07-20\", 6175]], \"hoverlabel\": {\"namelength\": 0}, \"hovertemplate\": \"EspecificoTodos=POAATL-2020-07-05-2020-07-20<br>DataPesquisa=%{x}<br>preco=%{customdata[4]}<br>de=%{customdata[0]}<br>para=%{customdata[1]}<br>Ida=%{customdata[2]}<br>Volta=%{customdata[3]}\", \"legendgroup\": \"EspecificoTodos=POAATL-2020-07-05-2020-07-20\", \"line\": {\"color\": \"#636efa\", \"dash\": \"solid\"}, \"mode\": \"lines\", \"name\": \"EspecificoTodos=POAATL-2020-07-05-2020-07-20\", \"showlegend\": true, \"type\": \"scatter\", \"x\": [\"16/01/2020 15\", \"16/01/2020 17\", \"17/01/2020 09\", \"17/01/2020 10\", \"17/01/2020 12\", \"17/01/2020 16\"], \"xaxis\": \"x\", \"y\": [6561, 6561, 6175, 6175, 6175, 6175], \"yaxis\": \"y\"}, {\"customdata\": [[\"POA\", \"MIA\", \"2020-07-02\", \"2020-07-17\", 3834], [\"POA\", \"MIA\", \"2020-07-02\", \"2020-07-17\", 3919], [\"POA\", \"MIA\", \"2020-07-02\", \"2020-07-17\", 3652], [\"POA\", \"MIA\", \"2020-07-02\", \"2020-07-17\", 3604], [\"POA\", \"MIA\", \"2020-07-02\", \"2020-07-17\", 3637], [\"POA\", \"MIA\", \"2020-07-02\", \"2020-07-17\", 3632]], \"hoverlabel\": {\"namelength\": 0}, \"hovertemplate\": \"EspecificoTodos=POAMIA-2020-07-02-2020-07-17<br>DataPesquisa=%{x}<br>preco=%{customdata[4]}<br>de=%{customdata[0]}<br>para=%{customdata[1]}<br>Ida=%{customdata[2]}<br>Volta=%{customdata[3]}\", \"legendgroup\": \"EspecificoTodos=POAMIA-2020-07-02-2020-07-17\", \"line\": {\"color\": \"#EF553B\", \"dash\": \"solid\"}, \"mode\": \"lines\", \"name\": \"EspecificoTodos=POAMIA-2020-07-02-2020-07-17\", \"showlegend\": true, \"type\": \"scatter\", \"x\": [\"16/01/2020 15\", \"16/01/2020 17\", \"17/01/2020 09\", \"17/01/2020 10\", \"17/01/2020 12\", \"17/01/2020 16\"], \"xaxis\": \"x\", \"y\": [3834, 3919, 3652, 3604, 3637, 3632], \"yaxis\": \"y\"}, {\"customdata\": [[\"POA\", \"MIA\", \"2020-07-02\", \"2020-07-18\", 3864], [\"POA\", \"MIA\", \"2020-07-02\", \"2020-07-18\", 3896], [\"POA\", \"MIA\", \"2020-07-02\", \"2020-07-18\", 3774], [\"POA\", \"MIA\", \"2020-07-02\", \"2020-07-18\", 3696], [\"POA\", \"MIA\", \"2020-07-02\", \"2020-07-18\", 3720], [\"POA\", \"MIA\", \"2020-07-02\", \"2020-07-18\", 3691]], \"hoverlabel\": {\"namelength\": 0}, \"hovertemplate\": \"EspecificoTodos=POAMIA-2020-07-02-2020-07-18<br>DataPesquisa=%{x}<br>preco=%{customdata[4]}<br>de=%{customdata[0]}<br>para=%{customdata[1]}<br>Ida=%{customdata[2]}<br>Volta=%{customdata[3]}\", \"legendgroup\": \"EspecificoTodos=POAMIA-2020-07-02-2020-07-18\", \"line\": {\"color\": \"#00cc96\", \"dash\": \"solid\"}, \"mode\": \"lines\", \"name\": \"EspecificoTodos=POAMIA-2020-07-02-2020-07-18\", \"showlegend\": true, \"type\": \"scatter\", \"x\": [\"16/01/2020 15\", \"16/01/2020 17\", \"17/01/2020 09\", \"17/01/2020 10\", \"17/01/2020 12\", \"17/01/2020 16\"], \"xaxis\": \"x\", \"y\": [3864, 3896, 3774, 3696, 3720, 3691], \"yaxis\": \"y\"}, {\"customdata\": [[\"POA\", \"MIA\", \"2020-07-02\", \"2020-07-19\", 4003], [\"POA\", \"MIA\", \"2020-07-02\", \"2020-07-19\", 4032], [\"POA\", \"MIA\", \"2020-07-02\", \"2020-07-19\", 3853], [\"POA\", \"MIA\", \"2020-07-02\", \"2020-07-19\", 3754], [\"POA\", \"MIA\", \"2020-07-02\", \"2020-07-19\", 3716], [\"POA\", \"MIA\", \"2020-07-02\", \"2020-07-19\", 3873]], \"hoverlabel\": {\"namelength\": 0}, \"hovertemplate\": \"EspecificoTodos=POAMIA-2020-07-02-2020-07-19<br>DataPesquisa=%{x}<br>preco=%{customdata[4]}<br>de=%{customdata[0]}<br>para=%{customdata[1]}<br>Ida=%{customdata[2]}<br>Volta=%{customdata[3]}\", \"legendgroup\": \"EspecificoTodos=POAMIA-2020-07-02-2020-07-19\", \"line\": {\"color\": \"#ab63fa\", \"dash\": \"solid\"}, \"mode\": \"lines\", \"name\": \"EspecificoTodos=POAMIA-2020-07-02-2020-07-19\", \"showlegend\": true, \"type\": \"scatter\", \"x\": [\"16/01/2020 15\", \"16/01/2020 17\", \"17/01/2020 09\", \"17/01/2020 10\", \"17/01/2020 12\", \"17/01/2020 16\"], \"xaxis\": \"x\", \"y\": [4003, 4032, 3853, 3754, 3716, 3873], \"yaxis\": \"y\"}, {\"customdata\": [[\"POA\", \"MIA\", \"2020-07-03\", \"2020-07-17\", 3766], [\"POA\", \"MIA\", \"2020-07-03\", \"2020-07-17\", 3678], [\"POA\", \"MIA\", \"2020-07-03\", \"2020-07-17\", 3549], [\"POA\", \"MIA\", \"2020-07-03\", \"2020-07-17\", 3757], [\"POA\", \"MIA\", \"2020-07-03\", \"2020-07-17\", 3644], [\"POA\", \"MIA\", \"2020-07-03\", \"2020-07-17\", 3700]], \"hoverlabel\": {\"namelength\": 0}, \"hovertemplate\": \"EspecificoTodos=POAMIA-2020-07-03-2020-07-17<br>DataPesquisa=%{x}<br>preco=%{customdata[4]}<br>de=%{customdata[0]}<br>para=%{customdata[1]}<br>Ida=%{customdata[2]}<br>Volta=%{customdata[3]}\", \"legendgroup\": \"EspecificoTodos=POAMIA-2020-07-03-2020-07-17\", \"line\": {\"color\": \"#FFA15A\", \"dash\": \"solid\"}, \"mode\": \"lines\", \"name\": \"EspecificoTodos=POAMIA-2020-07-03-2020-07-17\", \"showlegend\": true, \"type\": \"scatter\", \"x\": [\"16/01/2020 15\", \"16/01/2020 17\", \"17/01/2020 09\", \"17/01/2020 10\", \"17/01/2020 12\", \"17/01/2020 16\"], \"xaxis\": \"x\", \"y\": [3766, 3678, 3549, 3757, 3644, 3700], \"yaxis\": \"y\"}, {\"customdata\": [[\"POA\", \"MIA\", \"2020-07-03\", \"2020-07-18\", 3781], [\"POA\", \"MIA\", \"2020-07-03\", \"2020-07-18\", 3805], [\"POA\", \"MIA\", \"2020-07-03\", \"2020-07-18\", 3590], [\"POA\", \"MIA\", \"2020-07-03\", \"2020-07-18\", 3832], [\"POA\", \"MIA\", \"2020-07-03\", \"2020-07-18\", 3823], [\"POA\", \"MIA\", \"2020-07-03\", \"2020-07-18\", 3762]], \"hoverlabel\": {\"namelength\": 0}, \"hovertemplate\": \"EspecificoTodos=POAMIA-2020-07-03-2020-07-18<br>DataPesquisa=%{x}<br>preco=%{customdata[4]}<br>de=%{customdata[0]}<br>para=%{customdata[1]}<br>Ida=%{customdata[2]}<br>Volta=%{customdata[3]}\", \"legendgroup\": \"EspecificoTodos=POAMIA-2020-07-03-2020-07-18\", \"line\": {\"color\": \"#19d3f3\", \"dash\": \"solid\"}, \"mode\": \"lines\", \"name\": \"EspecificoTodos=POAMIA-2020-07-03-2020-07-18\", \"showlegend\": true, \"type\": \"scatter\", \"x\": [\"16/01/2020 15\", \"16/01/2020 17\", \"17/01/2020 09\", \"17/01/2020 10\", \"17/01/2020 12\", \"17/01/2020 16\"], \"xaxis\": \"x\", \"y\": [3781, 3805, 3590, 3832, 3823, 3762], \"yaxis\": \"y\"}, {\"customdata\": [[\"POA\", \"MIA\", \"2020-07-03\", \"2020-07-19\", 3789], [\"POA\", \"MIA\", \"2020-07-03\", \"2020-07-19\", 3937], [\"POA\", \"MIA\", \"2020-07-03\", \"2020-07-19\", 3562], [\"POA\", \"MIA\", \"2020-07-03\", \"2020-07-19\", 3831], [\"POA\", \"MIA\", \"2020-07-03\", \"2020-07-19\", 3882], [\"POA\", \"MIA\", \"2020-07-03\", \"2020-07-19\", 3803]], \"hoverlabel\": {\"namelength\": 0}, \"hovertemplate\": \"EspecificoTodos=POAMIA-2020-07-03-2020-07-19<br>DataPesquisa=%{x}<br>preco=%{customdata[4]}<br>de=%{customdata[0]}<br>para=%{customdata[1]}<br>Ida=%{customdata[2]}<br>Volta=%{customdata[3]}\", \"legendgroup\": \"EspecificoTodos=POAMIA-2020-07-03-2020-07-19\", \"line\": {\"color\": \"#FF6692\", \"dash\": \"solid\"}, \"mode\": \"lines\", \"name\": \"EspecificoTodos=POAMIA-2020-07-03-2020-07-19\", \"showlegend\": true, \"type\": \"scatter\", \"x\": [\"16/01/2020 15\", \"16/01/2020 17\", \"17/01/2020 09\", \"17/01/2020 10\", \"17/01/2020 12\", \"17/01/2020 16\"], \"xaxis\": \"x\", \"y\": [3789, 3937, 3562, 3831, 3882, 3803], \"yaxis\": \"y\"}, {\"customdata\": [[\"POA\", \"MIA\", \"2020-07-03\", \"2020-07-20\", 3748], [\"POA\", \"MIA\", \"2020-07-03\", \"2020-07-20\", 3807], [\"POA\", \"MIA\", \"2020-07-03\", \"2020-07-20\", 3493], [\"POA\", \"MIA\", \"2020-07-03\", \"2020-07-20\", 3686], [\"POA\", \"MIA\", \"2020-07-03\", \"2020-07-20\", 3622], [\"POA\", \"MIA\", \"2020-07-03\", \"2020-07-20\", 3757]], \"hoverlabel\": {\"namelength\": 0}, \"hovertemplate\": \"EspecificoTodos=POAMIA-2020-07-03-2020-07-20<br>DataPesquisa=%{x}<br>preco=%{customdata[4]}<br>de=%{customdata[0]}<br>para=%{customdata[1]}<br>Ida=%{customdata[2]}<br>Volta=%{customdata[3]}\", \"legendgroup\": \"EspecificoTodos=POAMIA-2020-07-03-2020-07-20\", \"line\": {\"color\": \"#B6E880\", \"dash\": \"solid\"}, \"mode\": \"lines\", \"name\": \"EspecificoTodos=POAMIA-2020-07-03-2020-07-20\", \"showlegend\": true, \"type\": \"scatter\", \"x\": [\"16/01/2020 15\", \"16/01/2020 17\", \"17/01/2020 09\", \"17/01/2020 10\", \"17/01/2020 12\", \"17/01/2020 16\"], \"xaxis\": \"x\", \"y\": [3748, 3807, 3493, 3686, 3622, 3757], \"yaxis\": \"y\"}, {\"customdata\": [[\"POA\", \"MIA\", \"2020-07-04\", \"2020-07-18\", 3825], [\"POA\", \"MIA\", \"2020-07-04\", \"2020-07-18\", 3952], [\"POA\", \"MIA\", \"2020-07-04\", \"2020-07-18\", 4025], [\"POA\", \"MIA\", \"2020-07-04\", \"2020-07-18\", 4025], [\"POA\", \"MIA\", \"2020-07-04\", \"2020-07-18\", 4025], [\"POA\", \"MIA\", \"2020-07-04\", \"2020-07-18\", 4025]], \"hoverlabel\": {\"namelength\": 0}, \"hovertemplate\": \"EspecificoTodos=POAMIA-2020-07-04-2020-07-18<br>DataPesquisa=%{x}<br>preco=%{customdata[4]}<br>de=%{customdata[0]}<br>para=%{customdata[1]}<br>Ida=%{customdata[2]}<br>Volta=%{customdata[3]}\", \"legendgroup\": \"EspecificoTodos=POAMIA-2020-07-04-2020-07-18\", \"line\": {\"color\": \"#FF97FF\", \"dash\": \"solid\"}, \"mode\": \"lines\", \"name\": \"EspecificoTodos=POAMIA-2020-07-04-2020-07-18\", \"showlegend\": true, \"type\": \"scatter\", \"x\": [\"16/01/2020 15\", \"16/01/2020 17\", \"17/01/2020 09\", \"17/01/2020 10\", \"17/01/2020 12\", \"17/01/2020 16\"], \"xaxis\": \"x\", \"y\": [3825, 3952, 4025, 4025, 4025, 4025], \"yaxis\": \"y\"}, {\"customdata\": [[\"POA\", \"MIA\", \"2020-07-04\", \"2020-07-19\", 3823], [\"POA\", \"MIA\", \"2020-07-04\", \"2020-07-19\", 4017], [\"POA\", \"MIA\", \"2020-07-04\", \"2020-07-19\", 3736], [\"POA\", \"MIA\", \"2020-07-04\", \"2020-07-19\", 3846], [\"POA\", \"MIA\", \"2020-07-04\", \"2020-07-19\", 3994], [\"POA\", \"MIA\", \"2020-07-04\", \"2020-07-19\", 3880]], \"hoverlabel\": {\"namelength\": 0}, \"hovertemplate\": \"EspecificoTodos=POAMIA-2020-07-04-2020-07-19<br>DataPesquisa=%{x}<br>preco=%{customdata[4]}<br>de=%{customdata[0]}<br>para=%{customdata[1]}<br>Ida=%{customdata[2]}<br>Volta=%{customdata[3]}\", \"legendgroup\": \"EspecificoTodos=POAMIA-2020-07-04-2020-07-19\", \"line\": {\"color\": \"#FECB52\", \"dash\": \"solid\"}, \"mode\": \"lines\", \"name\": \"EspecificoTodos=POAMIA-2020-07-04-2020-07-19\", \"showlegend\": true, \"type\": \"scatter\", \"x\": [\"16/01/2020 15\", \"16/01/2020 17\", \"17/01/2020 09\", \"17/01/2020 10\", \"17/01/2020 12\", \"17/01/2020 16\"], \"xaxis\": \"x\", \"y\": [3823, 4017, 3736, 3846, 3994, 3880], \"yaxis\": \"y\"}, {\"customdata\": [[\"POA\", \"MIA\", \"2020-07-04\", \"2020-07-20\", 3838], [\"POA\", \"MIA\", \"2020-07-04\", \"2020-07-20\", 3932], [\"POA\", \"MIA\", \"2020-07-04\", \"2020-07-20\", 3577], [\"POA\", \"MIA\", \"2020-07-04\", \"2020-07-20\", 3832], [\"POA\", \"MIA\", \"2020-07-04\", \"2020-07-20\", 3769], [\"POA\", \"MIA\", \"2020-07-04\", \"2020-07-20\", 3786]], \"hoverlabel\": {\"namelength\": 0}, \"hovertemplate\": \"EspecificoTodos=POAMIA-2020-07-04-2020-07-20<br>DataPesquisa=%{x}<br>preco=%{customdata[4]}<br>de=%{customdata[0]}<br>para=%{customdata[1]}<br>Ida=%{customdata[2]}<br>Volta=%{customdata[3]}\", \"legendgroup\": \"EspecificoTodos=POAMIA-2020-07-04-2020-07-20\", \"line\": {\"color\": \"#636efa\", \"dash\": \"solid\"}, \"mode\": \"lines\", \"name\": \"EspecificoTodos=POAMIA-2020-07-04-2020-07-20\", \"showlegend\": true, \"type\": \"scatter\", \"x\": [\"16/01/2020 15\", \"16/01/2020 17\", \"17/01/2020 09\", \"17/01/2020 10\", \"17/01/2020 12\", \"17/01/2020 16\"], \"xaxis\": \"x\", \"y\": [3838, 3932, 3577, 3832, 3769, 3786], \"yaxis\": \"y\"}, {\"customdata\": [[\"POA\", \"MIA\", \"2020-07-04\", \"2020-07-21\", 3878], [\"POA\", \"MIA\", \"2020-07-04\", \"2020-07-21\", 3877], [\"POA\", \"MIA\", \"2020-07-04\", \"2020-07-21\", 3592], [\"POA\", \"MIA\", \"2020-07-04\", \"2020-07-21\", 3821], [\"POA\", \"MIA\", \"2020-07-04\", \"2020-07-21\", 3792], [\"POA\", \"MIA\", \"2020-07-04\", \"2020-07-21\", 3753]], \"hoverlabel\": {\"namelength\": 0}, \"hovertemplate\": \"EspecificoTodos=POAMIA-2020-07-04-2020-07-21<br>DataPesquisa=%{x}<br>preco=%{customdata[4]}<br>de=%{customdata[0]}<br>para=%{customdata[1]}<br>Ida=%{customdata[2]}<br>Volta=%{customdata[3]}\", \"legendgroup\": \"EspecificoTodos=POAMIA-2020-07-04-2020-07-21\", \"line\": {\"color\": \"#EF553B\", \"dash\": \"solid\"}, \"mode\": \"lines\", \"name\": \"EspecificoTodos=POAMIA-2020-07-04-2020-07-21\", \"showlegend\": true, \"type\": \"scatter\", \"x\": [\"16/01/2020 15\", \"16/01/2020 17\", \"17/01/2020 09\", \"17/01/2020 10\", \"17/01/2020 12\", \"17/01/2020 16\"], \"xaxis\": \"x\", \"y\": [3878, 3877, 3592, 3821, 3792, 3753], \"yaxis\": \"y\"}, {\"customdata\": [[\"POA\", \"MIA\", \"2020-07-05\", \"2020-07-19\", 3863], [\"POA\", \"MIA\", \"2020-07-05\", \"2020-07-19\", 3957], [\"POA\", \"MIA\", \"2020-07-05\", \"2020-07-19\", 3788], [\"POA\", \"MIA\", \"2020-07-05\", \"2020-07-19\", 4010], [\"POA\", \"MIA\", \"2020-07-05\", \"2020-07-19\", 4082], [\"POA\", \"MIA\", \"2020-07-05\", \"2020-07-19\", 3992]], \"hoverlabel\": {\"namelength\": 0}, \"hovertemplate\": \"EspecificoTodos=POAMIA-2020-07-05-2020-07-19<br>DataPesquisa=%{x}<br>preco=%{customdata[4]}<br>de=%{customdata[0]}<br>para=%{customdata[1]}<br>Ida=%{customdata[2]}<br>Volta=%{customdata[3]}\", \"legendgroup\": \"EspecificoTodos=POAMIA-2020-07-05-2020-07-19\", \"line\": {\"color\": \"#00cc96\", \"dash\": \"solid\"}, \"mode\": \"lines\", \"name\": \"EspecificoTodos=POAMIA-2020-07-05-2020-07-19\", \"showlegend\": true, \"type\": \"scatter\", \"x\": [\"16/01/2020 15\", \"16/01/2020 17\", \"17/01/2020 09\", \"17/01/2020 10\", \"17/01/2020 12\", \"17/01/2020 16\"], \"xaxis\": \"x\", \"y\": [3863, 3957, 3788, 4010, 4082, 3992], \"yaxis\": \"y\"}, {\"customdata\": [[\"POA\", \"MIA\", \"2020-07-05\", \"2020-07-20\", 3948], [\"POA\", \"MIA\", \"2020-07-05\", \"2020-07-20\", 4006], [\"POA\", \"MIA\", \"2020-07-05\", \"2020-07-20\", 3692], [\"POA\", \"MIA\", \"2020-07-05\", \"2020-07-20\", 3973], [\"POA\", \"MIA\", \"2020-07-05\", \"2020-07-20\", 3863], [\"POA\", \"MIA\", \"2020-07-05\", \"2020-07-20\", 3876]], \"hoverlabel\": {\"namelength\": 0}, \"hovertemplate\": \"EspecificoTodos=POAMIA-2020-07-05-2020-07-20<br>DataPesquisa=%{x}<br>preco=%{customdata[4]}<br>de=%{customdata[0]}<br>para=%{customdata[1]}<br>Ida=%{customdata[2]}<br>Volta=%{customdata[3]}\", \"legendgroup\": \"EspecificoTodos=POAMIA-2020-07-05-2020-07-20\", \"line\": {\"color\": \"#ab63fa\", \"dash\": \"solid\"}, \"mode\": \"lines\", \"name\": \"EspecificoTodos=POAMIA-2020-07-05-2020-07-20\", \"showlegend\": true, \"type\": \"scatter\", \"x\": [\"16/01/2020 15\", \"16/01/2020 17\", \"17/01/2020 09\", \"17/01/2020 10\", \"17/01/2020 12\", \"17/01/2020 16\"], \"xaxis\": \"x\", \"y\": [3948, 4006, 3692, 3973, 3863, 3876], \"yaxis\": \"y\"}, {\"customdata\": [[\"POA\", \"MIA\", \"2020-07-05\", \"2020-07-21\", 3918], [\"POA\", \"MIA\", \"2020-07-05\", \"2020-07-21\", 3972], [\"POA\", \"MIA\", \"2020-07-05\", \"2020-07-21\", 3700], [\"POA\", \"MIA\", \"2020-07-05\", \"2020-07-21\", 3954], [\"POA\", \"MIA\", \"2020-07-05\", \"2020-07-21\", 3867], [\"POA\", \"MIA\", \"2020-07-05\", \"2020-07-21\", 3851]], \"hoverlabel\": {\"namelength\": 0}, \"hovertemplate\": \"EspecificoTodos=POAMIA-2020-07-05-2020-07-21<br>DataPesquisa=%{x}<br>preco=%{customdata[4]}<br>de=%{customdata[0]}<br>para=%{customdata[1]}<br>Ida=%{customdata[2]}<br>Volta=%{customdata[3]}\", \"legendgroup\": \"EspecificoTodos=POAMIA-2020-07-05-2020-07-21\", \"line\": {\"color\": \"#FFA15A\", \"dash\": \"solid\"}, \"mode\": \"lines\", \"name\": \"EspecificoTodos=POAMIA-2020-07-05-2020-07-21\", \"showlegend\": true, \"type\": \"scatter\", \"x\": [\"16/01/2020 15\", \"16/01/2020 17\", \"17/01/2020 09\", \"17/01/2020 10\", \"17/01/2020 12\", \"17/01/2020 16\"], \"xaxis\": \"x\", \"y\": [3918, 3972, 3700, 3954, 3867, 3851], \"yaxis\": \"y\"}, {\"customdata\": [[\"POA\", \"MIA\", \"2020-07-05\", \"2020-07-22\", 3939], [\"POA\", \"MIA\", \"2020-07-05\", \"2020-07-22\", 3923], [\"POA\", \"MIA\", \"2020-07-05\", \"2020-07-22\", 3697], [\"POA\", \"MIA\", \"2020-07-05\", \"2020-07-22\", 3966], [\"POA\", \"MIA\", \"2020-07-05\", \"2020-07-22\", 3902], [\"POA\", \"MIA\", \"2020-07-05\", \"2020-07-22\", 3910]], \"hoverlabel\": {\"namelength\": 0}, \"hovertemplate\": \"EspecificoTodos=POAMIA-2020-07-05-2020-07-22<br>DataPesquisa=%{x}<br>preco=%{customdata[4]}<br>de=%{customdata[0]}<br>para=%{customdata[1]}<br>Ida=%{customdata[2]}<br>Volta=%{customdata[3]}\", \"legendgroup\": \"EspecificoTodos=POAMIA-2020-07-05-2020-07-22\", \"line\": {\"color\": \"#19d3f3\", \"dash\": \"solid\"}, \"mode\": \"lines\", \"name\": \"EspecificoTodos=POAMIA-2020-07-05-2020-07-22\", \"showlegend\": true, \"type\": \"scatter\", \"x\": [\"16/01/2020 15\", \"16/01/2020 17\", \"17/01/2020 09\", \"17/01/2020 10\", \"17/01/2020 12\", \"17/01/2020 16\"], \"xaxis\": \"x\", \"y\": [3939, 3923, 3697, 3966, 3902, 3910], \"yaxis\": \"y\"}, {\"customdata\": [[\"POA\", \"MIA\", \"2020-07-06\", \"2020-07-20\", 3901], [\"POA\", \"MIA\", \"2020-07-06\", \"2020-07-20\", 3936], [\"POA\", \"MIA\", \"2020-07-06\", \"2020-07-20\", 3749], [\"POA\", \"MIA\", \"2020-07-06\", \"2020-07-20\", 3879], [\"POA\", \"MIA\", \"2020-07-06\", \"2020-07-20\", 3723], [\"POA\", \"MIA\", \"2020-07-06\", \"2020-07-20\", 3681]], \"hoverlabel\": {\"namelength\": 0}, \"hovertemplate\": \"EspecificoTodos=POAMIA-2020-07-06-2020-07-20<br>DataPesquisa=%{x}<br>preco=%{customdata[4]}<br>de=%{customdata[0]}<br>para=%{customdata[1]}<br>Ida=%{customdata[2]}<br>Volta=%{customdata[3]}\", \"legendgroup\": \"EspecificoTodos=POAMIA-2020-07-06-2020-07-20\", \"line\": {\"color\": \"#FF6692\", \"dash\": \"solid\"}, \"mode\": \"lines\", \"name\": \"EspecificoTodos=POAMIA-2020-07-06-2020-07-20\", \"showlegend\": true, \"type\": \"scatter\", \"x\": [\"16/01/2020 15\", \"16/01/2020 17\", \"17/01/2020 09\", \"17/01/2020 10\", \"17/01/2020 12\", \"17/01/2020 16\"], \"xaxis\": \"x\", \"y\": [3901, 3936, 3749, 3879, 3723, 3681], \"yaxis\": \"y\"}, {\"customdata\": [[\"POA\", \"MIA\", \"2020-07-06\", \"2020-07-21\", 3836], [\"POA\", \"MIA\", \"2020-07-06\", \"2020-07-21\", 3838], [\"POA\", \"MIA\", \"2020-07-06\", \"2020-07-21\", 3651], [\"POA\", \"MIA\", \"2020-07-06\", \"2020-07-21\", 3803], [\"POA\", \"MIA\", \"2020-07-06\", \"2020-07-21\", 3647], [\"POA\", \"MIA\", \"2020-07-06\", \"2020-07-21\", 3548]], \"hoverlabel\": {\"namelength\": 0}, \"hovertemplate\": \"EspecificoTodos=POAMIA-2020-07-06-2020-07-21<br>DataPesquisa=%{x}<br>preco=%{customdata[4]}<br>de=%{customdata[0]}<br>para=%{customdata[1]}<br>Ida=%{customdata[2]}<br>Volta=%{customdata[3]}\", \"legendgroup\": \"EspecificoTodos=POAMIA-2020-07-06-2020-07-21\", \"line\": {\"color\": \"#B6E880\", \"dash\": \"solid\"}, \"mode\": \"lines\", \"name\": \"EspecificoTodos=POAMIA-2020-07-06-2020-07-21\", \"showlegend\": true, \"type\": \"scatter\", \"x\": [\"16/01/2020 15\", \"16/01/2020 17\", \"17/01/2020 09\", \"17/01/2020 10\", \"17/01/2020 12\", \"17/01/2020 16\"], \"xaxis\": \"x\", \"y\": [3836, 3838, 3651, 3803, 3647, 3548], \"yaxis\": \"y\"}, {\"customdata\": [[\"POA\", \"MIA\", \"2020-07-06\", \"2020-07-22\", 3825], [\"POA\", \"MIA\", \"2020-07-06\", \"2020-07-22\", 3826], [\"POA\", \"MIA\", \"2020-07-06\", \"2020-07-22\", 3751], [\"POA\", \"MIA\", \"2020-07-06\", \"2020-07-22\", 3723], [\"POA\", \"MIA\", \"2020-07-06\", \"2020-07-22\", 3615], [\"POA\", \"MIA\", \"2020-07-06\", \"2020-07-22\", 3617]], \"hoverlabel\": {\"namelength\": 0}, \"hovertemplate\": \"EspecificoTodos=POAMIA-2020-07-06-2020-07-22<br>DataPesquisa=%{x}<br>preco=%{customdata[4]}<br>de=%{customdata[0]}<br>para=%{customdata[1]}<br>Ida=%{customdata[2]}<br>Volta=%{customdata[3]}\", \"legendgroup\": \"EspecificoTodos=POAMIA-2020-07-06-2020-07-22\", \"line\": {\"color\": \"#FF97FF\", \"dash\": \"solid\"}, \"mode\": \"lines\", \"name\": \"EspecificoTodos=POAMIA-2020-07-06-2020-07-22\", \"showlegend\": true, \"type\": \"scatter\", \"x\": [\"16/01/2020 15\", \"16/01/2020 17\", \"17/01/2020 09\", \"17/01/2020 10\", \"17/01/2020 12\", \"17/01/2020 16\"], \"xaxis\": \"x\", \"y\": [3825, 3826, 3751, 3723, 3615, 3617], \"yaxis\": \"y\"}, {\"customdata\": [[\"POA\", \"MIA\", \"2020-07-06\", \"2020-07-23\", 3838], [\"POA\", \"MIA\", \"2020-07-06\", \"2020-07-23\", 3800], [\"POA\", \"MIA\", \"2020-07-06\", \"2020-07-23\", 3754], [\"POA\", \"MIA\", \"2020-07-06\", \"2020-07-23\", 3729], [\"POA\", \"MIA\", \"2020-07-06\", \"2020-07-23\", 3620], [\"POA\", \"MIA\", \"2020-07-06\", \"2020-07-23\", 3610]], \"hoverlabel\": {\"namelength\": 0}, \"hovertemplate\": \"EspecificoTodos=POAMIA-2020-07-06-2020-07-23<br>DataPesquisa=%{x}<br>preco=%{customdata[4]}<br>de=%{customdata[0]}<br>para=%{customdata[1]}<br>Ida=%{customdata[2]}<br>Volta=%{customdata[3]}\", \"legendgroup\": \"EspecificoTodos=POAMIA-2020-07-06-2020-07-23\", \"line\": {\"color\": \"#FECB52\", \"dash\": \"solid\"}, \"mode\": \"lines\", \"name\": \"EspecificoTodos=POAMIA-2020-07-06-2020-07-23\", \"showlegend\": true, \"type\": \"scatter\", \"x\": [\"16/01/2020 15\", \"16/01/2020 17\", \"17/01/2020 09\", \"17/01/2020 10\", \"17/01/2020 12\", \"17/01/2020 16\"], \"xaxis\": \"x\", \"y\": [3838, 3800, 3754, 3729, 3620, 3610], \"yaxis\": \"y\"}, {\"customdata\": [[\"POA\", \"MIA\", \"2020-07-07\", \"2020-07-21\", 3828], [\"POA\", \"MIA\", \"2020-07-07\", \"2020-07-21\", 3824], [\"POA\", \"MIA\", \"2020-07-07\", \"2020-07-21\", 3754], [\"POA\", \"MIA\", \"2020-07-07\", \"2020-07-21\", 3840], [\"POA\", \"MIA\", \"2020-07-07\", \"2020-07-21\", 3574], [\"POA\", \"MIA\", \"2020-07-07\", \"2020-07-21\", 3637]], \"hoverlabel\": {\"namelength\": 0}, \"hovertemplate\": \"EspecificoTodos=POAMIA-2020-07-07-2020-07-21<br>DataPesquisa=%{x}<br>preco=%{customdata[4]}<br>de=%{customdata[0]}<br>para=%{customdata[1]}<br>Ida=%{customdata[2]}<br>Volta=%{customdata[3]}\", \"legendgroup\": \"EspecificoTodos=POAMIA-2020-07-07-2020-07-21\", \"line\": {\"color\": \"#636efa\", \"dash\": \"solid\"}, \"mode\": \"lines\", \"name\": \"EspecificoTodos=POAMIA-2020-07-07-2020-07-21\", \"showlegend\": true, \"type\": \"scatter\", \"x\": [\"16/01/2020 15\", \"16/01/2020 17\", \"17/01/2020 09\", \"17/01/2020 10\", \"17/01/2020 12\", \"17/01/2020 16\"], \"xaxis\": \"x\", \"y\": [3828, 3824, 3754, 3840, 3574, 3637], \"yaxis\": \"y\"}, {\"customdata\": [[\"POA\", \"MIA\", \"2020-07-07\", \"2020-07-22\", 3798], [\"POA\", \"MIA\", \"2020-07-07\", \"2020-07-22\", 3855], [\"POA\", \"MIA\", \"2020-07-07\", \"2020-07-22\", 3708], [\"POA\", \"MIA\", \"2020-07-07\", \"2020-07-22\", 3895], [\"POA\", \"MIA\", \"2020-07-07\", \"2020-07-22\", 3619], [\"POA\", \"MIA\", \"2020-07-07\", \"2020-07-22\", 3666]], \"hoverlabel\": {\"namelength\": 0}, \"hovertemplate\": \"EspecificoTodos=POAMIA-2020-07-07-2020-07-22<br>DataPesquisa=%{x}<br>preco=%{customdata[4]}<br>de=%{customdata[0]}<br>para=%{customdata[1]}<br>Ida=%{customdata[2]}<br>Volta=%{customdata[3]}\", \"legendgroup\": \"EspecificoTodos=POAMIA-2020-07-07-2020-07-22\", \"line\": {\"color\": \"#EF553B\", \"dash\": \"solid\"}, \"mode\": \"lines\", \"name\": \"EspecificoTodos=POAMIA-2020-07-07-2020-07-22\", \"showlegend\": true, \"type\": \"scatter\", \"x\": [\"16/01/2020 15\", \"16/01/2020 17\", \"17/01/2020 09\", \"17/01/2020 10\", \"17/01/2020 12\", \"17/01/2020 16\"], \"xaxis\": \"x\", \"y\": [3798, 3855, 3708, 3895, 3619, 3666], \"yaxis\": \"y\"}, {\"customdata\": [[\"POA\", \"MIA\", \"2020-07-07\", \"2020-07-23\", 3812], [\"POA\", \"MIA\", \"2020-07-07\", \"2020-07-23\", 3777], [\"POA\", \"MIA\", \"2020-07-07\", \"2020-07-23\", 3736], [\"POA\", \"MIA\", \"2020-07-07\", \"2020-07-23\", 3770], [\"POA\", \"MIA\", \"2020-07-07\", \"2020-07-23\", 3560], [\"POA\", \"MIA\", \"2020-07-07\", \"2020-07-23\", 3648]], \"hoverlabel\": {\"namelength\": 0}, \"hovertemplate\": \"EspecificoTodos=POAMIA-2020-07-07-2020-07-23<br>DataPesquisa=%{x}<br>preco=%{customdata[4]}<br>de=%{customdata[0]}<br>para=%{customdata[1]}<br>Ida=%{customdata[2]}<br>Volta=%{customdata[3]}\", \"legendgroup\": \"EspecificoTodos=POAMIA-2020-07-07-2020-07-23\", \"line\": {\"color\": \"#00cc96\", \"dash\": \"solid\"}, \"mode\": \"lines\", \"name\": \"EspecificoTodos=POAMIA-2020-07-07-2020-07-23\", \"showlegend\": true, \"type\": \"scatter\", \"x\": [\"16/01/2020 15\", \"16/01/2020 17\", \"17/01/2020 09\", \"17/01/2020 10\", \"17/01/2020 12\", \"17/01/2020 16\"], \"xaxis\": \"x\", \"y\": [3812, 3777, 3736, 3770, 3560, 3648], \"yaxis\": \"y\"}, {\"customdata\": [[\"POA\", \"MIA\", \"2020-07-08\", \"2020-07-22\", 3950], [\"POA\", \"MIA\", \"2020-07-08\", \"2020-07-22\", 3958], [\"POA\", \"MIA\", \"2020-07-08\", \"2020-07-22\", 3743], [\"POA\", \"MIA\", \"2020-07-08\", \"2020-07-22\", 3889], [\"POA\", \"MIA\", \"2020-07-08\", \"2020-07-22\", 3696], [\"POA\", \"MIA\", \"2020-07-08\", \"2020-07-22\", 3792]], \"hoverlabel\": {\"namelength\": 0}, \"hovertemplate\": \"EspecificoTodos=POAMIA-2020-07-08-2020-07-22<br>DataPesquisa=%{x}<br>preco=%{customdata[4]}<br>de=%{customdata[0]}<br>para=%{customdata[1]}<br>Ida=%{customdata[2]}<br>Volta=%{customdata[3]}\", \"legendgroup\": \"EspecificoTodos=POAMIA-2020-07-08-2020-07-22\", \"line\": {\"color\": \"#ab63fa\", \"dash\": \"solid\"}, \"mode\": \"lines\", \"name\": \"EspecificoTodos=POAMIA-2020-07-08-2020-07-22\", \"showlegend\": true, \"type\": \"scatter\", \"x\": [\"16/01/2020 15\", \"16/01/2020 17\", \"17/01/2020 09\", \"17/01/2020 10\", \"17/01/2020 12\", \"17/01/2020 16\"], \"xaxis\": \"x\", \"y\": [3950, 3958, 3743, 3889, 3696, 3792], \"yaxis\": \"y\"}, {\"customdata\": [[\"POA\", \"MIA\", \"2020-07-08\", \"2020-07-23\", 3943], [\"POA\", \"MIA\", \"2020-07-08\", \"2020-07-23\", 3970], [\"POA\", \"MIA\", \"2020-07-08\", \"2020-07-23\", 3773], [\"POA\", \"MIA\", \"2020-07-08\", \"2020-07-23\", 3909], [\"POA\", \"MIA\", \"2020-07-08\", \"2020-07-23\", 3712], [\"POA\", \"MIA\", \"2020-07-08\", \"2020-07-23\", 3751]], \"hoverlabel\": {\"namelength\": 0}, \"hovertemplate\": \"EspecificoTodos=POAMIA-2020-07-08-2020-07-23<br>DataPesquisa=%{x}<br>preco=%{customdata[4]}<br>de=%{customdata[0]}<br>para=%{customdata[1]}<br>Ida=%{customdata[2]}<br>Volta=%{customdata[3]}\", \"legendgroup\": \"EspecificoTodos=POAMIA-2020-07-08-2020-07-23\", \"line\": {\"color\": \"#FFA15A\", \"dash\": \"solid\"}, \"mode\": \"lines\", \"name\": \"EspecificoTodos=POAMIA-2020-07-08-2020-07-23\", \"showlegend\": true, \"type\": \"scatter\", \"x\": [\"16/01/2020 15\", \"16/01/2020 17\", \"17/01/2020 09\", \"17/01/2020 10\", \"17/01/2020 12\", \"17/01/2020 16\"], \"xaxis\": \"x\", \"y\": [3943, 3970, 3773, 3909, 3712, 3751], \"yaxis\": \"y\"}],\n",
       "                        {\"height\": 600, \"legend\": {\"tracegroupgap\": 0}, \"margin\": {\"t\": 60}, \"template\": {\"data\": {\"bar\": [{\"error_x\": {\"color\": \"#2a3f5f\"}, \"error_y\": {\"color\": \"#2a3f5f\"}, \"marker\": {\"line\": {\"color\": \"#E5ECF6\", \"width\": 0.5}}, \"type\": \"bar\"}], \"barpolar\": [{\"marker\": {\"line\": {\"color\": \"#E5ECF6\", \"width\": 0.5}}, \"type\": \"barpolar\"}], \"carpet\": [{\"aaxis\": {\"endlinecolor\": \"#2a3f5f\", \"gridcolor\": \"white\", \"linecolor\": \"white\", \"minorgridcolor\": \"white\", \"startlinecolor\": \"#2a3f5f\"}, \"baxis\": {\"endlinecolor\": \"#2a3f5f\", \"gridcolor\": \"white\", \"linecolor\": \"white\", \"minorgridcolor\": \"white\", \"startlinecolor\": \"#2a3f5f\"}, \"type\": \"carpet\"}], \"choropleth\": [{\"colorbar\": {\"outlinewidth\": 0, \"ticks\": \"\"}, \"type\": \"choropleth\"}], \"contour\": [{\"colorbar\": {\"outlinewidth\": 0, \"ticks\": \"\"}, \"colorscale\": [[0.0, \"#0d0887\"], [0.1111111111111111, \"#46039f\"], [0.2222222222222222, \"#7201a8\"], [0.3333333333333333, \"#9c179e\"], [0.4444444444444444, \"#bd3786\"], [0.5555555555555556, \"#d8576b\"], [0.6666666666666666, \"#ed7953\"], [0.7777777777777778, \"#fb9f3a\"], [0.8888888888888888, \"#fdca26\"], [1.0, \"#f0f921\"]], \"type\": \"contour\"}], \"contourcarpet\": [{\"colorbar\": {\"outlinewidth\": 0, \"ticks\": \"\"}, \"type\": \"contourcarpet\"}], \"heatmap\": [{\"colorbar\": {\"outlinewidth\": 0, \"ticks\": \"\"}, \"colorscale\": [[0.0, \"#0d0887\"], [0.1111111111111111, \"#46039f\"], [0.2222222222222222, \"#7201a8\"], [0.3333333333333333, \"#9c179e\"], [0.4444444444444444, \"#bd3786\"], [0.5555555555555556, \"#d8576b\"], [0.6666666666666666, \"#ed7953\"], [0.7777777777777778, \"#fb9f3a\"], [0.8888888888888888, \"#fdca26\"], [1.0, \"#f0f921\"]], \"type\": \"heatmap\"}], \"heatmapgl\": [{\"colorbar\": {\"outlinewidth\": 0, \"ticks\": \"\"}, \"colorscale\": [[0.0, \"#0d0887\"], [0.1111111111111111, \"#46039f\"], [0.2222222222222222, \"#7201a8\"], [0.3333333333333333, \"#9c179e\"], [0.4444444444444444, \"#bd3786\"], [0.5555555555555556, \"#d8576b\"], [0.6666666666666666, \"#ed7953\"], [0.7777777777777778, \"#fb9f3a\"], [0.8888888888888888, \"#fdca26\"], [1.0, \"#f0f921\"]], \"type\": \"heatmapgl\"}], \"histogram\": [{\"marker\": {\"colorbar\": {\"outlinewidth\": 0, \"ticks\": \"\"}}, \"type\": \"histogram\"}], \"histogram2d\": [{\"colorbar\": {\"outlinewidth\": 0, \"ticks\": \"\"}, \"colorscale\": [[0.0, \"#0d0887\"], [0.1111111111111111, \"#46039f\"], [0.2222222222222222, \"#7201a8\"], [0.3333333333333333, \"#9c179e\"], [0.4444444444444444, \"#bd3786\"], [0.5555555555555556, \"#d8576b\"], [0.6666666666666666, \"#ed7953\"], [0.7777777777777778, \"#fb9f3a\"], [0.8888888888888888, \"#fdca26\"], [1.0, \"#f0f921\"]], \"type\": \"histogram2d\"}], \"histogram2dcontour\": [{\"colorbar\": {\"outlinewidth\": 0, \"ticks\": \"\"}, \"colorscale\": [[0.0, \"#0d0887\"], [0.1111111111111111, \"#46039f\"], [0.2222222222222222, \"#7201a8\"], [0.3333333333333333, \"#9c179e\"], [0.4444444444444444, \"#bd3786\"], [0.5555555555555556, \"#d8576b\"], [0.6666666666666666, \"#ed7953\"], [0.7777777777777778, \"#fb9f3a\"], [0.8888888888888888, \"#fdca26\"], [1.0, \"#f0f921\"]], \"type\": \"histogram2dcontour\"}], \"mesh3d\": [{\"colorbar\": {\"outlinewidth\": 0, \"ticks\": \"\"}, \"type\": \"mesh3d\"}], \"parcoords\": [{\"line\": {\"colorbar\": {\"outlinewidth\": 0, \"ticks\": \"\"}}, \"type\": \"parcoords\"}], \"scatter\": [{\"marker\": {\"colorbar\": {\"outlinewidth\": 0, \"ticks\": \"\"}}, \"type\": \"scatter\"}], \"scatter3d\": [{\"line\": {\"colorbar\": {\"outlinewidth\": 0, \"ticks\": \"\"}}, \"marker\": {\"colorbar\": {\"outlinewidth\": 0, \"ticks\": \"\"}}, \"type\": \"scatter3d\"}], \"scattercarpet\": [{\"marker\": {\"colorbar\": {\"outlinewidth\": 0, \"ticks\": \"\"}}, \"type\": \"scattercarpet\"}], \"scattergeo\": [{\"marker\": {\"colorbar\": {\"outlinewidth\": 0, \"ticks\": \"\"}}, \"type\": \"scattergeo\"}], \"scattergl\": [{\"marker\": {\"colorbar\": {\"outlinewidth\": 0, \"ticks\": \"\"}}, \"type\": \"scattergl\"}], \"scattermapbox\": [{\"marker\": {\"colorbar\": {\"outlinewidth\": 0, \"ticks\": \"\"}}, \"type\": \"scattermapbox\"}], \"scatterpolar\": [{\"marker\": {\"colorbar\": {\"outlinewidth\": 0, \"ticks\": \"\"}}, \"type\": \"scatterpolar\"}], \"scatterpolargl\": [{\"marker\": {\"colorbar\": {\"outlinewidth\": 0, \"ticks\": \"\"}}, \"type\": \"scatterpolargl\"}], \"scatterternary\": [{\"marker\": {\"colorbar\": {\"outlinewidth\": 0, \"ticks\": \"\"}}, \"type\": \"scatterternary\"}], \"surface\": [{\"colorbar\": {\"outlinewidth\": 0, \"ticks\": \"\"}, \"colorscale\": [[0.0, \"#0d0887\"], [0.1111111111111111, \"#46039f\"], [0.2222222222222222, \"#7201a8\"], [0.3333333333333333, \"#9c179e\"], [0.4444444444444444, \"#bd3786\"], [0.5555555555555556, \"#d8576b\"], [0.6666666666666666, \"#ed7953\"], [0.7777777777777778, \"#fb9f3a\"], [0.8888888888888888, \"#fdca26\"], [1.0, \"#f0f921\"]], \"type\": \"surface\"}], \"table\": [{\"cells\": {\"fill\": {\"color\": \"#EBF0F8\"}, \"line\": {\"color\": \"white\"}}, \"header\": {\"fill\": {\"color\": \"#C8D4E3\"}, \"line\": {\"color\": \"white\"}}, \"type\": \"table\"}]}, \"layout\": {\"annotationdefaults\": {\"arrowcolor\": \"#2a3f5f\", \"arrowhead\": 0, \"arrowwidth\": 1}, \"colorscale\": {\"diverging\": [[0, \"#8e0152\"], [0.1, \"#c51b7d\"], [0.2, \"#de77ae\"], [0.3, \"#f1b6da\"], [0.4, \"#fde0ef\"], [0.5, \"#f7f7f7\"], [0.6, \"#e6f5d0\"], [0.7, \"#b8e186\"], [0.8, \"#7fbc41\"], [0.9, \"#4d9221\"], [1, \"#276419\"]], \"sequential\": [[0.0, \"#0d0887\"], [0.1111111111111111, \"#46039f\"], [0.2222222222222222, \"#7201a8\"], [0.3333333333333333, \"#9c179e\"], [0.4444444444444444, \"#bd3786\"], [0.5555555555555556, \"#d8576b\"], [0.6666666666666666, \"#ed7953\"], [0.7777777777777778, \"#fb9f3a\"], [0.8888888888888888, \"#fdca26\"], [1.0, \"#f0f921\"]], \"sequentialminus\": [[0.0, \"#0d0887\"], [0.1111111111111111, \"#46039f\"], [0.2222222222222222, \"#7201a8\"], [0.3333333333333333, \"#9c179e\"], [0.4444444444444444, \"#bd3786\"], [0.5555555555555556, \"#d8576b\"], [0.6666666666666666, \"#ed7953\"], [0.7777777777777778, \"#fb9f3a\"], [0.8888888888888888, \"#fdca26\"], [1.0, \"#f0f921\"]]}, \"colorway\": [\"#636efa\", \"#EF553B\", \"#00cc96\", \"#ab63fa\", \"#FFA15A\", \"#19d3f3\", \"#FF6692\", \"#B6E880\", \"#FF97FF\", \"#FECB52\"], \"font\": {\"color\": \"#2a3f5f\"}, \"geo\": {\"bgcolor\": \"white\", \"lakecolor\": \"white\", \"landcolor\": \"#E5ECF6\", \"showlakes\": true, \"showland\": true, \"subunitcolor\": \"white\"}, \"hoverlabel\": {\"align\": \"left\"}, \"hovermode\": \"closest\", \"mapbox\": {\"style\": \"light\"}, \"paper_bgcolor\": \"white\", \"plot_bgcolor\": \"#E5ECF6\", \"polar\": {\"angularaxis\": {\"gridcolor\": \"white\", \"linecolor\": \"white\", \"ticks\": \"\"}, \"bgcolor\": \"#E5ECF6\", \"radialaxis\": {\"gridcolor\": \"white\", \"linecolor\": \"white\", \"ticks\": \"\"}}, \"scene\": {\"xaxis\": {\"backgroundcolor\": \"#E5ECF6\", \"gridcolor\": \"white\", \"gridwidth\": 2, \"linecolor\": \"white\", \"showbackground\": true, \"ticks\": \"\", \"zerolinecolor\": \"white\"}, \"yaxis\": {\"backgroundcolor\": \"#E5ECF6\", \"gridcolor\": \"white\", \"gridwidth\": 2, \"linecolor\": \"white\", \"showbackground\": true, \"ticks\": \"\", \"zerolinecolor\": \"white\"}, \"zaxis\": {\"backgroundcolor\": \"#E5ECF6\", \"gridcolor\": \"white\", \"gridwidth\": 2, \"linecolor\": \"white\", \"showbackground\": true, \"ticks\": \"\", \"zerolinecolor\": \"white\"}}, \"shapedefaults\": {\"line\": {\"color\": \"#2a3f5f\"}}, \"ternary\": {\"aaxis\": {\"gridcolor\": \"white\", \"linecolor\": \"white\", \"ticks\": \"\"}, \"baxis\": {\"gridcolor\": \"white\", \"linecolor\": \"white\", \"ticks\": \"\"}, \"bgcolor\": \"#E5ECF6\", \"caxis\": {\"gridcolor\": \"white\", \"linecolor\": \"white\", \"ticks\": \"\"}}, \"title\": {\"x\": 0.05}, \"xaxis\": {\"automargin\": true, \"gridcolor\": \"white\", \"linecolor\": \"white\", \"ticks\": \"\", \"zerolinecolor\": \"white\", \"zerolinewidth\": 2}, \"yaxis\": {\"automargin\": true, \"gridcolor\": \"white\", \"linecolor\": \"white\", \"ticks\": \"\", \"zerolinecolor\": \"white\", \"zerolinewidth\": 2}}}, \"xaxis\": {\"anchor\": \"y\", \"domain\": [0.0, 0.98], \"title\": {\"text\": \"DataPesquisa\"}}, \"yaxis\": {\"anchor\": \"x\", \"domain\": [0.0, 1.0], \"title\": {\"text\": \"preco\"}}},\n",
       "                        {\"responsive\": true}\n",
       "                    ).then(function(){\n",
       "                            \n",
       "var gd = document.getElementById('731caf22-557f-44e3-bdc9-eec42c2a00a4');\n",
       "var x = new MutationObserver(function (mutations, observer) {{\n",
       "        var display = window.getComputedStyle(gd).display;\n",
       "        if (!display || display === 'none') {{\n",
       "            console.log([gd, 'removed!']);\n",
       "            Plotly.purge(gd);\n",
       "            observer.disconnect();\n",
       "        }}\n",
       "}});\n",
       "\n",
       "// Listen for the removal of the full notebook cells\n",
       "var notebookContainer = gd.closest('#notebook-container');\n",
       "if (notebookContainer) {{\n",
       "    x.observe(notebookContainer, {childList: true});\n",
       "}}\n",
       "\n",
       "// Listen for the clearing of the current output cell\n",
       "var outputEl = gd.closest('.output');\n",
       "if (outputEl) {{\n",
       "    x.observe(outputEl, {childList: true});\n",
       "}}\n",
       "\n",
       "                        })\n",
       "                };\n",
       "                });\n",
       "            </script>\n",
       "        </div>"
      ]
     },
     "metadata": {},
     "output_type": "display_data"
    },
    {
     "data": {
      "application/vnd.plotly.v1+json": {
       "config": {
        "plotlyServerURL": "https://plot.ly"
       },
       "data": [
        {
         "customdata": [
          [
           "POA",
           "ATL",
           "2020-07-05",
           "2020-07-20",
           6561
          ],
          [
           "POA",
           "ATL",
           "2020-07-05",
           "2020-07-20",
           6561
          ],
          [
           "POA",
           "ATL",
           "2020-07-05",
           "2020-07-20",
           6175
          ],
          [
           "POA",
           "ATL",
           "2020-07-05",
           "2020-07-20",
           6175
          ],
          [
           "POA",
           "ATL",
           "2020-07-05",
           "2020-07-20",
           6175
          ],
          [
           "POA",
           "ATL",
           "2020-07-05",
           "2020-07-20",
           6175
          ]
         ],
         "hoverlabel": {
          "namelength": 0
         },
         "hovertemplate": "EspecificoTodos=POAATL-2020-07-05-2020-07-20<br>DataPesquisa=%{x}<br>preco=%{customdata[4]}<br>de=%{customdata[0]}<br>para=%{customdata[1]}<br>Ida=%{customdata[2]}<br>Volta=%{customdata[3]}",
         "legendgroup": "EspecificoTodos=POAATL-2020-07-05-2020-07-20",
         "line": {
          "color": "#636efa",
          "dash": "solid"
         },
         "mode": "lines",
         "name": "EspecificoTodos=POAATL-2020-07-05-2020-07-20",
         "showlegend": true,
         "type": "scatter",
         "x": [
          "16/01/2020 15",
          "16/01/2020 17",
          "17/01/2020 09",
          "17/01/2020 10",
          "17/01/2020 12",
          "17/01/2020 16"
         ],
         "xaxis": "x",
         "y": [
          6561,
          6561,
          6175,
          6175,
          6175,
          6175
         ],
         "yaxis": "y"
        }
       ],
       "layout": {
        "height": 600,
        "legend": {
         "tracegroupgap": 0
        },
        "margin": {
         "t": 60
        },
        "template": {
         "data": {
          "bar": [
           {
            "error_x": {
             "color": "#2a3f5f"
            },
            "error_y": {
             "color": "#2a3f5f"
            },
            "marker": {
             "line": {
              "color": "#E5ECF6",
              "width": 0.5
             }
            },
            "type": "bar"
           }
          ],
          "barpolar": [
           {
            "marker": {
             "line": {
              "color": "#E5ECF6",
              "width": 0.5
             }
            },
            "type": "barpolar"
           }
          ],
          "carpet": [
           {
            "aaxis": {
             "endlinecolor": "#2a3f5f",
             "gridcolor": "white",
             "linecolor": "white",
             "minorgridcolor": "white",
             "startlinecolor": "#2a3f5f"
            },
            "baxis": {
             "endlinecolor": "#2a3f5f",
             "gridcolor": "white",
             "linecolor": "white",
             "minorgridcolor": "white",
             "startlinecolor": "#2a3f5f"
            },
            "type": "carpet"
           }
          ],
          "choropleth": [
           {
            "colorbar": {
             "outlinewidth": 0,
             "ticks": ""
            },
            "type": "choropleth"
           }
          ],
          "contour": [
           {
            "colorbar": {
             "outlinewidth": 0,
             "ticks": ""
            },
            "colorscale": [
             [
              0,
              "#0d0887"
             ],
             [
              0.1111111111111111,
              "#46039f"
             ],
             [
              0.2222222222222222,
              "#7201a8"
             ],
             [
              0.3333333333333333,
              "#9c179e"
             ],
             [
              0.4444444444444444,
              "#bd3786"
             ],
             [
              0.5555555555555556,
              "#d8576b"
             ],
             [
              0.6666666666666666,
              "#ed7953"
             ],
             [
              0.7777777777777778,
              "#fb9f3a"
             ],
             [
              0.8888888888888888,
              "#fdca26"
             ],
             [
              1,
              "#f0f921"
             ]
            ],
            "type": "contour"
           }
          ],
          "contourcarpet": [
           {
            "colorbar": {
             "outlinewidth": 0,
             "ticks": ""
            },
            "type": "contourcarpet"
           }
          ],
          "heatmap": [
           {
            "colorbar": {
             "outlinewidth": 0,
             "ticks": ""
            },
            "colorscale": [
             [
              0,
              "#0d0887"
             ],
             [
              0.1111111111111111,
              "#46039f"
             ],
             [
              0.2222222222222222,
              "#7201a8"
             ],
             [
              0.3333333333333333,
              "#9c179e"
             ],
             [
              0.4444444444444444,
              "#bd3786"
             ],
             [
              0.5555555555555556,
              "#d8576b"
             ],
             [
              0.6666666666666666,
              "#ed7953"
             ],
             [
              0.7777777777777778,
              "#fb9f3a"
             ],
             [
              0.8888888888888888,
              "#fdca26"
             ],
             [
              1,
              "#f0f921"
             ]
            ],
            "type": "heatmap"
           }
          ],
          "heatmapgl": [
           {
            "colorbar": {
             "outlinewidth": 0,
             "ticks": ""
            },
            "colorscale": [
             [
              0,
              "#0d0887"
             ],
             [
              0.1111111111111111,
              "#46039f"
             ],
             [
              0.2222222222222222,
              "#7201a8"
             ],
             [
              0.3333333333333333,
              "#9c179e"
             ],
             [
              0.4444444444444444,
              "#bd3786"
             ],
             [
              0.5555555555555556,
              "#d8576b"
             ],
             [
              0.6666666666666666,
              "#ed7953"
             ],
             [
              0.7777777777777778,
              "#fb9f3a"
             ],
             [
              0.8888888888888888,
              "#fdca26"
             ],
             [
              1,
              "#f0f921"
             ]
            ],
            "type": "heatmapgl"
           }
          ],
          "histogram": [
           {
            "marker": {
             "colorbar": {
              "outlinewidth": 0,
              "ticks": ""
             }
            },
            "type": "histogram"
           }
          ],
          "histogram2d": [
           {
            "colorbar": {
             "outlinewidth": 0,
             "ticks": ""
            },
            "colorscale": [
             [
              0,
              "#0d0887"
             ],
             [
              0.1111111111111111,
              "#46039f"
             ],
             [
              0.2222222222222222,
              "#7201a8"
             ],
             [
              0.3333333333333333,
              "#9c179e"
             ],
             [
              0.4444444444444444,
              "#bd3786"
             ],
             [
              0.5555555555555556,
              "#d8576b"
             ],
             [
              0.6666666666666666,
              "#ed7953"
             ],
             [
              0.7777777777777778,
              "#fb9f3a"
             ],
             [
              0.8888888888888888,
              "#fdca26"
             ],
             [
              1,
              "#f0f921"
             ]
            ],
            "type": "histogram2d"
           }
          ],
          "histogram2dcontour": [
           {
            "colorbar": {
             "outlinewidth": 0,
             "ticks": ""
            },
            "colorscale": [
             [
              0,
              "#0d0887"
             ],
             [
              0.1111111111111111,
              "#46039f"
             ],
             [
              0.2222222222222222,
              "#7201a8"
             ],
             [
              0.3333333333333333,
              "#9c179e"
             ],
             [
              0.4444444444444444,
              "#bd3786"
             ],
             [
              0.5555555555555556,
              "#d8576b"
             ],
             [
              0.6666666666666666,
              "#ed7953"
             ],
             [
              0.7777777777777778,
              "#fb9f3a"
             ],
             [
              0.8888888888888888,
              "#fdca26"
             ],
             [
              1,
              "#f0f921"
             ]
            ],
            "type": "histogram2dcontour"
           }
          ],
          "mesh3d": [
           {
            "colorbar": {
             "outlinewidth": 0,
             "ticks": ""
            },
            "type": "mesh3d"
           }
          ],
          "parcoords": [
           {
            "line": {
             "colorbar": {
              "outlinewidth": 0,
              "ticks": ""
             }
            },
            "type": "parcoords"
           }
          ],
          "scatter": [
           {
            "marker": {
             "colorbar": {
              "outlinewidth": 0,
              "ticks": ""
             }
            },
            "type": "scatter"
           }
          ],
          "scatter3d": [
           {
            "line": {
             "colorbar": {
              "outlinewidth": 0,
              "ticks": ""
             }
            },
            "marker": {
             "colorbar": {
              "outlinewidth": 0,
              "ticks": ""
             }
            },
            "type": "scatter3d"
           }
          ],
          "scattercarpet": [
           {
            "marker": {
             "colorbar": {
              "outlinewidth": 0,
              "ticks": ""
             }
            },
            "type": "scattercarpet"
           }
          ],
          "scattergeo": [
           {
            "marker": {
             "colorbar": {
              "outlinewidth": 0,
              "ticks": ""
             }
            },
            "type": "scattergeo"
           }
          ],
          "scattergl": [
           {
            "marker": {
             "colorbar": {
              "outlinewidth": 0,
              "ticks": ""
             }
            },
            "type": "scattergl"
           }
          ],
          "scattermapbox": [
           {
            "marker": {
             "colorbar": {
              "outlinewidth": 0,
              "ticks": ""
             }
            },
            "type": "scattermapbox"
           }
          ],
          "scatterpolar": [
           {
            "marker": {
             "colorbar": {
              "outlinewidth": 0,
              "ticks": ""
             }
            },
            "type": "scatterpolar"
           }
          ],
          "scatterpolargl": [
           {
            "marker": {
             "colorbar": {
              "outlinewidth": 0,
              "ticks": ""
             }
            },
            "type": "scatterpolargl"
           }
          ],
          "scatterternary": [
           {
            "marker": {
             "colorbar": {
              "outlinewidth": 0,
              "ticks": ""
             }
            },
            "type": "scatterternary"
           }
          ],
          "surface": [
           {
            "colorbar": {
             "outlinewidth": 0,
             "ticks": ""
            },
            "colorscale": [
             [
              0,
              "#0d0887"
             ],
             [
              0.1111111111111111,
              "#46039f"
             ],
             [
              0.2222222222222222,
              "#7201a8"
             ],
             [
              0.3333333333333333,
              "#9c179e"
             ],
             [
              0.4444444444444444,
              "#bd3786"
             ],
             [
              0.5555555555555556,
              "#d8576b"
             ],
             [
              0.6666666666666666,
              "#ed7953"
             ],
             [
              0.7777777777777778,
              "#fb9f3a"
             ],
             [
              0.8888888888888888,
              "#fdca26"
             ],
             [
              1,
              "#f0f921"
             ]
            ],
            "type": "surface"
           }
          ],
          "table": [
           {
            "cells": {
             "fill": {
              "color": "#EBF0F8"
             },
             "line": {
              "color": "white"
             }
            },
            "header": {
             "fill": {
              "color": "#C8D4E3"
             },
             "line": {
              "color": "white"
             }
            },
            "type": "table"
           }
          ]
         },
         "layout": {
          "annotationdefaults": {
           "arrowcolor": "#2a3f5f",
           "arrowhead": 0,
           "arrowwidth": 1
          },
          "colorscale": {
           "diverging": [
            [
             0,
             "#8e0152"
            ],
            [
             0.1,
             "#c51b7d"
            ],
            [
             0.2,
             "#de77ae"
            ],
            [
             0.3,
             "#f1b6da"
            ],
            [
             0.4,
             "#fde0ef"
            ],
            [
             0.5,
             "#f7f7f7"
            ],
            [
             0.6,
             "#e6f5d0"
            ],
            [
             0.7,
             "#b8e186"
            ],
            [
             0.8,
             "#7fbc41"
            ],
            [
             0.9,
             "#4d9221"
            ],
            [
             1,
             "#276419"
            ]
           ],
           "sequential": [
            [
             0,
             "#0d0887"
            ],
            [
             0.1111111111111111,
             "#46039f"
            ],
            [
             0.2222222222222222,
             "#7201a8"
            ],
            [
             0.3333333333333333,
             "#9c179e"
            ],
            [
             0.4444444444444444,
             "#bd3786"
            ],
            [
             0.5555555555555556,
             "#d8576b"
            ],
            [
             0.6666666666666666,
             "#ed7953"
            ],
            [
             0.7777777777777778,
             "#fb9f3a"
            ],
            [
             0.8888888888888888,
             "#fdca26"
            ],
            [
             1,
             "#f0f921"
            ]
           ],
           "sequentialminus": [
            [
             0,
             "#0d0887"
            ],
            [
             0.1111111111111111,
             "#46039f"
            ],
            [
             0.2222222222222222,
             "#7201a8"
            ],
            [
             0.3333333333333333,
             "#9c179e"
            ],
            [
             0.4444444444444444,
             "#bd3786"
            ],
            [
             0.5555555555555556,
             "#d8576b"
            ],
            [
             0.6666666666666666,
             "#ed7953"
            ],
            [
             0.7777777777777778,
             "#fb9f3a"
            ],
            [
             0.8888888888888888,
             "#fdca26"
            ],
            [
             1,
             "#f0f921"
            ]
           ]
          },
          "colorway": [
           "#636efa",
           "#EF553B",
           "#00cc96",
           "#ab63fa",
           "#FFA15A",
           "#19d3f3",
           "#FF6692",
           "#B6E880",
           "#FF97FF",
           "#FECB52"
          ],
          "font": {
           "color": "#2a3f5f"
          },
          "geo": {
           "bgcolor": "white",
           "lakecolor": "white",
           "landcolor": "#E5ECF6",
           "showlakes": true,
           "showland": true,
           "subunitcolor": "white"
          },
          "hoverlabel": {
           "align": "left"
          },
          "hovermode": "closest",
          "mapbox": {
           "style": "light"
          },
          "paper_bgcolor": "white",
          "plot_bgcolor": "#E5ECF6",
          "polar": {
           "angularaxis": {
            "gridcolor": "white",
            "linecolor": "white",
            "ticks": ""
           },
           "bgcolor": "#E5ECF6",
           "radialaxis": {
            "gridcolor": "white",
            "linecolor": "white",
            "ticks": ""
           }
          },
          "scene": {
           "xaxis": {
            "backgroundcolor": "#E5ECF6",
            "gridcolor": "white",
            "gridwidth": 2,
            "linecolor": "white",
            "showbackground": true,
            "ticks": "",
            "zerolinecolor": "white"
           },
           "yaxis": {
            "backgroundcolor": "#E5ECF6",
            "gridcolor": "white",
            "gridwidth": 2,
            "linecolor": "white",
            "showbackground": true,
            "ticks": "",
            "zerolinecolor": "white"
           },
           "zaxis": {
            "backgroundcolor": "#E5ECF6",
            "gridcolor": "white",
            "gridwidth": 2,
            "linecolor": "white",
            "showbackground": true,
            "ticks": "",
            "zerolinecolor": "white"
           }
          },
          "shapedefaults": {
           "line": {
            "color": "#2a3f5f"
           }
          },
          "ternary": {
           "aaxis": {
            "gridcolor": "white",
            "linecolor": "white",
            "ticks": ""
           },
           "baxis": {
            "gridcolor": "white",
            "linecolor": "white",
            "ticks": ""
           },
           "bgcolor": "#E5ECF6",
           "caxis": {
            "gridcolor": "white",
            "linecolor": "white",
            "ticks": ""
           }
          },
          "title": {
           "x": 0.05
          },
          "xaxis": {
           "automargin": true,
           "gridcolor": "white",
           "linecolor": "white",
           "ticks": "",
           "zerolinecolor": "white",
           "zerolinewidth": 2
          },
          "yaxis": {
           "automargin": true,
           "gridcolor": "white",
           "linecolor": "white",
           "ticks": "",
           "zerolinecolor": "white",
           "zerolinewidth": 2
          }
         }
        },
        "xaxis": {
         "anchor": "y",
         "domain": [
          0,
          0.98
         ],
         "title": {
          "text": "DataPesquisa"
         }
        },
        "yaxis": {
         "anchor": "x",
         "domain": [
          0,
          1
         ],
         "title": {
          "text": "preco"
         }
        }
       }
      },
      "text/html": [
       "<div>\n",
       "        \n",
       "        \n",
       "            <div id=\"09a38dba-b10e-40cb-abd0-569de4f7fcfc\" class=\"plotly-graph-div\" style=\"height:600px; width:100%;\"></div>\n",
       "            <script type=\"text/javascript\">\n",
       "                require([\"plotly\"], function(Plotly) {\n",
       "                    window.PLOTLYENV=window.PLOTLYENV || {};\n",
       "                    \n",
       "                if (document.getElementById(\"09a38dba-b10e-40cb-abd0-569de4f7fcfc\")) {\n",
       "                    Plotly.newPlot(\n",
       "                        '09a38dba-b10e-40cb-abd0-569de4f7fcfc',\n",
       "                        [{\"customdata\": [[\"POA\", \"ATL\", \"2020-07-05\", \"2020-07-20\", 6561], [\"POA\", \"ATL\", \"2020-07-05\", \"2020-07-20\", 6561], [\"POA\", \"ATL\", \"2020-07-05\", \"2020-07-20\", 6175], [\"POA\", \"ATL\", \"2020-07-05\", \"2020-07-20\", 6175], [\"POA\", \"ATL\", \"2020-07-05\", \"2020-07-20\", 6175], [\"POA\", \"ATL\", \"2020-07-05\", \"2020-07-20\", 6175]], \"hoverlabel\": {\"namelength\": 0}, \"hovertemplate\": \"EspecificoTodos=POAATL-2020-07-05-2020-07-20<br>DataPesquisa=%{x}<br>preco=%{customdata[4]}<br>de=%{customdata[0]}<br>para=%{customdata[1]}<br>Ida=%{customdata[2]}<br>Volta=%{customdata[3]}\", \"legendgroup\": \"EspecificoTodos=POAATL-2020-07-05-2020-07-20\", \"line\": {\"color\": \"#636efa\", \"dash\": \"solid\"}, \"mode\": \"lines\", \"name\": \"EspecificoTodos=POAATL-2020-07-05-2020-07-20\", \"showlegend\": true, \"type\": \"scatter\", \"x\": [\"16/01/2020 15\", \"16/01/2020 17\", \"17/01/2020 09\", \"17/01/2020 10\", \"17/01/2020 12\", \"17/01/2020 16\"], \"xaxis\": \"x\", \"y\": [6561, 6561, 6175, 6175, 6175, 6175], \"yaxis\": \"y\"}],\n",
       "                        {\"height\": 600, \"legend\": {\"tracegroupgap\": 0}, \"margin\": {\"t\": 60}, \"template\": {\"data\": {\"bar\": [{\"error_x\": {\"color\": \"#2a3f5f\"}, \"error_y\": {\"color\": \"#2a3f5f\"}, \"marker\": {\"line\": {\"color\": \"#E5ECF6\", \"width\": 0.5}}, \"type\": \"bar\"}], \"barpolar\": [{\"marker\": {\"line\": {\"color\": \"#E5ECF6\", \"width\": 0.5}}, \"type\": \"barpolar\"}], \"carpet\": [{\"aaxis\": {\"endlinecolor\": \"#2a3f5f\", \"gridcolor\": \"white\", \"linecolor\": \"white\", \"minorgridcolor\": \"white\", \"startlinecolor\": \"#2a3f5f\"}, \"baxis\": {\"endlinecolor\": \"#2a3f5f\", \"gridcolor\": \"white\", \"linecolor\": \"white\", \"minorgridcolor\": \"white\", \"startlinecolor\": \"#2a3f5f\"}, \"type\": \"carpet\"}], \"choropleth\": [{\"colorbar\": {\"outlinewidth\": 0, \"ticks\": \"\"}, \"type\": \"choropleth\"}], \"contour\": [{\"colorbar\": {\"outlinewidth\": 0, \"ticks\": \"\"}, \"colorscale\": [[0.0, \"#0d0887\"], [0.1111111111111111, \"#46039f\"], [0.2222222222222222, \"#7201a8\"], [0.3333333333333333, \"#9c179e\"], [0.4444444444444444, \"#bd3786\"], [0.5555555555555556, \"#d8576b\"], [0.6666666666666666, \"#ed7953\"], [0.7777777777777778, \"#fb9f3a\"], [0.8888888888888888, \"#fdca26\"], [1.0, \"#f0f921\"]], \"type\": \"contour\"}], \"contourcarpet\": [{\"colorbar\": {\"outlinewidth\": 0, \"ticks\": \"\"}, \"type\": \"contourcarpet\"}], \"heatmap\": [{\"colorbar\": {\"outlinewidth\": 0, \"ticks\": \"\"}, \"colorscale\": [[0.0, \"#0d0887\"], [0.1111111111111111, \"#46039f\"], [0.2222222222222222, \"#7201a8\"], [0.3333333333333333, \"#9c179e\"], [0.4444444444444444, \"#bd3786\"], [0.5555555555555556, \"#d8576b\"], [0.6666666666666666, \"#ed7953\"], [0.7777777777777778, \"#fb9f3a\"], [0.8888888888888888, \"#fdca26\"], [1.0, \"#f0f921\"]], \"type\": \"heatmap\"}], \"heatmapgl\": [{\"colorbar\": {\"outlinewidth\": 0, \"ticks\": \"\"}, \"colorscale\": [[0.0, \"#0d0887\"], [0.1111111111111111, \"#46039f\"], [0.2222222222222222, \"#7201a8\"], [0.3333333333333333, \"#9c179e\"], [0.4444444444444444, \"#bd3786\"], [0.5555555555555556, \"#d8576b\"], [0.6666666666666666, \"#ed7953\"], [0.7777777777777778, \"#fb9f3a\"], [0.8888888888888888, \"#fdca26\"], [1.0, \"#f0f921\"]], \"type\": \"heatmapgl\"}], \"histogram\": [{\"marker\": {\"colorbar\": {\"outlinewidth\": 0, \"ticks\": \"\"}}, \"type\": \"histogram\"}], \"histogram2d\": [{\"colorbar\": {\"outlinewidth\": 0, \"ticks\": \"\"}, \"colorscale\": [[0.0, \"#0d0887\"], [0.1111111111111111, \"#46039f\"], [0.2222222222222222, \"#7201a8\"], [0.3333333333333333, \"#9c179e\"], [0.4444444444444444, \"#bd3786\"], [0.5555555555555556, \"#d8576b\"], [0.6666666666666666, \"#ed7953\"], [0.7777777777777778, \"#fb9f3a\"], [0.8888888888888888, \"#fdca26\"], [1.0, \"#f0f921\"]], \"type\": \"histogram2d\"}], \"histogram2dcontour\": [{\"colorbar\": {\"outlinewidth\": 0, \"ticks\": \"\"}, \"colorscale\": [[0.0, \"#0d0887\"], [0.1111111111111111, \"#46039f\"], [0.2222222222222222, \"#7201a8\"], [0.3333333333333333, \"#9c179e\"], [0.4444444444444444, \"#bd3786\"], [0.5555555555555556, \"#d8576b\"], [0.6666666666666666, \"#ed7953\"], [0.7777777777777778, \"#fb9f3a\"], [0.8888888888888888, \"#fdca26\"], [1.0, \"#f0f921\"]], \"type\": \"histogram2dcontour\"}], \"mesh3d\": [{\"colorbar\": {\"outlinewidth\": 0, \"ticks\": \"\"}, \"type\": \"mesh3d\"}], \"parcoords\": [{\"line\": {\"colorbar\": {\"outlinewidth\": 0, \"ticks\": \"\"}}, \"type\": \"parcoords\"}], \"scatter\": [{\"marker\": {\"colorbar\": {\"outlinewidth\": 0, \"ticks\": \"\"}}, \"type\": \"scatter\"}], \"scatter3d\": [{\"line\": {\"colorbar\": {\"outlinewidth\": 0, \"ticks\": \"\"}}, \"marker\": {\"colorbar\": {\"outlinewidth\": 0, \"ticks\": \"\"}}, \"type\": \"scatter3d\"}], \"scattercarpet\": [{\"marker\": {\"colorbar\": {\"outlinewidth\": 0, \"ticks\": \"\"}}, \"type\": \"scattercarpet\"}], \"scattergeo\": [{\"marker\": {\"colorbar\": {\"outlinewidth\": 0, \"ticks\": \"\"}}, \"type\": \"scattergeo\"}], \"scattergl\": [{\"marker\": {\"colorbar\": {\"outlinewidth\": 0, \"ticks\": \"\"}}, \"type\": \"scattergl\"}], \"scattermapbox\": [{\"marker\": {\"colorbar\": {\"outlinewidth\": 0, \"ticks\": \"\"}}, \"type\": \"scattermapbox\"}], \"scatterpolar\": [{\"marker\": {\"colorbar\": {\"outlinewidth\": 0, \"ticks\": \"\"}}, \"type\": \"scatterpolar\"}], \"scatterpolargl\": [{\"marker\": {\"colorbar\": {\"outlinewidth\": 0, \"ticks\": \"\"}}, \"type\": \"scatterpolargl\"}], \"scatterternary\": [{\"marker\": {\"colorbar\": {\"outlinewidth\": 0, \"ticks\": \"\"}}, \"type\": \"scatterternary\"}], \"surface\": [{\"colorbar\": {\"outlinewidth\": 0, \"ticks\": \"\"}, \"colorscale\": [[0.0, \"#0d0887\"], [0.1111111111111111, \"#46039f\"], [0.2222222222222222, \"#7201a8\"], [0.3333333333333333, \"#9c179e\"], [0.4444444444444444, \"#bd3786\"], [0.5555555555555556, \"#d8576b\"], [0.6666666666666666, \"#ed7953\"], [0.7777777777777778, \"#fb9f3a\"], [0.8888888888888888, \"#fdca26\"], [1.0, \"#f0f921\"]], \"type\": \"surface\"}], \"table\": [{\"cells\": {\"fill\": {\"color\": \"#EBF0F8\"}, \"line\": {\"color\": \"white\"}}, \"header\": {\"fill\": {\"color\": \"#C8D4E3\"}, \"line\": {\"color\": \"white\"}}, \"type\": \"table\"}]}, \"layout\": {\"annotationdefaults\": {\"arrowcolor\": \"#2a3f5f\", \"arrowhead\": 0, \"arrowwidth\": 1}, \"colorscale\": {\"diverging\": [[0, \"#8e0152\"], [0.1, \"#c51b7d\"], [0.2, \"#de77ae\"], [0.3, \"#f1b6da\"], [0.4, \"#fde0ef\"], [0.5, \"#f7f7f7\"], [0.6, \"#e6f5d0\"], [0.7, \"#b8e186\"], [0.8, \"#7fbc41\"], [0.9, \"#4d9221\"], [1, \"#276419\"]], \"sequential\": [[0.0, \"#0d0887\"], [0.1111111111111111, \"#46039f\"], [0.2222222222222222, \"#7201a8\"], [0.3333333333333333, \"#9c179e\"], [0.4444444444444444, \"#bd3786\"], [0.5555555555555556, \"#d8576b\"], [0.6666666666666666, \"#ed7953\"], [0.7777777777777778, \"#fb9f3a\"], [0.8888888888888888, \"#fdca26\"], [1.0, \"#f0f921\"]], \"sequentialminus\": [[0.0, \"#0d0887\"], [0.1111111111111111, \"#46039f\"], [0.2222222222222222, \"#7201a8\"], [0.3333333333333333, \"#9c179e\"], [0.4444444444444444, \"#bd3786\"], [0.5555555555555556, \"#d8576b\"], [0.6666666666666666, \"#ed7953\"], [0.7777777777777778, \"#fb9f3a\"], [0.8888888888888888, \"#fdca26\"], [1.0, \"#f0f921\"]]}, \"colorway\": [\"#636efa\", \"#EF553B\", \"#00cc96\", \"#ab63fa\", \"#FFA15A\", \"#19d3f3\", \"#FF6692\", \"#B6E880\", \"#FF97FF\", \"#FECB52\"], \"font\": {\"color\": \"#2a3f5f\"}, \"geo\": {\"bgcolor\": \"white\", \"lakecolor\": \"white\", \"landcolor\": \"#E5ECF6\", \"showlakes\": true, \"showland\": true, \"subunitcolor\": \"white\"}, \"hoverlabel\": {\"align\": \"left\"}, \"hovermode\": \"closest\", \"mapbox\": {\"style\": \"light\"}, \"paper_bgcolor\": \"white\", \"plot_bgcolor\": \"#E5ECF6\", \"polar\": {\"angularaxis\": {\"gridcolor\": \"white\", \"linecolor\": \"white\", \"ticks\": \"\"}, \"bgcolor\": \"#E5ECF6\", \"radialaxis\": {\"gridcolor\": \"white\", \"linecolor\": \"white\", \"ticks\": \"\"}}, \"scene\": {\"xaxis\": {\"backgroundcolor\": \"#E5ECF6\", \"gridcolor\": \"white\", \"gridwidth\": 2, \"linecolor\": \"white\", \"showbackground\": true, \"ticks\": \"\", \"zerolinecolor\": \"white\"}, \"yaxis\": {\"backgroundcolor\": \"#E5ECF6\", \"gridcolor\": \"white\", \"gridwidth\": 2, \"linecolor\": \"white\", \"showbackground\": true, \"ticks\": \"\", \"zerolinecolor\": \"white\"}, \"zaxis\": {\"backgroundcolor\": \"#E5ECF6\", \"gridcolor\": \"white\", \"gridwidth\": 2, \"linecolor\": \"white\", \"showbackground\": true, \"ticks\": \"\", \"zerolinecolor\": \"white\"}}, \"shapedefaults\": {\"line\": {\"color\": \"#2a3f5f\"}}, \"ternary\": {\"aaxis\": {\"gridcolor\": \"white\", \"linecolor\": \"white\", \"ticks\": \"\"}, \"baxis\": {\"gridcolor\": \"white\", \"linecolor\": \"white\", \"ticks\": \"\"}, \"bgcolor\": \"#E5ECF6\", \"caxis\": {\"gridcolor\": \"white\", \"linecolor\": \"white\", \"ticks\": \"\"}}, \"title\": {\"x\": 0.05}, \"xaxis\": {\"automargin\": true, \"gridcolor\": \"white\", \"linecolor\": \"white\", \"ticks\": \"\", \"zerolinecolor\": \"white\", \"zerolinewidth\": 2}, \"yaxis\": {\"automargin\": true, \"gridcolor\": \"white\", \"linecolor\": \"white\", \"ticks\": \"\", \"zerolinecolor\": \"white\", \"zerolinewidth\": 2}}}, \"xaxis\": {\"anchor\": \"y\", \"domain\": [0.0, 0.98], \"title\": {\"text\": \"DataPesquisa\"}}, \"yaxis\": {\"anchor\": \"x\", \"domain\": [0.0, 1.0], \"title\": {\"text\": \"preco\"}}},\n",
       "                        {\"responsive\": true}\n",
       "                    ).then(function(){\n",
       "                            \n",
       "var gd = document.getElementById('09a38dba-b10e-40cb-abd0-569de4f7fcfc');\n",
       "var x = new MutationObserver(function (mutations, observer) {{\n",
       "        var display = window.getComputedStyle(gd).display;\n",
       "        if (!display || display === 'none') {{\n",
       "            console.log([gd, 'removed!']);\n",
       "            Plotly.purge(gd);\n",
       "            observer.disconnect();\n",
       "        }}\n",
       "}});\n",
       "\n",
       "// Listen for the removal of the full notebook cells\n",
       "var notebookContainer = gd.closest('#notebook-container');\n",
       "if (notebookContainer) {{\n",
       "    x.observe(notebookContainer, {childList: true});\n",
       "}}\n",
       "\n",
       "// Listen for the clearing of the current output cell\n",
       "var outputEl = gd.closest('.output');\n",
       "if (outputEl) {{\n",
       "    x.observe(outputEl, {childList: true});\n",
       "}}\n",
       "\n",
       "                        })\n",
       "                };\n",
       "                });\n",
       "            </script>\n",
       "        </div>"
      ]
     },
     "metadata": {},
     "output_type": "display_data"
    },
    {
     "data": {
      "application/vnd.plotly.v1+json": {
       "config": {
        "plotlyServerURL": "https://plot.ly"
       },
       "data": [
        {
         "customdata": [
          [
           "POA",
           "MIA",
           "2020-07-02",
           "2020-07-17",
           3834
          ],
          [
           "POA",
           "MIA",
           "2020-07-02",
           "2020-07-17",
           3919
          ],
          [
           "POA",
           "MIA",
           "2020-07-02",
           "2020-07-17",
           3652
          ],
          [
           "POA",
           "MIA",
           "2020-07-02",
           "2020-07-17",
           3604
          ],
          [
           "POA",
           "MIA",
           "2020-07-02",
           "2020-07-17",
           3637
          ],
          [
           "POA",
           "MIA",
           "2020-07-02",
           "2020-07-17",
           3632
          ]
         ],
         "hoverlabel": {
          "namelength": 0
         },
         "hovertemplate": "EspecificoTodos=POAMIA-2020-07-02-2020-07-17<br>DataPesquisa=%{x}<br>preco=%{customdata[4]}<br>de=%{customdata[0]}<br>para=%{customdata[1]}<br>Ida=%{customdata[2]}<br>Volta=%{customdata[3]}",
         "legendgroup": "EspecificoTodos=POAMIA-2020-07-02-2020-07-17",
         "line": {
          "color": "#636efa",
          "dash": "solid"
         },
         "mode": "lines",
         "name": "EspecificoTodos=POAMIA-2020-07-02-2020-07-17",
         "showlegend": true,
         "type": "scatter",
         "x": [
          "16/01/2020 15",
          "16/01/2020 17",
          "17/01/2020 09",
          "17/01/2020 10",
          "17/01/2020 12",
          "17/01/2020 16"
         ],
         "xaxis": "x",
         "y": [
          3834,
          3919,
          3652,
          3604,
          3637,
          3632
         ],
         "yaxis": "y"
        },
        {
         "customdata": [
          [
           "POA",
           "MIA",
           "2020-07-02",
           "2020-07-18",
           3864
          ],
          [
           "POA",
           "MIA",
           "2020-07-02",
           "2020-07-18",
           3896
          ],
          [
           "POA",
           "MIA",
           "2020-07-02",
           "2020-07-18",
           3774
          ],
          [
           "POA",
           "MIA",
           "2020-07-02",
           "2020-07-18",
           3696
          ],
          [
           "POA",
           "MIA",
           "2020-07-02",
           "2020-07-18",
           3720
          ],
          [
           "POA",
           "MIA",
           "2020-07-02",
           "2020-07-18",
           3691
          ]
         ],
         "hoverlabel": {
          "namelength": 0
         },
         "hovertemplate": "EspecificoTodos=POAMIA-2020-07-02-2020-07-18<br>DataPesquisa=%{x}<br>preco=%{customdata[4]}<br>de=%{customdata[0]}<br>para=%{customdata[1]}<br>Ida=%{customdata[2]}<br>Volta=%{customdata[3]}",
         "legendgroup": "EspecificoTodos=POAMIA-2020-07-02-2020-07-18",
         "line": {
          "color": "#EF553B",
          "dash": "solid"
         },
         "mode": "lines",
         "name": "EspecificoTodos=POAMIA-2020-07-02-2020-07-18",
         "showlegend": true,
         "type": "scatter",
         "x": [
          "16/01/2020 15",
          "16/01/2020 17",
          "17/01/2020 09",
          "17/01/2020 10",
          "17/01/2020 12",
          "17/01/2020 16"
         ],
         "xaxis": "x",
         "y": [
          3864,
          3896,
          3774,
          3696,
          3720,
          3691
         ],
         "yaxis": "y"
        },
        {
         "customdata": [
          [
           "POA",
           "MIA",
           "2020-07-02",
           "2020-07-19",
           4003
          ],
          [
           "POA",
           "MIA",
           "2020-07-02",
           "2020-07-19",
           4032
          ],
          [
           "POA",
           "MIA",
           "2020-07-02",
           "2020-07-19",
           3853
          ],
          [
           "POA",
           "MIA",
           "2020-07-02",
           "2020-07-19",
           3754
          ],
          [
           "POA",
           "MIA",
           "2020-07-02",
           "2020-07-19",
           3716
          ],
          [
           "POA",
           "MIA",
           "2020-07-02",
           "2020-07-19",
           3873
          ]
         ],
         "hoverlabel": {
          "namelength": 0
         },
         "hovertemplate": "EspecificoTodos=POAMIA-2020-07-02-2020-07-19<br>DataPesquisa=%{x}<br>preco=%{customdata[4]}<br>de=%{customdata[0]}<br>para=%{customdata[1]}<br>Ida=%{customdata[2]}<br>Volta=%{customdata[3]}",
         "legendgroup": "EspecificoTodos=POAMIA-2020-07-02-2020-07-19",
         "line": {
          "color": "#00cc96",
          "dash": "solid"
         },
         "mode": "lines",
         "name": "EspecificoTodos=POAMIA-2020-07-02-2020-07-19",
         "showlegend": true,
         "type": "scatter",
         "x": [
          "16/01/2020 15",
          "16/01/2020 17",
          "17/01/2020 09",
          "17/01/2020 10",
          "17/01/2020 12",
          "17/01/2020 16"
         ],
         "xaxis": "x",
         "y": [
          4003,
          4032,
          3853,
          3754,
          3716,
          3873
         ],
         "yaxis": "y"
        },
        {
         "customdata": [
          [
           "POA",
           "MIA",
           "2020-07-03",
           "2020-07-17",
           3766
          ],
          [
           "POA",
           "MIA",
           "2020-07-03",
           "2020-07-17",
           3678
          ],
          [
           "POA",
           "MIA",
           "2020-07-03",
           "2020-07-17",
           3549
          ],
          [
           "POA",
           "MIA",
           "2020-07-03",
           "2020-07-17",
           3757
          ],
          [
           "POA",
           "MIA",
           "2020-07-03",
           "2020-07-17",
           3644
          ],
          [
           "POA",
           "MIA",
           "2020-07-03",
           "2020-07-17",
           3700
          ]
         ],
         "hoverlabel": {
          "namelength": 0
         },
         "hovertemplate": "EspecificoTodos=POAMIA-2020-07-03-2020-07-17<br>DataPesquisa=%{x}<br>preco=%{customdata[4]}<br>de=%{customdata[0]}<br>para=%{customdata[1]}<br>Ida=%{customdata[2]}<br>Volta=%{customdata[3]}",
         "legendgroup": "EspecificoTodos=POAMIA-2020-07-03-2020-07-17",
         "line": {
          "color": "#ab63fa",
          "dash": "solid"
         },
         "mode": "lines",
         "name": "EspecificoTodos=POAMIA-2020-07-03-2020-07-17",
         "showlegend": true,
         "type": "scatter",
         "x": [
          "16/01/2020 15",
          "16/01/2020 17",
          "17/01/2020 09",
          "17/01/2020 10",
          "17/01/2020 12",
          "17/01/2020 16"
         ],
         "xaxis": "x",
         "y": [
          3766,
          3678,
          3549,
          3757,
          3644,
          3700
         ],
         "yaxis": "y"
        },
        {
         "customdata": [
          [
           "POA",
           "MIA",
           "2020-07-03",
           "2020-07-18",
           3781
          ],
          [
           "POA",
           "MIA",
           "2020-07-03",
           "2020-07-18",
           3805
          ],
          [
           "POA",
           "MIA",
           "2020-07-03",
           "2020-07-18",
           3590
          ],
          [
           "POA",
           "MIA",
           "2020-07-03",
           "2020-07-18",
           3832
          ],
          [
           "POA",
           "MIA",
           "2020-07-03",
           "2020-07-18",
           3823
          ],
          [
           "POA",
           "MIA",
           "2020-07-03",
           "2020-07-18",
           3762
          ]
         ],
         "hoverlabel": {
          "namelength": 0
         },
         "hovertemplate": "EspecificoTodos=POAMIA-2020-07-03-2020-07-18<br>DataPesquisa=%{x}<br>preco=%{customdata[4]}<br>de=%{customdata[0]}<br>para=%{customdata[1]}<br>Ida=%{customdata[2]}<br>Volta=%{customdata[3]}",
         "legendgroup": "EspecificoTodos=POAMIA-2020-07-03-2020-07-18",
         "line": {
          "color": "#FFA15A",
          "dash": "solid"
         },
         "mode": "lines",
         "name": "EspecificoTodos=POAMIA-2020-07-03-2020-07-18",
         "showlegend": true,
         "type": "scatter",
         "x": [
          "16/01/2020 15",
          "16/01/2020 17",
          "17/01/2020 09",
          "17/01/2020 10",
          "17/01/2020 12",
          "17/01/2020 16"
         ],
         "xaxis": "x",
         "y": [
          3781,
          3805,
          3590,
          3832,
          3823,
          3762
         ],
         "yaxis": "y"
        },
        {
         "customdata": [
          [
           "POA",
           "MIA",
           "2020-07-03",
           "2020-07-19",
           3789
          ],
          [
           "POA",
           "MIA",
           "2020-07-03",
           "2020-07-19",
           3937
          ],
          [
           "POA",
           "MIA",
           "2020-07-03",
           "2020-07-19",
           3562
          ],
          [
           "POA",
           "MIA",
           "2020-07-03",
           "2020-07-19",
           3831
          ],
          [
           "POA",
           "MIA",
           "2020-07-03",
           "2020-07-19",
           3882
          ],
          [
           "POA",
           "MIA",
           "2020-07-03",
           "2020-07-19",
           3803
          ]
         ],
         "hoverlabel": {
          "namelength": 0
         },
         "hovertemplate": "EspecificoTodos=POAMIA-2020-07-03-2020-07-19<br>DataPesquisa=%{x}<br>preco=%{customdata[4]}<br>de=%{customdata[0]}<br>para=%{customdata[1]}<br>Ida=%{customdata[2]}<br>Volta=%{customdata[3]}",
         "legendgroup": "EspecificoTodos=POAMIA-2020-07-03-2020-07-19",
         "line": {
          "color": "#19d3f3",
          "dash": "solid"
         },
         "mode": "lines",
         "name": "EspecificoTodos=POAMIA-2020-07-03-2020-07-19",
         "showlegend": true,
         "type": "scatter",
         "x": [
          "16/01/2020 15",
          "16/01/2020 17",
          "17/01/2020 09",
          "17/01/2020 10",
          "17/01/2020 12",
          "17/01/2020 16"
         ],
         "xaxis": "x",
         "y": [
          3789,
          3937,
          3562,
          3831,
          3882,
          3803
         ],
         "yaxis": "y"
        },
        {
         "customdata": [
          [
           "POA",
           "MIA",
           "2020-07-03",
           "2020-07-20",
           3748
          ],
          [
           "POA",
           "MIA",
           "2020-07-03",
           "2020-07-20",
           3807
          ],
          [
           "POA",
           "MIA",
           "2020-07-03",
           "2020-07-20",
           3493
          ],
          [
           "POA",
           "MIA",
           "2020-07-03",
           "2020-07-20",
           3686
          ],
          [
           "POA",
           "MIA",
           "2020-07-03",
           "2020-07-20",
           3622
          ],
          [
           "POA",
           "MIA",
           "2020-07-03",
           "2020-07-20",
           3757
          ]
         ],
         "hoverlabel": {
          "namelength": 0
         },
         "hovertemplate": "EspecificoTodos=POAMIA-2020-07-03-2020-07-20<br>DataPesquisa=%{x}<br>preco=%{customdata[4]}<br>de=%{customdata[0]}<br>para=%{customdata[1]}<br>Ida=%{customdata[2]}<br>Volta=%{customdata[3]}",
         "legendgroup": "EspecificoTodos=POAMIA-2020-07-03-2020-07-20",
         "line": {
          "color": "#FF6692",
          "dash": "solid"
         },
         "mode": "lines",
         "name": "EspecificoTodos=POAMIA-2020-07-03-2020-07-20",
         "showlegend": true,
         "type": "scatter",
         "x": [
          "16/01/2020 15",
          "16/01/2020 17",
          "17/01/2020 09",
          "17/01/2020 10",
          "17/01/2020 12",
          "17/01/2020 16"
         ],
         "xaxis": "x",
         "y": [
          3748,
          3807,
          3493,
          3686,
          3622,
          3757
         ],
         "yaxis": "y"
        },
        {
         "customdata": [
          [
           "POA",
           "MIA",
           "2020-07-04",
           "2020-07-18",
           3825
          ],
          [
           "POA",
           "MIA",
           "2020-07-04",
           "2020-07-18",
           3952
          ],
          [
           "POA",
           "MIA",
           "2020-07-04",
           "2020-07-18",
           4025
          ],
          [
           "POA",
           "MIA",
           "2020-07-04",
           "2020-07-18",
           4025
          ],
          [
           "POA",
           "MIA",
           "2020-07-04",
           "2020-07-18",
           4025
          ],
          [
           "POA",
           "MIA",
           "2020-07-04",
           "2020-07-18",
           4025
          ]
         ],
         "hoverlabel": {
          "namelength": 0
         },
         "hovertemplate": "EspecificoTodos=POAMIA-2020-07-04-2020-07-18<br>DataPesquisa=%{x}<br>preco=%{customdata[4]}<br>de=%{customdata[0]}<br>para=%{customdata[1]}<br>Ida=%{customdata[2]}<br>Volta=%{customdata[3]}",
         "legendgroup": "EspecificoTodos=POAMIA-2020-07-04-2020-07-18",
         "line": {
          "color": "#B6E880",
          "dash": "solid"
         },
         "mode": "lines",
         "name": "EspecificoTodos=POAMIA-2020-07-04-2020-07-18",
         "showlegend": true,
         "type": "scatter",
         "x": [
          "16/01/2020 15",
          "16/01/2020 17",
          "17/01/2020 09",
          "17/01/2020 10",
          "17/01/2020 12",
          "17/01/2020 16"
         ],
         "xaxis": "x",
         "y": [
          3825,
          3952,
          4025,
          4025,
          4025,
          4025
         ],
         "yaxis": "y"
        },
        {
         "customdata": [
          [
           "POA",
           "MIA",
           "2020-07-04",
           "2020-07-19",
           3823
          ],
          [
           "POA",
           "MIA",
           "2020-07-04",
           "2020-07-19",
           4017
          ],
          [
           "POA",
           "MIA",
           "2020-07-04",
           "2020-07-19",
           3736
          ],
          [
           "POA",
           "MIA",
           "2020-07-04",
           "2020-07-19",
           3846
          ],
          [
           "POA",
           "MIA",
           "2020-07-04",
           "2020-07-19",
           3994
          ],
          [
           "POA",
           "MIA",
           "2020-07-04",
           "2020-07-19",
           3880
          ]
         ],
         "hoverlabel": {
          "namelength": 0
         },
         "hovertemplate": "EspecificoTodos=POAMIA-2020-07-04-2020-07-19<br>DataPesquisa=%{x}<br>preco=%{customdata[4]}<br>de=%{customdata[0]}<br>para=%{customdata[1]}<br>Ida=%{customdata[2]}<br>Volta=%{customdata[3]}",
         "legendgroup": "EspecificoTodos=POAMIA-2020-07-04-2020-07-19",
         "line": {
          "color": "#FF97FF",
          "dash": "solid"
         },
         "mode": "lines",
         "name": "EspecificoTodos=POAMIA-2020-07-04-2020-07-19",
         "showlegend": true,
         "type": "scatter",
         "x": [
          "16/01/2020 15",
          "16/01/2020 17",
          "17/01/2020 09",
          "17/01/2020 10",
          "17/01/2020 12",
          "17/01/2020 16"
         ],
         "xaxis": "x",
         "y": [
          3823,
          4017,
          3736,
          3846,
          3994,
          3880
         ],
         "yaxis": "y"
        },
        {
         "customdata": [
          [
           "POA",
           "MIA",
           "2020-07-04",
           "2020-07-20",
           3838
          ],
          [
           "POA",
           "MIA",
           "2020-07-04",
           "2020-07-20",
           3932
          ],
          [
           "POA",
           "MIA",
           "2020-07-04",
           "2020-07-20",
           3577
          ],
          [
           "POA",
           "MIA",
           "2020-07-04",
           "2020-07-20",
           3832
          ],
          [
           "POA",
           "MIA",
           "2020-07-04",
           "2020-07-20",
           3769
          ],
          [
           "POA",
           "MIA",
           "2020-07-04",
           "2020-07-20",
           3786
          ]
         ],
         "hoverlabel": {
          "namelength": 0
         },
         "hovertemplate": "EspecificoTodos=POAMIA-2020-07-04-2020-07-20<br>DataPesquisa=%{x}<br>preco=%{customdata[4]}<br>de=%{customdata[0]}<br>para=%{customdata[1]}<br>Ida=%{customdata[2]}<br>Volta=%{customdata[3]}",
         "legendgroup": "EspecificoTodos=POAMIA-2020-07-04-2020-07-20",
         "line": {
          "color": "#FECB52",
          "dash": "solid"
         },
         "mode": "lines",
         "name": "EspecificoTodos=POAMIA-2020-07-04-2020-07-20",
         "showlegend": true,
         "type": "scatter",
         "x": [
          "16/01/2020 15",
          "16/01/2020 17",
          "17/01/2020 09",
          "17/01/2020 10",
          "17/01/2020 12",
          "17/01/2020 16"
         ],
         "xaxis": "x",
         "y": [
          3838,
          3932,
          3577,
          3832,
          3769,
          3786
         ],
         "yaxis": "y"
        },
        {
         "customdata": [
          [
           "POA",
           "MIA",
           "2020-07-04",
           "2020-07-21",
           3878
          ],
          [
           "POA",
           "MIA",
           "2020-07-04",
           "2020-07-21",
           3877
          ],
          [
           "POA",
           "MIA",
           "2020-07-04",
           "2020-07-21",
           3592
          ],
          [
           "POA",
           "MIA",
           "2020-07-04",
           "2020-07-21",
           3821
          ],
          [
           "POA",
           "MIA",
           "2020-07-04",
           "2020-07-21",
           3792
          ],
          [
           "POA",
           "MIA",
           "2020-07-04",
           "2020-07-21",
           3753
          ]
         ],
         "hoverlabel": {
          "namelength": 0
         },
         "hovertemplate": "EspecificoTodos=POAMIA-2020-07-04-2020-07-21<br>DataPesquisa=%{x}<br>preco=%{customdata[4]}<br>de=%{customdata[0]}<br>para=%{customdata[1]}<br>Ida=%{customdata[2]}<br>Volta=%{customdata[3]}",
         "legendgroup": "EspecificoTodos=POAMIA-2020-07-04-2020-07-21",
         "line": {
          "color": "#636efa",
          "dash": "solid"
         },
         "mode": "lines",
         "name": "EspecificoTodos=POAMIA-2020-07-04-2020-07-21",
         "showlegend": true,
         "type": "scatter",
         "x": [
          "16/01/2020 15",
          "16/01/2020 17",
          "17/01/2020 09",
          "17/01/2020 10",
          "17/01/2020 12",
          "17/01/2020 16"
         ],
         "xaxis": "x",
         "y": [
          3878,
          3877,
          3592,
          3821,
          3792,
          3753
         ],
         "yaxis": "y"
        },
        {
         "customdata": [
          [
           "POA",
           "MIA",
           "2020-07-05",
           "2020-07-19",
           3863
          ],
          [
           "POA",
           "MIA",
           "2020-07-05",
           "2020-07-19",
           3957
          ],
          [
           "POA",
           "MIA",
           "2020-07-05",
           "2020-07-19",
           3788
          ],
          [
           "POA",
           "MIA",
           "2020-07-05",
           "2020-07-19",
           4010
          ],
          [
           "POA",
           "MIA",
           "2020-07-05",
           "2020-07-19",
           4082
          ],
          [
           "POA",
           "MIA",
           "2020-07-05",
           "2020-07-19",
           3992
          ]
         ],
         "hoverlabel": {
          "namelength": 0
         },
         "hovertemplate": "EspecificoTodos=POAMIA-2020-07-05-2020-07-19<br>DataPesquisa=%{x}<br>preco=%{customdata[4]}<br>de=%{customdata[0]}<br>para=%{customdata[1]}<br>Ida=%{customdata[2]}<br>Volta=%{customdata[3]}",
         "legendgroup": "EspecificoTodos=POAMIA-2020-07-05-2020-07-19",
         "line": {
          "color": "#EF553B",
          "dash": "solid"
         },
         "mode": "lines",
         "name": "EspecificoTodos=POAMIA-2020-07-05-2020-07-19",
         "showlegend": true,
         "type": "scatter",
         "x": [
          "16/01/2020 15",
          "16/01/2020 17",
          "17/01/2020 09",
          "17/01/2020 10",
          "17/01/2020 12",
          "17/01/2020 16"
         ],
         "xaxis": "x",
         "y": [
          3863,
          3957,
          3788,
          4010,
          4082,
          3992
         ],
         "yaxis": "y"
        },
        {
         "customdata": [
          [
           "POA",
           "MIA",
           "2020-07-05",
           "2020-07-20",
           3948
          ],
          [
           "POA",
           "MIA",
           "2020-07-05",
           "2020-07-20",
           4006
          ],
          [
           "POA",
           "MIA",
           "2020-07-05",
           "2020-07-20",
           3692
          ],
          [
           "POA",
           "MIA",
           "2020-07-05",
           "2020-07-20",
           3973
          ],
          [
           "POA",
           "MIA",
           "2020-07-05",
           "2020-07-20",
           3863
          ],
          [
           "POA",
           "MIA",
           "2020-07-05",
           "2020-07-20",
           3876
          ]
         ],
         "hoverlabel": {
          "namelength": 0
         },
         "hovertemplate": "EspecificoTodos=POAMIA-2020-07-05-2020-07-20<br>DataPesquisa=%{x}<br>preco=%{customdata[4]}<br>de=%{customdata[0]}<br>para=%{customdata[1]}<br>Ida=%{customdata[2]}<br>Volta=%{customdata[3]}",
         "legendgroup": "EspecificoTodos=POAMIA-2020-07-05-2020-07-20",
         "line": {
          "color": "#00cc96",
          "dash": "solid"
         },
         "mode": "lines",
         "name": "EspecificoTodos=POAMIA-2020-07-05-2020-07-20",
         "showlegend": true,
         "type": "scatter",
         "x": [
          "16/01/2020 15",
          "16/01/2020 17",
          "17/01/2020 09",
          "17/01/2020 10",
          "17/01/2020 12",
          "17/01/2020 16"
         ],
         "xaxis": "x",
         "y": [
          3948,
          4006,
          3692,
          3973,
          3863,
          3876
         ],
         "yaxis": "y"
        },
        {
         "customdata": [
          [
           "POA",
           "MIA",
           "2020-07-05",
           "2020-07-21",
           3918
          ],
          [
           "POA",
           "MIA",
           "2020-07-05",
           "2020-07-21",
           3972
          ],
          [
           "POA",
           "MIA",
           "2020-07-05",
           "2020-07-21",
           3700
          ],
          [
           "POA",
           "MIA",
           "2020-07-05",
           "2020-07-21",
           3954
          ],
          [
           "POA",
           "MIA",
           "2020-07-05",
           "2020-07-21",
           3867
          ],
          [
           "POA",
           "MIA",
           "2020-07-05",
           "2020-07-21",
           3851
          ]
         ],
         "hoverlabel": {
          "namelength": 0
         },
         "hovertemplate": "EspecificoTodos=POAMIA-2020-07-05-2020-07-21<br>DataPesquisa=%{x}<br>preco=%{customdata[4]}<br>de=%{customdata[0]}<br>para=%{customdata[1]}<br>Ida=%{customdata[2]}<br>Volta=%{customdata[3]}",
         "legendgroup": "EspecificoTodos=POAMIA-2020-07-05-2020-07-21",
         "line": {
          "color": "#ab63fa",
          "dash": "solid"
         },
         "mode": "lines",
         "name": "EspecificoTodos=POAMIA-2020-07-05-2020-07-21",
         "showlegend": true,
         "type": "scatter",
         "x": [
          "16/01/2020 15",
          "16/01/2020 17",
          "17/01/2020 09",
          "17/01/2020 10",
          "17/01/2020 12",
          "17/01/2020 16"
         ],
         "xaxis": "x",
         "y": [
          3918,
          3972,
          3700,
          3954,
          3867,
          3851
         ],
         "yaxis": "y"
        },
        {
         "customdata": [
          [
           "POA",
           "MIA",
           "2020-07-05",
           "2020-07-22",
           3939
          ],
          [
           "POA",
           "MIA",
           "2020-07-05",
           "2020-07-22",
           3923
          ],
          [
           "POA",
           "MIA",
           "2020-07-05",
           "2020-07-22",
           3697
          ],
          [
           "POA",
           "MIA",
           "2020-07-05",
           "2020-07-22",
           3966
          ],
          [
           "POA",
           "MIA",
           "2020-07-05",
           "2020-07-22",
           3902
          ],
          [
           "POA",
           "MIA",
           "2020-07-05",
           "2020-07-22",
           3910
          ]
         ],
         "hoverlabel": {
          "namelength": 0
         },
         "hovertemplate": "EspecificoTodos=POAMIA-2020-07-05-2020-07-22<br>DataPesquisa=%{x}<br>preco=%{customdata[4]}<br>de=%{customdata[0]}<br>para=%{customdata[1]}<br>Ida=%{customdata[2]}<br>Volta=%{customdata[3]}",
         "legendgroup": "EspecificoTodos=POAMIA-2020-07-05-2020-07-22",
         "line": {
          "color": "#FFA15A",
          "dash": "solid"
         },
         "mode": "lines",
         "name": "EspecificoTodos=POAMIA-2020-07-05-2020-07-22",
         "showlegend": true,
         "type": "scatter",
         "x": [
          "16/01/2020 15",
          "16/01/2020 17",
          "17/01/2020 09",
          "17/01/2020 10",
          "17/01/2020 12",
          "17/01/2020 16"
         ],
         "xaxis": "x",
         "y": [
          3939,
          3923,
          3697,
          3966,
          3902,
          3910
         ],
         "yaxis": "y"
        },
        {
         "customdata": [
          [
           "POA",
           "MIA",
           "2020-07-06",
           "2020-07-20",
           3901
          ],
          [
           "POA",
           "MIA",
           "2020-07-06",
           "2020-07-20",
           3936
          ],
          [
           "POA",
           "MIA",
           "2020-07-06",
           "2020-07-20",
           3749
          ],
          [
           "POA",
           "MIA",
           "2020-07-06",
           "2020-07-20",
           3879
          ],
          [
           "POA",
           "MIA",
           "2020-07-06",
           "2020-07-20",
           3723
          ],
          [
           "POA",
           "MIA",
           "2020-07-06",
           "2020-07-20",
           3681
          ]
         ],
         "hoverlabel": {
          "namelength": 0
         },
         "hovertemplate": "EspecificoTodos=POAMIA-2020-07-06-2020-07-20<br>DataPesquisa=%{x}<br>preco=%{customdata[4]}<br>de=%{customdata[0]}<br>para=%{customdata[1]}<br>Ida=%{customdata[2]}<br>Volta=%{customdata[3]}",
         "legendgroup": "EspecificoTodos=POAMIA-2020-07-06-2020-07-20",
         "line": {
          "color": "#19d3f3",
          "dash": "solid"
         },
         "mode": "lines",
         "name": "EspecificoTodos=POAMIA-2020-07-06-2020-07-20",
         "showlegend": true,
         "type": "scatter",
         "x": [
          "16/01/2020 15",
          "16/01/2020 17",
          "17/01/2020 09",
          "17/01/2020 10",
          "17/01/2020 12",
          "17/01/2020 16"
         ],
         "xaxis": "x",
         "y": [
          3901,
          3936,
          3749,
          3879,
          3723,
          3681
         ],
         "yaxis": "y"
        },
        {
         "customdata": [
          [
           "POA",
           "MIA",
           "2020-07-06",
           "2020-07-21",
           3836
          ],
          [
           "POA",
           "MIA",
           "2020-07-06",
           "2020-07-21",
           3838
          ],
          [
           "POA",
           "MIA",
           "2020-07-06",
           "2020-07-21",
           3651
          ],
          [
           "POA",
           "MIA",
           "2020-07-06",
           "2020-07-21",
           3803
          ],
          [
           "POA",
           "MIA",
           "2020-07-06",
           "2020-07-21",
           3647
          ],
          [
           "POA",
           "MIA",
           "2020-07-06",
           "2020-07-21",
           3548
          ]
         ],
         "hoverlabel": {
          "namelength": 0
         },
         "hovertemplate": "EspecificoTodos=POAMIA-2020-07-06-2020-07-21<br>DataPesquisa=%{x}<br>preco=%{customdata[4]}<br>de=%{customdata[0]}<br>para=%{customdata[1]}<br>Ida=%{customdata[2]}<br>Volta=%{customdata[3]}",
         "legendgroup": "EspecificoTodos=POAMIA-2020-07-06-2020-07-21",
         "line": {
          "color": "#FF6692",
          "dash": "solid"
         },
         "mode": "lines",
         "name": "EspecificoTodos=POAMIA-2020-07-06-2020-07-21",
         "showlegend": true,
         "type": "scatter",
         "x": [
          "16/01/2020 15",
          "16/01/2020 17",
          "17/01/2020 09",
          "17/01/2020 10",
          "17/01/2020 12",
          "17/01/2020 16"
         ],
         "xaxis": "x",
         "y": [
          3836,
          3838,
          3651,
          3803,
          3647,
          3548
         ],
         "yaxis": "y"
        },
        {
         "customdata": [
          [
           "POA",
           "MIA",
           "2020-07-06",
           "2020-07-22",
           3825
          ],
          [
           "POA",
           "MIA",
           "2020-07-06",
           "2020-07-22",
           3826
          ],
          [
           "POA",
           "MIA",
           "2020-07-06",
           "2020-07-22",
           3751
          ],
          [
           "POA",
           "MIA",
           "2020-07-06",
           "2020-07-22",
           3723
          ],
          [
           "POA",
           "MIA",
           "2020-07-06",
           "2020-07-22",
           3615
          ],
          [
           "POA",
           "MIA",
           "2020-07-06",
           "2020-07-22",
           3617
          ]
         ],
         "hoverlabel": {
          "namelength": 0
         },
         "hovertemplate": "EspecificoTodos=POAMIA-2020-07-06-2020-07-22<br>DataPesquisa=%{x}<br>preco=%{customdata[4]}<br>de=%{customdata[0]}<br>para=%{customdata[1]}<br>Ida=%{customdata[2]}<br>Volta=%{customdata[3]}",
         "legendgroup": "EspecificoTodos=POAMIA-2020-07-06-2020-07-22",
         "line": {
          "color": "#B6E880",
          "dash": "solid"
         },
         "mode": "lines",
         "name": "EspecificoTodos=POAMIA-2020-07-06-2020-07-22",
         "showlegend": true,
         "type": "scatter",
         "x": [
          "16/01/2020 15",
          "16/01/2020 17",
          "17/01/2020 09",
          "17/01/2020 10",
          "17/01/2020 12",
          "17/01/2020 16"
         ],
         "xaxis": "x",
         "y": [
          3825,
          3826,
          3751,
          3723,
          3615,
          3617
         ],
         "yaxis": "y"
        },
        {
         "customdata": [
          [
           "POA",
           "MIA",
           "2020-07-06",
           "2020-07-23",
           3838
          ],
          [
           "POA",
           "MIA",
           "2020-07-06",
           "2020-07-23",
           3800
          ],
          [
           "POA",
           "MIA",
           "2020-07-06",
           "2020-07-23",
           3754
          ],
          [
           "POA",
           "MIA",
           "2020-07-06",
           "2020-07-23",
           3729
          ],
          [
           "POA",
           "MIA",
           "2020-07-06",
           "2020-07-23",
           3620
          ],
          [
           "POA",
           "MIA",
           "2020-07-06",
           "2020-07-23",
           3610
          ]
         ],
         "hoverlabel": {
          "namelength": 0
         },
         "hovertemplate": "EspecificoTodos=POAMIA-2020-07-06-2020-07-23<br>DataPesquisa=%{x}<br>preco=%{customdata[4]}<br>de=%{customdata[0]}<br>para=%{customdata[1]}<br>Ida=%{customdata[2]}<br>Volta=%{customdata[3]}",
         "legendgroup": "EspecificoTodos=POAMIA-2020-07-06-2020-07-23",
         "line": {
          "color": "#FF97FF",
          "dash": "solid"
         },
         "mode": "lines",
         "name": "EspecificoTodos=POAMIA-2020-07-06-2020-07-23",
         "showlegend": true,
         "type": "scatter",
         "x": [
          "16/01/2020 15",
          "16/01/2020 17",
          "17/01/2020 09",
          "17/01/2020 10",
          "17/01/2020 12",
          "17/01/2020 16"
         ],
         "xaxis": "x",
         "y": [
          3838,
          3800,
          3754,
          3729,
          3620,
          3610
         ],
         "yaxis": "y"
        },
        {
         "customdata": [
          [
           "POA",
           "MIA",
           "2020-07-07",
           "2020-07-21",
           3828
          ],
          [
           "POA",
           "MIA",
           "2020-07-07",
           "2020-07-21",
           3824
          ],
          [
           "POA",
           "MIA",
           "2020-07-07",
           "2020-07-21",
           3754
          ],
          [
           "POA",
           "MIA",
           "2020-07-07",
           "2020-07-21",
           3840
          ],
          [
           "POA",
           "MIA",
           "2020-07-07",
           "2020-07-21",
           3574
          ],
          [
           "POA",
           "MIA",
           "2020-07-07",
           "2020-07-21",
           3637
          ]
         ],
         "hoverlabel": {
          "namelength": 0
         },
         "hovertemplate": "EspecificoTodos=POAMIA-2020-07-07-2020-07-21<br>DataPesquisa=%{x}<br>preco=%{customdata[4]}<br>de=%{customdata[0]}<br>para=%{customdata[1]}<br>Ida=%{customdata[2]}<br>Volta=%{customdata[3]}",
         "legendgroup": "EspecificoTodos=POAMIA-2020-07-07-2020-07-21",
         "line": {
          "color": "#FECB52",
          "dash": "solid"
         },
         "mode": "lines",
         "name": "EspecificoTodos=POAMIA-2020-07-07-2020-07-21",
         "showlegend": true,
         "type": "scatter",
         "x": [
          "16/01/2020 15",
          "16/01/2020 17",
          "17/01/2020 09",
          "17/01/2020 10",
          "17/01/2020 12",
          "17/01/2020 16"
         ],
         "xaxis": "x",
         "y": [
          3828,
          3824,
          3754,
          3840,
          3574,
          3637
         ],
         "yaxis": "y"
        },
        {
         "customdata": [
          [
           "POA",
           "MIA",
           "2020-07-07",
           "2020-07-22",
           3798
          ],
          [
           "POA",
           "MIA",
           "2020-07-07",
           "2020-07-22",
           3855
          ],
          [
           "POA",
           "MIA",
           "2020-07-07",
           "2020-07-22",
           3708
          ],
          [
           "POA",
           "MIA",
           "2020-07-07",
           "2020-07-22",
           3895
          ],
          [
           "POA",
           "MIA",
           "2020-07-07",
           "2020-07-22",
           3619
          ],
          [
           "POA",
           "MIA",
           "2020-07-07",
           "2020-07-22",
           3666
          ]
         ],
         "hoverlabel": {
          "namelength": 0
         },
         "hovertemplate": "EspecificoTodos=POAMIA-2020-07-07-2020-07-22<br>DataPesquisa=%{x}<br>preco=%{customdata[4]}<br>de=%{customdata[0]}<br>para=%{customdata[1]}<br>Ida=%{customdata[2]}<br>Volta=%{customdata[3]}",
         "legendgroup": "EspecificoTodos=POAMIA-2020-07-07-2020-07-22",
         "line": {
          "color": "#636efa",
          "dash": "solid"
         },
         "mode": "lines",
         "name": "EspecificoTodos=POAMIA-2020-07-07-2020-07-22",
         "showlegend": true,
         "type": "scatter",
         "x": [
          "16/01/2020 15",
          "16/01/2020 17",
          "17/01/2020 09",
          "17/01/2020 10",
          "17/01/2020 12",
          "17/01/2020 16"
         ],
         "xaxis": "x",
         "y": [
          3798,
          3855,
          3708,
          3895,
          3619,
          3666
         ],
         "yaxis": "y"
        },
        {
         "customdata": [
          [
           "POA",
           "MIA",
           "2020-07-07",
           "2020-07-23",
           3812
          ],
          [
           "POA",
           "MIA",
           "2020-07-07",
           "2020-07-23",
           3777
          ],
          [
           "POA",
           "MIA",
           "2020-07-07",
           "2020-07-23",
           3736
          ],
          [
           "POA",
           "MIA",
           "2020-07-07",
           "2020-07-23",
           3770
          ],
          [
           "POA",
           "MIA",
           "2020-07-07",
           "2020-07-23",
           3560
          ],
          [
           "POA",
           "MIA",
           "2020-07-07",
           "2020-07-23",
           3648
          ]
         ],
         "hoverlabel": {
          "namelength": 0
         },
         "hovertemplate": "EspecificoTodos=POAMIA-2020-07-07-2020-07-23<br>DataPesquisa=%{x}<br>preco=%{customdata[4]}<br>de=%{customdata[0]}<br>para=%{customdata[1]}<br>Ida=%{customdata[2]}<br>Volta=%{customdata[3]}",
         "legendgroup": "EspecificoTodos=POAMIA-2020-07-07-2020-07-23",
         "line": {
          "color": "#EF553B",
          "dash": "solid"
         },
         "mode": "lines",
         "name": "EspecificoTodos=POAMIA-2020-07-07-2020-07-23",
         "showlegend": true,
         "type": "scatter",
         "x": [
          "16/01/2020 15",
          "16/01/2020 17",
          "17/01/2020 09",
          "17/01/2020 10",
          "17/01/2020 12",
          "17/01/2020 16"
         ],
         "xaxis": "x",
         "y": [
          3812,
          3777,
          3736,
          3770,
          3560,
          3648
         ],
         "yaxis": "y"
        },
        {
         "customdata": [
          [
           "POA",
           "MIA",
           "2020-07-08",
           "2020-07-22",
           3950
          ],
          [
           "POA",
           "MIA",
           "2020-07-08",
           "2020-07-22",
           3958
          ],
          [
           "POA",
           "MIA",
           "2020-07-08",
           "2020-07-22",
           3743
          ],
          [
           "POA",
           "MIA",
           "2020-07-08",
           "2020-07-22",
           3889
          ],
          [
           "POA",
           "MIA",
           "2020-07-08",
           "2020-07-22",
           3696
          ],
          [
           "POA",
           "MIA",
           "2020-07-08",
           "2020-07-22",
           3792
          ]
         ],
         "hoverlabel": {
          "namelength": 0
         },
         "hovertemplate": "EspecificoTodos=POAMIA-2020-07-08-2020-07-22<br>DataPesquisa=%{x}<br>preco=%{customdata[4]}<br>de=%{customdata[0]}<br>para=%{customdata[1]}<br>Ida=%{customdata[2]}<br>Volta=%{customdata[3]}",
         "legendgroup": "EspecificoTodos=POAMIA-2020-07-08-2020-07-22",
         "line": {
          "color": "#00cc96",
          "dash": "solid"
         },
         "mode": "lines",
         "name": "EspecificoTodos=POAMIA-2020-07-08-2020-07-22",
         "showlegend": true,
         "type": "scatter",
         "x": [
          "16/01/2020 15",
          "16/01/2020 17",
          "17/01/2020 09",
          "17/01/2020 10",
          "17/01/2020 12",
          "17/01/2020 16"
         ],
         "xaxis": "x",
         "y": [
          3950,
          3958,
          3743,
          3889,
          3696,
          3792
         ],
         "yaxis": "y"
        },
        {
         "customdata": [
          [
           "POA",
           "MIA",
           "2020-07-08",
           "2020-07-23",
           3943
          ],
          [
           "POA",
           "MIA",
           "2020-07-08",
           "2020-07-23",
           3970
          ],
          [
           "POA",
           "MIA",
           "2020-07-08",
           "2020-07-23",
           3773
          ],
          [
           "POA",
           "MIA",
           "2020-07-08",
           "2020-07-23",
           3909
          ],
          [
           "POA",
           "MIA",
           "2020-07-08",
           "2020-07-23",
           3712
          ],
          [
           "POA",
           "MIA",
           "2020-07-08",
           "2020-07-23",
           3751
          ]
         ],
         "hoverlabel": {
          "namelength": 0
         },
         "hovertemplate": "EspecificoTodos=POAMIA-2020-07-08-2020-07-23<br>DataPesquisa=%{x}<br>preco=%{customdata[4]}<br>de=%{customdata[0]}<br>para=%{customdata[1]}<br>Ida=%{customdata[2]}<br>Volta=%{customdata[3]}",
         "legendgroup": "EspecificoTodos=POAMIA-2020-07-08-2020-07-23",
         "line": {
          "color": "#ab63fa",
          "dash": "solid"
         },
         "mode": "lines",
         "name": "EspecificoTodos=POAMIA-2020-07-08-2020-07-23",
         "showlegend": true,
         "type": "scatter",
         "x": [
          "16/01/2020 15",
          "16/01/2020 17",
          "17/01/2020 09",
          "17/01/2020 10",
          "17/01/2020 12",
          "17/01/2020 16"
         ],
         "xaxis": "x",
         "y": [
          3943,
          3970,
          3773,
          3909,
          3712,
          3751
         ],
         "yaxis": "y"
        }
       ],
       "layout": {
        "height": 600,
        "legend": {
         "tracegroupgap": 0
        },
        "margin": {
         "t": 60
        },
        "template": {
         "data": {
          "bar": [
           {
            "error_x": {
             "color": "#2a3f5f"
            },
            "error_y": {
             "color": "#2a3f5f"
            },
            "marker": {
             "line": {
              "color": "#E5ECF6",
              "width": 0.5
             }
            },
            "type": "bar"
           }
          ],
          "barpolar": [
           {
            "marker": {
             "line": {
              "color": "#E5ECF6",
              "width": 0.5
             }
            },
            "type": "barpolar"
           }
          ],
          "carpet": [
           {
            "aaxis": {
             "endlinecolor": "#2a3f5f",
             "gridcolor": "white",
             "linecolor": "white",
             "minorgridcolor": "white",
             "startlinecolor": "#2a3f5f"
            },
            "baxis": {
             "endlinecolor": "#2a3f5f",
             "gridcolor": "white",
             "linecolor": "white",
             "minorgridcolor": "white",
             "startlinecolor": "#2a3f5f"
            },
            "type": "carpet"
           }
          ],
          "choropleth": [
           {
            "colorbar": {
             "outlinewidth": 0,
             "ticks": ""
            },
            "type": "choropleth"
           }
          ],
          "contour": [
           {
            "colorbar": {
             "outlinewidth": 0,
             "ticks": ""
            },
            "colorscale": [
             [
              0,
              "#0d0887"
             ],
             [
              0.1111111111111111,
              "#46039f"
             ],
             [
              0.2222222222222222,
              "#7201a8"
             ],
             [
              0.3333333333333333,
              "#9c179e"
             ],
             [
              0.4444444444444444,
              "#bd3786"
             ],
             [
              0.5555555555555556,
              "#d8576b"
             ],
             [
              0.6666666666666666,
              "#ed7953"
             ],
             [
              0.7777777777777778,
              "#fb9f3a"
             ],
             [
              0.8888888888888888,
              "#fdca26"
             ],
             [
              1,
              "#f0f921"
             ]
            ],
            "type": "contour"
           }
          ],
          "contourcarpet": [
           {
            "colorbar": {
             "outlinewidth": 0,
             "ticks": ""
            },
            "type": "contourcarpet"
           }
          ],
          "heatmap": [
           {
            "colorbar": {
             "outlinewidth": 0,
             "ticks": ""
            },
            "colorscale": [
             [
              0,
              "#0d0887"
             ],
             [
              0.1111111111111111,
              "#46039f"
             ],
             [
              0.2222222222222222,
              "#7201a8"
             ],
             [
              0.3333333333333333,
              "#9c179e"
             ],
             [
              0.4444444444444444,
              "#bd3786"
             ],
             [
              0.5555555555555556,
              "#d8576b"
             ],
             [
              0.6666666666666666,
              "#ed7953"
             ],
             [
              0.7777777777777778,
              "#fb9f3a"
             ],
             [
              0.8888888888888888,
              "#fdca26"
             ],
             [
              1,
              "#f0f921"
             ]
            ],
            "type": "heatmap"
           }
          ],
          "heatmapgl": [
           {
            "colorbar": {
             "outlinewidth": 0,
             "ticks": ""
            },
            "colorscale": [
             [
              0,
              "#0d0887"
             ],
             [
              0.1111111111111111,
              "#46039f"
             ],
             [
              0.2222222222222222,
              "#7201a8"
             ],
             [
              0.3333333333333333,
              "#9c179e"
             ],
             [
              0.4444444444444444,
              "#bd3786"
             ],
             [
              0.5555555555555556,
              "#d8576b"
             ],
             [
              0.6666666666666666,
              "#ed7953"
             ],
             [
              0.7777777777777778,
              "#fb9f3a"
             ],
             [
              0.8888888888888888,
              "#fdca26"
             ],
             [
              1,
              "#f0f921"
             ]
            ],
            "type": "heatmapgl"
           }
          ],
          "histogram": [
           {
            "marker": {
             "colorbar": {
              "outlinewidth": 0,
              "ticks": ""
             }
            },
            "type": "histogram"
           }
          ],
          "histogram2d": [
           {
            "colorbar": {
             "outlinewidth": 0,
             "ticks": ""
            },
            "colorscale": [
             [
              0,
              "#0d0887"
             ],
             [
              0.1111111111111111,
              "#46039f"
             ],
             [
              0.2222222222222222,
              "#7201a8"
             ],
             [
              0.3333333333333333,
              "#9c179e"
             ],
             [
              0.4444444444444444,
              "#bd3786"
             ],
             [
              0.5555555555555556,
              "#d8576b"
             ],
             [
              0.6666666666666666,
              "#ed7953"
             ],
             [
              0.7777777777777778,
              "#fb9f3a"
             ],
             [
              0.8888888888888888,
              "#fdca26"
             ],
             [
              1,
              "#f0f921"
             ]
            ],
            "type": "histogram2d"
           }
          ],
          "histogram2dcontour": [
           {
            "colorbar": {
             "outlinewidth": 0,
             "ticks": ""
            },
            "colorscale": [
             [
              0,
              "#0d0887"
             ],
             [
              0.1111111111111111,
              "#46039f"
             ],
             [
              0.2222222222222222,
              "#7201a8"
             ],
             [
              0.3333333333333333,
              "#9c179e"
             ],
             [
              0.4444444444444444,
              "#bd3786"
             ],
             [
              0.5555555555555556,
              "#d8576b"
             ],
             [
              0.6666666666666666,
              "#ed7953"
             ],
             [
              0.7777777777777778,
              "#fb9f3a"
             ],
             [
              0.8888888888888888,
              "#fdca26"
             ],
             [
              1,
              "#f0f921"
             ]
            ],
            "type": "histogram2dcontour"
           }
          ],
          "mesh3d": [
           {
            "colorbar": {
             "outlinewidth": 0,
             "ticks": ""
            },
            "type": "mesh3d"
           }
          ],
          "parcoords": [
           {
            "line": {
             "colorbar": {
              "outlinewidth": 0,
              "ticks": ""
             }
            },
            "type": "parcoords"
           }
          ],
          "scatter": [
           {
            "marker": {
             "colorbar": {
              "outlinewidth": 0,
              "ticks": ""
             }
            },
            "type": "scatter"
           }
          ],
          "scatter3d": [
           {
            "line": {
             "colorbar": {
              "outlinewidth": 0,
              "ticks": ""
             }
            },
            "marker": {
             "colorbar": {
              "outlinewidth": 0,
              "ticks": ""
             }
            },
            "type": "scatter3d"
           }
          ],
          "scattercarpet": [
           {
            "marker": {
             "colorbar": {
              "outlinewidth": 0,
              "ticks": ""
             }
            },
            "type": "scattercarpet"
           }
          ],
          "scattergeo": [
           {
            "marker": {
             "colorbar": {
              "outlinewidth": 0,
              "ticks": ""
             }
            },
            "type": "scattergeo"
           }
          ],
          "scattergl": [
           {
            "marker": {
             "colorbar": {
              "outlinewidth": 0,
              "ticks": ""
             }
            },
            "type": "scattergl"
           }
          ],
          "scattermapbox": [
           {
            "marker": {
             "colorbar": {
              "outlinewidth": 0,
              "ticks": ""
             }
            },
            "type": "scattermapbox"
           }
          ],
          "scatterpolar": [
           {
            "marker": {
             "colorbar": {
              "outlinewidth": 0,
              "ticks": ""
             }
            },
            "type": "scatterpolar"
           }
          ],
          "scatterpolargl": [
           {
            "marker": {
             "colorbar": {
              "outlinewidth": 0,
              "ticks": ""
             }
            },
            "type": "scatterpolargl"
           }
          ],
          "scatterternary": [
           {
            "marker": {
             "colorbar": {
              "outlinewidth": 0,
              "ticks": ""
             }
            },
            "type": "scatterternary"
           }
          ],
          "surface": [
           {
            "colorbar": {
             "outlinewidth": 0,
             "ticks": ""
            },
            "colorscale": [
             [
              0,
              "#0d0887"
             ],
             [
              0.1111111111111111,
              "#46039f"
             ],
             [
              0.2222222222222222,
              "#7201a8"
             ],
             [
              0.3333333333333333,
              "#9c179e"
             ],
             [
              0.4444444444444444,
              "#bd3786"
             ],
             [
              0.5555555555555556,
              "#d8576b"
             ],
             [
              0.6666666666666666,
              "#ed7953"
             ],
             [
              0.7777777777777778,
              "#fb9f3a"
             ],
             [
              0.8888888888888888,
              "#fdca26"
             ],
             [
              1,
              "#f0f921"
             ]
            ],
            "type": "surface"
           }
          ],
          "table": [
           {
            "cells": {
             "fill": {
              "color": "#EBF0F8"
             },
             "line": {
              "color": "white"
             }
            },
            "header": {
             "fill": {
              "color": "#C8D4E3"
             },
             "line": {
              "color": "white"
             }
            },
            "type": "table"
           }
          ]
         },
         "layout": {
          "annotationdefaults": {
           "arrowcolor": "#2a3f5f",
           "arrowhead": 0,
           "arrowwidth": 1
          },
          "colorscale": {
           "diverging": [
            [
             0,
             "#8e0152"
            ],
            [
             0.1,
             "#c51b7d"
            ],
            [
             0.2,
             "#de77ae"
            ],
            [
             0.3,
             "#f1b6da"
            ],
            [
             0.4,
             "#fde0ef"
            ],
            [
             0.5,
             "#f7f7f7"
            ],
            [
             0.6,
             "#e6f5d0"
            ],
            [
             0.7,
             "#b8e186"
            ],
            [
             0.8,
             "#7fbc41"
            ],
            [
             0.9,
             "#4d9221"
            ],
            [
             1,
             "#276419"
            ]
           ],
           "sequential": [
            [
             0,
             "#0d0887"
            ],
            [
             0.1111111111111111,
             "#46039f"
            ],
            [
             0.2222222222222222,
             "#7201a8"
            ],
            [
             0.3333333333333333,
             "#9c179e"
            ],
            [
             0.4444444444444444,
             "#bd3786"
            ],
            [
             0.5555555555555556,
             "#d8576b"
            ],
            [
             0.6666666666666666,
             "#ed7953"
            ],
            [
             0.7777777777777778,
             "#fb9f3a"
            ],
            [
             0.8888888888888888,
             "#fdca26"
            ],
            [
             1,
             "#f0f921"
            ]
           ],
           "sequentialminus": [
            [
             0,
             "#0d0887"
            ],
            [
             0.1111111111111111,
             "#46039f"
            ],
            [
             0.2222222222222222,
             "#7201a8"
            ],
            [
             0.3333333333333333,
             "#9c179e"
            ],
            [
             0.4444444444444444,
             "#bd3786"
            ],
            [
             0.5555555555555556,
             "#d8576b"
            ],
            [
             0.6666666666666666,
             "#ed7953"
            ],
            [
             0.7777777777777778,
             "#fb9f3a"
            ],
            [
             0.8888888888888888,
             "#fdca26"
            ],
            [
             1,
             "#f0f921"
            ]
           ]
          },
          "colorway": [
           "#636efa",
           "#EF553B",
           "#00cc96",
           "#ab63fa",
           "#FFA15A",
           "#19d3f3",
           "#FF6692",
           "#B6E880",
           "#FF97FF",
           "#FECB52"
          ],
          "font": {
           "color": "#2a3f5f"
          },
          "geo": {
           "bgcolor": "white",
           "lakecolor": "white",
           "landcolor": "#E5ECF6",
           "showlakes": true,
           "showland": true,
           "subunitcolor": "white"
          },
          "hoverlabel": {
           "align": "left"
          },
          "hovermode": "closest",
          "mapbox": {
           "style": "light"
          },
          "paper_bgcolor": "white",
          "plot_bgcolor": "#E5ECF6",
          "polar": {
           "angularaxis": {
            "gridcolor": "white",
            "linecolor": "white",
            "ticks": ""
           },
           "bgcolor": "#E5ECF6",
           "radialaxis": {
            "gridcolor": "white",
            "linecolor": "white",
            "ticks": ""
           }
          },
          "scene": {
           "xaxis": {
            "backgroundcolor": "#E5ECF6",
            "gridcolor": "white",
            "gridwidth": 2,
            "linecolor": "white",
            "showbackground": true,
            "ticks": "",
            "zerolinecolor": "white"
           },
           "yaxis": {
            "backgroundcolor": "#E5ECF6",
            "gridcolor": "white",
            "gridwidth": 2,
            "linecolor": "white",
            "showbackground": true,
            "ticks": "",
            "zerolinecolor": "white"
           },
           "zaxis": {
            "backgroundcolor": "#E5ECF6",
            "gridcolor": "white",
            "gridwidth": 2,
            "linecolor": "white",
            "showbackground": true,
            "ticks": "",
            "zerolinecolor": "white"
           }
          },
          "shapedefaults": {
           "line": {
            "color": "#2a3f5f"
           }
          },
          "ternary": {
           "aaxis": {
            "gridcolor": "white",
            "linecolor": "white",
            "ticks": ""
           },
           "baxis": {
            "gridcolor": "white",
            "linecolor": "white",
            "ticks": ""
           },
           "bgcolor": "#E5ECF6",
           "caxis": {
            "gridcolor": "white",
            "linecolor": "white",
            "ticks": ""
           }
          },
          "title": {
           "x": 0.05
          },
          "xaxis": {
           "automargin": true,
           "gridcolor": "white",
           "linecolor": "white",
           "ticks": "",
           "zerolinecolor": "white",
           "zerolinewidth": 2
          },
          "yaxis": {
           "automargin": true,
           "gridcolor": "white",
           "linecolor": "white",
           "ticks": "",
           "zerolinecolor": "white",
           "zerolinewidth": 2
          }
         }
        },
        "xaxis": {
         "anchor": "y",
         "domain": [
          0,
          0.98
         ],
         "title": {
          "text": "DataPesquisa"
         }
        },
        "yaxis": {
         "anchor": "x",
         "domain": [
          0,
          1
         ],
         "title": {
          "text": "preco"
         }
        }
       }
      },
      "text/html": [
       "<div>\n",
       "        \n",
       "        \n",
       "            <div id=\"2e2827f2-9236-44d7-8ee1-d8791d1f0d63\" class=\"plotly-graph-div\" style=\"height:600px; width:100%;\"></div>\n",
       "            <script type=\"text/javascript\">\n",
       "                require([\"plotly\"], function(Plotly) {\n",
       "                    window.PLOTLYENV=window.PLOTLYENV || {};\n",
       "                    \n",
       "                if (document.getElementById(\"2e2827f2-9236-44d7-8ee1-d8791d1f0d63\")) {\n",
       "                    Plotly.newPlot(\n",
       "                        '2e2827f2-9236-44d7-8ee1-d8791d1f0d63',\n",
       "                        [{\"customdata\": [[\"POA\", \"MIA\", \"2020-07-02\", \"2020-07-17\", 3834], [\"POA\", \"MIA\", \"2020-07-02\", \"2020-07-17\", 3919], [\"POA\", \"MIA\", \"2020-07-02\", \"2020-07-17\", 3652], [\"POA\", \"MIA\", \"2020-07-02\", \"2020-07-17\", 3604], [\"POA\", \"MIA\", \"2020-07-02\", \"2020-07-17\", 3637], [\"POA\", \"MIA\", \"2020-07-02\", \"2020-07-17\", 3632]], \"hoverlabel\": {\"namelength\": 0}, \"hovertemplate\": \"EspecificoTodos=POAMIA-2020-07-02-2020-07-17<br>DataPesquisa=%{x}<br>preco=%{customdata[4]}<br>de=%{customdata[0]}<br>para=%{customdata[1]}<br>Ida=%{customdata[2]}<br>Volta=%{customdata[3]}\", \"legendgroup\": \"EspecificoTodos=POAMIA-2020-07-02-2020-07-17\", \"line\": {\"color\": \"#636efa\", \"dash\": \"solid\"}, \"mode\": \"lines\", \"name\": \"EspecificoTodos=POAMIA-2020-07-02-2020-07-17\", \"showlegend\": true, \"type\": \"scatter\", \"x\": [\"16/01/2020 15\", \"16/01/2020 17\", \"17/01/2020 09\", \"17/01/2020 10\", \"17/01/2020 12\", \"17/01/2020 16\"], \"xaxis\": \"x\", \"y\": [3834, 3919, 3652, 3604, 3637, 3632], \"yaxis\": \"y\"}, {\"customdata\": [[\"POA\", \"MIA\", \"2020-07-02\", \"2020-07-18\", 3864], [\"POA\", \"MIA\", \"2020-07-02\", \"2020-07-18\", 3896], [\"POA\", \"MIA\", \"2020-07-02\", \"2020-07-18\", 3774], [\"POA\", \"MIA\", \"2020-07-02\", \"2020-07-18\", 3696], [\"POA\", \"MIA\", \"2020-07-02\", \"2020-07-18\", 3720], [\"POA\", \"MIA\", \"2020-07-02\", \"2020-07-18\", 3691]], \"hoverlabel\": {\"namelength\": 0}, \"hovertemplate\": \"EspecificoTodos=POAMIA-2020-07-02-2020-07-18<br>DataPesquisa=%{x}<br>preco=%{customdata[4]}<br>de=%{customdata[0]}<br>para=%{customdata[1]}<br>Ida=%{customdata[2]}<br>Volta=%{customdata[3]}\", \"legendgroup\": \"EspecificoTodos=POAMIA-2020-07-02-2020-07-18\", \"line\": {\"color\": \"#EF553B\", \"dash\": \"solid\"}, \"mode\": \"lines\", \"name\": \"EspecificoTodos=POAMIA-2020-07-02-2020-07-18\", \"showlegend\": true, \"type\": \"scatter\", \"x\": [\"16/01/2020 15\", \"16/01/2020 17\", \"17/01/2020 09\", \"17/01/2020 10\", \"17/01/2020 12\", \"17/01/2020 16\"], \"xaxis\": \"x\", \"y\": [3864, 3896, 3774, 3696, 3720, 3691], \"yaxis\": \"y\"}, {\"customdata\": [[\"POA\", \"MIA\", \"2020-07-02\", \"2020-07-19\", 4003], [\"POA\", \"MIA\", \"2020-07-02\", \"2020-07-19\", 4032], [\"POA\", \"MIA\", \"2020-07-02\", \"2020-07-19\", 3853], [\"POA\", \"MIA\", \"2020-07-02\", \"2020-07-19\", 3754], [\"POA\", \"MIA\", \"2020-07-02\", \"2020-07-19\", 3716], [\"POA\", \"MIA\", \"2020-07-02\", \"2020-07-19\", 3873]], \"hoverlabel\": {\"namelength\": 0}, \"hovertemplate\": \"EspecificoTodos=POAMIA-2020-07-02-2020-07-19<br>DataPesquisa=%{x}<br>preco=%{customdata[4]}<br>de=%{customdata[0]}<br>para=%{customdata[1]}<br>Ida=%{customdata[2]}<br>Volta=%{customdata[3]}\", \"legendgroup\": \"EspecificoTodos=POAMIA-2020-07-02-2020-07-19\", \"line\": {\"color\": \"#00cc96\", \"dash\": \"solid\"}, \"mode\": \"lines\", \"name\": \"EspecificoTodos=POAMIA-2020-07-02-2020-07-19\", \"showlegend\": true, \"type\": \"scatter\", \"x\": [\"16/01/2020 15\", \"16/01/2020 17\", \"17/01/2020 09\", \"17/01/2020 10\", \"17/01/2020 12\", \"17/01/2020 16\"], \"xaxis\": \"x\", \"y\": [4003, 4032, 3853, 3754, 3716, 3873], \"yaxis\": \"y\"}, {\"customdata\": [[\"POA\", \"MIA\", \"2020-07-03\", \"2020-07-17\", 3766], [\"POA\", \"MIA\", \"2020-07-03\", \"2020-07-17\", 3678], [\"POA\", \"MIA\", \"2020-07-03\", \"2020-07-17\", 3549], [\"POA\", \"MIA\", \"2020-07-03\", \"2020-07-17\", 3757], [\"POA\", \"MIA\", \"2020-07-03\", \"2020-07-17\", 3644], [\"POA\", \"MIA\", \"2020-07-03\", \"2020-07-17\", 3700]], \"hoverlabel\": {\"namelength\": 0}, \"hovertemplate\": \"EspecificoTodos=POAMIA-2020-07-03-2020-07-17<br>DataPesquisa=%{x}<br>preco=%{customdata[4]}<br>de=%{customdata[0]}<br>para=%{customdata[1]}<br>Ida=%{customdata[2]}<br>Volta=%{customdata[3]}\", \"legendgroup\": \"EspecificoTodos=POAMIA-2020-07-03-2020-07-17\", \"line\": {\"color\": \"#ab63fa\", \"dash\": \"solid\"}, \"mode\": \"lines\", \"name\": \"EspecificoTodos=POAMIA-2020-07-03-2020-07-17\", \"showlegend\": true, \"type\": \"scatter\", \"x\": [\"16/01/2020 15\", \"16/01/2020 17\", \"17/01/2020 09\", \"17/01/2020 10\", \"17/01/2020 12\", \"17/01/2020 16\"], \"xaxis\": \"x\", \"y\": [3766, 3678, 3549, 3757, 3644, 3700], \"yaxis\": \"y\"}, {\"customdata\": [[\"POA\", \"MIA\", \"2020-07-03\", \"2020-07-18\", 3781], [\"POA\", \"MIA\", \"2020-07-03\", \"2020-07-18\", 3805], [\"POA\", \"MIA\", \"2020-07-03\", \"2020-07-18\", 3590], [\"POA\", \"MIA\", \"2020-07-03\", \"2020-07-18\", 3832], [\"POA\", \"MIA\", \"2020-07-03\", \"2020-07-18\", 3823], [\"POA\", \"MIA\", \"2020-07-03\", \"2020-07-18\", 3762]], \"hoverlabel\": {\"namelength\": 0}, \"hovertemplate\": \"EspecificoTodos=POAMIA-2020-07-03-2020-07-18<br>DataPesquisa=%{x}<br>preco=%{customdata[4]}<br>de=%{customdata[0]}<br>para=%{customdata[1]}<br>Ida=%{customdata[2]}<br>Volta=%{customdata[3]}\", \"legendgroup\": \"EspecificoTodos=POAMIA-2020-07-03-2020-07-18\", \"line\": {\"color\": \"#FFA15A\", \"dash\": \"solid\"}, \"mode\": \"lines\", \"name\": \"EspecificoTodos=POAMIA-2020-07-03-2020-07-18\", \"showlegend\": true, \"type\": \"scatter\", \"x\": [\"16/01/2020 15\", \"16/01/2020 17\", \"17/01/2020 09\", \"17/01/2020 10\", \"17/01/2020 12\", \"17/01/2020 16\"], \"xaxis\": \"x\", \"y\": [3781, 3805, 3590, 3832, 3823, 3762], \"yaxis\": \"y\"}, {\"customdata\": [[\"POA\", \"MIA\", \"2020-07-03\", \"2020-07-19\", 3789], [\"POA\", \"MIA\", \"2020-07-03\", \"2020-07-19\", 3937], [\"POA\", \"MIA\", \"2020-07-03\", \"2020-07-19\", 3562], [\"POA\", \"MIA\", \"2020-07-03\", \"2020-07-19\", 3831], [\"POA\", \"MIA\", \"2020-07-03\", \"2020-07-19\", 3882], [\"POA\", \"MIA\", \"2020-07-03\", \"2020-07-19\", 3803]], \"hoverlabel\": {\"namelength\": 0}, \"hovertemplate\": \"EspecificoTodos=POAMIA-2020-07-03-2020-07-19<br>DataPesquisa=%{x}<br>preco=%{customdata[4]}<br>de=%{customdata[0]}<br>para=%{customdata[1]}<br>Ida=%{customdata[2]}<br>Volta=%{customdata[3]}\", \"legendgroup\": \"EspecificoTodos=POAMIA-2020-07-03-2020-07-19\", \"line\": {\"color\": \"#19d3f3\", \"dash\": \"solid\"}, \"mode\": \"lines\", \"name\": \"EspecificoTodos=POAMIA-2020-07-03-2020-07-19\", \"showlegend\": true, \"type\": \"scatter\", \"x\": [\"16/01/2020 15\", \"16/01/2020 17\", \"17/01/2020 09\", \"17/01/2020 10\", \"17/01/2020 12\", \"17/01/2020 16\"], \"xaxis\": \"x\", \"y\": [3789, 3937, 3562, 3831, 3882, 3803], \"yaxis\": \"y\"}, {\"customdata\": [[\"POA\", \"MIA\", \"2020-07-03\", \"2020-07-20\", 3748], [\"POA\", \"MIA\", \"2020-07-03\", \"2020-07-20\", 3807], [\"POA\", \"MIA\", \"2020-07-03\", \"2020-07-20\", 3493], [\"POA\", \"MIA\", \"2020-07-03\", \"2020-07-20\", 3686], [\"POA\", \"MIA\", \"2020-07-03\", \"2020-07-20\", 3622], [\"POA\", \"MIA\", \"2020-07-03\", \"2020-07-20\", 3757]], \"hoverlabel\": {\"namelength\": 0}, \"hovertemplate\": \"EspecificoTodos=POAMIA-2020-07-03-2020-07-20<br>DataPesquisa=%{x}<br>preco=%{customdata[4]}<br>de=%{customdata[0]}<br>para=%{customdata[1]}<br>Ida=%{customdata[2]}<br>Volta=%{customdata[3]}\", \"legendgroup\": \"EspecificoTodos=POAMIA-2020-07-03-2020-07-20\", \"line\": {\"color\": \"#FF6692\", \"dash\": \"solid\"}, \"mode\": \"lines\", \"name\": \"EspecificoTodos=POAMIA-2020-07-03-2020-07-20\", \"showlegend\": true, \"type\": \"scatter\", \"x\": [\"16/01/2020 15\", \"16/01/2020 17\", \"17/01/2020 09\", \"17/01/2020 10\", \"17/01/2020 12\", \"17/01/2020 16\"], \"xaxis\": \"x\", \"y\": [3748, 3807, 3493, 3686, 3622, 3757], \"yaxis\": \"y\"}, {\"customdata\": [[\"POA\", \"MIA\", \"2020-07-04\", \"2020-07-18\", 3825], [\"POA\", \"MIA\", \"2020-07-04\", \"2020-07-18\", 3952], [\"POA\", \"MIA\", \"2020-07-04\", \"2020-07-18\", 4025], [\"POA\", \"MIA\", \"2020-07-04\", \"2020-07-18\", 4025], [\"POA\", \"MIA\", \"2020-07-04\", \"2020-07-18\", 4025], [\"POA\", \"MIA\", \"2020-07-04\", \"2020-07-18\", 4025]], \"hoverlabel\": {\"namelength\": 0}, \"hovertemplate\": \"EspecificoTodos=POAMIA-2020-07-04-2020-07-18<br>DataPesquisa=%{x}<br>preco=%{customdata[4]}<br>de=%{customdata[0]}<br>para=%{customdata[1]}<br>Ida=%{customdata[2]}<br>Volta=%{customdata[3]}\", \"legendgroup\": \"EspecificoTodos=POAMIA-2020-07-04-2020-07-18\", \"line\": {\"color\": \"#B6E880\", \"dash\": \"solid\"}, \"mode\": \"lines\", \"name\": \"EspecificoTodos=POAMIA-2020-07-04-2020-07-18\", \"showlegend\": true, \"type\": \"scatter\", \"x\": [\"16/01/2020 15\", \"16/01/2020 17\", \"17/01/2020 09\", \"17/01/2020 10\", \"17/01/2020 12\", \"17/01/2020 16\"], \"xaxis\": \"x\", \"y\": [3825, 3952, 4025, 4025, 4025, 4025], \"yaxis\": \"y\"}, {\"customdata\": [[\"POA\", \"MIA\", \"2020-07-04\", \"2020-07-19\", 3823], [\"POA\", \"MIA\", \"2020-07-04\", \"2020-07-19\", 4017], [\"POA\", \"MIA\", \"2020-07-04\", \"2020-07-19\", 3736], [\"POA\", \"MIA\", \"2020-07-04\", \"2020-07-19\", 3846], [\"POA\", \"MIA\", \"2020-07-04\", \"2020-07-19\", 3994], [\"POA\", \"MIA\", \"2020-07-04\", \"2020-07-19\", 3880]], \"hoverlabel\": {\"namelength\": 0}, \"hovertemplate\": \"EspecificoTodos=POAMIA-2020-07-04-2020-07-19<br>DataPesquisa=%{x}<br>preco=%{customdata[4]}<br>de=%{customdata[0]}<br>para=%{customdata[1]}<br>Ida=%{customdata[2]}<br>Volta=%{customdata[3]}\", \"legendgroup\": \"EspecificoTodos=POAMIA-2020-07-04-2020-07-19\", \"line\": {\"color\": \"#FF97FF\", \"dash\": \"solid\"}, \"mode\": \"lines\", \"name\": \"EspecificoTodos=POAMIA-2020-07-04-2020-07-19\", \"showlegend\": true, \"type\": \"scatter\", \"x\": [\"16/01/2020 15\", \"16/01/2020 17\", \"17/01/2020 09\", \"17/01/2020 10\", \"17/01/2020 12\", \"17/01/2020 16\"], \"xaxis\": \"x\", \"y\": [3823, 4017, 3736, 3846, 3994, 3880], \"yaxis\": \"y\"}, {\"customdata\": [[\"POA\", \"MIA\", \"2020-07-04\", \"2020-07-20\", 3838], [\"POA\", \"MIA\", \"2020-07-04\", \"2020-07-20\", 3932], [\"POA\", \"MIA\", \"2020-07-04\", \"2020-07-20\", 3577], [\"POA\", \"MIA\", \"2020-07-04\", \"2020-07-20\", 3832], [\"POA\", \"MIA\", \"2020-07-04\", \"2020-07-20\", 3769], [\"POA\", \"MIA\", \"2020-07-04\", \"2020-07-20\", 3786]], \"hoverlabel\": {\"namelength\": 0}, \"hovertemplate\": \"EspecificoTodos=POAMIA-2020-07-04-2020-07-20<br>DataPesquisa=%{x}<br>preco=%{customdata[4]}<br>de=%{customdata[0]}<br>para=%{customdata[1]}<br>Ida=%{customdata[2]}<br>Volta=%{customdata[3]}\", \"legendgroup\": \"EspecificoTodos=POAMIA-2020-07-04-2020-07-20\", \"line\": {\"color\": \"#FECB52\", \"dash\": \"solid\"}, \"mode\": \"lines\", \"name\": \"EspecificoTodos=POAMIA-2020-07-04-2020-07-20\", \"showlegend\": true, \"type\": \"scatter\", \"x\": [\"16/01/2020 15\", \"16/01/2020 17\", \"17/01/2020 09\", \"17/01/2020 10\", \"17/01/2020 12\", \"17/01/2020 16\"], \"xaxis\": \"x\", \"y\": [3838, 3932, 3577, 3832, 3769, 3786], \"yaxis\": \"y\"}, {\"customdata\": [[\"POA\", \"MIA\", \"2020-07-04\", \"2020-07-21\", 3878], [\"POA\", \"MIA\", \"2020-07-04\", \"2020-07-21\", 3877], [\"POA\", \"MIA\", \"2020-07-04\", \"2020-07-21\", 3592], [\"POA\", \"MIA\", \"2020-07-04\", \"2020-07-21\", 3821], [\"POA\", \"MIA\", \"2020-07-04\", \"2020-07-21\", 3792], [\"POA\", \"MIA\", \"2020-07-04\", \"2020-07-21\", 3753]], \"hoverlabel\": {\"namelength\": 0}, \"hovertemplate\": \"EspecificoTodos=POAMIA-2020-07-04-2020-07-21<br>DataPesquisa=%{x}<br>preco=%{customdata[4]}<br>de=%{customdata[0]}<br>para=%{customdata[1]}<br>Ida=%{customdata[2]}<br>Volta=%{customdata[3]}\", \"legendgroup\": \"EspecificoTodos=POAMIA-2020-07-04-2020-07-21\", \"line\": {\"color\": \"#636efa\", \"dash\": \"solid\"}, \"mode\": \"lines\", \"name\": \"EspecificoTodos=POAMIA-2020-07-04-2020-07-21\", \"showlegend\": true, \"type\": \"scatter\", \"x\": [\"16/01/2020 15\", \"16/01/2020 17\", \"17/01/2020 09\", \"17/01/2020 10\", \"17/01/2020 12\", \"17/01/2020 16\"], \"xaxis\": \"x\", \"y\": [3878, 3877, 3592, 3821, 3792, 3753], \"yaxis\": \"y\"}, {\"customdata\": [[\"POA\", \"MIA\", \"2020-07-05\", \"2020-07-19\", 3863], [\"POA\", \"MIA\", \"2020-07-05\", \"2020-07-19\", 3957], [\"POA\", \"MIA\", \"2020-07-05\", \"2020-07-19\", 3788], [\"POA\", \"MIA\", \"2020-07-05\", \"2020-07-19\", 4010], [\"POA\", \"MIA\", \"2020-07-05\", \"2020-07-19\", 4082], [\"POA\", \"MIA\", \"2020-07-05\", \"2020-07-19\", 3992]], \"hoverlabel\": {\"namelength\": 0}, \"hovertemplate\": \"EspecificoTodos=POAMIA-2020-07-05-2020-07-19<br>DataPesquisa=%{x}<br>preco=%{customdata[4]}<br>de=%{customdata[0]}<br>para=%{customdata[1]}<br>Ida=%{customdata[2]}<br>Volta=%{customdata[3]}\", \"legendgroup\": \"EspecificoTodos=POAMIA-2020-07-05-2020-07-19\", \"line\": {\"color\": \"#EF553B\", \"dash\": \"solid\"}, \"mode\": \"lines\", \"name\": \"EspecificoTodos=POAMIA-2020-07-05-2020-07-19\", \"showlegend\": true, \"type\": \"scatter\", \"x\": [\"16/01/2020 15\", \"16/01/2020 17\", \"17/01/2020 09\", \"17/01/2020 10\", \"17/01/2020 12\", \"17/01/2020 16\"], \"xaxis\": \"x\", \"y\": [3863, 3957, 3788, 4010, 4082, 3992], \"yaxis\": \"y\"}, {\"customdata\": [[\"POA\", \"MIA\", \"2020-07-05\", \"2020-07-20\", 3948], [\"POA\", \"MIA\", \"2020-07-05\", \"2020-07-20\", 4006], [\"POA\", \"MIA\", \"2020-07-05\", \"2020-07-20\", 3692], [\"POA\", \"MIA\", \"2020-07-05\", \"2020-07-20\", 3973], [\"POA\", \"MIA\", \"2020-07-05\", \"2020-07-20\", 3863], [\"POA\", \"MIA\", \"2020-07-05\", \"2020-07-20\", 3876]], \"hoverlabel\": {\"namelength\": 0}, \"hovertemplate\": \"EspecificoTodos=POAMIA-2020-07-05-2020-07-20<br>DataPesquisa=%{x}<br>preco=%{customdata[4]}<br>de=%{customdata[0]}<br>para=%{customdata[1]}<br>Ida=%{customdata[2]}<br>Volta=%{customdata[3]}\", \"legendgroup\": \"EspecificoTodos=POAMIA-2020-07-05-2020-07-20\", \"line\": {\"color\": \"#00cc96\", \"dash\": \"solid\"}, \"mode\": \"lines\", \"name\": \"EspecificoTodos=POAMIA-2020-07-05-2020-07-20\", \"showlegend\": true, \"type\": \"scatter\", \"x\": [\"16/01/2020 15\", \"16/01/2020 17\", \"17/01/2020 09\", \"17/01/2020 10\", \"17/01/2020 12\", \"17/01/2020 16\"], \"xaxis\": \"x\", \"y\": [3948, 4006, 3692, 3973, 3863, 3876], \"yaxis\": \"y\"}, {\"customdata\": [[\"POA\", \"MIA\", \"2020-07-05\", \"2020-07-21\", 3918], [\"POA\", \"MIA\", \"2020-07-05\", \"2020-07-21\", 3972], [\"POA\", \"MIA\", \"2020-07-05\", \"2020-07-21\", 3700], [\"POA\", \"MIA\", \"2020-07-05\", \"2020-07-21\", 3954], [\"POA\", \"MIA\", \"2020-07-05\", \"2020-07-21\", 3867], [\"POA\", \"MIA\", \"2020-07-05\", \"2020-07-21\", 3851]], \"hoverlabel\": {\"namelength\": 0}, \"hovertemplate\": \"EspecificoTodos=POAMIA-2020-07-05-2020-07-21<br>DataPesquisa=%{x}<br>preco=%{customdata[4]}<br>de=%{customdata[0]}<br>para=%{customdata[1]}<br>Ida=%{customdata[2]}<br>Volta=%{customdata[3]}\", \"legendgroup\": \"EspecificoTodos=POAMIA-2020-07-05-2020-07-21\", \"line\": {\"color\": \"#ab63fa\", \"dash\": \"solid\"}, \"mode\": \"lines\", \"name\": \"EspecificoTodos=POAMIA-2020-07-05-2020-07-21\", \"showlegend\": true, \"type\": \"scatter\", \"x\": [\"16/01/2020 15\", \"16/01/2020 17\", \"17/01/2020 09\", \"17/01/2020 10\", \"17/01/2020 12\", \"17/01/2020 16\"], \"xaxis\": \"x\", \"y\": [3918, 3972, 3700, 3954, 3867, 3851], \"yaxis\": \"y\"}, {\"customdata\": [[\"POA\", \"MIA\", \"2020-07-05\", \"2020-07-22\", 3939], [\"POA\", \"MIA\", \"2020-07-05\", \"2020-07-22\", 3923], [\"POA\", \"MIA\", \"2020-07-05\", \"2020-07-22\", 3697], [\"POA\", \"MIA\", \"2020-07-05\", \"2020-07-22\", 3966], [\"POA\", \"MIA\", \"2020-07-05\", \"2020-07-22\", 3902], [\"POA\", \"MIA\", \"2020-07-05\", \"2020-07-22\", 3910]], \"hoverlabel\": {\"namelength\": 0}, \"hovertemplate\": \"EspecificoTodos=POAMIA-2020-07-05-2020-07-22<br>DataPesquisa=%{x}<br>preco=%{customdata[4]}<br>de=%{customdata[0]}<br>para=%{customdata[1]}<br>Ida=%{customdata[2]}<br>Volta=%{customdata[3]}\", \"legendgroup\": \"EspecificoTodos=POAMIA-2020-07-05-2020-07-22\", \"line\": {\"color\": \"#FFA15A\", \"dash\": \"solid\"}, \"mode\": \"lines\", \"name\": \"EspecificoTodos=POAMIA-2020-07-05-2020-07-22\", \"showlegend\": true, \"type\": \"scatter\", \"x\": [\"16/01/2020 15\", \"16/01/2020 17\", \"17/01/2020 09\", \"17/01/2020 10\", \"17/01/2020 12\", \"17/01/2020 16\"], \"xaxis\": \"x\", \"y\": [3939, 3923, 3697, 3966, 3902, 3910], \"yaxis\": \"y\"}, {\"customdata\": [[\"POA\", \"MIA\", \"2020-07-06\", \"2020-07-20\", 3901], [\"POA\", \"MIA\", \"2020-07-06\", \"2020-07-20\", 3936], [\"POA\", \"MIA\", \"2020-07-06\", \"2020-07-20\", 3749], [\"POA\", \"MIA\", \"2020-07-06\", \"2020-07-20\", 3879], [\"POA\", \"MIA\", \"2020-07-06\", \"2020-07-20\", 3723], [\"POA\", \"MIA\", \"2020-07-06\", \"2020-07-20\", 3681]], \"hoverlabel\": {\"namelength\": 0}, \"hovertemplate\": \"EspecificoTodos=POAMIA-2020-07-06-2020-07-20<br>DataPesquisa=%{x}<br>preco=%{customdata[4]}<br>de=%{customdata[0]}<br>para=%{customdata[1]}<br>Ida=%{customdata[2]}<br>Volta=%{customdata[3]}\", \"legendgroup\": \"EspecificoTodos=POAMIA-2020-07-06-2020-07-20\", \"line\": {\"color\": \"#19d3f3\", \"dash\": \"solid\"}, \"mode\": \"lines\", \"name\": \"EspecificoTodos=POAMIA-2020-07-06-2020-07-20\", \"showlegend\": true, \"type\": \"scatter\", \"x\": [\"16/01/2020 15\", \"16/01/2020 17\", \"17/01/2020 09\", \"17/01/2020 10\", \"17/01/2020 12\", \"17/01/2020 16\"], \"xaxis\": \"x\", \"y\": [3901, 3936, 3749, 3879, 3723, 3681], \"yaxis\": \"y\"}, {\"customdata\": [[\"POA\", \"MIA\", \"2020-07-06\", \"2020-07-21\", 3836], [\"POA\", \"MIA\", \"2020-07-06\", \"2020-07-21\", 3838], [\"POA\", \"MIA\", \"2020-07-06\", \"2020-07-21\", 3651], [\"POA\", \"MIA\", \"2020-07-06\", \"2020-07-21\", 3803], [\"POA\", \"MIA\", \"2020-07-06\", \"2020-07-21\", 3647], [\"POA\", \"MIA\", \"2020-07-06\", \"2020-07-21\", 3548]], \"hoverlabel\": {\"namelength\": 0}, \"hovertemplate\": \"EspecificoTodos=POAMIA-2020-07-06-2020-07-21<br>DataPesquisa=%{x}<br>preco=%{customdata[4]}<br>de=%{customdata[0]}<br>para=%{customdata[1]}<br>Ida=%{customdata[2]}<br>Volta=%{customdata[3]}\", \"legendgroup\": \"EspecificoTodos=POAMIA-2020-07-06-2020-07-21\", \"line\": {\"color\": \"#FF6692\", \"dash\": \"solid\"}, \"mode\": \"lines\", \"name\": \"EspecificoTodos=POAMIA-2020-07-06-2020-07-21\", \"showlegend\": true, \"type\": \"scatter\", \"x\": [\"16/01/2020 15\", \"16/01/2020 17\", \"17/01/2020 09\", \"17/01/2020 10\", \"17/01/2020 12\", \"17/01/2020 16\"], \"xaxis\": \"x\", \"y\": [3836, 3838, 3651, 3803, 3647, 3548], \"yaxis\": \"y\"}, {\"customdata\": [[\"POA\", \"MIA\", \"2020-07-06\", \"2020-07-22\", 3825], [\"POA\", \"MIA\", \"2020-07-06\", \"2020-07-22\", 3826], [\"POA\", \"MIA\", \"2020-07-06\", \"2020-07-22\", 3751], [\"POA\", \"MIA\", \"2020-07-06\", \"2020-07-22\", 3723], [\"POA\", \"MIA\", \"2020-07-06\", \"2020-07-22\", 3615], [\"POA\", \"MIA\", \"2020-07-06\", \"2020-07-22\", 3617]], \"hoverlabel\": {\"namelength\": 0}, \"hovertemplate\": \"EspecificoTodos=POAMIA-2020-07-06-2020-07-22<br>DataPesquisa=%{x}<br>preco=%{customdata[4]}<br>de=%{customdata[0]}<br>para=%{customdata[1]}<br>Ida=%{customdata[2]}<br>Volta=%{customdata[3]}\", \"legendgroup\": \"EspecificoTodos=POAMIA-2020-07-06-2020-07-22\", \"line\": {\"color\": \"#B6E880\", \"dash\": \"solid\"}, \"mode\": \"lines\", \"name\": \"EspecificoTodos=POAMIA-2020-07-06-2020-07-22\", \"showlegend\": true, \"type\": \"scatter\", \"x\": [\"16/01/2020 15\", \"16/01/2020 17\", \"17/01/2020 09\", \"17/01/2020 10\", \"17/01/2020 12\", \"17/01/2020 16\"], \"xaxis\": \"x\", \"y\": [3825, 3826, 3751, 3723, 3615, 3617], \"yaxis\": \"y\"}, {\"customdata\": [[\"POA\", \"MIA\", \"2020-07-06\", \"2020-07-23\", 3838], [\"POA\", \"MIA\", \"2020-07-06\", \"2020-07-23\", 3800], [\"POA\", \"MIA\", \"2020-07-06\", \"2020-07-23\", 3754], [\"POA\", \"MIA\", \"2020-07-06\", \"2020-07-23\", 3729], [\"POA\", \"MIA\", \"2020-07-06\", \"2020-07-23\", 3620], [\"POA\", \"MIA\", \"2020-07-06\", \"2020-07-23\", 3610]], \"hoverlabel\": {\"namelength\": 0}, \"hovertemplate\": \"EspecificoTodos=POAMIA-2020-07-06-2020-07-23<br>DataPesquisa=%{x}<br>preco=%{customdata[4]}<br>de=%{customdata[0]}<br>para=%{customdata[1]}<br>Ida=%{customdata[2]}<br>Volta=%{customdata[3]}\", \"legendgroup\": \"EspecificoTodos=POAMIA-2020-07-06-2020-07-23\", \"line\": {\"color\": \"#FF97FF\", \"dash\": \"solid\"}, \"mode\": \"lines\", \"name\": \"EspecificoTodos=POAMIA-2020-07-06-2020-07-23\", \"showlegend\": true, \"type\": \"scatter\", \"x\": [\"16/01/2020 15\", \"16/01/2020 17\", \"17/01/2020 09\", \"17/01/2020 10\", \"17/01/2020 12\", \"17/01/2020 16\"], \"xaxis\": \"x\", \"y\": [3838, 3800, 3754, 3729, 3620, 3610], \"yaxis\": \"y\"}, {\"customdata\": [[\"POA\", \"MIA\", \"2020-07-07\", \"2020-07-21\", 3828], [\"POA\", \"MIA\", \"2020-07-07\", \"2020-07-21\", 3824], [\"POA\", \"MIA\", \"2020-07-07\", \"2020-07-21\", 3754], [\"POA\", \"MIA\", \"2020-07-07\", \"2020-07-21\", 3840], [\"POA\", \"MIA\", \"2020-07-07\", \"2020-07-21\", 3574], [\"POA\", \"MIA\", \"2020-07-07\", \"2020-07-21\", 3637]], \"hoverlabel\": {\"namelength\": 0}, \"hovertemplate\": \"EspecificoTodos=POAMIA-2020-07-07-2020-07-21<br>DataPesquisa=%{x}<br>preco=%{customdata[4]}<br>de=%{customdata[0]}<br>para=%{customdata[1]}<br>Ida=%{customdata[2]}<br>Volta=%{customdata[3]}\", \"legendgroup\": \"EspecificoTodos=POAMIA-2020-07-07-2020-07-21\", \"line\": {\"color\": \"#FECB52\", \"dash\": \"solid\"}, \"mode\": \"lines\", \"name\": \"EspecificoTodos=POAMIA-2020-07-07-2020-07-21\", \"showlegend\": true, \"type\": \"scatter\", \"x\": [\"16/01/2020 15\", \"16/01/2020 17\", \"17/01/2020 09\", \"17/01/2020 10\", \"17/01/2020 12\", \"17/01/2020 16\"], \"xaxis\": \"x\", \"y\": [3828, 3824, 3754, 3840, 3574, 3637], \"yaxis\": \"y\"}, {\"customdata\": [[\"POA\", \"MIA\", \"2020-07-07\", \"2020-07-22\", 3798], [\"POA\", \"MIA\", \"2020-07-07\", \"2020-07-22\", 3855], [\"POA\", \"MIA\", \"2020-07-07\", \"2020-07-22\", 3708], [\"POA\", \"MIA\", \"2020-07-07\", \"2020-07-22\", 3895], [\"POA\", \"MIA\", \"2020-07-07\", \"2020-07-22\", 3619], [\"POA\", \"MIA\", \"2020-07-07\", \"2020-07-22\", 3666]], \"hoverlabel\": {\"namelength\": 0}, \"hovertemplate\": \"EspecificoTodos=POAMIA-2020-07-07-2020-07-22<br>DataPesquisa=%{x}<br>preco=%{customdata[4]}<br>de=%{customdata[0]}<br>para=%{customdata[1]}<br>Ida=%{customdata[2]}<br>Volta=%{customdata[3]}\", \"legendgroup\": \"EspecificoTodos=POAMIA-2020-07-07-2020-07-22\", \"line\": {\"color\": \"#636efa\", \"dash\": \"solid\"}, \"mode\": \"lines\", \"name\": \"EspecificoTodos=POAMIA-2020-07-07-2020-07-22\", \"showlegend\": true, \"type\": \"scatter\", \"x\": [\"16/01/2020 15\", \"16/01/2020 17\", \"17/01/2020 09\", \"17/01/2020 10\", \"17/01/2020 12\", \"17/01/2020 16\"], \"xaxis\": \"x\", \"y\": [3798, 3855, 3708, 3895, 3619, 3666], \"yaxis\": \"y\"}, {\"customdata\": [[\"POA\", \"MIA\", \"2020-07-07\", \"2020-07-23\", 3812], [\"POA\", \"MIA\", \"2020-07-07\", \"2020-07-23\", 3777], [\"POA\", \"MIA\", \"2020-07-07\", \"2020-07-23\", 3736], [\"POA\", \"MIA\", \"2020-07-07\", \"2020-07-23\", 3770], [\"POA\", \"MIA\", \"2020-07-07\", \"2020-07-23\", 3560], [\"POA\", \"MIA\", \"2020-07-07\", \"2020-07-23\", 3648]], \"hoverlabel\": {\"namelength\": 0}, \"hovertemplate\": \"EspecificoTodos=POAMIA-2020-07-07-2020-07-23<br>DataPesquisa=%{x}<br>preco=%{customdata[4]}<br>de=%{customdata[0]}<br>para=%{customdata[1]}<br>Ida=%{customdata[2]}<br>Volta=%{customdata[3]}\", \"legendgroup\": \"EspecificoTodos=POAMIA-2020-07-07-2020-07-23\", \"line\": {\"color\": \"#EF553B\", \"dash\": \"solid\"}, \"mode\": \"lines\", \"name\": \"EspecificoTodos=POAMIA-2020-07-07-2020-07-23\", \"showlegend\": true, \"type\": \"scatter\", \"x\": [\"16/01/2020 15\", \"16/01/2020 17\", \"17/01/2020 09\", \"17/01/2020 10\", \"17/01/2020 12\", \"17/01/2020 16\"], \"xaxis\": \"x\", \"y\": [3812, 3777, 3736, 3770, 3560, 3648], \"yaxis\": \"y\"}, {\"customdata\": [[\"POA\", \"MIA\", \"2020-07-08\", \"2020-07-22\", 3950], [\"POA\", \"MIA\", \"2020-07-08\", \"2020-07-22\", 3958], [\"POA\", \"MIA\", \"2020-07-08\", \"2020-07-22\", 3743], [\"POA\", \"MIA\", \"2020-07-08\", \"2020-07-22\", 3889], [\"POA\", \"MIA\", \"2020-07-08\", \"2020-07-22\", 3696], [\"POA\", \"MIA\", \"2020-07-08\", \"2020-07-22\", 3792]], \"hoverlabel\": {\"namelength\": 0}, \"hovertemplate\": \"EspecificoTodos=POAMIA-2020-07-08-2020-07-22<br>DataPesquisa=%{x}<br>preco=%{customdata[4]}<br>de=%{customdata[0]}<br>para=%{customdata[1]}<br>Ida=%{customdata[2]}<br>Volta=%{customdata[3]}\", \"legendgroup\": \"EspecificoTodos=POAMIA-2020-07-08-2020-07-22\", \"line\": {\"color\": \"#00cc96\", \"dash\": \"solid\"}, \"mode\": \"lines\", \"name\": \"EspecificoTodos=POAMIA-2020-07-08-2020-07-22\", \"showlegend\": true, \"type\": \"scatter\", \"x\": [\"16/01/2020 15\", \"16/01/2020 17\", \"17/01/2020 09\", \"17/01/2020 10\", \"17/01/2020 12\", \"17/01/2020 16\"], \"xaxis\": \"x\", \"y\": [3950, 3958, 3743, 3889, 3696, 3792], \"yaxis\": \"y\"}, {\"customdata\": [[\"POA\", \"MIA\", \"2020-07-08\", \"2020-07-23\", 3943], [\"POA\", \"MIA\", \"2020-07-08\", \"2020-07-23\", 3970], [\"POA\", \"MIA\", \"2020-07-08\", \"2020-07-23\", 3773], [\"POA\", \"MIA\", \"2020-07-08\", \"2020-07-23\", 3909], [\"POA\", \"MIA\", \"2020-07-08\", \"2020-07-23\", 3712], [\"POA\", \"MIA\", \"2020-07-08\", \"2020-07-23\", 3751]], \"hoverlabel\": {\"namelength\": 0}, \"hovertemplate\": \"EspecificoTodos=POAMIA-2020-07-08-2020-07-23<br>DataPesquisa=%{x}<br>preco=%{customdata[4]}<br>de=%{customdata[0]}<br>para=%{customdata[1]}<br>Ida=%{customdata[2]}<br>Volta=%{customdata[3]}\", \"legendgroup\": \"EspecificoTodos=POAMIA-2020-07-08-2020-07-23\", \"line\": {\"color\": \"#ab63fa\", \"dash\": \"solid\"}, \"mode\": \"lines\", \"name\": \"EspecificoTodos=POAMIA-2020-07-08-2020-07-23\", \"showlegend\": true, \"type\": \"scatter\", \"x\": [\"16/01/2020 15\", \"16/01/2020 17\", \"17/01/2020 09\", \"17/01/2020 10\", \"17/01/2020 12\", \"17/01/2020 16\"], \"xaxis\": \"x\", \"y\": [3943, 3970, 3773, 3909, 3712, 3751], \"yaxis\": \"y\"}],\n",
       "                        {\"height\": 600, \"legend\": {\"tracegroupgap\": 0}, \"margin\": {\"t\": 60}, \"template\": {\"data\": {\"bar\": [{\"error_x\": {\"color\": \"#2a3f5f\"}, \"error_y\": {\"color\": \"#2a3f5f\"}, \"marker\": {\"line\": {\"color\": \"#E5ECF6\", \"width\": 0.5}}, \"type\": \"bar\"}], \"barpolar\": [{\"marker\": {\"line\": {\"color\": \"#E5ECF6\", \"width\": 0.5}}, \"type\": \"barpolar\"}], \"carpet\": [{\"aaxis\": {\"endlinecolor\": \"#2a3f5f\", \"gridcolor\": \"white\", \"linecolor\": \"white\", \"minorgridcolor\": \"white\", \"startlinecolor\": \"#2a3f5f\"}, \"baxis\": {\"endlinecolor\": \"#2a3f5f\", \"gridcolor\": \"white\", \"linecolor\": \"white\", \"minorgridcolor\": \"white\", \"startlinecolor\": \"#2a3f5f\"}, \"type\": \"carpet\"}], \"choropleth\": [{\"colorbar\": {\"outlinewidth\": 0, \"ticks\": \"\"}, \"type\": \"choropleth\"}], \"contour\": [{\"colorbar\": {\"outlinewidth\": 0, \"ticks\": \"\"}, \"colorscale\": [[0.0, \"#0d0887\"], [0.1111111111111111, \"#46039f\"], [0.2222222222222222, \"#7201a8\"], [0.3333333333333333, \"#9c179e\"], [0.4444444444444444, \"#bd3786\"], [0.5555555555555556, \"#d8576b\"], [0.6666666666666666, \"#ed7953\"], [0.7777777777777778, \"#fb9f3a\"], [0.8888888888888888, \"#fdca26\"], [1.0, \"#f0f921\"]], \"type\": \"contour\"}], \"contourcarpet\": [{\"colorbar\": {\"outlinewidth\": 0, \"ticks\": \"\"}, \"type\": \"contourcarpet\"}], \"heatmap\": [{\"colorbar\": {\"outlinewidth\": 0, \"ticks\": \"\"}, \"colorscale\": [[0.0, \"#0d0887\"], [0.1111111111111111, \"#46039f\"], [0.2222222222222222, \"#7201a8\"], [0.3333333333333333, \"#9c179e\"], [0.4444444444444444, \"#bd3786\"], [0.5555555555555556, \"#d8576b\"], [0.6666666666666666, \"#ed7953\"], [0.7777777777777778, \"#fb9f3a\"], [0.8888888888888888, \"#fdca26\"], [1.0, \"#f0f921\"]], \"type\": \"heatmap\"}], \"heatmapgl\": [{\"colorbar\": {\"outlinewidth\": 0, \"ticks\": \"\"}, \"colorscale\": [[0.0, \"#0d0887\"], [0.1111111111111111, \"#46039f\"], [0.2222222222222222, \"#7201a8\"], [0.3333333333333333, \"#9c179e\"], [0.4444444444444444, \"#bd3786\"], [0.5555555555555556, \"#d8576b\"], [0.6666666666666666, \"#ed7953\"], [0.7777777777777778, \"#fb9f3a\"], [0.8888888888888888, \"#fdca26\"], [1.0, \"#f0f921\"]], \"type\": \"heatmapgl\"}], \"histogram\": [{\"marker\": {\"colorbar\": {\"outlinewidth\": 0, \"ticks\": \"\"}}, \"type\": \"histogram\"}], \"histogram2d\": [{\"colorbar\": {\"outlinewidth\": 0, \"ticks\": \"\"}, \"colorscale\": [[0.0, \"#0d0887\"], [0.1111111111111111, \"#46039f\"], [0.2222222222222222, \"#7201a8\"], [0.3333333333333333, \"#9c179e\"], [0.4444444444444444, \"#bd3786\"], [0.5555555555555556, \"#d8576b\"], [0.6666666666666666, \"#ed7953\"], [0.7777777777777778, \"#fb9f3a\"], [0.8888888888888888, \"#fdca26\"], [1.0, \"#f0f921\"]], \"type\": \"histogram2d\"}], \"histogram2dcontour\": [{\"colorbar\": {\"outlinewidth\": 0, \"ticks\": \"\"}, \"colorscale\": [[0.0, \"#0d0887\"], [0.1111111111111111, \"#46039f\"], [0.2222222222222222, \"#7201a8\"], [0.3333333333333333, \"#9c179e\"], [0.4444444444444444, \"#bd3786\"], [0.5555555555555556, \"#d8576b\"], [0.6666666666666666, \"#ed7953\"], [0.7777777777777778, \"#fb9f3a\"], [0.8888888888888888, \"#fdca26\"], [1.0, \"#f0f921\"]], \"type\": \"histogram2dcontour\"}], \"mesh3d\": [{\"colorbar\": {\"outlinewidth\": 0, \"ticks\": \"\"}, \"type\": \"mesh3d\"}], \"parcoords\": [{\"line\": {\"colorbar\": {\"outlinewidth\": 0, \"ticks\": \"\"}}, \"type\": \"parcoords\"}], \"scatter\": [{\"marker\": {\"colorbar\": {\"outlinewidth\": 0, \"ticks\": \"\"}}, \"type\": \"scatter\"}], \"scatter3d\": [{\"line\": {\"colorbar\": {\"outlinewidth\": 0, \"ticks\": \"\"}}, \"marker\": {\"colorbar\": {\"outlinewidth\": 0, \"ticks\": \"\"}}, \"type\": \"scatter3d\"}], \"scattercarpet\": [{\"marker\": {\"colorbar\": {\"outlinewidth\": 0, \"ticks\": \"\"}}, \"type\": \"scattercarpet\"}], \"scattergeo\": [{\"marker\": {\"colorbar\": {\"outlinewidth\": 0, \"ticks\": \"\"}}, \"type\": \"scattergeo\"}], \"scattergl\": [{\"marker\": {\"colorbar\": {\"outlinewidth\": 0, \"ticks\": \"\"}}, \"type\": \"scattergl\"}], \"scattermapbox\": [{\"marker\": {\"colorbar\": {\"outlinewidth\": 0, \"ticks\": \"\"}}, \"type\": \"scattermapbox\"}], \"scatterpolar\": [{\"marker\": {\"colorbar\": {\"outlinewidth\": 0, \"ticks\": \"\"}}, \"type\": \"scatterpolar\"}], \"scatterpolargl\": [{\"marker\": {\"colorbar\": {\"outlinewidth\": 0, \"ticks\": \"\"}}, \"type\": \"scatterpolargl\"}], \"scatterternary\": [{\"marker\": {\"colorbar\": {\"outlinewidth\": 0, \"ticks\": \"\"}}, \"type\": \"scatterternary\"}], \"surface\": [{\"colorbar\": {\"outlinewidth\": 0, \"ticks\": \"\"}, \"colorscale\": [[0.0, \"#0d0887\"], [0.1111111111111111, \"#46039f\"], [0.2222222222222222, \"#7201a8\"], [0.3333333333333333, \"#9c179e\"], [0.4444444444444444, \"#bd3786\"], [0.5555555555555556, \"#d8576b\"], [0.6666666666666666, \"#ed7953\"], [0.7777777777777778, \"#fb9f3a\"], [0.8888888888888888, \"#fdca26\"], [1.0, \"#f0f921\"]], \"type\": \"surface\"}], \"table\": [{\"cells\": {\"fill\": {\"color\": \"#EBF0F8\"}, \"line\": {\"color\": \"white\"}}, \"header\": {\"fill\": {\"color\": \"#C8D4E3\"}, \"line\": {\"color\": \"white\"}}, \"type\": \"table\"}]}, \"layout\": {\"annotationdefaults\": {\"arrowcolor\": \"#2a3f5f\", \"arrowhead\": 0, \"arrowwidth\": 1}, \"colorscale\": {\"diverging\": [[0, \"#8e0152\"], [0.1, \"#c51b7d\"], [0.2, \"#de77ae\"], [0.3, \"#f1b6da\"], [0.4, \"#fde0ef\"], [0.5, \"#f7f7f7\"], [0.6, \"#e6f5d0\"], [0.7, \"#b8e186\"], [0.8, \"#7fbc41\"], [0.9, \"#4d9221\"], [1, \"#276419\"]], \"sequential\": [[0.0, \"#0d0887\"], [0.1111111111111111, \"#46039f\"], [0.2222222222222222, \"#7201a8\"], [0.3333333333333333, \"#9c179e\"], [0.4444444444444444, \"#bd3786\"], [0.5555555555555556, \"#d8576b\"], [0.6666666666666666, \"#ed7953\"], [0.7777777777777778, \"#fb9f3a\"], [0.8888888888888888, \"#fdca26\"], [1.0, \"#f0f921\"]], \"sequentialminus\": [[0.0, \"#0d0887\"], [0.1111111111111111, \"#46039f\"], [0.2222222222222222, \"#7201a8\"], [0.3333333333333333, \"#9c179e\"], [0.4444444444444444, \"#bd3786\"], [0.5555555555555556, \"#d8576b\"], [0.6666666666666666, \"#ed7953\"], [0.7777777777777778, \"#fb9f3a\"], [0.8888888888888888, \"#fdca26\"], [1.0, \"#f0f921\"]]}, \"colorway\": [\"#636efa\", \"#EF553B\", \"#00cc96\", \"#ab63fa\", \"#FFA15A\", \"#19d3f3\", \"#FF6692\", \"#B6E880\", \"#FF97FF\", \"#FECB52\"], \"font\": {\"color\": \"#2a3f5f\"}, \"geo\": {\"bgcolor\": \"white\", \"lakecolor\": \"white\", \"landcolor\": \"#E5ECF6\", \"showlakes\": true, \"showland\": true, \"subunitcolor\": \"white\"}, \"hoverlabel\": {\"align\": \"left\"}, \"hovermode\": \"closest\", \"mapbox\": {\"style\": \"light\"}, \"paper_bgcolor\": \"white\", \"plot_bgcolor\": \"#E5ECF6\", \"polar\": {\"angularaxis\": {\"gridcolor\": \"white\", \"linecolor\": \"white\", \"ticks\": \"\"}, \"bgcolor\": \"#E5ECF6\", \"radialaxis\": {\"gridcolor\": \"white\", \"linecolor\": \"white\", \"ticks\": \"\"}}, \"scene\": {\"xaxis\": {\"backgroundcolor\": \"#E5ECF6\", \"gridcolor\": \"white\", \"gridwidth\": 2, \"linecolor\": \"white\", \"showbackground\": true, \"ticks\": \"\", \"zerolinecolor\": \"white\"}, \"yaxis\": {\"backgroundcolor\": \"#E5ECF6\", \"gridcolor\": \"white\", \"gridwidth\": 2, \"linecolor\": \"white\", \"showbackground\": true, \"ticks\": \"\", \"zerolinecolor\": \"white\"}, \"zaxis\": {\"backgroundcolor\": \"#E5ECF6\", \"gridcolor\": \"white\", \"gridwidth\": 2, \"linecolor\": \"white\", \"showbackground\": true, \"ticks\": \"\", \"zerolinecolor\": \"white\"}}, \"shapedefaults\": {\"line\": {\"color\": \"#2a3f5f\"}}, \"ternary\": {\"aaxis\": {\"gridcolor\": \"white\", \"linecolor\": \"white\", \"ticks\": \"\"}, \"baxis\": {\"gridcolor\": \"white\", \"linecolor\": \"white\", \"ticks\": \"\"}, \"bgcolor\": \"#E5ECF6\", \"caxis\": {\"gridcolor\": \"white\", \"linecolor\": \"white\", \"ticks\": \"\"}}, \"title\": {\"x\": 0.05}, \"xaxis\": {\"automargin\": true, \"gridcolor\": \"white\", \"linecolor\": \"white\", \"ticks\": \"\", \"zerolinecolor\": \"white\", \"zerolinewidth\": 2}, \"yaxis\": {\"automargin\": true, \"gridcolor\": \"white\", \"linecolor\": \"white\", \"ticks\": \"\", \"zerolinecolor\": \"white\", \"zerolinewidth\": 2}}}, \"xaxis\": {\"anchor\": \"y\", \"domain\": [0.0, 0.98], \"title\": {\"text\": \"DataPesquisa\"}}, \"yaxis\": {\"anchor\": \"x\", \"domain\": [0.0, 1.0], \"title\": {\"text\": \"preco\"}}},\n",
       "                        {\"responsive\": true}\n",
       "                    ).then(function(){\n",
       "                            \n",
       "var gd = document.getElementById('2e2827f2-9236-44d7-8ee1-d8791d1f0d63');\n",
       "var x = new MutationObserver(function (mutations, observer) {{\n",
       "        var display = window.getComputedStyle(gd).display;\n",
       "        if (!display || display === 'none') {{\n",
       "            console.log([gd, 'removed!']);\n",
       "            Plotly.purge(gd);\n",
       "            observer.disconnect();\n",
       "        }}\n",
       "}});\n",
       "\n",
       "// Listen for the removal of the full notebook cells\n",
       "var notebookContainer = gd.closest('#notebook-container');\n",
       "if (notebookContainer) {{\n",
       "    x.observe(notebookContainer, {childList: true});\n",
       "}}\n",
       "\n",
       "// Listen for the clearing of the current output cell\n",
       "var outputEl = gd.closest('.output');\n",
       "if (outputEl) {{\n",
       "    x.observe(outputEl, {childList: true});\n",
       "}}\n",
       "\n",
       "                        })\n",
       "                };\n",
       "                });\n",
       "            </script>\n",
       "        </div>"
      ]
     },
     "metadata": {},
     "output_type": "display_data"
    },
    {
     "data": {
      "application/vnd.plotly.v1+json": {
       "config": {
        "plotlyServerURL": "https://plot.ly"
       },
       "data": [],
       "layout": {
        "height": 600,
        "legend": {
         "tracegroupgap": 0
        },
        "margin": {
         "t": 60
        },
        "template": {
         "data": {
          "bar": [
           {
            "error_x": {
             "color": "#2a3f5f"
            },
            "error_y": {
             "color": "#2a3f5f"
            },
            "marker": {
             "line": {
              "color": "#E5ECF6",
              "width": 0.5
             }
            },
            "type": "bar"
           }
          ],
          "barpolar": [
           {
            "marker": {
             "line": {
              "color": "#E5ECF6",
              "width": 0.5
             }
            },
            "type": "barpolar"
           }
          ],
          "carpet": [
           {
            "aaxis": {
             "endlinecolor": "#2a3f5f",
             "gridcolor": "white",
             "linecolor": "white",
             "minorgridcolor": "white",
             "startlinecolor": "#2a3f5f"
            },
            "baxis": {
             "endlinecolor": "#2a3f5f",
             "gridcolor": "white",
             "linecolor": "white",
             "minorgridcolor": "white",
             "startlinecolor": "#2a3f5f"
            },
            "type": "carpet"
           }
          ],
          "choropleth": [
           {
            "colorbar": {
             "outlinewidth": 0,
             "ticks": ""
            },
            "type": "choropleth"
           }
          ],
          "contour": [
           {
            "colorbar": {
             "outlinewidth": 0,
             "ticks": ""
            },
            "colorscale": [
             [
              0,
              "#0d0887"
             ],
             [
              0.1111111111111111,
              "#46039f"
             ],
             [
              0.2222222222222222,
              "#7201a8"
             ],
             [
              0.3333333333333333,
              "#9c179e"
             ],
             [
              0.4444444444444444,
              "#bd3786"
             ],
             [
              0.5555555555555556,
              "#d8576b"
             ],
             [
              0.6666666666666666,
              "#ed7953"
             ],
             [
              0.7777777777777778,
              "#fb9f3a"
             ],
             [
              0.8888888888888888,
              "#fdca26"
             ],
             [
              1,
              "#f0f921"
             ]
            ],
            "type": "contour"
           }
          ],
          "contourcarpet": [
           {
            "colorbar": {
             "outlinewidth": 0,
             "ticks": ""
            },
            "type": "contourcarpet"
           }
          ],
          "heatmap": [
           {
            "colorbar": {
             "outlinewidth": 0,
             "ticks": ""
            },
            "colorscale": [
             [
              0,
              "#0d0887"
             ],
             [
              0.1111111111111111,
              "#46039f"
             ],
             [
              0.2222222222222222,
              "#7201a8"
             ],
             [
              0.3333333333333333,
              "#9c179e"
             ],
             [
              0.4444444444444444,
              "#bd3786"
             ],
             [
              0.5555555555555556,
              "#d8576b"
             ],
             [
              0.6666666666666666,
              "#ed7953"
             ],
             [
              0.7777777777777778,
              "#fb9f3a"
             ],
             [
              0.8888888888888888,
              "#fdca26"
             ],
             [
              1,
              "#f0f921"
             ]
            ],
            "type": "heatmap"
           }
          ],
          "heatmapgl": [
           {
            "colorbar": {
             "outlinewidth": 0,
             "ticks": ""
            },
            "colorscale": [
             [
              0,
              "#0d0887"
             ],
             [
              0.1111111111111111,
              "#46039f"
             ],
             [
              0.2222222222222222,
              "#7201a8"
             ],
             [
              0.3333333333333333,
              "#9c179e"
             ],
             [
              0.4444444444444444,
              "#bd3786"
             ],
             [
              0.5555555555555556,
              "#d8576b"
             ],
             [
              0.6666666666666666,
              "#ed7953"
             ],
             [
              0.7777777777777778,
              "#fb9f3a"
             ],
             [
              0.8888888888888888,
              "#fdca26"
             ],
             [
              1,
              "#f0f921"
             ]
            ],
            "type": "heatmapgl"
           }
          ],
          "histogram": [
           {
            "marker": {
             "colorbar": {
              "outlinewidth": 0,
              "ticks": ""
             }
            },
            "type": "histogram"
           }
          ],
          "histogram2d": [
           {
            "colorbar": {
             "outlinewidth": 0,
             "ticks": ""
            },
            "colorscale": [
             [
              0,
              "#0d0887"
             ],
             [
              0.1111111111111111,
              "#46039f"
             ],
             [
              0.2222222222222222,
              "#7201a8"
             ],
             [
              0.3333333333333333,
              "#9c179e"
             ],
             [
              0.4444444444444444,
              "#bd3786"
             ],
             [
              0.5555555555555556,
              "#d8576b"
             ],
             [
              0.6666666666666666,
              "#ed7953"
             ],
             [
              0.7777777777777778,
              "#fb9f3a"
             ],
             [
              0.8888888888888888,
              "#fdca26"
             ],
             [
              1,
              "#f0f921"
             ]
            ],
            "type": "histogram2d"
           }
          ],
          "histogram2dcontour": [
           {
            "colorbar": {
             "outlinewidth": 0,
             "ticks": ""
            },
            "colorscale": [
             [
              0,
              "#0d0887"
             ],
             [
              0.1111111111111111,
              "#46039f"
             ],
             [
              0.2222222222222222,
              "#7201a8"
             ],
             [
              0.3333333333333333,
              "#9c179e"
             ],
             [
              0.4444444444444444,
              "#bd3786"
             ],
             [
              0.5555555555555556,
              "#d8576b"
             ],
             [
              0.6666666666666666,
              "#ed7953"
             ],
             [
              0.7777777777777778,
              "#fb9f3a"
             ],
             [
              0.8888888888888888,
              "#fdca26"
             ],
             [
              1,
              "#f0f921"
             ]
            ],
            "type": "histogram2dcontour"
           }
          ],
          "mesh3d": [
           {
            "colorbar": {
             "outlinewidth": 0,
             "ticks": ""
            },
            "type": "mesh3d"
           }
          ],
          "parcoords": [
           {
            "line": {
             "colorbar": {
              "outlinewidth": 0,
              "ticks": ""
             }
            },
            "type": "parcoords"
           }
          ],
          "scatter": [
           {
            "marker": {
             "colorbar": {
              "outlinewidth": 0,
              "ticks": ""
             }
            },
            "type": "scatter"
           }
          ],
          "scatter3d": [
           {
            "line": {
             "colorbar": {
              "outlinewidth": 0,
              "ticks": ""
             }
            },
            "marker": {
             "colorbar": {
              "outlinewidth": 0,
              "ticks": ""
             }
            },
            "type": "scatter3d"
           }
          ],
          "scattercarpet": [
           {
            "marker": {
             "colorbar": {
              "outlinewidth": 0,
              "ticks": ""
             }
            },
            "type": "scattercarpet"
           }
          ],
          "scattergeo": [
           {
            "marker": {
             "colorbar": {
              "outlinewidth": 0,
              "ticks": ""
             }
            },
            "type": "scattergeo"
           }
          ],
          "scattergl": [
           {
            "marker": {
             "colorbar": {
              "outlinewidth": 0,
              "ticks": ""
             }
            },
            "type": "scattergl"
           }
          ],
          "scattermapbox": [
           {
            "marker": {
             "colorbar": {
              "outlinewidth": 0,
              "ticks": ""
             }
            },
            "type": "scattermapbox"
           }
          ],
          "scatterpolar": [
           {
            "marker": {
             "colorbar": {
              "outlinewidth": 0,
              "ticks": ""
             }
            },
            "type": "scatterpolar"
           }
          ],
          "scatterpolargl": [
           {
            "marker": {
             "colorbar": {
              "outlinewidth": 0,
              "ticks": ""
             }
            },
            "type": "scatterpolargl"
           }
          ],
          "scatterternary": [
           {
            "marker": {
             "colorbar": {
              "outlinewidth": 0,
              "ticks": ""
             }
            },
            "type": "scatterternary"
           }
          ],
          "surface": [
           {
            "colorbar": {
             "outlinewidth": 0,
             "ticks": ""
            },
            "colorscale": [
             [
              0,
              "#0d0887"
             ],
             [
              0.1111111111111111,
              "#46039f"
             ],
             [
              0.2222222222222222,
              "#7201a8"
             ],
             [
              0.3333333333333333,
              "#9c179e"
             ],
             [
              0.4444444444444444,
              "#bd3786"
             ],
             [
              0.5555555555555556,
              "#d8576b"
             ],
             [
              0.6666666666666666,
              "#ed7953"
             ],
             [
              0.7777777777777778,
              "#fb9f3a"
             ],
             [
              0.8888888888888888,
              "#fdca26"
             ],
             [
              1,
              "#f0f921"
             ]
            ],
            "type": "surface"
           }
          ],
          "table": [
           {
            "cells": {
             "fill": {
              "color": "#EBF0F8"
             },
             "line": {
              "color": "white"
             }
            },
            "header": {
             "fill": {
              "color": "#C8D4E3"
             },
             "line": {
              "color": "white"
             }
            },
            "type": "table"
           }
          ]
         },
         "layout": {
          "annotationdefaults": {
           "arrowcolor": "#2a3f5f",
           "arrowhead": 0,
           "arrowwidth": 1
          },
          "colorscale": {
           "diverging": [
            [
             0,
             "#8e0152"
            ],
            [
             0.1,
             "#c51b7d"
            ],
            [
             0.2,
             "#de77ae"
            ],
            [
             0.3,
             "#f1b6da"
            ],
            [
             0.4,
             "#fde0ef"
            ],
            [
             0.5,
             "#f7f7f7"
            ],
            [
             0.6,
             "#e6f5d0"
            ],
            [
             0.7,
             "#b8e186"
            ],
            [
             0.8,
             "#7fbc41"
            ],
            [
             0.9,
             "#4d9221"
            ],
            [
             1,
             "#276419"
            ]
           ],
           "sequential": [
            [
             0,
             "#0d0887"
            ],
            [
             0.1111111111111111,
             "#46039f"
            ],
            [
             0.2222222222222222,
             "#7201a8"
            ],
            [
             0.3333333333333333,
             "#9c179e"
            ],
            [
             0.4444444444444444,
             "#bd3786"
            ],
            [
             0.5555555555555556,
             "#d8576b"
            ],
            [
             0.6666666666666666,
             "#ed7953"
            ],
            [
             0.7777777777777778,
             "#fb9f3a"
            ],
            [
             0.8888888888888888,
             "#fdca26"
            ],
            [
             1,
             "#f0f921"
            ]
           ],
           "sequentialminus": [
            [
             0,
             "#0d0887"
            ],
            [
             0.1111111111111111,
             "#46039f"
            ],
            [
             0.2222222222222222,
             "#7201a8"
            ],
            [
             0.3333333333333333,
             "#9c179e"
            ],
            [
             0.4444444444444444,
             "#bd3786"
            ],
            [
             0.5555555555555556,
             "#d8576b"
            ],
            [
             0.6666666666666666,
             "#ed7953"
            ],
            [
             0.7777777777777778,
             "#fb9f3a"
            ],
            [
             0.8888888888888888,
             "#fdca26"
            ],
            [
             1,
             "#f0f921"
            ]
           ]
          },
          "colorway": [
           "#636efa",
           "#EF553B",
           "#00cc96",
           "#ab63fa",
           "#FFA15A",
           "#19d3f3",
           "#FF6692",
           "#B6E880",
           "#FF97FF",
           "#FECB52"
          ],
          "font": {
           "color": "#2a3f5f"
          },
          "geo": {
           "bgcolor": "white",
           "lakecolor": "white",
           "landcolor": "#E5ECF6",
           "showlakes": true,
           "showland": true,
           "subunitcolor": "white"
          },
          "hoverlabel": {
           "align": "left"
          },
          "hovermode": "closest",
          "mapbox": {
           "style": "light"
          },
          "paper_bgcolor": "white",
          "plot_bgcolor": "#E5ECF6",
          "polar": {
           "angularaxis": {
            "gridcolor": "white",
            "linecolor": "white",
            "ticks": ""
           },
           "bgcolor": "#E5ECF6",
           "radialaxis": {
            "gridcolor": "white",
            "linecolor": "white",
            "ticks": ""
           }
          },
          "scene": {
           "xaxis": {
            "backgroundcolor": "#E5ECF6",
            "gridcolor": "white",
            "gridwidth": 2,
            "linecolor": "white",
            "showbackground": true,
            "ticks": "",
            "zerolinecolor": "white"
           },
           "yaxis": {
            "backgroundcolor": "#E5ECF6",
            "gridcolor": "white",
            "gridwidth": 2,
            "linecolor": "white",
            "showbackground": true,
            "ticks": "",
            "zerolinecolor": "white"
           },
           "zaxis": {
            "backgroundcolor": "#E5ECF6",
            "gridcolor": "white",
            "gridwidth": 2,
            "linecolor": "white",
            "showbackground": true,
            "ticks": "",
            "zerolinecolor": "white"
           }
          },
          "shapedefaults": {
           "line": {
            "color": "#2a3f5f"
           }
          },
          "ternary": {
           "aaxis": {
            "gridcolor": "white",
            "linecolor": "white",
            "ticks": ""
           },
           "baxis": {
            "gridcolor": "white",
            "linecolor": "white",
            "ticks": ""
           },
           "bgcolor": "#E5ECF6",
           "caxis": {
            "gridcolor": "white",
            "linecolor": "white",
            "ticks": ""
           }
          },
          "title": {
           "x": 0.05
          },
          "xaxis": {
           "automargin": true,
           "gridcolor": "white",
           "linecolor": "white",
           "ticks": "",
           "zerolinecolor": "white",
           "zerolinewidth": 2
          },
          "yaxis": {
           "automargin": true,
           "gridcolor": "white",
           "linecolor": "white",
           "ticks": "",
           "zerolinecolor": "white",
           "zerolinewidth": 2
          }
         }
        },
        "xaxis": {
         "anchor": "y",
         "domain": [
          0,
          0.98
         ],
         "title": {
          "text": "DataPesquisa"
         }
        },
        "yaxis": {
         "anchor": "x",
         "domain": [
          0,
          1
         ],
         "title": {
          "text": "preco"
         }
        }
       }
      },
      "text/html": [
       "<div>\n",
       "        \n",
       "        \n",
       "            <div id=\"d39cad38-dd01-498d-8b8f-44334ed4bf1e\" class=\"plotly-graph-div\" style=\"height:600px; width:100%;\"></div>\n",
       "            <script type=\"text/javascript\">\n",
       "                require([\"plotly\"], function(Plotly) {\n",
       "                    window.PLOTLYENV=window.PLOTLYENV || {};\n",
       "                    \n",
       "                if (document.getElementById(\"d39cad38-dd01-498d-8b8f-44334ed4bf1e\")) {\n",
       "                    Plotly.newPlot(\n",
       "                        'd39cad38-dd01-498d-8b8f-44334ed4bf1e',\n",
       "                        [],\n",
       "                        {\"height\": 600, \"legend\": {\"tracegroupgap\": 0}, \"margin\": {\"t\": 60}, \"template\": {\"data\": {\"bar\": [{\"error_x\": {\"color\": \"#2a3f5f\"}, \"error_y\": {\"color\": \"#2a3f5f\"}, \"marker\": {\"line\": {\"color\": \"#E5ECF6\", \"width\": 0.5}}, \"type\": \"bar\"}], \"barpolar\": [{\"marker\": {\"line\": {\"color\": \"#E5ECF6\", \"width\": 0.5}}, \"type\": \"barpolar\"}], \"carpet\": [{\"aaxis\": {\"endlinecolor\": \"#2a3f5f\", \"gridcolor\": \"white\", \"linecolor\": \"white\", \"minorgridcolor\": \"white\", \"startlinecolor\": \"#2a3f5f\"}, \"baxis\": {\"endlinecolor\": \"#2a3f5f\", \"gridcolor\": \"white\", \"linecolor\": \"white\", \"minorgridcolor\": \"white\", \"startlinecolor\": \"#2a3f5f\"}, \"type\": \"carpet\"}], \"choropleth\": [{\"colorbar\": {\"outlinewidth\": 0, \"ticks\": \"\"}, \"type\": \"choropleth\"}], \"contour\": [{\"colorbar\": {\"outlinewidth\": 0, \"ticks\": \"\"}, \"colorscale\": [[0.0, \"#0d0887\"], [0.1111111111111111, \"#46039f\"], [0.2222222222222222, \"#7201a8\"], [0.3333333333333333, \"#9c179e\"], [0.4444444444444444, \"#bd3786\"], [0.5555555555555556, \"#d8576b\"], [0.6666666666666666, \"#ed7953\"], [0.7777777777777778, \"#fb9f3a\"], [0.8888888888888888, \"#fdca26\"], [1.0, \"#f0f921\"]], \"type\": \"contour\"}], \"contourcarpet\": [{\"colorbar\": {\"outlinewidth\": 0, \"ticks\": \"\"}, \"type\": \"contourcarpet\"}], \"heatmap\": [{\"colorbar\": {\"outlinewidth\": 0, \"ticks\": \"\"}, \"colorscale\": [[0.0, \"#0d0887\"], [0.1111111111111111, \"#46039f\"], [0.2222222222222222, \"#7201a8\"], [0.3333333333333333, \"#9c179e\"], [0.4444444444444444, \"#bd3786\"], [0.5555555555555556, \"#d8576b\"], [0.6666666666666666, \"#ed7953\"], [0.7777777777777778, \"#fb9f3a\"], [0.8888888888888888, \"#fdca26\"], [1.0, \"#f0f921\"]], \"type\": \"heatmap\"}], \"heatmapgl\": [{\"colorbar\": {\"outlinewidth\": 0, \"ticks\": \"\"}, \"colorscale\": [[0.0, \"#0d0887\"], [0.1111111111111111, \"#46039f\"], [0.2222222222222222, \"#7201a8\"], [0.3333333333333333, \"#9c179e\"], [0.4444444444444444, \"#bd3786\"], [0.5555555555555556, \"#d8576b\"], [0.6666666666666666, \"#ed7953\"], [0.7777777777777778, \"#fb9f3a\"], [0.8888888888888888, \"#fdca26\"], [1.0, \"#f0f921\"]], \"type\": \"heatmapgl\"}], \"histogram\": [{\"marker\": {\"colorbar\": {\"outlinewidth\": 0, \"ticks\": \"\"}}, \"type\": \"histogram\"}], \"histogram2d\": [{\"colorbar\": {\"outlinewidth\": 0, \"ticks\": \"\"}, \"colorscale\": [[0.0, \"#0d0887\"], [0.1111111111111111, \"#46039f\"], [0.2222222222222222, \"#7201a8\"], [0.3333333333333333, \"#9c179e\"], [0.4444444444444444, \"#bd3786\"], [0.5555555555555556, \"#d8576b\"], [0.6666666666666666, \"#ed7953\"], [0.7777777777777778, \"#fb9f3a\"], [0.8888888888888888, \"#fdca26\"], [1.0, \"#f0f921\"]], \"type\": \"histogram2d\"}], \"histogram2dcontour\": [{\"colorbar\": {\"outlinewidth\": 0, \"ticks\": \"\"}, \"colorscale\": [[0.0, \"#0d0887\"], [0.1111111111111111, \"#46039f\"], [0.2222222222222222, \"#7201a8\"], [0.3333333333333333, \"#9c179e\"], [0.4444444444444444, \"#bd3786\"], [0.5555555555555556, \"#d8576b\"], [0.6666666666666666, \"#ed7953\"], [0.7777777777777778, \"#fb9f3a\"], [0.8888888888888888, \"#fdca26\"], [1.0, \"#f0f921\"]], \"type\": \"histogram2dcontour\"}], \"mesh3d\": [{\"colorbar\": {\"outlinewidth\": 0, \"ticks\": \"\"}, \"type\": \"mesh3d\"}], \"parcoords\": [{\"line\": {\"colorbar\": {\"outlinewidth\": 0, \"ticks\": \"\"}}, \"type\": \"parcoords\"}], \"scatter\": [{\"marker\": {\"colorbar\": {\"outlinewidth\": 0, \"ticks\": \"\"}}, \"type\": \"scatter\"}], \"scatter3d\": [{\"line\": {\"colorbar\": {\"outlinewidth\": 0, \"ticks\": \"\"}}, \"marker\": {\"colorbar\": {\"outlinewidth\": 0, \"ticks\": \"\"}}, \"type\": \"scatter3d\"}], \"scattercarpet\": [{\"marker\": {\"colorbar\": {\"outlinewidth\": 0, \"ticks\": \"\"}}, \"type\": \"scattercarpet\"}], \"scattergeo\": [{\"marker\": {\"colorbar\": {\"outlinewidth\": 0, \"ticks\": \"\"}}, \"type\": \"scattergeo\"}], \"scattergl\": [{\"marker\": {\"colorbar\": {\"outlinewidth\": 0, \"ticks\": \"\"}}, \"type\": \"scattergl\"}], \"scattermapbox\": [{\"marker\": {\"colorbar\": {\"outlinewidth\": 0, \"ticks\": \"\"}}, \"type\": \"scattermapbox\"}], \"scatterpolar\": [{\"marker\": {\"colorbar\": {\"outlinewidth\": 0, \"ticks\": \"\"}}, \"type\": \"scatterpolar\"}], \"scatterpolargl\": [{\"marker\": {\"colorbar\": {\"outlinewidth\": 0, \"ticks\": \"\"}}, \"type\": \"scatterpolargl\"}], \"scatterternary\": [{\"marker\": {\"colorbar\": {\"outlinewidth\": 0, \"ticks\": \"\"}}, \"type\": \"scatterternary\"}], \"surface\": [{\"colorbar\": {\"outlinewidth\": 0, \"ticks\": \"\"}, \"colorscale\": [[0.0, \"#0d0887\"], [0.1111111111111111, \"#46039f\"], [0.2222222222222222, \"#7201a8\"], [0.3333333333333333, \"#9c179e\"], [0.4444444444444444, \"#bd3786\"], [0.5555555555555556, \"#d8576b\"], [0.6666666666666666, \"#ed7953\"], [0.7777777777777778, \"#fb9f3a\"], [0.8888888888888888, \"#fdca26\"], [1.0, \"#f0f921\"]], \"type\": \"surface\"}], \"table\": [{\"cells\": {\"fill\": {\"color\": \"#EBF0F8\"}, \"line\": {\"color\": \"white\"}}, \"header\": {\"fill\": {\"color\": \"#C8D4E3\"}, \"line\": {\"color\": \"white\"}}, \"type\": \"table\"}]}, \"layout\": {\"annotationdefaults\": {\"arrowcolor\": \"#2a3f5f\", \"arrowhead\": 0, \"arrowwidth\": 1}, \"colorscale\": {\"diverging\": [[0, \"#8e0152\"], [0.1, \"#c51b7d\"], [0.2, \"#de77ae\"], [0.3, \"#f1b6da\"], [0.4, \"#fde0ef\"], [0.5, \"#f7f7f7\"], [0.6, \"#e6f5d0\"], [0.7, \"#b8e186\"], [0.8, \"#7fbc41\"], [0.9, \"#4d9221\"], [1, \"#276419\"]], \"sequential\": [[0.0, \"#0d0887\"], [0.1111111111111111, \"#46039f\"], [0.2222222222222222, \"#7201a8\"], [0.3333333333333333, \"#9c179e\"], [0.4444444444444444, \"#bd3786\"], [0.5555555555555556, \"#d8576b\"], [0.6666666666666666, \"#ed7953\"], [0.7777777777777778, \"#fb9f3a\"], [0.8888888888888888, \"#fdca26\"], [1.0, \"#f0f921\"]], \"sequentialminus\": [[0.0, \"#0d0887\"], [0.1111111111111111, \"#46039f\"], [0.2222222222222222, \"#7201a8\"], [0.3333333333333333, \"#9c179e\"], [0.4444444444444444, \"#bd3786\"], [0.5555555555555556, \"#d8576b\"], [0.6666666666666666, \"#ed7953\"], [0.7777777777777778, \"#fb9f3a\"], [0.8888888888888888, \"#fdca26\"], [1.0, \"#f0f921\"]]}, \"colorway\": [\"#636efa\", \"#EF553B\", \"#00cc96\", \"#ab63fa\", \"#FFA15A\", \"#19d3f3\", \"#FF6692\", \"#B6E880\", \"#FF97FF\", \"#FECB52\"], \"font\": {\"color\": \"#2a3f5f\"}, \"geo\": {\"bgcolor\": \"white\", \"lakecolor\": \"white\", \"landcolor\": \"#E5ECF6\", \"showlakes\": true, \"showland\": true, \"subunitcolor\": \"white\"}, \"hoverlabel\": {\"align\": \"left\"}, \"hovermode\": \"closest\", \"mapbox\": {\"style\": \"light\"}, \"paper_bgcolor\": \"white\", \"plot_bgcolor\": \"#E5ECF6\", \"polar\": {\"angularaxis\": {\"gridcolor\": \"white\", \"linecolor\": \"white\", \"ticks\": \"\"}, \"bgcolor\": \"#E5ECF6\", \"radialaxis\": {\"gridcolor\": \"white\", \"linecolor\": \"white\", \"ticks\": \"\"}}, \"scene\": {\"xaxis\": {\"backgroundcolor\": \"#E5ECF6\", \"gridcolor\": \"white\", \"gridwidth\": 2, \"linecolor\": \"white\", \"showbackground\": true, \"ticks\": \"\", \"zerolinecolor\": \"white\"}, \"yaxis\": {\"backgroundcolor\": \"#E5ECF6\", \"gridcolor\": \"white\", \"gridwidth\": 2, \"linecolor\": \"white\", \"showbackground\": true, \"ticks\": \"\", \"zerolinecolor\": \"white\"}, \"zaxis\": {\"backgroundcolor\": \"#E5ECF6\", \"gridcolor\": \"white\", \"gridwidth\": 2, \"linecolor\": \"white\", \"showbackground\": true, \"ticks\": \"\", \"zerolinecolor\": \"white\"}}, \"shapedefaults\": {\"line\": {\"color\": \"#2a3f5f\"}}, \"ternary\": {\"aaxis\": {\"gridcolor\": \"white\", \"linecolor\": \"white\", \"ticks\": \"\"}, \"baxis\": {\"gridcolor\": \"white\", \"linecolor\": \"white\", \"ticks\": \"\"}, \"bgcolor\": \"#E5ECF6\", \"caxis\": {\"gridcolor\": \"white\", \"linecolor\": \"white\", \"ticks\": \"\"}}, \"title\": {\"x\": 0.05}, \"xaxis\": {\"automargin\": true, \"gridcolor\": \"white\", \"linecolor\": \"white\", \"ticks\": \"\", \"zerolinecolor\": \"white\", \"zerolinewidth\": 2}, \"yaxis\": {\"automargin\": true, \"gridcolor\": \"white\", \"linecolor\": \"white\", \"ticks\": \"\", \"zerolinecolor\": \"white\", \"zerolinewidth\": 2}}}, \"xaxis\": {\"anchor\": \"y\", \"domain\": [0.0, 0.98], \"title\": {\"text\": \"DataPesquisa\"}}, \"yaxis\": {\"anchor\": \"x\", \"domain\": [0.0, 1.0], \"title\": {\"text\": \"preco\"}}},\n",
       "                        {\"responsive\": true}\n",
       "                    ).then(function(){\n",
       "                            \n",
       "var gd = document.getElementById('d39cad38-dd01-498d-8b8f-44334ed4bf1e');\n",
       "var x = new MutationObserver(function (mutations, observer) {{\n",
       "        var display = window.getComputedStyle(gd).display;\n",
       "        if (!display || display === 'none') {{\n",
       "            console.log([gd, 'removed!']);\n",
       "            Plotly.purge(gd);\n",
       "            observer.disconnect();\n",
       "        }}\n",
       "}});\n",
       "\n",
       "// Listen for the removal of the full notebook cells\n",
       "var notebookContainer = gd.closest('#notebook-container');\n",
       "if (notebookContainer) {{\n",
       "    x.observe(notebookContainer, {childList: true});\n",
       "}}\n",
       "\n",
       "// Listen for the clearing of the current output cell\n",
       "var outputEl = gd.closest('.output');\n",
       "if (outputEl) {{\n",
       "    x.observe(outputEl, {childList: true});\n",
       "}}\n",
       "\n",
       "                        })\n",
       "                };\n",
       "                });\n",
       "            </script>\n",
       "        </div>"
      ]
     },
     "metadata": {},
     "output_type": "display_data"
    },
    {
     "data": {
      "application/vnd.plotly.v1+json": {
       "config": {
        "plotlyServerURL": "https://plot.ly"
       },
       "data": [],
       "layout": {
        "height": 600,
        "legend": {
         "tracegroupgap": 0
        },
        "margin": {
         "t": 60
        },
        "template": {
         "data": {
          "bar": [
           {
            "error_x": {
             "color": "#2a3f5f"
            },
            "error_y": {
             "color": "#2a3f5f"
            },
            "marker": {
             "line": {
              "color": "#E5ECF6",
              "width": 0.5
             }
            },
            "type": "bar"
           }
          ],
          "barpolar": [
           {
            "marker": {
             "line": {
              "color": "#E5ECF6",
              "width": 0.5
             }
            },
            "type": "barpolar"
           }
          ],
          "carpet": [
           {
            "aaxis": {
             "endlinecolor": "#2a3f5f",
             "gridcolor": "white",
             "linecolor": "white",
             "minorgridcolor": "white",
             "startlinecolor": "#2a3f5f"
            },
            "baxis": {
             "endlinecolor": "#2a3f5f",
             "gridcolor": "white",
             "linecolor": "white",
             "minorgridcolor": "white",
             "startlinecolor": "#2a3f5f"
            },
            "type": "carpet"
           }
          ],
          "choropleth": [
           {
            "colorbar": {
             "outlinewidth": 0,
             "ticks": ""
            },
            "type": "choropleth"
           }
          ],
          "contour": [
           {
            "colorbar": {
             "outlinewidth": 0,
             "ticks": ""
            },
            "colorscale": [
             [
              0,
              "#0d0887"
             ],
             [
              0.1111111111111111,
              "#46039f"
             ],
             [
              0.2222222222222222,
              "#7201a8"
             ],
             [
              0.3333333333333333,
              "#9c179e"
             ],
             [
              0.4444444444444444,
              "#bd3786"
             ],
             [
              0.5555555555555556,
              "#d8576b"
             ],
             [
              0.6666666666666666,
              "#ed7953"
             ],
             [
              0.7777777777777778,
              "#fb9f3a"
             ],
             [
              0.8888888888888888,
              "#fdca26"
             ],
             [
              1,
              "#f0f921"
             ]
            ],
            "type": "contour"
           }
          ],
          "contourcarpet": [
           {
            "colorbar": {
             "outlinewidth": 0,
             "ticks": ""
            },
            "type": "contourcarpet"
           }
          ],
          "heatmap": [
           {
            "colorbar": {
             "outlinewidth": 0,
             "ticks": ""
            },
            "colorscale": [
             [
              0,
              "#0d0887"
             ],
             [
              0.1111111111111111,
              "#46039f"
             ],
             [
              0.2222222222222222,
              "#7201a8"
             ],
             [
              0.3333333333333333,
              "#9c179e"
             ],
             [
              0.4444444444444444,
              "#bd3786"
             ],
             [
              0.5555555555555556,
              "#d8576b"
             ],
             [
              0.6666666666666666,
              "#ed7953"
             ],
             [
              0.7777777777777778,
              "#fb9f3a"
             ],
             [
              0.8888888888888888,
              "#fdca26"
             ],
             [
              1,
              "#f0f921"
             ]
            ],
            "type": "heatmap"
           }
          ],
          "heatmapgl": [
           {
            "colorbar": {
             "outlinewidth": 0,
             "ticks": ""
            },
            "colorscale": [
             [
              0,
              "#0d0887"
             ],
             [
              0.1111111111111111,
              "#46039f"
             ],
             [
              0.2222222222222222,
              "#7201a8"
             ],
             [
              0.3333333333333333,
              "#9c179e"
             ],
             [
              0.4444444444444444,
              "#bd3786"
             ],
             [
              0.5555555555555556,
              "#d8576b"
             ],
             [
              0.6666666666666666,
              "#ed7953"
             ],
             [
              0.7777777777777778,
              "#fb9f3a"
             ],
             [
              0.8888888888888888,
              "#fdca26"
             ],
             [
              1,
              "#f0f921"
             ]
            ],
            "type": "heatmapgl"
           }
          ],
          "histogram": [
           {
            "marker": {
             "colorbar": {
              "outlinewidth": 0,
              "ticks": ""
             }
            },
            "type": "histogram"
           }
          ],
          "histogram2d": [
           {
            "colorbar": {
             "outlinewidth": 0,
             "ticks": ""
            },
            "colorscale": [
             [
              0,
              "#0d0887"
             ],
             [
              0.1111111111111111,
              "#46039f"
             ],
             [
              0.2222222222222222,
              "#7201a8"
             ],
             [
              0.3333333333333333,
              "#9c179e"
             ],
             [
              0.4444444444444444,
              "#bd3786"
             ],
             [
              0.5555555555555556,
              "#d8576b"
             ],
             [
              0.6666666666666666,
              "#ed7953"
             ],
             [
              0.7777777777777778,
              "#fb9f3a"
             ],
             [
              0.8888888888888888,
              "#fdca26"
             ],
             [
              1,
              "#f0f921"
             ]
            ],
            "type": "histogram2d"
           }
          ],
          "histogram2dcontour": [
           {
            "colorbar": {
             "outlinewidth": 0,
             "ticks": ""
            },
            "colorscale": [
             [
              0,
              "#0d0887"
             ],
             [
              0.1111111111111111,
              "#46039f"
             ],
             [
              0.2222222222222222,
              "#7201a8"
             ],
             [
              0.3333333333333333,
              "#9c179e"
             ],
             [
              0.4444444444444444,
              "#bd3786"
             ],
             [
              0.5555555555555556,
              "#d8576b"
             ],
             [
              0.6666666666666666,
              "#ed7953"
             ],
             [
              0.7777777777777778,
              "#fb9f3a"
             ],
             [
              0.8888888888888888,
              "#fdca26"
             ],
             [
              1,
              "#f0f921"
             ]
            ],
            "type": "histogram2dcontour"
           }
          ],
          "mesh3d": [
           {
            "colorbar": {
             "outlinewidth": 0,
             "ticks": ""
            },
            "type": "mesh3d"
           }
          ],
          "parcoords": [
           {
            "line": {
             "colorbar": {
              "outlinewidth": 0,
              "ticks": ""
             }
            },
            "type": "parcoords"
           }
          ],
          "scatter": [
           {
            "marker": {
             "colorbar": {
              "outlinewidth": 0,
              "ticks": ""
             }
            },
            "type": "scatter"
           }
          ],
          "scatter3d": [
           {
            "line": {
             "colorbar": {
              "outlinewidth": 0,
              "ticks": ""
             }
            },
            "marker": {
             "colorbar": {
              "outlinewidth": 0,
              "ticks": ""
             }
            },
            "type": "scatter3d"
           }
          ],
          "scattercarpet": [
           {
            "marker": {
             "colorbar": {
              "outlinewidth": 0,
              "ticks": ""
             }
            },
            "type": "scattercarpet"
           }
          ],
          "scattergeo": [
           {
            "marker": {
             "colorbar": {
              "outlinewidth": 0,
              "ticks": ""
             }
            },
            "type": "scattergeo"
           }
          ],
          "scattergl": [
           {
            "marker": {
             "colorbar": {
              "outlinewidth": 0,
              "ticks": ""
             }
            },
            "type": "scattergl"
           }
          ],
          "scattermapbox": [
           {
            "marker": {
             "colorbar": {
              "outlinewidth": 0,
              "ticks": ""
             }
            },
            "type": "scattermapbox"
           }
          ],
          "scatterpolar": [
           {
            "marker": {
             "colorbar": {
              "outlinewidth": 0,
              "ticks": ""
             }
            },
            "type": "scatterpolar"
           }
          ],
          "scatterpolargl": [
           {
            "marker": {
             "colorbar": {
              "outlinewidth": 0,
              "ticks": ""
             }
            },
            "type": "scatterpolargl"
           }
          ],
          "scatterternary": [
           {
            "marker": {
             "colorbar": {
              "outlinewidth": 0,
              "ticks": ""
             }
            },
            "type": "scatterternary"
           }
          ],
          "surface": [
           {
            "colorbar": {
             "outlinewidth": 0,
             "ticks": ""
            },
            "colorscale": [
             [
              0,
              "#0d0887"
             ],
             [
              0.1111111111111111,
              "#46039f"
             ],
             [
              0.2222222222222222,
              "#7201a8"
             ],
             [
              0.3333333333333333,
              "#9c179e"
             ],
             [
              0.4444444444444444,
              "#bd3786"
             ],
             [
              0.5555555555555556,
              "#d8576b"
             ],
             [
              0.6666666666666666,
              "#ed7953"
             ],
             [
              0.7777777777777778,
              "#fb9f3a"
             ],
             [
              0.8888888888888888,
              "#fdca26"
             ],
             [
              1,
              "#f0f921"
             ]
            ],
            "type": "surface"
           }
          ],
          "table": [
           {
            "cells": {
             "fill": {
              "color": "#EBF0F8"
             },
             "line": {
              "color": "white"
             }
            },
            "header": {
             "fill": {
              "color": "#C8D4E3"
             },
             "line": {
              "color": "white"
             }
            },
            "type": "table"
           }
          ]
         },
         "layout": {
          "annotationdefaults": {
           "arrowcolor": "#2a3f5f",
           "arrowhead": 0,
           "arrowwidth": 1
          },
          "colorscale": {
           "diverging": [
            [
             0,
             "#8e0152"
            ],
            [
             0.1,
             "#c51b7d"
            ],
            [
             0.2,
             "#de77ae"
            ],
            [
             0.3,
             "#f1b6da"
            ],
            [
             0.4,
             "#fde0ef"
            ],
            [
             0.5,
             "#f7f7f7"
            ],
            [
             0.6,
             "#e6f5d0"
            ],
            [
             0.7,
             "#b8e186"
            ],
            [
             0.8,
             "#7fbc41"
            ],
            [
             0.9,
             "#4d9221"
            ],
            [
             1,
             "#276419"
            ]
           ],
           "sequential": [
            [
             0,
             "#0d0887"
            ],
            [
             0.1111111111111111,
             "#46039f"
            ],
            [
             0.2222222222222222,
             "#7201a8"
            ],
            [
             0.3333333333333333,
             "#9c179e"
            ],
            [
             0.4444444444444444,
             "#bd3786"
            ],
            [
             0.5555555555555556,
             "#d8576b"
            ],
            [
             0.6666666666666666,
             "#ed7953"
            ],
            [
             0.7777777777777778,
             "#fb9f3a"
            ],
            [
             0.8888888888888888,
             "#fdca26"
            ],
            [
             1,
             "#f0f921"
            ]
           ],
           "sequentialminus": [
            [
             0,
             "#0d0887"
            ],
            [
             0.1111111111111111,
             "#46039f"
            ],
            [
             0.2222222222222222,
             "#7201a8"
            ],
            [
             0.3333333333333333,
             "#9c179e"
            ],
            [
             0.4444444444444444,
             "#bd3786"
            ],
            [
             0.5555555555555556,
             "#d8576b"
            ],
            [
             0.6666666666666666,
             "#ed7953"
            ],
            [
             0.7777777777777778,
             "#fb9f3a"
            ],
            [
             0.8888888888888888,
             "#fdca26"
            ],
            [
             1,
             "#f0f921"
            ]
           ]
          },
          "colorway": [
           "#636efa",
           "#EF553B",
           "#00cc96",
           "#ab63fa",
           "#FFA15A",
           "#19d3f3",
           "#FF6692",
           "#B6E880",
           "#FF97FF",
           "#FECB52"
          ],
          "font": {
           "color": "#2a3f5f"
          },
          "geo": {
           "bgcolor": "white",
           "lakecolor": "white",
           "landcolor": "#E5ECF6",
           "showlakes": true,
           "showland": true,
           "subunitcolor": "white"
          },
          "hoverlabel": {
           "align": "left"
          },
          "hovermode": "closest",
          "mapbox": {
           "style": "light"
          },
          "paper_bgcolor": "white",
          "plot_bgcolor": "#E5ECF6",
          "polar": {
           "angularaxis": {
            "gridcolor": "white",
            "linecolor": "white",
            "ticks": ""
           },
           "bgcolor": "#E5ECF6",
           "radialaxis": {
            "gridcolor": "white",
            "linecolor": "white",
            "ticks": ""
           }
          },
          "scene": {
           "xaxis": {
            "backgroundcolor": "#E5ECF6",
            "gridcolor": "white",
            "gridwidth": 2,
            "linecolor": "white",
            "showbackground": true,
            "ticks": "",
            "zerolinecolor": "white"
           },
           "yaxis": {
            "backgroundcolor": "#E5ECF6",
            "gridcolor": "white",
            "gridwidth": 2,
            "linecolor": "white",
            "showbackground": true,
            "ticks": "",
            "zerolinecolor": "white"
           },
           "zaxis": {
            "backgroundcolor": "#E5ECF6",
            "gridcolor": "white",
            "gridwidth": 2,
            "linecolor": "white",
            "showbackground": true,
            "ticks": "",
            "zerolinecolor": "white"
           }
          },
          "shapedefaults": {
           "line": {
            "color": "#2a3f5f"
           }
          },
          "ternary": {
           "aaxis": {
            "gridcolor": "white",
            "linecolor": "white",
            "ticks": ""
           },
           "baxis": {
            "gridcolor": "white",
            "linecolor": "white",
            "ticks": ""
           },
           "bgcolor": "#E5ECF6",
           "caxis": {
            "gridcolor": "white",
            "linecolor": "white",
            "ticks": ""
           }
          },
          "title": {
           "x": 0.05
          },
          "xaxis": {
           "automargin": true,
           "gridcolor": "white",
           "linecolor": "white",
           "ticks": "",
           "zerolinecolor": "white",
           "zerolinewidth": 2
          },
          "yaxis": {
           "automargin": true,
           "gridcolor": "white",
           "linecolor": "white",
           "ticks": "",
           "zerolinecolor": "white",
           "zerolinewidth": 2
          }
         }
        },
        "xaxis": {
         "anchor": "y",
         "domain": [
          0,
          0.98
         ],
         "title": {
          "text": "DataPesquisa"
         }
        },
        "yaxis": {
         "anchor": "x",
         "domain": [
          0,
          1
         ],
         "title": {
          "text": "preco"
         }
        }
       }
      },
      "text/html": [
       "<div>\n",
       "        \n",
       "        \n",
       "            <div id=\"34234fac-c12c-4f20-bced-1aeebc2593f9\" class=\"plotly-graph-div\" style=\"height:600px; width:100%;\"></div>\n",
       "            <script type=\"text/javascript\">\n",
       "                require([\"plotly\"], function(Plotly) {\n",
       "                    window.PLOTLYENV=window.PLOTLYENV || {};\n",
       "                    \n",
       "                if (document.getElementById(\"34234fac-c12c-4f20-bced-1aeebc2593f9\")) {\n",
       "                    Plotly.newPlot(\n",
       "                        '34234fac-c12c-4f20-bced-1aeebc2593f9',\n",
       "                        [],\n",
       "                        {\"height\": 600, \"legend\": {\"tracegroupgap\": 0}, \"margin\": {\"t\": 60}, \"template\": {\"data\": {\"bar\": [{\"error_x\": {\"color\": \"#2a3f5f\"}, \"error_y\": {\"color\": \"#2a3f5f\"}, \"marker\": {\"line\": {\"color\": \"#E5ECF6\", \"width\": 0.5}}, \"type\": \"bar\"}], \"barpolar\": [{\"marker\": {\"line\": {\"color\": \"#E5ECF6\", \"width\": 0.5}}, \"type\": \"barpolar\"}], \"carpet\": [{\"aaxis\": {\"endlinecolor\": \"#2a3f5f\", \"gridcolor\": \"white\", \"linecolor\": \"white\", \"minorgridcolor\": \"white\", \"startlinecolor\": \"#2a3f5f\"}, \"baxis\": {\"endlinecolor\": \"#2a3f5f\", \"gridcolor\": \"white\", \"linecolor\": \"white\", \"minorgridcolor\": \"white\", \"startlinecolor\": \"#2a3f5f\"}, \"type\": \"carpet\"}], \"choropleth\": [{\"colorbar\": {\"outlinewidth\": 0, \"ticks\": \"\"}, \"type\": \"choropleth\"}], \"contour\": [{\"colorbar\": {\"outlinewidth\": 0, \"ticks\": \"\"}, \"colorscale\": [[0.0, \"#0d0887\"], [0.1111111111111111, \"#46039f\"], [0.2222222222222222, \"#7201a8\"], [0.3333333333333333, \"#9c179e\"], [0.4444444444444444, \"#bd3786\"], [0.5555555555555556, \"#d8576b\"], [0.6666666666666666, \"#ed7953\"], [0.7777777777777778, \"#fb9f3a\"], [0.8888888888888888, \"#fdca26\"], [1.0, \"#f0f921\"]], \"type\": \"contour\"}], \"contourcarpet\": [{\"colorbar\": {\"outlinewidth\": 0, \"ticks\": \"\"}, \"type\": \"contourcarpet\"}], \"heatmap\": [{\"colorbar\": {\"outlinewidth\": 0, \"ticks\": \"\"}, \"colorscale\": [[0.0, \"#0d0887\"], [0.1111111111111111, \"#46039f\"], [0.2222222222222222, \"#7201a8\"], [0.3333333333333333, \"#9c179e\"], [0.4444444444444444, \"#bd3786\"], [0.5555555555555556, \"#d8576b\"], [0.6666666666666666, \"#ed7953\"], [0.7777777777777778, \"#fb9f3a\"], [0.8888888888888888, \"#fdca26\"], [1.0, \"#f0f921\"]], \"type\": \"heatmap\"}], \"heatmapgl\": [{\"colorbar\": {\"outlinewidth\": 0, \"ticks\": \"\"}, \"colorscale\": [[0.0, \"#0d0887\"], [0.1111111111111111, \"#46039f\"], [0.2222222222222222, \"#7201a8\"], [0.3333333333333333, \"#9c179e\"], [0.4444444444444444, \"#bd3786\"], [0.5555555555555556, \"#d8576b\"], [0.6666666666666666, \"#ed7953\"], [0.7777777777777778, \"#fb9f3a\"], [0.8888888888888888, \"#fdca26\"], [1.0, \"#f0f921\"]], \"type\": \"heatmapgl\"}], \"histogram\": [{\"marker\": {\"colorbar\": {\"outlinewidth\": 0, \"ticks\": \"\"}}, \"type\": \"histogram\"}], \"histogram2d\": [{\"colorbar\": {\"outlinewidth\": 0, \"ticks\": \"\"}, \"colorscale\": [[0.0, \"#0d0887\"], [0.1111111111111111, \"#46039f\"], [0.2222222222222222, \"#7201a8\"], [0.3333333333333333, \"#9c179e\"], [0.4444444444444444, \"#bd3786\"], [0.5555555555555556, \"#d8576b\"], [0.6666666666666666, \"#ed7953\"], [0.7777777777777778, \"#fb9f3a\"], [0.8888888888888888, \"#fdca26\"], [1.0, \"#f0f921\"]], \"type\": \"histogram2d\"}], \"histogram2dcontour\": [{\"colorbar\": {\"outlinewidth\": 0, \"ticks\": \"\"}, \"colorscale\": [[0.0, \"#0d0887\"], [0.1111111111111111, \"#46039f\"], [0.2222222222222222, \"#7201a8\"], [0.3333333333333333, \"#9c179e\"], [0.4444444444444444, \"#bd3786\"], [0.5555555555555556, \"#d8576b\"], [0.6666666666666666, \"#ed7953\"], [0.7777777777777778, \"#fb9f3a\"], [0.8888888888888888, \"#fdca26\"], [1.0, \"#f0f921\"]], \"type\": \"histogram2dcontour\"}], \"mesh3d\": [{\"colorbar\": {\"outlinewidth\": 0, \"ticks\": \"\"}, \"type\": \"mesh3d\"}], \"parcoords\": [{\"line\": {\"colorbar\": {\"outlinewidth\": 0, \"ticks\": \"\"}}, \"type\": \"parcoords\"}], \"scatter\": [{\"marker\": {\"colorbar\": {\"outlinewidth\": 0, \"ticks\": \"\"}}, \"type\": \"scatter\"}], \"scatter3d\": [{\"line\": {\"colorbar\": {\"outlinewidth\": 0, \"ticks\": \"\"}}, \"marker\": {\"colorbar\": {\"outlinewidth\": 0, \"ticks\": \"\"}}, \"type\": \"scatter3d\"}], \"scattercarpet\": [{\"marker\": {\"colorbar\": {\"outlinewidth\": 0, \"ticks\": \"\"}}, \"type\": \"scattercarpet\"}], \"scattergeo\": [{\"marker\": {\"colorbar\": {\"outlinewidth\": 0, \"ticks\": \"\"}}, \"type\": \"scattergeo\"}], \"scattergl\": [{\"marker\": {\"colorbar\": {\"outlinewidth\": 0, \"ticks\": \"\"}}, \"type\": \"scattergl\"}], \"scattermapbox\": [{\"marker\": {\"colorbar\": {\"outlinewidth\": 0, \"ticks\": \"\"}}, \"type\": \"scattermapbox\"}], \"scatterpolar\": [{\"marker\": {\"colorbar\": {\"outlinewidth\": 0, \"ticks\": \"\"}}, \"type\": \"scatterpolar\"}], \"scatterpolargl\": [{\"marker\": {\"colorbar\": {\"outlinewidth\": 0, \"ticks\": \"\"}}, \"type\": \"scatterpolargl\"}], \"scatterternary\": [{\"marker\": {\"colorbar\": {\"outlinewidth\": 0, \"ticks\": \"\"}}, \"type\": \"scatterternary\"}], \"surface\": [{\"colorbar\": {\"outlinewidth\": 0, \"ticks\": \"\"}, \"colorscale\": [[0.0, \"#0d0887\"], [0.1111111111111111, \"#46039f\"], [0.2222222222222222, \"#7201a8\"], [0.3333333333333333, \"#9c179e\"], [0.4444444444444444, \"#bd3786\"], [0.5555555555555556, \"#d8576b\"], [0.6666666666666666, \"#ed7953\"], [0.7777777777777778, \"#fb9f3a\"], [0.8888888888888888, \"#fdca26\"], [1.0, \"#f0f921\"]], \"type\": \"surface\"}], \"table\": [{\"cells\": {\"fill\": {\"color\": \"#EBF0F8\"}, \"line\": {\"color\": \"white\"}}, \"header\": {\"fill\": {\"color\": \"#C8D4E3\"}, \"line\": {\"color\": \"white\"}}, \"type\": \"table\"}]}, \"layout\": {\"annotationdefaults\": {\"arrowcolor\": \"#2a3f5f\", \"arrowhead\": 0, \"arrowwidth\": 1}, \"colorscale\": {\"diverging\": [[0, \"#8e0152\"], [0.1, \"#c51b7d\"], [0.2, \"#de77ae\"], [0.3, \"#f1b6da\"], [0.4, \"#fde0ef\"], [0.5, \"#f7f7f7\"], [0.6, \"#e6f5d0\"], [0.7, \"#b8e186\"], [0.8, \"#7fbc41\"], [0.9, \"#4d9221\"], [1, \"#276419\"]], \"sequential\": [[0.0, \"#0d0887\"], [0.1111111111111111, \"#46039f\"], [0.2222222222222222, \"#7201a8\"], [0.3333333333333333, \"#9c179e\"], [0.4444444444444444, \"#bd3786\"], [0.5555555555555556, \"#d8576b\"], [0.6666666666666666, \"#ed7953\"], [0.7777777777777778, \"#fb9f3a\"], [0.8888888888888888, \"#fdca26\"], [1.0, \"#f0f921\"]], \"sequentialminus\": [[0.0, \"#0d0887\"], [0.1111111111111111, \"#46039f\"], [0.2222222222222222, \"#7201a8\"], [0.3333333333333333, \"#9c179e\"], [0.4444444444444444, \"#bd3786\"], [0.5555555555555556, \"#d8576b\"], [0.6666666666666666, \"#ed7953\"], [0.7777777777777778, \"#fb9f3a\"], [0.8888888888888888, \"#fdca26\"], [1.0, \"#f0f921\"]]}, \"colorway\": [\"#636efa\", \"#EF553B\", \"#00cc96\", \"#ab63fa\", \"#FFA15A\", \"#19d3f3\", \"#FF6692\", \"#B6E880\", \"#FF97FF\", \"#FECB52\"], \"font\": {\"color\": \"#2a3f5f\"}, \"geo\": {\"bgcolor\": \"white\", \"lakecolor\": \"white\", \"landcolor\": \"#E5ECF6\", \"showlakes\": true, \"showland\": true, \"subunitcolor\": \"white\"}, \"hoverlabel\": {\"align\": \"left\"}, \"hovermode\": \"closest\", \"mapbox\": {\"style\": \"light\"}, \"paper_bgcolor\": \"white\", \"plot_bgcolor\": \"#E5ECF6\", \"polar\": {\"angularaxis\": {\"gridcolor\": \"white\", \"linecolor\": \"white\", \"ticks\": \"\"}, \"bgcolor\": \"#E5ECF6\", \"radialaxis\": {\"gridcolor\": \"white\", \"linecolor\": \"white\", \"ticks\": \"\"}}, \"scene\": {\"xaxis\": {\"backgroundcolor\": \"#E5ECF6\", \"gridcolor\": \"white\", \"gridwidth\": 2, \"linecolor\": \"white\", \"showbackground\": true, \"ticks\": \"\", \"zerolinecolor\": \"white\"}, \"yaxis\": {\"backgroundcolor\": \"#E5ECF6\", \"gridcolor\": \"white\", \"gridwidth\": 2, \"linecolor\": \"white\", \"showbackground\": true, \"ticks\": \"\", \"zerolinecolor\": \"white\"}, \"zaxis\": {\"backgroundcolor\": \"#E5ECF6\", \"gridcolor\": \"white\", \"gridwidth\": 2, \"linecolor\": \"white\", \"showbackground\": true, \"ticks\": \"\", \"zerolinecolor\": \"white\"}}, \"shapedefaults\": {\"line\": {\"color\": \"#2a3f5f\"}}, \"ternary\": {\"aaxis\": {\"gridcolor\": \"white\", \"linecolor\": \"white\", \"ticks\": \"\"}, \"baxis\": {\"gridcolor\": \"white\", \"linecolor\": \"white\", \"ticks\": \"\"}, \"bgcolor\": \"#E5ECF6\", \"caxis\": {\"gridcolor\": \"white\", \"linecolor\": \"white\", \"ticks\": \"\"}}, \"title\": {\"x\": 0.05}, \"xaxis\": {\"automargin\": true, \"gridcolor\": \"white\", \"linecolor\": \"white\", \"ticks\": \"\", \"zerolinecolor\": \"white\", \"zerolinewidth\": 2}, \"yaxis\": {\"automargin\": true, \"gridcolor\": \"white\", \"linecolor\": \"white\", \"ticks\": \"\", \"zerolinecolor\": \"white\", \"zerolinewidth\": 2}}}, \"xaxis\": {\"anchor\": \"y\", \"domain\": [0.0, 0.98], \"title\": {\"text\": \"DataPesquisa\"}}, \"yaxis\": {\"anchor\": \"x\", \"domain\": [0.0, 1.0], \"title\": {\"text\": \"preco\"}}},\n",
       "                        {\"responsive\": true}\n",
       "                    ).then(function(){\n",
       "                            \n",
       "var gd = document.getElementById('34234fac-c12c-4f20-bced-1aeebc2593f9');\n",
       "var x = new MutationObserver(function (mutations, observer) {{\n",
       "        var display = window.getComputedStyle(gd).display;\n",
       "        if (!display || display === 'none') {{\n",
       "            console.log([gd, 'removed!']);\n",
       "            Plotly.purge(gd);\n",
       "            observer.disconnect();\n",
       "        }}\n",
       "}});\n",
       "\n",
       "// Listen for the removal of the full notebook cells\n",
       "var notebookContainer = gd.closest('#notebook-container');\n",
       "if (notebookContainer) {{\n",
       "    x.observe(notebookContainer, {childList: true});\n",
       "}}\n",
       "\n",
       "// Listen for the clearing of the current output cell\n",
       "var outputEl = gd.closest('.output');\n",
       "if (outputEl) {{\n",
       "    x.observe(outputEl, {childList: true});\n",
       "}}\n",
       "\n",
       "                        })\n",
       "                };\n",
       "                });\n",
       "            </script>\n",
       "        </div>"
      ]
     },
     "metadata": {},
     "output_type": "display_data"
    }
   ],
   "source": [
    "import plotly.express as px\n",
    "\n",
    "for graph in datasets: \n",
    "    #graph = graph.query('Ida ==\"2020-07-05\" & Volta ==\"2020-07-20\"')\n",
    "    graph = graph.query('de ==\"POA\" & Dias >=14 & Dias <=17')# | de ==\"GRU\"')\n",
    "    fig = px.line(graph.drop_duplicates(), x=\"DataPesquisa\", y=\"preco\", color=\"EspecificoTodos\",hover_data=['de','para','Ida', 'Volta','preco'])\n",
    "    fig.show()"
   ]
  },
  {
   "cell_type": "code",
   "execution_count": 58,
   "metadata": {},
   "outputs": [
    {
     "name": "stdout",
     "output_type": "stream",
     "text": [
      "Index(['Unnamed: 0', 'DataPesquisa', 'Ida', 'Volta', 'de', 'para', 'preco',\n",
      "       'DataPesquisaDATA', 'Dias', 'OrigemDestino', 'EspecificoIda',\n",
      "       'EspecificoVolta', 'EspecificoTodos'],\n",
      "      dtype='object')\n"
     ]
    }
   ],
   "source": [
    "import pandas_profiling\n",
    "print(dfGraficoPOA_MIA.columns)"
   ]
  },
  {
   "cell_type": "code",
   "execution_count": 59,
   "metadata": {},
   "outputs": [
    {
     "data": {
      "text/html": [
       "<div>\n",
       "<style scoped>\n",
       "    .dataframe tbody tr th:only-of-type {\n",
       "        vertical-align: middle;\n",
       "    }\n",
       "\n",
       "    .dataframe tbody tr th {\n",
       "        vertical-align: top;\n",
       "    }\n",
       "\n",
       "    .dataframe thead th {\n",
       "        text-align: right;\n",
       "    }\n",
       "</style>\n",
       "<table border=\"1\" class=\"dataframe\">\n",
       "  <thead>\n",
       "    <tr style=\"text-align: right;\">\n",
       "      <th></th>\n",
       "      <th>Ida</th>\n",
       "      <th>Volta</th>\n",
       "      <th>de</th>\n",
       "      <th>para</th>\n",
       "      <th>preco</th>\n",
       "      <th>DataPesquisaDATA</th>\n",
       "      <th>Dias</th>\n",
       "    </tr>\n",
       "  </thead>\n",
       "  <tbody>\n",
       "    <tr>\n",
       "      <th>1</th>\n",
       "      <td>2020-07-02</td>\n",
       "      <td>2020-07-17</td>\n",
       "      <td>POA</td>\n",
       "      <td>MIA</td>\n",
       "      <td>3834</td>\n",
       "      <td>2020-01-16</td>\n",
       "      <td>15</td>\n",
       "    </tr>\n",
       "    <tr>\n",
       "      <th>2</th>\n",
       "      <td>2020-07-02</td>\n",
       "      <td>2020-07-18</td>\n",
       "      <td>POA</td>\n",
       "      <td>MIA</td>\n",
       "      <td>3864</td>\n",
       "      <td>2020-01-16</td>\n",
       "      <td>16</td>\n",
       "    </tr>\n",
       "    <tr>\n",
       "      <th>3</th>\n",
       "      <td>2020-07-02</td>\n",
       "      <td>2020-07-19</td>\n",
       "      <td>POA</td>\n",
       "      <td>MIA</td>\n",
       "      <td>4003</td>\n",
       "      <td>2020-01-16</td>\n",
       "      <td>17</td>\n",
       "    </tr>\n",
       "  </tbody>\n",
       "</table>\n",
       "</div>"
      ],
      "text/plain": [
       "          Ida       Volta   de para  preco DataPesquisaDATA  Dias\n",
       "1  2020-07-02  2020-07-17  POA  MIA   3834       2020-01-16    15\n",
       "2  2020-07-02  2020-07-18  POA  MIA   3864       2020-01-16    16\n",
       "3  2020-07-02  2020-07-19  POA  MIA   4003       2020-01-16    17"
      ]
     },
     "metadata": {},
     "output_type": "display_data"
    },
    {
     "ename": "MemoryError",
     "evalue": "",
     "output_type": "error",
     "traceback": [
      "\u001b[1;31m---------------------------------------------------------------------------\u001b[0m",
      "\u001b[1;31mMemoryError\u001b[0m                               Traceback (most recent call last)",
      "\u001b[1;32m<ipython-input-59-1ffde899b837>\u001b[0m in \u001b[0;36m<module>\u001b[1;34m\u001b[0m\n\u001b[0;32m      1\u001b[0m \u001b[0mpandasDf\u001b[0m\u001b[1;33m=\u001b[0m\u001b[0mdfGraficoPOA_MIA\u001b[0m\u001b[1;33m[\u001b[0m\u001b[1;33m[\u001b[0m\u001b[1;34m'Ida'\u001b[0m\u001b[1;33m,\u001b[0m \u001b[1;34m'Volta'\u001b[0m\u001b[1;33m,\u001b[0m \u001b[1;34m'de'\u001b[0m\u001b[1;33m,\u001b[0m \u001b[1;34m'para'\u001b[0m\u001b[1;33m,\u001b[0m \u001b[1;34m'preco'\u001b[0m\u001b[1;33m,\u001b[0m\u001b[1;34m'DataPesquisaDATA'\u001b[0m\u001b[1;33m,\u001b[0m \u001b[1;34m'Dias'\u001b[0m\u001b[1;33m]\u001b[0m\u001b[1;33m]\u001b[0m\u001b[1;33m\u001b[0m\u001b[1;33m\u001b[0m\u001b[0m\n\u001b[0;32m      2\u001b[0m \u001b[0mdisplay\u001b[0m\u001b[1;33m(\u001b[0m\u001b[0mpandasDf\u001b[0m\u001b[1;33m.\u001b[0m\u001b[0mhead\u001b[0m\u001b[1;33m(\u001b[0m\u001b[1;36m3\u001b[0m\u001b[1;33m)\u001b[0m\u001b[1;33m)\u001b[0m\u001b[1;33m\u001b[0m\u001b[1;33m\u001b[0m\u001b[0m\n\u001b[1;32m----> 3\u001b[1;33m \u001b[0mpandas_profiling\u001b[0m\u001b[1;33m.\u001b[0m\u001b[0mProfileReport\u001b[0m\u001b[1;33m(\u001b[0m\u001b[0mpandasDf\u001b[0m\u001b[1;33m)\u001b[0m\u001b[1;33m\u001b[0m\u001b[1;33m\u001b[0m\u001b[0m\n\u001b[0m",
      "\u001b[1;32m~\\AppData\\Local\\Programs\\Python\\Python37-32\\lib\\site-packages\\pandas_profiling\\__init__.py\u001b[0m in \u001b[0;36m__init__\u001b[1;34m(self, df, **kwargs)\u001b[0m\n\u001b[0;32m     66\u001b[0m \u001b[1;33m\u001b[0m\u001b[0m\n\u001b[0;32m     67\u001b[0m         \u001b[1;31m# Get dataset statistics\u001b[0m\u001b[1;33m\u001b[0m\u001b[1;33m\u001b[0m\u001b[1;33m\u001b[0m\u001b[0m\n\u001b[1;32m---> 68\u001b[1;33m         \u001b[0mdescription_set\u001b[0m \u001b[1;33m=\u001b[0m \u001b[0mdescribe_df\u001b[0m\u001b[1;33m(\u001b[0m\u001b[0mdf\u001b[0m\u001b[1;33m)\u001b[0m\u001b[1;33m\u001b[0m\u001b[1;33m\u001b[0m\u001b[0m\n\u001b[0m\u001b[0;32m     69\u001b[0m \u001b[1;33m\u001b[0m\u001b[0m\n\u001b[0;32m     70\u001b[0m         \u001b[1;31m# Get sample\u001b[0m\u001b[1;33m\u001b[0m\u001b[1;33m\u001b[0m\u001b[1;33m\u001b[0m\u001b[0m\n",
      "\u001b[1;32m~\\AppData\\Local\\Programs\\Python\\Python37-32\\lib\\site-packages\\pandas_profiling\\model\\describe.py\u001b[0m in \u001b[0;36mdescribe\u001b[1;34m(df)\u001b[0m\n\u001b[0;32m    600\u001b[0m \u001b[1;33m\u001b[0m\u001b[0m\n\u001b[0;32m    601\u001b[0m     \u001b[1;31m# missing diagrams\u001b[0m\u001b[1;33m\u001b[0m\u001b[1;33m\u001b[0m\u001b[1;33m\u001b[0m\u001b[0m\n\u001b[1;32m--> 602\u001b[1;33m     \u001b[0mmissing\u001b[0m \u001b[1;33m=\u001b[0m \u001b[0mget_missing_diagrams\u001b[0m\u001b[1;33m(\u001b[0m\u001b[0mdf\u001b[0m\u001b[1;33m,\u001b[0m \u001b[0mtable_stats\u001b[0m\u001b[1;33m)\u001b[0m\u001b[1;33m\u001b[0m\u001b[1;33m\u001b[0m\u001b[0m\n\u001b[0m\u001b[0;32m    603\u001b[0m \u001b[1;33m\u001b[0m\u001b[0m\n\u001b[0;32m    604\u001b[0m     \u001b[1;31m# Messages\u001b[0m\u001b[1;33m\u001b[0m\u001b[1;33m\u001b[0m\u001b[1;33m\u001b[0m\u001b[0m\n",
      "\u001b[1;32m~\\AppData\\Local\\Programs\\Python\\Python37-32\\lib\\site-packages\\pandas_profiling\\model\\describe.py\u001b[0m in \u001b[0;36mget_missing_diagrams\u001b[1;34m(df, table_stats)\u001b[0m\n\u001b[0;32m    497\u001b[0m                     missing[name] = {\n\u001b[0;32m    498\u001b[0m                         \u001b[1;34m\"name\"\u001b[0m\u001b[1;33m:\u001b[0m \u001b[0msettings\u001b[0m\u001b[1;33m[\u001b[0m\u001b[1;34m\"name\"\u001b[0m\u001b[1;33m]\u001b[0m\u001b[1;33m,\u001b[0m\u001b[1;33m\u001b[0m\u001b[1;33m\u001b[0m\u001b[0m\n\u001b[1;32m--> 499\u001b[1;33m                         \u001b[1;34m\"matrix\"\u001b[0m\u001b[1;33m:\u001b[0m \u001b[0msettings\u001b[0m\u001b[1;33m[\u001b[0m\u001b[1;34m\"func\"\u001b[0m\u001b[1;33m]\u001b[0m\u001b[1;33m(\u001b[0m\u001b[0mdf\u001b[0m\u001b[1;33m)\u001b[0m\u001b[1;33m,\u001b[0m\u001b[1;33m\u001b[0m\u001b[1;33m\u001b[0m\u001b[0m\n\u001b[0m\u001b[0;32m    500\u001b[0m                     }\n\u001b[0;32m    501\u001b[0m             \u001b[1;32mexcept\u001b[0m \u001b[0mValueError\u001b[0m \u001b[1;32mas\u001b[0m \u001b[0me\u001b[0m\u001b[1;33m:\u001b[0m\u001b[1;33m\u001b[0m\u001b[1;33m\u001b[0m\u001b[0m\n",
      "\u001b[1;32m~\\AppData\\Local\\Programs\\Python\\Python37-32\\lib\\site-packages\\pandas_profiling\\view\\plot.py\u001b[0m in \u001b[0;36mmissing_matrix\u001b[1;34m(data)\u001b[0m\n\u001b[0;32m    181\u001b[0m     \u001b[0mplt\u001b[0m\u001b[1;33m.\u001b[0m\u001b[0msubplots_adjust\u001b[0m\u001b[1;33m(\u001b[0m\u001b[0mleft\u001b[0m\u001b[1;33m=\u001b[0m\u001b[1;36m0.1\u001b[0m\u001b[1;33m,\u001b[0m \u001b[0mright\u001b[0m\u001b[1;33m=\u001b[0m\u001b[1;36m0.9\u001b[0m\u001b[1;33m,\u001b[0m \u001b[0mtop\u001b[0m\u001b[1;33m=\u001b[0m\u001b[1;36m0.7\u001b[0m\u001b[1;33m,\u001b[0m \u001b[0mbottom\u001b[0m\u001b[1;33m=\u001b[0m\u001b[1;36m0.2\u001b[0m\u001b[1;33m)\u001b[0m\u001b[1;33m\u001b[0m\u001b[1;33m\u001b[0m\u001b[0m\n\u001b[0;32m    182\u001b[0m     \u001b[1;31m# Note: override image format, svg contains bug for missingno.matrix\u001b[0m\u001b[1;33m\u001b[0m\u001b[1;33m\u001b[0m\u001b[1;33m\u001b[0m\u001b[0m\n\u001b[1;32m--> 183\u001b[1;33m     \u001b[1;32mreturn\u001b[0m \u001b[0mplot_360_n0sc0pe\u001b[0m\u001b[1;33m(\u001b[0m\u001b[0mplt\u001b[0m\u001b[1;33m,\u001b[0m \u001b[0mimage_format\u001b[0m\u001b[1;33m=\u001b[0m\u001b[1;34m\"png\"\u001b[0m\u001b[1;33m)\u001b[0m\u001b[1;33m\u001b[0m\u001b[1;33m\u001b[0m\u001b[0m\n\u001b[0m\u001b[0;32m    184\u001b[0m \u001b[1;33m\u001b[0m\u001b[0m\n\u001b[0;32m    185\u001b[0m \u001b[1;33m\u001b[0m\u001b[0m\n",
      "\u001b[1;32m~\\AppData\\Local\\Programs\\Python\\Python37-32\\lib\\site-packages\\pandas_profiling\\view\\plot.py\u001b[0m in \u001b[0;36mplot_360_n0sc0pe\u001b[1;34m(plt, image_format, attempts)\u001b[0m\n\u001b[0;32m    280\u001b[0m     \u001b[1;32mtry\u001b[0m\u001b[1;33m:\u001b[0m\u001b[1;33m\u001b[0m\u001b[1;33m\u001b[0m\u001b[0m\n\u001b[0;32m    281\u001b[0m         \u001b[0mimage_data\u001b[0m \u001b[1;33m=\u001b[0m \u001b[0mBytesIO\u001b[0m\u001b[1;33m(\u001b[0m\u001b[1;33m)\u001b[0m\u001b[1;33m\u001b[0m\u001b[1;33m\u001b[0m\u001b[0m\n\u001b[1;32m--> 282\u001b[1;33m         \u001b[0mplt\u001b[0m\u001b[1;33m.\u001b[0m\u001b[0msavefig\u001b[0m\u001b[1;33m(\u001b[0m\u001b[0mimage_data\u001b[0m\u001b[1;33m,\u001b[0m \u001b[0mdpi\u001b[0m\u001b[1;33m=\u001b[0m\u001b[0mdpi\u001b[0m\u001b[1;33m,\u001b[0m \u001b[0mformat\u001b[0m\u001b[1;33m=\u001b[0m\u001b[0mimage_format\u001b[0m\u001b[1;33m)\u001b[0m\u001b[1;33m\u001b[0m\u001b[1;33m\u001b[0m\u001b[0m\n\u001b[0m\u001b[0;32m    283\u001b[0m         \u001b[0mimage_data\u001b[0m\u001b[1;33m.\u001b[0m\u001b[0mseek\u001b[0m\u001b[1;33m(\u001b[0m\u001b[1;36m0\u001b[0m\u001b[1;33m)\u001b[0m\u001b[1;33m\u001b[0m\u001b[1;33m\u001b[0m\u001b[0m\n\u001b[0;32m    284\u001b[0m         result_string = \"data:{mime_type};base64,{image_data}\".format(\n",
      "\u001b[1;32m~\\AppData\\Local\\Programs\\Python\\Python37-32\\lib\\site-packages\\matplotlib\\pyplot.py\u001b[0m in \u001b[0;36msavefig\u001b[1;34m(*args, **kwargs)\u001b[0m\n\u001b[0;32m    687\u001b[0m \u001b[1;32mdef\u001b[0m \u001b[0msavefig\u001b[0m\u001b[1;33m(\u001b[0m\u001b[1;33m*\u001b[0m\u001b[0margs\u001b[0m\u001b[1;33m,\u001b[0m \u001b[1;33m**\u001b[0m\u001b[0mkwargs\u001b[0m\u001b[1;33m)\u001b[0m\u001b[1;33m:\u001b[0m\u001b[1;33m\u001b[0m\u001b[1;33m\u001b[0m\u001b[0m\n\u001b[0;32m    688\u001b[0m     \u001b[0mfig\u001b[0m \u001b[1;33m=\u001b[0m \u001b[0mgcf\u001b[0m\u001b[1;33m(\u001b[0m\u001b[1;33m)\u001b[0m\u001b[1;33m\u001b[0m\u001b[1;33m\u001b[0m\u001b[0m\n\u001b[1;32m--> 689\u001b[1;33m     \u001b[0mres\u001b[0m \u001b[1;33m=\u001b[0m \u001b[0mfig\u001b[0m\u001b[1;33m.\u001b[0m\u001b[0msavefig\u001b[0m\u001b[1;33m(\u001b[0m\u001b[1;33m*\u001b[0m\u001b[0margs\u001b[0m\u001b[1;33m,\u001b[0m \u001b[1;33m**\u001b[0m\u001b[0mkwargs\u001b[0m\u001b[1;33m)\u001b[0m\u001b[1;33m\u001b[0m\u001b[1;33m\u001b[0m\u001b[0m\n\u001b[0m\u001b[0;32m    690\u001b[0m     \u001b[0mfig\u001b[0m\u001b[1;33m.\u001b[0m\u001b[0mcanvas\u001b[0m\u001b[1;33m.\u001b[0m\u001b[0mdraw_idle\u001b[0m\u001b[1;33m(\u001b[0m\u001b[1;33m)\u001b[0m   \u001b[1;31m# need this if 'transparent=True' to reset colors\u001b[0m\u001b[1;33m\u001b[0m\u001b[1;33m\u001b[0m\u001b[0m\n\u001b[0;32m    691\u001b[0m     \u001b[1;32mreturn\u001b[0m \u001b[0mres\u001b[0m\u001b[1;33m\u001b[0m\u001b[1;33m\u001b[0m\u001b[0m\n",
      "\u001b[1;32m~\\AppData\\Local\\Programs\\Python\\Python37-32\\lib\\site-packages\\matplotlib\\figure.py\u001b[0m in \u001b[0;36msavefig\u001b[1;34m(self, fname, frameon, transparent, **kwargs)\u001b[0m\n\u001b[0;32m   2092\u001b[0m             \u001b[0mself\u001b[0m\u001b[1;33m.\u001b[0m\u001b[0mset_frameon\u001b[0m\u001b[1;33m(\u001b[0m\u001b[0mframeon\u001b[0m\u001b[1;33m)\u001b[0m\u001b[1;33m\u001b[0m\u001b[1;33m\u001b[0m\u001b[0m\n\u001b[0;32m   2093\u001b[0m \u001b[1;33m\u001b[0m\u001b[0m\n\u001b[1;32m-> 2094\u001b[1;33m         \u001b[0mself\u001b[0m\u001b[1;33m.\u001b[0m\u001b[0mcanvas\u001b[0m\u001b[1;33m.\u001b[0m\u001b[0mprint_figure\u001b[0m\u001b[1;33m(\u001b[0m\u001b[0mfname\u001b[0m\u001b[1;33m,\u001b[0m \u001b[1;33m**\u001b[0m\u001b[0mkwargs\u001b[0m\u001b[1;33m)\u001b[0m\u001b[1;33m\u001b[0m\u001b[1;33m\u001b[0m\u001b[0m\n\u001b[0m\u001b[0;32m   2095\u001b[0m \u001b[1;33m\u001b[0m\u001b[0m\n\u001b[0;32m   2096\u001b[0m         \u001b[1;32mif\u001b[0m \u001b[0mframeon\u001b[0m\u001b[1;33m:\u001b[0m\u001b[1;33m\u001b[0m\u001b[1;33m\u001b[0m\u001b[0m\n",
      "\u001b[1;32m~\\AppData\\Local\\Programs\\Python\\Python37-32\\lib\\site-packages\\matplotlib\\backend_bases.py\u001b[0m in \u001b[0;36mprint_figure\u001b[1;34m(self, filename, dpi, facecolor, edgecolor, orientation, format, bbox_inches, **kwargs)\u001b[0m\n\u001b[0;32m   2073\u001b[0m                     \u001b[0morientation\u001b[0m\u001b[1;33m=\u001b[0m\u001b[0morientation\u001b[0m\u001b[1;33m,\u001b[0m\u001b[1;33m\u001b[0m\u001b[1;33m\u001b[0m\u001b[0m\n\u001b[0;32m   2074\u001b[0m                     \u001b[0mbbox_inches_restore\u001b[0m\u001b[1;33m=\u001b[0m\u001b[0m_bbox_inches_restore\u001b[0m\u001b[1;33m,\u001b[0m\u001b[1;33m\u001b[0m\u001b[1;33m\u001b[0m\u001b[0m\n\u001b[1;32m-> 2075\u001b[1;33m                     **kwargs)\n\u001b[0m\u001b[0;32m   2076\u001b[0m             \u001b[1;32mfinally\u001b[0m\u001b[1;33m:\u001b[0m\u001b[1;33m\u001b[0m\u001b[1;33m\u001b[0m\u001b[0m\n\u001b[0;32m   2077\u001b[0m                 \u001b[1;32mif\u001b[0m \u001b[0mbbox_inches\u001b[0m \u001b[1;32mand\u001b[0m \u001b[0mrestore_bbox\u001b[0m\u001b[1;33m:\u001b[0m\u001b[1;33m\u001b[0m\u001b[1;33m\u001b[0m\u001b[0m\n",
      "\u001b[1;32m~\\AppData\\Local\\Programs\\Python\\Python37-32\\lib\\site-packages\\matplotlib\\backends\\backend_agg.py\u001b[0m in \u001b[0;36mprint_png\u001b[1;34m(self, filename_or_obj, *args, **kwargs)\u001b[0m\n\u001b[0;32m    508\u001b[0m \u001b[1;33m\u001b[0m\u001b[0m\n\u001b[0;32m    509\u001b[0m         \"\"\"\n\u001b[1;32m--> 510\u001b[1;33m         \u001b[0mFigureCanvasAgg\u001b[0m\u001b[1;33m.\u001b[0m\u001b[0mdraw\u001b[0m\u001b[1;33m(\u001b[0m\u001b[0mself\u001b[0m\u001b[1;33m)\u001b[0m\u001b[1;33m\u001b[0m\u001b[1;33m\u001b[0m\u001b[0m\n\u001b[0m\u001b[0;32m    511\u001b[0m         \u001b[0mrenderer\u001b[0m \u001b[1;33m=\u001b[0m \u001b[0mself\u001b[0m\u001b[1;33m.\u001b[0m\u001b[0mget_renderer\u001b[0m\u001b[1;33m(\u001b[0m\u001b[1;33m)\u001b[0m\u001b[1;33m\u001b[0m\u001b[1;33m\u001b[0m\u001b[0m\n\u001b[0;32m    512\u001b[0m \u001b[1;33m\u001b[0m\u001b[0m\n",
      "\u001b[1;32m~\\AppData\\Local\\Programs\\Python\\Python37-32\\lib\\site-packages\\matplotlib\\backends\\backend_agg.py\u001b[0m in \u001b[0;36mdraw\u001b[1;34m(self)\u001b[0m\n\u001b[0;32m    400\u001b[0m         \u001b[0mtoolbar\u001b[0m \u001b[1;33m=\u001b[0m \u001b[0mself\u001b[0m\u001b[1;33m.\u001b[0m\u001b[0mtoolbar\u001b[0m\u001b[1;33m\u001b[0m\u001b[1;33m\u001b[0m\u001b[0m\n\u001b[0;32m    401\u001b[0m         \u001b[1;32mtry\u001b[0m\u001b[1;33m:\u001b[0m\u001b[1;33m\u001b[0m\u001b[1;33m\u001b[0m\u001b[0m\n\u001b[1;32m--> 402\u001b[1;33m             \u001b[0mself\u001b[0m\u001b[1;33m.\u001b[0m\u001b[0mfigure\u001b[0m\u001b[1;33m.\u001b[0m\u001b[0mdraw\u001b[0m\u001b[1;33m(\u001b[0m\u001b[0mself\u001b[0m\u001b[1;33m.\u001b[0m\u001b[0mrenderer\u001b[0m\u001b[1;33m)\u001b[0m\u001b[1;33m\u001b[0m\u001b[1;33m\u001b[0m\u001b[0m\n\u001b[0m\u001b[0;32m    403\u001b[0m             \u001b[1;31m# A GUI class may be need to update a window using this draw, so\u001b[0m\u001b[1;33m\u001b[0m\u001b[1;33m\u001b[0m\u001b[1;33m\u001b[0m\u001b[0m\n\u001b[0;32m    404\u001b[0m             \u001b[1;31m# don't forget to call the superclass.\u001b[0m\u001b[1;33m\u001b[0m\u001b[1;33m\u001b[0m\u001b[1;33m\u001b[0m\u001b[0m\n",
      "\u001b[1;32m~\\AppData\\Local\\Programs\\Python\\Python37-32\\lib\\site-packages\\matplotlib\\artist.py\u001b[0m in \u001b[0;36mdraw_wrapper\u001b[1;34m(artist, renderer, *args, **kwargs)\u001b[0m\n\u001b[0;32m     48\u001b[0m                 \u001b[0mrenderer\u001b[0m\u001b[1;33m.\u001b[0m\u001b[0mstart_filter\u001b[0m\u001b[1;33m(\u001b[0m\u001b[1;33m)\u001b[0m\u001b[1;33m\u001b[0m\u001b[1;33m\u001b[0m\u001b[0m\n\u001b[0;32m     49\u001b[0m \u001b[1;33m\u001b[0m\u001b[0m\n\u001b[1;32m---> 50\u001b[1;33m             \u001b[1;32mreturn\u001b[0m \u001b[0mdraw\u001b[0m\u001b[1;33m(\u001b[0m\u001b[0martist\u001b[0m\u001b[1;33m,\u001b[0m \u001b[0mrenderer\u001b[0m\u001b[1;33m,\u001b[0m \u001b[1;33m*\u001b[0m\u001b[0margs\u001b[0m\u001b[1;33m,\u001b[0m \u001b[1;33m**\u001b[0m\u001b[0mkwargs\u001b[0m\u001b[1;33m)\u001b[0m\u001b[1;33m\u001b[0m\u001b[1;33m\u001b[0m\u001b[0m\n\u001b[0m\u001b[0;32m     51\u001b[0m         \u001b[1;32mfinally\u001b[0m\u001b[1;33m:\u001b[0m\u001b[1;33m\u001b[0m\u001b[1;33m\u001b[0m\u001b[0m\n\u001b[0;32m     52\u001b[0m             \u001b[1;32mif\u001b[0m \u001b[0martist\u001b[0m\u001b[1;33m.\u001b[0m\u001b[0mget_agg_filter\u001b[0m\u001b[1;33m(\u001b[0m\u001b[1;33m)\u001b[0m \u001b[1;32mis\u001b[0m \u001b[1;32mnot\u001b[0m \u001b[1;32mNone\u001b[0m\u001b[1;33m:\u001b[0m\u001b[1;33m\u001b[0m\u001b[1;33m\u001b[0m\u001b[0m\n",
      "\u001b[1;32m~\\AppData\\Local\\Programs\\Python\\Python37-32\\lib\\site-packages\\matplotlib\\figure.py\u001b[0m in \u001b[0;36mdraw\u001b[1;34m(self, renderer)\u001b[0m\n\u001b[0;32m   1647\u001b[0m \u001b[1;33m\u001b[0m\u001b[0m\n\u001b[0;32m   1648\u001b[0m             mimage._draw_list_compositing_images(\n\u001b[1;32m-> 1649\u001b[1;33m                 renderer, self, artists, self.suppressComposite)\n\u001b[0m\u001b[0;32m   1650\u001b[0m \u001b[1;33m\u001b[0m\u001b[0m\n\u001b[0;32m   1651\u001b[0m             \u001b[0mrenderer\u001b[0m\u001b[1;33m.\u001b[0m\u001b[0mclose_group\u001b[0m\u001b[1;33m(\u001b[0m\u001b[1;34m'figure'\u001b[0m\u001b[1;33m)\u001b[0m\u001b[1;33m\u001b[0m\u001b[1;33m\u001b[0m\u001b[0m\n",
      "\u001b[1;32m~\\AppData\\Local\\Programs\\Python\\Python37-32\\lib\\site-packages\\matplotlib\\image.py\u001b[0m in \u001b[0;36m_draw_list_compositing_images\u001b[1;34m(renderer, parent, artists, suppress_composite)\u001b[0m\n\u001b[0;32m    136\u001b[0m     \u001b[1;32mif\u001b[0m \u001b[0mnot_composite\u001b[0m \u001b[1;32mor\u001b[0m \u001b[1;32mnot\u001b[0m \u001b[0mhas_images\u001b[0m\u001b[1;33m:\u001b[0m\u001b[1;33m\u001b[0m\u001b[1;33m\u001b[0m\u001b[0m\n\u001b[0;32m    137\u001b[0m         \u001b[1;32mfor\u001b[0m \u001b[0ma\u001b[0m \u001b[1;32min\u001b[0m \u001b[0martists\u001b[0m\u001b[1;33m:\u001b[0m\u001b[1;33m\u001b[0m\u001b[1;33m\u001b[0m\u001b[0m\n\u001b[1;32m--> 138\u001b[1;33m             \u001b[0ma\u001b[0m\u001b[1;33m.\u001b[0m\u001b[0mdraw\u001b[0m\u001b[1;33m(\u001b[0m\u001b[0mrenderer\u001b[0m\u001b[1;33m)\u001b[0m\u001b[1;33m\u001b[0m\u001b[1;33m\u001b[0m\u001b[0m\n\u001b[0m\u001b[0;32m    139\u001b[0m     \u001b[1;32melse\u001b[0m\u001b[1;33m:\u001b[0m\u001b[1;33m\u001b[0m\u001b[1;33m\u001b[0m\u001b[0m\n\u001b[0;32m    140\u001b[0m         \u001b[1;31m# Composite any adjacent images together\u001b[0m\u001b[1;33m\u001b[0m\u001b[1;33m\u001b[0m\u001b[1;33m\u001b[0m\u001b[0m\n",
      "\u001b[1;32m~\\AppData\\Local\\Programs\\Python\\Python37-32\\lib\\site-packages\\matplotlib\\artist.py\u001b[0m in \u001b[0;36mdraw_wrapper\u001b[1;34m(artist, renderer, *args, **kwargs)\u001b[0m\n\u001b[0;32m     48\u001b[0m                 \u001b[0mrenderer\u001b[0m\u001b[1;33m.\u001b[0m\u001b[0mstart_filter\u001b[0m\u001b[1;33m(\u001b[0m\u001b[1;33m)\u001b[0m\u001b[1;33m\u001b[0m\u001b[1;33m\u001b[0m\u001b[0m\n\u001b[0;32m     49\u001b[0m \u001b[1;33m\u001b[0m\u001b[0m\n\u001b[1;32m---> 50\u001b[1;33m             \u001b[1;32mreturn\u001b[0m \u001b[0mdraw\u001b[0m\u001b[1;33m(\u001b[0m\u001b[0martist\u001b[0m\u001b[1;33m,\u001b[0m \u001b[0mrenderer\u001b[0m\u001b[1;33m,\u001b[0m \u001b[1;33m*\u001b[0m\u001b[0margs\u001b[0m\u001b[1;33m,\u001b[0m \u001b[1;33m**\u001b[0m\u001b[0mkwargs\u001b[0m\u001b[1;33m)\u001b[0m\u001b[1;33m\u001b[0m\u001b[1;33m\u001b[0m\u001b[0m\n\u001b[0m\u001b[0;32m     51\u001b[0m         \u001b[1;32mfinally\u001b[0m\u001b[1;33m:\u001b[0m\u001b[1;33m\u001b[0m\u001b[1;33m\u001b[0m\u001b[0m\n\u001b[0;32m     52\u001b[0m             \u001b[1;32mif\u001b[0m \u001b[0martist\u001b[0m\u001b[1;33m.\u001b[0m\u001b[0mget_agg_filter\u001b[0m\u001b[1;33m(\u001b[0m\u001b[1;33m)\u001b[0m \u001b[1;32mis\u001b[0m \u001b[1;32mnot\u001b[0m \u001b[1;32mNone\u001b[0m\u001b[1;33m:\u001b[0m\u001b[1;33m\u001b[0m\u001b[1;33m\u001b[0m\u001b[0m\n",
      "\u001b[1;32m~\\AppData\\Local\\Programs\\Python\\Python37-32\\lib\\site-packages\\matplotlib\\axes\\_base.py\u001b[0m in \u001b[0;36mdraw\u001b[1;34m(self, renderer, inframe)\u001b[0m\n\u001b[0;32m   2626\u001b[0m             \u001b[0mrenderer\u001b[0m\u001b[1;33m.\u001b[0m\u001b[0mstop_rasterizing\u001b[0m\u001b[1;33m(\u001b[0m\u001b[1;33m)\u001b[0m\u001b[1;33m\u001b[0m\u001b[1;33m\u001b[0m\u001b[0m\n\u001b[0;32m   2627\u001b[0m \u001b[1;33m\u001b[0m\u001b[0m\n\u001b[1;32m-> 2628\u001b[1;33m         \u001b[0mmimage\u001b[0m\u001b[1;33m.\u001b[0m\u001b[0m_draw_list_compositing_images\u001b[0m\u001b[1;33m(\u001b[0m\u001b[0mrenderer\u001b[0m\u001b[1;33m,\u001b[0m \u001b[0mself\u001b[0m\u001b[1;33m,\u001b[0m \u001b[0martists\u001b[0m\u001b[1;33m)\u001b[0m\u001b[1;33m\u001b[0m\u001b[1;33m\u001b[0m\u001b[0m\n\u001b[0m\u001b[0;32m   2629\u001b[0m \u001b[1;33m\u001b[0m\u001b[0m\n\u001b[0;32m   2630\u001b[0m         \u001b[0mrenderer\u001b[0m\u001b[1;33m.\u001b[0m\u001b[0mclose_group\u001b[0m\u001b[1;33m(\u001b[0m\u001b[1;34m'axes'\u001b[0m\u001b[1;33m)\u001b[0m\u001b[1;33m\u001b[0m\u001b[1;33m\u001b[0m\u001b[0m\n",
      "\u001b[1;32m~\\AppData\\Local\\Programs\\Python\\Python37-32\\lib\\site-packages\\matplotlib\\image.py\u001b[0m in \u001b[0;36m_draw_list_compositing_images\u001b[1;34m(renderer, parent, artists, suppress_composite)\u001b[0m\n\u001b[0;32m    136\u001b[0m     \u001b[1;32mif\u001b[0m \u001b[0mnot_composite\u001b[0m \u001b[1;32mor\u001b[0m \u001b[1;32mnot\u001b[0m \u001b[0mhas_images\u001b[0m\u001b[1;33m:\u001b[0m\u001b[1;33m\u001b[0m\u001b[1;33m\u001b[0m\u001b[0m\n\u001b[0;32m    137\u001b[0m         \u001b[1;32mfor\u001b[0m \u001b[0ma\u001b[0m \u001b[1;32min\u001b[0m \u001b[0martists\u001b[0m\u001b[1;33m:\u001b[0m\u001b[1;33m\u001b[0m\u001b[1;33m\u001b[0m\u001b[0m\n\u001b[1;32m--> 138\u001b[1;33m             \u001b[0ma\u001b[0m\u001b[1;33m.\u001b[0m\u001b[0mdraw\u001b[0m\u001b[1;33m(\u001b[0m\u001b[0mrenderer\u001b[0m\u001b[1;33m)\u001b[0m\u001b[1;33m\u001b[0m\u001b[1;33m\u001b[0m\u001b[0m\n\u001b[0m\u001b[0;32m    139\u001b[0m     \u001b[1;32melse\u001b[0m\u001b[1;33m:\u001b[0m\u001b[1;33m\u001b[0m\u001b[1;33m\u001b[0m\u001b[0m\n\u001b[0;32m    140\u001b[0m         \u001b[1;31m# Composite any adjacent images together\u001b[0m\u001b[1;33m\u001b[0m\u001b[1;33m\u001b[0m\u001b[1;33m\u001b[0m\u001b[0m\n",
      "\u001b[1;32m~\\AppData\\Local\\Programs\\Python\\Python37-32\\lib\\site-packages\\matplotlib\\artist.py\u001b[0m in \u001b[0;36mdraw_wrapper\u001b[1;34m(artist, renderer, *args, **kwargs)\u001b[0m\n\u001b[0;32m     48\u001b[0m                 \u001b[0mrenderer\u001b[0m\u001b[1;33m.\u001b[0m\u001b[0mstart_filter\u001b[0m\u001b[1;33m(\u001b[0m\u001b[1;33m)\u001b[0m\u001b[1;33m\u001b[0m\u001b[1;33m\u001b[0m\u001b[0m\n\u001b[0;32m     49\u001b[0m \u001b[1;33m\u001b[0m\u001b[0m\n\u001b[1;32m---> 50\u001b[1;33m             \u001b[1;32mreturn\u001b[0m \u001b[0mdraw\u001b[0m\u001b[1;33m(\u001b[0m\u001b[0martist\u001b[0m\u001b[1;33m,\u001b[0m \u001b[0mrenderer\u001b[0m\u001b[1;33m,\u001b[0m \u001b[1;33m*\u001b[0m\u001b[0margs\u001b[0m\u001b[1;33m,\u001b[0m \u001b[1;33m**\u001b[0m\u001b[0mkwargs\u001b[0m\u001b[1;33m)\u001b[0m\u001b[1;33m\u001b[0m\u001b[1;33m\u001b[0m\u001b[0m\n\u001b[0m\u001b[0;32m     51\u001b[0m         \u001b[1;32mfinally\u001b[0m\u001b[1;33m:\u001b[0m\u001b[1;33m\u001b[0m\u001b[1;33m\u001b[0m\u001b[0m\n\u001b[0;32m     52\u001b[0m             \u001b[1;32mif\u001b[0m \u001b[0martist\u001b[0m\u001b[1;33m.\u001b[0m\u001b[0mget_agg_filter\u001b[0m\u001b[1;33m(\u001b[0m\u001b[1;33m)\u001b[0m \u001b[1;32mis\u001b[0m \u001b[1;32mnot\u001b[0m \u001b[1;32mNone\u001b[0m\u001b[1;33m:\u001b[0m\u001b[1;33m\u001b[0m\u001b[1;33m\u001b[0m\u001b[0m\n",
      "\u001b[1;32m~\\AppData\\Local\\Programs\\Python\\Python37-32\\lib\\site-packages\\matplotlib\\image.py\u001b[0m in \u001b[0;36mdraw\u001b[1;34m(self, renderer, *args, **kwargs)\u001b[0m\n\u001b[0;32m    582\u001b[0m         \u001b[1;32melse\u001b[0m\u001b[1;33m:\u001b[0m\u001b[1;33m\u001b[0m\u001b[1;33m\u001b[0m\u001b[0m\n\u001b[0;32m    583\u001b[0m             im, l, b, trans = self.make_image(\n\u001b[1;32m--> 584\u001b[1;33m                 renderer, renderer.get_image_magnification())\n\u001b[0m\u001b[0;32m    585\u001b[0m             \u001b[1;32mif\u001b[0m \u001b[0mim\u001b[0m \u001b[1;32mis\u001b[0m \u001b[1;32mnot\u001b[0m \u001b[1;32mNone\u001b[0m\u001b[1;33m:\u001b[0m\u001b[1;33m\u001b[0m\u001b[1;33m\u001b[0m\u001b[0m\n\u001b[0;32m    586\u001b[0m                 \u001b[0mrenderer\u001b[0m\u001b[1;33m.\u001b[0m\u001b[0mdraw_image\u001b[0m\u001b[1;33m(\u001b[0m\u001b[0mgc\u001b[0m\u001b[1;33m,\u001b[0m \u001b[0ml\u001b[0m\u001b[1;33m,\u001b[0m \u001b[0mb\u001b[0m\u001b[1;33m,\u001b[0m \u001b[0mim\u001b[0m\u001b[1;33m)\u001b[0m\u001b[1;33m\u001b[0m\u001b[1;33m\u001b[0m\u001b[0m\n",
      "\u001b[1;32m~\\AppData\\Local\\Programs\\Python\\Python37-32\\lib\\site-packages\\matplotlib\\image.py\u001b[0m in \u001b[0;36mmake_image\u001b[1;34m(self, renderer, magnification, unsampled)\u001b[0m\n\u001b[0;32m    829\u001b[0m         return self._make_image(\n\u001b[0;32m    830\u001b[0m             \u001b[0mself\u001b[0m\u001b[1;33m.\u001b[0m\u001b[0m_A\u001b[0m\u001b[1;33m,\u001b[0m \u001b[0mbbox\u001b[0m\u001b[1;33m,\u001b[0m \u001b[0mtransformed_bbox\u001b[0m\u001b[1;33m,\u001b[0m \u001b[0mself\u001b[0m\u001b[1;33m.\u001b[0m\u001b[0maxes\u001b[0m\u001b[1;33m.\u001b[0m\u001b[0mbbox\u001b[0m\u001b[1;33m,\u001b[0m \u001b[0mmagnification\u001b[0m\u001b[1;33m,\u001b[0m\u001b[1;33m\u001b[0m\u001b[1;33m\u001b[0m\u001b[0m\n\u001b[1;32m--> 831\u001b[1;33m             unsampled=unsampled)\n\u001b[0m\u001b[0;32m    832\u001b[0m \u001b[1;33m\u001b[0m\u001b[0m\n\u001b[0;32m    833\u001b[0m     \u001b[1;32mdef\u001b[0m \u001b[0m_check_unsampled_image\u001b[0m\u001b[1;33m(\u001b[0m\u001b[0mself\u001b[0m\u001b[1;33m,\u001b[0m \u001b[0mrenderer\u001b[0m\u001b[1;33m)\u001b[0m\u001b[1;33m:\u001b[0m\u001b[1;33m\u001b[0m\u001b[1;33m\u001b[0m\u001b[0m\n",
      "\u001b[1;32m~\\AppData\\Local\\Programs\\Python\\Python37-32\\lib\\site-packages\\matplotlib\\image.py\u001b[0m in \u001b[0;36m_make_image\u001b[1;34m(self, A, in_bbox, out_bbox, clip_bbox, magnification, unsampled, round_to_pixel_border)\u001b[0m\n\u001b[0;32m    486\u001b[0m                     \u001b[1;32mraise\u001b[0m \u001b[0mValueError\u001b[0m\u001b[1;33m(\u001b[0m\u001b[1;34m\"Invalid dimensions, got %s\"\u001b[0m \u001b[1;33m%\u001b[0m \u001b[1;33m(\u001b[0m\u001b[0mA\u001b[0m\u001b[1;33m.\u001b[0m\u001b[0mshape\u001b[0m\u001b[1;33m,\u001b[0m\u001b[1;33m)\u001b[0m\u001b[1;33m)\u001b[0m\u001b[1;33m\u001b[0m\u001b[1;33m\u001b[0m\u001b[0m\n\u001b[0;32m    487\u001b[0m \u001b[1;33m\u001b[0m\u001b[0m\n\u001b[1;32m--> 488\u001b[1;33m                 \u001b[0moutput\u001b[0m \u001b[1;33m=\u001b[0m \u001b[0mnp\u001b[0m\u001b[1;33m.\u001b[0m\u001b[0mzeros\u001b[0m\u001b[1;33m(\u001b[0m\u001b[1;33m(\u001b[0m\u001b[0mout_height\u001b[0m\u001b[1;33m,\u001b[0m \u001b[0mout_width\u001b[0m\u001b[1;33m,\u001b[0m \u001b[1;36m4\u001b[0m\u001b[1;33m)\u001b[0m\u001b[1;33m,\u001b[0m \u001b[0mdtype\u001b[0m\u001b[1;33m=\u001b[0m\u001b[0mA\u001b[0m\u001b[1;33m.\u001b[0m\u001b[0mdtype\u001b[0m\u001b[1;33m)\u001b[0m\u001b[1;33m\u001b[0m\u001b[1;33m\u001b[0m\u001b[0m\n\u001b[0m\u001b[0;32m    489\u001b[0m \u001b[1;33m\u001b[0m\u001b[0m\n\u001b[0;32m    490\u001b[0m                 \u001b[0malpha\u001b[0m \u001b[1;33m=\u001b[0m \u001b[0mself\u001b[0m\u001b[1;33m.\u001b[0m\u001b[0mget_alpha\u001b[0m\u001b[1;33m(\u001b[0m\u001b[1;33m)\u001b[0m\u001b[1;33m\u001b[0m\u001b[1;33m\u001b[0m\u001b[0m\n",
      "\u001b[1;31mMemoryError\u001b[0m: "
     ]
    },
    {
     "data": {
      "image/png": "[encoded data removed]",
      "text/plain": [
       "<Figure size 720x288 with 1 Axes>"
      ]
     },
     "metadata": {
      "needs_background": "light"
     },
     "output_type": "display_data"
    }
   ],
   "source": [
    "pandasDf=dfGraficoPOA_MIA[['Ida', 'Volta', 'de', 'para', 'preco','DataPesquisaDATA', 'Dias']]\n",
    "display(pandasDf.head(3))\n",
    "pandas_profiling.ProfileReport(pandasDf)\n"
   ]
  },
  {
   "cell_type": "code",
   "execution_count": null,
   "metadata": {},
   "outputs": [],
   "source": []
  },
  {
   "cell_type": "code",
   "execution_count": null,
   "metadata": {},
   "outputs": [],
   "source": []
  },
  {
   "cell_type": "code",
   "execution_count": null,
   "metadata": {},
   "outputs": [],
   "source": []
  },
  {
   "cell_type": "code",
   "execution_count": null,
   "metadata": {},
   "outputs": [],
   "source": []
  },
  {
   "cell_type": "code",
   "execution_count": null,
   "metadata": {},
   "outputs": [],
   "source": []
  },
  {
   "cell_type": "code",
   "execution_count": null,
   "metadata": {},
   "outputs": [],
   "source": []
  },
  {
   "cell_type": "code",
   "execution_count": null,
   "metadata": {},
   "outputs": [],
   "source": []
  },
  {
   "cell_type": "code",
   "execution_count": null,
   "metadata": {},
   "outputs": [],
   "source": []
  },
  {
   "cell_type": "code",
   "execution_count": null,
   "metadata": {},
   "outputs": [],
   "source": []
  },
  {
   "cell_type": "code",
   "execution_count": null,
   "metadata": {},
   "outputs": [],
   "source": []
  },
  {
   "cell_type": "code",
   "execution_count": null,
   "metadata": {},
   "outputs": [],
   "source": []
  },
  {
   "cell_type": "code",
   "execution_count": null,
   "metadata": {},
   "outputs": [],
   "source": []
  },
  {
   "cell_type": "code",
   "execution_count": null,
   "metadata": {},
   "outputs": [],
   "source": []
  },
  {
   "cell_type": "code",
   "execution_count": null,
   "metadata": {},
   "outputs": [],
   "source": []
  },
  {
   "cell_type": "code",
   "execution_count": null,
   "metadata": {},
   "outputs": [],
   "source": []
  },
  {
   "cell_type": "code",
   "execution_count": null,
   "metadata": {},
   "outputs": [],
   "source": []
  },
  {
   "cell_type": "code",
   "execution_count": null,
   "metadata": {},
   "outputs": [],
   "source": []
  },
  {
   "cell_type": "code",
   "execution_count": null,
   "metadata": {},
   "outputs": [],
   "source": []
  },
  {
   "cell_type": "code",
   "execution_count": null,
   "metadata": {},
   "outputs": [],
   "source": []
  },
  {
   "cell_type": "code",
   "execution_count": null,
   "metadata": {},
   "outputs": [],
   "source": []
  },
  {
   "cell_type": "code",
   "execution_count": null,
   "metadata": {},
   "outputs": [],
   "source": []
  },
  {
   "cell_type": "code",
   "execution_count": null,
   "metadata": {},
   "outputs": [],
   "source": []
  },
  {
   "cell_type": "code",
   "execution_count": null,
   "metadata": {},
   "outputs": [],
   "source": []
  },
  {
   "cell_type": "code",
   "execution_count": null,
   "metadata": {},
   "outputs": [],
   "source": []
  },
  {
   "cell_type": "code",
   "execution_count": null,
   "metadata": {},
   "outputs": [],
   "source": []
  },
  {
   "cell_type": "code",
   "execution_count": null,
   "metadata": {},
   "outputs": [],
   "source": []
  },
  {
   "cell_type": "code",
   "execution_count": null,
   "metadata": {},
   "outputs": [],
   "source": []
  },
  {
   "cell_type": "code",
   "execution_count": null,
   "metadata": {},
   "outputs": [],
   "source": []
  },
  {
   "cell_type": "code",
   "execution_count": null,
   "metadata": {},
   "outputs": [],
   "source": [
    "#POSTMAN ONE WAY "
   ]
  },
  {
   "cell_type": "code",
   "execution_count": null,
   "metadata": {},
   "outputs": [],
   "source": [
    "import requests\n",
    "\n",
    "dataInicial = '2020-04-08'\n",
    "dataFinal = '2020-04-22'\n",
    "\n",
    "origens = ['POA','GRU','GIG','BSB','FOR']\n",
    "destinos = ['ATL','MIA']\n",
    "\n",
    "url = \"https://www.decolar.com/shop/flights-busquets/api/v1/web/search\"\n",
    "\n",
    "for origem in origens:\n",
    "    for destino in destinos:        \n",
    "        querystring = {\"adults\":\"1\",\"limit\":\"4\",\"site\":\"BR\",\"channel\":\"site\",\"from\":\"{origem}\".format(origem=origem),\"to\":\"{destino}\".format(destino=destino),\"departureDate\":\"2020-03-04\",\"orderBy\":\"total_price_ascending\",\"viewMode\":\"CLUSTER\",\"language\":\"pt_BR\",\"h\":\"38dc1f66dbf4f5c8df105321c3286b5c\",\"flow\":\"SEARCH\",\"clientType\":\"WEB\",\"initialOrigins\":\"{origem}\".format(origem=origem),\"initialDestinations\":\"{destino}\".format(destino=destino)}\n",
    "    \n",
    "        headers = {\n",
    "            'Connection': \"keep-alive\",\n",
    "            'DNT': \"1\",\n",
    "            'X-UOW': \"results-13-1579106681089\",\n",
    "            'X-RequestId': \"xzTTJ6fDfw\",\n",
    "            'User-Agent': \"Mozilla/5.0 (Windows NT 10.0; Win64; x64) AppleWebKit/537.36 (KHTML, like Gecko) Chrome/79.0.3945.88 Safari/537.36\",\n",
    "            'Accept': \"application/json, text/javascript, */*; q=0.01\",\n",
    "            'X-Requested-With': \"XMLHttpRequest\",\n",
    "            'XDESP-REFERRER': \"https://www.decolar.com/shop/flights/search/oneway/{origem}/{destino}/2020-03-04/2/0/0/NA/NA/NA/NA/?from=SB&di=2-0\".format(origem=origem,destino=destino),\n",
    "            'Sec-Fetch-Site': \"same-origin\",\n",
    "            'Sec-Fetch-Mode': \"cors\",\n",
    "            'Referer': \"https://www.decolar.com/shop/flights/search/oneway/{origem}/{destino}/2020-03-04/1/0/0/NA/NA/NA/NA/?from=SB&di=1-0\".format(origem=origem,destino=destino),\n",
    "            'Accept-Encoding': \"gzip, deflate, br\",\n",
    "            'Accept-Language': \"pt-BR,pt;q=0.9,en-US;q=0.8,en;q=0.7\",\n",
    "            'Cookie': 'trackerid=e1861e3a-3357-4a76-861e-3a3357ea76c0; xdesp-rand-usr=292; xdsid=C632CEAAF251AE2A72F165ECA9A4A2CA; xduid=1727A02D2FAA249C654A094113369154; _ga=GA1.2.772144563.1579011917; _gid=GA1.2.317154519.1579011917; trackeame_cookie=%7B%22id%22%3A%22UPA_e1861e3a-3357-4a76-861e-3a3357ea76c0%22%2C%22version%22%3A%225.0%22%2C%22upa_id%22%3A%22e1861e3a-3357-4a76-861e-3a3357ea76c0%22%2C%22creation_date%22%3A%222020-01-14T14%3A25%3A17Z%22%7D; __ssid=41de76d348be0e334af8e657f6801b8; _gcl_au=1.1.1367791908.1579011932; _fbp=fb.1.1579011933564.1470255143; __gads=ID=9139db3a836078f5:T=1579011933:S=ALNI_MawboBo55i9nPvoDvzaF396HudEKg; abzTestingId=\"{\\\"flightsFisherAB\\\":90,\\\"pkgImbatibleBrand_ctrl\\\":76,\\\"s_flights_s_violet_sbox_v1\\\":21,\\\"upsellingConfig\\\":58,\\\"twoOneWayForceMX\\\":0,\\\"filterLandingFlights\\\":41,\\\"s_loyalty_v2_ctrl\\\":5,\\\"s_flights_l_violet_sbox_v1\\\":0,\\\"s_flights_l_loyalty_v2\\\":58,\\\"mostProfitablePromotion\\\":0,\\\"despechecks\\\":72,\\\"s_loyalty_v2_review\\\":33,\\\"platform\\\":55,\\\"selected_radio_button\\\":0,\\\"fisher_2ow\\\":0,\\\"loyalty_non_adherents\\\":63,\\\"paymentMethod\\\":55,\\\"shifuMobileProductLabels\\\":0,\\\"obFee\\\":40,\\\"twoOneWay\\\":0,\\\"s_violet_sbox_v1\\\":17,\\\"s_flights_s_loyalty_v2\\\":14,\\\"flights_loyalty_non_adherents\\\":63,\\\"pkgImbatibleBrand-ctrl\\\":60,\\\"crossBorderTicketing\\\":0}; chktkn=ask3r5kj6ed0ksqrs7eio4cebk; searchId=243920d8-49cc-4271-972a-60d05221ef20; _gat_UA-36944350-2=1,trackerid=e1861e3a-3357-4a76-861e-3a3357ea76c0; xdesp-rand-usr=292; xdsid=C632CEAAF251AE2A72F165ECA9A4A2CA; xduid=1727A02D2FAA249C654A094113369154; _ga=GA1.2.772144563.1579011917; _gid=GA1.2.317154519.1579011917; trackeame_cookie=%7B%22id%22%3A%22UPA_e1861e3a-3357-4a76-861e-3a3357ea76c0%22%2C%22version%22%3A%225.0%22%2C%22upa_id%22%3A%22e1861e3a-3357-4a76-861e-3a3357ea76c0%22%2C%22creation_date%22%3A%222020-01-14T14%3A25%3A17Z%22%7D; __ssid=41de76d348be0e334af8e657f6801b8; _gcl_au=1.1.1367791908.1579011932; _fbp=fb.1.1579011933564.1470255143; __gads=ID=9139db3a836078f5:T=1579011933:S=ALNI_MawboBo55i9nPvoDvzaF396HudEKg; abzTestingId=\"{\\\"flightsFisherAB\\\":90,\\\"pkgImbatibleBrand_ctrl\\\":76,\\\"s_flights_s_violet_sbox_v1\\\":21,\\\"upsellingConfig\\\":58,\\\"twoOneWayForceMX\\\":0,\\\"filterLandingFlights\\\":41,\\\"s_loyalty_v2_ctrl\\\":5,\\\"s_flights_l_violet_sbox_v1\\\":0,\\\"s_flights_l_loyalty_v2\\\":58,\\\"mostProfitablePromotion\\\":0,\\\"despechecks\\\":72,\\\"s_loyalty_v2_review\\\":33,\\\"platform\\\":55,\\\"selected_radio_button\\\":0,\\\"fisher_2ow\\\":0,\\\"loyalty_non_adherents\\\":63,\\\"paymentMethod\\\":55,\\\"shifuMobileProductLabels\\\":0,\\\"obFee\\\":40,\\\"twoOneWay\\\":0,\\\"s_violet_sbox_v1\\\":17,\\\"s_flights_s_loyalty_v2\\\":14,\\\"flights_loyalty_non_adherents\\\":63,\\\"pkgImbatibleBrand-ctrl\\\":60,\\\"crossBorderTicketing\\\":0}\"; chktkn=ask3r5kj6ed0ksqrs7eio4cebk; searchId=243920d8-49cc-4271-972a-60d05221ef20; _gat_UA-36944350-2=1; xdsid=DCF9EDC0035E07BEDBFEE30E55F725C5; xduid=55D857BEFC5E27A8B84A7407D4A86B38; xdesp-rand-usr=292; abzTestingId=\"{\\\"flightsFisherAB\\\":90,\\\"pkgImbatibleBrand_ctrl\\\":76,\\\"s_flights_s_violet_sbox_v1\\\":21,\\\"upsellingConfig\\\":58,\\\"twoOneWayForceMX\\\":0,\\\"filterLandingFlights\\\":41,\\\"s_loyalty_v2_ctrl\\\":5,\\\"s_flights_l_violet_sbox_v1\\\":0,\\\"s_flights_l_loyalty_v2\\\":58,\\\"mostProfitablePromotion\\\":0,\\\"despechecks\\\":72,\\\"s_loyalty_v2_review\\\":33,\\\"platform\\\":55,\\\"selected_radio_button\\\":0,\\\"fisher_2ow\\\":0,\\\"loyalty_non_adherents\\\":63,\\\"paymentMethod\\\":55,\\\"shifuMobileProductLabels\\\":0,\\\"obFee\\\":40,\\\"twoOneWay\\\":0,\\\"s_violet_sbox_v1\\\":17,\\\"s_flights_s_loyalty_v2\\\":14,\\\"flights_loyalty_non_adherents\\\":63,\\\"pkgImbatibleBrand-ctrl\\\":60,\\\"crossBorderTicketing\\\":0}',\n",
    "            'Cache-Control': \"no-cache\",\n",
    "            'Postman-Token': \"4c6c6b9f-ed0a-477f-a787-c8cde039475b,4e35a9da-93ed-4602-825a-283f619d543b\",\n",
    "            'Host': \"www.decolar.com\",\n",
    "            'cache-control': \"no-cache\"\n",
    "            }\n",
    "\n",
    "        response = requests.request(\"GET\", url, headers=headers, params=querystring)\n",
    "        dataOneWay = json.loads(response.text)\n",
    "        print(origem, '->' , destino)\n",
    "        print(querystring)\n",
    "        print(dataOneWay)\n",
    "        if 'clusters' in dataOneWay:\n",
    "            for i in dataOneWay['clusters']:                \n",
    "                print(i['priceDetail']['mainFare']['amount'])\n",
    "\n",
    "\n"
   ]
  },
  {
   "cell_type": "code",
   "execution_count": null,
   "metadata": {},
   "outputs": [],
   "source": []
  }
 ],
 "metadata": {
  "kernelspec": {
   "display_name": "Python 3",
   "language": "python",
   "name": "python3"
  },
  "language_info": {
   "codemirror_mode": {
    "name": "ipython",
    "version": 3
   },
   "file_extension": ".py",
   "mimetype": "text/x-python",
   "name": "python",
   "nbconvert_exporter": "python",
   "pygments_lexer": "ipython3",
   "version": "3.7.4"
  }
 },
 "nbformat": 4,
 "nbformat_minor": 2
}
