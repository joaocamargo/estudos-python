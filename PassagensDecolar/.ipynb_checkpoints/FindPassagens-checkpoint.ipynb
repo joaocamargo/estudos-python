{
 "cells": [
  {
   "cell_type": "code",
   "execution_count": 60,
   "metadata": {},
   "outputs": [],
   "source": [
    "import urllib.request\n",
    "import json\n",
    "import pandas as pd\n",
    "from datetime import datetime\n",
    "import seaborn as sns\n",
    "cm = sns.light_palette(\"red\", as_cmap=True)\n",
    "#https://www.trilhaseaventuras.com.br/siglas-dos-principais-aeroportos-do-mundo-iata/\n",
    "\n",
    "#urlOneWay\n",
    "#https://www.decolar.com/shop/flights-busquets/api/v1/web/search?adults=1&children=0&infants=0&limit=4&site=BR&channel=site&from=POA&to=MIA&departureDate=2020-03-04&groupBy=default&orderBy=total_price_ascending&viewMode=CLUSTER&language=pt_BR&airlineSummary=false&chargesDespegar=false&user=e1861e3a-3357-4a76-861e-3a3357ea76c0&h=38dc1f66dbf4f5c8df105321c3286b5c&flow=SEARCH&di=1-0&clientType=WEB&disambiguationApplied=true&newDisambiguationService=true&initialOrigins=POA&initialDestinations=MIA&pageViewId=62ef8aab-ab53-406c-8429-885702acecbd"
   ]
  },
  {
   "cell_type": "code",
   "execution_count": 150,
   "metadata": {},
   "outputs": [
    {
     "name": "stdout",
     "output_type": "stream",
     "text": [
      "70.0\n"
     ]
    }
   ],
   "source": [
    "import requests\n",
    "\n",
    "url = \"https://www.pontosmultiplus.com.br/service/facilities/handle-points\"\n",
    "\n",
    "payload = \"logado=&select-name=1000&points=1000&action=calculate\"\n",
    "headers = {\n",
    "  'authority': 'www.pontosmultiplus.com.br',\n",
    "  'accept': 'application/json, text/javascript, */*; q=0.01',\n",
    "  'origin': 'https://www.pontosmultiplus.com.br',\n",
    "  'x-requested-with': 'XMLHttpRequest',\n",
    "  'user-agent': 'Mozilla/5.0 (Windows NT 10.0; Win64; x64) AppleWebKit/537.36 (KHTML, like Gecko) Chrome/79.0.3945.88 Safari/537.36',\n",
    "  'dnt': '1',\n",
    "  'content-type': 'application/x-www-form-urlencoded; charset=UTF-8',\n",
    "  'sec-fetch-site': 'same-origin',\n",
    "  'sec-fetch-mode': 'cors',\n",
    "  'referer': 'https://www.pontosmultiplus.com.br/facilidades/compradepontos',\n",
    "  'accept-encoding': 'gzip, deflate, br',\n",
    "  'accept-language': 'pt-BR,pt;q=0.9,en-US;q=0.8,en;q=0.7',\n",
    "  'cookie': 'userPrefLanguage=pt_BR; sback_client=573a40fecdbbbb66963e544d; sback_partner=false; sb_days=1549545557254; sback_browser=0-14236400-1548261174b4075e5fdbd390aa38772d39e7c7a352593b045121165093285c48973622c2c1-45877488-170246360, 20525122160-1549545560; sback_customer=$2QUxcVTzd0dOVENUtmd6dlTmp3RjlHVF90bxETQ1oWOad0dWF0QUN3T0hnYBlFVx0UO5BVWTRFVNZTblh2YqRkW2$12; chaordic_browserId=09b01e60-2300-11e9-8ced-6fbc9e419cda; chaordic_anonymousUserId=anon-09b01e60-2300-11e9-8ced-6fbc9e419cda; sback_total_sessions=2; _ducp=eyJfZHVjcCI6ImE4MzY0NWM2LTI3ZWYtNGUzZS1iMzNjLTI3YmY4ZTY4MDMwOCIsIl9kdWNwcHQiOiIifQ==; _fbp=fb.2.1550499169207.1066950068; cto_h2h=B; s_fid=2E4956A0C0C14E48-2CB286BB7EF81637; cto_lwid=01abc4e4-21f3-450f-9f35-57dee229928a; __utmz=196304045.1569964079.10.2.utmcsr=multiplus-emkt|utmccn=20190930_EMAIL_INSTITUCIONAL_BOAS_VINDAS_NOVA_MARCA_BRASIL-20191001|utmcmd=emkt|utmctr=14602|utmcct=cabecalho-ver_extrato_deslogado; s_vnum=1596641437499%26vn%3D2; s_lv=1569964112519; optionExchange=0; origin=[{%22city%22:{%22iataCode%22:%22POA%22%2C%22name%22:%22Porto%20Alegre%22}%2C%22type%22:%22airport%22%2C%22iataCode%22:%22POA%22%2C%22name%22:%22Salgado%20Filho%22%2C%22value%22:%22POA_airport%22%2C%22orderCodeNumber%22:%222%22%2C%22orderCode%22:%22Porto%20Alegre2%22%2C%22label%22:%22Porto%20Alegre%20(POA)%2C%20Salgado%20Filho%20(POA)%2C%20Brasil%22%2C%22position%22:%2200002Porto%20Alegre%20(POA)%2C%20Salgado%20Filho%20(POA)%2C%20Brasil%22}]; destiny=[{%22city%22:{%22iataCode%22:%22FRA%22%2C%22name%22:%22Frankfurt%22}%2C%22type%22:%22airport%22%2C%22iataCode%22:%22FRA%22%2C%22name%22:%22Frankfurt%20Intl.%22%2C%22value%22:%22FRA_airport%22%2C%22orderCodeNumber%22:%222%22%2C%22orderCode%22:%22Frankfurt2%22%2C%22label%22:%22Frankfurt%20(FRA)%2C%20Frankfurt%20Intl.%20(FRA)%2C%20Alemanha%22%2C%22position%22:%2200002Frankfurt%20(FRA)%2C%20Frankfurt%20Intl.%20(FRA)%2C%20Alemanha%22}]; cabinClass=Y; classesSuggestions=[{%22idCabin%22:1%2C%22cabinClass%22:%22Y%22%2C%22cabinName%22:%22Economy%22}%2C{%22idCabin%22:2%2C%22cabinClass%22:%22W%22%2C%22cabinName%22:%22Premium%20Economy%22}%2C{%22idCabin%22:3%2C%22cabinClass%22:%22J%22%2C%22cabinName%22:%22Premium%20Business%22}]; _gcl_au=1.1.278670892.1578924604; _hjid=59ae5b53-f6c8-48b1-bc67-fb8182856ead; chaordic_testGroup=%7B%22experiment%22%3Anull%2C%22group%22%3Anull%2C%22testCode%22%3Anull%2C%22code%22%3Anull%2C%22session%22%3Anull%7D; country_code=br; language_code=pt; __utmc=196304045; _esvan_ref.50060.=; language_country=pt_br; _ga=GA1.3.1171237216.1579530427; _gid=GA1.3.911523691.1579530427; _gaZ=GA1.3.1171237216.1579530427; _gaZ_gid=GA1.3.911523691.1579530427; return=Sat%20Apr%2011%202020%2012:00:00%20GMT-0300%20(Hor%C3%A1rio%20Padr%C3%A3o%20de%20Bras%C3%ADlia); trip=ida_vuelta; departure=Sat%20Apr%2004%202020%2012:00:00%20GMT-0300%20(Hor%C3%A1rio%20Padr%C3%A3o%20de%20Bras%C3%ADlia); SMSESSION=LOGGEDOFF; userIdZ=; __utma=196304045.1744687836.1549545551.1579547569.1579636257.15; analyticsHelper.cd38=ef144e288de8d22700e20cda9fce9ee5ee61b5d25b61bd0dab35f4ddc72e95ce; ATGSESSIONID=yiPNORqQ9P7PZ74G-Syy7CLAjB8uk3Tw0Wc4dHWdUyC7KjCIe4s0u0021-680739279; __zjc7749=4962761565; userTags=%7B%22id%22%3A%22Anonimo%22%2C%22age%22%3A0%2C%22gender%22%3Anull%2C%22email%22%3Anull%2C%22emailHash%22%3Anull%2C%22country%22%3Anull%2C%22city%22%3Anull%2C%22state%22%3Anull%2C%22zipCode%22%3Anull%2C%22typeOfParticipation%22%3Anull%2C%22balance%22%3Anull%2C%22status%22%3A%22deslogado%22%7D; _gac_UA-83192457-1=1.1579696070.CjwKCAiAgqDxBRBTEiwA59eEN-j8nGbsIpfJMIrCCHTfzUi4saF5CmN227pOPsXIuXAOZmOQs_DMSRoCBtMQAvD_BwE; _gcl_aw=GCL.1579696070.CjwKCAiAgqDxBRBTEiwA59eEN-j8nGbsIpfJMIrCCHTfzUi4saF5CmN227pOPsXIuXAOZmOQs_DMSRoCBtMQAvD_BwE; _dc_gtm_UA-83192457-1=1; _gac_UA-83192457-13=1.1579696070.CjwKCAiAgqDxBRBTEiwA59eEN-j8nGbsIpfJMIrCCHTfzUi4saF5CmN227pOPsXIuXAOZmOQs_DMSRoCBtMQAvD_BwE; _dc_gtm_UA-83192457-13=1; __z_a=3200530082274793935727479; JSESSIONID=_hHNOSuko30OZo1X7XyjT4_6rnAXanFcwA7M9PShrPBBjztzhMrIu0021-1010243761; SS_X_JSESSIONID=KoLNOSzOIq0SooUobVecEo7ju0GL-8Y2O_kOVlqjZsm5rKnmkG33u0021-183582721; akavpau_multiplusgeral=1579696676~id=48e1b4d4309a5f9f09664afd46406b0e; __zjc872=4962761577; _gat=1'\n",
    "}\n",
    "\n",
    "response = requests.request(\"POST\", url, headers=headers, data = payload)\n",
    "resultPontos =  response.text.encode('utf8')\n",
    "resPontos = json.loads(resultPontos.decode('utf-8'))\n",
    "print(resPontos['data']['total'])\n",
    "PONTOSMULTIPLUS = resPontos['data']['total']"
   ]
  },
  {
   "cell_type": "code",
   "execution_count": 61,
   "metadata": {},
   "outputs": [],
   "source": [
    "dataInicial = '2020-07-03'\n",
    "dataFinal = '2020-07-20'\n",
    "\n",
    "idaEvolta=True\n",
    "#tripType=''\n",
    "\n",
    "#dataInicial = '2020-04-08'\n",
    "#dataFinal = '2020-04-22'\n",
    "\n",
    "#if idaEvolta:\n",
    "#    tripType = 'roundtrip'\n",
    "#else:\n",
    "#    tripType = 'oneway'\n",
    "\n",
    "specificDate = False"
   ]
  },
  {
   "cell_type": "code",
   "execution_count": 62,
   "metadata": {},
   "outputs": [],
   "source": [
    "origens = ['POA','GRU','GIG']\n",
    "destinos = ['ATL','MIA']\n",
    "\n",
    "#dfDict.append({'de':origem,'para':destino,'Ida': p['departureDate'],'Volta':arr['arrivalDate'],'preco':arr['price'][\"amount\"]})"
   ]
  },
  {
   "cell_type": "code",
   "execution_count": 63,
   "metadata": {
    "scrolled": true
   },
   "outputs": [
    {
     "name": "stdout",
     "output_type": "stream",
     "text": [
      "POA -> ATL\n",
      "de:2020-07-03  ate  2020-07-20 - valor: 5387\n",
      "de:2020-07-06  ate  2020-07-20 - valor: 5006\n",
      "\n",
      "('Voo mais barato POA -> ATL de:2020-07-06', ' ate ', '2020-07-20', '- valor: 5006')\n",
      "5006\n",
      "\n",
      "POA -> MIA\n",
      "de:2020-06-30  ate  2020-07-17 - valor: 3150\n",
      "de:2020-06-30  ate  2020-07-18 - valor: 3061\n",
      "de:2020-06-30  ate  2020-07-19 - valor: 3015\n",
      "de:2020-06-30  ate  2020-07-20 - valor: 3157\n",
      "de:2020-06-30  ate  2020-07-21 - valor: 3167\n",
      "de:2020-06-30  ate  2020-07-22 - valor: 3135\n",
      "de:2020-06-30  ate  2020-07-23 - valor: 3137\n",
      "de:2020-07-01  ate  2020-07-17 - valor: 3440\n",
      "de:2020-07-01  ate  2020-07-18 - valor: 3596\n",
      "de:2020-07-01  ate  2020-07-19 - valor: 3579\n",
      "de:2020-07-01  ate  2020-07-20 - valor: 3291\n",
      "de:2020-07-01  ate  2020-07-21 - valor: 3292\n",
      "de:2020-07-01  ate  2020-07-22 - valor: 3381\n",
      "de:2020-07-01  ate  2020-07-23 - valor: 3453\n",
      "de:2020-07-02  ate  2020-07-17 - valor: 3699\n",
      "de:2020-07-02  ate  2020-07-18 - valor: 3635\n",
      "de:2020-07-02  ate  2020-07-19 - valor: 3612\n",
      "de:2020-07-02  ate  2020-07-20 - valor: 3687\n",
      "de:2020-07-02  ate  2020-07-21 - valor: 3686\n",
      "de:2020-07-02  ate  2020-07-22 - valor: 3678\n",
      "de:2020-07-02  ate  2020-07-23 - valor: 3701\n",
      "de:2020-07-03  ate  2020-07-17 - valor: 3619\n",
      "de:2020-07-03  ate  2020-07-18 - valor: 3561\n",
      "de:2020-07-03  ate  2020-07-19 - valor: 3582\n",
      "de:2020-07-03  ate  2020-07-20 - valor: 3660\n",
      "de:2020-07-03  ate  2020-07-21 - valor: 3668\n",
      "de:2020-07-03  ate  2020-07-22 - valor: 3667\n",
      "de:2020-07-03  ate  2020-07-23 - valor: 3723\n",
      "de:2020-07-04  ate  2020-07-17 - valor: 3770\n",
      "de:2020-07-04  ate  2020-07-18 - valor: 3726\n",
      "de:2020-07-04  ate  2020-07-19 - valor: 3670\n",
      "de:2020-07-04  ate  2020-07-20 - valor: 3722\n",
      "de:2020-07-04  ate  2020-07-21 - valor: 3724\n",
      "de:2020-07-04  ate  2020-07-22 - valor: 3717\n",
      "de:2020-07-04  ate  2020-07-23 - valor: 3803\n",
      "de:2020-07-05  ate  2020-07-17 - valor: 3863\n",
      "de:2020-07-05  ate  2020-07-18 - valor: 3817\n",
      "de:2020-07-05  ate  2020-07-19 - valor: 3844\n",
      "de:2020-07-05  ate  2020-07-20 - valor: 3795\n",
      "de:2020-07-05  ate  2020-07-21 - valor: 3766\n",
      "de:2020-07-05  ate  2020-07-22 - valor: 3795\n",
      "de:2020-07-05  ate  2020-07-23 - valor: 4048\n",
      "de:2020-07-06  ate  2020-07-17 - valor: 3815\n",
      "de:2020-07-06  ate  2020-07-18 - valor: 3714\n",
      "de:2020-07-06  ate  2020-07-19 - valor: 3812\n",
      "de:2020-07-06  ate  2020-07-20 - valor: 3687\n",
      "de:2020-07-06  ate  2020-07-21 - valor: 3733\n",
      "de:2020-07-06  ate  2020-07-22 - valor: 3744\n",
      "de:2020-07-06  ate  2020-07-23 - valor: 3749\n",
      "\n",
      "('Voo mais barato POA -> MIA de:2020-06-30', ' ate ', '2020-07-19', '- valor: 3015')\n",
      "3015\n",
      "\n",
      "GRU -> ATL\n",
      "de:2020-07-03  ate  2020-07-20 - valor: 4999\n",
      "\n",
      "('Voo mais barato GRU -> ATL de:2020-07-03', ' ate ', '2020-07-20', '- valor: 4999')\n",
      "4999\n",
      "\n",
      "GRU -> MIA\n",
      "de:2020-06-30  ate  2020-07-17 - valor: 3457\n",
      "de:2020-06-30  ate  2020-07-18 - valor: 3471\n",
      "de:2020-06-30  ate  2020-07-19 - valor: 3424\n",
      "de:2020-06-30  ate  2020-07-20 - valor: 3455\n",
      "de:2020-06-30  ate  2020-07-21 - valor: 3437\n",
      "de:2020-06-30  ate  2020-07-22 - valor: 3452\n",
      "de:2020-06-30  ate  2020-07-23 - valor: 3582\n",
      "de:2020-07-01  ate  2020-07-17 - valor: 3451\n",
      "de:2020-07-01  ate  2020-07-18 - valor: 3437\n",
      "de:2020-07-01  ate  2020-07-19 - valor: 3466\n",
      "de:2020-07-01  ate  2020-07-20 - valor: 3583\n",
      "de:2020-07-01  ate  2020-07-21 - valor: 3180\n",
      "de:2020-07-01  ate  2020-07-22 - valor: 3367\n",
      "de:2020-07-01  ate  2020-07-23 - valor: 3407\n",
      "de:2020-07-02  ate  2020-07-17 - valor: 3604\n",
      "de:2020-07-02  ate  2020-07-18 - valor: 3598\n",
      "de:2020-07-02  ate  2020-07-19 - valor: 3583\n",
      "de:2020-07-02  ate  2020-07-20 - valor: 3473\n",
      "de:2020-07-02  ate  2020-07-21 - valor: 3469\n",
      "de:2020-07-02  ate  2020-07-22 - valor: 3449\n",
      "de:2020-07-02  ate  2020-07-23 - valor: 3393\n",
      "de:2020-07-03  ate  2020-07-17 - valor: 3836\n",
      "de:2020-07-03  ate  2020-07-18 - valor: 3602\n",
      "de:2020-07-03  ate  2020-07-19 - valor: 3367\n",
      "de:2020-07-03  ate  2020-07-20 - valor: 3558\n",
      "de:2020-07-03  ate  2020-07-21 - valor: 3664\n",
      "de:2020-07-03  ate  2020-07-22 - valor: 3568\n",
      "de:2020-07-03  ate  2020-07-23 - valor: 3542\n",
      "de:2020-07-04  ate  2020-07-17 - valor: 3637\n",
      "de:2020-07-04  ate  2020-07-18 - valor: 3691\n",
      "de:2020-07-04  ate  2020-07-19 - valor: 3607\n",
      "de:2020-07-04  ate  2020-07-20 - valor: 3596\n",
      "de:2020-07-04  ate  2020-07-21 - valor: 3664\n",
      "de:2020-07-04  ate  2020-07-22 - valor: 3632\n",
      "de:2020-07-04  ate  2020-07-23 - valor: 3625\n",
      "de:2020-07-05  ate  2020-07-17 - valor: 3623\n",
      "de:2020-07-05  ate  2020-07-18 - valor: 3642\n",
      "de:2020-07-05  ate  2020-07-19 - valor: 3577\n",
      "de:2020-07-05  ate  2020-07-20 - valor: 3618\n",
      "de:2020-07-05  ate  2020-07-21 - valor: 3612\n",
      "de:2020-07-05  ate  2020-07-22 - valor: 3637\n",
      "de:2020-07-05  ate  2020-07-23 - valor: 3691\n",
      "de:2020-07-06  ate  2020-07-17 - valor: 3502\n",
      "de:2020-07-06  ate  2020-07-18 - valor: 3497\n",
      "de:2020-07-06  ate  2020-07-19 - valor: 3480\n",
      "de:2020-07-06  ate  2020-07-20 - valor: 3423\n",
      "de:2020-07-06  ate  2020-07-21 - valor: 3418\n",
      "de:2020-07-06  ate  2020-07-22 - valor: 3432\n",
      "de:2020-07-06  ate  2020-07-23 - valor: 3393\n",
      "\n",
      "('Voo mais barato GRU -> MIA de:2020-07-01', ' ate ', '2020-07-21', '- valor: 3180')\n",
      "3180\n",
      "\n",
      "GIG -> ATL\n",
      "de:2020-07-03  ate  2020-07-20 - valor: 5418\n",
      "\n",
      "('Voo mais barato GIG -> ATL de:2020-07-03', ' ate ', '2020-07-20', '- valor: 5418')\n",
      "5418\n",
      "\n",
      "GIG -> MIA\n",
      "de:2020-06-30  ate  2020-07-17 - valor: 3565\n",
      "de:2020-06-30  ate  2020-07-18 - valor: 3588\n",
      "de:2020-06-30  ate  2020-07-19 - valor: 3594\n",
      "de:2020-06-30  ate  2020-07-20 - valor: 3469\n",
      "de:2020-06-30  ate  2020-07-21 - valor: 3480\n",
      "de:2020-06-30  ate  2020-07-22 - valor: 3499\n",
      "de:2020-06-30  ate  2020-07-23 - valor: 3581\n",
      "de:2020-07-01  ate  2020-07-17 - valor: 3589\n",
      "de:2020-07-01  ate  2020-07-18 - valor: 3595\n",
      "de:2020-07-01  ate  2020-07-19 - valor: 3621\n",
      "de:2020-07-01  ate  2020-07-20 - valor: 3525\n",
      "de:2020-07-01  ate  2020-07-21 - valor: 3540\n",
      "de:2020-07-01  ate  2020-07-22 - valor: 3520\n",
      "de:2020-07-01  ate  2020-07-23 - valor: 3618\n",
      "de:2020-07-02  ate  2020-07-17 - valor: 3740\n",
      "de:2020-07-02  ate  2020-07-18 - valor: 3718\n",
      "de:2020-07-02  ate  2020-07-19 - valor: 3700\n",
      "de:2020-07-02  ate  2020-07-20 - valor: 3616\n",
      "de:2020-07-02  ate  2020-07-21 - valor: 3650\n",
      "de:2020-07-02  ate  2020-07-22 - valor: 3654\n",
      "de:2020-07-02  ate  2020-07-23 - valor: 3723\n",
      "de:2020-07-03  ate  2020-07-17 - valor: 3772\n",
      "de:2020-07-03  ate  2020-07-18 - valor: 3757\n",
      "de:2020-07-03  ate  2020-07-19 - valor: 3704\n",
      "de:2020-07-03  ate  2020-07-20 - valor: 3621\n",
      "de:2020-07-03  ate  2020-07-21 - valor: 3653\n",
      "de:2020-07-03  ate  2020-07-22 - valor: 3663\n",
      "de:2020-07-03  ate  2020-07-23 - valor: 3822\n",
      "de:2020-07-04  ate  2020-07-17 - valor: 3702\n",
      "de:2020-07-04  ate  2020-07-18 - valor: 3717\n",
      "de:2020-07-04  ate  2020-07-19 - valor: 3671\n",
      "de:2020-07-04  ate  2020-07-20 - valor: 3631\n",
      "de:2020-07-04  ate  2020-07-21 - valor: 3662\n",
      "de:2020-07-04  ate  2020-07-22 - valor: 3666\n",
      "de:2020-07-04  ate  2020-07-23 - valor: 3718\n",
      "de:2020-07-05  ate  2020-07-17 - valor: 3636\n",
      "de:2020-07-05  ate  2020-07-18 - valor: 3610\n",
      "de:2020-07-05  ate  2020-07-19 - valor: 3585\n",
      "de:2020-07-05  ate  2020-07-20 - valor: 3608\n",
      "de:2020-07-05  ate  2020-07-21 - valor: 3605\n",
      "de:2020-07-05  ate  2020-07-22 - valor: 3614\n",
      "de:2020-07-05  ate  2020-07-23 - valor: 3645\n",
      "de:2020-07-06  ate  2020-07-17 - valor: 3690\n",
      "de:2020-07-06  ate  2020-07-18 - valor: 3691\n",
      "de:2020-07-06  ate  2020-07-19 - valor: 3671\n",
      "de:2020-07-06  ate  2020-07-20 - valor: 3633\n",
      "de:2020-07-06  ate  2020-07-21 - valor: 3636\n",
      "de:2020-07-06  ate  2020-07-22 - valor: 3637\n",
      "de:2020-07-06  ate  2020-07-23 - valor: 3677\n",
      "\n",
      "('Voo mais barato GIG -> MIA de:2020-06-30', ' ate ', '2020-07-20', '- valor: 3469')\n",
      "3469\n",
      "\n",
      "('Voo mais barato POA -> ATL de:2020-07-03', ' ate ', '2020-07-20', '- valor: 5387')\n",
      "('Voo mais barato POA -> ATL de:2020-07-06', ' ate ', '2020-07-20', '- valor: 5006')\n",
      "('Voo mais barato POA -> MIA de:2020-06-30', ' ate ', '2020-07-17', '- valor: 3150')\n",
      "('Voo mais barato POA -> MIA de:2020-06-30', ' ate ', '2020-07-18', '- valor: 3061')\n",
      "('Voo mais barato POA -> MIA de:2020-06-30', ' ate ', '2020-07-19', '- valor: 3015')\n",
      "('Voo mais barato GRU -> ATL de:2020-07-03', ' ate ', '2020-07-20', '- valor: 4999')\n",
      "('Voo mais barato GRU -> MIA de:2020-06-30', ' ate ', '2020-07-17', '- valor: 3457')\n",
      "('Voo mais barato GRU -> MIA de:2020-06-30', ' ate ', '2020-07-19', '- valor: 3424')\n",
      "('Voo mais barato GRU -> MIA de:2020-07-01', ' ate ', '2020-07-21', '- valor: 3180')\n",
      "('Voo mais barato GIG -> ATL de:2020-07-03', ' ate ', '2020-07-20', '- valor: 5418')\n",
      "('Voo mais barato GIG -> MIA de:2020-06-30', ' ate ', '2020-07-17', '- valor: 3565')\n",
      "('Voo mais barato GIG -> MIA de:2020-06-30', ' ate ', '2020-07-20', '- valor: 3469')\n"
     ]
    }
   ],
   "source": [
    "resumo = []\n",
    "dfDict =[]\n",
    "\n",
    "for origem in origens:\n",
    "    for destino in destinos:  \n",
    "        minValue = 999999999\n",
    "        fraseFinal= ''\n",
    "        print(origem + ' -> '+ destino)\n",
    "        urlDecolar = '''https://www.decolar.com/shop/flights-busquets/api/v1/web/calendar-prices/matrix?adults=1&children=0&infants=0&limit=4&site=BR&channel=site&from={origem}&to={destino}&departureDate={dataInicial}&returnDate={dataFinal}&orderBy=total_price_ascending&viewMode=CLUSTER&language=pt_BR&clientType=WEB&initialOrigins={origem}&initialDestinations={destino}&pageViewId=b35e67df-abc9-4308-875f-c3810b3729e4&mustIncludeDates=NA_NA&currency=BRL&breakdownType=TOTAL_FARE_ONLY'''.format(dataInicial=dataInicial,dataFinal=dataFinal,origem=origem,destino=destino)\n",
    "        #print(urlDecolar)\n",
    "        with urllib.request.urlopen(urlDecolar) as url:\n",
    "            s = url.read()\n",
    "            data = json.loads(s.decode('utf-8'))\n",
    "            #print(data)\n",
    "            for p in data['departures']:\n",
    "                for arr in p['arrivals']:\n",
    "                    if 'price' in arr:\n",
    "                        dfDict.append({'DataPesquisa':datetime.now().strftime(\"%d/%m/%Y %H:%M:%S\"),'de':origem,'para':destino,'Ida': p['departureDate'],'Volta':arr['arrivalDate'],'preco':arr['price'][\"amount\"]})\n",
    "                        if specificDate:\n",
    "                            if p['departureDate'] == dataInicial and arr['arrivalDate'] == dataFinal:                                                                \n",
    "                                    if minValue > arr['price'][\"amount\"]:\n",
    "                                        minValue = arr['price'][\"amount\"]\n",
    "                                        fraseFinal = 'Voo mais barato '+origem + ' -> '+ destino+' de:' + p['departureDate'], ' ate ',arr['arrivalDate'],'- valor: ' + str(arr['price'][\"amount\"])                                \n",
    "                                        resumo.append(fraseFinal)\n",
    "                                    print('de:' + p['departureDate'], ' ate ',arr['arrivalDate'],'- valor: ' + str(arr['price'][\"amount\"]))                        \n",
    "                        else:                        \n",
    "                                if minValue > arr['price'][\"amount\"]:\n",
    "                                    minValue = arr['price'][\"amount\"]\n",
    "                                    fraseFinal = 'Voo mais barato '+origem + ' -> '+ destino+' de:' + p['departureDate'], ' ate ',arr['arrivalDate'],'- valor: ' + str(arr['price'][\"amount\"])                                \n",
    "                                    resumo.append(fraseFinal)\n",
    "                                print('de:' + p['departureDate'], ' ate ',arr['arrivalDate'],'- valor: ' + str(arr['price'][\"amount\"]))                        \n",
    "            print('')\n",
    "            print(fraseFinal)\n",
    "            print(minValue)\n",
    "            print('')\n",
    "                        \n",
    "for r in resumo:\n",
    "    print(r)\n",
    "                    "
   ]
  },
  {
   "cell_type": "code",
   "execution_count": 64,
   "metadata": {
    "scrolled": false
   },
   "outputs": [
    {
     "data": {
      "text/html": [
       "<div>\n",
       "<style scoped>\n",
       "    .dataframe tbody tr th:only-of-type {\n",
       "        vertical-align: middle;\n",
       "    }\n",
       "\n",
       "    .dataframe tbody tr th {\n",
       "        vertical-align: top;\n",
       "    }\n",
       "\n",
       "    .dataframe thead th {\n",
       "        text-align: right;\n",
       "    }\n",
       "</style>\n",
       "<table border=\"1\" class=\"dataframe\">\n",
       "  <thead>\n",
       "    <tr style=\"text-align: right;\">\n",
       "      <th></th>\n",
       "      <th>preco</th>\n",
       "    </tr>\n",
       "  </thead>\n",
       "  <tbody>\n",
       "    <tr>\n",
       "      <th>count</th>\n",
       "      <td>151.000000</td>\n",
       "    </tr>\n",
       "    <tr>\n",
       "      <th>mean</th>\n",
       "      <td>3631.192053</td>\n",
       "    </tr>\n",
       "    <tr>\n",
       "      <th>std</th>\n",
       "      <td>308.814868</td>\n",
       "    </tr>\n",
       "    <tr>\n",
       "      <th>min</th>\n",
       "      <td>3015.000000</td>\n",
       "    </tr>\n",
       "    <tr>\n",
       "      <th>25%</th>\n",
       "      <td>3500.500000</td>\n",
       "    </tr>\n",
       "    <tr>\n",
       "      <th>50%</th>\n",
       "      <td>3621.000000</td>\n",
       "    </tr>\n",
       "    <tr>\n",
       "      <th>75%</th>\n",
       "      <td>3695.000000</td>\n",
       "    </tr>\n",
       "    <tr>\n",
       "      <th>max</th>\n",
       "      <td>5418.000000</td>\n",
       "    </tr>\n",
       "  </tbody>\n",
       "</table>\n",
       "</div>"
      ],
      "text/plain": [
       "             preco\n",
       "count   151.000000\n",
       "mean   3631.192053\n",
       "std     308.814868\n",
       "min    3015.000000\n",
       "25%    3500.500000\n",
       "50%    3621.000000\n",
       "75%    3695.000000\n",
       "max    5418.000000"
      ]
     },
     "metadata": {},
     "output_type": "display_data"
    },
    {
     "data": {
      "text/html": [
       "<style  type=\"text/css\" >\n",
       "    #T_f680ffa4_3e18_11ea_ba26_001a7dda7111row0_col5 {\n",
       "            background-color:  #fff7ec;\n",
       "            color:  #000000;\n",
       "        }    #T_f680ffa4_3e18_11ea_ba26_001a7dda7111row1_col5 {\n",
       "            background-color:  #fdc28b;\n",
       "            color:  #000000;\n",
       "        }    #T_f680ffa4_3e18_11ea_ba26_001a7dda7111row2_col5 {\n",
       "            background-color:  #ad0000;\n",
       "            color:  #f1f1f1;\n",
       "        }    #T_f680ffa4_3e18_11ea_ba26_001a7dda7111row3_col5 {\n",
       "            background-color:  #a60000;\n",
       "            color:  #f1f1f1;\n",
       "        }    #T_f680ffa4_3e18_11ea_ba26_001a7dda7111row4_col5 {\n",
       "            background-color:  #7f0000;\n",
       "            color:  #f1f1f1;\n",
       "        }</style><table id=\"T_f680ffa4_3e18_11ea_ba26_001a7dda7111\" ><thead>    <tr>        <th class=\"blank level0\" ></th>        <th class=\"col_heading level0 col0\" >DataPesquisa</th>        <th class=\"col_heading level0 col1\" >Ida</th>        <th class=\"col_heading level0 col2\" >Volta</th>        <th class=\"col_heading level0 col3\" >de</th>        <th class=\"col_heading level0 col4\" >para</th>        <th class=\"col_heading level0 col5\" >preco</th>    </tr></thead><tbody>\n",
       "                <tr>\n",
       "                        <th id=\"T_f680ffa4_3e18_11ea_ba26_001a7dda7111level0_row0\" class=\"row_heading level0 row0\" >4</th>\n",
       "                        <td id=\"T_f680ffa4_3e18_11ea_ba26_001a7dda7111row0_col0\" class=\"data row0 col0\" >23/01/2020 16:45:46</td>\n",
       "                        <td id=\"T_f680ffa4_3e18_11ea_ba26_001a7dda7111row0_col1\" class=\"data row0 col1\" >2020-06-30</td>\n",
       "                        <td id=\"T_f680ffa4_3e18_11ea_ba26_001a7dda7111row0_col2\" class=\"data row0 col2\" >2020-07-19</td>\n",
       "                        <td id=\"T_f680ffa4_3e18_11ea_ba26_001a7dda7111row0_col3\" class=\"data row0 col3\" >POA</td>\n",
       "                        <td id=\"T_f680ffa4_3e18_11ea_ba26_001a7dda7111row0_col4\" class=\"data row0 col4\" >MIA</td>\n",
       "                        <td id=\"T_f680ffa4_3e18_11ea_ba26_001a7dda7111row0_col5\" class=\"data row0 col5\" >3015</td>\n",
       "            </tr>\n",
       "            <tr>\n",
       "                        <th id=\"T_f680ffa4_3e18_11ea_ba26_001a7dda7111level0_row1\" class=\"row_heading level0 row1\" >3</th>\n",
       "                        <td id=\"T_f680ffa4_3e18_11ea_ba26_001a7dda7111row1_col0\" class=\"data row1 col0\" >23/01/2020 16:45:46</td>\n",
       "                        <td id=\"T_f680ffa4_3e18_11ea_ba26_001a7dda7111row1_col1\" class=\"data row1 col1\" >2020-06-30</td>\n",
       "                        <td id=\"T_f680ffa4_3e18_11ea_ba26_001a7dda7111row1_col2\" class=\"data row1 col2\" >2020-07-18</td>\n",
       "                        <td id=\"T_f680ffa4_3e18_11ea_ba26_001a7dda7111row1_col3\" class=\"data row1 col3\" >POA</td>\n",
       "                        <td id=\"T_f680ffa4_3e18_11ea_ba26_001a7dda7111row1_col4\" class=\"data row1 col4\" >MIA</td>\n",
       "                        <td id=\"T_f680ffa4_3e18_11ea_ba26_001a7dda7111row1_col5\" class=\"data row1 col5\" >3061</td>\n",
       "            </tr>\n",
       "            <tr>\n",
       "                        <th id=\"T_f680ffa4_3e18_11ea_ba26_001a7dda7111level0_row2\" class=\"row_heading level0 row2\" >7</th>\n",
       "                        <td id=\"T_f680ffa4_3e18_11ea_ba26_001a7dda7111row2_col0\" class=\"data row2 col0\" >23/01/2020 16:45:46</td>\n",
       "                        <td id=\"T_f680ffa4_3e18_11ea_ba26_001a7dda7111row2_col1\" class=\"data row2 col1\" >2020-06-30</td>\n",
       "                        <td id=\"T_f680ffa4_3e18_11ea_ba26_001a7dda7111row2_col2\" class=\"data row2 col2\" >2020-07-22</td>\n",
       "                        <td id=\"T_f680ffa4_3e18_11ea_ba26_001a7dda7111row2_col3\" class=\"data row2 col3\" >POA</td>\n",
       "                        <td id=\"T_f680ffa4_3e18_11ea_ba26_001a7dda7111row2_col4\" class=\"data row2 col4\" >MIA</td>\n",
       "                        <td id=\"T_f680ffa4_3e18_11ea_ba26_001a7dda7111row2_col5\" class=\"data row2 col5\" >3135</td>\n",
       "            </tr>\n",
       "            <tr>\n",
       "                        <th id=\"T_f680ffa4_3e18_11ea_ba26_001a7dda7111level0_row3\" class=\"row_heading level0 row3\" >8</th>\n",
       "                        <td id=\"T_f680ffa4_3e18_11ea_ba26_001a7dda7111row3_col0\" class=\"data row3 col0\" >23/01/2020 16:45:46</td>\n",
       "                        <td id=\"T_f680ffa4_3e18_11ea_ba26_001a7dda7111row3_col1\" class=\"data row3 col1\" >2020-06-30</td>\n",
       "                        <td id=\"T_f680ffa4_3e18_11ea_ba26_001a7dda7111row3_col2\" class=\"data row3 col2\" >2020-07-23</td>\n",
       "                        <td id=\"T_f680ffa4_3e18_11ea_ba26_001a7dda7111row3_col3\" class=\"data row3 col3\" >POA</td>\n",
       "                        <td id=\"T_f680ffa4_3e18_11ea_ba26_001a7dda7111row3_col4\" class=\"data row3 col4\" >MIA</td>\n",
       "                        <td id=\"T_f680ffa4_3e18_11ea_ba26_001a7dda7111row3_col5\" class=\"data row3 col5\" >3137</td>\n",
       "            </tr>\n",
       "            <tr>\n",
       "                        <th id=\"T_f680ffa4_3e18_11ea_ba26_001a7dda7111level0_row4\" class=\"row_heading level0 row4\" >2</th>\n",
       "                        <td id=\"T_f680ffa4_3e18_11ea_ba26_001a7dda7111row4_col0\" class=\"data row4 col0\" >23/01/2020 16:45:46</td>\n",
       "                        <td id=\"T_f680ffa4_3e18_11ea_ba26_001a7dda7111row4_col1\" class=\"data row4 col1\" >2020-06-30</td>\n",
       "                        <td id=\"T_f680ffa4_3e18_11ea_ba26_001a7dda7111row4_col2\" class=\"data row4 col2\" >2020-07-17</td>\n",
       "                        <td id=\"T_f680ffa4_3e18_11ea_ba26_001a7dda7111row4_col3\" class=\"data row4 col3\" >POA</td>\n",
       "                        <td id=\"T_f680ffa4_3e18_11ea_ba26_001a7dda7111row4_col4\" class=\"data row4 col4\" >MIA</td>\n",
       "                        <td id=\"T_f680ffa4_3e18_11ea_ba26_001a7dda7111row4_col5\" class=\"data row4 col5\" >3150</td>\n",
       "            </tr>\n",
       "    </tbody></table>"
      ],
      "text/plain": [
       "<pandas.io.formats.style.Styler at 0x1f2d2e50>"
      ]
     },
     "execution_count": 64,
     "metadata": {},
     "output_type": "execute_result"
    }
   ],
   "source": [
    "df = pd.DataFrame.from_dict(dfDict)\n",
    "\n",
    "if specificDate:\n",
    "    df = df[df['Ida']==dataInicial]\n",
    "    df = df[df['Volta']==dataFinal]\n",
    "display(df.describe())\n",
    "df.sort_values(by='preco',ascending=True).head(5).style.background_gradient(cmap='OrRd')"
   ]
  },
  {
   "cell_type": "code",
   "execution_count": 65,
   "metadata": {},
   "outputs": [],
   "source": [
    "with open('historicoPesquisaPrecos.csv', 'a') as f:\n",
    "    df.to_csv(f, mode='a',header=f.tell()==0)"
   ]
  },
  {
   "cell_type": "code",
   "execution_count": 66,
   "metadata": {},
   "outputs": [],
   "source": [
    "dfGrafico = pd.read_csv(\"historicoPesquisaPrecos.csv\") \n"
   ]
  },
  {
   "cell_type": "code",
   "execution_count": 67,
   "metadata": {},
   "outputs": [],
   "source": [
    "dfGrafico = dfGrafico[dfGrafico['Ida']>='2020-07-03']\n",
    "dfGrafico = dfGrafico[dfGrafico['Ida']<='2020-07-07']\n",
    "dfGrafico = dfGrafico[dfGrafico['Volta']>='2020-07-19']\n",
    "dfGrafico = dfGrafico[dfGrafico['Volta']<='2020-07-23']"
   ]
  },
  {
   "cell_type": "code",
   "execution_count": 68,
   "metadata": {},
   "outputs": [],
   "source": [
    "dfGrafico['DataPesquisa'] = dfGrafico['DataPesquisa'].apply(lambda x:x[0:13])\n",
    "dfGrafico['DataPesquisaDATA']=dfGrafico['DataPesquisa'].apply(lambda x:pd.to_datetime(x[0:10]))\n",
    "dfGrafico['Dias'] = dfGrafico.apply(lambda x: int(str(pd.to_datetime(x['Volta'])- pd.to_datetime(x['Ida']))[0:2]),axis=1)"
   ]
  },
  {
   "cell_type": "code",
   "execution_count": 69,
   "metadata": {
    "scrolled": true
   },
   "outputs": [
    {
     "data": {
      "text/html": [
       "<div>\n",
       "<style scoped>\n",
       "    .dataframe tbody tr th:only-of-type {\n",
       "        vertical-align: middle;\n",
       "    }\n",
       "\n",
       "    .dataframe tbody tr th {\n",
       "        vertical-align: top;\n",
       "    }\n",
       "\n",
       "    .dataframe thead th {\n",
       "        text-align: right;\n",
       "    }\n",
       "</style>\n",
       "<table border=\"1\" class=\"dataframe\">\n",
       "  <thead>\n",
       "    <tr style=\"text-align: right;\">\n",
       "      <th></th>\n",
       "      <th>Unnamed: 0</th>\n",
       "      <th>DataPesquisa</th>\n",
       "      <th>Ida</th>\n",
       "      <th>Volta</th>\n",
       "      <th>de</th>\n",
       "      <th>para</th>\n",
       "      <th>preco</th>\n",
       "      <th>DataPesquisaDATA</th>\n",
       "      <th>Dias</th>\n",
       "      <th>OrigemDestino</th>\n",
       "      <th>EspecificoIda</th>\n",
       "      <th>EspecificoVolta</th>\n",
       "      <th>EspecificoTodos</th>\n",
       "    </tr>\n",
       "  </thead>\n",
       "  <tbody>\n",
       "    <tr>\n",
       "      <th>0</th>\n",
       "      <td>0</td>\n",
       "      <td>16/01/2020 15</td>\n",
       "      <td>2020-07-05</td>\n",
       "      <td>2020-07-20</td>\n",
       "      <td>POA</td>\n",
       "      <td>ATL</td>\n",
       "      <td>6561</td>\n",
       "      <td>2020-01-16</td>\n",
       "      <td>15</td>\n",
       "      <td>POAATL</td>\n",
       "      <td>POAATL-2020-07-05</td>\n",
       "      <td>POAATL-2020-07-20</td>\n",
       "      <td>POAATL-2020-07-05-2020-07-20</td>\n",
       "    </tr>\n",
       "    <tr>\n",
       "      <th>10</th>\n",
       "      <td>10</td>\n",
       "      <td>16/01/2020 15</td>\n",
       "      <td>2020-07-03</td>\n",
       "      <td>2020-07-19</td>\n",
       "      <td>POA</td>\n",
       "      <td>MIA</td>\n",
       "      <td>3789</td>\n",
       "      <td>2020-01-16</td>\n",
       "      <td>16</td>\n",
       "      <td>POAMIA</td>\n",
       "      <td>POAMIA-2020-07-03</td>\n",
       "      <td>POAMIA-2020-07-19</td>\n",
       "      <td>POAMIA-2020-07-03-2020-07-19</td>\n",
       "    </tr>\n",
       "    <tr>\n",
       "      <th>11</th>\n",
       "      <td>11</td>\n",
       "      <td>16/01/2020 15</td>\n",
       "      <td>2020-07-03</td>\n",
       "      <td>2020-07-20</td>\n",
       "      <td>POA</td>\n",
       "      <td>MIA</td>\n",
       "      <td>3748</td>\n",
       "      <td>2020-01-16</td>\n",
       "      <td>17</td>\n",
       "      <td>POAMIA</td>\n",
       "      <td>POAMIA-2020-07-03</td>\n",
       "      <td>POAMIA-2020-07-20</td>\n",
       "      <td>POAMIA-2020-07-03-2020-07-20</td>\n",
       "    </tr>\n",
       "    <tr>\n",
       "      <th>12</th>\n",
       "      <td>12</td>\n",
       "      <td>16/01/2020 15</td>\n",
       "      <td>2020-07-03</td>\n",
       "      <td>2020-07-21</td>\n",
       "      <td>POA</td>\n",
       "      <td>MIA</td>\n",
       "      <td>3761</td>\n",
       "      <td>2020-01-16</td>\n",
       "      <td>18</td>\n",
       "      <td>POAMIA</td>\n",
       "      <td>POAMIA-2020-07-03</td>\n",
       "      <td>POAMIA-2020-07-21</td>\n",
       "      <td>POAMIA-2020-07-03-2020-07-21</td>\n",
       "    </tr>\n",
       "    <tr>\n",
       "      <th>13</th>\n",
       "      <td>13</td>\n",
       "      <td>16/01/2020 15</td>\n",
       "      <td>2020-07-03</td>\n",
       "      <td>2020-07-22</td>\n",
       "      <td>POA</td>\n",
       "      <td>MIA</td>\n",
       "      <td>3781</td>\n",
       "      <td>2020-01-16</td>\n",
       "      <td>19</td>\n",
       "      <td>POAMIA</td>\n",
       "      <td>POAMIA-2020-07-03</td>\n",
       "      <td>POAMIA-2020-07-22</td>\n",
       "      <td>POAMIA-2020-07-03-2020-07-22</td>\n",
       "    </tr>\n",
       "    <tr>\n",
       "      <th>14</th>\n",
       "      <td>14</td>\n",
       "      <td>16/01/2020 15</td>\n",
       "      <td>2020-07-03</td>\n",
       "      <td>2020-07-23</td>\n",
       "      <td>POA</td>\n",
       "      <td>MIA</td>\n",
       "      <td>3807</td>\n",
       "      <td>2020-01-16</td>\n",
       "      <td>20</td>\n",
       "      <td>POAMIA</td>\n",
       "      <td>POAMIA-2020-07-03</td>\n",
       "      <td>POAMIA-2020-07-23</td>\n",
       "      <td>POAMIA-2020-07-03-2020-07-23</td>\n",
       "    </tr>\n",
       "    <tr>\n",
       "      <th>17</th>\n",
       "      <td>17</td>\n",
       "      <td>16/01/2020 15</td>\n",
       "      <td>2020-07-04</td>\n",
       "      <td>2020-07-19</td>\n",
       "      <td>POA</td>\n",
       "      <td>MIA</td>\n",
       "      <td>3823</td>\n",
       "      <td>2020-01-16</td>\n",
       "      <td>15</td>\n",
       "      <td>POAMIA</td>\n",
       "      <td>POAMIA-2020-07-04</td>\n",
       "      <td>POAMIA-2020-07-19</td>\n",
       "      <td>POAMIA-2020-07-04-2020-07-19</td>\n",
       "    </tr>\n",
       "    <tr>\n",
       "      <th>18</th>\n",
       "      <td>18</td>\n",
       "      <td>16/01/2020 15</td>\n",
       "      <td>2020-07-04</td>\n",
       "      <td>2020-07-20</td>\n",
       "      <td>POA</td>\n",
       "      <td>MIA</td>\n",
       "      <td>3838</td>\n",
       "      <td>2020-01-16</td>\n",
       "      <td>16</td>\n",
       "      <td>POAMIA</td>\n",
       "      <td>POAMIA-2020-07-04</td>\n",
       "      <td>POAMIA-2020-07-20</td>\n",
       "      <td>POAMIA-2020-07-04-2020-07-20</td>\n",
       "    </tr>\n",
       "    <tr>\n",
       "      <th>19</th>\n",
       "      <td>19</td>\n",
       "      <td>16/01/2020 15</td>\n",
       "      <td>2020-07-04</td>\n",
       "      <td>2020-07-21</td>\n",
       "      <td>POA</td>\n",
       "      <td>MIA</td>\n",
       "      <td>3878</td>\n",
       "      <td>2020-01-16</td>\n",
       "      <td>17</td>\n",
       "      <td>POAMIA</td>\n",
       "      <td>POAMIA-2020-07-04</td>\n",
       "      <td>POAMIA-2020-07-21</td>\n",
       "      <td>POAMIA-2020-07-04-2020-07-21</td>\n",
       "    </tr>\n",
       "    <tr>\n",
       "      <th>20</th>\n",
       "      <td>20</td>\n",
       "      <td>16/01/2020 15</td>\n",
       "      <td>2020-07-04</td>\n",
       "      <td>2020-07-22</td>\n",
       "      <td>POA</td>\n",
       "      <td>MIA</td>\n",
       "      <td>3900</td>\n",
       "      <td>2020-01-16</td>\n",
       "      <td>18</td>\n",
       "      <td>POAMIA</td>\n",
       "      <td>POAMIA-2020-07-04</td>\n",
       "      <td>POAMIA-2020-07-22</td>\n",
       "      <td>POAMIA-2020-07-04-2020-07-22</td>\n",
       "    </tr>\n",
       "    <tr>\n",
       "      <th>21</th>\n",
       "      <td>21</td>\n",
       "      <td>16/01/2020 15</td>\n",
       "      <td>2020-07-04</td>\n",
       "      <td>2020-07-23</td>\n",
       "      <td>POA</td>\n",
       "      <td>MIA</td>\n",
       "      <td>3923</td>\n",
       "      <td>2020-01-16</td>\n",
       "      <td>19</td>\n",
       "      <td>POAMIA</td>\n",
       "      <td>POAMIA-2020-07-04</td>\n",
       "      <td>POAMIA-2020-07-23</td>\n",
       "      <td>POAMIA-2020-07-04-2020-07-23</td>\n",
       "    </tr>\n",
       "    <tr>\n",
       "      <th>24</th>\n",
       "      <td>24</td>\n",
       "      <td>16/01/2020 15</td>\n",
       "      <td>2020-07-05</td>\n",
       "      <td>2020-07-19</td>\n",
       "      <td>POA</td>\n",
       "      <td>MIA</td>\n",
       "      <td>3863</td>\n",
       "      <td>2020-01-16</td>\n",
       "      <td>14</td>\n",
       "      <td>POAMIA</td>\n",
       "      <td>POAMIA-2020-07-05</td>\n",
       "      <td>POAMIA-2020-07-19</td>\n",
       "      <td>POAMIA-2020-07-05-2020-07-19</td>\n",
       "    </tr>\n",
       "    <tr>\n",
       "      <th>25</th>\n",
       "      <td>25</td>\n",
       "      <td>16/01/2020 15</td>\n",
       "      <td>2020-07-05</td>\n",
       "      <td>2020-07-20</td>\n",
       "      <td>POA</td>\n",
       "      <td>MIA</td>\n",
       "      <td>3948</td>\n",
       "      <td>2020-01-16</td>\n",
       "      <td>15</td>\n",
       "      <td>POAMIA</td>\n",
       "      <td>POAMIA-2020-07-05</td>\n",
       "      <td>POAMIA-2020-07-20</td>\n",
       "      <td>POAMIA-2020-07-05-2020-07-20</td>\n",
       "    </tr>\n",
       "    <tr>\n",
       "      <th>26</th>\n",
       "      <td>26</td>\n",
       "      <td>16/01/2020 15</td>\n",
       "      <td>2020-07-05</td>\n",
       "      <td>2020-07-21</td>\n",
       "      <td>POA</td>\n",
       "      <td>MIA</td>\n",
       "      <td>3918</td>\n",
       "      <td>2020-01-16</td>\n",
       "      <td>16</td>\n",
       "      <td>POAMIA</td>\n",
       "      <td>POAMIA-2020-07-05</td>\n",
       "      <td>POAMIA-2020-07-21</td>\n",
       "      <td>POAMIA-2020-07-05-2020-07-21</td>\n",
       "    </tr>\n",
       "    <tr>\n",
       "      <th>27</th>\n",
       "      <td>27</td>\n",
       "      <td>16/01/2020 15</td>\n",
       "      <td>2020-07-05</td>\n",
       "      <td>2020-07-22</td>\n",
       "      <td>POA</td>\n",
       "      <td>MIA</td>\n",
       "      <td>3939</td>\n",
       "      <td>2020-01-16</td>\n",
       "      <td>17</td>\n",
       "      <td>POAMIA</td>\n",
       "      <td>POAMIA-2020-07-05</td>\n",
       "      <td>POAMIA-2020-07-22</td>\n",
       "      <td>POAMIA-2020-07-05-2020-07-22</td>\n",
       "    </tr>\n",
       "    <tr>\n",
       "      <th>28</th>\n",
       "      <td>28</td>\n",
       "      <td>16/01/2020 15</td>\n",
       "      <td>2020-07-05</td>\n",
       "      <td>2020-07-23</td>\n",
       "      <td>POA</td>\n",
       "      <td>MIA</td>\n",
       "      <td>3975</td>\n",
       "      <td>2020-01-16</td>\n",
       "      <td>18</td>\n",
       "      <td>POAMIA</td>\n",
       "      <td>POAMIA-2020-07-05</td>\n",
       "      <td>POAMIA-2020-07-23</td>\n",
       "      <td>POAMIA-2020-07-05-2020-07-23</td>\n",
       "    </tr>\n",
       "    <tr>\n",
       "      <th>31</th>\n",
       "      <td>31</td>\n",
       "      <td>16/01/2020 15</td>\n",
       "      <td>2020-07-06</td>\n",
       "      <td>2020-07-19</td>\n",
       "      <td>POA</td>\n",
       "      <td>MIA</td>\n",
       "      <td>4052</td>\n",
       "      <td>2020-01-16</td>\n",
       "      <td>13</td>\n",
       "      <td>POAMIA</td>\n",
       "      <td>POAMIA-2020-07-06</td>\n",
       "      <td>POAMIA-2020-07-19</td>\n",
       "      <td>POAMIA-2020-07-06-2020-07-19</td>\n",
       "    </tr>\n",
       "    <tr>\n",
       "      <th>32</th>\n",
       "      <td>32</td>\n",
       "      <td>16/01/2020 15</td>\n",
       "      <td>2020-07-06</td>\n",
       "      <td>2020-07-20</td>\n",
       "      <td>POA</td>\n",
       "      <td>MIA</td>\n",
       "      <td>3901</td>\n",
       "      <td>2020-01-16</td>\n",
       "      <td>14</td>\n",
       "      <td>POAMIA</td>\n",
       "      <td>POAMIA-2020-07-06</td>\n",
       "      <td>POAMIA-2020-07-20</td>\n",
       "      <td>POAMIA-2020-07-06-2020-07-20</td>\n",
       "    </tr>\n",
       "    <tr>\n",
       "      <th>33</th>\n",
       "      <td>33</td>\n",
       "      <td>16/01/2020 15</td>\n",
       "      <td>2020-07-06</td>\n",
       "      <td>2020-07-21</td>\n",
       "      <td>POA</td>\n",
       "      <td>MIA</td>\n",
       "      <td>3836</td>\n",
       "      <td>2020-01-16</td>\n",
       "      <td>15</td>\n",
       "      <td>POAMIA</td>\n",
       "      <td>POAMIA-2020-07-06</td>\n",
       "      <td>POAMIA-2020-07-21</td>\n",
       "      <td>POAMIA-2020-07-06-2020-07-21</td>\n",
       "    </tr>\n",
       "    <tr>\n",
       "      <th>34</th>\n",
       "      <td>34</td>\n",
       "      <td>16/01/2020 15</td>\n",
       "      <td>2020-07-06</td>\n",
       "      <td>2020-07-22</td>\n",
       "      <td>POA</td>\n",
       "      <td>MIA</td>\n",
       "      <td>3825</td>\n",
       "      <td>2020-01-16</td>\n",
       "      <td>16</td>\n",
       "      <td>POAMIA</td>\n",
       "      <td>POAMIA-2020-07-06</td>\n",
       "      <td>POAMIA-2020-07-22</td>\n",
       "      <td>POAMIA-2020-07-06-2020-07-22</td>\n",
       "    </tr>\n",
       "    <tr>\n",
       "      <th>35</th>\n",
       "      <td>35</td>\n",
       "      <td>16/01/2020 15</td>\n",
       "      <td>2020-07-06</td>\n",
       "      <td>2020-07-23</td>\n",
       "      <td>POA</td>\n",
       "      <td>MIA</td>\n",
       "      <td>3838</td>\n",
       "      <td>2020-01-16</td>\n",
       "      <td>17</td>\n",
       "      <td>POAMIA</td>\n",
       "      <td>POAMIA-2020-07-06</td>\n",
       "      <td>POAMIA-2020-07-23</td>\n",
       "      <td>POAMIA-2020-07-06-2020-07-23</td>\n",
       "    </tr>\n",
       "    <tr>\n",
       "      <th>38</th>\n",
       "      <td>38</td>\n",
       "      <td>16/01/2020 15</td>\n",
       "      <td>2020-07-07</td>\n",
       "      <td>2020-07-19</td>\n",
       "      <td>POA</td>\n",
       "      <td>MIA</td>\n",
       "      <td>3956</td>\n",
       "      <td>2020-01-16</td>\n",
       "      <td>12</td>\n",
       "      <td>POAMIA</td>\n",
       "      <td>POAMIA-2020-07-07</td>\n",
       "      <td>POAMIA-2020-07-19</td>\n",
       "      <td>POAMIA-2020-07-07-2020-07-19</td>\n",
       "    </tr>\n",
       "    <tr>\n",
       "      <th>39</th>\n",
       "      <td>39</td>\n",
       "      <td>16/01/2020 15</td>\n",
       "      <td>2020-07-07</td>\n",
       "      <td>2020-07-20</td>\n",
       "      <td>POA</td>\n",
       "      <td>MIA</td>\n",
       "      <td>3881</td>\n",
       "      <td>2020-01-16</td>\n",
       "      <td>13</td>\n",
       "      <td>POAMIA</td>\n",
       "      <td>POAMIA-2020-07-07</td>\n",
       "      <td>POAMIA-2020-07-20</td>\n",
       "      <td>POAMIA-2020-07-07-2020-07-20</td>\n",
       "    </tr>\n",
       "    <tr>\n",
       "      <th>40</th>\n",
       "      <td>40</td>\n",
       "      <td>16/01/2020 15</td>\n",
       "      <td>2020-07-07</td>\n",
       "      <td>2020-07-21</td>\n",
       "      <td>POA</td>\n",
       "      <td>MIA</td>\n",
       "      <td>3828</td>\n",
       "      <td>2020-01-16</td>\n",
       "      <td>14</td>\n",
       "      <td>POAMIA</td>\n",
       "      <td>POAMIA-2020-07-07</td>\n",
       "      <td>POAMIA-2020-07-21</td>\n",
       "      <td>POAMIA-2020-07-07-2020-07-21</td>\n",
       "    </tr>\n",
       "    <tr>\n",
       "      <th>41</th>\n",
       "      <td>41</td>\n",
       "      <td>16/01/2020 15</td>\n",
       "      <td>2020-07-07</td>\n",
       "      <td>2020-07-22</td>\n",
       "      <td>POA</td>\n",
       "      <td>MIA</td>\n",
       "      <td>3798</td>\n",
       "      <td>2020-01-16</td>\n",
       "      <td>15</td>\n",
       "      <td>POAMIA</td>\n",
       "      <td>POAMIA-2020-07-07</td>\n",
       "      <td>POAMIA-2020-07-22</td>\n",
       "      <td>POAMIA-2020-07-07-2020-07-22</td>\n",
       "    </tr>\n",
       "    <tr>\n",
       "      <th>42</th>\n",
       "      <td>42</td>\n",
       "      <td>16/01/2020 15</td>\n",
       "      <td>2020-07-07</td>\n",
       "      <td>2020-07-23</td>\n",
       "      <td>POA</td>\n",
       "      <td>MIA</td>\n",
       "      <td>3812</td>\n",
       "      <td>2020-01-16</td>\n",
       "      <td>16</td>\n",
       "      <td>POAMIA</td>\n",
       "      <td>POAMIA-2020-07-07</td>\n",
       "      <td>POAMIA-2020-07-23</td>\n",
       "      <td>POAMIA-2020-07-07-2020-07-23</td>\n",
       "    </tr>\n",
       "    <tr>\n",
       "      <th>51</th>\n",
       "      <td>51</td>\n",
       "      <td>16/01/2020 15</td>\n",
       "      <td>2020-07-05</td>\n",
       "      <td>2020-07-20</td>\n",
       "      <td>GRU</td>\n",
       "      <td>ATL</td>\n",
       "      <td>4788</td>\n",
       "      <td>2020-01-16</td>\n",
       "      <td>15</td>\n",
       "      <td>GRUATL</td>\n",
       "      <td>GRUATL-2020-07-05</td>\n",
       "      <td>GRUATL-2020-07-20</td>\n",
       "      <td>GRUATL-2020-07-05-2020-07-20</td>\n",
       "    </tr>\n",
       "    <tr>\n",
       "      <th>52</th>\n",
       "      <td>52</td>\n",
       "      <td>16/01/2020 15</td>\n",
       "      <td>2020-07-07</td>\n",
       "      <td>2020-07-21</td>\n",
       "      <td>GRU</td>\n",
       "      <td>ATL</td>\n",
       "      <td>4726</td>\n",
       "      <td>2020-01-16</td>\n",
       "      <td>14</td>\n",
       "      <td>GRUATL</td>\n",
       "      <td>GRUATL-2020-07-07</td>\n",
       "      <td>GRUATL-2020-07-21</td>\n",
       "      <td>GRUATL-2020-07-07-2020-07-21</td>\n",
       "    </tr>\n",
       "    <tr>\n",
       "      <th>53</th>\n",
       "      <td>53</td>\n",
       "      <td>16/01/2020 15</td>\n",
       "      <td>2020-07-07</td>\n",
       "      <td>2020-07-23</td>\n",
       "      <td>GRU</td>\n",
       "      <td>ATL</td>\n",
       "      <td>4749</td>\n",
       "      <td>2020-01-16</td>\n",
       "      <td>16</td>\n",
       "      <td>GRUATL</td>\n",
       "      <td>GRUATL-2020-07-07</td>\n",
       "      <td>GRUATL-2020-07-23</td>\n",
       "      <td>GRUATL-2020-07-07-2020-07-23</td>\n",
       "    </tr>\n",
       "    <tr>\n",
       "      <th>63</th>\n",
       "      <td>63</td>\n",
       "      <td>16/01/2020 15</td>\n",
       "      <td>2020-07-03</td>\n",
       "      <td>2020-07-19</td>\n",
       "      <td>GRU</td>\n",
       "      <td>MIA</td>\n",
       "      <td>3609</td>\n",
       "      <td>2020-01-16</td>\n",
       "      <td>16</td>\n",
       "      <td>GRUMIA</td>\n",
       "      <td>GRUMIA-2020-07-03</td>\n",
       "      <td>GRUMIA-2020-07-19</td>\n",
       "      <td>GRUMIA-2020-07-03-2020-07-19</td>\n",
       "    </tr>\n",
       "    <tr>\n",
       "      <th>...</th>\n",
       "      <td>...</td>\n",
       "      <td>...</td>\n",
       "      <td>...</td>\n",
       "      <td>...</td>\n",
       "      <td>...</td>\n",
       "      <td>...</td>\n",
       "      <td>...</td>\n",
       "      <td>...</td>\n",
       "      <td>...</td>\n",
       "      <td>...</td>\n",
       "      <td>...</td>\n",
       "      <td>...</td>\n",
       "      <td>...</td>\n",
       "    </tr>\n",
       "    <tr>\n",
       "      <th>3533</th>\n",
       "      <td>90</td>\n",
       "      <td>23/01/2020 16</td>\n",
       "      <td>2020-07-05</td>\n",
       "      <td>2020-07-20</td>\n",
       "      <td>GRU</td>\n",
       "      <td>MIA</td>\n",
       "      <td>3618</td>\n",
       "      <td>2020-01-23</td>\n",
       "      <td>15</td>\n",
       "      <td>GRUMIA</td>\n",
       "      <td>GRUMIA-2020-07-05</td>\n",
       "      <td>GRUMIA-2020-07-20</td>\n",
       "      <td>GRUMIA-2020-07-05-2020-07-20</td>\n",
       "    </tr>\n",
       "    <tr>\n",
       "      <th>3534</th>\n",
       "      <td>91</td>\n",
       "      <td>23/01/2020 16</td>\n",
       "      <td>2020-07-05</td>\n",
       "      <td>2020-07-21</td>\n",
       "      <td>GRU</td>\n",
       "      <td>MIA</td>\n",
       "      <td>3612</td>\n",
       "      <td>2020-01-23</td>\n",
       "      <td>16</td>\n",
       "      <td>GRUMIA</td>\n",
       "      <td>GRUMIA-2020-07-05</td>\n",
       "      <td>GRUMIA-2020-07-21</td>\n",
       "      <td>GRUMIA-2020-07-05-2020-07-21</td>\n",
       "    </tr>\n",
       "    <tr>\n",
       "      <th>3535</th>\n",
       "      <td>92</td>\n",
       "      <td>23/01/2020 16</td>\n",
       "      <td>2020-07-05</td>\n",
       "      <td>2020-07-22</td>\n",
       "      <td>GRU</td>\n",
       "      <td>MIA</td>\n",
       "      <td>3637</td>\n",
       "      <td>2020-01-23</td>\n",
       "      <td>17</td>\n",
       "      <td>GRUMIA</td>\n",
       "      <td>GRUMIA-2020-07-05</td>\n",
       "      <td>GRUMIA-2020-07-22</td>\n",
       "      <td>GRUMIA-2020-07-05-2020-07-22</td>\n",
       "    </tr>\n",
       "    <tr>\n",
       "      <th>3536</th>\n",
       "      <td>93</td>\n",
       "      <td>23/01/2020 16</td>\n",
       "      <td>2020-07-05</td>\n",
       "      <td>2020-07-23</td>\n",
       "      <td>GRU</td>\n",
       "      <td>MIA</td>\n",
       "      <td>3691</td>\n",
       "      <td>2020-01-23</td>\n",
       "      <td>18</td>\n",
       "      <td>GRUMIA</td>\n",
       "      <td>GRUMIA-2020-07-05</td>\n",
       "      <td>GRUMIA-2020-07-23</td>\n",
       "      <td>GRUMIA-2020-07-05-2020-07-23</td>\n",
       "    </tr>\n",
       "    <tr>\n",
       "      <th>3539</th>\n",
       "      <td>96</td>\n",
       "      <td>23/01/2020 16</td>\n",
       "      <td>2020-07-06</td>\n",
       "      <td>2020-07-19</td>\n",
       "      <td>GRU</td>\n",
       "      <td>MIA</td>\n",
       "      <td>3480</td>\n",
       "      <td>2020-01-23</td>\n",
       "      <td>13</td>\n",
       "      <td>GRUMIA</td>\n",
       "      <td>GRUMIA-2020-07-06</td>\n",
       "      <td>GRUMIA-2020-07-19</td>\n",
       "      <td>GRUMIA-2020-07-06-2020-07-19</td>\n",
       "    </tr>\n",
       "    <tr>\n",
       "      <th>3540</th>\n",
       "      <td>97</td>\n",
       "      <td>23/01/2020 16</td>\n",
       "      <td>2020-07-06</td>\n",
       "      <td>2020-07-20</td>\n",
       "      <td>GRU</td>\n",
       "      <td>MIA</td>\n",
       "      <td>3423</td>\n",
       "      <td>2020-01-23</td>\n",
       "      <td>14</td>\n",
       "      <td>GRUMIA</td>\n",
       "      <td>GRUMIA-2020-07-06</td>\n",
       "      <td>GRUMIA-2020-07-20</td>\n",
       "      <td>GRUMIA-2020-07-06-2020-07-20</td>\n",
       "    </tr>\n",
       "    <tr>\n",
       "      <th>3541</th>\n",
       "      <td>98</td>\n",
       "      <td>23/01/2020 16</td>\n",
       "      <td>2020-07-06</td>\n",
       "      <td>2020-07-21</td>\n",
       "      <td>GRU</td>\n",
       "      <td>MIA</td>\n",
       "      <td>3418</td>\n",
       "      <td>2020-01-23</td>\n",
       "      <td>15</td>\n",
       "      <td>GRUMIA</td>\n",
       "      <td>GRUMIA-2020-07-06</td>\n",
       "      <td>GRUMIA-2020-07-21</td>\n",
       "      <td>GRUMIA-2020-07-06-2020-07-21</td>\n",
       "    </tr>\n",
       "    <tr>\n",
       "      <th>3542</th>\n",
       "      <td>99</td>\n",
       "      <td>23/01/2020 16</td>\n",
       "      <td>2020-07-06</td>\n",
       "      <td>2020-07-22</td>\n",
       "      <td>GRU</td>\n",
       "      <td>MIA</td>\n",
       "      <td>3432</td>\n",
       "      <td>2020-01-23</td>\n",
       "      <td>16</td>\n",
       "      <td>GRUMIA</td>\n",
       "      <td>GRUMIA-2020-07-06</td>\n",
       "      <td>GRUMIA-2020-07-22</td>\n",
       "      <td>GRUMIA-2020-07-06-2020-07-22</td>\n",
       "    </tr>\n",
       "    <tr>\n",
       "      <th>3543</th>\n",
       "      <td>100</td>\n",
       "      <td>23/01/2020 16</td>\n",
       "      <td>2020-07-06</td>\n",
       "      <td>2020-07-23</td>\n",
       "      <td>GRU</td>\n",
       "      <td>MIA</td>\n",
       "      <td>3393</td>\n",
       "      <td>2020-01-23</td>\n",
       "      <td>17</td>\n",
       "      <td>GRUMIA</td>\n",
       "      <td>GRUMIA-2020-07-06</td>\n",
       "      <td>GRUMIA-2020-07-23</td>\n",
       "      <td>GRUMIA-2020-07-06-2020-07-23</td>\n",
       "    </tr>\n",
       "    <tr>\n",
       "      <th>3544</th>\n",
       "      <td>101</td>\n",
       "      <td>23/01/2020 16</td>\n",
       "      <td>2020-07-03</td>\n",
       "      <td>2020-07-20</td>\n",
       "      <td>GIG</td>\n",
       "      <td>ATL</td>\n",
       "      <td>5418</td>\n",
       "      <td>2020-01-23</td>\n",
       "      <td>17</td>\n",
       "      <td>GIGATL</td>\n",
       "      <td>GIGATL-2020-07-03</td>\n",
       "      <td>GIGATL-2020-07-20</td>\n",
       "      <td>GIGATL-2020-07-03-2020-07-20</td>\n",
       "    </tr>\n",
       "    <tr>\n",
       "      <th>3568</th>\n",
       "      <td>125</td>\n",
       "      <td>23/01/2020 16</td>\n",
       "      <td>2020-07-03</td>\n",
       "      <td>2020-07-19</td>\n",
       "      <td>GIG</td>\n",
       "      <td>MIA</td>\n",
       "      <td>3704</td>\n",
       "      <td>2020-01-23</td>\n",
       "      <td>16</td>\n",
       "      <td>GIGMIA</td>\n",
       "      <td>GIGMIA-2020-07-03</td>\n",
       "      <td>GIGMIA-2020-07-19</td>\n",
       "      <td>GIGMIA-2020-07-03-2020-07-19</td>\n",
       "    </tr>\n",
       "    <tr>\n",
       "      <th>3569</th>\n",
       "      <td>126</td>\n",
       "      <td>23/01/2020 16</td>\n",
       "      <td>2020-07-03</td>\n",
       "      <td>2020-07-20</td>\n",
       "      <td>GIG</td>\n",
       "      <td>MIA</td>\n",
       "      <td>3621</td>\n",
       "      <td>2020-01-23</td>\n",
       "      <td>17</td>\n",
       "      <td>GIGMIA</td>\n",
       "      <td>GIGMIA-2020-07-03</td>\n",
       "      <td>GIGMIA-2020-07-20</td>\n",
       "      <td>GIGMIA-2020-07-03-2020-07-20</td>\n",
       "    </tr>\n",
       "    <tr>\n",
       "      <th>3570</th>\n",
       "      <td>127</td>\n",
       "      <td>23/01/2020 16</td>\n",
       "      <td>2020-07-03</td>\n",
       "      <td>2020-07-21</td>\n",
       "      <td>GIG</td>\n",
       "      <td>MIA</td>\n",
       "      <td>3653</td>\n",
       "      <td>2020-01-23</td>\n",
       "      <td>18</td>\n",
       "      <td>GIGMIA</td>\n",
       "      <td>GIGMIA-2020-07-03</td>\n",
       "      <td>GIGMIA-2020-07-21</td>\n",
       "      <td>GIGMIA-2020-07-03-2020-07-21</td>\n",
       "    </tr>\n",
       "    <tr>\n",
       "      <th>3571</th>\n",
       "      <td>128</td>\n",
       "      <td>23/01/2020 16</td>\n",
       "      <td>2020-07-03</td>\n",
       "      <td>2020-07-22</td>\n",
       "      <td>GIG</td>\n",
       "      <td>MIA</td>\n",
       "      <td>3663</td>\n",
       "      <td>2020-01-23</td>\n",
       "      <td>19</td>\n",
       "      <td>GIGMIA</td>\n",
       "      <td>GIGMIA-2020-07-03</td>\n",
       "      <td>GIGMIA-2020-07-22</td>\n",
       "      <td>GIGMIA-2020-07-03-2020-07-22</td>\n",
       "    </tr>\n",
       "    <tr>\n",
       "      <th>3572</th>\n",
       "      <td>129</td>\n",
       "      <td>23/01/2020 16</td>\n",
       "      <td>2020-07-03</td>\n",
       "      <td>2020-07-23</td>\n",
       "      <td>GIG</td>\n",
       "      <td>MIA</td>\n",
       "      <td>3822</td>\n",
       "      <td>2020-01-23</td>\n",
       "      <td>20</td>\n",
       "      <td>GIGMIA</td>\n",
       "      <td>GIGMIA-2020-07-03</td>\n",
       "      <td>GIGMIA-2020-07-23</td>\n",
       "      <td>GIGMIA-2020-07-03-2020-07-23</td>\n",
       "    </tr>\n",
       "    <tr>\n",
       "      <th>3575</th>\n",
       "      <td>132</td>\n",
       "      <td>23/01/2020 16</td>\n",
       "      <td>2020-07-04</td>\n",
       "      <td>2020-07-19</td>\n",
       "      <td>GIG</td>\n",
       "      <td>MIA</td>\n",
       "      <td>3671</td>\n",
       "      <td>2020-01-23</td>\n",
       "      <td>15</td>\n",
       "      <td>GIGMIA</td>\n",
       "      <td>GIGMIA-2020-07-04</td>\n",
       "      <td>GIGMIA-2020-07-19</td>\n",
       "      <td>GIGMIA-2020-07-04-2020-07-19</td>\n",
       "    </tr>\n",
       "    <tr>\n",
       "      <th>3576</th>\n",
       "      <td>133</td>\n",
       "      <td>23/01/2020 16</td>\n",
       "      <td>2020-07-04</td>\n",
       "      <td>2020-07-20</td>\n",
       "      <td>GIG</td>\n",
       "      <td>MIA</td>\n",
       "      <td>3631</td>\n",
       "      <td>2020-01-23</td>\n",
       "      <td>16</td>\n",
       "      <td>GIGMIA</td>\n",
       "      <td>GIGMIA-2020-07-04</td>\n",
       "      <td>GIGMIA-2020-07-20</td>\n",
       "      <td>GIGMIA-2020-07-04-2020-07-20</td>\n",
       "    </tr>\n",
       "    <tr>\n",
       "      <th>3577</th>\n",
       "      <td>134</td>\n",
       "      <td>23/01/2020 16</td>\n",
       "      <td>2020-07-04</td>\n",
       "      <td>2020-07-21</td>\n",
       "      <td>GIG</td>\n",
       "      <td>MIA</td>\n",
       "      <td>3662</td>\n",
       "      <td>2020-01-23</td>\n",
       "      <td>17</td>\n",
       "      <td>GIGMIA</td>\n",
       "      <td>GIGMIA-2020-07-04</td>\n",
       "      <td>GIGMIA-2020-07-21</td>\n",
       "      <td>GIGMIA-2020-07-04-2020-07-21</td>\n",
       "    </tr>\n",
       "    <tr>\n",
       "      <th>3578</th>\n",
       "      <td>135</td>\n",
       "      <td>23/01/2020 16</td>\n",
       "      <td>2020-07-04</td>\n",
       "      <td>2020-07-22</td>\n",
       "      <td>GIG</td>\n",
       "      <td>MIA</td>\n",
       "      <td>3666</td>\n",
       "      <td>2020-01-23</td>\n",
       "      <td>18</td>\n",
       "      <td>GIGMIA</td>\n",
       "      <td>GIGMIA-2020-07-04</td>\n",
       "      <td>GIGMIA-2020-07-22</td>\n",
       "      <td>GIGMIA-2020-07-04-2020-07-22</td>\n",
       "    </tr>\n",
       "    <tr>\n",
       "      <th>3579</th>\n",
       "      <td>136</td>\n",
       "      <td>23/01/2020 16</td>\n",
       "      <td>2020-07-04</td>\n",
       "      <td>2020-07-23</td>\n",
       "      <td>GIG</td>\n",
       "      <td>MIA</td>\n",
       "      <td>3718</td>\n",
       "      <td>2020-01-23</td>\n",
       "      <td>19</td>\n",
       "      <td>GIGMIA</td>\n",
       "      <td>GIGMIA-2020-07-04</td>\n",
       "      <td>GIGMIA-2020-07-23</td>\n",
       "      <td>GIGMIA-2020-07-04-2020-07-23</td>\n",
       "    </tr>\n",
       "    <tr>\n",
       "      <th>3582</th>\n",
       "      <td>139</td>\n",
       "      <td>23/01/2020 16</td>\n",
       "      <td>2020-07-05</td>\n",
       "      <td>2020-07-19</td>\n",
       "      <td>GIG</td>\n",
       "      <td>MIA</td>\n",
       "      <td>3585</td>\n",
       "      <td>2020-01-23</td>\n",
       "      <td>14</td>\n",
       "      <td>GIGMIA</td>\n",
       "      <td>GIGMIA-2020-07-05</td>\n",
       "      <td>GIGMIA-2020-07-19</td>\n",
       "      <td>GIGMIA-2020-07-05-2020-07-19</td>\n",
       "    </tr>\n",
       "    <tr>\n",
       "      <th>3583</th>\n",
       "      <td>140</td>\n",
       "      <td>23/01/2020 16</td>\n",
       "      <td>2020-07-05</td>\n",
       "      <td>2020-07-20</td>\n",
       "      <td>GIG</td>\n",
       "      <td>MIA</td>\n",
       "      <td>3608</td>\n",
       "      <td>2020-01-23</td>\n",
       "      <td>15</td>\n",
       "      <td>GIGMIA</td>\n",
       "      <td>GIGMIA-2020-07-05</td>\n",
       "      <td>GIGMIA-2020-07-20</td>\n",
       "      <td>GIGMIA-2020-07-05-2020-07-20</td>\n",
       "    </tr>\n",
       "    <tr>\n",
       "      <th>3584</th>\n",
       "      <td>141</td>\n",
       "      <td>23/01/2020 16</td>\n",
       "      <td>2020-07-05</td>\n",
       "      <td>2020-07-21</td>\n",
       "      <td>GIG</td>\n",
       "      <td>MIA</td>\n",
       "      <td>3605</td>\n",
       "      <td>2020-01-23</td>\n",
       "      <td>16</td>\n",
       "      <td>GIGMIA</td>\n",
       "      <td>GIGMIA-2020-07-05</td>\n",
       "      <td>GIGMIA-2020-07-21</td>\n",
       "      <td>GIGMIA-2020-07-05-2020-07-21</td>\n",
       "    </tr>\n",
       "    <tr>\n",
       "      <th>3585</th>\n",
       "      <td>142</td>\n",
       "      <td>23/01/2020 16</td>\n",
       "      <td>2020-07-05</td>\n",
       "      <td>2020-07-22</td>\n",
       "      <td>GIG</td>\n",
       "      <td>MIA</td>\n",
       "      <td>3614</td>\n",
       "      <td>2020-01-23</td>\n",
       "      <td>17</td>\n",
       "      <td>GIGMIA</td>\n",
       "      <td>GIGMIA-2020-07-05</td>\n",
       "      <td>GIGMIA-2020-07-22</td>\n",
       "      <td>GIGMIA-2020-07-05-2020-07-22</td>\n",
       "    </tr>\n",
       "    <tr>\n",
       "      <th>3586</th>\n",
       "      <td>143</td>\n",
       "      <td>23/01/2020 16</td>\n",
       "      <td>2020-07-05</td>\n",
       "      <td>2020-07-23</td>\n",
       "      <td>GIG</td>\n",
       "      <td>MIA</td>\n",
       "      <td>3645</td>\n",
       "      <td>2020-01-23</td>\n",
       "      <td>18</td>\n",
       "      <td>GIGMIA</td>\n",
       "      <td>GIGMIA-2020-07-05</td>\n",
       "      <td>GIGMIA-2020-07-23</td>\n",
       "      <td>GIGMIA-2020-07-05-2020-07-23</td>\n",
       "    </tr>\n",
       "    <tr>\n",
       "      <th>3589</th>\n",
       "      <td>146</td>\n",
       "      <td>23/01/2020 16</td>\n",
       "      <td>2020-07-06</td>\n",
       "      <td>2020-07-19</td>\n",
       "      <td>GIG</td>\n",
       "      <td>MIA</td>\n",
       "      <td>3671</td>\n",
       "      <td>2020-01-23</td>\n",
       "      <td>13</td>\n",
       "      <td>GIGMIA</td>\n",
       "      <td>GIGMIA-2020-07-06</td>\n",
       "      <td>GIGMIA-2020-07-19</td>\n",
       "      <td>GIGMIA-2020-07-06-2020-07-19</td>\n",
       "    </tr>\n",
       "    <tr>\n",
       "      <th>3590</th>\n",
       "      <td>147</td>\n",
       "      <td>23/01/2020 16</td>\n",
       "      <td>2020-07-06</td>\n",
       "      <td>2020-07-20</td>\n",
       "      <td>GIG</td>\n",
       "      <td>MIA</td>\n",
       "      <td>3633</td>\n",
       "      <td>2020-01-23</td>\n",
       "      <td>14</td>\n",
       "      <td>GIGMIA</td>\n",
       "      <td>GIGMIA-2020-07-06</td>\n",
       "      <td>GIGMIA-2020-07-20</td>\n",
       "      <td>GIGMIA-2020-07-06-2020-07-20</td>\n",
       "    </tr>\n",
       "    <tr>\n",
       "      <th>3591</th>\n",
       "      <td>148</td>\n",
       "      <td>23/01/2020 16</td>\n",
       "      <td>2020-07-06</td>\n",
       "      <td>2020-07-21</td>\n",
       "      <td>GIG</td>\n",
       "      <td>MIA</td>\n",
       "      <td>3636</td>\n",
       "      <td>2020-01-23</td>\n",
       "      <td>15</td>\n",
       "      <td>GIGMIA</td>\n",
       "      <td>GIGMIA-2020-07-06</td>\n",
       "      <td>GIGMIA-2020-07-21</td>\n",
       "      <td>GIGMIA-2020-07-06-2020-07-21</td>\n",
       "    </tr>\n",
       "    <tr>\n",
       "      <th>3592</th>\n",
       "      <td>149</td>\n",
       "      <td>23/01/2020 16</td>\n",
       "      <td>2020-07-06</td>\n",
       "      <td>2020-07-22</td>\n",
       "      <td>GIG</td>\n",
       "      <td>MIA</td>\n",
       "      <td>3637</td>\n",
       "      <td>2020-01-23</td>\n",
       "      <td>16</td>\n",
       "      <td>GIGMIA</td>\n",
       "      <td>GIGMIA-2020-07-06</td>\n",
       "      <td>GIGMIA-2020-07-22</td>\n",
       "      <td>GIGMIA-2020-07-06-2020-07-22</td>\n",
       "    </tr>\n",
       "    <tr>\n",
       "      <th>3593</th>\n",
       "      <td>150</td>\n",
       "      <td>23/01/2020 16</td>\n",
       "      <td>2020-07-06</td>\n",
       "      <td>2020-07-23</td>\n",
       "      <td>GIG</td>\n",
       "      <td>MIA</td>\n",
       "      <td>3677</td>\n",
       "      <td>2020-01-23</td>\n",
       "      <td>17</td>\n",
       "      <td>GIGMIA</td>\n",
       "      <td>GIGMIA-2020-07-06</td>\n",
       "      <td>GIGMIA-2020-07-23</td>\n",
       "      <td>GIGMIA-2020-07-06-2020-07-23</td>\n",
       "    </tr>\n",
       "  </tbody>\n",
       "</table>\n",
       "<p>1768 rows × 13 columns</p>\n",
       "</div>"
      ],
      "text/plain": [
       "      Unnamed: 0   DataPesquisa         Ida       Volta   de para  preco  \\\n",
       "0              0  16/01/2020 15  2020-07-05  2020-07-20  POA  ATL   6561   \n",
       "10            10  16/01/2020 15  2020-07-03  2020-07-19  POA  MIA   3789   \n",
       "11            11  16/01/2020 15  2020-07-03  2020-07-20  POA  MIA   3748   \n",
       "12            12  16/01/2020 15  2020-07-03  2020-07-21  POA  MIA   3761   \n",
       "13            13  16/01/2020 15  2020-07-03  2020-07-22  POA  MIA   3781   \n",
       "14            14  16/01/2020 15  2020-07-03  2020-07-23  POA  MIA   3807   \n",
       "17            17  16/01/2020 15  2020-07-04  2020-07-19  POA  MIA   3823   \n",
       "18            18  16/01/2020 15  2020-07-04  2020-07-20  POA  MIA   3838   \n",
       "19            19  16/01/2020 15  2020-07-04  2020-07-21  POA  MIA   3878   \n",
       "20            20  16/01/2020 15  2020-07-04  2020-07-22  POA  MIA   3900   \n",
       "21            21  16/01/2020 15  2020-07-04  2020-07-23  POA  MIA   3923   \n",
       "24            24  16/01/2020 15  2020-07-05  2020-07-19  POA  MIA   3863   \n",
       "25            25  16/01/2020 15  2020-07-05  2020-07-20  POA  MIA   3948   \n",
       "26            26  16/01/2020 15  2020-07-05  2020-07-21  POA  MIA   3918   \n",
       "27            27  16/01/2020 15  2020-07-05  2020-07-22  POA  MIA   3939   \n",
       "28            28  16/01/2020 15  2020-07-05  2020-07-23  POA  MIA   3975   \n",
       "31            31  16/01/2020 15  2020-07-06  2020-07-19  POA  MIA   4052   \n",
       "32            32  16/01/2020 15  2020-07-06  2020-07-20  POA  MIA   3901   \n",
       "33            33  16/01/2020 15  2020-07-06  2020-07-21  POA  MIA   3836   \n",
       "34            34  16/01/2020 15  2020-07-06  2020-07-22  POA  MIA   3825   \n",
       "35            35  16/01/2020 15  2020-07-06  2020-07-23  POA  MIA   3838   \n",
       "38            38  16/01/2020 15  2020-07-07  2020-07-19  POA  MIA   3956   \n",
       "39            39  16/01/2020 15  2020-07-07  2020-07-20  POA  MIA   3881   \n",
       "40            40  16/01/2020 15  2020-07-07  2020-07-21  POA  MIA   3828   \n",
       "41            41  16/01/2020 15  2020-07-07  2020-07-22  POA  MIA   3798   \n",
       "42            42  16/01/2020 15  2020-07-07  2020-07-23  POA  MIA   3812   \n",
       "51            51  16/01/2020 15  2020-07-05  2020-07-20  GRU  ATL   4788   \n",
       "52            52  16/01/2020 15  2020-07-07  2020-07-21  GRU  ATL   4726   \n",
       "53            53  16/01/2020 15  2020-07-07  2020-07-23  GRU  ATL   4749   \n",
       "63            63  16/01/2020 15  2020-07-03  2020-07-19  GRU  MIA   3609   \n",
       "...          ...            ...         ...         ...  ...  ...    ...   \n",
       "3533          90  23/01/2020 16  2020-07-05  2020-07-20  GRU  MIA   3618   \n",
       "3534          91  23/01/2020 16  2020-07-05  2020-07-21  GRU  MIA   3612   \n",
       "3535          92  23/01/2020 16  2020-07-05  2020-07-22  GRU  MIA   3637   \n",
       "3536          93  23/01/2020 16  2020-07-05  2020-07-23  GRU  MIA   3691   \n",
       "3539          96  23/01/2020 16  2020-07-06  2020-07-19  GRU  MIA   3480   \n",
       "3540          97  23/01/2020 16  2020-07-06  2020-07-20  GRU  MIA   3423   \n",
       "3541          98  23/01/2020 16  2020-07-06  2020-07-21  GRU  MIA   3418   \n",
       "3542          99  23/01/2020 16  2020-07-06  2020-07-22  GRU  MIA   3432   \n",
       "3543         100  23/01/2020 16  2020-07-06  2020-07-23  GRU  MIA   3393   \n",
       "3544         101  23/01/2020 16  2020-07-03  2020-07-20  GIG  ATL   5418   \n",
       "3568         125  23/01/2020 16  2020-07-03  2020-07-19  GIG  MIA   3704   \n",
       "3569         126  23/01/2020 16  2020-07-03  2020-07-20  GIG  MIA   3621   \n",
       "3570         127  23/01/2020 16  2020-07-03  2020-07-21  GIG  MIA   3653   \n",
       "3571         128  23/01/2020 16  2020-07-03  2020-07-22  GIG  MIA   3663   \n",
       "3572         129  23/01/2020 16  2020-07-03  2020-07-23  GIG  MIA   3822   \n",
       "3575         132  23/01/2020 16  2020-07-04  2020-07-19  GIG  MIA   3671   \n",
       "3576         133  23/01/2020 16  2020-07-04  2020-07-20  GIG  MIA   3631   \n",
       "3577         134  23/01/2020 16  2020-07-04  2020-07-21  GIG  MIA   3662   \n",
       "3578         135  23/01/2020 16  2020-07-04  2020-07-22  GIG  MIA   3666   \n",
       "3579         136  23/01/2020 16  2020-07-04  2020-07-23  GIG  MIA   3718   \n",
       "3582         139  23/01/2020 16  2020-07-05  2020-07-19  GIG  MIA   3585   \n",
       "3583         140  23/01/2020 16  2020-07-05  2020-07-20  GIG  MIA   3608   \n",
       "3584         141  23/01/2020 16  2020-07-05  2020-07-21  GIG  MIA   3605   \n",
       "3585         142  23/01/2020 16  2020-07-05  2020-07-22  GIG  MIA   3614   \n",
       "3586         143  23/01/2020 16  2020-07-05  2020-07-23  GIG  MIA   3645   \n",
       "3589         146  23/01/2020 16  2020-07-06  2020-07-19  GIG  MIA   3671   \n",
       "3590         147  23/01/2020 16  2020-07-06  2020-07-20  GIG  MIA   3633   \n",
       "3591         148  23/01/2020 16  2020-07-06  2020-07-21  GIG  MIA   3636   \n",
       "3592         149  23/01/2020 16  2020-07-06  2020-07-22  GIG  MIA   3637   \n",
       "3593         150  23/01/2020 16  2020-07-06  2020-07-23  GIG  MIA   3677   \n",
       "\n",
       "     DataPesquisaDATA  Dias OrigemDestino      EspecificoIda  \\\n",
       "0          2020-01-16    15        POAATL  POAATL-2020-07-05   \n",
       "10         2020-01-16    16        POAMIA  POAMIA-2020-07-03   \n",
       "11         2020-01-16    17        POAMIA  POAMIA-2020-07-03   \n",
       "12         2020-01-16    18        POAMIA  POAMIA-2020-07-03   \n",
       "13         2020-01-16    19        POAMIA  POAMIA-2020-07-03   \n",
       "14         2020-01-16    20        POAMIA  POAMIA-2020-07-03   \n",
       "17         2020-01-16    15        POAMIA  POAMIA-2020-07-04   \n",
       "18         2020-01-16    16        POAMIA  POAMIA-2020-07-04   \n",
       "19         2020-01-16    17        POAMIA  POAMIA-2020-07-04   \n",
       "20         2020-01-16    18        POAMIA  POAMIA-2020-07-04   \n",
       "21         2020-01-16    19        POAMIA  POAMIA-2020-07-04   \n",
       "24         2020-01-16    14        POAMIA  POAMIA-2020-07-05   \n",
       "25         2020-01-16    15        POAMIA  POAMIA-2020-07-05   \n",
       "26         2020-01-16    16        POAMIA  POAMIA-2020-07-05   \n",
       "27         2020-01-16    17        POAMIA  POAMIA-2020-07-05   \n",
       "28         2020-01-16    18        POAMIA  POAMIA-2020-07-05   \n",
       "31         2020-01-16    13        POAMIA  POAMIA-2020-07-06   \n",
       "32         2020-01-16    14        POAMIA  POAMIA-2020-07-06   \n",
       "33         2020-01-16    15        POAMIA  POAMIA-2020-07-06   \n",
       "34         2020-01-16    16        POAMIA  POAMIA-2020-07-06   \n",
       "35         2020-01-16    17        POAMIA  POAMIA-2020-07-06   \n",
       "38         2020-01-16    12        POAMIA  POAMIA-2020-07-07   \n",
       "39         2020-01-16    13        POAMIA  POAMIA-2020-07-07   \n",
       "40         2020-01-16    14        POAMIA  POAMIA-2020-07-07   \n",
       "41         2020-01-16    15        POAMIA  POAMIA-2020-07-07   \n",
       "42         2020-01-16    16        POAMIA  POAMIA-2020-07-07   \n",
       "51         2020-01-16    15        GRUATL  GRUATL-2020-07-05   \n",
       "52         2020-01-16    14        GRUATL  GRUATL-2020-07-07   \n",
       "53         2020-01-16    16        GRUATL  GRUATL-2020-07-07   \n",
       "63         2020-01-16    16        GRUMIA  GRUMIA-2020-07-03   \n",
       "...               ...   ...           ...                ...   \n",
       "3533       2020-01-23    15        GRUMIA  GRUMIA-2020-07-05   \n",
       "3534       2020-01-23    16        GRUMIA  GRUMIA-2020-07-05   \n",
       "3535       2020-01-23    17        GRUMIA  GRUMIA-2020-07-05   \n",
       "3536       2020-01-23    18        GRUMIA  GRUMIA-2020-07-05   \n",
       "3539       2020-01-23    13        GRUMIA  GRUMIA-2020-07-06   \n",
       "3540       2020-01-23    14        GRUMIA  GRUMIA-2020-07-06   \n",
       "3541       2020-01-23    15        GRUMIA  GRUMIA-2020-07-06   \n",
       "3542       2020-01-23    16        GRUMIA  GRUMIA-2020-07-06   \n",
       "3543       2020-01-23    17        GRUMIA  GRUMIA-2020-07-06   \n",
       "3544       2020-01-23    17        GIGATL  GIGATL-2020-07-03   \n",
       "3568       2020-01-23    16        GIGMIA  GIGMIA-2020-07-03   \n",
       "3569       2020-01-23    17        GIGMIA  GIGMIA-2020-07-03   \n",
       "3570       2020-01-23    18        GIGMIA  GIGMIA-2020-07-03   \n",
       "3571       2020-01-23    19        GIGMIA  GIGMIA-2020-07-03   \n",
       "3572       2020-01-23    20        GIGMIA  GIGMIA-2020-07-03   \n",
       "3575       2020-01-23    15        GIGMIA  GIGMIA-2020-07-04   \n",
       "3576       2020-01-23    16        GIGMIA  GIGMIA-2020-07-04   \n",
       "3577       2020-01-23    17        GIGMIA  GIGMIA-2020-07-04   \n",
       "3578       2020-01-23    18        GIGMIA  GIGMIA-2020-07-04   \n",
       "3579       2020-01-23    19        GIGMIA  GIGMIA-2020-07-04   \n",
       "3582       2020-01-23    14        GIGMIA  GIGMIA-2020-07-05   \n",
       "3583       2020-01-23    15        GIGMIA  GIGMIA-2020-07-05   \n",
       "3584       2020-01-23    16        GIGMIA  GIGMIA-2020-07-05   \n",
       "3585       2020-01-23    17        GIGMIA  GIGMIA-2020-07-05   \n",
       "3586       2020-01-23    18        GIGMIA  GIGMIA-2020-07-05   \n",
       "3589       2020-01-23    13        GIGMIA  GIGMIA-2020-07-06   \n",
       "3590       2020-01-23    14        GIGMIA  GIGMIA-2020-07-06   \n",
       "3591       2020-01-23    15        GIGMIA  GIGMIA-2020-07-06   \n",
       "3592       2020-01-23    16        GIGMIA  GIGMIA-2020-07-06   \n",
       "3593       2020-01-23    17        GIGMIA  GIGMIA-2020-07-06   \n",
       "\n",
       "        EspecificoVolta               EspecificoTodos  \n",
       "0     POAATL-2020-07-20  POAATL-2020-07-05-2020-07-20  \n",
       "10    POAMIA-2020-07-19  POAMIA-2020-07-03-2020-07-19  \n",
       "11    POAMIA-2020-07-20  POAMIA-2020-07-03-2020-07-20  \n",
       "12    POAMIA-2020-07-21  POAMIA-2020-07-03-2020-07-21  \n",
       "13    POAMIA-2020-07-22  POAMIA-2020-07-03-2020-07-22  \n",
       "14    POAMIA-2020-07-23  POAMIA-2020-07-03-2020-07-23  \n",
       "17    POAMIA-2020-07-19  POAMIA-2020-07-04-2020-07-19  \n",
       "18    POAMIA-2020-07-20  POAMIA-2020-07-04-2020-07-20  \n",
       "19    POAMIA-2020-07-21  POAMIA-2020-07-04-2020-07-21  \n",
       "20    POAMIA-2020-07-22  POAMIA-2020-07-04-2020-07-22  \n",
       "21    POAMIA-2020-07-23  POAMIA-2020-07-04-2020-07-23  \n",
       "24    POAMIA-2020-07-19  POAMIA-2020-07-05-2020-07-19  \n",
       "25    POAMIA-2020-07-20  POAMIA-2020-07-05-2020-07-20  \n",
       "26    POAMIA-2020-07-21  POAMIA-2020-07-05-2020-07-21  \n",
       "27    POAMIA-2020-07-22  POAMIA-2020-07-05-2020-07-22  \n",
       "28    POAMIA-2020-07-23  POAMIA-2020-07-05-2020-07-23  \n",
       "31    POAMIA-2020-07-19  POAMIA-2020-07-06-2020-07-19  \n",
       "32    POAMIA-2020-07-20  POAMIA-2020-07-06-2020-07-20  \n",
       "33    POAMIA-2020-07-21  POAMIA-2020-07-06-2020-07-21  \n",
       "34    POAMIA-2020-07-22  POAMIA-2020-07-06-2020-07-22  \n",
       "35    POAMIA-2020-07-23  POAMIA-2020-07-06-2020-07-23  \n",
       "38    POAMIA-2020-07-19  POAMIA-2020-07-07-2020-07-19  \n",
       "39    POAMIA-2020-07-20  POAMIA-2020-07-07-2020-07-20  \n",
       "40    POAMIA-2020-07-21  POAMIA-2020-07-07-2020-07-21  \n",
       "41    POAMIA-2020-07-22  POAMIA-2020-07-07-2020-07-22  \n",
       "42    POAMIA-2020-07-23  POAMIA-2020-07-07-2020-07-23  \n",
       "51    GRUATL-2020-07-20  GRUATL-2020-07-05-2020-07-20  \n",
       "52    GRUATL-2020-07-21  GRUATL-2020-07-07-2020-07-21  \n",
       "53    GRUATL-2020-07-23  GRUATL-2020-07-07-2020-07-23  \n",
       "63    GRUMIA-2020-07-19  GRUMIA-2020-07-03-2020-07-19  \n",
       "...                 ...                           ...  \n",
       "3533  GRUMIA-2020-07-20  GRUMIA-2020-07-05-2020-07-20  \n",
       "3534  GRUMIA-2020-07-21  GRUMIA-2020-07-05-2020-07-21  \n",
       "3535  GRUMIA-2020-07-22  GRUMIA-2020-07-05-2020-07-22  \n",
       "3536  GRUMIA-2020-07-23  GRUMIA-2020-07-05-2020-07-23  \n",
       "3539  GRUMIA-2020-07-19  GRUMIA-2020-07-06-2020-07-19  \n",
       "3540  GRUMIA-2020-07-20  GRUMIA-2020-07-06-2020-07-20  \n",
       "3541  GRUMIA-2020-07-21  GRUMIA-2020-07-06-2020-07-21  \n",
       "3542  GRUMIA-2020-07-22  GRUMIA-2020-07-06-2020-07-22  \n",
       "3543  GRUMIA-2020-07-23  GRUMIA-2020-07-06-2020-07-23  \n",
       "3544  GIGATL-2020-07-20  GIGATL-2020-07-03-2020-07-20  \n",
       "3568  GIGMIA-2020-07-19  GIGMIA-2020-07-03-2020-07-19  \n",
       "3569  GIGMIA-2020-07-20  GIGMIA-2020-07-03-2020-07-20  \n",
       "3570  GIGMIA-2020-07-21  GIGMIA-2020-07-03-2020-07-21  \n",
       "3571  GIGMIA-2020-07-22  GIGMIA-2020-07-03-2020-07-22  \n",
       "3572  GIGMIA-2020-07-23  GIGMIA-2020-07-03-2020-07-23  \n",
       "3575  GIGMIA-2020-07-19  GIGMIA-2020-07-04-2020-07-19  \n",
       "3576  GIGMIA-2020-07-20  GIGMIA-2020-07-04-2020-07-20  \n",
       "3577  GIGMIA-2020-07-21  GIGMIA-2020-07-04-2020-07-21  \n",
       "3578  GIGMIA-2020-07-22  GIGMIA-2020-07-04-2020-07-22  \n",
       "3579  GIGMIA-2020-07-23  GIGMIA-2020-07-04-2020-07-23  \n",
       "3582  GIGMIA-2020-07-19  GIGMIA-2020-07-05-2020-07-19  \n",
       "3583  GIGMIA-2020-07-20  GIGMIA-2020-07-05-2020-07-20  \n",
       "3584  GIGMIA-2020-07-21  GIGMIA-2020-07-05-2020-07-21  \n",
       "3585  GIGMIA-2020-07-22  GIGMIA-2020-07-05-2020-07-22  \n",
       "3586  GIGMIA-2020-07-23  GIGMIA-2020-07-05-2020-07-23  \n",
       "3589  GIGMIA-2020-07-19  GIGMIA-2020-07-06-2020-07-19  \n",
       "3590  GIGMIA-2020-07-20  GIGMIA-2020-07-06-2020-07-20  \n",
       "3591  GIGMIA-2020-07-21  GIGMIA-2020-07-06-2020-07-21  \n",
       "3592  GIGMIA-2020-07-22  GIGMIA-2020-07-06-2020-07-22  \n",
       "3593  GIGMIA-2020-07-23  GIGMIA-2020-07-06-2020-07-23  \n",
       "\n",
       "[1768 rows x 13 columns]"
      ]
     },
     "metadata": {},
     "output_type": "display_data"
    }
   ],
   "source": [
    "dfGrafico['OrigemDestino'] = dfGrafico.apply(lambda x: x['de'] + x['para'],axis=1)\n",
    "dfGrafico['EspecificoIda'] = dfGrafico.apply(lambda x: x['de'] + x['para']+'-'+x['Ida'],axis=1)\n",
    "dfGrafico['EspecificoVolta'] = dfGrafico.apply(lambda x: x['de'] + x['para']+'-'+x['Volta'],axis=1)\n",
    "dfGrafico['EspecificoTodos'] = dfGrafico.apply(lambda x: x['de'] + x['para']+'-'+x['Ida']+'-'+x['Volta'],axis=1)\n",
    "display(dfGrafico)"
   ]
  },
  {
   "cell_type": "code",
   "execution_count": 70,
   "metadata": {},
   "outputs": [
    {
     "name": "stdout",
     "output_type": "stream",
     "text": [
      "32\n",
      "540\n",
      "540\n",
      "39\n"
     ]
    }
   ],
   "source": [
    "dfGraficoPOA_ATL = dfGrafico.query('de == \"POA\" & para == \"ATL\"')\n",
    "dfGraficoPOA_MIA = dfGrafico.query('de == \"POA\" & para == \"MIA\"')\n",
    "dfGraficoGRU_MIA = dfGrafico.query('de == \"GRU\" & para == \"MIA\"')\n",
    "dfGraficoGRU_ATL = dfGrafico.query('de == \"GRU\" & para == \"ATL\"')\n",
    "\n",
    "datasets = [dfGrafico,dfGraficoPOA_ATL,dfGraficoPOA_MIA,dfGraficoGRU_MIA,dfGraficoGRU_ATL]\n",
    "\n",
    "print(dfGraficoPOA_ATL['Ida'].count())\n",
    "print(dfGraficoPOA_MIA['Ida'].count())\n",
    "print(dfGraficoGRU_MIA['Ida'].count())\n",
    "print(dfGraficoGRU_ATL['Ida'].count())"
   ]
  },
  {
   "cell_type": "code",
   "execution_count": 71,
   "metadata": {
    "scrolled": false
   },
   "outputs": [
    {
     "data": {
      "application/vnd.plotly.v1+json": {
       "config": {
        "plotlyServerURL": "https://plot.ly"
       },
       "data": [
        {
         "customdata": [
          [
           "POA",
           "ATL",
           "2020-07-05",
           "2020-07-20",
           6561
          ],
          [
           "POA",
           "ATL",
           "2020-07-05",
           "2020-07-20",
           6561
          ],
          [
           "POA",
           "ATL",
           "2020-07-05",
           "2020-07-20",
           6175
          ],
          [
           "POA",
           "ATL",
           "2020-07-05",
           "2020-07-20",
           6175
          ],
          [
           "POA",
           "ATL",
           "2020-07-05",
           "2020-07-20",
           6175
          ],
          [
           "POA",
           "ATL",
           "2020-07-05",
           "2020-07-20",
           6175
          ],
          [
           "POA",
           "ATL",
           "2020-07-05",
           "2020-07-20",
           5731
          ],
          [
           "POA",
           "ATL",
           "2020-07-05",
           "2020-07-20",
           5731
          ],
          [
           "POA",
           "ATL",
           "2020-07-05",
           "2020-07-20",
           5731
          ],
          [
           "POA",
           "ATL",
           "2020-07-05",
           "2020-07-20",
           5731
          ],
          [
           "POA",
           "ATL",
           "2020-07-05",
           "2020-07-20",
           6544
          ],
          [
           "POA",
           "ATL",
           "2020-07-05",
           "2020-07-20",
           6544
          ],
          [
           "POA",
           "ATL",
           "2020-07-05",
           "2020-07-20",
           6544
          ]
         ],
         "hoverlabel": {
          "namelength": 0
         },
         "hovertemplate": "EspecificoTodos=POAATL-2020-07-05-2020-07-20<br>DataPesquisa=%{x}<br>preco=%{customdata[4]}<br>de=%{customdata[0]}<br>para=%{customdata[1]}<br>Ida=%{customdata[2]}<br>Volta=%{customdata[3]}",
         "legendgroup": "EspecificoTodos=POAATL-2020-07-05-2020-07-20",
         "line": {
          "color": "#636efa",
          "dash": "solid"
         },
         "mode": "lines",
         "name": "EspecificoTodos=POAATL-2020-07-05-2020-07-20",
         "showlegend": true,
         "type": "scatter",
         "x": [
          "16/01/2020 15",
          "16/01/2020 17",
          "17/01/2020 09",
          "17/01/2020 10",
          "17/01/2020 12",
          "17/01/2020 16",
          "20/01/2020 08",
          "20/01/2020 11",
          "20/01/2020 15",
          "20/01/2020 16",
          "21/01/2020 09",
          "21/01/2020 10",
          "21/01/2020 16"
         ],
         "xaxis": "x",
         "y": [
          6561,
          6561,
          6175,
          6175,
          6175,
          6175,
          5731,
          5731,
          5731,
          5731,
          6544,
          6544,
          6544
         ],
         "yaxis": "y"
        },
        {
         "customdata": [
          [
           "POA",
           "MIA",
           "2020-07-03",
           "2020-07-19",
           3789
          ],
          [
           "POA",
           "MIA",
           "2020-07-03",
           "2020-07-19",
           3937
          ],
          [
           "POA",
           "MIA",
           "2020-07-03",
           "2020-07-19",
           3562
          ],
          [
           "POA",
           "MIA",
           "2020-07-03",
           "2020-07-19",
           3831
          ],
          [
           "POA",
           "MIA",
           "2020-07-03",
           "2020-07-19",
           3882
          ],
          [
           "POA",
           "MIA",
           "2020-07-03",
           "2020-07-19",
           3803
          ],
          [
           "POA",
           "MIA",
           "2020-07-03",
           "2020-07-19",
           3738
          ],
          [
           "POA",
           "MIA",
           "2020-07-03",
           "2020-07-19",
           3827
          ],
          [
           "POA",
           "MIA",
           "2020-07-03",
           "2020-07-19",
           3856
          ],
          [
           "POA",
           "MIA",
           "2020-07-03",
           "2020-07-19",
           3833
          ],
          [
           "POA",
           "MIA",
           "2020-07-03",
           "2020-07-19",
           3861
          ],
          [
           "POA",
           "MIA",
           "2020-07-03",
           "2020-07-19",
           3574
          ],
          [
           "POA",
           "MIA",
           "2020-07-03",
           "2020-07-19",
           3732
          ],
          [
           "POA",
           "MIA",
           "2020-07-03",
           "2020-07-19",
           3517
          ],
          [
           "POA",
           "MIA",
           "2020-07-03",
           "2020-07-19",
           4187
          ],
          [
           "POA",
           "MIA",
           "2020-07-03",
           "2020-07-19",
           4104
          ],
          [
           "POA",
           "MIA",
           "2020-07-03",
           "2020-07-19",
           3582
          ],
          [
           "POA",
           "MIA",
           "2020-07-03",
           "2020-07-19",
           3582
          ]
         ],
         "hoverlabel": {
          "namelength": 0
         },
         "hovertemplate": "EspecificoTodos=POAMIA-2020-07-03-2020-07-19<br>DataPesquisa=%{x}<br>preco=%{customdata[4]}<br>de=%{customdata[0]}<br>para=%{customdata[1]}<br>Ida=%{customdata[2]}<br>Volta=%{customdata[3]}",
         "legendgroup": "EspecificoTodos=POAMIA-2020-07-03-2020-07-19",
         "line": {
          "color": "#EF553B",
          "dash": "solid"
         },
         "mode": "lines",
         "name": "EspecificoTodos=POAMIA-2020-07-03-2020-07-19",
         "showlegend": true,
         "type": "scatter",
         "x": [
          "16/01/2020 15",
          "16/01/2020 17",
          "17/01/2020 09",
          "17/01/2020 10",
          "17/01/2020 12",
          "17/01/2020 16",
          "20/01/2020 08",
          "20/01/2020 11",
          "20/01/2020 15",
          "20/01/2020 16",
          "21/01/2020 09",
          "21/01/2020 10",
          "21/01/2020 16",
          "22/01/2020 09",
          "22/01/2020 18",
          "23/01/2020 09",
          "23/01/2020 15",
          "23/01/2020 16"
         ],
         "xaxis": "x",
         "y": [
          3789,
          3937,
          3562,
          3831,
          3882,
          3803,
          3738,
          3827,
          3856,
          3833,
          3861,
          3574,
          3732,
          3517,
          4187,
          4104,
          3582,
          3582
         ],
         "yaxis": "y"
        },
        {
         "customdata": [
          [
           "POA",
           "MIA",
           "2020-07-03",
           "2020-07-20",
           3748
          ],
          [
           "POA",
           "MIA",
           "2020-07-03",
           "2020-07-20",
           3807
          ],
          [
           "POA",
           "MIA",
           "2020-07-03",
           "2020-07-20",
           3493
          ],
          [
           "POA",
           "MIA",
           "2020-07-03",
           "2020-07-20",
           3686
          ],
          [
           "POA",
           "MIA",
           "2020-07-03",
           "2020-07-20",
           3622
          ],
          [
           "POA",
           "MIA",
           "2020-07-03",
           "2020-07-20",
           3757
          ],
          [
           "POA",
           "MIA",
           "2020-07-03",
           "2020-07-20",
           3489
          ],
          [
           "POA",
           "MIA",
           "2020-07-03",
           "2020-07-20",
           3748
          ],
          [
           "POA",
           "MIA",
           "2020-07-03",
           "2020-07-20",
           3749
          ],
          [
           "POA",
           "MIA",
           "2020-07-03",
           "2020-07-20",
           3798
          ],
          [
           "POA",
           "MIA",
           "2020-07-03",
           "2020-07-20",
           3650
          ],
          [
           "POA",
           "MIA",
           "2020-07-03",
           "2020-07-20",
           3551
          ],
          [
           "POA",
           "MIA",
           "2020-07-03",
           "2020-07-20",
           3521
          ],
          [
           "POA",
           "MIA",
           "2020-07-03",
           "2020-07-20",
           3480
          ],
          [
           "POA",
           "MIA",
           "2020-07-03",
           "2020-07-20",
           3747
          ],
          [
           "POA",
           "MIA",
           "2020-07-03",
           "2020-07-20",
           3819
          ],
          [
           "POA",
           "MIA",
           "2020-07-03",
           "2020-07-20",
           3660
          ],
          [
           "POA",
           "MIA",
           "2020-07-03",
           "2020-07-20",
           3660
          ]
         ],
         "hoverlabel": {
          "namelength": 0
         },
         "hovertemplate": "EspecificoTodos=POAMIA-2020-07-03-2020-07-20<br>DataPesquisa=%{x}<br>preco=%{customdata[4]}<br>de=%{customdata[0]}<br>para=%{customdata[1]}<br>Ida=%{customdata[2]}<br>Volta=%{customdata[3]}",
         "legendgroup": "EspecificoTodos=POAMIA-2020-07-03-2020-07-20",
         "line": {
          "color": "#00cc96",
          "dash": "solid"
         },
         "mode": "lines",
         "name": "EspecificoTodos=POAMIA-2020-07-03-2020-07-20",
         "showlegend": true,
         "type": "scatter",
         "x": [
          "16/01/2020 15",
          "16/01/2020 17",
          "17/01/2020 09",
          "17/01/2020 10",
          "17/01/2020 12",
          "17/01/2020 16",
          "20/01/2020 08",
          "20/01/2020 11",
          "20/01/2020 15",
          "20/01/2020 16",
          "21/01/2020 09",
          "21/01/2020 10",
          "21/01/2020 16",
          "22/01/2020 09",
          "22/01/2020 18",
          "23/01/2020 09",
          "23/01/2020 15",
          "23/01/2020 16"
         ],
         "xaxis": "x",
         "y": [
          3748,
          3807,
          3493,
          3686,
          3622,
          3757,
          3489,
          3748,
          3749,
          3798,
          3650,
          3551,
          3521,
          3480,
          3747,
          3819,
          3660,
          3660
         ],
         "yaxis": "y"
        },
        {
         "customdata": [
          [
           "POA",
           "MIA",
           "2020-07-04",
           "2020-07-19",
           3823
          ],
          [
           "POA",
           "MIA",
           "2020-07-04",
           "2020-07-19",
           4017
          ],
          [
           "POA",
           "MIA",
           "2020-07-04",
           "2020-07-19",
           3736
          ],
          [
           "POA",
           "MIA",
           "2020-07-04",
           "2020-07-19",
           3846
          ],
          [
           "POA",
           "MIA",
           "2020-07-04",
           "2020-07-19",
           3994
          ],
          [
           "POA",
           "MIA",
           "2020-07-04",
           "2020-07-19",
           3880
          ],
          [
           "POA",
           "MIA",
           "2020-07-04",
           "2020-07-19",
           3782
          ],
          [
           "POA",
           "MIA",
           "2020-07-04",
           "2020-07-19",
           4127
          ],
          [
           "POA",
           "MIA",
           "2020-07-04",
           "2020-07-19",
           4127
          ],
          [
           "POA",
           "MIA",
           "2020-07-04",
           "2020-07-19",
           4127
          ],
          [
           "POA",
           "MIA",
           "2020-07-04",
           "2020-07-19",
           3871
          ],
          [
           "POA",
           "MIA",
           "2020-07-04",
           "2020-07-19",
           3858
          ],
          [
           "POA",
           "MIA",
           "2020-07-04",
           "2020-07-19",
           3981
          ],
          [
           "POA",
           "MIA",
           "2020-07-04",
           "2020-07-19",
           3916
          ],
          [
           "POA",
           "MIA",
           "2020-07-04",
           "2020-07-19",
           4022
          ],
          [
           "POA",
           "MIA",
           "2020-07-04",
           "2020-07-19",
           3932
          ],
          [
           "POA",
           "MIA",
           "2020-07-04",
           "2020-07-19",
           3670
          ],
          [
           "POA",
           "MIA",
           "2020-07-04",
           "2020-07-19",
           3670
          ]
         ],
         "hoverlabel": {
          "namelength": 0
         },
         "hovertemplate": "EspecificoTodos=POAMIA-2020-07-04-2020-07-19<br>DataPesquisa=%{x}<br>preco=%{customdata[4]}<br>de=%{customdata[0]}<br>para=%{customdata[1]}<br>Ida=%{customdata[2]}<br>Volta=%{customdata[3]}",
         "legendgroup": "EspecificoTodos=POAMIA-2020-07-04-2020-07-19",
         "line": {
          "color": "#ab63fa",
          "dash": "solid"
         },
         "mode": "lines",
         "name": "EspecificoTodos=POAMIA-2020-07-04-2020-07-19",
         "showlegend": true,
         "type": "scatter",
         "x": [
          "16/01/2020 15",
          "16/01/2020 17",
          "17/01/2020 09",
          "17/01/2020 10",
          "17/01/2020 12",
          "17/01/2020 16",
          "20/01/2020 08",
          "20/01/2020 11",
          "20/01/2020 15",
          "20/01/2020 16",
          "21/01/2020 09",
          "21/01/2020 10",
          "21/01/2020 16",
          "22/01/2020 09",
          "22/01/2020 18",
          "23/01/2020 09",
          "23/01/2020 15",
          "23/01/2020 16"
         ],
         "xaxis": "x",
         "y": [
          3823,
          4017,
          3736,
          3846,
          3994,
          3880,
          3782,
          4127,
          4127,
          4127,
          3871,
          3858,
          3981,
          3916,
          4022,
          3932,
          3670,
          3670
         ],
         "yaxis": "y"
        },
        {
         "customdata": [
          [
           "POA",
           "MIA",
           "2020-07-04",
           "2020-07-20",
           3838
          ],
          [
           "POA",
           "MIA",
           "2020-07-04",
           "2020-07-20",
           3932
          ],
          [
           "POA",
           "MIA",
           "2020-07-04",
           "2020-07-20",
           3577
          ],
          [
           "POA",
           "MIA",
           "2020-07-04",
           "2020-07-20",
           3832
          ],
          [
           "POA",
           "MIA",
           "2020-07-04",
           "2020-07-20",
           3769
          ],
          [
           "POA",
           "MIA",
           "2020-07-04",
           "2020-07-20",
           3786
          ],
          [
           "POA",
           "MIA",
           "2020-07-04",
           "2020-07-20",
           3564
          ],
          [
           "POA",
           "MIA",
           "2020-07-04",
           "2020-07-20",
           3733
          ],
          [
           "POA",
           "MIA",
           "2020-07-04",
           "2020-07-20",
           3744
          ],
          [
           "POA",
           "MIA",
           "2020-07-04",
           "2020-07-20",
           3740
          ],
          [
           "POA",
           "MIA",
           "2020-07-04",
           "2020-07-20",
           3666
          ],
          [
           "POA",
           "MIA",
           "2020-07-04",
           "2020-07-20",
           3749
          ],
          [
           "POA",
           "MIA",
           "2020-07-04",
           "2020-07-20",
           3754
          ],
          [
           "POA",
           "MIA",
           "2020-07-04",
           "2020-07-20",
           3703
          ],
          [
           "POA",
           "MIA",
           "2020-07-04",
           "2020-07-20",
           3830
          ],
          [
           "POA",
           "MIA",
           "2020-07-04",
           "2020-07-20",
           3777
          ],
          [
           "POA",
           "MIA",
           "2020-07-04",
           "2020-07-20",
           3722
          ],
          [
           "POA",
           "MIA",
           "2020-07-04",
           "2020-07-20",
           3722
          ]
         ],
         "hoverlabel": {
          "namelength": 0
         },
         "hovertemplate": "EspecificoTodos=POAMIA-2020-07-04-2020-07-20<br>DataPesquisa=%{x}<br>preco=%{customdata[4]}<br>de=%{customdata[0]}<br>para=%{customdata[1]}<br>Ida=%{customdata[2]}<br>Volta=%{customdata[3]}",
         "legendgroup": "EspecificoTodos=POAMIA-2020-07-04-2020-07-20",
         "line": {
          "color": "#FFA15A",
          "dash": "solid"
         },
         "mode": "lines",
         "name": "EspecificoTodos=POAMIA-2020-07-04-2020-07-20",
         "showlegend": true,
         "type": "scatter",
         "x": [
          "16/01/2020 15",
          "16/01/2020 17",
          "17/01/2020 09",
          "17/01/2020 10",
          "17/01/2020 12",
          "17/01/2020 16",
          "20/01/2020 08",
          "20/01/2020 11",
          "20/01/2020 15",
          "20/01/2020 16",
          "21/01/2020 09",
          "21/01/2020 10",
          "21/01/2020 16",
          "22/01/2020 09",
          "22/01/2020 18",
          "23/01/2020 09",
          "23/01/2020 15",
          "23/01/2020 16"
         ],
         "xaxis": "x",
         "y": [
          3838,
          3932,
          3577,
          3832,
          3769,
          3786,
          3564,
          3733,
          3744,
          3740,
          3666,
          3749,
          3754,
          3703,
          3830,
          3777,
          3722,
          3722
         ],
         "yaxis": "y"
        },
        {
         "customdata": [
          [
           "POA",
           "MIA",
           "2020-07-04",
           "2020-07-21",
           3878
          ],
          [
           "POA",
           "MIA",
           "2020-07-04",
           "2020-07-21",
           3877
          ],
          [
           "POA",
           "MIA",
           "2020-07-04",
           "2020-07-21",
           3592
          ],
          [
           "POA",
           "MIA",
           "2020-07-04",
           "2020-07-21",
           3821
          ],
          [
           "POA",
           "MIA",
           "2020-07-04",
           "2020-07-21",
           3792
          ],
          [
           "POA",
           "MIA",
           "2020-07-04",
           "2020-07-21",
           3753
          ],
          [
           "POA",
           "MIA",
           "2020-07-04",
           "2020-07-21",
           3537
          ],
          [
           "POA",
           "MIA",
           "2020-07-04",
           "2020-07-21",
           3580
          ],
          [
           "POA",
           "MIA",
           "2020-07-04",
           "2020-07-21",
           3648
          ],
          [
           "POA",
           "MIA",
           "2020-07-04",
           "2020-07-21",
           3719
          ],
          [
           "POA",
           "MIA",
           "2020-07-04",
           "2020-07-21",
           3615
          ],
          [
           "POA",
           "MIA",
           "2020-07-04",
           "2020-07-21",
           3683
          ],
          [
           "POA",
           "MIA",
           "2020-07-04",
           "2020-07-21",
           3680
          ],
          [
           "POA",
           "MIA",
           "2020-07-04",
           "2020-07-21",
           3711
          ],
          [
           "POA",
           "MIA",
           "2020-07-04",
           "2020-07-21",
           3801
          ],
          [
           "POA",
           "MIA",
           "2020-07-04",
           "2020-07-21",
           3767
          ],
          [
           "POA",
           "MIA",
           "2020-07-04",
           "2020-07-21",
           3724
          ],
          [
           "POA",
           "MIA",
           "2020-07-04",
           "2020-07-21",
           3724
          ]
         ],
         "hoverlabel": {
          "namelength": 0
         },
         "hovertemplate": "EspecificoTodos=POAMIA-2020-07-04-2020-07-21<br>DataPesquisa=%{x}<br>preco=%{customdata[4]}<br>de=%{customdata[0]}<br>para=%{customdata[1]}<br>Ida=%{customdata[2]}<br>Volta=%{customdata[3]}",
         "legendgroup": "EspecificoTodos=POAMIA-2020-07-04-2020-07-21",
         "line": {
          "color": "#19d3f3",
          "dash": "solid"
         },
         "mode": "lines",
         "name": "EspecificoTodos=POAMIA-2020-07-04-2020-07-21",
         "showlegend": true,
         "type": "scatter",
         "x": [
          "16/01/2020 15",
          "16/01/2020 17",
          "17/01/2020 09",
          "17/01/2020 10",
          "17/01/2020 12",
          "17/01/2020 16",
          "20/01/2020 08",
          "20/01/2020 11",
          "20/01/2020 15",
          "20/01/2020 16",
          "21/01/2020 09",
          "21/01/2020 10",
          "21/01/2020 16",
          "22/01/2020 09",
          "22/01/2020 18",
          "23/01/2020 09",
          "23/01/2020 15",
          "23/01/2020 16"
         ],
         "xaxis": "x",
         "y": [
          3878,
          3877,
          3592,
          3821,
          3792,
          3753,
          3537,
          3580,
          3648,
          3719,
          3615,
          3683,
          3680,
          3711,
          3801,
          3767,
          3724,
          3724
         ],
         "yaxis": "y"
        },
        {
         "customdata": [
          [
           "POA",
           "MIA",
           "2020-07-05",
           "2020-07-19",
           3863
          ],
          [
           "POA",
           "MIA",
           "2020-07-05",
           "2020-07-19",
           3957
          ],
          [
           "POA",
           "MIA",
           "2020-07-05",
           "2020-07-19",
           3788
          ],
          [
           "POA",
           "MIA",
           "2020-07-05",
           "2020-07-19",
           4010
          ],
          [
           "POA",
           "MIA",
           "2020-07-05",
           "2020-07-19",
           4082
          ],
          [
           "POA",
           "MIA",
           "2020-07-05",
           "2020-07-19",
           3992
          ],
          [
           "POA",
           "MIA",
           "2020-07-05",
           "2020-07-19",
           3838
          ],
          [
           "POA",
           "MIA",
           "2020-07-05",
           "2020-07-19",
           3800
          ],
          [
           "POA",
           "MIA",
           "2020-07-05",
           "2020-07-19",
           3842
          ],
          [
           "POA",
           "MIA",
           "2020-07-05",
           "2020-07-19",
           3947
          ],
          [
           "POA",
           "MIA",
           "2020-07-05",
           "2020-07-19",
           3804
          ],
          [
           "POA",
           "MIA",
           "2020-07-05",
           "2020-07-19",
           3846
          ],
          [
           "POA",
           "MIA",
           "2020-07-05",
           "2020-07-19",
           3836
          ],
          [
           "POA",
           "MIA",
           "2020-07-05",
           "2020-07-19",
           3860
          ],
          [
           "POA",
           "MIA",
           "2020-07-05",
           "2020-07-19",
           4012
          ],
          [
           "POA",
           "MIA",
           "2020-07-05",
           "2020-07-19",
           3940
          ],
          [
           "POA",
           "MIA",
           "2020-07-05",
           "2020-07-19",
           3844
          ],
          [
           "POA",
           "MIA",
           "2020-07-05",
           "2020-07-19",
           3844
          ]
         ],
         "hoverlabel": {
          "namelength": 0
         },
         "hovertemplate": "EspecificoTodos=POAMIA-2020-07-05-2020-07-19<br>DataPesquisa=%{x}<br>preco=%{customdata[4]}<br>de=%{customdata[0]}<br>para=%{customdata[1]}<br>Ida=%{customdata[2]}<br>Volta=%{customdata[3]}",
         "legendgroup": "EspecificoTodos=POAMIA-2020-07-05-2020-07-19",
         "line": {
          "color": "#FF6692",
          "dash": "solid"
         },
         "mode": "lines",
         "name": "EspecificoTodos=POAMIA-2020-07-05-2020-07-19",
         "showlegend": true,
         "type": "scatter",
         "x": [
          "16/01/2020 15",
          "16/01/2020 17",
          "17/01/2020 09",
          "17/01/2020 10",
          "17/01/2020 12",
          "17/01/2020 16",
          "20/01/2020 08",
          "20/01/2020 11",
          "20/01/2020 15",
          "20/01/2020 16",
          "21/01/2020 09",
          "21/01/2020 10",
          "21/01/2020 16",
          "22/01/2020 09",
          "22/01/2020 18",
          "23/01/2020 09",
          "23/01/2020 15",
          "23/01/2020 16"
         ],
         "xaxis": "x",
         "y": [
          3863,
          3957,
          3788,
          4010,
          4082,
          3992,
          3838,
          3800,
          3842,
          3947,
          3804,
          3846,
          3836,
          3860,
          4012,
          3940,
          3844,
          3844
         ],
         "yaxis": "y"
        },
        {
         "customdata": [
          [
           "POA",
           "MIA",
           "2020-07-05",
           "2020-07-20",
           3948
          ],
          [
           "POA",
           "MIA",
           "2020-07-05",
           "2020-07-20",
           4006
          ],
          [
           "POA",
           "MIA",
           "2020-07-05",
           "2020-07-20",
           3692
          ],
          [
           "POA",
           "MIA",
           "2020-07-05",
           "2020-07-20",
           3973
          ],
          [
           "POA",
           "MIA",
           "2020-07-05",
           "2020-07-20",
           3863
          ],
          [
           "POA",
           "MIA",
           "2020-07-05",
           "2020-07-20",
           3876
          ],
          [
           "POA",
           "MIA",
           "2020-07-05",
           "2020-07-20",
           3599
          ],
          [
           "POA",
           "MIA",
           "2020-07-05",
           "2020-07-20",
           3655
          ],
          [
           "POA",
           "MIA",
           "2020-07-05",
           "2020-07-20",
           3682
          ],
          [
           "POA",
           "MIA",
           "2020-07-05",
           "2020-07-20",
           3776
          ],
          [
           "POA",
           "MIA",
           "2020-07-05",
           "2020-07-20",
           3630
          ],
          [
           "POA",
           "MIA",
           "2020-07-05",
           "2020-07-20",
           3757
          ],
          [
           "POA",
           "MIA",
           "2020-07-05",
           "2020-07-20",
           3684
          ],
          [
           "POA",
           "MIA",
           "2020-07-05",
           "2020-07-20",
           3745
          ],
          [
           "POA",
           "MIA",
           "2020-07-05",
           "2020-07-20",
           3761
          ],
          [
           "POA",
           "MIA",
           "2020-07-05",
           "2020-07-20",
           3771
          ],
          [
           "POA",
           "MIA",
           "2020-07-05",
           "2020-07-20",
           3795
          ],
          [
           "POA",
           "MIA",
           "2020-07-05",
           "2020-07-20",
           3795
          ]
         ],
         "hoverlabel": {
          "namelength": 0
         },
         "hovertemplate": "EspecificoTodos=POAMIA-2020-07-05-2020-07-20<br>DataPesquisa=%{x}<br>preco=%{customdata[4]}<br>de=%{customdata[0]}<br>para=%{customdata[1]}<br>Ida=%{customdata[2]}<br>Volta=%{customdata[3]}",
         "legendgroup": "EspecificoTodos=POAMIA-2020-07-05-2020-07-20",
         "line": {
          "color": "#B6E880",
          "dash": "solid"
         },
         "mode": "lines",
         "name": "EspecificoTodos=POAMIA-2020-07-05-2020-07-20",
         "showlegend": true,
         "type": "scatter",
         "x": [
          "16/01/2020 15",
          "16/01/2020 17",
          "17/01/2020 09",
          "17/01/2020 10",
          "17/01/2020 12",
          "17/01/2020 16",
          "20/01/2020 08",
          "20/01/2020 11",
          "20/01/2020 15",
          "20/01/2020 16",
          "21/01/2020 09",
          "21/01/2020 10",
          "21/01/2020 16",
          "22/01/2020 09",
          "22/01/2020 18",
          "23/01/2020 09",
          "23/01/2020 15",
          "23/01/2020 16"
         ],
         "xaxis": "x",
         "y": [
          3948,
          4006,
          3692,
          3973,
          3863,
          3876,
          3599,
          3655,
          3682,
          3776,
          3630,
          3757,
          3684,
          3745,
          3761,
          3771,
          3795,
          3795
         ],
         "yaxis": "y"
        },
        {
         "customdata": [
          [
           "POA",
           "MIA",
           "2020-07-05",
           "2020-07-21",
           3918
          ],
          [
           "POA",
           "MIA",
           "2020-07-05",
           "2020-07-21",
           3972
          ],
          [
           "POA",
           "MIA",
           "2020-07-05",
           "2020-07-21",
           3700
          ],
          [
           "POA",
           "MIA",
           "2020-07-05",
           "2020-07-21",
           3954
          ],
          [
           "POA",
           "MIA",
           "2020-07-05",
           "2020-07-21",
           3867
          ],
          [
           "POA",
           "MIA",
           "2020-07-05",
           "2020-07-21",
           3851
          ],
          [
           "POA",
           "MIA",
           "2020-07-05",
           "2020-07-21",
           3518
          ],
          [
           "POA",
           "MIA",
           "2020-07-05",
           "2020-07-21",
           3548
          ],
          [
           "POA",
           "MIA",
           "2020-07-05",
           "2020-07-21",
           3593
          ],
          [
           "POA",
           "MIA",
           "2020-07-05",
           "2020-07-21",
           3692
          ],
          [
           "POA",
           "MIA",
           "2020-07-05",
           "2020-07-21",
           3598
          ],
          [
           "POA",
           "MIA",
           "2020-07-05",
           "2020-07-21",
           3642
          ],
          [
           "POA",
           "MIA",
           "2020-07-05",
           "2020-07-21",
           3601
          ],
          [
           "POA",
           "MIA",
           "2020-07-05",
           "2020-07-21",
           3704
          ],
          [
           "POA",
           "MIA",
           "2020-07-05",
           "2020-07-21",
           3702
          ],
          [
           "POA",
           "MIA",
           "2020-07-05",
           "2020-07-21",
           3771
          ],
          [
           "POA",
           "MIA",
           "2020-07-05",
           "2020-07-21",
           3766
          ],
          [
           "POA",
           "MIA",
           "2020-07-05",
           "2020-07-21",
           3766
          ]
         ],
         "hoverlabel": {
          "namelength": 0
         },
         "hovertemplate": "EspecificoTodos=POAMIA-2020-07-05-2020-07-21<br>DataPesquisa=%{x}<br>preco=%{customdata[4]}<br>de=%{customdata[0]}<br>para=%{customdata[1]}<br>Ida=%{customdata[2]}<br>Volta=%{customdata[3]}",
         "legendgroup": "EspecificoTodos=POAMIA-2020-07-05-2020-07-21",
         "line": {
          "color": "#FF97FF",
          "dash": "solid"
         },
         "mode": "lines",
         "name": "EspecificoTodos=POAMIA-2020-07-05-2020-07-21",
         "showlegend": true,
         "type": "scatter",
         "x": [
          "16/01/2020 15",
          "16/01/2020 17",
          "17/01/2020 09",
          "17/01/2020 10",
          "17/01/2020 12",
          "17/01/2020 16",
          "20/01/2020 08",
          "20/01/2020 11",
          "20/01/2020 15",
          "20/01/2020 16",
          "21/01/2020 09",
          "21/01/2020 10",
          "21/01/2020 16",
          "22/01/2020 09",
          "22/01/2020 18",
          "23/01/2020 09",
          "23/01/2020 15",
          "23/01/2020 16"
         ],
         "xaxis": "x",
         "y": [
          3918,
          3972,
          3700,
          3954,
          3867,
          3851,
          3518,
          3548,
          3593,
          3692,
          3598,
          3642,
          3601,
          3704,
          3702,
          3771,
          3766,
          3766
         ],
         "yaxis": "y"
        },
        {
         "customdata": [
          [
           "POA",
           "MIA",
           "2020-07-05",
           "2020-07-22",
           3939
          ],
          [
           "POA",
           "MIA",
           "2020-07-05",
           "2020-07-22",
           3923
          ],
          [
           "POA",
           "MIA",
           "2020-07-05",
           "2020-07-22",
           3697
          ],
          [
           "POA",
           "MIA",
           "2020-07-05",
           "2020-07-22",
           3966
          ],
          [
           "POA",
           "MIA",
           "2020-07-05",
           "2020-07-22",
           3902
          ],
          [
           "POA",
           "MIA",
           "2020-07-05",
           "2020-07-22",
           3910
          ],
          [
           "POA",
           "MIA",
           "2020-07-05",
           "2020-07-22",
           3491
          ],
          [
           "POA",
           "MIA",
           "2020-07-05",
           "2020-07-22",
           3519
          ],
          [
           "POA",
           "MIA",
           "2020-07-05",
           "2020-07-22",
           3532
          ],
          [
           "POA",
           "MIA",
           "2020-07-05",
           "2020-07-22",
           3688
          ],
          [
           "POA",
           "MIA",
           "2020-07-05",
           "2020-07-22",
           3598
          ],
          [
           "POA",
           "MIA",
           "2020-07-05",
           "2020-07-22",
           3653
          ],
          [
           "POA",
           "MIA",
           "2020-07-05",
           "2020-07-22",
           3526
          ],
          [
           "POA",
           "MIA",
           "2020-07-05",
           "2020-07-22",
           3754
          ],
          [
           "POA",
           "MIA",
           "2020-07-05",
           "2020-07-22",
           3720
          ],
          [
           "POA",
           "MIA",
           "2020-07-05",
           "2020-07-22",
           3820
          ],
          [
           "POA",
           "MIA",
           "2020-07-05",
           "2020-07-22",
           3795
          ],
          [
           "POA",
           "MIA",
           "2020-07-05",
           "2020-07-22",
           3795
          ]
         ],
         "hoverlabel": {
          "namelength": 0
         },
         "hovertemplate": "EspecificoTodos=POAMIA-2020-07-05-2020-07-22<br>DataPesquisa=%{x}<br>preco=%{customdata[4]}<br>de=%{customdata[0]}<br>para=%{customdata[1]}<br>Ida=%{customdata[2]}<br>Volta=%{customdata[3]}",
         "legendgroup": "EspecificoTodos=POAMIA-2020-07-05-2020-07-22",
         "line": {
          "color": "#FECB52",
          "dash": "solid"
         },
         "mode": "lines",
         "name": "EspecificoTodos=POAMIA-2020-07-05-2020-07-22",
         "showlegend": true,
         "type": "scatter",
         "x": [
          "16/01/2020 15",
          "16/01/2020 17",
          "17/01/2020 09",
          "17/01/2020 10",
          "17/01/2020 12",
          "17/01/2020 16",
          "20/01/2020 08",
          "20/01/2020 11",
          "20/01/2020 15",
          "20/01/2020 16",
          "21/01/2020 09",
          "21/01/2020 10",
          "21/01/2020 16",
          "22/01/2020 09",
          "22/01/2020 18",
          "23/01/2020 09",
          "23/01/2020 15",
          "23/01/2020 16"
         ],
         "xaxis": "x",
         "y": [
          3939,
          3923,
          3697,
          3966,
          3902,
          3910,
          3491,
          3519,
          3532,
          3688,
          3598,
          3653,
          3526,
          3754,
          3720,
          3820,
          3795,
          3795
         ],
         "yaxis": "y"
        },
        {
         "customdata": [
          [
           "POA",
           "MIA",
           "2020-07-06",
           "2020-07-20",
           3901
          ],
          [
           "POA",
           "MIA",
           "2020-07-06",
           "2020-07-20",
           3936
          ],
          [
           "POA",
           "MIA",
           "2020-07-06",
           "2020-07-20",
           3749
          ],
          [
           "POA",
           "MIA",
           "2020-07-06",
           "2020-07-20",
           3879
          ],
          [
           "POA",
           "MIA",
           "2020-07-06",
           "2020-07-20",
           3723
          ],
          [
           "POA",
           "MIA",
           "2020-07-06",
           "2020-07-20",
           3681
          ],
          [
           "POA",
           "MIA",
           "2020-07-06",
           "2020-07-20",
           3821
          ],
          [
           "POA",
           "MIA",
           "2020-07-06",
           "2020-07-20",
           3805
          ],
          [
           "POA",
           "MIA",
           "2020-07-06",
           "2020-07-20",
           3786
          ],
          [
           "POA",
           "MIA",
           "2020-07-06",
           "2020-07-20",
           3774
          ],
          [
           "POA",
           "MIA",
           "2020-07-06",
           "2020-07-20",
           3622
          ],
          [
           "POA",
           "MIA",
           "2020-07-06",
           "2020-07-20",
           3618
          ],
          [
           "POA",
           "MIA",
           "2020-07-06",
           "2020-07-20",
           3597
          ],
          [
           "POA",
           "MIA",
           "2020-07-06",
           "2020-07-20",
           3561
          ],
          [
           "POA",
           "MIA",
           "2020-07-06",
           "2020-07-20",
           3753
          ],
          [
           "POA",
           "MIA",
           "2020-07-06",
           "2020-07-20",
           3761
          ],
          [
           "POA",
           "MIA",
           "2020-07-06",
           "2020-07-20",
           3687
          ],
          [
           "POA",
           "MIA",
           "2020-07-06",
           "2020-07-20",
           3687
          ]
         ],
         "hoverlabel": {
          "namelength": 0
         },
         "hovertemplate": "EspecificoTodos=POAMIA-2020-07-06-2020-07-20<br>DataPesquisa=%{x}<br>preco=%{customdata[4]}<br>de=%{customdata[0]}<br>para=%{customdata[1]}<br>Ida=%{customdata[2]}<br>Volta=%{customdata[3]}",
         "legendgroup": "EspecificoTodos=POAMIA-2020-07-06-2020-07-20",
         "line": {
          "color": "#636efa",
          "dash": "solid"
         },
         "mode": "lines",
         "name": "EspecificoTodos=POAMIA-2020-07-06-2020-07-20",
         "showlegend": true,
         "type": "scatter",
         "x": [
          "16/01/2020 15",
          "16/01/2020 17",
          "17/01/2020 09",
          "17/01/2020 10",
          "17/01/2020 12",
          "17/01/2020 16",
          "20/01/2020 08",
          "20/01/2020 11",
          "20/01/2020 15",
          "20/01/2020 16",
          "21/01/2020 09",
          "21/01/2020 10",
          "21/01/2020 16",
          "22/01/2020 09",
          "22/01/2020 18",
          "23/01/2020 09",
          "23/01/2020 15",
          "23/01/2020 16"
         ],
         "xaxis": "x",
         "y": [
          3901,
          3936,
          3749,
          3879,
          3723,
          3681,
          3821,
          3805,
          3786,
          3774,
          3622,
          3618,
          3597,
          3561,
          3753,
          3761,
          3687,
          3687
         ],
         "yaxis": "y"
        },
        {
         "customdata": [
          [
           "POA",
           "MIA",
           "2020-07-06",
           "2020-07-21",
           3836
          ],
          [
           "POA",
           "MIA",
           "2020-07-06",
           "2020-07-21",
           3838
          ],
          [
           "POA",
           "MIA",
           "2020-07-06",
           "2020-07-21",
           3651
          ],
          [
           "POA",
           "MIA",
           "2020-07-06",
           "2020-07-21",
           3803
          ],
          [
           "POA",
           "MIA",
           "2020-07-06",
           "2020-07-21",
           3647
          ],
          [
           "POA",
           "MIA",
           "2020-07-06",
           "2020-07-21",
           3548
          ],
          [
           "POA",
           "MIA",
           "2020-07-06",
           "2020-07-21",
           3795
          ],
          [
           "POA",
           "MIA",
           "2020-07-06",
           "2020-07-21",
           3804
          ],
          [
           "POA",
           "MIA",
           "2020-07-06",
           "2020-07-21",
           3794
          ],
          [
           "POA",
           "MIA",
           "2020-07-06",
           "2020-07-21",
           3741
          ],
          [
           "POA",
           "MIA",
           "2020-07-06",
           "2020-07-21",
           3584
          ],
          [
           "POA",
           "MIA",
           "2020-07-06",
           "2020-07-21",
           3496
          ],
          [
           "POA",
           "MIA",
           "2020-07-06",
           "2020-07-21",
           3527
          ],
          [
           "POA",
           "MIA",
           "2020-07-06",
           "2020-07-21",
           3522
          ],
          [
           "POA",
           "MIA",
           "2020-07-06",
           "2020-07-21",
           3884
          ],
          [
           "POA",
           "MIA",
           "2020-07-06",
           "2020-07-21",
           3681
          ],
          [
           "POA",
           "MIA",
           "2020-07-06",
           "2020-07-21",
           3733
          ],
          [
           "POA",
           "MIA",
           "2020-07-06",
           "2020-07-21",
           3733
          ]
         ],
         "hoverlabel": {
          "namelength": 0
         },
         "hovertemplate": "EspecificoTodos=POAMIA-2020-07-06-2020-07-21<br>DataPesquisa=%{x}<br>preco=%{customdata[4]}<br>de=%{customdata[0]}<br>para=%{customdata[1]}<br>Ida=%{customdata[2]}<br>Volta=%{customdata[3]}",
         "legendgroup": "EspecificoTodos=POAMIA-2020-07-06-2020-07-21",
         "line": {
          "color": "#EF553B",
          "dash": "solid"
         },
         "mode": "lines",
         "name": "EspecificoTodos=POAMIA-2020-07-06-2020-07-21",
         "showlegend": true,
         "type": "scatter",
         "x": [
          "16/01/2020 15",
          "16/01/2020 17",
          "17/01/2020 09",
          "17/01/2020 10",
          "17/01/2020 12",
          "17/01/2020 16",
          "20/01/2020 08",
          "20/01/2020 11",
          "20/01/2020 15",
          "20/01/2020 16",
          "21/01/2020 09",
          "21/01/2020 10",
          "21/01/2020 16",
          "22/01/2020 09",
          "22/01/2020 18",
          "23/01/2020 09",
          "23/01/2020 15",
          "23/01/2020 16"
         ],
         "xaxis": "x",
         "y": [
          3836,
          3838,
          3651,
          3803,
          3647,
          3548,
          3795,
          3804,
          3794,
          3741,
          3584,
          3496,
          3527,
          3522,
          3884,
          3681,
          3733,
          3733
         ],
         "yaxis": "y"
        },
        {
         "customdata": [
          [
           "POA",
           "MIA",
           "2020-07-06",
           "2020-07-22",
           3825
          ],
          [
           "POA",
           "MIA",
           "2020-07-06",
           "2020-07-22",
           3826
          ],
          [
           "POA",
           "MIA",
           "2020-07-06",
           "2020-07-22",
           3751
          ],
          [
           "POA",
           "MIA",
           "2020-07-06",
           "2020-07-22",
           3723
          ],
          [
           "POA",
           "MIA",
           "2020-07-06",
           "2020-07-22",
           3615
          ],
          [
           "POA",
           "MIA",
           "2020-07-06",
           "2020-07-22",
           3617
          ],
          [
           "POA",
           "MIA",
           "2020-07-06",
           "2020-07-22",
           3815
          ],
          [
           "POA",
           "MIA",
           "2020-07-06",
           "2020-07-22",
           3786
          ],
          [
           "POA",
           "MIA",
           "2020-07-06",
           "2020-07-22",
           3782
          ],
          [
           "POA",
           "MIA",
           "2020-07-06",
           "2020-07-22",
           3728
          ],
          [
           "POA",
           "MIA",
           "2020-07-06",
           "2020-07-22",
           3654
          ],
          [
           "POA",
           "MIA",
           "2020-07-06",
           "2020-07-22",
           3520
          ],
          [
           "POA",
           "MIA",
           "2020-07-06",
           "2020-07-22",
           3560
          ],
          [
           "POA",
           "MIA",
           "2020-07-06",
           "2020-07-22",
           3529
          ],
          [
           "POA",
           "MIA",
           "2020-07-06",
           "2020-07-22",
           3693
          ],
          [
           "POA",
           "MIA",
           "2020-07-06",
           "2020-07-22",
           3785
          ],
          [
           "POA",
           "MIA",
           "2020-07-06",
           "2020-07-22",
           3744
          ],
          [
           "POA",
           "MIA",
           "2020-07-06",
           "2020-07-22",
           3744
          ]
         ],
         "hoverlabel": {
          "namelength": 0
         },
         "hovertemplate": "EspecificoTodos=POAMIA-2020-07-06-2020-07-22<br>DataPesquisa=%{x}<br>preco=%{customdata[4]}<br>de=%{customdata[0]}<br>para=%{customdata[1]}<br>Ida=%{customdata[2]}<br>Volta=%{customdata[3]}",
         "legendgroup": "EspecificoTodos=POAMIA-2020-07-06-2020-07-22",
         "line": {
          "color": "#00cc96",
          "dash": "solid"
         },
         "mode": "lines",
         "name": "EspecificoTodos=POAMIA-2020-07-06-2020-07-22",
         "showlegend": true,
         "type": "scatter",
         "x": [
          "16/01/2020 15",
          "16/01/2020 17",
          "17/01/2020 09",
          "17/01/2020 10",
          "17/01/2020 12",
          "17/01/2020 16",
          "20/01/2020 08",
          "20/01/2020 11",
          "20/01/2020 15",
          "20/01/2020 16",
          "21/01/2020 09",
          "21/01/2020 10",
          "21/01/2020 16",
          "22/01/2020 09",
          "22/01/2020 18",
          "23/01/2020 09",
          "23/01/2020 15",
          "23/01/2020 16"
         ],
         "xaxis": "x",
         "y": [
          3825,
          3826,
          3751,
          3723,
          3615,
          3617,
          3815,
          3786,
          3782,
          3728,
          3654,
          3520,
          3560,
          3529,
          3693,
          3785,
          3744,
          3744
         ],
         "yaxis": "y"
        },
        {
         "customdata": [
          [
           "POA",
           "MIA",
           "2020-07-06",
           "2020-07-23",
           3838
          ],
          [
           "POA",
           "MIA",
           "2020-07-06",
           "2020-07-23",
           3800
          ],
          [
           "POA",
           "MIA",
           "2020-07-06",
           "2020-07-23",
           3754
          ],
          [
           "POA",
           "MIA",
           "2020-07-06",
           "2020-07-23",
           3729
          ],
          [
           "POA",
           "MIA",
           "2020-07-06",
           "2020-07-23",
           3620
          ],
          [
           "POA",
           "MIA",
           "2020-07-06",
           "2020-07-23",
           3610
          ],
          [
           "POA",
           "MIA",
           "2020-07-06",
           "2020-07-23",
           3859
          ],
          [
           "POA",
           "MIA",
           "2020-07-06",
           "2020-07-23",
           3798
          ],
          [
           "POA",
           "MIA",
           "2020-07-06",
           "2020-07-23",
           3766
          ],
          [
           "POA",
           "MIA",
           "2020-07-06",
           "2020-07-23",
           3738
          ],
          [
           "POA",
           "MIA",
           "2020-07-06",
           "2020-07-23",
           3674
          ],
          [
           "POA",
           "MIA",
           "2020-07-06",
           "2020-07-23",
           3510
          ],
          [
           "POA",
           "MIA",
           "2020-07-06",
           "2020-07-23",
           3623
          ],
          [
           "POA",
           "MIA",
           "2020-07-06",
           "2020-07-23",
           3573
          ],
          [
           "POA",
           "MIA",
           "2020-07-06",
           "2020-07-23",
           3718
          ],
          [
           "POA",
           "MIA",
           "2020-07-06",
           "2020-07-23",
           3761
          ],
          [
           "POA",
           "MIA",
           "2020-07-06",
           "2020-07-23",
           3749
          ],
          [
           "POA",
           "MIA",
           "2020-07-06",
           "2020-07-23",
           3749
          ]
         ],
         "hoverlabel": {
          "namelength": 0
         },
         "hovertemplate": "EspecificoTodos=POAMIA-2020-07-06-2020-07-23<br>DataPesquisa=%{x}<br>preco=%{customdata[4]}<br>de=%{customdata[0]}<br>para=%{customdata[1]}<br>Ida=%{customdata[2]}<br>Volta=%{customdata[3]}",
         "legendgroup": "EspecificoTodos=POAMIA-2020-07-06-2020-07-23",
         "line": {
          "color": "#ab63fa",
          "dash": "solid"
         },
         "mode": "lines",
         "name": "EspecificoTodos=POAMIA-2020-07-06-2020-07-23",
         "showlegend": true,
         "type": "scatter",
         "x": [
          "16/01/2020 15",
          "16/01/2020 17",
          "17/01/2020 09",
          "17/01/2020 10",
          "17/01/2020 12",
          "17/01/2020 16",
          "20/01/2020 08",
          "20/01/2020 11",
          "20/01/2020 15",
          "20/01/2020 16",
          "21/01/2020 09",
          "21/01/2020 10",
          "21/01/2020 16",
          "22/01/2020 09",
          "22/01/2020 18",
          "23/01/2020 09",
          "23/01/2020 15",
          "23/01/2020 16"
         ],
         "xaxis": "x",
         "y": [
          3838,
          3800,
          3754,
          3729,
          3620,
          3610,
          3859,
          3798,
          3766,
          3738,
          3674,
          3510,
          3623,
          3573,
          3718,
          3761,
          3749,
          3749
         ],
         "yaxis": "y"
        },
        {
         "customdata": [
          [
           "POA",
           "MIA",
           "2020-07-07",
           "2020-07-21",
           3828
          ],
          [
           "POA",
           "MIA",
           "2020-07-07",
           "2020-07-21",
           3824
          ],
          [
           "POA",
           "MIA",
           "2020-07-07",
           "2020-07-21",
           3754
          ],
          [
           "POA",
           "MIA",
           "2020-07-07",
           "2020-07-21",
           3840
          ],
          [
           "POA",
           "MIA",
           "2020-07-07",
           "2020-07-21",
           3574
          ],
          [
           "POA",
           "MIA",
           "2020-07-07",
           "2020-07-21",
           3637
          ],
          [
           "POA",
           "MIA",
           "2020-07-07",
           "2020-07-21",
           3825
          ],
          [
           "POA",
           "MIA",
           "2020-07-07",
           "2020-07-21",
           3849
          ],
          [
           "POA",
           "MIA",
           "2020-07-07",
           "2020-07-21",
           3777
          ],
          [
           "POA",
           "MIA",
           "2020-07-07",
           "2020-07-21",
           3815
          ],
          [
           "POA",
           "MIA",
           "2020-07-07",
           "2020-07-21",
           3707
          ]
         ],
         "hoverlabel": {
          "namelength": 0
         },
         "hovertemplate": "EspecificoTodos=POAMIA-2020-07-07-2020-07-21<br>DataPesquisa=%{x}<br>preco=%{customdata[4]}<br>de=%{customdata[0]}<br>para=%{customdata[1]}<br>Ida=%{customdata[2]}<br>Volta=%{customdata[3]}",
         "legendgroup": "EspecificoTodos=POAMIA-2020-07-07-2020-07-21",
         "line": {
          "color": "#FFA15A",
          "dash": "solid"
         },
         "mode": "lines",
         "name": "EspecificoTodos=POAMIA-2020-07-07-2020-07-21",
         "showlegend": true,
         "type": "scatter",
         "x": [
          "16/01/2020 15",
          "16/01/2020 17",
          "17/01/2020 09",
          "17/01/2020 10",
          "17/01/2020 12",
          "17/01/2020 16",
          "20/01/2020 08",
          "20/01/2020 11",
          "20/01/2020 15",
          "20/01/2020 16",
          "21/01/2020 09"
         ],
         "xaxis": "x",
         "y": [
          3828,
          3824,
          3754,
          3840,
          3574,
          3637,
          3825,
          3849,
          3777,
          3815,
          3707
         ],
         "yaxis": "y"
        },
        {
         "customdata": [
          [
           "POA",
           "MIA",
           "2020-07-07",
           "2020-07-22",
           3798
          ],
          [
           "POA",
           "MIA",
           "2020-07-07",
           "2020-07-22",
           3855
          ],
          [
           "POA",
           "MIA",
           "2020-07-07",
           "2020-07-22",
           3708
          ],
          [
           "POA",
           "MIA",
           "2020-07-07",
           "2020-07-22",
           3895
          ],
          [
           "POA",
           "MIA",
           "2020-07-07",
           "2020-07-22",
           3619
          ],
          [
           "POA",
           "MIA",
           "2020-07-07",
           "2020-07-22",
           3666
          ],
          [
           "POA",
           "MIA",
           "2020-07-07",
           "2020-07-22",
           3838
          ],
          [
           "POA",
           "MIA",
           "2020-07-07",
           "2020-07-22",
           3842
          ],
          [
           "POA",
           "MIA",
           "2020-07-07",
           "2020-07-22",
           3809
          ],
          [
           "POA",
           "MIA",
           "2020-07-07",
           "2020-07-22",
           3783
          ],
          [
           "POA",
           "MIA",
           "2020-07-07",
           "2020-07-22",
           3758
          ]
         ],
         "hoverlabel": {
          "namelength": 0
         },
         "hovertemplate": "EspecificoTodos=POAMIA-2020-07-07-2020-07-22<br>DataPesquisa=%{x}<br>preco=%{customdata[4]}<br>de=%{customdata[0]}<br>para=%{customdata[1]}<br>Ida=%{customdata[2]}<br>Volta=%{customdata[3]}",
         "legendgroup": "EspecificoTodos=POAMIA-2020-07-07-2020-07-22",
         "line": {
          "color": "#19d3f3",
          "dash": "solid"
         },
         "mode": "lines",
         "name": "EspecificoTodos=POAMIA-2020-07-07-2020-07-22",
         "showlegend": true,
         "type": "scatter",
         "x": [
          "16/01/2020 15",
          "16/01/2020 17",
          "17/01/2020 09",
          "17/01/2020 10",
          "17/01/2020 12",
          "17/01/2020 16",
          "20/01/2020 08",
          "20/01/2020 11",
          "20/01/2020 15",
          "20/01/2020 16",
          "21/01/2020 09"
         ],
         "xaxis": "x",
         "y": [
          3798,
          3855,
          3708,
          3895,
          3619,
          3666,
          3838,
          3842,
          3809,
          3783,
          3758
         ],
         "yaxis": "y"
        },
        {
         "customdata": [
          [
           "POA",
           "MIA",
           "2020-07-07",
           "2020-07-23",
           3812
          ],
          [
           "POA",
           "MIA",
           "2020-07-07",
           "2020-07-23",
           3777
          ],
          [
           "POA",
           "MIA",
           "2020-07-07",
           "2020-07-23",
           3736
          ],
          [
           "POA",
           "MIA",
           "2020-07-07",
           "2020-07-23",
           3770
          ],
          [
           "POA",
           "MIA",
           "2020-07-07",
           "2020-07-23",
           3560
          ],
          [
           "POA",
           "MIA",
           "2020-07-07",
           "2020-07-23",
           3648
          ],
          [
           "POA",
           "MIA",
           "2020-07-07",
           "2020-07-23",
           3847
          ],
          [
           "POA",
           "MIA",
           "2020-07-07",
           "2020-07-23",
           3867
          ],
          [
           "POA",
           "MIA",
           "2020-07-07",
           "2020-07-23",
           3807
          ],
          [
           "POA",
           "MIA",
           "2020-07-07",
           "2020-07-23",
           3777
          ],
          [
           "POA",
           "MIA",
           "2020-07-07",
           "2020-07-23",
           3814
          ]
         ],
         "hoverlabel": {
          "namelength": 0
         },
         "hovertemplate": "EspecificoTodos=POAMIA-2020-07-07-2020-07-23<br>DataPesquisa=%{x}<br>preco=%{customdata[4]}<br>de=%{customdata[0]}<br>para=%{customdata[1]}<br>Ida=%{customdata[2]}<br>Volta=%{customdata[3]}",
         "legendgroup": "EspecificoTodos=POAMIA-2020-07-07-2020-07-23",
         "line": {
          "color": "#FF6692",
          "dash": "solid"
         },
         "mode": "lines",
         "name": "EspecificoTodos=POAMIA-2020-07-07-2020-07-23",
         "showlegend": true,
         "type": "scatter",
         "x": [
          "16/01/2020 15",
          "16/01/2020 17",
          "17/01/2020 09",
          "17/01/2020 10",
          "17/01/2020 12",
          "17/01/2020 16",
          "20/01/2020 08",
          "20/01/2020 11",
          "20/01/2020 15",
          "20/01/2020 16",
          "21/01/2020 09"
         ],
         "xaxis": "x",
         "y": [
          3812,
          3777,
          3736,
          3770,
          3560,
          3648,
          3847,
          3867,
          3807,
          3777,
          3814
         ],
         "yaxis": "y"
        },
        {
         "customdata": [
          [
           "POA",
           "ATL",
           "2020-07-04",
           "2020-07-19",
           7295
          ],
          [
           "POA",
           "ATL",
           "2020-07-04",
           "2020-07-19",
           7295
          ],
          [
           "POA",
           "ATL",
           "2020-07-04",
           "2020-07-19",
           7295
          ]
         ],
         "hoverlabel": {
          "namelength": 0
         },
         "hovertemplate": "EspecificoTodos=POAATL-2020-07-04-2020-07-19<br>DataPesquisa=%{x}<br>preco=%{customdata[4]}<br>de=%{customdata[0]}<br>para=%{customdata[1]}<br>Ida=%{customdata[2]}<br>Volta=%{customdata[3]}",
         "legendgroup": "EspecificoTodos=POAATL-2020-07-04-2020-07-19",
         "line": {
          "color": "#B6E880",
          "dash": "solid"
         },
         "mode": "lines",
         "name": "EspecificoTodos=POAATL-2020-07-04-2020-07-19",
         "showlegend": true,
         "type": "scatter",
         "x": [
          "20/01/2020 11",
          "20/01/2020 15",
          "20/01/2020 16"
         ],
         "xaxis": "x",
         "y": [
          7295,
          7295,
          7295
         ],
         "yaxis": "y"
        },
        {
         "customdata": [
          [
           "POA",
           "ATL",
           "2020-07-03",
           "2020-07-20",
           5050
          ],
          [
           "POA",
           "ATL",
           "2020-07-03",
           "2020-07-20",
           5050
          ],
          [
           "POA",
           "ATL",
           "2020-07-03",
           "2020-07-20",
           4967
          ],
          [
           "POA",
           "ATL",
           "2020-07-03",
           "2020-07-20",
           4967
          ],
          [
           "POA",
           "ATL",
           "2020-07-03",
           "2020-07-20",
           5387
          ],
          [
           "POA",
           "ATL",
           "2020-07-03",
           "2020-07-20",
           5387
          ],
          [
           "POA",
           "ATL",
           "2020-07-03",
           "2020-07-20",
           5387
          ]
         ],
         "hoverlabel": {
          "namelength": 0
         },
         "hovertemplate": "EspecificoTodos=POAATL-2020-07-03-2020-07-20<br>DataPesquisa=%{x}<br>preco=%{customdata[4]}<br>de=%{customdata[0]}<br>para=%{customdata[1]}<br>Ida=%{customdata[2]}<br>Volta=%{customdata[3]}",
         "legendgroup": "EspecificoTodos=POAATL-2020-07-03-2020-07-20",
         "line": {
          "color": "#FF97FF",
          "dash": "solid"
         },
         "mode": "lines",
         "name": "EspecificoTodos=POAATL-2020-07-03-2020-07-20",
         "showlegend": true,
         "type": "scatter",
         "x": [
          "21/01/2020 10",
          "21/01/2020 16",
          "22/01/2020 09",
          "22/01/2020 18",
          "23/01/2020 09",
          "23/01/2020 15",
          "23/01/2020 16"
         ],
         "xaxis": "x",
         "y": [
          5050,
          5050,
          4967,
          4967,
          5387,
          5387,
          5387
         ],
         "yaxis": "y"
        },
        {
         "customdata": [
          [
           "POA",
           "ATL",
           "2020-07-06",
           "2020-07-20",
           5006
          ],
          [
           "POA",
           "ATL",
           "2020-07-06",
           "2020-07-20",
           5006
          ]
         ],
         "hoverlabel": {
          "namelength": 0
         },
         "hovertemplate": "EspecificoTodos=POAATL-2020-07-06-2020-07-20<br>DataPesquisa=%{x}<br>preco=%{customdata[4]}<br>de=%{customdata[0]}<br>para=%{customdata[1]}<br>Ida=%{customdata[2]}<br>Volta=%{customdata[3]}",
         "legendgroup": "EspecificoTodos=POAATL-2020-07-06-2020-07-20",
         "line": {
          "color": "#FECB52",
          "dash": "solid"
         },
         "mode": "lines",
         "name": "EspecificoTodos=POAATL-2020-07-06-2020-07-20",
         "showlegend": true,
         "type": "scatter",
         "x": [
          "23/01/2020 15",
          "23/01/2020 16"
         ],
         "xaxis": "x",
         "y": [
          5006,
          5006
         ],
         "yaxis": "y"
        }
       ],
       "layout": {
        "height": 600,
        "legend": {
         "tracegroupgap": 0
        },
        "margin": {
         "t": 60
        },
        "template": {
         "data": {
          "bar": [
           {
            "error_x": {
             "color": "#2a3f5f"
            },
            "error_y": {
             "color": "#2a3f5f"
            },
            "marker": {
             "line": {
              "color": "#E5ECF6",
              "width": 0.5
             }
            },
            "type": "bar"
           }
          ],
          "barpolar": [
           {
            "marker": {
             "line": {
              "color": "#E5ECF6",
              "width": 0.5
             }
            },
            "type": "barpolar"
           }
          ],
          "carpet": [
           {
            "aaxis": {
             "endlinecolor": "#2a3f5f",
             "gridcolor": "white",
             "linecolor": "white",
             "minorgridcolor": "white",
             "startlinecolor": "#2a3f5f"
            },
            "baxis": {
             "endlinecolor": "#2a3f5f",
             "gridcolor": "white",
             "linecolor": "white",
             "minorgridcolor": "white",
             "startlinecolor": "#2a3f5f"
            },
            "type": "carpet"
           }
          ],
          "choropleth": [
           {
            "colorbar": {
             "outlinewidth": 0,
             "ticks": ""
            },
            "type": "choropleth"
           }
          ],
          "contour": [
           {
            "colorbar": {
             "outlinewidth": 0,
             "ticks": ""
            },
            "colorscale": [
             [
              0,
              "#0d0887"
             ],
             [
              0.1111111111111111,
              "#46039f"
             ],
             [
              0.2222222222222222,
              "#7201a8"
             ],
             [
              0.3333333333333333,
              "#9c179e"
             ],
             [
              0.4444444444444444,
              "#bd3786"
             ],
             [
              0.5555555555555556,
              "#d8576b"
             ],
             [
              0.6666666666666666,
              "#ed7953"
             ],
             [
              0.7777777777777778,
              "#fb9f3a"
             ],
             [
              0.8888888888888888,
              "#fdca26"
             ],
             [
              1,
              "#f0f921"
             ]
            ],
            "type": "contour"
           }
          ],
          "contourcarpet": [
           {
            "colorbar": {
             "outlinewidth": 0,
             "ticks": ""
            },
            "type": "contourcarpet"
           }
          ],
          "heatmap": [
           {
            "colorbar": {
             "outlinewidth": 0,
             "ticks": ""
            },
            "colorscale": [
             [
              0,
              "#0d0887"
             ],
             [
              0.1111111111111111,
              "#46039f"
             ],
             [
              0.2222222222222222,
              "#7201a8"
             ],
             [
              0.3333333333333333,
              "#9c179e"
             ],
             [
              0.4444444444444444,
              "#bd3786"
             ],
             [
              0.5555555555555556,
              "#d8576b"
             ],
             [
              0.6666666666666666,
              "#ed7953"
             ],
             [
              0.7777777777777778,
              "#fb9f3a"
             ],
             [
              0.8888888888888888,
              "#fdca26"
             ],
             [
              1,
              "#f0f921"
             ]
            ],
            "type": "heatmap"
           }
          ],
          "heatmapgl": [
           {
            "colorbar": {
             "outlinewidth": 0,
             "ticks": ""
            },
            "colorscale": [
             [
              0,
              "#0d0887"
             ],
             [
              0.1111111111111111,
              "#46039f"
             ],
             [
              0.2222222222222222,
              "#7201a8"
             ],
             [
              0.3333333333333333,
              "#9c179e"
             ],
             [
              0.4444444444444444,
              "#bd3786"
             ],
             [
              0.5555555555555556,
              "#d8576b"
             ],
             [
              0.6666666666666666,
              "#ed7953"
             ],
             [
              0.7777777777777778,
              "#fb9f3a"
             ],
             [
              0.8888888888888888,
              "#fdca26"
             ],
             [
              1,
              "#f0f921"
             ]
            ],
            "type": "heatmapgl"
           }
          ],
          "histogram": [
           {
            "marker": {
             "colorbar": {
              "outlinewidth": 0,
              "ticks": ""
             }
            },
            "type": "histogram"
           }
          ],
          "histogram2d": [
           {
            "colorbar": {
             "outlinewidth": 0,
             "ticks": ""
            },
            "colorscale": [
             [
              0,
              "#0d0887"
             ],
             [
              0.1111111111111111,
              "#46039f"
             ],
             [
              0.2222222222222222,
              "#7201a8"
             ],
             [
              0.3333333333333333,
              "#9c179e"
             ],
             [
              0.4444444444444444,
              "#bd3786"
             ],
             [
              0.5555555555555556,
              "#d8576b"
             ],
             [
              0.6666666666666666,
              "#ed7953"
             ],
             [
              0.7777777777777778,
              "#fb9f3a"
             ],
             [
              0.8888888888888888,
              "#fdca26"
             ],
             [
              1,
              "#f0f921"
             ]
            ],
            "type": "histogram2d"
           }
          ],
          "histogram2dcontour": [
           {
            "colorbar": {
             "outlinewidth": 0,
             "ticks": ""
            },
            "colorscale": [
             [
              0,
              "#0d0887"
             ],
             [
              0.1111111111111111,
              "#46039f"
             ],
             [
              0.2222222222222222,
              "#7201a8"
             ],
             [
              0.3333333333333333,
              "#9c179e"
             ],
             [
              0.4444444444444444,
              "#bd3786"
             ],
             [
              0.5555555555555556,
              "#d8576b"
             ],
             [
              0.6666666666666666,
              "#ed7953"
             ],
             [
              0.7777777777777778,
              "#fb9f3a"
             ],
             [
              0.8888888888888888,
              "#fdca26"
             ],
             [
              1,
              "#f0f921"
             ]
            ],
            "type": "histogram2dcontour"
           }
          ],
          "mesh3d": [
           {
            "colorbar": {
             "outlinewidth": 0,
             "ticks": ""
            },
            "type": "mesh3d"
           }
          ],
          "parcoords": [
           {
            "line": {
             "colorbar": {
              "outlinewidth": 0,
              "ticks": ""
             }
            },
            "type": "parcoords"
           }
          ],
          "scatter": [
           {
            "marker": {
             "colorbar": {
              "outlinewidth": 0,
              "ticks": ""
             }
            },
            "type": "scatter"
           }
          ],
          "scatter3d": [
           {
            "line": {
             "colorbar": {
              "outlinewidth": 0,
              "ticks": ""
             }
            },
            "marker": {
             "colorbar": {
              "outlinewidth": 0,
              "ticks": ""
             }
            },
            "type": "scatter3d"
           }
          ],
          "scattercarpet": [
           {
            "marker": {
             "colorbar": {
              "outlinewidth": 0,
              "ticks": ""
             }
            },
            "type": "scattercarpet"
           }
          ],
          "scattergeo": [
           {
            "marker": {
             "colorbar": {
              "outlinewidth": 0,
              "ticks": ""
             }
            },
            "type": "scattergeo"
           }
          ],
          "scattergl": [
           {
            "marker": {
             "colorbar": {
              "outlinewidth": 0,
              "ticks": ""
             }
            },
            "type": "scattergl"
           }
          ],
          "scattermapbox": [
           {
            "marker": {
             "colorbar": {
              "outlinewidth": 0,
              "ticks": ""
             }
            },
            "type": "scattermapbox"
           }
          ],
          "scatterpolar": [
           {
            "marker": {
             "colorbar": {
              "outlinewidth": 0,
              "ticks": ""
             }
            },
            "type": "scatterpolar"
           }
          ],
          "scatterpolargl": [
           {
            "marker": {
             "colorbar": {
              "outlinewidth": 0,
              "ticks": ""
             }
            },
            "type": "scatterpolargl"
           }
          ],
          "scatterternary": [
           {
            "marker": {
             "colorbar": {
              "outlinewidth": 0,
              "ticks": ""
             }
            },
            "type": "scatterternary"
           }
          ],
          "surface": [
           {
            "colorbar": {
             "outlinewidth": 0,
             "ticks": ""
            },
            "colorscale": [
             [
              0,
              "#0d0887"
             ],
             [
              0.1111111111111111,
              "#46039f"
             ],
             [
              0.2222222222222222,
              "#7201a8"
             ],
             [
              0.3333333333333333,
              "#9c179e"
             ],
             [
              0.4444444444444444,
              "#bd3786"
             ],
             [
              0.5555555555555556,
              "#d8576b"
             ],
             [
              0.6666666666666666,
              "#ed7953"
             ],
             [
              0.7777777777777778,
              "#fb9f3a"
             ],
             [
              0.8888888888888888,
              "#fdca26"
             ],
             [
              1,
              "#f0f921"
             ]
            ],
            "type": "surface"
           }
          ],
          "table": [
           {
            "cells": {
             "fill": {
              "color": "#EBF0F8"
             },
             "line": {
              "color": "white"
             }
            },
            "header": {
             "fill": {
              "color": "#C8D4E3"
             },
             "line": {
              "color": "white"
             }
            },
            "type": "table"
           }
          ]
         },
         "layout": {
          "annotationdefaults": {
           "arrowcolor": "#2a3f5f",
           "arrowhead": 0,
           "arrowwidth": 1
          },
          "colorscale": {
           "diverging": [
            [
             0,
             "#8e0152"
            ],
            [
             0.1,
             "#c51b7d"
            ],
            [
             0.2,
             "#de77ae"
            ],
            [
             0.3,
             "#f1b6da"
            ],
            [
             0.4,
             "#fde0ef"
            ],
            [
             0.5,
             "#f7f7f7"
            ],
            [
             0.6,
             "#e6f5d0"
            ],
            [
             0.7,
             "#b8e186"
            ],
            [
             0.8,
             "#7fbc41"
            ],
            [
             0.9,
             "#4d9221"
            ],
            [
             1,
             "#276419"
            ]
           ],
           "sequential": [
            [
             0,
             "#0d0887"
            ],
            [
             0.1111111111111111,
             "#46039f"
            ],
            [
             0.2222222222222222,
             "#7201a8"
            ],
            [
             0.3333333333333333,
             "#9c179e"
            ],
            [
             0.4444444444444444,
             "#bd3786"
            ],
            [
             0.5555555555555556,
             "#d8576b"
            ],
            [
             0.6666666666666666,
             "#ed7953"
            ],
            [
             0.7777777777777778,
             "#fb9f3a"
            ],
            [
             0.8888888888888888,
             "#fdca26"
            ],
            [
             1,
             "#f0f921"
            ]
           ],
           "sequentialminus": [
            [
             0,
             "#0d0887"
            ],
            [
             0.1111111111111111,
             "#46039f"
            ],
            [
             0.2222222222222222,
             "#7201a8"
            ],
            [
             0.3333333333333333,
             "#9c179e"
            ],
            [
             0.4444444444444444,
             "#bd3786"
            ],
            [
             0.5555555555555556,
             "#d8576b"
            ],
            [
             0.6666666666666666,
             "#ed7953"
            ],
            [
             0.7777777777777778,
             "#fb9f3a"
            ],
            [
             0.8888888888888888,
             "#fdca26"
            ],
            [
             1,
             "#f0f921"
            ]
           ]
          },
          "colorway": [
           "#636efa",
           "#EF553B",
           "#00cc96",
           "#ab63fa",
           "#FFA15A",
           "#19d3f3",
           "#FF6692",
           "#B6E880",
           "#FF97FF",
           "#FECB52"
          ],
          "font": {
           "color": "#2a3f5f"
          },
          "geo": {
           "bgcolor": "white",
           "lakecolor": "white",
           "landcolor": "#E5ECF6",
           "showlakes": true,
           "showland": true,
           "subunitcolor": "white"
          },
          "hoverlabel": {
           "align": "left"
          },
          "hovermode": "closest",
          "mapbox": {
           "style": "light"
          },
          "paper_bgcolor": "white",
          "plot_bgcolor": "#E5ECF6",
          "polar": {
           "angularaxis": {
            "gridcolor": "white",
            "linecolor": "white",
            "ticks": ""
           },
           "bgcolor": "#E5ECF6",
           "radialaxis": {
            "gridcolor": "white",
            "linecolor": "white",
            "ticks": ""
           }
          },
          "scene": {
           "xaxis": {
            "backgroundcolor": "#E5ECF6",
            "gridcolor": "white",
            "gridwidth": 2,
            "linecolor": "white",
            "showbackground": true,
            "ticks": "",
            "zerolinecolor": "white"
           },
           "yaxis": {
            "backgroundcolor": "#E5ECF6",
            "gridcolor": "white",
            "gridwidth": 2,
            "linecolor": "white",
            "showbackground": true,
            "ticks": "",
            "zerolinecolor": "white"
           },
           "zaxis": {
            "backgroundcolor": "#E5ECF6",
            "gridcolor": "white",
            "gridwidth": 2,
            "linecolor": "white",
            "showbackground": true,
            "ticks": "",
            "zerolinecolor": "white"
           }
          },
          "shapedefaults": {
           "line": {
            "color": "#2a3f5f"
           }
          },
          "ternary": {
           "aaxis": {
            "gridcolor": "white",
            "linecolor": "white",
            "ticks": ""
           },
           "baxis": {
            "gridcolor": "white",
            "linecolor": "white",
            "ticks": ""
           },
           "bgcolor": "#E5ECF6",
           "caxis": {
            "gridcolor": "white",
            "linecolor": "white",
            "ticks": ""
           }
          },
          "title": {
           "x": 0.05
          },
          "xaxis": {
           "automargin": true,
           "gridcolor": "white",
           "linecolor": "white",
           "ticks": "",
           "zerolinecolor": "white",
           "zerolinewidth": 2
          },
          "yaxis": {
           "automargin": true,
           "gridcolor": "white",
           "linecolor": "white",
           "ticks": "",
           "zerolinecolor": "white",
           "zerolinewidth": 2
          }
         }
        },
        "xaxis": {
         "anchor": "y",
         "domain": [
          0,
          0.98
         ],
         "title": {
          "text": "DataPesquisa"
         }
        },
        "yaxis": {
         "anchor": "x",
         "domain": [
          0,
          1
         ],
         "title": {
          "text": "preco"
         }
        }
       }
      },
      "text/html": [
       "<div>\n",
       "        \n",
       "        \n",
       "            <div id=\"827988ee-4ee1-402a-bf0f-b78ed302f323\" class=\"plotly-graph-div\" style=\"height:600px; width:100%;\"></div>\n",
       "            <script type=\"text/javascript\">\n",
       "                require([\"plotly\"], function(Plotly) {\n",
       "                    window.PLOTLYENV=window.PLOTLYENV || {};\n",
       "                    \n",
       "                if (document.getElementById(\"827988ee-4ee1-402a-bf0f-b78ed302f323\")) {\n",
       "                    Plotly.newPlot(\n",
       "                        '827988ee-4ee1-402a-bf0f-b78ed302f323',\n",
       "                        [{\"customdata\": [[\"POA\", \"ATL\", \"2020-07-05\", \"2020-07-20\", 6561], [\"POA\", \"ATL\", \"2020-07-05\", \"2020-07-20\", 6561], [\"POA\", \"ATL\", \"2020-07-05\", \"2020-07-20\", 6175], [\"POA\", \"ATL\", \"2020-07-05\", \"2020-07-20\", 6175], [\"POA\", \"ATL\", \"2020-07-05\", \"2020-07-20\", 6175], [\"POA\", \"ATL\", \"2020-07-05\", \"2020-07-20\", 6175], [\"POA\", \"ATL\", \"2020-07-05\", \"2020-07-20\", 5731], [\"POA\", \"ATL\", \"2020-07-05\", \"2020-07-20\", 5731], [\"POA\", \"ATL\", \"2020-07-05\", \"2020-07-20\", 5731], [\"POA\", \"ATL\", \"2020-07-05\", \"2020-07-20\", 5731], [\"POA\", \"ATL\", \"2020-07-05\", \"2020-07-20\", 6544], [\"POA\", \"ATL\", \"2020-07-05\", \"2020-07-20\", 6544], [\"POA\", \"ATL\", \"2020-07-05\", \"2020-07-20\", 6544]], \"hoverlabel\": {\"namelength\": 0}, \"hovertemplate\": \"EspecificoTodos=POAATL-2020-07-05-2020-07-20<br>DataPesquisa=%{x}<br>preco=%{customdata[4]}<br>de=%{customdata[0]}<br>para=%{customdata[1]}<br>Ida=%{customdata[2]}<br>Volta=%{customdata[3]}\", \"legendgroup\": \"EspecificoTodos=POAATL-2020-07-05-2020-07-20\", \"line\": {\"color\": \"#636efa\", \"dash\": \"solid\"}, \"mode\": \"lines\", \"name\": \"EspecificoTodos=POAATL-2020-07-05-2020-07-20\", \"showlegend\": true, \"type\": \"scatter\", \"x\": [\"16/01/2020 15\", \"16/01/2020 17\", \"17/01/2020 09\", \"17/01/2020 10\", \"17/01/2020 12\", \"17/01/2020 16\", \"20/01/2020 08\", \"20/01/2020 11\", \"20/01/2020 15\", \"20/01/2020 16\", \"21/01/2020 09\", \"21/01/2020 10\", \"21/01/2020 16\"], \"xaxis\": \"x\", \"y\": [6561, 6561, 6175, 6175, 6175, 6175, 5731, 5731, 5731, 5731, 6544, 6544, 6544], \"yaxis\": \"y\"}, {\"customdata\": [[\"POA\", \"MIA\", \"2020-07-03\", \"2020-07-19\", 3789], [\"POA\", \"MIA\", \"2020-07-03\", \"2020-07-19\", 3937], [\"POA\", \"MIA\", \"2020-07-03\", \"2020-07-19\", 3562], [\"POA\", \"MIA\", \"2020-07-03\", \"2020-07-19\", 3831], [\"POA\", \"MIA\", \"2020-07-03\", \"2020-07-19\", 3882], [\"POA\", \"MIA\", \"2020-07-03\", \"2020-07-19\", 3803], [\"POA\", \"MIA\", \"2020-07-03\", \"2020-07-19\", 3738], [\"POA\", \"MIA\", \"2020-07-03\", \"2020-07-19\", 3827], [\"POA\", \"MIA\", \"2020-07-03\", \"2020-07-19\", 3856], [\"POA\", \"MIA\", \"2020-07-03\", \"2020-07-19\", 3833], [\"POA\", \"MIA\", \"2020-07-03\", \"2020-07-19\", 3861], [\"POA\", \"MIA\", \"2020-07-03\", \"2020-07-19\", 3574], [\"POA\", \"MIA\", \"2020-07-03\", \"2020-07-19\", 3732], [\"POA\", \"MIA\", \"2020-07-03\", \"2020-07-19\", 3517], [\"POA\", \"MIA\", \"2020-07-03\", \"2020-07-19\", 4187], [\"POA\", \"MIA\", \"2020-07-03\", \"2020-07-19\", 4104], [\"POA\", \"MIA\", \"2020-07-03\", \"2020-07-19\", 3582], [\"POA\", \"MIA\", \"2020-07-03\", \"2020-07-19\", 3582]], \"hoverlabel\": {\"namelength\": 0}, \"hovertemplate\": \"EspecificoTodos=POAMIA-2020-07-03-2020-07-19<br>DataPesquisa=%{x}<br>preco=%{customdata[4]}<br>de=%{customdata[0]}<br>para=%{customdata[1]}<br>Ida=%{customdata[2]}<br>Volta=%{customdata[3]}\", \"legendgroup\": \"EspecificoTodos=POAMIA-2020-07-03-2020-07-19\", \"line\": {\"color\": \"#EF553B\", \"dash\": \"solid\"}, \"mode\": \"lines\", \"name\": \"EspecificoTodos=POAMIA-2020-07-03-2020-07-19\", \"showlegend\": true, \"type\": \"scatter\", \"x\": [\"16/01/2020 15\", \"16/01/2020 17\", \"17/01/2020 09\", \"17/01/2020 10\", \"17/01/2020 12\", \"17/01/2020 16\", \"20/01/2020 08\", \"20/01/2020 11\", \"20/01/2020 15\", \"20/01/2020 16\", \"21/01/2020 09\", \"21/01/2020 10\", \"21/01/2020 16\", \"22/01/2020 09\", \"22/01/2020 18\", \"23/01/2020 09\", \"23/01/2020 15\", \"23/01/2020 16\"], \"xaxis\": \"x\", \"y\": [3789, 3937, 3562, 3831, 3882, 3803, 3738, 3827, 3856, 3833, 3861, 3574, 3732, 3517, 4187, 4104, 3582, 3582], \"yaxis\": \"y\"}, {\"customdata\": [[\"POA\", \"MIA\", \"2020-07-03\", \"2020-07-20\", 3748], [\"POA\", \"MIA\", \"2020-07-03\", \"2020-07-20\", 3807], [\"POA\", \"MIA\", \"2020-07-03\", \"2020-07-20\", 3493], [\"POA\", \"MIA\", \"2020-07-03\", \"2020-07-20\", 3686], [\"POA\", \"MIA\", \"2020-07-03\", \"2020-07-20\", 3622], [\"POA\", \"MIA\", \"2020-07-03\", \"2020-07-20\", 3757], [\"POA\", \"MIA\", \"2020-07-03\", \"2020-07-20\", 3489], [\"POA\", \"MIA\", \"2020-07-03\", \"2020-07-20\", 3748], [\"POA\", \"MIA\", \"2020-07-03\", \"2020-07-20\", 3749], [\"POA\", \"MIA\", \"2020-07-03\", \"2020-07-20\", 3798], [\"POA\", \"MIA\", \"2020-07-03\", \"2020-07-20\", 3650], [\"POA\", \"MIA\", \"2020-07-03\", \"2020-07-20\", 3551], [\"POA\", \"MIA\", \"2020-07-03\", \"2020-07-20\", 3521], [\"POA\", \"MIA\", \"2020-07-03\", \"2020-07-20\", 3480], [\"POA\", \"MIA\", \"2020-07-03\", \"2020-07-20\", 3747], [\"POA\", \"MIA\", \"2020-07-03\", \"2020-07-20\", 3819], [\"POA\", \"MIA\", \"2020-07-03\", \"2020-07-20\", 3660], [\"POA\", \"MIA\", \"2020-07-03\", \"2020-07-20\", 3660]], \"hoverlabel\": {\"namelength\": 0}, \"hovertemplate\": \"EspecificoTodos=POAMIA-2020-07-03-2020-07-20<br>DataPesquisa=%{x}<br>preco=%{customdata[4]}<br>de=%{customdata[0]}<br>para=%{customdata[1]}<br>Ida=%{customdata[2]}<br>Volta=%{customdata[3]}\", \"legendgroup\": \"EspecificoTodos=POAMIA-2020-07-03-2020-07-20\", \"line\": {\"color\": \"#00cc96\", \"dash\": \"solid\"}, \"mode\": \"lines\", \"name\": \"EspecificoTodos=POAMIA-2020-07-03-2020-07-20\", \"showlegend\": true, \"type\": \"scatter\", \"x\": [\"16/01/2020 15\", \"16/01/2020 17\", \"17/01/2020 09\", \"17/01/2020 10\", \"17/01/2020 12\", \"17/01/2020 16\", \"20/01/2020 08\", \"20/01/2020 11\", \"20/01/2020 15\", \"20/01/2020 16\", \"21/01/2020 09\", \"21/01/2020 10\", \"21/01/2020 16\", \"22/01/2020 09\", \"22/01/2020 18\", \"23/01/2020 09\", \"23/01/2020 15\", \"23/01/2020 16\"], \"xaxis\": \"x\", \"y\": [3748, 3807, 3493, 3686, 3622, 3757, 3489, 3748, 3749, 3798, 3650, 3551, 3521, 3480, 3747, 3819, 3660, 3660], \"yaxis\": \"y\"}, {\"customdata\": [[\"POA\", \"MIA\", \"2020-07-04\", \"2020-07-19\", 3823], [\"POA\", \"MIA\", \"2020-07-04\", \"2020-07-19\", 4017], [\"POA\", \"MIA\", \"2020-07-04\", \"2020-07-19\", 3736], [\"POA\", \"MIA\", \"2020-07-04\", \"2020-07-19\", 3846], [\"POA\", \"MIA\", \"2020-07-04\", \"2020-07-19\", 3994], [\"POA\", \"MIA\", \"2020-07-04\", \"2020-07-19\", 3880], [\"POA\", \"MIA\", \"2020-07-04\", \"2020-07-19\", 3782], [\"POA\", \"MIA\", \"2020-07-04\", \"2020-07-19\", 4127], [\"POA\", \"MIA\", \"2020-07-04\", \"2020-07-19\", 4127], [\"POA\", \"MIA\", \"2020-07-04\", \"2020-07-19\", 4127], [\"POA\", \"MIA\", \"2020-07-04\", \"2020-07-19\", 3871], [\"POA\", \"MIA\", \"2020-07-04\", \"2020-07-19\", 3858], [\"POA\", \"MIA\", \"2020-07-04\", \"2020-07-19\", 3981], [\"POA\", \"MIA\", \"2020-07-04\", \"2020-07-19\", 3916], [\"POA\", \"MIA\", \"2020-07-04\", \"2020-07-19\", 4022], [\"POA\", \"MIA\", \"2020-07-04\", \"2020-07-19\", 3932], [\"POA\", \"MIA\", \"2020-07-04\", \"2020-07-19\", 3670], [\"POA\", \"MIA\", \"2020-07-04\", \"2020-07-19\", 3670]], \"hoverlabel\": {\"namelength\": 0}, \"hovertemplate\": \"EspecificoTodos=POAMIA-2020-07-04-2020-07-19<br>DataPesquisa=%{x}<br>preco=%{customdata[4]}<br>de=%{customdata[0]}<br>para=%{customdata[1]}<br>Ida=%{customdata[2]}<br>Volta=%{customdata[3]}\", \"legendgroup\": \"EspecificoTodos=POAMIA-2020-07-04-2020-07-19\", \"line\": {\"color\": \"#ab63fa\", \"dash\": \"solid\"}, \"mode\": \"lines\", \"name\": \"EspecificoTodos=POAMIA-2020-07-04-2020-07-19\", \"showlegend\": true, \"type\": \"scatter\", \"x\": [\"16/01/2020 15\", \"16/01/2020 17\", \"17/01/2020 09\", \"17/01/2020 10\", \"17/01/2020 12\", \"17/01/2020 16\", \"20/01/2020 08\", \"20/01/2020 11\", \"20/01/2020 15\", \"20/01/2020 16\", \"21/01/2020 09\", \"21/01/2020 10\", \"21/01/2020 16\", \"22/01/2020 09\", \"22/01/2020 18\", \"23/01/2020 09\", \"23/01/2020 15\", \"23/01/2020 16\"], \"xaxis\": \"x\", \"y\": [3823, 4017, 3736, 3846, 3994, 3880, 3782, 4127, 4127, 4127, 3871, 3858, 3981, 3916, 4022, 3932, 3670, 3670], \"yaxis\": \"y\"}, {\"customdata\": [[\"POA\", \"MIA\", \"2020-07-04\", \"2020-07-20\", 3838], [\"POA\", \"MIA\", \"2020-07-04\", \"2020-07-20\", 3932], [\"POA\", \"MIA\", \"2020-07-04\", \"2020-07-20\", 3577], [\"POA\", \"MIA\", \"2020-07-04\", \"2020-07-20\", 3832], [\"POA\", \"MIA\", \"2020-07-04\", \"2020-07-20\", 3769], [\"POA\", \"MIA\", \"2020-07-04\", \"2020-07-20\", 3786], [\"POA\", \"MIA\", \"2020-07-04\", \"2020-07-20\", 3564], [\"POA\", \"MIA\", \"2020-07-04\", \"2020-07-20\", 3733], [\"POA\", \"MIA\", \"2020-07-04\", \"2020-07-20\", 3744], [\"POA\", \"MIA\", \"2020-07-04\", \"2020-07-20\", 3740], [\"POA\", \"MIA\", \"2020-07-04\", \"2020-07-20\", 3666], [\"POA\", \"MIA\", \"2020-07-04\", \"2020-07-20\", 3749], [\"POA\", \"MIA\", \"2020-07-04\", \"2020-07-20\", 3754], [\"POA\", \"MIA\", \"2020-07-04\", \"2020-07-20\", 3703], [\"POA\", \"MIA\", \"2020-07-04\", \"2020-07-20\", 3830], [\"POA\", \"MIA\", \"2020-07-04\", \"2020-07-20\", 3777], [\"POA\", \"MIA\", \"2020-07-04\", \"2020-07-20\", 3722], [\"POA\", \"MIA\", \"2020-07-04\", \"2020-07-20\", 3722]], \"hoverlabel\": {\"namelength\": 0}, \"hovertemplate\": \"EspecificoTodos=POAMIA-2020-07-04-2020-07-20<br>DataPesquisa=%{x}<br>preco=%{customdata[4]}<br>de=%{customdata[0]}<br>para=%{customdata[1]}<br>Ida=%{customdata[2]}<br>Volta=%{customdata[3]}\", \"legendgroup\": \"EspecificoTodos=POAMIA-2020-07-04-2020-07-20\", \"line\": {\"color\": \"#FFA15A\", \"dash\": \"solid\"}, \"mode\": \"lines\", \"name\": \"EspecificoTodos=POAMIA-2020-07-04-2020-07-20\", \"showlegend\": true, \"type\": \"scatter\", \"x\": [\"16/01/2020 15\", \"16/01/2020 17\", \"17/01/2020 09\", \"17/01/2020 10\", \"17/01/2020 12\", \"17/01/2020 16\", \"20/01/2020 08\", \"20/01/2020 11\", \"20/01/2020 15\", \"20/01/2020 16\", \"21/01/2020 09\", \"21/01/2020 10\", \"21/01/2020 16\", \"22/01/2020 09\", \"22/01/2020 18\", \"23/01/2020 09\", \"23/01/2020 15\", \"23/01/2020 16\"], \"xaxis\": \"x\", \"y\": [3838, 3932, 3577, 3832, 3769, 3786, 3564, 3733, 3744, 3740, 3666, 3749, 3754, 3703, 3830, 3777, 3722, 3722], \"yaxis\": \"y\"}, {\"customdata\": [[\"POA\", \"MIA\", \"2020-07-04\", \"2020-07-21\", 3878], [\"POA\", \"MIA\", \"2020-07-04\", \"2020-07-21\", 3877], [\"POA\", \"MIA\", \"2020-07-04\", \"2020-07-21\", 3592], [\"POA\", \"MIA\", \"2020-07-04\", \"2020-07-21\", 3821], [\"POA\", \"MIA\", \"2020-07-04\", \"2020-07-21\", 3792], [\"POA\", \"MIA\", \"2020-07-04\", \"2020-07-21\", 3753], [\"POA\", \"MIA\", \"2020-07-04\", \"2020-07-21\", 3537], [\"POA\", \"MIA\", \"2020-07-04\", \"2020-07-21\", 3580], [\"POA\", \"MIA\", \"2020-07-04\", \"2020-07-21\", 3648], [\"POA\", \"MIA\", \"2020-07-04\", \"2020-07-21\", 3719], [\"POA\", \"MIA\", \"2020-07-04\", \"2020-07-21\", 3615], [\"POA\", \"MIA\", \"2020-07-04\", \"2020-07-21\", 3683], [\"POA\", \"MIA\", \"2020-07-04\", \"2020-07-21\", 3680], [\"POA\", \"MIA\", \"2020-07-04\", \"2020-07-21\", 3711], [\"POA\", \"MIA\", \"2020-07-04\", \"2020-07-21\", 3801], [\"POA\", \"MIA\", \"2020-07-04\", \"2020-07-21\", 3767], [\"POA\", \"MIA\", \"2020-07-04\", \"2020-07-21\", 3724], [\"POA\", \"MIA\", \"2020-07-04\", \"2020-07-21\", 3724]], \"hoverlabel\": {\"namelength\": 0}, \"hovertemplate\": \"EspecificoTodos=POAMIA-2020-07-04-2020-07-21<br>DataPesquisa=%{x}<br>preco=%{customdata[4]}<br>de=%{customdata[0]}<br>para=%{customdata[1]}<br>Ida=%{customdata[2]}<br>Volta=%{customdata[3]}\", \"legendgroup\": \"EspecificoTodos=POAMIA-2020-07-04-2020-07-21\", \"line\": {\"color\": \"#19d3f3\", \"dash\": \"solid\"}, \"mode\": \"lines\", \"name\": \"EspecificoTodos=POAMIA-2020-07-04-2020-07-21\", \"showlegend\": true, \"type\": \"scatter\", \"x\": [\"16/01/2020 15\", \"16/01/2020 17\", \"17/01/2020 09\", \"17/01/2020 10\", \"17/01/2020 12\", \"17/01/2020 16\", \"20/01/2020 08\", \"20/01/2020 11\", \"20/01/2020 15\", \"20/01/2020 16\", \"21/01/2020 09\", \"21/01/2020 10\", \"21/01/2020 16\", \"22/01/2020 09\", \"22/01/2020 18\", \"23/01/2020 09\", \"23/01/2020 15\", \"23/01/2020 16\"], \"xaxis\": \"x\", \"y\": [3878, 3877, 3592, 3821, 3792, 3753, 3537, 3580, 3648, 3719, 3615, 3683, 3680, 3711, 3801, 3767, 3724, 3724], \"yaxis\": \"y\"}, {\"customdata\": [[\"POA\", \"MIA\", \"2020-07-05\", \"2020-07-19\", 3863], [\"POA\", \"MIA\", \"2020-07-05\", \"2020-07-19\", 3957], [\"POA\", \"MIA\", \"2020-07-05\", \"2020-07-19\", 3788], [\"POA\", \"MIA\", \"2020-07-05\", \"2020-07-19\", 4010], [\"POA\", \"MIA\", \"2020-07-05\", \"2020-07-19\", 4082], [\"POA\", \"MIA\", \"2020-07-05\", \"2020-07-19\", 3992], [\"POA\", \"MIA\", \"2020-07-05\", \"2020-07-19\", 3838], [\"POA\", \"MIA\", \"2020-07-05\", \"2020-07-19\", 3800], [\"POA\", \"MIA\", \"2020-07-05\", \"2020-07-19\", 3842], [\"POA\", \"MIA\", \"2020-07-05\", \"2020-07-19\", 3947], [\"POA\", \"MIA\", \"2020-07-05\", \"2020-07-19\", 3804], [\"POA\", \"MIA\", \"2020-07-05\", \"2020-07-19\", 3846], [\"POA\", \"MIA\", \"2020-07-05\", \"2020-07-19\", 3836], [\"POA\", \"MIA\", \"2020-07-05\", \"2020-07-19\", 3860], [\"POA\", \"MIA\", \"2020-07-05\", \"2020-07-19\", 4012], [\"POA\", \"MIA\", \"2020-07-05\", \"2020-07-19\", 3940], [\"POA\", \"MIA\", \"2020-07-05\", \"2020-07-19\", 3844], [\"POA\", \"MIA\", \"2020-07-05\", \"2020-07-19\", 3844]], \"hoverlabel\": {\"namelength\": 0}, \"hovertemplate\": \"EspecificoTodos=POAMIA-2020-07-05-2020-07-19<br>DataPesquisa=%{x}<br>preco=%{customdata[4]}<br>de=%{customdata[0]}<br>para=%{customdata[1]}<br>Ida=%{customdata[2]}<br>Volta=%{customdata[3]}\", \"legendgroup\": \"EspecificoTodos=POAMIA-2020-07-05-2020-07-19\", \"line\": {\"color\": \"#FF6692\", \"dash\": \"solid\"}, \"mode\": \"lines\", \"name\": \"EspecificoTodos=POAMIA-2020-07-05-2020-07-19\", \"showlegend\": true, \"type\": \"scatter\", \"x\": [\"16/01/2020 15\", \"16/01/2020 17\", \"17/01/2020 09\", \"17/01/2020 10\", \"17/01/2020 12\", \"17/01/2020 16\", \"20/01/2020 08\", \"20/01/2020 11\", \"20/01/2020 15\", \"20/01/2020 16\", \"21/01/2020 09\", \"21/01/2020 10\", \"21/01/2020 16\", \"22/01/2020 09\", \"22/01/2020 18\", \"23/01/2020 09\", \"23/01/2020 15\", \"23/01/2020 16\"], \"xaxis\": \"x\", \"y\": [3863, 3957, 3788, 4010, 4082, 3992, 3838, 3800, 3842, 3947, 3804, 3846, 3836, 3860, 4012, 3940, 3844, 3844], \"yaxis\": \"y\"}, {\"customdata\": [[\"POA\", \"MIA\", \"2020-07-05\", \"2020-07-20\", 3948], [\"POA\", \"MIA\", \"2020-07-05\", \"2020-07-20\", 4006], [\"POA\", \"MIA\", \"2020-07-05\", \"2020-07-20\", 3692], [\"POA\", \"MIA\", \"2020-07-05\", \"2020-07-20\", 3973], [\"POA\", \"MIA\", \"2020-07-05\", \"2020-07-20\", 3863], [\"POA\", \"MIA\", \"2020-07-05\", \"2020-07-20\", 3876], [\"POA\", \"MIA\", \"2020-07-05\", \"2020-07-20\", 3599], [\"POA\", \"MIA\", \"2020-07-05\", \"2020-07-20\", 3655], [\"POA\", \"MIA\", \"2020-07-05\", \"2020-07-20\", 3682], [\"POA\", \"MIA\", \"2020-07-05\", \"2020-07-20\", 3776], [\"POA\", \"MIA\", \"2020-07-05\", \"2020-07-20\", 3630], [\"POA\", \"MIA\", \"2020-07-05\", \"2020-07-20\", 3757], [\"POA\", \"MIA\", \"2020-07-05\", \"2020-07-20\", 3684], [\"POA\", \"MIA\", \"2020-07-05\", \"2020-07-20\", 3745], [\"POA\", \"MIA\", \"2020-07-05\", \"2020-07-20\", 3761], [\"POA\", \"MIA\", \"2020-07-05\", \"2020-07-20\", 3771], [\"POA\", \"MIA\", \"2020-07-05\", \"2020-07-20\", 3795], [\"POA\", \"MIA\", \"2020-07-05\", \"2020-07-20\", 3795]], \"hoverlabel\": {\"namelength\": 0}, \"hovertemplate\": \"EspecificoTodos=POAMIA-2020-07-05-2020-07-20<br>DataPesquisa=%{x}<br>preco=%{customdata[4]}<br>de=%{customdata[0]}<br>para=%{customdata[1]}<br>Ida=%{customdata[2]}<br>Volta=%{customdata[3]}\", \"legendgroup\": \"EspecificoTodos=POAMIA-2020-07-05-2020-07-20\", \"line\": {\"color\": \"#B6E880\", \"dash\": \"solid\"}, \"mode\": \"lines\", \"name\": \"EspecificoTodos=POAMIA-2020-07-05-2020-07-20\", \"showlegend\": true, \"type\": \"scatter\", \"x\": [\"16/01/2020 15\", \"16/01/2020 17\", \"17/01/2020 09\", \"17/01/2020 10\", \"17/01/2020 12\", \"17/01/2020 16\", \"20/01/2020 08\", \"20/01/2020 11\", \"20/01/2020 15\", \"20/01/2020 16\", \"21/01/2020 09\", \"21/01/2020 10\", \"21/01/2020 16\", \"22/01/2020 09\", \"22/01/2020 18\", \"23/01/2020 09\", \"23/01/2020 15\", \"23/01/2020 16\"], \"xaxis\": \"x\", \"y\": [3948, 4006, 3692, 3973, 3863, 3876, 3599, 3655, 3682, 3776, 3630, 3757, 3684, 3745, 3761, 3771, 3795, 3795], \"yaxis\": \"y\"}, {\"customdata\": [[\"POA\", \"MIA\", \"2020-07-05\", \"2020-07-21\", 3918], [\"POA\", \"MIA\", \"2020-07-05\", \"2020-07-21\", 3972], [\"POA\", \"MIA\", \"2020-07-05\", \"2020-07-21\", 3700], [\"POA\", \"MIA\", \"2020-07-05\", \"2020-07-21\", 3954], [\"POA\", \"MIA\", \"2020-07-05\", \"2020-07-21\", 3867], [\"POA\", \"MIA\", \"2020-07-05\", \"2020-07-21\", 3851], [\"POA\", \"MIA\", \"2020-07-05\", \"2020-07-21\", 3518], [\"POA\", \"MIA\", \"2020-07-05\", \"2020-07-21\", 3548], [\"POA\", \"MIA\", \"2020-07-05\", \"2020-07-21\", 3593], [\"POA\", \"MIA\", \"2020-07-05\", \"2020-07-21\", 3692], [\"POA\", \"MIA\", \"2020-07-05\", \"2020-07-21\", 3598], [\"POA\", \"MIA\", \"2020-07-05\", \"2020-07-21\", 3642], [\"POA\", \"MIA\", \"2020-07-05\", \"2020-07-21\", 3601], [\"POA\", \"MIA\", \"2020-07-05\", \"2020-07-21\", 3704], [\"POA\", \"MIA\", \"2020-07-05\", \"2020-07-21\", 3702], [\"POA\", \"MIA\", \"2020-07-05\", \"2020-07-21\", 3771], [\"POA\", \"MIA\", \"2020-07-05\", \"2020-07-21\", 3766], [\"POA\", \"MIA\", \"2020-07-05\", \"2020-07-21\", 3766]], \"hoverlabel\": {\"namelength\": 0}, \"hovertemplate\": \"EspecificoTodos=POAMIA-2020-07-05-2020-07-21<br>DataPesquisa=%{x}<br>preco=%{customdata[4]}<br>de=%{customdata[0]}<br>para=%{customdata[1]}<br>Ida=%{customdata[2]}<br>Volta=%{customdata[3]}\", \"legendgroup\": \"EspecificoTodos=POAMIA-2020-07-05-2020-07-21\", \"line\": {\"color\": \"#FF97FF\", \"dash\": \"solid\"}, \"mode\": \"lines\", \"name\": \"EspecificoTodos=POAMIA-2020-07-05-2020-07-21\", \"showlegend\": true, \"type\": \"scatter\", \"x\": [\"16/01/2020 15\", \"16/01/2020 17\", \"17/01/2020 09\", \"17/01/2020 10\", \"17/01/2020 12\", \"17/01/2020 16\", \"20/01/2020 08\", \"20/01/2020 11\", \"20/01/2020 15\", \"20/01/2020 16\", \"21/01/2020 09\", \"21/01/2020 10\", \"21/01/2020 16\", \"22/01/2020 09\", \"22/01/2020 18\", \"23/01/2020 09\", \"23/01/2020 15\", \"23/01/2020 16\"], \"xaxis\": \"x\", \"y\": [3918, 3972, 3700, 3954, 3867, 3851, 3518, 3548, 3593, 3692, 3598, 3642, 3601, 3704, 3702, 3771, 3766, 3766], \"yaxis\": \"y\"}, {\"customdata\": [[\"POA\", \"MIA\", \"2020-07-05\", \"2020-07-22\", 3939], [\"POA\", \"MIA\", \"2020-07-05\", \"2020-07-22\", 3923], [\"POA\", \"MIA\", \"2020-07-05\", \"2020-07-22\", 3697], [\"POA\", \"MIA\", \"2020-07-05\", \"2020-07-22\", 3966], [\"POA\", \"MIA\", \"2020-07-05\", \"2020-07-22\", 3902], [\"POA\", \"MIA\", \"2020-07-05\", \"2020-07-22\", 3910], [\"POA\", \"MIA\", \"2020-07-05\", \"2020-07-22\", 3491], [\"POA\", \"MIA\", \"2020-07-05\", \"2020-07-22\", 3519], [\"POA\", \"MIA\", \"2020-07-05\", \"2020-07-22\", 3532], [\"POA\", \"MIA\", \"2020-07-05\", \"2020-07-22\", 3688], [\"POA\", \"MIA\", \"2020-07-05\", \"2020-07-22\", 3598], [\"POA\", \"MIA\", \"2020-07-05\", \"2020-07-22\", 3653], [\"POA\", \"MIA\", \"2020-07-05\", \"2020-07-22\", 3526], [\"POA\", \"MIA\", \"2020-07-05\", \"2020-07-22\", 3754], [\"POA\", \"MIA\", \"2020-07-05\", \"2020-07-22\", 3720], [\"POA\", \"MIA\", \"2020-07-05\", \"2020-07-22\", 3820], [\"POA\", \"MIA\", \"2020-07-05\", \"2020-07-22\", 3795], [\"POA\", \"MIA\", \"2020-07-05\", \"2020-07-22\", 3795]], \"hoverlabel\": {\"namelength\": 0}, \"hovertemplate\": \"EspecificoTodos=POAMIA-2020-07-05-2020-07-22<br>DataPesquisa=%{x}<br>preco=%{customdata[4]}<br>de=%{customdata[0]}<br>para=%{customdata[1]}<br>Ida=%{customdata[2]}<br>Volta=%{customdata[3]}\", \"legendgroup\": \"EspecificoTodos=POAMIA-2020-07-05-2020-07-22\", \"line\": {\"color\": \"#FECB52\", \"dash\": \"solid\"}, \"mode\": \"lines\", \"name\": \"EspecificoTodos=POAMIA-2020-07-05-2020-07-22\", \"showlegend\": true, \"type\": \"scatter\", \"x\": [\"16/01/2020 15\", \"16/01/2020 17\", \"17/01/2020 09\", \"17/01/2020 10\", \"17/01/2020 12\", \"17/01/2020 16\", \"20/01/2020 08\", \"20/01/2020 11\", \"20/01/2020 15\", \"20/01/2020 16\", \"21/01/2020 09\", \"21/01/2020 10\", \"21/01/2020 16\", \"22/01/2020 09\", \"22/01/2020 18\", \"23/01/2020 09\", \"23/01/2020 15\", \"23/01/2020 16\"], \"xaxis\": \"x\", \"y\": [3939, 3923, 3697, 3966, 3902, 3910, 3491, 3519, 3532, 3688, 3598, 3653, 3526, 3754, 3720, 3820, 3795, 3795], \"yaxis\": \"y\"}, {\"customdata\": [[\"POA\", \"MIA\", \"2020-07-06\", \"2020-07-20\", 3901], [\"POA\", \"MIA\", \"2020-07-06\", \"2020-07-20\", 3936], [\"POA\", \"MIA\", \"2020-07-06\", \"2020-07-20\", 3749], [\"POA\", \"MIA\", \"2020-07-06\", \"2020-07-20\", 3879], [\"POA\", \"MIA\", \"2020-07-06\", \"2020-07-20\", 3723], [\"POA\", \"MIA\", \"2020-07-06\", \"2020-07-20\", 3681], [\"POA\", \"MIA\", \"2020-07-06\", \"2020-07-20\", 3821], [\"POA\", \"MIA\", \"2020-07-06\", \"2020-07-20\", 3805], [\"POA\", \"MIA\", \"2020-07-06\", \"2020-07-20\", 3786], [\"POA\", \"MIA\", \"2020-07-06\", \"2020-07-20\", 3774], [\"POA\", \"MIA\", \"2020-07-06\", \"2020-07-20\", 3622], [\"POA\", \"MIA\", \"2020-07-06\", \"2020-07-20\", 3618], [\"POA\", \"MIA\", \"2020-07-06\", \"2020-07-20\", 3597], [\"POA\", \"MIA\", \"2020-07-06\", \"2020-07-20\", 3561], [\"POA\", \"MIA\", \"2020-07-06\", \"2020-07-20\", 3753], [\"POA\", \"MIA\", \"2020-07-06\", \"2020-07-20\", 3761], [\"POA\", \"MIA\", \"2020-07-06\", \"2020-07-20\", 3687], [\"POA\", \"MIA\", \"2020-07-06\", \"2020-07-20\", 3687]], \"hoverlabel\": {\"namelength\": 0}, \"hovertemplate\": \"EspecificoTodos=POAMIA-2020-07-06-2020-07-20<br>DataPesquisa=%{x}<br>preco=%{customdata[4]}<br>de=%{customdata[0]}<br>para=%{customdata[1]}<br>Ida=%{customdata[2]}<br>Volta=%{customdata[3]}\", \"legendgroup\": \"EspecificoTodos=POAMIA-2020-07-06-2020-07-20\", \"line\": {\"color\": \"#636efa\", \"dash\": \"solid\"}, \"mode\": \"lines\", \"name\": \"EspecificoTodos=POAMIA-2020-07-06-2020-07-20\", \"showlegend\": true, \"type\": \"scatter\", \"x\": [\"16/01/2020 15\", \"16/01/2020 17\", \"17/01/2020 09\", \"17/01/2020 10\", \"17/01/2020 12\", \"17/01/2020 16\", \"20/01/2020 08\", \"20/01/2020 11\", \"20/01/2020 15\", \"20/01/2020 16\", \"21/01/2020 09\", \"21/01/2020 10\", \"21/01/2020 16\", \"22/01/2020 09\", \"22/01/2020 18\", \"23/01/2020 09\", \"23/01/2020 15\", \"23/01/2020 16\"], \"xaxis\": \"x\", \"y\": [3901, 3936, 3749, 3879, 3723, 3681, 3821, 3805, 3786, 3774, 3622, 3618, 3597, 3561, 3753, 3761, 3687, 3687], \"yaxis\": \"y\"}, {\"customdata\": [[\"POA\", \"MIA\", \"2020-07-06\", \"2020-07-21\", 3836], [\"POA\", \"MIA\", \"2020-07-06\", \"2020-07-21\", 3838], [\"POA\", \"MIA\", \"2020-07-06\", \"2020-07-21\", 3651], [\"POA\", \"MIA\", \"2020-07-06\", \"2020-07-21\", 3803], [\"POA\", \"MIA\", \"2020-07-06\", \"2020-07-21\", 3647], [\"POA\", \"MIA\", \"2020-07-06\", \"2020-07-21\", 3548], [\"POA\", \"MIA\", \"2020-07-06\", \"2020-07-21\", 3795], [\"POA\", \"MIA\", \"2020-07-06\", \"2020-07-21\", 3804], [\"POA\", \"MIA\", \"2020-07-06\", \"2020-07-21\", 3794], [\"POA\", \"MIA\", \"2020-07-06\", \"2020-07-21\", 3741], [\"POA\", \"MIA\", \"2020-07-06\", \"2020-07-21\", 3584], [\"POA\", \"MIA\", \"2020-07-06\", \"2020-07-21\", 3496], [\"POA\", \"MIA\", \"2020-07-06\", \"2020-07-21\", 3527], [\"POA\", \"MIA\", \"2020-07-06\", \"2020-07-21\", 3522], [\"POA\", \"MIA\", \"2020-07-06\", \"2020-07-21\", 3884], [\"POA\", \"MIA\", \"2020-07-06\", \"2020-07-21\", 3681], [\"POA\", \"MIA\", \"2020-07-06\", \"2020-07-21\", 3733], [\"POA\", \"MIA\", \"2020-07-06\", \"2020-07-21\", 3733]], \"hoverlabel\": {\"namelength\": 0}, \"hovertemplate\": \"EspecificoTodos=POAMIA-2020-07-06-2020-07-21<br>DataPesquisa=%{x}<br>preco=%{customdata[4]}<br>de=%{customdata[0]}<br>para=%{customdata[1]}<br>Ida=%{customdata[2]}<br>Volta=%{customdata[3]}\", \"legendgroup\": \"EspecificoTodos=POAMIA-2020-07-06-2020-07-21\", \"line\": {\"color\": \"#EF553B\", \"dash\": \"solid\"}, \"mode\": \"lines\", \"name\": \"EspecificoTodos=POAMIA-2020-07-06-2020-07-21\", \"showlegend\": true, \"type\": \"scatter\", \"x\": [\"16/01/2020 15\", \"16/01/2020 17\", \"17/01/2020 09\", \"17/01/2020 10\", \"17/01/2020 12\", \"17/01/2020 16\", \"20/01/2020 08\", \"20/01/2020 11\", \"20/01/2020 15\", \"20/01/2020 16\", \"21/01/2020 09\", \"21/01/2020 10\", \"21/01/2020 16\", \"22/01/2020 09\", \"22/01/2020 18\", \"23/01/2020 09\", \"23/01/2020 15\", \"23/01/2020 16\"], \"xaxis\": \"x\", \"y\": [3836, 3838, 3651, 3803, 3647, 3548, 3795, 3804, 3794, 3741, 3584, 3496, 3527, 3522, 3884, 3681, 3733, 3733], \"yaxis\": \"y\"}, {\"customdata\": [[\"POA\", \"MIA\", \"2020-07-06\", \"2020-07-22\", 3825], [\"POA\", \"MIA\", \"2020-07-06\", \"2020-07-22\", 3826], [\"POA\", \"MIA\", \"2020-07-06\", \"2020-07-22\", 3751], [\"POA\", \"MIA\", \"2020-07-06\", \"2020-07-22\", 3723], [\"POA\", \"MIA\", \"2020-07-06\", \"2020-07-22\", 3615], [\"POA\", \"MIA\", \"2020-07-06\", \"2020-07-22\", 3617], [\"POA\", \"MIA\", \"2020-07-06\", \"2020-07-22\", 3815], [\"POA\", \"MIA\", \"2020-07-06\", \"2020-07-22\", 3786], [\"POA\", \"MIA\", \"2020-07-06\", \"2020-07-22\", 3782], [\"POA\", \"MIA\", \"2020-07-06\", \"2020-07-22\", 3728], [\"POA\", \"MIA\", \"2020-07-06\", \"2020-07-22\", 3654], [\"POA\", \"MIA\", \"2020-07-06\", \"2020-07-22\", 3520], [\"POA\", \"MIA\", \"2020-07-06\", \"2020-07-22\", 3560], [\"POA\", \"MIA\", \"2020-07-06\", \"2020-07-22\", 3529], [\"POA\", \"MIA\", \"2020-07-06\", \"2020-07-22\", 3693], [\"POA\", \"MIA\", \"2020-07-06\", \"2020-07-22\", 3785], [\"POA\", \"MIA\", \"2020-07-06\", \"2020-07-22\", 3744], [\"POA\", \"MIA\", \"2020-07-06\", \"2020-07-22\", 3744]], \"hoverlabel\": {\"namelength\": 0}, \"hovertemplate\": \"EspecificoTodos=POAMIA-2020-07-06-2020-07-22<br>DataPesquisa=%{x}<br>preco=%{customdata[4]}<br>de=%{customdata[0]}<br>para=%{customdata[1]}<br>Ida=%{customdata[2]}<br>Volta=%{customdata[3]}\", \"legendgroup\": \"EspecificoTodos=POAMIA-2020-07-06-2020-07-22\", \"line\": {\"color\": \"#00cc96\", \"dash\": \"solid\"}, \"mode\": \"lines\", \"name\": \"EspecificoTodos=POAMIA-2020-07-06-2020-07-22\", \"showlegend\": true, \"type\": \"scatter\", \"x\": [\"16/01/2020 15\", \"16/01/2020 17\", \"17/01/2020 09\", \"17/01/2020 10\", \"17/01/2020 12\", \"17/01/2020 16\", \"20/01/2020 08\", \"20/01/2020 11\", \"20/01/2020 15\", \"20/01/2020 16\", \"21/01/2020 09\", \"21/01/2020 10\", \"21/01/2020 16\", \"22/01/2020 09\", \"22/01/2020 18\", \"23/01/2020 09\", \"23/01/2020 15\", \"23/01/2020 16\"], \"xaxis\": \"x\", \"y\": [3825, 3826, 3751, 3723, 3615, 3617, 3815, 3786, 3782, 3728, 3654, 3520, 3560, 3529, 3693, 3785, 3744, 3744], \"yaxis\": \"y\"}, {\"customdata\": [[\"POA\", \"MIA\", \"2020-07-06\", \"2020-07-23\", 3838], [\"POA\", \"MIA\", \"2020-07-06\", \"2020-07-23\", 3800], [\"POA\", \"MIA\", \"2020-07-06\", \"2020-07-23\", 3754], [\"POA\", \"MIA\", \"2020-07-06\", \"2020-07-23\", 3729], [\"POA\", \"MIA\", \"2020-07-06\", \"2020-07-23\", 3620], [\"POA\", \"MIA\", \"2020-07-06\", \"2020-07-23\", 3610], [\"POA\", \"MIA\", \"2020-07-06\", \"2020-07-23\", 3859], [\"POA\", \"MIA\", \"2020-07-06\", \"2020-07-23\", 3798], [\"POA\", \"MIA\", \"2020-07-06\", \"2020-07-23\", 3766], [\"POA\", \"MIA\", \"2020-07-06\", \"2020-07-23\", 3738], [\"POA\", \"MIA\", \"2020-07-06\", \"2020-07-23\", 3674], [\"POA\", \"MIA\", \"2020-07-06\", \"2020-07-23\", 3510], [\"POA\", \"MIA\", \"2020-07-06\", \"2020-07-23\", 3623], [\"POA\", \"MIA\", \"2020-07-06\", \"2020-07-23\", 3573], [\"POA\", \"MIA\", \"2020-07-06\", \"2020-07-23\", 3718], [\"POA\", \"MIA\", \"2020-07-06\", \"2020-07-23\", 3761], [\"POA\", \"MIA\", \"2020-07-06\", \"2020-07-23\", 3749], [\"POA\", \"MIA\", \"2020-07-06\", \"2020-07-23\", 3749]], \"hoverlabel\": {\"namelength\": 0}, \"hovertemplate\": \"EspecificoTodos=POAMIA-2020-07-06-2020-07-23<br>DataPesquisa=%{x}<br>preco=%{customdata[4]}<br>de=%{customdata[0]}<br>para=%{customdata[1]}<br>Ida=%{customdata[2]}<br>Volta=%{customdata[3]}\", \"legendgroup\": \"EspecificoTodos=POAMIA-2020-07-06-2020-07-23\", \"line\": {\"color\": \"#ab63fa\", \"dash\": \"solid\"}, \"mode\": \"lines\", \"name\": \"EspecificoTodos=POAMIA-2020-07-06-2020-07-23\", \"showlegend\": true, \"type\": \"scatter\", \"x\": [\"16/01/2020 15\", \"16/01/2020 17\", \"17/01/2020 09\", \"17/01/2020 10\", \"17/01/2020 12\", \"17/01/2020 16\", \"20/01/2020 08\", \"20/01/2020 11\", \"20/01/2020 15\", \"20/01/2020 16\", \"21/01/2020 09\", \"21/01/2020 10\", \"21/01/2020 16\", \"22/01/2020 09\", \"22/01/2020 18\", \"23/01/2020 09\", \"23/01/2020 15\", \"23/01/2020 16\"], \"xaxis\": \"x\", \"y\": [3838, 3800, 3754, 3729, 3620, 3610, 3859, 3798, 3766, 3738, 3674, 3510, 3623, 3573, 3718, 3761, 3749, 3749], \"yaxis\": \"y\"}, {\"customdata\": [[\"POA\", \"MIA\", \"2020-07-07\", \"2020-07-21\", 3828], [\"POA\", \"MIA\", \"2020-07-07\", \"2020-07-21\", 3824], [\"POA\", \"MIA\", \"2020-07-07\", \"2020-07-21\", 3754], [\"POA\", \"MIA\", \"2020-07-07\", \"2020-07-21\", 3840], [\"POA\", \"MIA\", \"2020-07-07\", \"2020-07-21\", 3574], [\"POA\", \"MIA\", \"2020-07-07\", \"2020-07-21\", 3637], [\"POA\", \"MIA\", \"2020-07-07\", \"2020-07-21\", 3825], [\"POA\", \"MIA\", \"2020-07-07\", \"2020-07-21\", 3849], [\"POA\", \"MIA\", \"2020-07-07\", \"2020-07-21\", 3777], [\"POA\", \"MIA\", \"2020-07-07\", \"2020-07-21\", 3815], [\"POA\", \"MIA\", \"2020-07-07\", \"2020-07-21\", 3707]], \"hoverlabel\": {\"namelength\": 0}, \"hovertemplate\": \"EspecificoTodos=POAMIA-2020-07-07-2020-07-21<br>DataPesquisa=%{x}<br>preco=%{customdata[4]}<br>de=%{customdata[0]}<br>para=%{customdata[1]}<br>Ida=%{customdata[2]}<br>Volta=%{customdata[3]}\", \"legendgroup\": \"EspecificoTodos=POAMIA-2020-07-07-2020-07-21\", \"line\": {\"color\": \"#FFA15A\", \"dash\": \"solid\"}, \"mode\": \"lines\", \"name\": \"EspecificoTodos=POAMIA-2020-07-07-2020-07-21\", \"showlegend\": true, \"type\": \"scatter\", \"x\": [\"16/01/2020 15\", \"16/01/2020 17\", \"17/01/2020 09\", \"17/01/2020 10\", \"17/01/2020 12\", \"17/01/2020 16\", \"20/01/2020 08\", \"20/01/2020 11\", \"20/01/2020 15\", \"20/01/2020 16\", \"21/01/2020 09\"], \"xaxis\": \"x\", \"y\": [3828, 3824, 3754, 3840, 3574, 3637, 3825, 3849, 3777, 3815, 3707], \"yaxis\": \"y\"}, {\"customdata\": [[\"POA\", \"MIA\", \"2020-07-07\", \"2020-07-22\", 3798], [\"POA\", \"MIA\", \"2020-07-07\", \"2020-07-22\", 3855], [\"POA\", \"MIA\", \"2020-07-07\", \"2020-07-22\", 3708], [\"POA\", \"MIA\", \"2020-07-07\", \"2020-07-22\", 3895], [\"POA\", \"MIA\", \"2020-07-07\", \"2020-07-22\", 3619], [\"POA\", \"MIA\", \"2020-07-07\", \"2020-07-22\", 3666], [\"POA\", \"MIA\", \"2020-07-07\", \"2020-07-22\", 3838], [\"POA\", \"MIA\", \"2020-07-07\", \"2020-07-22\", 3842], [\"POA\", \"MIA\", \"2020-07-07\", \"2020-07-22\", 3809], [\"POA\", \"MIA\", \"2020-07-07\", \"2020-07-22\", 3783], [\"POA\", \"MIA\", \"2020-07-07\", \"2020-07-22\", 3758]], \"hoverlabel\": {\"namelength\": 0}, \"hovertemplate\": \"EspecificoTodos=POAMIA-2020-07-07-2020-07-22<br>DataPesquisa=%{x}<br>preco=%{customdata[4]}<br>de=%{customdata[0]}<br>para=%{customdata[1]}<br>Ida=%{customdata[2]}<br>Volta=%{customdata[3]}\", \"legendgroup\": \"EspecificoTodos=POAMIA-2020-07-07-2020-07-22\", \"line\": {\"color\": \"#19d3f3\", \"dash\": \"solid\"}, \"mode\": \"lines\", \"name\": \"EspecificoTodos=POAMIA-2020-07-07-2020-07-22\", \"showlegend\": true, \"type\": \"scatter\", \"x\": [\"16/01/2020 15\", \"16/01/2020 17\", \"17/01/2020 09\", \"17/01/2020 10\", \"17/01/2020 12\", \"17/01/2020 16\", \"20/01/2020 08\", \"20/01/2020 11\", \"20/01/2020 15\", \"20/01/2020 16\", \"21/01/2020 09\"], \"xaxis\": \"x\", \"y\": [3798, 3855, 3708, 3895, 3619, 3666, 3838, 3842, 3809, 3783, 3758], \"yaxis\": \"y\"}, {\"customdata\": [[\"POA\", \"MIA\", \"2020-07-07\", \"2020-07-23\", 3812], [\"POA\", \"MIA\", \"2020-07-07\", \"2020-07-23\", 3777], [\"POA\", \"MIA\", \"2020-07-07\", \"2020-07-23\", 3736], [\"POA\", \"MIA\", \"2020-07-07\", \"2020-07-23\", 3770], [\"POA\", \"MIA\", \"2020-07-07\", \"2020-07-23\", 3560], [\"POA\", \"MIA\", \"2020-07-07\", \"2020-07-23\", 3648], [\"POA\", \"MIA\", \"2020-07-07\", \"2020-07-23\", 3847], [\"POA\", \"MIA\", \"2020-07-07\", \"2020-07-23\", 3867], [\"POA\", \"MIA\", \"2020-07-07\", \"2020-07-23\", 3807], [\"POA\", \"MIA\", \"2020-07-07\", \"2020-07-23\", 3777], [\"POA\", \"MIA\", \"2020-07-07\", \"2020-07-23\", 3814]], \"hoverlabel\": {\"namelength\": 0}, \"hovertemplate\": \"EspecificoTodos=POAMIA-2020-07-07-2020-07-23<br>DataPesquisa=%{x}<br>preco=%{customdata[4]}<br>de=%{customdata[0]}<br>para=%{customdata[1]}<br>Ida=%{customdata[2]}<br>Volta=%{customdata[3]}\", \"legendgroup\": \"EspecificoTodos=POAMIA-2020-07-07-2020-07-23\", \"line\": {\"color\": \"#FF6692\", \"dash\": \"solid\"}, \"mode\": \"lines\", \"name\": \"EspecificoTodos=POAMIA-2020-07-07-2020-07-23\", \"showlegend\": true, \"type\": \"scatter\", \"x\": [\"16/01/2020 15\", \"16/01/2020 17\", \"17/01/2020 09\", \"17/01/2020 10\", \"17/01/2020 12\", \"17/01/2020 16\", \"20/01/2020 08\", \"20/01/2020 11\", \"20/01/2020 15\", \"20/01/2020 16\", \"21/01/2020 09\"], \"xaxis\": \"x\", \"y\": [3812, 3777, 3736, 3770, 3560, 3648, 3847, 3867, 3807, 3777, 3814], \"yaxis\": \"y\"}, {\"customdata\": [[\"POA\", \"ATL\", \"2020-07-04\", \"2020-07-19\", 7295], [\"POA\", \"ATL\", \"2020-07-04\", \"2020-07-19\", 7295], [\"POA\", \"ATL\", \"2020-07-04\", \"2020-07-19\", 7295]], \"hoverlabel\": {\"namelength\": 0}, \"hovertemplate\": \"EspecificoTodos=POAATL-2020-07-04-2020-07-19<br>DataPesquisa=%{x}<br>preco=%{customdata[4]}<br>de=%{customdata[0]}<br>para=%{customdata[1]}<br>Ida=%{customdata[2]}<br>Volta=%{customdata[3]}\", \"legendgroup\": \"EspecificoTodos=POAATL-2020-07-04-2020-07-19\", \"line\": {\"color\": \"#B6E880\", \"dash\": \"solid\"}, \"mode\": \"lines\", \"name\": \"EspecificoTodos=POAATL-2020-07-04-2020-07-19\", \"showlegend\": true, \"type\": \"scatter\", \"x\": [\"20/01/2020 11\", \"20/01/2020 15\", \"20/01/2020 16\"], \"xaxis\": \"x\", \"y\": [7295, 7295, 7295], \"yaxis\": \"y\"}, {\"customdata\": [[\"POA\", \"ATL\", \"2020-07-03\", \"2020-07-20\", 5050], [\"POA\", \"ATL\", \"2020-07-03\", \"2020-07-20\", 5050], [\"POA\", \"ATL\", \"2020-07-03\", \"2020-07-20\", 4967], [\"POA\", \"ATL\", \"2020-07-03\", \"2020-07-20\", 4967], [\"POA\", \"ATL\", \"2020-07-03\", \"2020-07-20\", 5387], [\"POA\", \"ATL\", \"2020-07-03\", \"2020-07-20\", 5387], [\"POA\", \"ATL\", \"2020-07-03\", \"2020-07-20\", 5387]], \"hoverlabel\": {\"namelength\": 0}, \"hovertemplate\": \"EspecificoTodos=POAATL-2020-07-03-2020-07-20<br>DataPesquisa=%{x}<br>preco=%{customdata[4]}<br>de=%{customdata[0]}<br>para=%{customdata[1]}<br>Ida=%{customdata[2]}<br>Volta=%{customdata[3]}\", \"legendgroup\": \"EspecificoTodos=POAATL-2020-07-03-2020-07-20\", \"line\": {\"color\": \"#FF97FF\", \"dash\": \"solid\"}, \"mode\": \"lines\", \"name\": \"EspecificoTodos=POAATL-2020-07-03-2020-07-20\", \"showlegend\": true, \"type\": \"scatter\", \"x\": [\"21/01/2020 10\", \"21/01/2020 16\", \"22/01/2020 09\", \"22/01/2020 18\", \"23/01/2020 09\", \"23/01/2020 15\", \"23/01/2020 16\"], \"xaxis\": \"x\", \"y\": [5050, 5050, 4967, 4967, 5387, 5387, 5387], \"yaxis\": \"y\"}, {\"customdata\": [[\"POA\", \"ATL\", \"2020-07-06\", \"2020-07-20\", 5006], [\"POA\", \"ATL\", \"2020-07-06\", \"2020-07-20\", 5006]], \"hoverlabel\": {\"namelength\": 0}, \"hovertemplate\": \"EspecificoTodos=POAATL-2020-07-06-2020-07-20<br>DataPesquisa=%{x}<br>preco=%{customdata[4]}<br>de=%{customdata[0]}<br>para=%{customdata[1]}<br>Ida=%{customdata[2]}<br>Volta=%{customdata[3]}\", \"legendgroup\": \"EspecificoTodos=POAATL-2020-07-06-2020-07-20\", \"line\": {\"color\": \"#FECB52\", \"dash\": \"solid\"}, \"mode\": \"lines\", \"name\": \"EspecificoTodos=POAATL-2020-07-06-2020-07-20\", \"showlegend\": true, \"type\": \"scatter\", \"x\": [\"23/01/2020 15\", \"23/01/2020 16\"], \"xaxis\": \"x\", \"y\": [5006, 5006], \"yaxis\": \"y\"}],\n",
       "                        {\"height\": 600, \"legend\": {\"tracegroupgap\": 0}, \"margin\": {\"t\": 60}, \"template\": {\"data\": {\"bar\": [{\"error_x\": {\"color\": \"#2a3f5f\"}, \"error_y\": {\"color\": \"#2a3f5f\"}, \"marker\": {\"line\": {\"color\": \"#E5ECF6\", \"width\": 0.5}}, \"type\": \"bar\"}], \"barpolar\": [{\"marker\": {\"line\": {\"color\": \"#E5ECF6\", \"width\": 0.5}}, \"type\": \"barpolar\"}], \"carpet\": [{\"aaxis\": {\"endlinecolor\": \"#2a3f5f\", \"gridcolor\": \"white\", \"linecolor\": \"white\", \"minorgridcolor\": \"white\", \"startlinecolor\": \"#2a3f5f\"}, \"baxis\": {\"endlinecolor\": \"#2a3f5f\", \"gridcolor\": \"white\", \"linecolor\": \"white\", \"minorgridcolor\": \"white\", \"startlinecolor\": \"#2a3f5f\"}, \"type\": \"carpet\"}], \"choropleth\": [{\"colorbar\": {\"outlinewidth\": 0, \"ticks\": \"\"}, \"type\": \"choropleth\"}], \"contour\": [{\"colorbar\": {\"outlinewidth\": 0, \"ticks\": \"\"}, \"colorscale\": [[0.0, \"#0d0887\"], [0.1111111111111111, \"#46039f\"], [0.2222222222222222, \"#7201a8\"], [0.3333333333333333, \"#9c179e\"], [0.4444444444444444, \"#bd3786\"], [0.5555555555555556, \"#d8576b\"], [0.6666666666666666, \"#ed7953\"], [0.7777777777777778, \"#fb9f3a\"], [0.8888888888888888, \"#fdca26\"], [1.0, \"#f0f921\"]], \"type\": \"contour\"}], \"contourcarpet\": [{\"colorbar\": {\"outlinewidth\": 0, \"ticks\": \"\"}, \"type\": \"contourcarpet\"}], \"heatmap\": [{\"colorbar\": {\"outlinewidth\": 0, \"ticks\": \"\"}, \"colorscale\": [[0.0, \"#0d0887\"], [0.1111111111111111, \"#46039f\"], [0.2222222222222222, \"#7201a8\"], [0.3333333333333333, \"#9c179e\"], [0.4444444444444444, \"#bd3786\"], [0.5555555555555556, \"#d8576b\"], [0.6666666666666666, \"#ed7953\"], [0.7777777777777778, \"#fb9f3a\"], [0.8888888888888888, \"#fdca26\"], [1.0, \"#f0f921\"]], \"type\": \"heatmap\"}], \"heatmapgl\": [{\"colorbar\": {\"outlinewidth\": 0, \"ticks\": \"\"}, \"colorscale\": [[0.0, \"#0d0887\"], [0.1111111111111111, \"#46039f\"], [0.2222222222222222, \"#7201a8\"], [0.3333333333333333, \"#9c179e\"], [0.4444444444444444, \"#bd3786\"], [0.5555555555555556, \"#d8576b\"], [0.6666666666666666, \"#ed7953\"], [0.7777777777777778, \"#fb9f3a\"], [0.8888888888888888, \"#fdca26\"], [1.0, \"#f0f921\"]], \"type\": \"heatmapgl\"}], \"histogram\": [{\"marker\": {\"colorbar\": {\"outlinewidth\": 0, \"ticks\": \"\"}}, \"type\": \"histogram\"}], \"histogram2d\": [{\"colorbar\": {\"outlinewidth\": 0, \"ticks\": \"\"}, \"colorscale\": [[0.0, \"#0d0887\"], [0.1111111111111111, \"#46039f\"], [0.2222222222222222, \"#7201a8\"], [0.3333333333333333, \"#9c179e\"], [0.4444444444444444, \"#bd3786\"], [0.5555555555555556, \"#d8576b\"], [0.6666666666666666, \"#ed7953\"], [0.7777777777777778, \"#fb9f3a\"], [0.8888888888888888, \"#fdca26\"], [1.0, \"#f0f921\"]], \"type\": \"histogram2d\"}], \"histogram2dcontour\": [{\"colorbar\": {\"outlinewidth\": 0, \"ticks\": \"\"}, \"colorscale\": [[0.0, \"#0d0887\"], [0.1111111111111111, \"#46039f\"], [0.2222222222222222, \"#7201a8\"], [0.3333333333333333, \"#9c179e\"], [0.4444444444444444, \"#bd3786\"], [0.5555555555555556, \"#d8576b\"], [0.6666666666666666, \"#ed7953\"], [0.7777777777777778, \"#fb9f3a\"], [0.8888888888888888, \"#fdca26\"], [1.0, \"#f0f921\"]], \"type\": \"histogram2dcontour\"}], \"mesh3d\": [{\"colorbar\": {\"outlinewidth\": 0, \"ticks\": \"\"}, \"type\": \"mesh3d\"}], \"parcoords\": [{\"line\": {\"colorbar\": {\"outlinewidth\": 0, \"ticks\": \"\"}}, \"type\": \"parcoords\"}], \"scatter\": [{\"marker\": {\"colorbar\": {\"outlinewidth\": 0, \"ticks\": \"\"}}, \"type\": \"scatter\"}], \"scatter3d\": [{\"line\": {\"colorbar\": {\"outlinewidth\": 0, \"ticks\": \"\"}}, \"marker\": {\"colorbar\": {\"outlinewidth\": 0, \"ticks\": \"\"}}, \"type\": \"scatter3d\"}], \"scattercarpet\": [{\"marker\": {\"colorbar\": {\"outlinewidth\": 0, \"ticks\": \"\"}}, \"type\": \"scattercarpet\"}], \"scattergeo\": [{\"marker\": {\"colorbar\": {\"outlinewidth\": 0, \"ticks\": \"\"}}, \"type\": \"scattergeo\"}], \"scattergl\": [{\"marker\": {\"colorbar\": {\"outlinewidth\": 0, \"ticks\": \"\"}}, \"type\": \"scattergl\"}], \"scattermapbox\": [{\"marker\": {\"colorbar\": {\"outlinewidth\": 0, \"ticks\": \"\"}}, \"type\": \"scattermapbox\"}], \"scatterpolar\": [{\"marker\": {\"colorbar\": {\"outlinewidth\": 0, \"ticks\": \"\"}}, \"type\": \"scatterpolar\"}], \"scatterpolargl\": [{\"marker\": {\"colorbar\": {\"outlinewidth\": 0, \"ticks\": \"\"}}, \"type\": \"scatterpolargl\"}], \"scatterternary\": [{\"marker\": {\"colorbar\": {\"outlinewidth\": 0, \"ticks\": \"\"}}, \"type\": \"scatterternary\"}], \"surface\": [{\"colorbar\": {\"outlinewidth\": 0, \"ticks\": \"\"}, \"colorscale\": [[0.0, \"#0d0887\"], [0.1111111111111111, \"#46039f\"], [0.2222222222222222, \"#7201a8\"], [0.3333333333333333, \"#9c179e\"], [0.4444444444444444, \"#bd3786\"], [0.5555555555555556, \"#d8576b\"], [0.6666666666666666, \"#ed7953\"], [0.7777777777777778, \"#fb9f3a\"], [0.8888888888888888, \"#fdca26\"], [1.0, \"#f0f921\"]], \"type\": \"surface\"}], \"table\": [{\"cells\": {\"fill\": {\"color\": \"#EBF0F8\"}, \"line\": {\"color\": \"white\"}}, \"header\": {\"fill\": {\"color\": \"#C8D4E3\"}, \"line\": {\"color\": \"white\"}}, \"type\": \"table\"}]}, \"layout\": {\"annotationdefaults\": {\"arrowcolor\": \"#2a3f5f\", \"arrowhead\": 0, \"arrowwidth\": 1}, \"colorscale\": {\"diverging\": [[0, \"#8e0152\"], [0.1, \"#c51b7d\"], [0.2, \"#de77ae\"], [0.3, \"#f1b6da\"], [0.4, \"#fde0ef\"], [0.5, \"#f7f7f7\"], [0.6, \"#e6f5d0\"], [0.7, \"#b8e186\"], [0.8, \"#7fbc41\"], [0.9, \"#4d9221\"], [1, \"#276419\"]], \"sequential\": [[0.0, \"#0d0887\"], [0.1111111111111111, \"#46039f\"], [0.2222222222222222, \"#7201a8\"], [0.3333333333333333, \"#9c179e\"], [0.4444444444444444, \"#bd3786\"], [0.5555555555555556, \"#d8576b\"], [0.6666666666666666, \"#ed7953\"], [0.7777777777777778, \"#fb9f3a\"], [0.8888888888888888, \"#fdca26\"], [1.0, \"#f0f921\"]], \"sequentialminus\": [[0.0, \"#0d0887\"], [0.1111111111111111, \"#46039f\"], [0.2222222222222222, \"#7201a8\"], [0.3333333333333333, \"#9c179e\"], [0.4444444444444444, \"#bd3786\"], [0.5555555555555556, \"#d8576b\"], [0.6666666666666666, \"#ed7953\"], [0.7777777777777778, \"#fb9f3a\"], [0.8888888888888888, \"#fdca26\"], [1.0, \"#f0f921\"]]}, \"colorway\": [\"#636efa\", \"#EF553B\", \"#00cc96\", \"#ab63fa\", \"#FFA15A\", \"#19d3f3\", \"#FF6692\", \"#B6E880\", \"#FF97FF\", \"#FECB52\"], \"font\": {\"color\": \"#2a3f5f\"}, \"geo\": {\"bgcolor\": \"white\", \"lakecolor\": \"white\", \"landcolor\": \"#E5ECF6\", \"showlakes\": true, \"showland\": true, \"subunitcolor\": \"white\"}, \"hoverlabel\": {\"align\": \"left\"}, \"hovermode\": \"closest\", \"mapbox\": {\"style\": \"light\"}, \"paper_bgcolor\": \"white\", \"plot_bgcolor\": \"#E5ECF6\", \"polar\": {\"angularaxis\": {\"gridcolor\": \"white\", \"linecolor\": \"white\", \"ticks\": \"\"}, \"bgcolor\": \"#E5ECF6\", \"radialaxis\": {\"gridcolor\": \"white\", \"linecolor\": \"white\", \"ticks\": \"\"}}, \"scene\": {\"xaxis\": {\"backgroundcolor\": \"#E5ECF6\", \"gridcolor\": \"white\", \"gridwidth\": 2, \"linecolor\": \"white\", \"showbackground\": true, \"ticks\": \"\", \"zerolinecolor\": \"white\"}, \"yaxis\": {\"backgroundcolor\": \"#E5ECF6\", \"gridcolor\": \"white\", \"gridwidth\": 2, \"linecolor\": \"white\", \"showbackground\": true, \"ticks\": \"\", \"zerolinecolor\": \"white\"}, \"zaxis\": {\"backgroundcolor\": \"#E5ECF6\", \"gridcolor\": \"white\", \"gridwidth\": 2, \"linecolor\": \"white\", \"showbackground\": true, \"ticks\": \"\", \"zerolinecolor\": \"white\"}}, \"shapedefaults\": {\"line\": {\"color\": \"#2a3f5f\"}}, \"ternary\": {\"aaxis\": {\"gridcolor\": \"white\", \"linecolor\": \"white\", \"ticks\": \"\"}, \"baxis\": {\"gridcolor\": \"white\", \"linecolor\": \"white\", \"ticks\": \"\"}, \"bgcolor\": \"#E5ECF6\", \"caxis\": {\"gridcolor\": \"white\", \"linecolor\": \"white\", \"ticks\": \"\"}}, \"title\": {\"x\": 0.05}, \"xaxis\": {\"automargin\": true, \"gridcolor\": \"white\", \"linecolor\": \"white\", \"ticks\": \"\", \"zerolinecolor\": \"white\", \"zerolinewidth\": 2}, \"yaxis\": {\"automargin\": true, \"gridcolor\": \"white\", \"linecolor\": \"white\", \"ticks\": \"\", \"zerolinecolor\": \"white\", \"zerolinewidth\": 2}}}, \"xaxis\": {\"anchor\": \"y\", \"domain\": [0.0, 0.98], \"title\": {\"text\": \"DataPesquisa\"}}, \"yaxis\": {\"anchor\": \"x\", \"domain\": [0.0, 1.0], \"title\": {\"text\": \"preco\"}}},\n",
       "                        {\"responsive\": true}\n",
       "                    ).then(function(){\n",
       "                            \n",
       "var gd = document.getElementById('827988ee-4ee1-402a-bf0f-b78ed302f323');\n",
       "var x = new MutationObserver(function (mutations, observer) {{\n",
       "        var display = window.getComputedStyle(gd).display;\n",
       "        if (!display || display === 'none') {{\n",
       "            console.log([gd, 'removed!']);\n",
       "            Plotly.purge(gd);\n",
       "            observer.disconnect();\n",
       "        }}\n",
       "}});\n",
       "\n",
       "// Listen for the removal of the full notebook cells\n",
       "var notebookContainer = gd.closest('#notebook-container');\n",
       "if (notebookContainer) {{\n",
       "    x.observe(notebookContainer, {childList: true});\n",
       "}}\n",
       "\n",
       "// Listen for the clearing of the current output cell\n",
       "var outputEl = gd.closest('.output');\n",
       "if (outputEl) {{\n",
       "    x.observe(outputEl, {childList: true});\n",
       "}}\n",
       "\n",
       "                        })\n",
       "                };\n",
       "                });\n",
       "            </script>\n",
       "        </div>"
      ]
     },
     "metadata": {},
     "output_type": "display_data"
    },
    {
     "data": {
      "application/vnd.plotly.v1+json": {
       "config": {
        "plotlyServerURL": "https://plot.ly"
       },
       "data": [
        {
         "customdata": [
          [
           "POA",
           "ATL",
           "2020-07-05",
           "2020-07-20",
           6561
          ],
          [
           "POA",
           "ATL",
           "2020-07-05",
           "2020-07-20",
           6561
          ],
          [
           "POA",
           "ATL",
           "2020-07-05",
           "2020-07-20",
           6175
          ],
          [
           "POA",
           "ATL",
           "2020-07-05",
           "2020-07-20",
           6175
          ],
          [
           "POA",
           "ATL",
           "2020-07-05",
           "2020-07-20",
           6175
          ],
          [
           "POA",
           "ATL",
           "2020-07-05",
           "2020-07-20",
           6175
          ],
          [
           "POA",
           "ATL",
           "2020-07-05",
           "2020-07-20",
           5731
          ],
          [
           "POA",
           "ATL",
           "2020-07-05",
           "2020-07-20",
           5731
          ],
          [
           "POA",
           "ATL",
           "2020-07-05",
           "2020-07-20",
           5731
          ],
          [
           "POA",
           "ATL",
           "2020-07-05",
           "2020-07-20",
           5731
          ],
          [
           "POA",
           "ATL",
           "2020-07-05",
           "2020-07-20",
           6544
          ],
          [
           "POA",
           "ATL",
           "2020-07-05",
           "2020-07-20",
           6544
          ],
          [
           "POA",
           "ATL",
           "2020-07-05",
           "2020-07-20",
           6544
          ]
         ],
         "hoverlabel": {
          "namelength": 0
         },
         "hovertemplate": "EspecificoTodos=POAATL-2020-07-05-2020-07-20<br>DataPesquisa=%{x}<br>preco=%{customdata[4]}<br>de=%{customdata[0]}<br>para=%{customdata[1]}<br>Ida=%{customdata[2]}<br>Volta=%{customdata[3]}",
         "legendgroup": "EspecificoTodos=POAATL-2020-07-05-2020-07-20",
         "line": {
          "color": "#636efa",
          "dash": "solid"
         },
         "mode": "lines",
         "name": "EspecificoTodos=POAATL-2020-07-05-2020-07-20",
         "showlegend": true,
         "type": "scatter",
         "x": [
          "16/01/2020 15",
          "16/01/2020 17",
          "17/01/2020 09",
          "17/01/2020 10",
          "17/01/2020 12",
          "17/01/2020 16",
          "20/01/2020 08",
          "20/01/2020 11",
          "20/01/2020 15",
          "20/01/2020 16",
          "21/01/2020 09",
          "21/01/2020 10",
          "21/01/2020 16"
         ],
         "xaxis": "x",
         "y": [
          6561,
          6561,
          6175,
          6175,
          6175,
          6175,
          5731,
          5731,
          5731,
          5731,
          6544,
          6544,
          6544
         ],
         "yaxis": "y"
        },
        {
         "customdata": [
          [
           "POA",
           "ATL",
           "2020-07-04",
           "2020-07-19",
           7295
          ],
          [
           "POA",
           "ATL",
           "2020-07-04",
           "2020-07-19",
           7295
          ],
          [
           "POA",
           "ATL",
           "2020-07-04",
           "2020-07-19",
           7295
          ]
         ],
         "hoverlabel": {
          "namelength": 0
         },
         "hovertemplate": "EspecificoTodos=POAATL-2020-07-04-2020-07-19<br>DataPesquisa=%{x}<br>preco=%{customdata[4]}<br>de=%{customdata[0]}<br>para=%{customdata[1]}<br>Ida=%{customdata[2]}<br>Volta=%{customdata[3]}",
         "legendgroup": "EspecificoTodos=POAATL-2020-07-04-2020-07-19",
         "line": {
          "color": "#EF553B",
          "dash": "solid"
         },
         "mode": "lines",
         "name": "EspecificoTodos=POAATL-2020-07-04-2020-07-19",
         "showlegend": true,
         "type": "scatter",
         "x": [
          "20/01/2020 11",
          "20/01/2020 15",
          "20/01/2020 16"
         ],
         "xaxis": "x",
         "y": [
          7295,
          7295,
          7295
         ],
         "yaxis": "y"
        },
        {
         "customdata": [
          [
           "POA",
           "ATL",
           "2020-07-03",
           "2020-07-20",
           5050
          ],
          [
           "POA",
           "ATL",
           "2020-07-03",
           "2020-07-20",
           5050
          ],
          [
           "POA",
           "ATL",
           "2020-07-03",
           "2020-07-20",
           4967
          ],
          [
           "POA",
           "ATL",
           "2020-07-03",
           "2020-07-20",
           4967
          ],
          [
           "POA",
           "ATL",
           "2020-07-03",
           "2020-07-20",
           5387
          ],
          [
           "POA",
           "ATL",
           "2020-07-03",
           "2020-07-20",
           5387
          ],
          [
           "POA",
           "ATL",
           "2020-07-03",
           "2020-07-20",
           5387
          ]
         ],
         "hoverlabel": {
          "namelength": 0
         },
         "hovertemplate": "EspecificoTodos=POAATL-2020-07-03-2020-07-20<br>DataPesquisa=%{x}<br>preco=%{customdata[4]}<br>de=%{customdata[0]}<br>para=%{customdata[1]}<br>Ida=%{customdata[2]}<br>Volta=%{customdata[3]}",
         "legendgroup": "EspecificoTodos=POAATL-2020-07-03-2020-07-20",
         "line": {
          "color": "#00cc96",
          "dash": "solid"
         },
         "mode": "lines",
         "name": "EspecificoTodos=POAATL-2020-07-03-2020-07-20",
         "showlegend": true,
         "type": "scatter",
         "x": [
          "21/01/2020 10",
          "21/01/2020 16",
          "22/01/2020 09",
          "22/01/2020 18",
          "23/01/2020 09",
          "23/01/2020 15",
          "23/01/2020 16"
         ],
         "xaxis": "x",
         "y": [
          5050,
          5050,
          4967,
          4967,
          5387,
          5387,
          5387
         ],
         "yaxis": "y"
        },
        {
         "customdata": [
          [
           "POA",
           "ATL",
           "2020-07-06",
           "2020-07-20",
           5006
          ],
          [
           "POA",
           "ATL",
           "2020-07-06",
           "2020-07-20",
           5006
          ]
         ],
         "hoverlabel": {
          "namelength": 0
         },
         "hovertemplate": "EspecificoTodos=POAATL-2020-07-06-2020-07-20<br>DataPesquisa=%{x}<br>preco=%{customdata[4]}<br>de=%{customdata[0]}<br>para=%{customdata[1]}<br>Ida=%{customdata[2]}<br>Volta=%{customdata[3]}",
         "legendgroup": "EspecificoTodos=POAATL-2020-07-06-2020-07-20",
         "line": {
          "color": "#ab63fa",
          "dash": "solid"
         },
         "mode": "lines",
         "name": "EspecificoTodos=POAATL-2020-07-06-2020-07-20",
         "showlegend": true,
         "type": "scatter",
         "x": [
          "23/01/2020 15",
          "23/01/2020 16"
         ],
         "xaxis": "x",
         "y": [
          5006,
          5006
         ],
         "yaxis": "y"
        }
       ],
       "layout": {
        "height": 600,
        "legend": {
         "tracegroupgap": 0
        },
        "margin": {
         "t": 60
        },
        "template": {
         "data": {
          "bar": [
           {
            "error_x": {
             "color": "#2a3f5f"
            },
            "error_y": {
             "color": "#2a3f5f"
            },
            "marker": {
             "line": {
              "color": "#E5ECF6",
              "width": 0.5
             }
            },
            "type": "bar"
           }
          ],
          "barpolar": [
           {
            "marker": {
             "line": {
              "color": "#E5ECF6",
              "width": 0.5
             }
            },
            "type": "barpolar"
           }
          ],
          "carpet": [
           {
            "aaxis": {
             "endlinecolor": "#2a3f5f",
             "gridcolor": "white",
             "linecolor": "white",
             "minorgridcolor": "white",
             "startlinecolor": "#2a3f5f"
            },
            "baxis": {
             "endlinecolor": "#2a3f5f",
             "gridcolor": "white",
             "linecolor": "white",
             "minorgridcolor": "white",
             "startlinecolor": "#2a3f5f"
            },
            "type": "carpet"
           }
          ],
          "choropleth": [
           {
            "colorbar": {
             "outlinewidth": 0,
             "ticks": ""
            },
            "type": "choropleth"
           }
          ],
          "contour": [
           {
            "colorbar": {
             "outlinewidth": 0,
             "ticks": ""
            },
            "colorscale": [
             [
              0,
              "#0d0887"
             ],
             [
              0.1111111111111111,
              "#46039f"
             ],
             [
              0.2222222222222222,
              "#7201a8"
             ],
             [
              0.3333333333333333,
              "#9c179e"
             ],
             [
              0.4444444444444444,
              "#bd3786"
             ],
             [
              0.5555555555555556,
              "#d8576b"
             ],
             [
              0.6666666666666666,
              "#ed7953"
             ],
             [
              0.7777777777777778,
              "#fb9f3a"
             ],
             [
              0.8888888888888888,
              "#fdca26"
             ],
             [
              1,
              "#f0f921"
             ]
            ],
            "type": "contour"
           }
          ],
          "contourcarpet": [
           {
            "colorbar": {
             "outlinewidth": 0,
             "ticks": ""
            },
            "type": "contourcarpet"
           }
          ],
          "heatmap": [
           {
            "colorbar": {
             "outlinewidth": 0,
             "ticks": ""
            },
            "colorscale": [
             [
              0,
              "#0d0887"
             ],
             [
              0.1111111111111111,
              "#46039f"
             ],
             [
              0.2222222222222222,
              "#7201a8"
             ],
             [
              0.3333333333333333,
              "#9c179e"
             ],
             [
              0.4444444444444444,
              "#bd3786"
             ],
             [
              0.5555555555555556,
              "#d8576b"
             ],
             [
              0.6666666666666666,
              "#ed7953"
             ],
             [
              0.7777777777777778,
              "#fb9f3a"
             ],
             [
              0.8888888888888888,
              "#fdca26"
             ],
             [
              1,
              "#f0f921"
             ]
            ],
            "type": "heatmap"
           }
          ],
          "heatmapgl": [
           {
            "colorbar": {
             "outlinewidth": 0,
             "ticks": ""
            },
            "colorscale": [
             [
              0,
              "#0d0887"
             ],
             [
              0.1111111111111111,
              "#46039f"
             ],
             [
              0.2222222222222222,
              "#7201a8"
             ],
             [
              0.3333333333333333,
              "#9c179e"
             ],
             [
              0.4444444444444444,
              "#bd3786"
             ],
             [
              0.5555555555555556,
              "#d8576b"
             ],
             [
              0.6666666666666666,
              "#ed7953"
             ],
             [
              0.7777777777777778,
              "#fb9f3a"
             ],
             [
              0.8888888888888888,
              "#fdca26"
             ],
             [
              1,
              "#f0f921"
             ]
            ],
            "type": "heatmapgl"
           }
          ],
          "histogram": [
           {
            "marker": {
             "colorbar": {
              "outlinewidth": 0,
              "ticks": ""
             }
            },
            "type": "histogram"
           }
          ],
          "histogram2d": [
           {
            "colorbar": {
             "outlinewidth": 0,
             "ticks": ""
            },
            "colorscale": [
             [
              0,
              "#0d0887"
             ],
             [
              0.1111111111111111,
              "#46039f"
             ],
             [
              0.2222222222222222,
              "#7201a8"
             ],
             [
              0.3333333333333333,
              "#9c179e"
             ],
             [
              0.4444444444444444,
              "#bd3786"
             ],
             [
              0.5555555555555556,
              "#d8576b"
             ],
             [
              0.6666666666666666,
              "#ed7953"
             ],
             [
              0.7777777777777778,
              "#fb9f3a"
             ],
             [
              0.8888888888888888,
              "#fdca26"
             ],
             [
              1,
              "#f0f921"
             ]
            ],
            "type": "histogram2d"
           }
          ],
          "histogram2dcontour": [
           {
            "colorbar": {
             "outlinewidth": 0,
             "ticks": ""
            },
            "colorscale": [
             [
              0,
              "#0d0887"
             ],
             [
              0.1111111111111111,
              "#46039f"
             ],
             [
              0.2222222222222222,
              "#7201a8"
             ],
             [
              0.3333333333333333,
              "#9c179e"
             ],
             [
              0.4444444444444444,
              "#bd3786"
             ],
             [
              0.5555555555555556,
              "#d8576b"
             ],
             [
              0.6666666666666666,
              "#ed7953"
             ],
             [
              0.7777777777777778,
              "#fb9f3a"
             ],
             [
              0.8888888888888888,
              "#fdca26"
             ],
             [
              1,
              "#f0f921"
             ]
            ],
            "type": "histogram2dcontour"
           }
          ],
          "mesh3d": [
           {
            "colorbar": {
             "outlinewidth": 0,
             "ticks": ""
            },
            "type": "mesh3d"
           }
          ],
          "parcoords": [
           {
            "line": {
             "colorbar": {
              "outlinewidth": 0,
              "ticks": ""
             }
            },
            "type": "parcoords"
           }
          ],
          "scatter": [
           {
            "marker": {
             "colorbar": {
              "outlinewidth": 0,
              "ticks": ""
             }
            },
            "type": "scatter"
           }
          ],
          "scatter3d": [
           {
            "line": {
             "colorbar": {
              "outlinewidth": 0,
              "ticks": ""
             }
            },
            "marker": {
             "colorbar": {
              "outlinewidth": 0,
              "ticks": ""
             }
            },
            "type": "scatter3d"
           }
          ],
          "scattercarpet": [
           {
            "marker": {
             "colorbar": {
              "outlinewidth": 0,
              "ticks": ""
             }
            },
            "type": "scattercarpet"
           }
          ],
          "scattergeo": [
           {
            "marker": {
             "colorbar": {
              "outlinewidth": 0,
              "ticks": ""
             }
            },
            "type": "scattergeo"
           }
          ],
          "scattergl": [
           {
            "marker": {
             "colorbar": {
              "outlinewidth": 0,
              "ticks": ""
             }
            },
            "type": "scattergl"
           }
          ],
          "scattermapbox": [
           {
            "marker": {
             "colorbar": {
              "outlinewidth": 0,
              "ticks": ""
             }
            },
            "type": "scattermapbox"
           }
          ],
          "scatterpolar": [
           {
            "marker": {
             "colorbar": {
              "outlinewidth": 0,
              "ticks": ""
             }
            },
            "type": "scatterpolar"
           }
          ],
          "scatterpolargl": [
           {
            "marker": {
             "colorbar": {
              "outlinewidth": 0,
              "ticks": ""
             }
            },
            "type": "scatterpolargl"
           }
          ],
          "scatterternary": [
           {
            "marker": {
             "colorbar": {
              "outlinewidth": 0,
              "ticks": ""
             }
            },
            "type": "scatterternary"
           }
          ],
          "surface": [
           {
            "colorbar": {
             "outlinewidth": 0,
             "ticks": ""
            },
            "colorscale": [
             [
              0,
              "#0d0887"
             ],
             [
              0.1111111111111111,
              "#46039f"
             ],
             [
              0.2222222222222222,
              "#7201a8"
             ],
             [
              0.3333333333333333,
              "#9c179e"
             ],
             [
              0.4444444444444444,
              "#bd3786"
             ],
             [
              0.5555555555555556,
              "#d8576b"
             ],
             [
              0.6666666666666666,
              "#ed7953"
             ],
             [
              0.7777777777777778,
              "#fb9f3a"
             ],
             [
              0.8888888888888888,
              "#fdca26"
             ],
             [
              1,
              "#f0f921"
             ]
            ],
            "type": "surface"
           }
          ],
          "table": [
           {
            "cells": {
             "fill": {
              "color": "#EBF0F8"
             },
             "line": {
              "color": "white"
             }
            },
            "header": {
             "fill": {
              "color": "#C8D4E3"
             },
             "line": {
              "color": "white"
             }
            },
            "type": "table"
           }
          ]
         },
         "layout": {
          "annotationdefaults": {
           "arrowcolor": "#2a3f5f",
           "arrowhead": 0,
           "arrowwidth": 1
          },
          "colorscale": {
           "diverging": [
            [
             0,
             "#8e0152"
            ],
            [
             0.1,
             "#c51b7d"
            ],
            [
             0.2,
             "#de77ae"
            ],
            [
             0.3,
             "#f1b6da"
            ],
            [
             0.4,
             "#fde0ef"
            ],
            [
             0.5,
             "#f7f7f7"
            ],
            [
             0.6,
             "#e6f5d0"
            ],
            [
             0.7,
             "#b8e186"
            ],
            [
             0.8,
             "#7fbc41"
            ],
            [
             0.9,
             "#4d9221"
            ],
            [
             1,
             "#276419"
            ]
           ],
           "sequential": [
            [
             0,
             "#0d0887"
            ],
            [
             0.1111111111111111,
             "#46039f"
            ],
            [
             0.2222222222222222,
             "#7201a8"
            ],
            [
             0.3333333333333333,
             "#9c179e"
            ],
            [
             0.4444444444444444,
             "#bd3786"
            ],
            [
             0.5555555555555556,
             "#d8576b"
            ],
            [
             0.6666666666666666,
             "#ed7953"
            ],
            [
             0.7777777777777778,
             "#fb9f3a"
            ],
            [
             0.8888888888888888,
             "#fdca26"
            ],
            [
             1,
             "#f0f921"
            ]
           ],
           "sequentialminus": [
            [
             0,
             "#0d0887"
            ],
            [
             0.1111111111111111,
             "#46039f"
            ],
            [
             0.2222222222222222,
             "#7201a8"
            ],
            [
             0.3333333333333333,
             "#9c179e"
            ],
            [
             0.4444444444444444,
             "#bd3786"
            ],
            [
             0.5555555555555556,
             "#d8576b"
            ],
            [
             0.6666666666666666,
             "#ed7953"
            ],
            [
             0.7777777777777778,
             "#fb9f3a"
            ],
            [
             0.8888888888888888,
             "#fdca26"
            ],
            [
             1,
             "#f0f921"
            ]
           ]
          },
          "colorway": [
           "#636efa",
           "#EF553B",
           "#00cc96",
           "#ab63fa",
           "#FFA15A",
           "#19d3f3",
           "#FF6692",
           "#B6E880",
           "#FF97FF",
           "#FECB52"
          ],
          "font": {
           "color": "#2a3f5f"
          },
          "geo": {
           "bgcolor": "white",
           "lakecolor": "white",
           "landcolor": "#E5ECF6",
           "showlakes": true,
           "showland": true,
           "subunitcolor": "white"
          },
          "hoverlabel": {
           "align": "left"
          },
          "hovermode": "closest",
          "mapbox": {
           "style": "light"
          },
          "paper_bgcolor": "white",
          "plot_bgcolor": "#E5ECF6",
          "polar": {
           "angularaxis": {
            "gridcolor": "white",
            "linecolor": "white",
            "ticks": ""
           },
           "bgcolor": "#E5ECF6",
           "radialaxis": {
            "gridcolor": "white",
            "linecolor": "white",
            "ticks": ""
           }
          },
          "scene": {
           "xaxis": {
            "backgroundcolor": "#E5ECF6",
            "gridcolor": "white",
            "gridwidth": 2,
            "linecolor": "white",
            "showbackground": true,
            "ticks": "",
            "zerolinecolor": "white"
           },
           "yaxis": {
            "backgroundcolor": "#E5ECF6",
            "gridcolor": "white",
            "gridwidth": 2,
            "linecolor": "white",
            "showbackground": true,
            "ticks": "",
            "zerolinecolor": "white"
           },
           "zaxis": {
            "backgroundcolor": "#E5ECF6",
            "gridcolor": "white",
            "gridwidth": 2,
            "linecolor": "white",
            "showbackground": true,
            "ticks": "",
            "zerolinecolor": "white"
           }
          },
          "shapedefaults": {
           "line": {
            "color": "#2a3f5f"
           }
          },
          "ternary": {
           "aaxis": {
            "gridcolor": "white",
            "linecolor": "white",
            "ticks": ""
           },
           "baxis": {
            "gridcolor": "white",
            "linecolor": "white",
            "ticks": ""
           },
           "bgcolor": "#E5ECF6",
           "caxis": {
            "gridcolor": "white",
            "linecolor": "white",
            "ticks": ""
           }
          },
          "title": {
           "x": 0.05
          },
          "xaxis": {
           "automargin": true,
           "gridcolor": "white",
           "linecolor": "white",
           "ticks": "",
           "zerolinecolor": "white",
           "zerolinewidth": 2
          },
          "yaxis": {
           "automargin": true,
           "gridcolor": "white",
           "linecolor": "white",
           "ticks": "",
           "zerolinecolor": "white",
           "zerolinewidth": 2
          }
         }
        },
        "xaxis": {
         "anchor": "y",
         "domain": [
          0,
          0.98
         ],
         "title": {
          "text": "DataPesquisa"
         }
        },
        "yaxis": {
         "anchor": "x",
         "domain": [
          0,
          1
         ],
         "title": {
          "text": "preco"
         }
        }
       }
      },
      "text/html": [
       "<div>\n",
       "        \n",
       "        \n",
       "            <div id=\"320beb8a-4877-4e78-bc73-8114290e6c96\" class=\"plotly-graph-div\" style=\"height:600px; width:100%;\"></div>\n",
       "            <script type=\"text/javascript\">\n",
       "                require([\"plotly\"], function(Plotly) {\n",
       "                    window.PLOTLYENV=window.PLOTLYENV || {};\n",
       "                    \n",
       "                if (document.getElementById(\"320beb8a-4877-4e78-bc73-8114290e6c96\")) {\n",
       "                    Plotly.newPlot(\n",
       "                        '320beb8a-4877-4e78-bc73-8114290e6c96',\n",
       "                        [{\"customdata\": [[\"POA\", \"ATL\", \"2020-07-05\", \"2020-07-20\", 6561], [\"POA\", \"ATL\", \"2020-07-05\", \"2020-07-20\", 6561], [\"POA\", \"ATL\", \"2020-07-05\", \"2020-07-20\", 6175], [\"POA\", \"ATL\", \"2020-07-05\", \"2020-07-20\", 6175], [\"POA\", \"ATL\", \"2020-07-05\", \"2020-07-20\", 6175], [\"POA\", \"ATL\", \"2020-07-05\", \"2020-07-20\", 6175], [\"POA\", \"ATL\", \"2020-07-05\", \"2020-07-20\", 5731], [\"POA\", \"ATL\", \"2020-07-05\", \"2020-07-20\", 5731], [\"POA\", \"ATL\", \"2020-07-05\", \"2020-07-20\", 5731], [\"POA\", \"ATL\", \"2020-07-05\", \"2020-07-20\", 5731], [\"POA\", \"ATL\", \"2020-07-05\", \"2020-07-20\", 6544], [\"POA\", \"ATL\", \"2020-07-05\", \"2020-07-20\", 6544], [\"POA\", \"ATL\", \"2020-07-05\", \"2020-07-20\", 6544]], \"hoverlabel\": {\"namelength\": 0}, \"hovertemplate\": \"EspecificoTodos=POAATL-2020-07-05-2020-07-20<br>DataPesquisa=%{x}<br>preco=%{customdata[4]}<br>de=%{customdata[0]}<br>para=%{customdata[1]}<br>Ida=%{customdata[2]}<br>Volta=%{customdata[3]}\", \"legendgroup\": \"EspecificoTodos=POAATL-2020-07-05-2020-07-20\", \"line\": {\"color\": \"#636efa\", \"dash\": \"solid\"}, \"mode\": \"lines\", \"name\": \"EspecificoTodos=POAATL-2020-07-05-2020-07-20\", \"showlegend\": true, \"type\": \"scatter\", \"x\": [\"16/01/2020 15\", \"16/01/2020 17\", \"17/01/2020 09\", \"17/01/2020 10\", \"17/01/2020 12\", \"17/01/2020 16\", \"20/01/2020 08\", \"20/01/2020 11\", \"20/01/2020 15\", \"20/01/2020 16\", \"21/01/2020 09\", \"21/01/2020 10\", \"21/01/2020 16\"], \"xaxis\": \"x\", \"y\": [6561, 6561, 6175, 6175, 6175, 6175, 5731, 5731, 5731, 5731, 6544, 6544, 6544], \"yaxis\": \"y\"}, {\"customdata\": [[\"POA\", \"ATL\", \"2020-07-04\", \"2020-07-19\", 7295], [\"POA\", \"ATL\", \"2020-07-04\", \"2020-07-19\", 7295], [\"POA\", \"ATL\", \"2020-07-04\", \"2020-07-19\", 7295]], \"hoverlabel\": {\"namelength\": 0}, \"hovertemplate\": \"EspecificoTodos=POAATL-2020-07-04-2020-07-19<br>DataPesquisa=%{x}<br>preco=%{customdata[4]}<br>de=%{customdata[0]}<br>para=%{customdata[1]}<br>Ida=%{customdata[2]}<br>Volta=%{customdata[3]}\", \"legendgroup\": \"EspecificoTodos=POAATL-2020-07-04-2020-07-19\", \"line\": {\"color\": \"#EF553B\", \"dash\": \"solid\"}, \"mode\": \"lines\", \"name\": \"EspecificoTodos=POAATL-2020-07-04-2020-07-19\", \"showlegend\": true, \"type\": \"scatter\", \"x\": [\"20/01/2020 11\", \"20/01/2020 15\", \"20/01/2020 16\"], \"xaxis\": \"x\", \"y\": [7295, 7295, 7295], \"yaxis\": \"y\"}, {\"customdata\": [[\"POA\", \"ATL\", \"2020-07-03\", \"2020-07-20\", 5050], [\"POA\", \"ATL\", \"2020-07-03\", \"2020-07-20\", 5050], [\"POA\", \"ATL\", \"2020-07-03\", \"2020-07-20\", 4967], [\"POA\", \"ATL\", \"2020-07-03\", \"2020-07-20\", 4967], [\"POA\", \"ATL\", \"2020-07-03\", \"2020-07-20\", 5387], [\"POA\", \"ATL\", \"2020-07-03\", \"2020-07-20\", 5387], [\"POA\", \"ATL\", \"2020-07-03\", \"2020-07-20\", 5387]], \"hoverlabel\": {\"namelength\": 0}, \"hovertemplate\": \"EspecificoTodos=POAATL-2020-07-03-2020-07-20<br>DataPesquisa=%{x}<br>preco=%{customdata[4]}<br>de=%{customdata[0]}<br>para=%{customdata[1]}<br>Ida=%{customdata[2]}<br>Volta=%{customdata[3]}\", \"legendgroup\": \"EspecificoTodos=POAATL-2020-07-03-2020-07-20\", \"line\": {\"color\": \"#00cc96\", \"dash\": \"solid\"}, \"mode\": \"lines\", \"name\": \"EspecificoTodos=POAATL-2020-07-03-2020-07-20\", \"showlegend\": true, \"type\": \"scatter\", \"x\": [\"21/01/2020 10\", \"21/01/2020 16\", \"22/01/2020 09\", \"22/01/2020 18\", \"23/01/2020 09\", \"23/01/2020 15\", \"23/01/2020 16\"], \"xaxis\": \"x\", \"y\": [5050, 5050, 4967, 4967, 5387, 5387, 5387], \"yaxis\": \"y\"}, {\"customdata\": [[\"POA\", \"ATL\", \"2020-07-06\", \"2020-07-20\", 5006], [\"POA\", \"ATL\", \"2020-07-06\", \"2020-07-20\", 5006]], \"hoverlabel\": {\"namelength\": 0}, \"hovertemplate\": \"EspecificoTodos=POAATL-2020-07-06-2020-07-20<br>DataPesquisa=%{x}<br>preco=%{customdata[4]}<br>de=%{customdata[0]}<br>para=%{customdata[1]}<br>Ida=%{customdata[2]}<br>Volta=%{customdata[3]}\", \"legendgroup\": \"EspecificoTodos=POAATL-2020-07-06-2020-07-20\", \"line\": {\"color\": \"#ab63fa\", \"dash\": \"solid\"}, \"mode\": \"lines\", \"name\": \"EspecificoTodos=POAATL-2020-07-06-2020-07-20\", \"showlegend\": true, \"type\": \"scatter\", \"x\": [\"23/01/2020 15\", \"23/01/2020 16\"], \"xaxis\": \"x\", \"y\": [5006, 5006], \"yaxis\": \"y\"}],\n",
       "                        {\"height\": 600, \"legend\": {\"tracegroupgap\": 0}, \"margin\": {\"t\": 60}, \"template\": {\"data\": {\"bar\": [{\"error_x\": {\"color\": \"#2a3f5f\"}, \"error_y\": {\"color\": \"#2a3f5f\"}, \"marker\": {\"line\": {\"color\": \"#E5ECF6\", \"width\": 0.5}}, \"type\": \"bar\"}], \"barpolar\": [{\"marker\": {\"line\": {\"color\": \"#E5ECF6\", \"width\": 0.5}}, \"type\": \"barpolar\"}], \"carpet\": [{\"aaxis\": {\"endlinecolor\": \"#2a3f5f\", \"gridcolor\": \"white\", \"linecolor\": \"white\", \"minorgridcolor\": \"white\", \"startlinecolor\": \"#2a3f5f\"}, \"baxis\": {\"endlinecolor\": \"#2a3f5f\", \"gridcolor\": \"white\", \"linecolor\": \"white\", \"minorgridcolor\": \"white\", \"startlinecolor\": \"#2a3f5f\"}, \"type\": \"carpet\"}], \"choropleth\": [{\"colorbar\": {\"outlinewidth\": 0, \"ticks\": \"\"}, \"type\": \"choropleth\"}], \"contour\": [{\"colorbar\": {\"outlinewidth\": 0, \"ticks\": \"\"}, \"colorscale\": [[0.0, \"#0d0887\"], [0.1111111111111111, \"#46039f\"], [0.2222222222222222, \"#7201a8\"], [0.3333333333333333, \"#9c179e\"], [0.4444444444444444, \"#bd3786\"], [0.5555555555555556, \"#d8576b\"], [0.6666666666666666, \"#ed7953\"], [0.7777777777777778, \"#fb9f3a\"], [0.8888888888888888, \"#fdca26\"], [1.0, \"#f0f921\"]], \"type\": \"contour\"}], \"contourcarpet\": [{\"colorbar\": {\"outlinewidth\": 0, \"ticks\": \"\"}, \"type\": \"contourcarpet\"}], \"heatmap\": [{\"colorbar\": {\"outlinewidth\": 0, \"ticks\": \"\"}, \"colorscale\": [[0.0, \"#0d0887\"], [0.1111111111111111, \"#46039f\"], [0.2222222222222222, \"#7201a8\"], [0.3333333333333333, \"#9c179e\"], [0.4444444444444444, \"#bd3786\"], [0.5555555555555556, \"#d8576b\"], [0.6666666666666666, \"#ed7953\"], [0.7777777777777778, \"#fb9f3a\"], [0.8888888888888888, \"#fdca26\"], [1.0, \"#f0f921\"]], \"type\": \"heatmap\"}], \"heatmapgl\": [{\"colorbar\": {\"outlinewidth\": 0, \"ticks\": \"\"}, \"colorscale\": [[0.0, \"#0d0887\"], [0.1111111111111111, \"#46039f\"], [0.2222222222222222, \"#7201a8\"], [0.3333333333333333, \"#9c179e\"], [0.4444444444444444, \"#bd3786\"], [0.5555555555555556, \"#d8576b\"], [0.6666666666666666, \"#ed7953\"], [0.7777777777777778, \"#fb9f3a\"], [0.8888888888888888, \"#fdca26\"], [1.0, \"#f0f921\"]], \"type\": \"heatmapgl\"}], \"histogram\": [{\"marker\": {\"colorbar\": {\"outlinewidth\": 0, \"ticks\": \"\"}}, \"type\": \"histogram\"}], \"histogram2d\": [{\"colorbar\": {\"outlinewidth\": 0, \"ticks\": \"\"}, \"colorscale\": [[0.0, \"#0d0887\"], [0.1111111111111111, \"#46039f\"], [0.2222222222222222, \"#7201a8\"], [0.3333333333333333, \"#9c179e\"], [0.4444444444444444, \"#bd3786\"], [0.5555555555555556, \"#d8576b\"], [0.6666666666666666, \"#ed7953\"], [0.7777777777777778, \"#fb9f3a\"], [0.8888888888888888, \"#fdca26\"], [1.0, \"#f0f921\"]], \"type\": \"histogram2d\"}], \"histogram2dcontour\": [{\"colorbar\": {\"outlinewidth\": 0, \"ticks\": \"\"}, \"colorscale\": [[0.0, \"#0d0887\"], [0.1111111111111111, \"#46039f\"], [0.2222222222222222, \"#7201a8\"], [0.3333333333333333, \"#9c179e\"], [0.4444444444444444, \"#bd3786\"], [0.5555555555555556, \"#d8576b\"], [0.6666666666666666, \"#ed7953\"], [0.7777777777777778, \"#fb9f3a\"], [0.8888888888888888, \"#fdca26\"], [1.0, \"#f0f921\"]], \"type\": \"histogram2dcontour\"}], \"mesh3d\": [{\"colorbar\": {\"outlinewidth\": 0, \"ticks\": \"\"}, \"type\": \"mesh3d\"}], \"parcoords\": [{\"line\": {\"colorbar\": {\"outlinewidth\": 0, \"ticks\": \"\"}}, \"type\": \"parcoords\"}], \"scatter\": [{\"marker\": {\"colorbar\": {\"outlinewidth\": 0, \"ticks\": \"\"}}, \"type\": \"scatter\"}], \"scatter3d\": [{\"line\": {\"colorbar\": {\"outlinewidth\": 0, \"ticks\": \"\"}}, \"marker\": {\"colorbar\": {\"outlinewidth\": 0, \"ticks\": \"\"}}, \"type\": \"scatter3d\"}], \"scattercarpet\": [{\"marker\": {\"colorbar\": {\"outlinewidth\": 0, \"ticks\": \"\"}}, \"type\": \"scattercarpet\"}], \"scattergeo\": [{\"marker\": {\"colorbar\": {\"outlinewidth\": 0, \"ticks\": \"\"}}, \"type\": \"scattergeo\"}], \"scattergl\": [{\"marker\": {\"colorbar\": {\"outlinewidth\": 0, \"ticks\": \"\"}}, \"type\": \"scattergl\"}], \"scattermapbox\": [{\"marker\": {\"colorbar\": {\"outlinewidth\": 0, \"ticks\": \"\"}}, \"type\": \"scattermapbox\"}], \"scatterpolar\": [{\"marker\": {\"colorbar\": {\"outlinewidth\": 0, \"ticks\": \"\"}}, \"type\": \"scatterpolar\"}], \"scatterpolargl\": [{\"marker\": {\"colorbar\": {\"outlinewidth\": 0, \"ticks\": \"\"}}, \"type\": \"scatterpolargl\"}], \"scatterternary\": [{\"marker\": {\"colorbar\": {\"outlinewidth\": 0, \"ticks\": \"\"}}, \"type\": \"scatterternary\"}], \"surface\": [{\"colorbar\": {\"outlinewidth\": 0, \"ticks\": \"\"}, \"colorscale\": [[0.0, \"#0d0887\"], [0.1111111111111111, \"#46039f\"], [0.2222222222222222, \"#7201a8\"], [0.3333333333333333, \"#9c179e\"], [0.4444444444444444, \"#bd3786\"], [0.5555555555555556, \"#d8576b\"], [0.6666666666666666, \"#ed7953\"], [0.7777777777777778, \"#fb9f3a\"], [0.8888888888888888, \"#fdca26\"], [1.0, \"#f0f921\"]], \"type\": \"surface\"}], \"table\": [{\"cells\": {\"fill\": {\"color\": \"#EBF0F8\"}, \"line\": {\"color\": \"white\"}}, \"header\": {\"fill\": {\"color\": \"#C8D4E3\"}, \"line\": {\"color\": \"white\"}}, \"type\": \"table\"}]}, \"layout\": {\"annotationdefaults\": {\"arrowcolor\": \"#2a3f5f\", \"arrowhead\": 0, \"arrowwidth\": 1}, \"colorscale\": {\"diverging\": [[0, \"#8e0152\"], [0.1, \"#c51b7d\"], [0.2, \"#de77ae\"], [0.3, \"#f1b6da\"], [0.4, \"#fde0ef\"], [0.5, \"#f7f7f7\"], [0.6, \"#e6f5d0\"], [0.7, \"#b8e186\"], [0.8, \"#7fbc41\"], [0.9, \"#4d9221\"], [1, \"#276419\"]], \"sequential\": [[0.0, \"#0d0887\"], [0.1111111111111111, \"#46039f\"], [0.2222222222222222, \"#7201a8\"], [0.3333333333333333, \"#9c179e\"], [0.4444444444444444, \"#bd3786\"], [0.5555555555555556, \"#d8576b\"], [0.6666666666666666, \"#ed7953\"], [0.7777777777777778, \"#fb9f3a\"], [0.8888888888888888, \"#fdca26\"], [1.0, \"#f0f921\"]], \"sequentialminus\": [[0.0, \"#0d0887\"], [0.1111111111111111, \"#46039f\"], [0.2222222222222222, \"#7201a8\"], [0.3333333333333333, \"#9c179e\"], [0.4444444444444444, \"#bd3786\"], [0.5555555555555556, \"#d8576b\"], [0.6666666666666666, \"#ed7953\"], [0.7777777777777778, \"#fb9f3a\"], [0.8888888888888888, \"#fdca26\"], [1.0, \"#f0f921\"]]}, \"colorway\": [\"#636efa\", \"#EF553B\", \"#00cc96\", \"#ab63fa\", \"#FFA15A\", \"#19d3f3\", \"#FF6692\", \"#B6E880\", \"#FF97FF\", \"#FECB52\"], \"font\": {\"color\": \"#2a3f5f\"}, \"geo\": {\"bgcolor\": \"white\", \"lakecolor\": \"white\", \"landcolor\": \"#E5ECF6\", \"showlakes\": true, \"showland\": true, \"subunitcolor\": \"white\"}, \"hoverlabel\": {\"align\": \"left\"}, \"hovermode\": \"closest\", \"mapbox\": {\"style\": \"light\"}, \"paper_bgcolor\": \"white\", \"plot_bgcolor\": \"#E5ECF6\", \"polar\": {\"angularaxis\": {\"gridcolor\": \"white\", \"linecolor\": \"white\", \"ticks\": \"\"}, \"bgcolor\": \"#E5ECF6\", \"radialaxis\": {\"gridcolor\": \"white\", \"linecolor\": \"white\", \"ticks\": \"\"}}, \"scene\": {\"xaxis\": {\"backgroundcolor\": \"#E5ECF6\", \"gridcolor\": \"white\", \"gridwidth\": 2, \"linecolor\": \"white\", \"showbackground\": true, \"ticks\": \"\", \"zerolinecolor\": \"white\"}, \"yaxis\": {\"backgroundcolor\": \"#E5ECF6\", \"gridcolor\": \"white\", \"gridwidth\": 2, \"linecolor\": \"white\", \"showbackground\": true, \"ticks\": \"\", \"zerolinecolor\": \"white\"}, \"zaxis\": {\"backgroundcolor\": \"#E5ECF6\", \"gridcolor\": \"white\", \"gridwidth\": 2, \"linecolor\": \"white\", \"showbackground\": true, \"ticks\": \"\", \"zerolinecolor\": \"white\"}}, \"shapedefaults\": {\"line\": {\"color\": \"#2a3f5f\"}}, \"ternary\": {\"aaxis\": {\"gridcolor\": \"white\", \"linecolor\": \"white\", \"ticks\": \"\"}, \"baxis\": {\"gridcolor\": \"white\", \"linecolor\": \"white\", \"ticks\": \"\"}, \"bgcolor\": \"#E5ECF6\", \"caxis\": {\"gridcolor\": \"white\", \"linecolor\": \"white\", \"ticks\": \"\"}}, \"title\": {\"x\": 0.05}, \"xaxis\": {\"automargin\": true, \"gridcolor\": \"white\", \"linecolor\": \"white\", \"ticks\": \"\", \"zerolinecolor\": \"white\", \"zerolinewidth\": 2}, \"yaxis\": {\"automargin\": true, \"gridcolor\": \"white\", \"linecolor\": \"white\", \"ticks\": \"\", \"zerolinecolor\": \"white\", \"zerolinewidth\": 2}}}, \"xaxis\": {\"anchor\": \"y\", \"domain\": [0.0, 0.98], \"title\": {\"text\": \"DataPesquisa\"}}, \"yaxis\": {\"anchor\": \"x\", \"domain\": [0.0, 1.0], \"title\": {\"text\": \"preco\"}}},\n",
       "                        {\"responsive\": true}\n",
       "                    ).then(function(){\n",
       "                            \n",
       "var gd = document.getElementById('320beb8a-4877-4e78-bc73-8114290e6c96');\n",
       "var x = new MutationObserver(function (mutations, observer) {{\n",
       "        var display = window.getComputedStyle(gd).display;\n",
       "        if (!display || display === 'none') {{\n",
       "            console.log([gd, 'removed!']);\n",
       "            Plotly.purge(gd);\n",
       "            observer.disconnect();\n",
       "        }}\n",
       "}});\n",
       "\n",
       "// Listen for the removal of the full notebook cells\n",
       "var notebookContainer = gd.closest('#notebook-container');\n",
       "if (notebookContainer) {{\n",
       "    x.observe(notebookContainer, {childList: true});\n",
       "}}\n",
       "\n",
       "// Listen for the clearing of the current output cell\n",
       "var outputEl = gd.closest('.output');\n",
       "if (outputEl) {{\n",
       "    x.observe(outputEl, {childList: true});\n",
       "}}\n",
       "\n",
       "                        })\n",
       "                };\n",
       "                });\n",
       "            </script>\n",
       "        </div>"
      ]
     },
     "metadata": {},
     "output_type": "display_data"
    },
    {
     "data": {
      "application/vnd.plotly.v1+json": {
       "config": {
        "plotlyServerURL": "https://plot.ly"
       },
       "data": [
        {
         "customdata": [
          [
           "POA",
           "MIA",
           "2020-07-03",
           "2020-07-19",
           3789
          ],
          [
           "POA",
           "MIA",
           "2020-07-03",
           "2020-07-19",
           3937
          ],
          [
           "POA",
           "MIA",
           "2020-07-03",
           "2020-07-19",
           3562
          ],
          [
           "POA",
           "MIA",
           "2020-07-03",
           "2020-07-19",
           3831
          ],
          [
           "POA",
           "MIA",
           "2020-07-03",
           "2020-07-19",
           3882
          ],
          [
           "POA",
           "MIA",
           "2020-07-03",
           "2020-07-19",
           3803
          ],
          [
           "POA",
           "MIA",
           "2020-07-03",
           "2020-07-19",
           3738
          ],
          [
           "POA",
           "MIA",
           "2020-07-03",
           "2020-07-19",
           3827
          ],
          [
           "POA",
           "MIA",
           "2020-07-03",
           "2020-07-19",
           3856
          ],
          [
           "POA",
           "MIA",
           "2020-07-03",
           "2020-07-19",
           3833
          ],
          [
           "POA",
           "MIA",
           "2020-07-03",
           "2020-07-19",
           3861
          ],
          [
           "POA",
           "MIA",
           "2020-07-03",
           "2020-07-19",
           3574
          ],
          [
           "POA",
           "MIA",
           "2020-07-03",
           "2020-07-19",
           3732
          ],
          [
           "POA",
           "MIA",
           "2020-07-03",
           "2020-07-19",
           3517
          ],
          [
           "POA",
           "MIA",
           "2020-07-03",
           "2020-07-19",
           4187
          ],
          [
           "POA",
           "MIA",
           "2020-07-03",
           "2020-07-19",
           4104
          ],
          [
           "POA",
           "MIA",
           "2020-07-03",
           "2020-07-19",
           3582
          ],
          [
           "POA",
           "MIA",
           "2020-07-03",
           "2020-07-19",
           3582
          ]
         ],
         "hoverlabel": {
          "namelength": 0
         },
         "hovertemplate": "EspecificoTodos=POAMIA-2020-07-03-2020-07-19<br>DataPesquisa=%{x}<br>preco=%{customdata[4]}<br>de=%{customdata[0]}<br>para=%{customdata[1]}<br>Ida=%{customdata[2]}<br>Volta=%{customdata[3]}",
         "legendgroup": "EspecificoTodos=POAMIA-2020-07-03-2020-07-19",
         "line": {
          "color": "#636efa",
          "dash": "solid"
         },
         "mode": "lines",
         "name": "EspecificoTodos=POAMIA-2020-07-03-2020-07-19",
         "showlegend": true,
         "type": "scatter",
         "x": [
          "16/01/2020 15",
          "16/01/2020 17",
          "17/01/2020 09",
          "17/01/2020 10",
          "17/01/2020 12",
          "17/01/2020 16",
          "20/01/2020 08",
          "20/01/2020 11",
          "20/01/2020 15",
          "20/01/2020 16",
          "21/01/2020 09",
          "21/01/2020 10",
          "21/01/2020 16",
          "22/01/2020 09",
          "22/01/2020 18",
          "23/01/2020 09",
          "23/01/2020 15",
          "23/01/2020 16"
         ],
         "xaxis": "x",
         "y": [
          3789,
          3937,
          3562,
          3831,
          3882,
          3803,
          3738,
          3827,
          3856,
          3833,
          3861,
          3574,
          3732,
          3517,
          4187,
          4104,
          3582,
          3582
         ],
         "yaxis": "y"
        },
        {
         "customdata": [
          [
           "POA",
           "MIA",
           "2020-07-03",
           "2020-07-20",
           3748
          ],
          [
           "POA",
           "MIA",
           "2020-07-03",
           "2020-07-20",
           3807
          ],
          [
           "POA",
           "MIA",
           "2020-07-03",
           "2020-07-20",
           3493
          ],
          [
           "POA",
           "MIA",
           "2020-07-03",
           "2020-07-20",
           3686
          ],
          [
           "POA",
           "MIA",
           "2020-07-03",
           "2020-07-20",
           3622
          ],
          [
           "POA",
           "MIA",
           "2020-07-03",
           "2020-07-20",
           3757
          ],
          [
           "POA",
           "MIA",
           "2020-07-03",
           "2020-07-20",
           3489
          ],
          [
           "POA",
           "MIA",
           "2020-07-03",
           "2020-07-20",
           3748
          ],
          [
           "POA",
           "MIA",
           "2020-07-03",
           "2020-07-20",
           3749
          ],
          [
           "POA",
           "MIA",
           "2020-07-03",
           "2020-07-20",
           3798
          ],
          [
           "POA",
           "MIA",
           "2020-07-03",
           "2020-07-20",
           3650
          ],
          [
           "POA",
           "MIA",
           "2020-07-03",
           "2020-07-20",
           3551
          ],
          [
           "POA",
           "MIA",
           "2020-07-03",
           "2020-07-20",
           3521
          ],
          [
           "POA",
           "MIA",
           "2020-07-03",
           "2020-07-20",
           3480
          ],
          [
           "POA",
           "MIA",
           "2020-07-03",
           "2020-07-20",
           3747
          ],
          [
           "POA",
           "MIA",
           "2020-07-03",
           "2020-07-20",
           3819
          ],
          [
           "POA",
           "MIA",
           "2020-07-03",
           "2020-07-20",
           3660
          ],
          [
           "POA",
           "MIA",
           "2020-07-03",
           "2020-07-20",
           3660
          ]
         ],
         "hoverlabel": {
          "namelength": 0
         },
         "hovertemplate": "EspecificoTodos=POAMIA-2020-07-03-2020-07-20<br>DataPesquisa=%{x}<br>preco=%{customdata[4]}<br>de=%{customdata[0]}<br>para=%{customdata[1]}<br>Ida=%{customdata[2]}<br>Volta=%{customdata[3]}",
         "legendgroup": "EspecificoTodos=POAMIA-2020-07-03-2020-07-20",
         "line": {
          "color": "#EF553B",
          "dash": "solid"
         },
         "mode": "lines",
         "name": "EspecificoTodos=POAMIA-2020-07-03-2020-07-20",
         "showlegend": true,
         "type": "scatter",
         "x": [
          "16/01/2020 15",
          "16/01/2020 17",
          "17/01/2020 09",
          "17/01/2020 10",
          "17/01/2020 12",
          "17/01/2020 16",
          "20/01/2020 08",
          "20/01/2020 11",
          "20/01/2020 15",
          "20/01/2020 16",
          "21/01/2020 09",
          "21/01/2020 10",
          "21/01/2020 16",
          "22/01/2020 09",
          "22/01/2020 18",
          "23/01/2020 09",
          "23/01/2020 15",
          "23/01/2020 16"
         ],
         "xaxis": "x",
         "y": [
          3748,
          3807,
          3493,
          3686,
          3622,
          3757,
          3489,
          3748,
          3749,
          3798,
          3650,
          3551,
          3521,
          3480,
          3747,
          3819,
          3660,
          3660
         ],
         "yaxis": "y"
        },
        {
         "customdata": [
          [
           "POA",
           "MIA",
           "2020-07-04",
           "2020-07-19",
           3823
          ],
          [
           "POA",
           "MIA",
           "2020-07-04",
           "2020-07-19",
           4017
          ],
          [
           "POA",
           "MIA",
           "2020-07-04",
           "2020-07-19",
           3736
          ],
          [
           "POA",
           "MIA",
           "2020-07-04",
           "2020-07-19",
           3846
          ],
          [
           "POA",
           "MIA",
           "2020-07-04",
           "2020-07-19",
           3994
          ],
          [
           "POA",
           "MIA",
           "2020-07-04",
           "2020-07-19",
           3880
          ],
          [
           "POA",
           "MIA",
           "2020-07-04",
           "2020-07-19",
           3782
          ],
          [
           "POA",
           "MIA",
           "2020-07-04",
           "2020-07-19",
           4127
          ],
          [
           "POA",
           "MIA",
           "2020-07-04",
           "2020-07-19",
           4127
          ],
          [
           "POA",
           "MIA",
           "2020-07-04",
           "2020-07-19",
           4127
          ],
          [
           "POA",
           "MIA",
           "2020-07-04",
           "2020-07-19",
           3871
          ],
          [
           "POA",
           "MIA",
           "2020-07-04",
           "2020-07-19",
           3858
          ],
          [
           "POA",
           "MIA",
           "2020-07-04",
           "2020-07-19",
           3981
          ],
          [
           "POA",
           "MIA",
           "2020-07-04",
           "2020-07-19",
           3916
          ],
          [
           "POA",
           "MIA",
           "2020-07-04",
           "2020-07-19",
           4022
          ],
          [
           "POA",
           "MIA",
           "2020-07-04",
           "2020-07-19",
           3932
          ],
          [
           "POA",
           "MIA",
           "2020-07-04",
           "2020-07-19",
           3670
          ],
          [
           "POA",
           "MIA",
           "2020-07-04",
           "2020-07-19",
           3670
          ]
         ],
         "hoverlabel": {
          "namelength": 0
         },
         "hovertemplate": "EspecificoTodos=POAMIA-2020-07-04-2020-07-19<br>DataPesquisa=%{x}<br>preco=%{customdata[4]}<br>de=%{customdata[0]}<br>para=%{customdata[1]}<br>Ida=%{customdata[2]}<br>Volta=%{customdata[3]}",
         "legendgroup": "EspecificoTodos=POAMIA-2020-07-04-2020-07-19",
         "line": {
          "color": "#00cc96",
          "dash": "solid"
         },
         "mode": "lines",
         "name": "EspecificoTodos=POAMIA-2020-07-04-2020-07-19",
         "showlegend": true,
         "type": "scatter",
         "x": [
          "16/01/2020 15",
          "16/01/2020 17",
          "17/01/2020 09",
          "17/01/2020 10",
          "17/01/2020 12",
          "17/01/2020 16",
          "20/01/2020 08",
          "20/01/2020 11",
          "20/01/2020 15",
          "20/01/2020 16",
          "21/01/2020 09",
          "21/01/2020 10",
          "21/01/2020 16",
          "22/01/2020 09",
          "22/01/2020 18",
          "23/01/2020 09",
          "23/01/2020 15",
          "23/01/2020 16"
         ],
         "xaxis": "x",
         "y": [
          3823,
          4017,
          3736,
          3846,
          3994,
          3880,
          3782,
          4127,
          4127,
          4127,
          3871,
          3858,
          3981,
          3916,
          4022,
          3932,
          3670,
          3670
         ],
         "yaxis": "y"
        },
        {
         "customdata": [
          [
           "POA",
           "MIA",
           "2020-07-04",
           "2020-07-20",
           3838
          ],
          [
           "POA",
           "MIA",
           "2020-07-04",
           "2020-07-20",
           3932
          ],
          [
           "POA",
           "MIA",
           "2020-07-04",
           "2020-07-20",
           3577
          ],
          [
           "POA",
           "MIA",
           "2020-07-04",
           "2020-07-20",
           3832
          ],
          [
           "POA",
           "MIA",
           "2020-07-04",
           "2020-07-20",
           3769
          ],
          [
           "POA",
           "MIA",
           "2020-07-04",
           "2020-07-20",
           3786
          ],
          [
           "POA",
           "MIA",
           "2020-07-04",
           "2020-07-20",
           3564
          ],
          [
           "POA",
           "MIA",
           "2020-07-04",
           "2020-07-20",
           3733
          ],
          [
           "POA",
           "MIA",
           "2020-07-04",
           "2020-07-20",
           3744
          ],
          [
           "POA",
           "MIA",
           "2020-07-04",
           "2020-07-20",
           3740
          ],
          [
           "POA",
           "MIA",
           "2020-07-04",
           "2020-07-20",
           3666
          ],
          [
           "POA",
           "MIA",
           "2020-07-04",
           "2020-07-20",
           3749
          ],
          [
           "POA",
           "MIA",
           "2020-07-04",
           "2020-07-20",
           3754
          ],
          [
           "POA",
           "MIA",
           "2020-07-04",
           "2020-07-20",
           3703
          ],
          [
           "POA",
           "MIA",
           "2020-07-04",
           "2020-07-20",
           3830
          ],
          [
           "POA",
           "MIA",
           "2020-07-04",
           "2020-07-20",
           3777
          ],
          [
           "POA",
           "MIA",
           "2020-07-04",
           "2020-07-20",
           3722
          ],
          [
           "POA",
           "MIA",
           "2020-07-04",
           "2020-07-20",
           3722
          ]
         ],
         "hoverlabel": {
          "namelength": 0
         },
         "hovertemplate": "EspecificoTodos=POAMIA-2020-07-04-2020-07-20<br>DataPesquisa=%{x}<br>preco=%{customdata[4]}<br>de=%{customdata[0]}<br>para=%{customdata[1]}<br>Ida=%{customdata[2]}<br>Volta=%{customdata[3]}",
         "legendgroup": "EspecificoTodos=POAMIA-2020-07-04-2020-07-20",
         "line": {
          "color": "#ab63fa",
          "dash": "solid"
         },
         "mode": "lines",
         "name": "EspecificoTodos=POAMIA-2020-07-04-2020-07-20",
         "showlegend": true,
         "type": "scatter",
         "x": [
          "16/01/2020 15",
          "16/01/2020 17",
          "17/01/2020 09",
          "17/01/2020 10",
          "17/01/2020 12",
          "17/01/2020 16",
          "20/01/2020 08",
          "20/01/2020 11",
          "20/01/2020 15",
          "20/01/2020 16",
          "21/01/2020 09",
          "21/01/2020 10",
          "21/01/2020 16",
          "22/01/2020 09",
          "22/01/2020 18",
          "23/01/2020 09",
          "23/01/2020 15",
          "23/01/2020 16"
         ],
         "xaxis": "x",
         "y": [
          3838,
          3932,
          3577,
          3832,
          3769,
          3786,
          3564,
          3733,
          3744,
          3740,
          3666,
          3749,
          3754,
          3703,
          3830,
          3777,
          3722,
          3722
         ],
         "yaxis": "y"
        },
        {
         "customdata": [
          [
           "POA",
           "MIA",
           "2020-07-04",
           "2020-07-21",
           3878
          ],
          [
           "POA",
           "MIA",
           "2020-07-04",
           "2020-07-21",
           3877
          ],
          [
           "POA",
           "MIA",
           "2020-07-04",
           "2020-07-21",
           3592
          ],
          [
           "POA",
           "MIA",
           "2020-07-04",
           "2020-07-21",
           3821
          ],
          [
           "POA",
           "MIA",
           "2020-07-04",
           "2020-07-21",
           3792
          ],
          [
           "POA",
           "MIA",
           "2020-07-04",
           "2020-07-21",
           3753
          ],
          [
           "POA",
           "MIA",
           "2020-07-04",
           "2020-07-21",
           3537
          ],
          [
           "POA",
           "MIA",
           "2020-07-04",
           "2020-07-21",
           3580
          ],
          [
           "POA",
           "MIA",
           "2020-07-04",
           "2020-07-21",
           3648
          ],
          [
           "POA",
           "MIA",
           "2020-07-04",
           "2020-07-21",
           3719
          ],
          [
           "POA",
           "MIA",
           "2020-07-04",
           "2020-07-21",
           3615
          ],
          [
           "POA",
           "MIA",
           "2020-07-04",
           "2020-07-21",
           3683
          ],
          [
           "POA",
           "MIA",
           "2020-07-04",
           "2020-07-21",
           3680
          ],
          [
           "POA",
           "MIA",
           "2020-07-04",
           "2020-07-21",
           3711
          ],
          [
           "POA",
           "MIA",
           "2020-07-04",
           "2020-07-21",
           3801
          ],
          [
           "POA",
           "MIA",
           "2020-07-04",
           "2020-07-21",
           3767
          ],
          [
           "POA",
           "MIA",
           "2020-07-04",
           "2020-07-21",
           3724
          ],
          [
           "POA",
           "MIA",
           "2020-07-04",
           "2020-07-21",
           3724
          ]
         ],
         "hoverlabel": {
          "namelength": 0
         },
         "hovertemplate": "EspecificoTodos=POAMIA-2020-07-04-2020-07-21<br>DataPesquisa=%{x}<br>preco=%{customdata[4]}<br>de=%{customdata[0]}<br>para=%{customdata[1]}<br>Ida=%{customdata[2]}<br>Volta=%{customdata[3]}",
         "legendgroup": "EspecificoTodos=POAMIA-2020-07-04-2020-07-21",
         "line": {
          "color": "#FFA15A",
          "dash": "solid"
         },
         "mode": "lines",
         "name": "EspecificoTodos=POAMIA-2020-07-04-2020-07-21",
         "showlegend": true,
         "type": "scatter",
         "x": [
          "16/01/2020 15",
          "16/01/2020 17",
          "17/01/2020 09",
          "17/01/2020 10",
          "17/01/2020 12",
          "17/01/2020 16",
          "20/01/2020 08",
          "20/01/2020 11",
          "20/01/2020 15",
          "20/01/2020 16",
          "21/01/2020 09",
          "21/01/2020 10",
          "21/01/2020 16",
          "22/01/2020 09",
          "22/01/2020 18",
          "23/01/2020 09",
          "23/01/2020 15",
          "23/01/2020 16"
         ],
         "xaxis": "x",
         "y": [
          3878,
          3877,
          3592,
          3821,
          3792,
          3753,
          3537,
          3580,
          3648,
          3719,
          3615,
          3683,
          3680,
          3711,
          3801,
          3767,
          3724,
          3724
         ],
         "yaxis": "y"
        },
        {
         "customdata": [
          [
           "POA",
           "MIA",
           "2020-07-05",
           "2020-07-19",
           3863
          ],
          [
           "POA",
           "MIA",
           "2020-07-05",
           "2020-07-19",
           3957
          ],
          [
           "POA",
           "MIA",
           "2020-07-05",
           "2020-07-19",
           3788
          ],
          [
           "POA",
           "MIA",
           "2020-07-05",
           "2020-07-19",
           4010
          ],
          [
           "POA",
           "MIA",
           "2020-07-05",
           "2020-07-19",
           4082
          ],
          [
           "POA",
           "MIA",
           "2020-07-05",
           "2020-07-19",
           3992
          ],
          [
           "POA",
           "MIA",
           "2020-07-05",
           "2020-07-19",
           3838
          ],
          [
           "POA",
           "MIA",
           "2020-07-05",
           "2020-07-19",
           3800
          ],
          [
           "POA",
           "MIA",
           "2020-07-05",
           "2020-07-19",
           3842
          ],
          [
           "POA",
           "MIA",
           "2020-07-05",
           "2020-07-19",
           3947
          ],
          [
           "POA",
           "MIA",
           "2020-07-05",
           "2020-07-19",
           3804
          ],
          [
           "POA",
           "MIA",
           "2020-07-05",
           "2020-07-19",
           3846
          ],
          [
           "POA",
           "MIA",
           "2020-07-05",
           "2020-07-19",
           3836
          ],
          [
           "POA",
           "MIA",
           "2020-07-05",
           "2020-07-19",
           3860
          ],
          [
           "POA",
           "MIA",
           "2020-07-05",
           "2020-07-19",
           4012
          ],
          [
           "POA",
           "MIA",
           "2020-07-05",
           "2020-07-19",
           3940
          ],
          [
           "POA",
           "MIA",
           "2020-07-05",
           "2020-07-19",
           3844
          ],
          [
           "POA",
           "MIA",
           "2020-07-05",
           "2020-07-19",
           3844
          ]
         ],
         "hoverlabel": {
          "namelength": 0
         },
         "hovertemplate": "EspecificoTodos=POAMIA-2020-07-05-2020-07-19<br>DataPesquisa=%{x}<br>preco=%{customdata[4]}<br>de=%{customdata[0]}<br>para=%{customdata[1]}<br>Ida=%{customdata[2]}<br>Volta=%{customdata[3]}",
         "legendgroup": "EspecificoTodos=POAMIA-2020-07-05-2020-07-19",
         "line": {
          "color": "#19d3f3",
          "dash": "solid"
         },
         "mode": "lines",
         "name": "EspecificoTodos=POAMIA-2020-07-05-2020-07-19",
         "showlegend": true,
         "type": "scatter",
         "x": [
          "16/01/2020 15",
          "16/01/2020 17",
          "17/01/2020 09",
          "17/01/2020 10",
          "17/01/2020 12",
          "17/01/2020 16",
          "20/01/2020 08",
          "20/01/2020 11",
          "20/01/2020 15",
          "20/01/2020 16",
          "21/01/2020 09",
          "21/01/2020 10",
          "21/01/2020 16",
          "22/01/2020 09",
          "22/01/2020 18",
          "23/01/2020 09",
          "23/01/2020 15",
          "23/01/2020 16"
         ],
         "xaxis": "x",
         "y": [
          3863,
          3957,
          3788,
          4010,
          4082,
          3992,
          3838,
          3800,
          3842,
          3947,
          3804,
          3846,
          3836,
          3860,
          4012,
          3940,
          3844,
          3844
         ],
         "yaxis": "y"
        },
        {
         "customdata": [
          [
           "POA",
           "MIA",
           "2020-07-05",
           "2020-07-20",
           3948
          ],
          [
           "POA",
           "MIA",
           "2020-07-05",
           "2020-07-20",
           4006
          ],
          [
           "POA",
           "MIA",
           "2020-07-05",
           "2020-07-20",
           3692
          ],
          [
           "POA",
           "MIA",
           "2020-07-05",
           "2020-07-20",
           3973
          ],
          [
           "POA",
           "MIA",
           "2020-07-05",
           "2020-07-20",
           3863
          ],
          [
           "POA",
           "MIA",
           "2020-07-05",
           "2020-07-20",
           3876
          ],
          [
           "POA",
           "MIA",
           "2020-07-05",
           "2020-07-20",
           3599
          ],
          [
           "POA",
           "MIA",
           "2020-07-05",
           "2020-07-20",
           3655
          ],
          [
           "POA",
           "MIA",
           "2020-07-05",
           "2020-07-20",
           3682
          ],
          [
           "POA",
           "MIA",
           "2020-07-05",
           "2020-07-20",
           3776
          ],
          [
           "POA",
           "MIA",
           "2020-07-05",
           "2020-07-20",
           3630
          ],
          [
           "POA",
           "MIA",
           "2020-07-05",
           "2020-07-20",
           3757
          ],
          [
           "POA",
           "MIA",
           "2020-07-05",
           "2020-07-20",
           3684
          ],
          [
           "POA",
           "MIA",
           "2020-07-05",
           "2020-07-20",
           3745
          ],
          [
           "POA",
           "MIA",
           "2020-07-05",
           "2020-07-20",
           3761
          ],
          [
           "POA",
           "MIA",
           "2020-07-05",
           "2020-07-20",
           3771
          ],
          [
           "POA",
           "MIA",
           "2020-07-05",
           "2020-07-20",
           3795
          ],
          [
           "POA",
           "MIA",
           "2020-07-05",
           "2020-07-20",
           3795
          ]
         ],
         "hoverlabel": {
          "namelength": 0
         },
         "hovertemplate": "EspecificoTodos=POAMIA-2020-07-05-2020-07-20<br>DataPesquisa=%{x}<br>preco=%{customdata[4]}<br>de=%{customdata[0]}<br>para=%{customdata[1]}<br>Ida=%{customdata[2]}<br>Volta=%{customdata[3]}",
         "legendgroup": "EspecificoTodos=POAMIA-2020-07-05-2020-07-20",
         "line": {
          "color": "#FF6692",
          "dash": "solid"
         },
         "mode": "lines",
         "name": "EspecificoTodos=POAMIA-2020-07-05-2020-07-20",
         "showlegend": true,
         "type": "scatter",
         "x": [
          "16/01/2020 15",
          "16/01/2020 17",
          "17/01/2020 09",
          "17/01/2020 10",
          "17/01/2020 12",
          "17/01/2020 16",
          "20/01/2020 08",
          "20/01/2020 11",
          "20/01/2020 15",
          "20/01/2020 16",
          "21/01/2020 09",
          "21/01/2020 10",
          "21/01/2020 16",
          "22/01/2020 09",
          "22/01/2020 18",
          "23/01/2020 09",
          "23/01/2020 15",
          "23/01/2020 16"
         ],
         "xaxis": "x",
         "y": [
          3948,
          4006,
          3692,
          3973,
          3863,
          3876,
          3599,
          3655,
          3682,
          3776,
          3630,
          3757,
          3684,
          3745,
          3761,
          3771,
          3795,
          3795
         ],
         "yaxis": "y"
        },
        {
         "customdata": [
          [
           "POA",
           "MIA",
           "2020-07-05",
           "2020-07-21",
           3918
          ],
          [
           "POA",
           "MIA",
           "2020-07-05",
           "2020-07-21",
           3972
          ],
          [
           "POA",
           "MIA",
           "2020-07-05",
           "2020-07-21",
           3700
          ],
          [
           "POA",
           "MIA",
           "2020-07-05",
           "2020-07-21",
           3954
          ],
          [
           "POA",
           "MIA",
           "2020-07-05",
           "2020-07-21",
           3867
          ],
          [
           "POA",
           "MIA",
           "2020-07-05",
           "2020-07-21",
           3851
          ],
          [
           "POA",
           "MIA",
           "2020-07-05",
           "2020-07-21",
           3518
          ],
          [
           "POA",
           "MIA",
           "2020-07-05",
           "2020-07-21",
           3548
          ],
          [
           "POA",
           "MIA",
           "2020-07-05",
           "2020-07-21",
           3593
          ],
          [
           "POA",
           "MIA",
           "2020-07-05",
           "2020-07-21",
           3692
          ],
          [
           "POA",
           "MIA",
           "2020-07-05",
           "2020-07-21",
           3598
          ],
          [
           "POA",
           "MIA",
           "2020-07-05",
           "2020-07-21",
           3642
          ],
          [
           "POA",
           "MIA",
           "2020-07-05",
           "2020-07-21",
           3601
          ],
          [
           "POA",
           "MIA",
           "2020-07-05",
           "2020-07-21",
           3704
          ],
          [
           "POA",
           "MIA",
           "2020-07-05",
           "2020-07-21",
           3702
          ],
          [
           "POA",
           "MIA",
           "2020-07-05",
           "2020-07-21",
           3771
          ],
          [
           "POA",
           "MIA",
           "2020-07-05",
           "2020-07-21",
           3766
          ],
          [
           "POA",
           "MIA",
           "2020-07-05",
           "2020-07-21",
           3766
          ]
         ],
         "hoverlabel": {
          "namelength": 0
         },
         "hovertemplate": "EspecificoTodos=POAMIA-2020-07-05-2020-07-21<br>DataPesquisa=%{x}<br>preco=%{customdata[4]}<br>de=%{customdata[0]}<br>para=%{customdata[1]}<br>Ida=%{customdata[2]}<br>Volta=%{customdata[3]}",
         "legendgroup": "EspecificoTodos=POAMIA-2020-07-05-2020-07-21",
         "line": {
          "color": "#B6E880",
          "dash": "solid"
         },
         "mode": "lines",
         "name": "EspecificoTodos=POAMIA-2020-07-05-2020-07-21",
         "showlegend": true,
         "type": "scatter",
         "x": [
          "16/01/2020 15",
          "16/01/2020 17",
          "17/01/2020 09",
          "17/01/2020 10",
          "17/01/2020 12",
          "17/01/2020 16",
          "20/01/2020 08",
          "20/01/2020 11",
          "20/01/2020 15",
          "20/01/2020 16",
          "21/01/2020 09",
          "21/01/2020 10",
          "21/01/2020 16",
          "22/01/2020 09",
          "22/01/2020 18",
          "23/01/2020 09",
          "23/01/2020 15",
          "23/01/2020 16"
         ],
         "xaxis": "x",
         "y": [
          3918,
          3972,
          3700,
          3954,
          3867,
          3851,
          3518,
          3548,
          3593,
          3692,
          3598,
          3642,
          3601,
          3704,
          3702,
          3771,
          3766,
          3766
         ],
         "yaxis": "y"
        },
        {
         "customdata": [
          [
           "POA",
           "MIA",
           "2020-07-05",
           "2020-07-22",
           3939
          ],
          [
           "POA",
           "MIA",
           "2020-07-05",
           "2020-07-22",
           3923
          ],
          [
           "POA",
           "MIA",
           "2020-07-05",
           "2020-07-22",
           3697
          ],
          [
           "POA",
           "MIA",
           "2020-07-05",
           "2020-07-22",
           3966
          ],
          [
           "POA",
           "MIA",
           "2020-07-05",
           "2020-07-22",
           3902
          ],
          [
           "POA",
           "MIA",
           "2020-07-05",
           "2020-07-22",
           3910
          ],
          [
           "POA",
           "MIA",
           "2020-07-05",
           "2020-07-22",
           3491
          ],
          [
           "POA",
           "MIA",
           "2020-07-05",
           "2020-07-22",
           3519
          ],
          [
           "POA",
           "MIA",
           "2020-07-05",
           "2020-07-22",
           3532
          ],
          [
           "POA",
           "MIA",
           "2020-07-05",
           "2020-07-22",
           3688
          ],
          [
           "POA",
           "MIA",
           "2020-07-05",
           "2020-07-22",
           3598
          ],
          [
           "POA",
           "MIA",
           "2020-07-05",
           "2020-07-22",
           3653
          ],
          [
           "POA",
           "MIA",
           "2020-07-05",
           "2020-07-22",
           3526
          ],
          [
           "POA",
           "MIA",
           "2020-07-05",
           "2020-07-22",
           3754
          ],
          [
           "POA",
           "MIA",
           "2020-07-05",
           "2020-07-22",
           3720
          ],
          [
           "POA",
           "MIA",
           "2020-07-05",
           "2020-07-22",
           3820
          ],
          [
           "POA",
           "MIA",
           "2020-07-05",
           "2020-07-22",
           3795
          ],
          [
           "POA",
           "MIA",
           "2020-07-05",
           "2020-07-22",
           3795
          ]
         ],
         "hoverlabel": {
          "namelength": 0
         },
         "hovertemplate": "EspecificoTodos=POAMIA-2020-07-05-2020-07-22<br>DataPesquisa=%{x}<br>preco=%{customdata[4]}<br>de=%{customdata[0]}<br>para=%{customdata[1]}<br>Ida=%{customdata[2]}<br>Volta=%{customdata[3]}",
         "legendgroup": "EspecificoTodos=POAMIA-2020-07-05-2020-07-22",
         "line": {
          "color": "#FF97FF",
          "dash": "solid"
         },
         "mode": "lines",
         "name": "EspecificoTodos=POAMIA-2020-07-05-2020-07-22",
         "showlegend": true,
         "type": "scatter",
         "x": [
          "16/01/2020 15",
          "16/01/2020 17",
          "17/01/2020 09",
          "17/01/2020 10",
          "17/01/2020 12",
          "17/01/2020 16",
          "20/01/2020 08",
          "20/01/2020 11",
          "20/01/2020 15",
          "20/01/2020 16",
          "21/01/2020 09",
          "21/01/2020 10",
          "21/01/2020 16",
          "22/01/2020 09",
          "22/01/2020 18",
          "23/01/2020 09",
          "23/01/2020 15",
          "23/01/2020 16"
         ],
         "xaxis": "x",
         "y": [
          3939,
          3923,
          3697,
          3966,
          3902,
          3910,
          3491,
          3519,
          3532,
          3688,
          3598,
          3653,
          3526,
          3754,
          3720,
          3820,
          3795,
          3795
         ],
         "yaxis": "y"
        },
        {
         "customdata": [
          [
           "POA",
           "MIA",
           "2020-07-06",
           "2020-07-20",
           3901
          ],
          [
           "POA",
           "MIA",
           "2020-07-06",
           "2020-07-20",
           3936
          ],
          [
           "POA",
           "MIA",
           "2020-07-06",
           "2020-07-20",
           3749
          ],
          [
           "POA",
           "MIA",
           "2020-07-06",
           "2020-07-20",
           3879
          ],
          [
           "POA",
           "MIA",
           "2020-07-06",
           "2020-07-20",
           3723
          ],
          [
           "POA",
           "MIA",
           "2020-07-06",
           "2020-07-20",
           3681
          ],
          [
           "POA",
           "MIA",
           "2020-07-06",
           "2020-07-20",
           3821
          ],
          [
           "POA",
           "MIA",
           "2020-07-06",
           "2020-07-20",
           3805
          ],
          [
           "POA",
           "MIA",
           "2020-07-06",
           "2020-07-20",
           3786
          ],
          [
           "POA",
           "MIA",
           "2020-07-06",
           "2020-07-20",
           3774
          ],
          [
           "POA",
           "MIA",
           "2020-07-06",
           "2020-07-20",
           3622
          ],
          [
           "POA",
           "MIA",
           "2020-07-06",
           "2020-07-20",
           3618
          ],
          [
           "POA",
           "MIA",
           "2020-07-06",
           "2020-07-20",
           3597
          ],
          [
           "POA",
           "MIA",
           "2020-07-06",
           "2020-07-20",
           3561
          ],
          [
           "POA",
           "MIA",
           "2020-07-06",
           "2020-07-20",
           3753
          ],
          [
           "POA",
           "MIA",
           "2020-07-06",
           "2020-07-20",
           3761
          ],
          [
           "POA",
           "MIA",
           "2020-07-06",
           "2020-07-20",
           3687
          ],
          [
           "POA",
           "MIA",
           "2020-07-06",
           "2020-07-20",
           3687
          ]
         ],
         "hoverlabel": {
          "namelength": 0
         },
         "hovertemplate": "EspecificoTodos=POAMIA-2020-07-06-2020-07-20<br>DataPesquisa=%{x}<br>preco=%{customdata[4]}<br>de=%{customdata[0]}<br>para=%{customdata[1]}<br>Ida=%{customdata[2]}<br>Volta=%{customdata[3]}",
         "legendgroup": "EspecificoTodos=POAMIA-2020-07-06-2020-07-20",
         "line": {
          "color": "#FECB52",
          "dash": "solid"
         },
         "mode": "lines",
         "name": "EspecificoTodos=POAMIA-2020-07-06-2020-07-20",
         "showlegend": true,
         "type": "scatter",
         "x": [
          "16/01/2020 15",
          "16/01/2020 17",
          "17/01/2020 09",
          "17/01/2020 10",
          "17/01/2020 12",
          "17/01/2020 16",
          "20/01/2020 08",
          "20/01/2020 11",
          "20/01/2020 15",
          "20/01/2020 16",
          "21/01/2020 09",
          "21/01/2020 10",
          "21/01/2020 16",
          "22/01/2020 09",
          "22/01/2020 18",
          "23/01/2020 09",
          "23/01/2020 15",
          "23/01/2020 16"
         ],
         "xaxis": "x",
         "y": [
          3901,
          3936,
          3749,
          3879,
          3723,
          3681,
          3821,
          3805,
          3786,
          3774,
          3622,
          3618,
          3597,
          3561,
          3753,
          3761,
          3687,
          3687
         ],
         "yaxis": "y"
        },
        {
         "customdata": [
          [
           "POA",
           "MIA",
           "2020-07-06",
           "2020-07-21",
           3836
          ],
          [
           "POA",
           "MIA",
           "2020-07-06",
           "2020-07-21",
           3838
          ],
          [
           "POA",
           "MIA",
           "2020-07-06",
           "2020-07-21",
           3651
          ],
          [
           "POA",
           "MIA",
           "2020-07-06",
           "2020-07-21",
           3803
          ],
          [
           "POA",
           "MIA",
           "2020-07-06",
           "2020-07-21",
           3647
          ],
          [
           "POA",
           "MIA",
           "2020-07-06",
           "2020-07-21",
           3548
          ],
          [
           "POA",
           "MIA",
           "2020-07-06",
           "2020-07-21",
           3795
          ],
          [
           "POA",
           "MIA",
           "2020-07-06",
           "2020-07-21",
           3804
          ],
          [
           "POA",
           "MIA",
           "2020-07-06",
           "2020-07-21",
           3794
          ],
          [
           "POA",
           "MIA",
           "2020-07-06",
           "2020-07-21",
           3741
          ],
          [
           "POA",
           "MIA",
           "2020-07-06",
           "2020-07-21",
           3584
          ],
          [
           "POA",
           "MIA",
           "2020-07-06",
           "2020-07-21",
           3496
          ],
          [
           "POA",
           "MIA",
           "2020-07-06",
           "2020-07-21",
           3527
          ],
          [
           "POA",
           "MIA",
           "2020-07-06",
           "2020-07-21",
           3522
          ],
          [
           "POA",
           "MIA",
           "2020-07-06",
           "2020-07-21",
           3884
          ],
          [
           "POA",
           "MIA",
           "2020-07-06",
           "2020-07-21",
           3681
          ],
          [
           "POA",
           "MIA",
           "2020-07-06",
           "2020-07-21",
           3733
          ],
          [
           "POA",
           "MIA",
           "2020-07-06",
           "2020-07-21",
           3733
          ]
         ],
         "hoverlabel": {
          "namelength": 0
         },
         "hovertemplate": "EspecificoTodos=POAMIA-2020-07-06-2020-07-21<br>DataPesquisa=%{x}<br>preco=%{customdata[4]}<br>de=%{customdata[0]}<br>para=%{customdata[1]}<br>Ida=%{customdata[2]}<br>Volta=%{customdata[3]}",
         "legendgroup": "EspecificoTodos=POAMIA-2020-07-06-2020-07-21",
         "line": {
          "color": "#636efa",
          "dash": "solid"
         },
         "mode": "lines",
         "name": "EspecificoTodos=POAMIA-2020-07-06-2020-07-21",
         "showlegend": true,
         "type": "scatter",
         "x": [
          "16/01/2020 15",
          "16/01/2020 17",
          "17/01/2020 09",
          "17/01/2020 10",
          "17/01/2020 12",
          "17/01/2020 16",
          "20/01/2020 08",
          "20/01/2020 11",
          "20/01/2020 15",
          "20/01/2020 16",
          "21/01/2020 09",
          "21/01/2020 10",
          "21/01/2020 16",
          "22/01/2020 09",
          "22/01/2020 18",
          "23/01/2020 09",
          "23/01/2020 15",
          "23/01/2020 16"
         ],
         "xaxis": "x",
         "y": [
          3836,
          3838,
          3651,
          3803,
          3647,
          3548,
          3795,
          3804,
          3794,
          3741,
          3584,
          3496,
          3527,
          3522,
          3884,
          3681,
          3733,
          3733
         ],
         "yaxis": "y"
        },
        {
         "customdata": [
          [
           "POA",
           "MIA",
           "2020-07-06",
           "2020-07-22",
           3825
          ],
          [
           "POA",
           "MIA",
           "2020-07-06",
           "2020-07-22",
           3826
          ],
          [
           "POA",
           "MIA",
           "2020-07-06",
           "2020-07-22",
           3751
          ],
          [
           "POA",
           "MIA",
           "2020-07-06",
           "2020-07-22",
           3723
          ],
          [
           "POA",
           "MIA",
           "2020-07-06",
           "2020-07-22",
           3615
          ],
          [
           "POA",
           "MIA",
           "2020-07-06",
           "2020-07-22",
           3617
          ],
          [
           "POA",
           "MIA",
           "2020-07-06",
           "2020-07-22",
           3815
          ],
          [
           "POA",
           "MIA",
           "2020-07-06",
           "2020-07-22",
           3786
          ],
          [
           "POA",
           "MIA",
           "2020-07-06",
           "2020-07-22",
           3782
          ],
          [
           "POA",
           "MIA",
           "2020-07-06",
           "2020-07-22",
           3728
          ],
          [
           "POA",
           "MIA",
           "2020-07-06",
           "2020-07-22",
           3654
          ],
          [
           "POA",
           "MIA",
           "2020-07-06",
           "2020-07-22",
           3520
          ],
          [
           "POA",
           "MIA",
           "2020-07-06",
           "2020-07-22",
           3560
          ],
          [
           "POA",
           "MIA",
           "2020-07-06",
           "2020-07-22",
           3529
          ],
          [
           "POA",
           "MIA",
           "2020-07-06",
           "2020-07-22",
           3693
          ],
          [
           "POA",
           "MIA",
           "2020-07-06",
           "2020-07-22",
           3785
          ],
          [
           "POA",
           "MIA",
           "2020-07-06",
           "2020-07-22",
           3744
          ],
          [
           "POA",
           "MIA",
           "2020-07-06",
           "2020-07-22",
           3744
          ]
         ],
         "hoverlabel": {
          "namelength": 0
         },
         "hovertemplate": "EspecificoTodos=POAMIA-2020-07-06-2020-07-22<br>DataPesquisa=%{x}<br>preco=%{customdata[4]}<br>de=%{customdata[0]}<br>para=%{customdata[1]}<br>Ida=%{customdata[2]}<br>Volta=%{customdata[3]}",
         "legendgroup": "EspecificoTodos=POAMIA-2020-07-06-2020-07-22",
         "line": {
          "color": "#EF553B",
          "dash": "solid"
         },
         "mode": "lines",
         "name": "EspecificoTodos=POAMIA-2020-07-06-2020-07-22",
         "showlegend": true,
         "type": "scatter",
         "x": [
          "16/01/2020 15",
          "16/01/2020 17",
          "17/01/2020 09",
          "17/01/2020 10",
          "17/01/2020 12",
          "17/01/2020 16",
          "20/01/2020 08",
          "20/01/2020 11",
          "20/01/2020 15",
          "20/01/2020 16",
          "21/01/2020 09",
          "21/01/2020 10",
          "21/01/2020 16",
          "22/01/2020 09",
          "22/01/2020 18",
          "23/01/2020 09",
          "23/01/2020 15",
          "23/01/2020 16"
         ],
         "xaxis": "x",
         "y": [
          3825,
          3826,
          3751,
          3723,
          3615,
          3617,
          3815,
          3786,
          3782,
          3728,
          3654,
          3520,
          3560,
          3529,
          3693,
          3785,
          3744,
          3744
         ],
         "yaxis": "y"
        },
        {
         "customdata": [
          [
           "POA",
           "MIA",
           "2020-07-06",
           "2020-07-23",
           3838
          ],
          [
           "POA",
           "MIA",
           "2020-07-06",
           "2020-07-23",
           3800
          ],
          [
           "POA",
           "MIA",
           "2020-07-06",
           "2020-07-23",
           3754
          ],
          [
           "POA",
           "MIA",
           "2020-07-06",
           "2020-07-23",
           3729
          ],
          [
           "POA",
           "MIA",
           "2020-07-06",
           "2020-07-23",
           3620
          ],
          [
           "POA",
           "MIA",
           "2020-07-06",
           "2020-07-23",
           3610
          ],
          [
           "POA",
           "MIA",
           "2020-07-06",
           "2020-07-23",
           3859
          ],
          [
           "POA",
           "MIA",
           "2020-07-06",
           "2020-07-23",
           3798
          ],
          [
           "POA",
           "MIA",
           "2020-07-06",
           "2020-07-23",
           3766
          ],
          [
           "POA",
           "MIA",
           "2020-07-06",
           "2020-07-23",
           3738
          ],
          [
           "POA",
           "MIA",
           "2020-07-06",
           "2020-07-23",
           3674
          ],
          [
           "POA",
           "MIA",
           "2020-07-06",
           "2020-07-23",
           3510
          ],
          [
           "POA",
           "MIA",
           "2020-07-06",
           "2020-07-23",
           3623
          ],
          [
           "POA",
           "MIA",
           "2020-07-06",
           "2020-07-23",
           3573
          ],
          [
           "POA",
           "MIA",
           "2020-07-06",
           "2020-07-23",
           3718
          ],
          [
           "POA",
           "MIA",
           "2020-07-06",
           "2020-07-23",
           3761
          ],
          [
           "POA",
           "MIA",
           "2020-07-06",
           "2020-07-23",
           3749
          ],
          [
           "POA",
           "MIA",
           "2020-07-06",
           "2020-07-23",
           3749
          ]
         ],
         "hoverlabel": {
          "namelength": 0
         },
         "hovertemplate": "EspecificoTodos=POAMIA-2020-07-06-2020-07-23<br>DataPesquisa=%{x}<br>preco=%{customdata[4]}<br>de=%{customdata[0]}<br>para=%{customdata[1]}<br>Ida=%{customdata[2]}<br>Volta=%{customdata[3]}",
         "legendgroup": "EspecificoTodos=POAMIA-2020-07-06-2020-07-23",
         "line": {
          "color": "#00cc96",
          "dash": "solid"
         },
         "mode": "lines",
         "name": "EspecificoTodos=POAMIA-2020-07-06-2020-07-23",
         "showlegend": true,
         "type": "scatter",
         "x": [
          "16/01/2020 15",
          "16/01/2020 17",
          "17/01/2020 09",
          "17/01/2020 10",
          "17/01/2020 12",
          "17/01/2020 16",
          "20/01/2020 08",
          "20/01/2020 11",
          "20/01/2020 15",
          "20/01/2020 16",
          "21/01/2020 09",
          "21/01/2020 10",
          "21/01/2020 16",
          "22/01/2020 09",
          "22/01/2020 18",
          "23/01/2020 09",
          "23/01/2020 15",
          "23/01/2020 16"
         ],
         "xaxis": "x",
         "y": [
          3838,
          3800,
          3754,
          3729,
          3620,
          3610,
          3859,
          3798,
          3766,
          3738,
          3674,
          3510,
          3623,
          3573,
          3718,
          3761,
          3749,
          3749
         ],
         "yaxis": "y"
        },
        {
         "customdata": [
          [
           "POA",
           "MIA",
           "2020-07-07",
           "2020-07-21",
           3828
          ],
          [
           "POA",
           "MIA",
           "2020-07-07",
           "2020-07-21",
           3824
          ],
          [
           "POA",
           "MIA",
           "2020-07-07",
           "2020-07-21",
           3754
          ],
          [
           "POA",
           "MIA",
           "2020-07-07",
           "2020-07-21",
           3840
          ],
          [
           "POA",
           "MIA",
           "2020-07-07",
           "2020-07-21",
           3574
          ],
          [
           "POA",
           "MIA",
           "2020-07-07",
           "2020-07-21",
           3637
          ],
          [
           "POA",
           "MIA",
           "2020-07-07",
           "2020-07-21",
           3825
          ],
          [
           "POA",
           "MIA",
           "2020-07-07",
           "2020-07-21",
           3849
          ],
          [
           "POA",
           "MIA",
           "2020-07-07",
           "2020-07-21",
           3777
          ],
          [
           "POA",
           "MIA",
           "2020-07-07",
           "2020-07-21",
           3815
          ],
          [
           "POA",
           "MIA",
           "2020-07-07",
           "2020-07-21",
           3707
          ]
         ],
         "hoverlabel": {
          "namelength": 0
         },
         "hovertemplate": "EspecificoTodos=POAMIA-2020-07-07-2020-07-21<br>DataPesquisa=%{x}<br>preco=%{customdata[4]}<br>de=%{customdata[0]}<br>para=%{customdata[1]}<br>Ida=%{customdata[2]}<br>Volta=%{customdata[3]}",
         "legendgroup": "EspecificoTodos=POAMIA-2020-07-07-2020-07-21",
         "line": {
          "color": "#ab63fa",
          "dash": "solid"
         },
         "mode": "lines",
         "name": "EspecificoTodos=POAMIA-2020-07-07-2020-07-21",
         "showlegend": true,
         "type": "scatter",
         "x": [
          "16/01/2020 15",
          "16/01/2020 17",
          "17/01/2020 09",
          "17/01/2020 10",
          "17/01/2020 12",
          "17/01/2020 16",
          "20/01/2020 08",
          "20/01/2020 11",
          "20/01/2020 15",
          "20/01/2020 16",
          "21/01/2020 09"
         ],
         "xaxis": "x",
         "y": [
          3828,
          3824,
          3754,
          3840,
          3574,
          3637,
          3825,
          3849,
          3777,
          3815,
          3707
         ],
         "yaxis": "y"
        },
        {
         "customdata": [
          [
           "POA",
           "MIA",
           "2020-07-07",
           "2020-07-22",
           3798
          ],
          [
           "POA",
           "MIA",
           "2020-07-07",
           "2020-07-22",
           3855
          ],
          [
           "POA",
           "MIA",
           "2020-07-07",
           "2020-07-22",
           3708
          ],
          [
           "POA",
           "MIA",
           "2020-07-07",
           "2020-07-22",
           3895
          ],
          [
           "POA",
           "MIA",
           "2020-07-07",
           "2020-07-22",
           3619
          ],
          [
           "POA",
           "MIA",
           "2020-07-07",
           "2020-07-22",
           3666
          ],
          [
           "POA",
           "MIA",
           "2020-07-07",
           "2020-07-22",
           3838
          ],
          [
           "POA",
           "MIA",
           "2020-07-07",
           "2020-07-22",
           3842
          ],
          [
           "POA",
           "MIA",
           "2020-07-07",
           "2020-07-22",
           3809
          ],
          [
           "POA",
           "MIA",
           "2020-07-07",
           "2020-07-22",
           3783
          ],
          [
           "POA",
           "MIA",
           "2020-07-07",
           "2020-07-22",
           3758
          ]
         ],
         "hoverlabel": {
          "namelength": 0
         },
         "hovertemplate": "EspecificoTodos=POAMIA-2020-07-07-2020-07-22<br>DataPesquisa=%{x}<br>preco=%{customdata[4]}<br>de=%{customdata[0]}<br>para=%{customdata[1]}<br>Ida=%{customdata[2]}<br>Volta=%{customdata[3]}",
         "legendgroup": "EspecificoTodos=POAMIA-2020-07-07-2020-07-22",
         "line": {
          "color": "#FFA15A",
          "dash": "solid"
         },
         "mode": "lines",
         "name": "EspecificoTodos=POAMIA-2020-07-07-2020-07-22",
         "showlegend": true,
         "type": "scatter",
         "x": [
          "16/01/2020 15",
          "16/01/2020 17",
          "17/01/2020 09",
          "17/01/2020 10",
          "17/01/2020 12",
          "17/01/2020 16",
          "20/01/2020 08",
          "20/01/2020 11",
          "20/01/2020 15",
          "20/01/2020 16",
          "21/01/2020 09"
         ],
         "xaxis": "x",
         "y": [
          3798,
          3855,
          3708,
          3895,
          3619,
          3666,
          3838,
          3842,
          3809,
          3783,
          3758
         ],
         "yaxis": "y"
        },
        {
         "customdata": [
          [
           "POA",
           "MIA",
           "2020-07-07",
           "2020-07-23",
           3812
          ],
          [
           "POA",
           "MIA",
           "2020-07-07",
           "2020-07-23",
           3777
          ],
          [
           "POA",
           "MIA",
           "2020-07-07",
           "2020-07-23",
           3736
          ],
          [
           "POA",
           "MIA",
           "2020-07-07",
           "2020-07-23",
           3770
          ],
          [
           "POA",
           "MIA",
           "2020-07-07",
           "2020-07-23",
           3560
          ],
          [
           "POA",
           "MIA",
           "2020-07-07",
           "2020-07-23",
           3648
          ],
          [
           "POA",
           "MIA",
           "2020-07-07",
           "2020-07-23",
           3847
          ],
          [
           "POA",
           "MIA",
           "2020-07-07",
           "2020-07-23",
           3867
          ],
          [
           "POA",
           "MIA",
           "2020-07-07",
           "2020-07-23",
           3807
          ],
          [
           "POA",
           "MIA",
           "2020-07-07",
           "2020-07-23",
           3777
          ],
          [
           "POA",
           "MIA",
           "2020-07-07",
           "2020-07-23",
           3814
          ]
         ],
         "hoverlabel": {
          "namelength": 0
         },
         "hovertemplate": "EspecificoTodos=POAMIA-2020-07-07-2020-07-23<br>DataPesquisa=%{x}<br>preco=%{customdata[4]}<br>de=%{customdata[0]}<br>para=%{customdata[1]}<br>Ida=%{customdata[2]}<br>Volta=%{customdata[3]}",
         "legendgroup": "EspecificoTodos=POAMIA-2020-07-07-2020-07-23",
         "line": {
          "color": "#19d3f3",
          "dash": "solid"
         },
         "mode": "lines",
         "name": "EspecificoTodos=POAMIA-2020-07-07-2020-07-23",
         "showlegend": true,
         "type": "scatter",
         "x": [
          "16/01/2020 15",
          "16/01/2020 17",
          "17/01/2020 09",
          "17/01/2020 10",
          "17/01/2020 12",
          "17/01/2020 16",
          "20/01/2020 08",
          "20/01/2020 11",
          "20/01/2020 15",
          "20/01/2020 16",
          "21/01/2020 09"
         ],
         "xaxis": "x",
         "y": [
          3812,
          3777,
          3736,
          3770,
          3560,
          3648,
          3847,
          3867,
          3807,
          3777,
          3814
         ],
         "yaxis": "y"
        }
       ],
       "layout": {
        "height": 600,
        "legend": {
         "tracegroupgap": 0
        },
        "margin": {
         "t": 60
        },
        "template": {
         "data": {
          "bar": [
           {
            "error_x": {
             "color": "#2a3f5f"
            },
            "error_y": {
             "color": "#2a3f5f"
            },
            "marker": {
             "line": {
              "color": "#E5ECF6",
              "width": 0.5
             }
            },
            "type": "bar"
           }
          ],
          "barpolar": [
           {
            "marker": {
             "line": {
              "color": "#E5ECF6",
              "width": 0.5
             }
            },
            "type": "barpolar"
           }
          ],
          "carpet": [
           {
            "aaxis": {
             "endlinecolor": "#2a3f5f",
             "gridcolor": "white",
             "linecolor": "white",
             "minorgridcolor": "white",
             "startlinecolor": "#2a3f5f"
            },
            "baxis": {
             "endlinecolor": "#2a3f5f",
             "gridcolor": "white",
             "linecolor": "white",
             "minorgridcolor": "white",
             "startlinecolor": "#2a3f5f"
            },
            "type": "carpet"
           }
          ],
          "choropleth": [
           {
            "colorbar": {
             "outlinewidth": 0,
             "ticks": ""
            },
            "type": "choropleth"
           }
          ],
          "contour": [
           {
            "colorbar": {
             "outlinewidth": 0,
             "ticks": ""
            },
            "colorscale": [
             [
              0,
              "#0d0887"
             ],
             [
              0.1111111111111111,
              "#46039f"
             ],
             [
              0.2222222222222222,
              "#7201a8"
             ],
             [
              0.3333333333333333,
              "#9c179e"
             ],
             [
              0.4444444444444444,
              "#bd3786"
             ],
             [
              0.5555555555555556,
              "#d8576b"
             ],
             [
              0.6666666666666666,
              "#ed7953"
             ],
             [
              0.7777777777777778,
              "#fb9f3a"
             ],
             [
              0.8888888888888888,
              "#fdca26"
             ],
             [
              1,
              "#f0f921"
             ]
            ],
            "type": "contour"
           }
          ],
          "contourcarpet": [
           {
            "colorbar": {
             "outlinewidth": 0,
             "ticks": ""
            },
            "type": "contourcarpet"
           }
          ],
          "heatmap": [
           {
            "colorbar": {
             "outlinewidth": 0,
             "ticks": ""
            },
            "colorscale": [
             [
              0,
              "#0d0887"
             ],
             [
              0.1111111111111111,
              "#46039f"
             ],
             [
              0.2222222222222222,
              "#7201a8"
             ],
             [
              0.3333333333333333,
              "#9c179e"
             ],
             [
              0.4444444444444444,
              "#bd3786"
             ],
             [
              0.5555555555555556,
              "#d8576b"
             ],
             [
              0.6666666666666666,
              "#ed7953"
             ],
             [
              0.7777777777777778,
              "#fb9f3a"
             ],
             [
              0.8888888888888888,
              "#fdca26"
             ],
             [
              1,
              "#f0f921"
             ]
            ],
            "type": "heatmap"
           }
          ],
          "heatmapgl": [
           {
            "colorbar": {
             "outlinewidth": 0,
             "ticks": ""
            },
            "colorscale": [
             [
              0,
              "#0d0887"
             ],
             [
              0.1111111111111111,
              "#46039f"
             ],
             [
              0.2222222222222222,
              "#7201a8"
             ],
             [
              0.3333333333333333,
              "#9c179e"
             ],
             [
              0.4444444444444444,
              "#bd3786"
             ],
             [
              0.5555555555555556,
              "#d8576b"
             ],
             [
              0.6666666666666666,
              "#ed7953"
             ],
             [
              0.7777777777777778,
              "#fb9f3a"
             ],
             [
              0.8888888888888888,
              "#fdca26"
             ],
             [
              1,
              "#f0f921"
             ]
            ],
            "type": "heatmapgl"
           }
          ],
          "histogram": [
           {
            "marker": {
             "colorbar": {
              "outlinewidth": 0,
              "ticks": ""
             }
            },
            "type": "histogram"
           }
          ],
          "histogram2d": [
           {
            "colorbar": {
             "outlinewidth": 0,
             "ticks": ""
            },
            "colorscale": [
             [
              0,
              "#0d0887"
             ],
             [
              0.1111111111111111,
              "#46039f"
             ],
             [
              0.2222222222222222,
              "#7201a8"
             ],
             [
              0.3333333333333333,
              "#9c179e"
             ],
             [
              0.4444444444444444,
              "#bd3786"
             ],
             [
              0.5555555555555556,
              "#d8576b"
             ],
             [
              0.6666666666666666,
              "#ed7953"
             ],
             [
              0.7777777777777778,
              "#fb9f3a"
             ],
             [
              0.8888888888888888,
              "#fdca26"
             ],
             [
              1,
              "#f0f921"
             ]
            ],
            "type": "histogram2d"
           }
          ],
          "histogram2dcontour": [
           {
            "colorbar": {
             "outlinewidth": 0,
             "ticks": ""
            },
            "colorscale": [
             [
              0,
              "#0d0887"
             ],
             [
              0.1111111111111111,
              "#46039f"
             ],
             [
              0.2222222222222222,
              "#7201a8"
             ],
             [
              0.3333333333333333,
              "#9c179e"
             ],
             [
              0.4444444444444444,
              "#bd3786"
             ],
             [
              0.5555555555555556,
              "#d8576b"
             ],
             [
              0.6666666666666666,
              "#ed7953"
             ],
             [
              0.7777777777777778,
              "#fb9f3a"
             ],
             [
              0.8888888888888888,
              "#fdca26"
             ],
             [
              1,
              "#f0f921"
             ]
            ],
            "type": "histogram2dcontour"
           }
          ],
          "mesh3d": [
           {
            "colorbar": {
             "outlinewidth": 0,
             "ticks": ""
            },
            "type": "mesh3d"
           }
          ],
          "parcoords": [
           {
            "line": {
             "colorbar": {
              "outlinewidth": 0,
              "ticks": ""
             }
            },
            "type": "parcoords"
           }
          ],
          "scatter": [
           {
            "marker": {
             "colorbar": {
              "outlinewidth": 0,
              "ticks": ""
             }
            },
            "type": "scatter"
           }
          ],
          "scatter3d": [
           {
            "line": {
             "colorbar": {
              "outlinewidth": 0,
              "ticks": ""
             }
            },
            "marker": {
             "colorbar": {
              "outlinewidth": 0,
              "ticks": ""
             }
            },
            "type": "scatter3d"
           }
          ],
          "scattercarpet": [
           {
            "marker": {
             "colorbar": {
              "outlinewidth": 0,
              "ticks": ""
             }
            },
            "type": "scattercarpet"
           }
          ],
          "scattergeo": [
           {
            "marker": {
             "colorbar": {
              "outlinewidth": 0,
              "ticks": ""
             }
            },
            "type": "scattergeo"
           }
          ],
          "scattergl": [
           {
            "marker": {
             "colorbar": {
              "outlinewidth": 0,
              "ticks": ""
             }
            },
            "type": "scattergl"
           }
          ],
          "scattermapbox": [
           {
            "marker": {
             "colorbar": {
              "outlinewidth": 0,
              "ticks": ""
             }
            },
            "type": "scattermapbox"
           }
          ],
          "scatterpolar": [
           {
            "marker": {
             "colorbar": {
              "outlinewidth": 0,
              "ticks": ""
             }
            },
            "type": "scatterpolar"
           }
          ],
          "scatterpolargl": [
           {
            "marker": {
             "colorbar": {
              "outlinewidth": 0,
              "ticks": ""
             }
            },
            "type": "scatterpolargl"
           }
          ],
          "scatterternary": [
           {
            "marker": {
             "colorbar": {
              "outlinewidth": 0,
              "ticks": ""
             }
            },
            "type": "scatterternary"
           }
          ],
          "surface": [
           {
            "colorbar": {
             "outlinewidth": 0,
             "ticks": ""
            },
            "colorscale": [
             [
              0,
              "#0d0887"
             ],
             [
              0.1111111111111111,
              "#46039f"
             ],
             [
              0.2222222222222222,
              "#7201a8"
             ],
             [
              0.3333333333333333,
              "#9c179e"
             ],
             [
              0.4444444444444444,
              "#bd3786"
             ],
             [
              0.5555555555555556,
              "#d8576b"
             ],
             [
              0.6666666666666666,
              "#ed7953"
             ],
             [
              0.7777777777777778,
              "#fb9f3a"
             ],
             [
              0.8888888888888888,
              "#fdca26"
             ],
             [
              1,
              "#f0f921"
             ]
            ],
            "type": "surface"
           }
          ],
          "table": [
           {
            "cells": {
             "fill": {
              "color": "#EBF0F8"
             },
             "line": {
              "color": "white"
             }
            },
            "header": {
             "fill": {
              "color": "#C8D4E3"
             },
             "line": {
              "color": "white"
             }
            },
            "type": "table"
           }
          ]
         },
         "layout": {
          "annotationdefaults": {
           "arrowcolor": "#2a3f5f",
           "arrowhead": 0,
           "arrowwidth": 1
          },
          "colorscale": {
           "diverging": [
            [
             0,
             "#8e0152"
            ],
            [
             0.1,
             "#c51b7d"
            ],
            [
             0.2,
             "#de77ae"
            ],
            [
             0.3,
             "#f1b6da"
            ],
            [
             0.4,
             "#fde0ef"
            ],
            [
             0.5,
             "#f7f7f7"
            ],
            [
             0.6,
             "#e6f5d0"
            ],
            [
             0.7,
             "#b8e186"
            ],
            [
             0.8,
             "#7fbc41"
            ],
            [
             0.9,
             "#4d9221"
            ],
            [
             1,
             "#276419"
            ]
           ],
           "sequential": [
            [
             0,
             "#0d0887"
            ],
            [
             0.1111111111111111,
             "#46039f"
            ],
            [
             0.2222222222222222,
             "#7201a8"
            ],
            [
             0.3333333333333333,
             "#9c179e"
            ],
            [
             0.4444444444444444,
             "#bd3786"
            ],
            [
             0.5555555555555556,
             "#d8576b"
            ],
            [
             0.6666666666666666,
             "#ed7953"
            ],
            [
             0.7777777777777778,
             "#fb9f3a"
            ],
            [
             0.8888888888888888,
             "#fdca26"
            ],
            [
             1,
             "#f0f921"
            ]
           ],
           "sequentialminus": [
            [
             0,
             "#0d0887"
            ],
            [
             0.1111111111111111,
             "#46039f"
            ],
            [
             0.2222222222222222,
             "#7201a8"
            ],
            [
             0.3333333333333333,
             "#9c179e"
            ],
            [
             0.4444444444444444,
             "#bd3786"
            ],
            [
             0.5555555555555556,
             "#d8576b"
            ],
            [
             0.6666666666666666,
             "#ed7953"
            ],
            [
             0.7777777777777778,
             "#fb9f3a"
            ],
            [
             0.8888888888888888,
             "#fdca26"
            ],
            [
             1,
             "#f0f921"
            ]
           ]
          },
          "colorway": [
           "#636efa",
           "#EF553B",
           "#00cc96",
           "#ab63fa",
           "#FFA15A",
           "#19d3f3",
           "#FF6692",
           "#B6E880",
           "#FF97FF",
           "#FECB52"
          ],
          "font": {
           "color": "#2a3f5f"
          },
          "geo": {
           "bgcolor": "white",
           "lakecolor": "white",
           "landcolor": "#E5ECF6",
           "showlakes": true,
           "showland": true,
           "subunitcolor": "white"
          },
          "hoverlabel": {
           "align": "left"
          },
          "hovermode": "closest",
          "mapbox": {
           "style": "light"
          },
          "paper_bgcolor": "white",
          "plot_bgcolor": "#E5ECF6",
          "polar": {
           "angularaxis": {
            "gridcolor": "white",
            "linecolor": "white",
            "ticks": ""
           },
           "bgcolor": "#E5ECF6",
           "radialaxis": {
            "gridcolor": "white",
            "linecolor": "white",
            "ticks": ""
           }
          },
          "scene": {
           "xaxis": {
            "backgroundcolor": "#E5ECF6",
            "gridcolor": "white",
            "gridwidth": 2,
            "linecolor": "white",
            "showbackground": true,
            "ticks": "",
            "zerolinecolor": "white"
           },
           "yaxis": {
            "backgroundcolor": "#E5ECF6",
            "gridcolor": "white",
            "gridwidth": 2,
            "linecolor": "white",
            "showbackground": true,
            "ticks": "",
            "zerolinecolor": "white"
           },
           "zaxis": {
            "backgroundcolor": "#E5ECF6",
            "gridcolor": "white",
            "gridwidth": 2,
            "linecolor": "white",
            "showbackground": true,
            "ticks": "",
            "zerolinecolor": "white"
           }
          },
          "shapedefaults": {
           "line": {
            "color": "#2a3f5f"
           }
          },
          "ternary": {
           "aaxis": {
            "gridcolor": "white",
            "linecolor": "white",
            "ticks": ""
           },
           "baxis": {
            "gridcolor": "white",
            "linecolor": "white",
            "ticks": ""
           },
           "bgcolor": "#E5ECF6",
           "caxis": {
            "gridcolor": "white",
            "linecolor": "white",
            "ticks": ""
           }
          },
          "title": {
           "x": 0.05
          },
          "xaxis": {
           "automargin": true,
           "gridcolor": "white",
           "linecolor": "white",
           "ticks": "",
           "zerolinecolor": "white",
           "zerolinewidth": 2
          },
          "yaxis": {
           "automargin": true,
           "gridcolor": "white",
           "linecolor": "white",
           "ticks": "",
           "zerolinecolor": "white",
           "zerolinewidth": 2
          }
         }
        },
        "xaxis": {
         "anchor": "y",
         "domain": [
          0,
          0.98
         ],
         "title": {
          "text": "DataPesquisa"
         }
        },
        "yaxis": {
         "anchor": "x",
         "domain": [
          0,
          1
         ],
         "title": {
          "text": "preco"
         }
        }
       }
      },
      "text/html": [
       "<div>\n",
       "        \n",
       "        \n",
       "            <div id=\"f9472ad2-7c75-4779-9928-a6ec5d843de3\" class=\"plotly-graph-div\" style=\"height:600px; width:100%;\"></div>\n",
       "            <script type=\"text/javascript\">\n",
       "                require([\"plotly\"], function(Plotly) {\n",
       "                    window.PLOTLYENV=window.PLOTLYENV || {};\n",
       "                    \n",
       "                if (document.getElementById(\"f9472ad2-7c75-4779-9928-a6ec5d843de3\")) {\n",
       "                    Plotly.newPlot(\n",
       "                        'f9472ad2-7c75-4779-9928-a6ec5d843de3',\n",
       "                        [{\"customdata\": [[\"POA\", \"MIA\", \"2020-07-03\", \"2020-07-19\", 3789], [\"POA\", \"MIA\", \"2020-07-03\", \"2020-07-19\", 3937], [\"POA\", \"MIA\", \"2020-07-03\", \"2020-07-19\", 3562], [\"POA\", \"MIA\", \"2020-07-03\", \"2020-07-19\", 3831], [\"POA\", \"MIA\", \"2020-07-03\", \"2020-07-19\", 3882], [\"POA\", \"MIA\", \"2020-07-03\", \"2020-07-19\", 3803], [\"POA\", \"MIA\", \"2020-07-03\", \"2020-07-19\", 3738], [\"POA\", \"MIA\", \"2020-07-03\", \"2020-07-19\", 3827], [\"POA\", \"MIA\", \"2020-07-03\", \"2020-07-19\", 3856], [\"POA\", \"MIA\", \"2020-07-03\", \"2020-07-19\", 3833], [\"POA\", \"MIA\", \"2020-07-03\", \"2020-07-19\", 3861], [\"POA\", \"MIA\", \"2020-07-03\", \"2020-07-19\", 3574], [\"POA\", \"MIA\", \"2020-07-03\", \"2020-07-19\", 3732], [\"POA\", \"MIA\", \"2020-07-03\", \"2020-07-19\", 3517], [\"POA\", \"MIA\", \"2020-07-03\", \"2020-07-19\", 4187], [\"POA\", \"MIA\", \"2020-07-03\", \"2020-07-19\", 4104], [\"POA\", \"MIA\", \"2020-07-03\", \"2020-07-19\", 3582], [\"POA\", \"MIA\", \"2020-07-03\", \"2020-07-19\", 3582]], \"hoverlabel\": {\"namelength\": 0}, \"hovertemplate\": \"EspecificoTodos=POAMIA-2020-07-03-2020-07-19<br>DataPesquisa=%{x}<br>preco=%{customdata[4]}<br>de=%{customdata[0]}<br>para=%{customdata[1]}<br>Ida=%{customdata[2]}<br>Volta=%{customdata[3]}\", \"legendgroup\": \"EspecificoTodos=POAMIA-2020-07-03-2020-07-19\", \"line\": {\"color\": \"#636efa\", \"dash\": \"solid\"}, \"mode\": \"lines\", \"name\": \"EspecificoTodos=POAMIA-2020-07-03-2020-07-19\", \"showlegend\": true, \"type\": \"scatter\", \"x\": [\"16/01/2020 15\", \"16/01/2020 17\", \"17/01/2020 09\", \"17/01/2020 10\", \"17/01/2020 12\", \"17/01/2020 16\", \"20/01/2020 08\", \"20/01/2020 11\", \"20/01/2020 15\", \"20/01/2020 16\", \"21/01/2020 09\", \"21/01/2020 10\", \"21/01/2020 16\", \"22/01/2020 09\", \"22/01/2020 18\", \"23/01/2020 09\", \"23/01/2020 15\", \"23/01/2020 16\"], \"xaxis\": \"x\", \"y\": [3789, 3937, 3562, 3831, 3882, 3803, 3738, 3827, 3856, 3833, 3861, 3574, 3732, 3517, 4187, 4104, 3582, 3582], \"yaxis\": \"y\"}, {\"customdata\": [[\"POA\", \"MIA\", \"2020-07-03\", \"2020-07-20\", 3748], [\"POA\", \"MIA\", \"2020-07-03\", \"2020-07-20\", 3807], [\"POA\", \"MIA\", \"2020-07-03\", \"2020-07-20\", 3493], [\"POA\", \"MIA\", \"2020-07-03\", \"2020-07-20\", 3686], [\"POA\", \"MIA\", \"2020-07-03\", \"2020-07-20\", 3622], [\"POA\", \"MIA\", \"2020-07-03\", \"2020-07-20\", 3757], [\"POA\", \"MIA\", \"2020-07-03\", \"2020-07-20\", 3489], [\"POA\", \"MIA\", \"2020-07-03\", \"2020-07-20\", 3748], [\"POA\", \"MIA\", \"2020-07-03\", \"2020-07-20\", 3749], [\"POA\", \"MIA\", \"2020-07-03\", \"2020-07-20\", 3798], [\"POA\", \"MIA\", \"2020-07-03\", \"2020-07-20\", 3650], [\"POA\", \"MIA\", \"2020-07-03\", \"2020-07-20\", 3551], [\"POA\", \"MIA\", \"2020-07-03\", \"2020-07-20\", 3521], [\"POA\", \"MIA\", \"2020-07-03\", \"2020-07-20\", 3480], [\"POA\", \"MIA\", \"2020-07-03\", \"2020-07-20\", 3747], [\"POA\", \"MIA\", \"2020-07-03\", \"2020-07-20\", 3819], [\"POA\", \"MIA\", \"2020-07-03\", \"2020-07-20\", 3660], [\"POA\", \"MIA\", \"2020-07-03\", \"2020-07-20\", 3660]], \"hoverlabel\": {\"namelength\": 0}, \"hovertemplate\": \"EspecificoTodos=POAMIA-2020-07-03-2020-07-20<br>DataPesquisa=%{x}<br>preco=%{customdata[4]}<br>de=%{customdata[0]}<br>para=%{customdata[1]}<br>Ida=%{customdata[2]}<br>Volta=%{customdata[3]}\", \"legendgroup\": \"EspecificoTodos=POAMIA-2020-07-03-2020-07-20\", \"line\": {\"color\": \"#EF553B\", \"dash\": \"solid\"}, \"mode\": \"lines\", \"name\": \"EspecificoTodos=POAMIA-2020-07-03-2020-07-20\", \"showlegend\": true, \"type\": \"scatter\", \"x\": [\"16/01/2020 15\", \"16/01/2020 17\", \"17/01/2020 09\", \"17/01/2020 10\", \"17/01/2020 12\", \"17/01/2020 16\", \"20/01/2020 08\", \"20/01/2020 11\", \"20/01/2020 15\", \"20/01/2020 16\", \"21/01/2020 09\", \"21/01/2020 10\", \"21/01/2020 16\", \"22/01/2020 09\", \"22/01/2020 18\", \"23/01/2020 09\", \"23/01/2020 15\", \"23/01/2020 16\"], \"xaxis\": \"x\", \"y\": [3748, 3807, 3493, 3686, 3622, 3757, 3489, 3748, 3749, 3798, 3650, 3551, 3521, 3480, 3747, 3819, 3660, 3660], \"yaxis\": \"y\"}, {\"customdata\": [[\"POA\", \"MIA\", \"2020-07-04\", \"2020-07-19\", 3823], [\"POA\", \"MIA\", \"2020-07-04\", \"2020-07-19\", 4017], [\"POA\", \"MIA\", \"2020-07-04\", \"2020-07-19\", 3736], [\"POA\", \"MIA\", \"2020-07-04\", \"2020-07-19\", 3846], [\"POA\", \"MIA\", \"2020-07-04\", \"2020-07-19\", 3994], [\"POA\", \"MIA\", \"2020-07-04\", \"2020-07-19\", 3880], [\"POA\", \"MIA\", \"2020-07-04\", \"2020-07-19\", 3782], [\"POA\", \"MIA\", \"2020-07-04\", \"2020-07-19\", 4127], [\"POA\", \"MIA\", \"2020-07-04\", \"2020-07-19\", 4127], [\"POA\", \"MIA\", \"2020-07-04\", \"2020-07-19\", 4127], [\"POA\", \"MIA\", \"2020-07-04\", \"2020-07-19\", 3871], [\"POA\", \"MIA\", \"2020-07-04\", \"2020-07-19\", 3858], [\"POA\", \"MIA\", \"2020-07-04\", \"2020-07-19\", 3981], [\"POA\", \"MIA\", \"2020-07-04\", \"2020-07-19\", 3916], [\"POA\", \"MIA\", \"2020-07-04\", \"2020-07-19\", 4022], [\"POA\", \"MIA\", \"2020-07-04\", \"2020-07-19\", 3932], [\"POA\", \"MIA\", \"2020-07-04\", \"2020-07-19\", 3670], [\"POA\", \"MIA\", \"2020-07-04\", \"2020-07-19\", 3670]], \"hoverlabel\": {\"namelength\": 0}, \"hovertemplate\": \"EspecificoTodos=POAMIA-2020-07-04-2020-07-19<br>DataPesquisa=%{x}<br>preco=%{customdata[4]}<br>de=%{customdata[0]}<br>para=%{customdata[1]}<br>Ida=%{customdata[2]}<br>Volta=%{customdata[3]}\", \"legendgroup\": \"EspecificoTodos=POAMIA-2020-07-04-2020-07-19\", \"line\": {\"color\": \"#00cc96\", \"dash\": \"solid\"}, \"mode\": \"lines\", \"name\": \"EspecificoTodos=POAMIA-2020-07-04-2020-07-19\", \"showlegend\": true, \"type\": \"scatter\", \"x\": [\"16/01/2020 15\", \"16/01/2020 17\", \"17/01/2020 09\", \"17/01/2020 10\", \"17/01/2020 12\", \"17/01/2020 16\", \"20/01/2020 08\", \"20/01/2020 11\", \"20/01/2020 15\", \"20/01/2020 16\", \"21/01/2020 09\", \"21/01/2020 10\", \"21/01/2020 16\", \"22/01/2020 09\", \"22/01/2020 18\", \"23/01/2020 09\", \"23/01/2020 15\", \"23/01/2020 16\"], \"xaxis\": \"x\", \"y\": [3823, 4017, 3736, 3846, 3994, 3880, 3782, 4127, 4127, 4127, 3871, 3858, 3981, 3916, 4022, 3932, 3670, 3670], \"yaxis\": \"y\"}, {\"customdata\": [[\"POA\", \"MIA\", \"2020-07-04\", \"2020-07-20\", 3838], [\"POA\", \"MIA\", \"2020-07-04\", \"2020-07-20\", 3932], [\"POA\", \"MIA\", \"2020-07-04\", \"2020-07-20\", 3577], [\"POA\", \"MIA\", \"2020-07-04\", \"2020-07-20\", 3832], [\"POA\", \"MIA\", \"2020-07-04\", \"2020-07-20\", 3769], [\"POA\", \"MIA\", \"2020-07-04\", \"2020-07-20\", 3786], [\"POA\", \"MIA\", \"2020-07-04\", \"2020-07-20\", 3564], [\"POA\", \"MIA\", \"2020-07-04\", \"2020-07-20\", 3733], [\"POA\", \"MIA\", \"2020-07-04\", \"2020-07-20\", 3744], [\"POA\", \"MIA\", \"2020-07-04\", \"2020-07-20\", 3740], [\"POA\", \"MIA\", \"2020-07-04\", \"2020-07-20\", 3666], [\"POA\", \"MIA\", \"2020-07-04\", \"2020-07-20\", 3749], [\"POA\", \"MIA\", \"2020-07-04\", \"2020-07-20\", 3754], [\"POA\", \"MIA\", \"2020-07-04\", \"2020-07-20\", 3703], [\"POA\", \"MIA\", \"2020-07-04\", \"2020-07-20\", 3830], [\"POA\", \"MIA\", \"2020-07-04\", \"2020-07-20\", 3777], [\"POA\", \"MIA\", \"2020-07-04\", \"2020-07-20\", 3722], [\"POA\", \"MIA\", \"2020-07-04\", \"2020-07-20\", 3722]], \"hoverlabel\": {\"namelength\": 0}, \"hovertemplate\": \"EspecificoTodos=POAMIA-2020-07-04-2020-07-20<br>DataPesquisa=%{x}<br>preco=%{customdata[4]}<br>de=%{customdata[0]}<br>para=%{customdata[1]}<br>Ida=%{customdata[2]}<br>Volta=%{customdata[3]}\", \"legendgroup\": \"EspecificoTodos=POAMIA-2020-07-04-2020-07-20\", \"line\": {\"color\": \"#ab63fa\", \"dash\": \"solid\"}, \"mode\": \"lines\", \"name\": \"EspecificoTodos=POAMIA-2020-07-04-2020-07-20\", \"showlegend\": true, \"type\": \"scatter\", \"x\": [\"16/01/2020 15\", \"16/01/2020 17\", \"17/01/2020 09\", \"17/01/2020 10\", \"17/01/2020 12\", \"17/01/2020 16\", \"20/01/2020 08\", \"20/01/2020 11\", \"20/01/2020 15\", \"20/01/2020 16\", \"21/01/2020 09\", \"21/01/2020 10\", \"21/01/2020 16\", \"22/01/2020 09\", \"22/01/2020 18\", \"23/01/2020 09\", \"23/01/2020 15\", \"23/01/2020 16\"], \"xaxis\": \"x\", \"y\": [3838, 3932, 3577, 3832, 3769, 3786, 3564, 3733, 3744, 3740, 3666, 3749, 3754, 3703, 3830, 3777, 3722, 3722], \"yaxis\": \"y\"}, {\"customdata\": [[\"POA\", \"MIA\", \"2020-07-04\", \"2020-07-21\", 3878], [\"POA\", \"MIA\", \"2020-07-04\", \"2020-07-21\", 3877], [\"POA\", \"MIA\", \"2020-07-04\", \"2020-07-21\", 3592], [\"POA\", \"MIA\", \"2020-07-04\", \"2020-07-21\", 3821], [\"POA\", \"MIA\", \"2020-07-04\", \"2020-07-21\", 3792], [\"POA\", \"MIA\", \"2020-07-04\", \"2020-07-21\", 3753], [\"POA\", \"MIA\", \"2020-07-04\", \"2020-07-21\", 3537], [\"POA\", \"MIA\", \"2020-07-04\", \"2020-07-21\", 3580], [\"POA\", \"MIA\", \"2020-07-04\", \"2020-07-21\", 3648], [\"POA\", \"MIA\", \"2020-07-04\", \"2020-07-21\", 3719], [\"POA\", \"MIA\", \"2020-07-04\", \"2020-07-21\", 3615], [\"POA\", \"MIA\", \"2020-07-04\", \"2020-07-21\", 3683], [\"POA\", \"MIA\", \"2020-07-04\", \"2020-07-21\", 3680], [\"POA\", \"MIA\", \"2020-07-04\", \"2020-07-21\", 3711], [\"POA\", \"MIA\", \"2020-07-04\", \"2020-07-21\", 3801], [\"POA\", \"MIA\", \"2020-07-04\", \"2020-07-21\", 3767], [\"POA\", \"MIA\", \"2020-07-04\", \"2020-07-21\", 3724], [\"POA\", \"MIA\", \"2020-07-04\", \"2020-07-21\", 3724]], \"hoverlabel\": {\"namelength\": 0}, \"hovertemplate\": \"EspecificoTodos=POAMIA-2020-07-04-2020-07-21<br>DataPesquisa=%{x}<br>preco=%{customdata[4]}<br>de=%{customdata[0]}<br>para=%{customdata[1]}<br>Ida=%{customdata[2]}<br>Volta=%{customdata[3]}\", \"legendgroup\": \"EspecificoTodos=POAMIA-2020-07-04-2020-07-21\", \"line\": {\"color\": \"#FFA15A\", \"dash\": \"solid\"}, \"mode\": \"lines\", \"name\": \"EspecificoTodos=POAMIA-2020-07-04-2020-07-21\", \"showlegend\": true, \"type\": \"scatter\", \"x\": [\"16/01/2020 15\", \"16/01/2020 17\", \"17/01/2020 09\", \"17/01/2020 10\", \"17/01/2020 12\", \"17/01/2020 16\", \"20/01/2020 08\", \"20/01/2020 11\", \"20/01/2020 15\", \"20/01/2020 16\", \"21/01/2020 09\", \"21/01/2020 10\", \"21/01/2020 16\", \"22/01/2020 09\", \"22/01/2020 18\", \"23/01/2020 09\", \"23/01/2020 15\", \"23/01/2020 16\"], \"xaxis\": \"x\", \"y\": [3878, 3877, 3592, 3821, 3792, 3753, 3537, 3580, 3648, 3719, 3615, 3683, 3680, 3711, 3801, 3767, 3724, 3724], \"yaxis\": \"y\"}, {\"customdata\": [[\"POA\", \"MIA\", \"2020-07-05\", \"2020-07-19\", 3863], [\"POA\", \"MIA\", \"2020-07-05\", \"2020-07-19\", 3957], [\"POA\", \"MIA\", \"2020-07-05\", \"2020-07-19\", 3788], [\"POA\", \"MIA\", \"2020-07-05\", \"2020-07-19\", 4010], [\"POA\", \"MIA\", \"2020-07-05\", \"2020-07-19\", 4082], [\"POA\", \"MIA\", \"2020-07-05\", \"2020-07-19\", 3992], [\"POA\", \"MIA\", \"2020-07-05\", \"2020-07-19\", 3838], [\"POA\", \"MIA\", \"2020-07-05\", \"2020-07-19\", 3800], [\"POA\", \"MIA\", \"2020-07-05\", \"2020-07-19\", 3842], [\"POA\", \"MIA\", \"2020-07-05\", \"2020-07-19\", 3947], [\"POA\", \"MIA\", \"2020-07-05\", \"2020-07-19\", 3804], [\"POA\", \"MIA\", \"2020-07-05\", \"2020-07-19\", 3846], [\"POA\", \"MIA\", \"2020-07-05\", \"2020-07-19\", 3836], [\"POA\", \"MIA\", \"2020-07-05\", \"2020-07-19\", 3860], [\"POA\", \"MIA\", \"2020-07-05\", \"2020-07-19\", 4012], [\"POA\", \"MIA\", \"2020-07-05\", \"2020-07-19\", 3940], [\"POA\", \"MIA\", \"2020-07-05\", \"2020-07-19\", 3844], [\"POA\", \"MIA\", \"2020-07-05\", \"2020-07-19\", 3844]], \"hoverlabel\": {\"namelength\": 0}, \"hovertemplate\": \"EspecificoTodos=POAMIA-2020-07-05-2020-07-19<br>DataPesquisa=%{x}<br>preco=%{customdata[4]}<br>de=%{customdata[0]}<br>para=%{customdata[1]}<br>Ida=%{customdata[2]}<br>Volta=%{customdata[3]}\", \"legendgroup\": \"EspecificoTodos=POAMIA-2020-07-05-2020-07-19\", \"line\": {\"color\": \"#19d3f3\", \"dash\": \"solid\"}, \"mode\": \"lines\", \"name\": \"EspecificoTodos=POAMIA-2020-07-05-2020-07-19\", \"showlegend\": true, \"type\": \"scatter\", \"x\": [\"16/01/2020 15\", \"16/01/2020 17\", \"17/01/2020 09\", \"17/01/2020 10\", \"17/01/2020 12\", \"17/01/2020 16\", \"20/01/2020 08\", \"20/01/2020 11\", \"20/01/2020 15\", \"20/01/2020 16\", \"21/01/2020 09\", \"21/01/2020 10\", \"21/01/2020 16\", \"22/01/2020 09\", \"22/01/2020 18\", \"23/01/2020 09\", \"23/01/2020 15\", \"23/01/2020 16\"], \"xaxis\": \"x\", \"y\": [3863, 3957, 3788, 4010, 4082, 3992, 3838, 3800, 3842, 3947, 3804, 3846, 3836, 3860, 4012, 3940, 3844, 3844], \"yaxis\": \"y\"}, {\"customdata\": [[\"POA\", \"MIA\", \"2020-07-05\", \"2020-07-20\", 3948], [\"POA\", \"MIA\", \"2020-07-05\", \"2020-07-20\", 4006], [\"POA\", \"MIA\", \"2020-07-05\", \"2020-07-20\", 3692], [\"POA\", \"MIA\", \"2020-07-05\", \"2020-07-20\", 3973], [\"POA\", \"MIA\", \"2020-07-05\", \"2020-07-20\", 3863], [\"POA\", \"MIA\", \"2020-07-05\", \"2020-07-20\", 3876], [\"POA\", \"MIA\", \"2020-07-05\", \"2020-07-20\", 3599], [\"POA\", \"MIA\", \"2020-07-05\", \"2020-07-20\", 3655], [\"POA\", \"MIA\", \"2020-07-05\", \"2020-07-20\", 3682], [\"POA\", \"MIA\", \"2020-07-05\", \"2020-07-20\", 3776], [\"POA\", \"MIA\", \"2020-07-05\", \"2020-07-20\", 3630], [\"POA\", \"MIA\", \"2020-07-05\", \"2020-07-20\", 3757], [\"POA\", \"MIA\", \"2020-07-05\", \"2020-07-20\", 3684], [\"POA\", \"MIA\", \"2020-07-05\", \"2020-07-20\", 3745], [\"POA\", \"MIA\", \"2020-07-05\", \"2020-07-20\", 3761], [\"POA\", \"MIA\", \"2020-07-05\", \"2020-07-20\", 3771], [\"POA\", \"MIA\", \"2020-07-05\", \"2020-07-20\", 3795], [\"POA\", \"MIA\", \"2020-07-05\", \"2020-07-20\", 3795]], \"hoverlabel\": {\"namelength\": 0}, \"hovertemplate\": \"EspecificoTodos=POAMIA-2020-07-05-2020-07-20<br>DataPesquisa=%{x}<br>preco=%{customdata[4]}<br>de=%{customdata[0]}<br>para=%{customdata[1]}<br>Ida=%{customdata[2]}<br>Volta=%{customdata[3]}\", \"legendgroup\": \"EspecificoTodos=POAMIA-2020-07-05-2020-07-20\", \"line\": {\"color\": \"#FF6692\", \"dash\": \"solid\"}, \"mode\": \"lines\", \"name\": \"EspecificoTodos=POAMIA-2020-07-05-2020-07-20\", \"showlegend\": true, \"type\": \"scatter\", \"x\": [\"16/01/2020 15\", \"16/01/2020 17\", \"17/01/2020 09\", \"17/01/2020 10\", \"17/01/2020 12\", \"17/01/2020 16\", \"20/01/2020 08\", \"20/01/2020 11\", \"20/01/2020 15\", \"20/01/2020 16\", \"21/01/2020 09\", \"21/01/2020 10\", \"21/01/2020 16\", \"22/01/2020 09\", \"22/01/2020 18\", \"23/01/2020 09\", \"23/01/2020 15\", \"23/01/2020 16\"], \"xaxis\": \"x\", \"y\": [3948, 4006, 3692, 3973, 3863, 3876, 3599, 3655, 3682, 3776, 3630, 3757, 3684, 3745, 3761, 3771, 3795, 3795], \"yaxis\": \"y\"}, {\"customdata\": [[\"POA\", \"MIA\", \"2020-07-05\", \"2020-07-21\", 3918], [\"POA\", \"MIA\", \"2020-07-05\", \"2020-07-21\", 3972], [\"POA\", \"MIA\", \"2020-07-05\", \"2020-07-21\", 3700], [\"POA\", \"MIA\", \"2020-07-05\", \"2020-07-21\", 3954], [\"POA\", \"MIA\", \"2020-07-05\", \"2020-07-21\", 3867], [\"POA\", \"MIA\", \"2020-07-05\", \"2020-07-21\", 3851], [\"POA\", \"MIA\", \"2020-07-05\", \"2020-07-21\", 3518], [\"POA\", \"MIA\", \"2020-07-05\", \"2020-07-21\", 3548], [\"POA\", \"MIA\", \"2020-07-05\", \"2020-07-21\", 3593], [\"POA\", \"MIA\", \"2020-07-05\", \"2020-07-21\", 3692], [\"POA\", \"MIA\", \"2020-07-05\", \"2020-07-21\", 3598], [\"POA\", \"MIA\", \"2020-07-05\", \"2020-07-21\", 3642], [\"POA\", \"MIA\", \"2020-07-05\", \"2020-07-21\", 3601], [\"POA\", \"MIA\", \"2020-07-05\", \"2020-07-21\", 3704], [\"POA\", \"MIA\", \"2020-07-05\", \"2020-07-21\", 3702], [\"POA\", \"MIA\", \"2020-07-05\", \"2020-07-21\", 3771], [\"POA\", \"MIA\", \"2020-07-05\", \"2020-07-21\", 3766], [\"POA\", \"MIA\", \"2020-07-05\", \"2020-07-21\", 3766]], \"hoverlabel\": {\"namelength\": 0}, \"hovertemplate\": \"EspecificoTodos=POAMIA-2020-07-05-2020-07-21<br>DataPesquisa=%{x}<br>preco=%{customdata[4]}<br>de=%{customdata[0]}<br>para=%{customdata[1]}<br>Ida=%{customdata[2]}<br>Volta=%{customdata[3]}\", \"legendgroup\": \"EspecificoTodos=POAMIA-2020-07-05-2020-07-21\", \"line\": {\"color\": \"#B6E880\", \"dash\": \"solid\"}, \"mode\": \"lines\", \"name\": \"EspecificoTodos=POAMIA-2020-07-05-2020-07-21\", \"showlegend\": true, \"type\": \"scatter\", \"x\": [\"16/01/2020 15\", \"16/01/2020 17\", \"17/01/2020 09\", \"17/01/2020 10\", \"17/01/2020 12\", \"17/01/2020 16\", \"20/01/2020 08\", \"20/01/2020 11\", \"20/01/2020 15\", \"20/01/2020 16\", \"21/01/2020 09\", \"21/01/2020 10\", \"21/01/2020 16\", \"22/01/2020 09\", \"22/01/2020 18\", \"23/01/2020 09\", \"23/01/2020 15\", \"23/01/2020 16\"], \"xaxis\": \"x\", \"y\": [3918, 3972, 3700, 3954, 3867, 3851, 3518, 3548, 3593, 3692, 3598, 3642, 3601, 3704, 3702, 3771, 3766, 3766], \"yaxis\": \"y\"}, {\"customdata\": [[\"POA\", \"MIA\", \"2020-07-05\", \"2020-07-22\", 3939], [\"POA\", \"MIA\", \"2020-07-05\", \"2020-07-22\", 3923], [\"POA\", \"MIA\", \"2020-07-05\", \"2020-07-22\", 3697], [\"POA\", \"MIA\", \"2020-07-05\", \"2020-07-22\", 3966], [\"POA\", \"MIA\", \"2020-07-05\", \"2020-07-22\", 3902], [\"POA\", \"MIA\", \"2020-07-05\", \"2020-07-22\", 3910], [\"POA\", \"MIA\", \"2020-07-05\", \"2020-07-22\", 3491], [\"POA\", \"MIA\", \"2020-07-05\", \"2020-07-22\", 3519], [\"POA\", \"MIA\", \"2020-07-05\", \"2020-07-22\", 3532], [\"POA\", \"MIA\", \"2020-07-05\", \"2020-07-22\", 3688], [\"POA\", \"MIA\", \"2020-07-05\", \"2020-07-22\", 3598], [\"POA\", \"MIA\", \"2020-07-05\", \"2020-07-22\", 3653], [\"POA\", \"MIA\", \"2020-07-05\", \"2020-07-22\", 3526], [\"POA\", \"MIA\", \"2020-07-05\", \"2020-07-22\", 3754], [\"POA\", \"MIA\", \"2020-07-05\", \"2020-07-22\", 3720], [\"POA\", \"MIA\", \"2020-07-05\", \"2020-07-22\", 3820], [\"POA\", \"MIA\", \"2020-07-05\", \"2020-07-22\", 3795], [\"POA\", \"MIA\", \"2020-07-05\", \"2020-07-22\", 3795]], \"hoverlabel\": {\"namelength\": 0}, \"hovertemplate\": \"EspecificoTodos=POAMIA-2020-07-05-2020-07-22<br>DataPesquisa=%{x}<br>preco=%{customdata[4]}<br>de=%{customdata[0]}<br>para=%{customdata[1]}<br>Ida=%{customdata[2]}<br>Volta=%{customdata[3]}\", \"legendgroup\": \"EspecificoTodos=POAMIA-2020-07-05-2020-07-22\", \"line\": {\"color\": \"#FF97FF\", \"dash\": \"solid\"}, \"mode\": \"lines\", \"name\": \"EspecificoTodos=POAMIA-2020-07-05-2020-07-22\", \"showlegend\": true, \"type\": \"scatter\", \"x\": [\"16/01/2020 15\", \"16/01/2020 17\", \"17/01/2020 09\", \"17/01/2020 10\", \"17/01/2020 12\", \"17/01/2020 16\", \"20/01/2020 08\", \"20/01/2020 11\", \"20/01/2020 15\", \"20/01/2020 16\", \"21/01/2020 09\", \"21/01/2020 10\", \"21/01/2020 16\", \"22/01/2020 09\", \"22/01/2020 18\", \"23/01/2020 09\", \"23/01/2020 15\", \"23/01/2020 16\"], \"xaxis\": \"x\", \"y\": [3939, 3923, 3697, 3966, 3902, 3910, 3491, 3519, 3532, 3688, 3598, 3653, 3526, 3754, 3720, 3820, 3795, 3795], \"yaxis\": \"y\"}, {\"customdata\": [[\"POA\", \"MIA\", \"2020-07-06\", \"2020-07-20\", 3901], [\"POA\", \"MIA\", \"2020-07-06\", \"2020-07-20\", 3936], [\"POA\", \"MIA\", \"2020-07-06\", \"2020-07-20\", 3749], [\"POA\", \"MIA\", \"2020-07-06\", \"2020-07-20\", 3879], [\"POA\", \"MIA\", \"2020-07-06\", \"2020-07-20\", 3723], [\"POA\", \"MIA\", \"2020-07-06\", \"2020-07-20\", 3681], [\"POA\", \"MIA\", \"2020-07-06\", \"2020-07-20\", 3821], [\"POA\", \"MIA\", \"2020-07-06\", \"2020-07-20\", 3805], [\"POA\", \"MIA\", \"2020-07-06\", \"2020-07-20\", 3786], [\"POA\", \"MIA\", \"2020-07-06\", \"2020-07-20\", 3774], [\"POA\", \"MIA\", \"2020-07-06\", \"2020-07-20\", 3622], [\"POA\", \"MIA\", \"2020-07-06\", \"2020-07-20\", 3618], [\"POA\", \"MIA\", \"2020-07-06\", \"2020-07-20\", 3597], [\"POA\", \"MIA\", \"2020-07-06\", \"2020-07-20\", 3561], [\"POA\", \"MIA\", \"2020-07-06\", \"2020-07-20\", 3753], [\"POA\", \"MIA\", \"2020-07-06\", \"2020-07-20\", 3761], [\"POA\", \"MIA\", \"2020-07-06\", \"2020-07-20\", 3687], [\"POA\", \"MIA\", \"2020-07-06\", \"2020-07-20\", 3687]], \"hoverlabel\": {\"namelength\": 0}, \"hovertemplate\": \"EspecificoTodos=POAMIA-2020-07-06-2020-07-20<br>DataPesquisa=%{x}<br>preco=%{customdata[4]}<br>de=%{customdata[0]}<br>para=%{customdata[1]}<br>Ida=%{customdata[2]}<br>Volta=%{customdata[3]}\", \"legendgroup\": \"EspecificoTodos=POAMIA-2020-07-06-2020-07-20\", \"line\": {\"color\": \"#FECB52\", \"dash\": \"solid\"}, \"mode\": \"lines\", \"name\": \"EspecificoTodos=POAMIA-2020-07-06-2020-07-20\", \"showlegend\": true, \"type\": \"scatter\", \"x\": [\"16/01/2020 15\", \"16/01/2020 17\", \"17/01/2020 09\", \"17/01/2020 10\", \"17/01/2020 12\", \"17/01/2020 16\", \"20/01/2020 08\", \"20/01/2020 11\", \"20/01/2020 15\", \"20/01/2020 16\", \"21/01/2020 09\", \"21/01/2020 10\", \"21/01/2020 16\", \"22/01/2020 09\", \"22/01/2020 18\", \"23/01/2020 09\", \"23/01/2020 15\", \"23/01/2020 16\"], \"xaxis\": \"x\", \"y\": [3901, 3936, 3749, 3879, 3723, 3681, 3821, 3805, 3786, 3774, 3622, 3618, 3597, 3561, 3753, 3761, 3687, 3687], \"yaxis\": \"y\"}, {\"customdata\": [[\"POA\", \"MIA\", \"2020-07-06\", \"2020-07-21\", 3836], [\"POA\", \"MIA\", \"2020-07-06\", \"2020-07-21\", 3838], [\"POA\", \"MIA\", \"2020-07-06\", \"2020-07-21\", 3651], [\"POA\", \"MIA\", \"2020-07-06\", \"2020-07-21\", 3803], [\"POA\", \"MIA\", \"2020-07-06\", \"2020-07-21\", 3647], [\"POA\", \"MIA\", \"2020-07-06\", \"2020-07-21\", 3548], [\"POA\", \"MIA\", \"2020-07-06\", \"2020-07-21\", 3795], [\"POA\", \"MIA\", \"2020-07-06\", \"2020-07-21\", 3804], [\"POA\", \"MIA\", \"2020-07-06\", \"2020-07-21\", 3794], [\"POA\", \"MIA\", \"2020-07-06\", \"2020-07-21\", 3741], [\"POA\", \"MIA\", \"2020-07-06\", \"2020-07-21\", 3584], [\"POA\", \"MIA\", \"2020-07-06\", \"2020-07-21\", 3496], [\"POA\", \"MIA\", \"2020-07-06\", \"2020-07-21\", 3527], [\"POA\", \"MIA\", \"2020-07-06\", \"2020-07-21\", 3522], [\"POA\", \"MIA\", \"2020-07-06\", \"2020-07-21\", 3884], [\"POA\", \"MIA\", \"2020-07-06\", \"2020-07-21\", 3681], [\"POA\", \"MIA\", \"2020-07-06\", \"2020-07-21\", 3733], [\"POA\", \"MIA\", \"2020-07-06\", \"2020-07-21\", 3733]], \"hoverlabel\": {\"namelength\": 0}, \"hovertemplate\": \"EspecificoTodos=POAMIA-2020-07-06-2020-07-21<br>DataPesquisa=%{x}<br>preco=%{customdata[4]}<br>de=%{customdata[0]}<br>para=%{customdata[1]}<br>Ida=%{customdata[2]}<br>Volta=%{customdata[3]}\", \"legendgroup\": \"EspecificoTodos=POAMIA-2020-07-06-2020-07-21\", \"line\": {\"color\": \"#636efa\", \"dash\": \"solid\"}, \"mode\": \"lines\", \"name\": \"EspecificoTodos=POAMIA-2020-07-06-2020-07-21\", \"showlegend\": true, \"type\": \"scatter\", \"x\": [\"16/01/2020 15\", \"16/01/2020 17\", \"17/01/2020 09\", \"17/01/2020 10\", \"17/01/2020 12\", \"17/01/2020 16\", \"20/01/2020 08\", \"20/01/2020 11\", \"20/01/2020 15\", \"20/01/2020 16\", \"21/01/2020 09\", \"21/01/2020 10\", \"21/01/2020 16\", \"22/01/2020 09\", \"22/01/2020 18\", \"23/01/2020 09\", \"23/01/2020 15\", \"23/01/2020 16\"], \"xaxis\": \"x\", \"y\": [3836, 3838, 3651, 3803, 3647, 3548, 3795, 3804, 3794, 3741, 3584, 3496, 3527, 3522, 3884, 3681, 3733, 3733], \"yaxis\": \"y\"}, {\"customdata\": [[\"POA\", \"MIA\", \"2020-07-06\", \"2020-07-22\", 3825], [\"POA\", \"MIA\", \"2020-07-06\", \"2020-07-22\", 3826], [\"POA\", \"MIA\", \"2020-07-06\", \"2020-07-22\", 3751], [\"POA\", \"MIA\", \"2020-07-06\", \"2020-07-22\", 3723], [\"POA\", \"MIA\", \"2020-07-06\", \"2020-07-22\", 3615], [\"POA\", \"MIA\", \"2020-07-06\", \"2020-07-22\", 3617], [\"POA\", \"MIA\", \"2020-07-06\", \"2020-07-22\", 3815], [\"POA\", \"MIA\", \"2020-07-06\", \"2020-07-22\", 3786], [\"POA\", \"MIA\", \"2020-07-06\", \"2020-07-22\", 3782], [\"POA\", \"MIA\", \"2020-07-06\", \"2020-07-22\", 3728], [\"POA\", \"MIA\", \"2020-07-06\", \"2020-07-22\", 3654], [\"POA\", \"MIA\", \"2020-07-06\", \"2020-07-22\", 3520], [\"POA\", \"MIA\", \"2020-07-06\", \"2020-07-22\", 3560], [\"POA\", \"MIA\", \"2020-07-06\", \"2020-07-22\", 3529], [\"POA\", \"MIA\", \"2020-07-06\", \"2020-07-22\", 3693], [\"POA\", \"MIA\", \"2020-07-06\", \"2020-07-22\", 3785], [\"POA\", \"MIA\", \"2020-07-06\", \"2020-07-22\", 3744], [\"POA\", \"MIA\", \"2020-07-06\", \"2020-07-22\", 3744]], \"hoverlabel\": {\"namelength\": 0}, \"hovertemplate\": \"EspecificoTodos=POAMIA-2020-07-06-2020-07-22<br>DataPesquisa=%{x}<br>preco=%{customdata[4]}<br>de=%{customdata[0]}<br>para=%{customdata[1]}<br>Ida=%{customdata[2]}<br>Volta=%{customdata[3]}\", \"legendgroup\": \"EspecificoTodos=POAMIA-2020-07-06-2020-07-22\", \"line\": {\"color\": \"#EF553B\", \"dash\": \"solid\"}, \"mode\": \"lines\", \"name\": \"EspecificoTodos=POAMIA-2020-07-06-2020-07-22\", \"showlegend\": true, \"type\": \"scatter\", \"x\": [\"16/01/2020 15\", \"16/01/2020 17\", \"17/01/2020 09\", \"17/01/2020 10\", \"17/01/2020 12\", \"17/01/2020 16\", \"20/01/2020 08\", \"20/01/2020 11\", \"20/01/2020 15\", \"20/01/2020 16\", \"21/01/2020 09\", \"21/01/2020 10\", \"21/01/2020 16\", \"22/01/2020 09\", \"22/01/2020 18\", \"23/01/2020 09\", \"23/01/2020 15\", \"23/01/2020 16\"], \"xaxis\": \"x\", \"y\": [3825, 3826, 3751, 3723, 3615, 3617, 3815, 3786, 3782, 3728, 3654, 3520, 3560, 3529, 3693, 3785, 3744, 3744], \"yaxis\": \"y\"}, {\"customdata\": [[\"POA\", \"MIA\", \"2020-07-06\", \"2020-07-23\", 3838], [\"POA\", \"MIA\", \"2020-07-06\", \"2020-07-23\", 3800], [\"POA\", \"MIA\", \"2020-07-06\", \"2020-07-23\", 3754], [\"POA\", \"MIA\", \"2020-07-06\", \"2020-07-23\", 3729], [\"POA\", \"MIA\", \"2020-07-06\", \"2020-07-23\", 3620], [\"POA\", \"MIA\", \"2020-07-06\", \"2020-07-23\", 3610], [\"POA\", \"MIA\", \"2020-07-06\", \"2020-07-23\", 3859], [\"POA\", \"MIA\", \"2020-07-06\", \"2020-07-23\", 3798], [\"POA\", \"MIA\", \"2020-07-06\", \"2020-07-23\", 3766], [\"POA\", \"MIA\", \"2020-07-06\", \"2020-07-23\", 3738], [\"POA\", \"MIA\", \"2020-07-06\", \"2020-07-23\", 3674], [\"POA\", \"MIA\", \"2020-07-06\", \"2020-07-23\", 3510], [\"POA\", \"MIA\", \"2020-07-06\", \"2020-07-23\", 3623], [\"POA\", \"MIA\", \"2020-07-06\", \"2020-07-23\", 3573], [\"POA\", \"MIA\", \"2020-07-06\", \"2020-07-23\", 3718], [\"POA\", \"MIA\", \"2020-07-06\", \"2020-07-23\", 3761], [\"POA\", \"MIA\", \"2020-07-06\", \"2020-07-23\", 3749], [\"POA\", \"MIA\", \"2020-07-06\", \"2020-07-23\", 3749]], \"hoverlabel\": {\"namelength\": 0}, \"hovertemplate\": \"EspecificoTodos=POAMIA-2020-07-06-2020-07-23<br>DataPesquisa=%{x}<br>preco=%{customdata[4]}<br>de=%{customdata[0]}<br>para=%{customdata[1]}<br>Ida=%{customdata[2]}<br>Volta=%{customdata[3]}\", \"legendgroup\": \"EspecificoTodos=POAMIA-2020-07-06-2020-07-23\", \"line\": {\"color\": \"#00cc96\", \"dash\": \"solid\"}, \"mode\": \"lines\", \"name\": \"EspecificoTodos=POAMIA-2020-07-06-2020-07-23\", \"showlegend\": true, \"type\": \"scatter\", \"x\": [\"16/01/2020 15\", \"16/01/2020 17\", \"17/01/2020 09\", \"17/01/2020 10\", \"17/01/2020 12\", \"17/01/2020 16\", \"20/01/2020 08\", \"20/01/2020 11\", \"20/01/2020 15\", \"20/01/2020 16\", \"21/01/2020 09\", \"21/01/2020 10\", \"21/01/2020 16\", \"22/01/2020 09\", \"22/01/2020 18\", \"23/01/2020 09\", \"23/01/2020 15\", \"23/01/2020 16\"], \"xaxis\": \"x\", \"y\": [3838, 3800, 3754, 3729, 3620, 3610, 3859, 3798, 3766, 3738, 3674, 3510, 3623, 3573, 3718, 3761, 3749, 3749], \"yaxis\": \"y\"}, {\"customdata\": [[\"POA\", \"MIA\", \"2020-07-07\", \"2020-07-21\", 3828], [\"POA\", \"MIA\", \"2020-07-07\", \"2020-07-21\", 3824], [\"POA\", \"MIA\", \"2020-07-07\", \"2020-07-21\", 3754], [\"POA\", \"MIA\", \"2020-07-07\", \"2020-07-21\", 3840], [\"POA\", \"MIA\", \"2020-07-07\", \"2020-07-21\", 3574], [\"POA\", \"MIA\", \"2020-07-07\", \"2020-07-21\", 3637], [\"POA\", \"MIA\", \"2020-07-07\", \"2020-07-21\", 3825], [\"POA\", \"MIA\", \"2020-07-07\", \"2020-07-21\", 3849], [\"POA\", \"MIA\", \"2020-07-07\", \"2020-07-21\", 3777], [\"POA\", \"MIA\", \"2020-07-07\", \"2020-07-21\", 3815], [\"POA\", \"MIA\", \"2020-07-07\", \"2020-07-21\", 3707]], \"hoverlabel\": {\"namelength\": 0}, \"hovertemplate\": \"EspecificoTodos=POAMIA-2020-07-07-2020-07-21<br>DataPesquisa=%{x}<br>preco=%{customdata[4]}<br>de=%{customdata[0]}<br>para=%{customdata[1]}<br>Ida=%{customdata[2]}<br>Volta=%{customdata[3]}\", \"legendgroup\": \"EspecificoTodos=POAMIA-2020-07-07-2020-07-21\", \"line\": {\"color\": \"#ab63fa\", \"dash\": \"solid\"}, \"mode\": \"lines\", \"name\": \"EspecificoTodos=POAMIA-2020-07-07-2020-07-21\", \"showlegend\": true, \"type\": \"scatter\", \"x\": [\"16/01/2020 15\", \"16/01/2020 17\", \"17/01/2020 09\", \"17/01/2020 10\", \"17/01/2020 12\", \"17/01/2020 16\", \"20/01/2020 08\", \"20/01/2020 11\", \"20/01/2020 15\", \"20/01/2020 16\", \"21/01/2020 09\"], \"xaxis\": \"x\", \"y\": [3828, 3824, 3754, 3840, 3574, 3637, 3825, 3849, 3777, 3815, 3707], \"yaxis\": \"y\"}, {\"customdata\": [[\"POA\", \"MIA\", \"2020-07-07\", \"2020-07-22\", 3798], [\"POA\", \"MIA\", \"2020-07-07\", \"2020-07-22\", 3855], [\"POA\", \"MIA\", \"2020-07-07\", \"2020-07-22\", 3708], [\"POA\", \"MIA\", \"2020-07-07\", \"2020-07-22\", 3895], [\"POA\", \"MIA\", \"2020-07-07\", \"2020-07-22\", 3619], [\"POA\", \"MIA\", \"2020-07-07\", \"2020-07-22\", 3666], [\"POA\", \"MIA\", \"2020-07-07\", \"2020-07-22\", 3838], [\"POA\", \"MIA\", \"2020-07-07\", \"2020-07-22\", 3842], [\"POA\", \"MIA\", \"2020-07-07\", \"2020-07-22\", 3809], [\"POA\", \"MIA\", \"2020-07-07\", \"2020-07-22\", 3783], [\"POA\", \"MIA\", \"2020-07-07\", \"2020-07-22\", 3758]], \"hoverlabel\": {\"namelength\": 0}, \"hovertemplate\": \"EspecificoTodos=POAMIA-2020-07-07-2020-07-22<br>DataPesquisa=%{x}<br>preco=%{customdata[4]}<br>de=%{customdata[0]}<br>para=%{customdata[1]}<br>Ida=%{customdata[2]}<br>Volta=%{customdata[3]}\", \"legendgroup\": \"EspecificoTodos=POAMIA-2020-07-07-2020-07-22\", \"line\": {\"color\": \"#FFA15A\", \"dash\": \"solid\"}, \"mode\": \"lines\", \"name\": \"EspecificoTodos=POAMIA-2020-07-07-2020-07-22\", \"showlegend\": true, \"type\": \"scatter\", \"x\": [\"16/01/2020 15\", \"16/01/2020 17\", \"17/01/2020 09\", \"17/01/2020 10\", \"17/01/2020 12\", \"17/01/2020 16\", \"20/01/2020 08\", \"20/01/2020 11\", \"20/01/2020 15\", \"20/01/2020 16\", \"21/01/2020 09\"], \"xaxis\": \"x\", \"y\": [3798, 3855, 3708, 3895, 3619, 3666, 3838, 3842, 3809, 3783, 3758], \"yaxis\": \"y\"}, {\"customdata\": [[\"POA\", \"MIA\", \"2020-07-07\", \"2020-07-23\", 3812], [\"POA\", \"MIA\", \"2020-07-07\", \"2020-07-23\", 3777], [\"POA\", \"MIA\", \"2020-07-07\", \"2020-07-23\", 3736], [\"POA\", \"MIA\", \"2020-07-07\", \"2020-07-23\", 3770], [\"POA\", \"MIA\", \"2020-07-07\", \"2020-07-23\", 3560], [\"POA\", \"MIA\", \"2020-07-07\", \"2020-07-23\", 3648], [\"POA\", \"MIA\", \"2020-07-07\", \"2020-07-23\", 3847], [\"POA\", \"MIA\", \"2020-07-07\", \"2020-07-23\", 3867], [\"POA\", \"MIA\", \"2020-07-07\", \"2020-07-23\", 3807], [\"POA\", \"MIA\", \"2020-07-07\", \"2020-07-23\", 3777], [\"POA\", \"MIA\", \"2020-07-07\", \"2020-07-23\", 3814]], \"hoverlabel\": {\"namelength\": 0}, \"hovertemplate\": \"EspecificoTodos=POAMIA-2020-07-07-2020-07-23<br>DataPesquisa=%{x}<br>preco=%{customdata[4]}<br>de=%{customdata[0]}<br>para=%{customdata[1]}<br>Ida=%{customdata[2]}<br>Volta=%{customdata[3]}\", \"legendgroup\": \"EspecificoTodos=POAMIA-2020-07-07-2020-07-23\", \"line\": {\"color\": \"#19d3f3\", \"dash\": \"solid\"}, \"mode\": \"lines\", \"name\": \"EspecificoTodos=POAMIA-2020-07-07-2020-07-23\", \"showlegend\": true, \"type\": \"scatter\", \"x\": [\"16/01/2020 15\", \"16/01/2020 17\", \"17/01/2020 09\", \"17/01/2020 10\", \"17/01/2020 12\", \"17/01/2020 16\", \"20/01/2020 08\", \"20/01/2020 11\", \"20/01/2020 15\", \"20/01/2020 16\", \"21/01/2020 09\"], \"xaxis\": \"x\", \"y\": [3812, 3777, 3736, 3770, 3560, 3648, 3847, 3867, 3807, 3777, 3814], \"yaxis\": \"y\"}],\n",
       "                        {\"height\": 600, \"legend\": {\"tracegroupgap\": 0}, \"margin\": {\"t\": 60}, \"template\": {\"data\": {\"bar\": [{\"error_x\": {\"color\": \"#2a3f5f\"}, \"error_y\": {\"color\": \"#2a3f5f\"}, \"marker\": {\"line\": {\"color\": \"#E5ECF6\", \"width\": 0.5}}, \"type\": \"bar\"}], \"barpolar\": [{\"marker\": {\"line\": {\"color\": \"#E5ECF6\", \"width\": 0.5}}, \"type\": \"barpolar\"}], \"carpet\": [{\"aaxis\": {\"endlinecolor\": \"#2a3f5f\", \"gridcolor\": \"white\", \"linecolor\": \"white\", \"minorgridcolor\": \"white\", \"startlinecolor\": \"#2a3f5f\"}, \"baxis\": {\"endlinecolor\": \"#2a3f5f\", \"gridcolor\": \"white\", \"linecolor\": \"white\", \"minorgridcolor\": \"white\", \"startlinecolor\": \"#2a3f5f\"}, \"type\": \"carpet\"}], \"choropleth\": [{\"colorbar\": {\"outlinewidth\": 0, \"ticks\": \"\"}, \"type\": \"choropleth\"}], \"contour\": [{\"colorbar\": {\"outlinewidth\": 0, \"ticks\": \"\"}, \"colorscale\": [[0.0, \"#0d0887\"], [0.1111111111111111, \"#46039f\"], [0.2222222222222222, \"#7201a8\"], [0.3333333333333333, \"#9c179e\"], [0.4444444444444444, \"#bd3786\"], [0.5555555555555556, \"#d8576b\"], [0.6666666666666666, \"#ed7953\"], [0.7777777777777778, \"#fb9f3a\"], [0.8888888888888888, \"#fdca26\"], [1.0, \"#f0f921\"]], \"type\": \"contour\"}], \"contourcarpet\": [{\"colorbar\": {\"outlinewidth\": 0, \"ticks\": \"\"}, \"type\": \"contourcarpet\"}], \"heatmap\": [{\"colorbar\": {\"outlinewidth\": 0, \"ticks\": \"\"}, \"colorscale\": [[0.0, \"#0d0887\"], [0.1111111111111111, \"#46039f\"], [0.2222222222222222, \"#7201a8\"], [0.3333333333333333, \"#9c179e\"], [0.4444444444444444, \"#bd3786\"], [0.5555555555555556, \"#d8576b\"], [0.6666666666666666, \"#ed7953\"], [0.7777777777777778, \"#fb9f3a\"], [0.8888888888888888, \"#fdca26\"], [1.0, \"#f0f921\"]], \"type\": \"heatmap\"}], \"heatmapgl\": [{\"colorbar\": {\"outlinewidth\": 0, \"ticks\": \"\"}, \"colorscale\": [[0.0, \"#0d0887\"], [0.1111111111111111, \"#46039f\"], [0.2222222222222222, \"#7201a8\"], [0.3333333333333333, \"#9c179e\"], [0.4444444444444444, \"#bd3786\"], [0.5555555555555556, \"#d8576b\"], [0.6666666666666666, \"#ed7953\"], [0.7777777777777778, \"#fb9f3a\"], [0.8888888888888888, \"#fdca26\"], [1.0, \"#f0f921\"]], \"type\": \"heatmapgl\"}], \"histogram\": [{\"marker\": {\"colorbar\": {\"outlinewidth\": 0, \"ticks\": \"\"}}, \"type\": \"histogram\"}], \"histogram2d\": [{\"colorbar\": {\"outlinewidth\": 0, \"ticks\": \"\"}, \"colorscale\": [[0.0, \"#0d0887\"], [0.1111111111111111, \"#46039f\"], [0.2222222222222222, \"#7201a8\"], [0.3333333333333333, \"#9c179e\"], [0.4444444444444444, \"#bd3786\"], [0.5555555555555556, \"#d8576b\"], [0.6666666666666666, \"#ed7953\"], [0.7777777777777778, \"#fb9f3a\"], [0.8888888888888888, \"#fdca26\"], [1.0, \"#f0f921\"]], \"type\": \"histogram2d\"}], \"histogram2dcontour\": [{\"colorbar\": {\"outlinewidth\": 0, \"ticks\": \"\"}, \"colorscale\": [[0.0, \"#0d0887\"], [0.1111111111111111, \"#46039f\"], [0.2222222222222222, \"#7201a8\"], [0.3333333333333333, \"#9c179e\"], [0.4444444444444444, \"#bd3786\"], [0.5555555555555556, \"#d8576b\"], [0.6666666666666666, \"#ed7953\"], [0.7777777777777778, \"#fb9f3a\"], [0.8888888888888888, \"#fdca26\"], [1.0, \"#f0f921\"]], \"type\": \"histogram2dcontour\"}], \"mesh3d\": [{\"colorbar\": {\"outlinewidth\": 0, \"ticks\": \"\"}, \"type\": \"mesh3d\"}], \"parcoords\": [{\"line\": {\"colorbar\": {\"outlinewidth\": 0, \"ticks\": \"\"}}, \"type\": \"parcoords\"}], \"scatter\": [{\"marker\": {\"colorbar\": {\"outlinewidth\": 0, \"ticks\": \"\"}}, \"type\": \"scatter\"}], \"scatter3d\": [{\"line\": {\"colorbar\": {\"outlinewidth\": 0, \"ticks\": \"\"}}, \"marker\": {\"colorbar\": {\"outlinewidth\": 0, \"ticks\": \"\"}}, \"type\": \"scatter3d\"}], \"scattercarpet\": [{\"marker\": {\"colorbar\": {\"outlinewidth\": 0, \"ticks\": \"\"}}, \"type\": \"scattercarpet\"}], \"scattergeo\": [{\"marker\": {\"colorbar\": {\"outlinewidth\": 0, \"ticks\": \"\"}}, \"type\": \"scattergeo\"}], \"scattergl\": [{\"marker\": {\"colorbar\": {\"outlinewidth\": 0, \"ticks\": \"\"}}, \"type\": \"scattergl\"}], \"scattermapbox\": [{\"marker\": {\"colorbar\": {\"outlinewidth\": 0, \"ticks\": \"\"}}, \"type\": \"scattermapbox\"}], \"scatterpolar\": [{\"marker\": {\"colorbar\": {\"outlinewidth\": 0, \"ticks\": \"\"}}, \"type\": \"scatterpolar\"}], \"scatterpolargl\": [{\"marker\": {\"colorbar\": {\"outlinewidth\": 0, \"ticks\": \"\"}}, \"type\": \"scatterpolargl\"}], \"scatterternary\": [{\"marker\": {\"colorbar\": {\"outlinewidth\": 0, \"ticks\": \"\"}}, \"type\": \"scatterternary\"}], \"surface\": [{\"colorbar\": {\"outlinewidth\": 0, \"ticks\": \"\"}, \"colorscale\": [[0.0, \"#0d0887\"], [0.1111111111111111, \"#46039f\"], [0.2222222222222222, \"#7201a8\"], [0.3333333333333333, \"#9c179e\"], [0.4444444444444444, \"#bd3786\"], [0.5555555555555556, \"#d8576b\"], [0.6666666666666666, \"#ed7953\"], [0.7777777777777778, \"#fb9f3a\"], [0.8888888888888888, \"#fdca26\"], [1.0, \"#f0f921\"]], \"type\": \"surface\"}], \"table\": [{\"cells\": {\"fill\": {\"color\": \"#EBF0F8\"}, \"line\": {\"color\": \"white\"}}, \"header\": {\"fill\": {\"color\": \"#C8D4E3\"}, \"line\": {\"color\": \"white\"}}, \"type\": \"table\"}]}, \"layout\": {\"annotationdefaults\": {\"arrowcolor\": \"#2a3f5f\", \"arrowhead\": 0, \"arrowwidth\": 1}, \"colorscale\": {\"diverging\": [[0, \"#8e0152\"], [0.1, \"#c51b7d\"], [0.2, \"#de77ae\"], [0.3, \"#f1b6da\"], [0.4, \"#fde0ef\"], [0.5, \"#f7f7f7\"], [0.6, \"#e6f5d0\"], [0.7, \"#b8e186\"], [0.8, \"#7fbc41\"], [0.9, \"#4d9221\"], [1, \"#276419\"]], \"sequential\": [[0.0, \"#0d0887\"], [0.1111111111111111, \"#46039f\"], [0.2222222222222222, \"#7201a8\"], [0.3333333333333333, \"#9c179e\"], [0.4444444444444444, \"#bd3786\"], [0.5555555555555556, \"#d8576b\"], [0.6666666666666666, \"#ed7953\"], [0.7777777777777778, \"#fb9f3a\"], [0.8888888888888888, \"#fdca26\"], [1.0, \"#f0f921\"]], \"sequentialminus\": [[0.0, \"#0d0887\"], [0.1111111111111111, \"#46039f\"], [0.2222222222222222, \"#7201a8\"], [0.3333333333333333, \"#9c179e\"], [0.4444444444444444, \"#bd3786\"], [0.5555555555555556, \"#d8576b\"], [0.6666666666666666, \"#ed7953\"], [0.7777777777777778, \"#fb9f3a\"], [0.8888888888888888, \"#fdca26\"], [1.0, \"#f0f921\"]]}, \"colorway\": [\"#636efa\", \"#EF553B\", \"#00cc96\", \"#ab63fa\", \"#FFA15A\", \"#19d3f3\", \"#FF6692\", \"#B6E880\", \"#FF97FF\", \"#FECB52\"], \"font\": {\"color\": \"#2a3f5f\"}, \"geo\": {\"bgcolor\": \"white\", \"lakecolor\": \"white\", \"landcolor\": \"#E5ECF6\", \"showlakes\": true, \"showland\": true, \"subunitcolor\": \"white\"}, \"hoverlabel\": {\"align\": \"left\"}, \"hovermode\": \"closest\", \"mapbox\": {\"style\": \"light\"}, \"paper_bgcolor\": \"white\", \"plot_bgcolor\": \"#E5ECF6\", \"polar\": {\"angularaxis\": {\"gridcolor\": \"white\", \"linecolor\": \"white\", \"ticks\": \"\"}, \"bgcolor\": \"#E5ECF6\", \"radialaxis\": {\"gridcolor\": \"white\", \"linecolor\": \"white\", \"ticks\": \"\"}}, \"scene\": {\"xaxis\": {\"backgroundcolor\": \"#E5ECF6\", \"gridcolor\": \"white\", \"gridwidth\": 2, \"linecolor\": \"white\", \"showbackground\": true, \"ticks\": \"\", \"zerolinecolor\": \"white\"}, \"yaxis\": {\"backgroundcolor\": \"#E5ECF6\", \"gridcolor\": \"white\", \"gridwidth\": 2, \"linecolor\": \"white\", \"showbackground\": true, \"ticks\": \"\", \"zerolinecolor\": \"white\"}, \"zaxis\": {\"backgroundcolor\": \"#E5ECF6\", \"gridcolor\": \"white\", \"gridwidth\": 2, \"linecolor\": \"white\", \"showbackground\": true, \"ticks\": \"\", \"zerolinecolor\": \"white\"}}, \"shapedefaults\": {\"line\": {\"color\": \"#2a3f5f\"}}, \"ternary\": {\"aaxis\": {\"gridcolor\": \"white\", \"linecolor\": \"white\", \"ticks\": \"\"}, \"baxis\": {\"gridcolor\": \"white\", \"linecolor\": \"white\", \"ticks\": \"\"}, \"bgcolor\": \"#E5ECF6\", \"caxis\": {\"gridcolor\": \"white\", \"linecolor\": \"white\", \"ticks\": \"\"}}, \"title\": {\"x\": 0.05}, \"xaxis\": {\"automargin\": true, \"gridcolor\": \"white\", \"linecolor\": \"white\", \"ticks\": \"\", \"zerolinecolor\": \"white\", \"zerolinewidth\": 2}, \"yaxis\": {\"automargin\": true, \"gridcolor\": \"white\", \"linecolor\": \"white\", \"ticks\": \"\", \"zerolinecolor\": \"white\", \"zerolinewidth\": 2}}}, \"xaxis\": {\"anchor\": \"y\", \"domain\": [0.0, 0.98], \"title\": {\"text\": \"DataPesquisa\"}}, \"yaxis\": {\"anchor\": \"x\", \"domain\": [0.0, 1.0], \"title\": {\"text\": \"preco\"}}},\n",
       "                        {\"responsive\": true}\n",
       "                    ).then(function(){\n",
       "                            \n",
       "var gd = document.getElementById('f9472ad2-7c75-4779-9928-a6ec5d843de3');\n",
       "var x = new MutationObserver(function (mutations, observer) {{\n",
       "        var display = window.getComputedStyle(gd).display;\n",
       "        if (!display || display === 'none') {{\n",
       "            console.log([gd, 'removed!']);\n",
       "            Plotly.purge(gd);\n",
       "            observer.disconnect();\n",
       "        }}\n",
       "}});\n",
       "\n",
       "// Listen for the removal of the full notebook cells\n",
       "var notebookContainer = gd.closest('#notebook-container');\n",
       "if (notebookContainer) {{\n",
       "    x.observe(notebookContainer, {childList: true});\n",
       "}}\n",
       "\n",
       "// Listen for the clearing of the current output cell\n",
       "var outputEl = gd.closest('.output');\n",
       "if (outputEl) {{\n",
       "    x.observe(outputEl, {childList: true});\n",
       "}}\n",
       "\n",
       "                        })\n",
       "                };\n",
       "                });\n",
       "            </script>\n",
       "        </div>"
      ]
     },
     "metadata": {},
     "output_type": "display_data"
    },
    {
     "data": {
      "application/vnd.plotly.v1+json": {
       "config": {
        "plotlyServerURL": "https://plot.ly"
       },
       "data": [],
       "layout": {
        "height": 600,
        "legend": {
         "tracegroupgap": 0
        },
        "margin": {
         "t": 60
        },
        "template": {
         "data": {
          "bar": [
           {
            "error_x": {
             "color": "#2a3f5f"
            },
            "error_y": {
             "color": "#2a3f5f"
            },
            "marker": {
             "line": {
              "color": "#E5ECF6",
              "width": 0.5
             }
            },
            "type": "bar"
           }
          ],
          "barpolar": [
           {
            "marker": {
             "line": {
              "color": "#E5ECF6",
              "width": 0.5
             }
            },
            "type": "barpolar"
           }
          ],
          "carpet": [
           {
            "aaxis": {
             "endlinecolor": "#2a3f5f",
             "gridcolor": "white",
             "linecolor": "white",
             "minorgridcolor": "white",
             "startlinecolor": "#2a3f5f"
            },
            "baxis": {
             "endlinecolor": "#2a3f5f",
             "gridcolor": "white",
             "linecolor": "white",
             "minorgridcolor": "white",
             "startlinecolor": "#2a3f5f"
            },
            "type": "carpet"
           }
          ],
          "choropleth": [
           {
            "colorbar": {
             "outlinewidth": 0,
             "ticks": ""
            },
            "type": "choropleth"
           }
          ],
          "contour": [
           {
            "colorbar": {
             "outlinewidth": 0,
             "ticks": ""
            },
            "colorscale": [
             [
              0,
              "#0d0887"
             ],
             [
              0.1111111111111111,
              "#46039f"
             ],
             [
              0.2222222222222222,
              "#7201a8"
             ],
             [
              0.3333333333333333,
              "#9c179e"
             ],
             [
              0.4444444444444444,
              "#bd3786"
             ],
             [
              0.5555555555555556,
              "#d8576b"
             ],
             [
              0.6666666666666666,
              "#ed7953"
             ],
             [
              0.7777777777777778,
              "#fb9f3a"
             ],
             [
              0.8888888888888888,
              "#fdca26"
             ],
             [
              1,
              "#f0f921"
             ]
            ],
            "type": "contour"
           }
          ],
          "contourcarpet": [
           {
            "colorbar": {
             "outlinewidth": 0,
             "ticks": ""
            },
            "type": "contourcarpet"
           }
          ],
          "heatmap": [
           {
            "colorbar": {
             "outlinewidth": 0,
             "ticks": ""
            },
            "colorscale": [
             [
              0,
              "#0d0887"
             ],
             [
              0.1111111111111111,
              "#46039f"
             ],
             [
              0.2222222222222222,
              "#7201a8"
             ],
             [
              0.3333333333333333,
              "#9c179e"
             ],
             [
              0.4444444444444444,
              "#bd3786"
             ],
             [
              0.5555555555555556,
              "#d8576b"
             ],
             [
              0.6666666666666666,
              "#ed7953"
             ],
             [
              0.7777777777777778,
              "#fb9f3a"
             ],
             [
              0.8888888888888888,
              "#fdca26"
             ],
             [
              1,
              "#f0f921"
             ]
            ],
            "type": "heatmap"
           }
          ],
          "heatmapgl": [
           {
            "colorbar": {
             "outlinewidth": 0,
             "ticks": ""
            },
            "colorscale": [
             [
              0,
              "#0d0887"
             ],
             [
              0.1111111111111111,
              "#46039f"
             ],
             [
              0.2222222222222222,
              "#7201a8"
             ],
             [
              0.3333333333333333,
              "#9c179e"
             ],
             [
              0.4444444444444444,
              "#bd3786"
             ],
             [
              0.5555555555555556,
              "#d8576b"
             ],
             [
              0.6666666666666666,
              "#ed7953"
             ],
             [
              0.7777777777777778,
              "#fb9f3a"
             ],
             [
              0.8888888888888888,
              "#fdca26"
             ],
             [
              1,
              "#f0f921"
             ]
            ],
            "type": "heatmapgl"
           }
          ],
          "histogram": [
           {
            "marker": {
             "colorbar": {
              "outlinewidth": 0,
              "ticks": ""
             }
            },
            "type": "histogram"
           }
          ],
          "histogram2d": [
           {
            "colorbar": {
             "outlinewidth": 0,
             "ticks": ""
            },
            "colorscale": [
             [
              0,
              "#0d0887"
             ],
             [
              0.1111111111111111,
              "#46039f"
             ],
             [
              0.2222222222222222,
              "#7201a8"
             ],
             [
              0.3333333333333333,
              "#9c179e"
             ],
             [
              0.4444444444444444,
              "#bd3786"
             ],
             [
              0.5555555555555556,
              "#d8576b"
             ],
             [
              0.6666666666666666,
              "#ed7953"
             ],
             [
              0.7777777777777778,
              "#fb9f3a"
             ],
             [
              0.8888888888888888,
              "#fdca26"
             ],
             [
              1,
              "#f0f921"
             ]
            ],
            "type": "histogram2d"
           }
          ],
          "histogram2dcontour": [
           {
            "colorbar": {
             "outlinewidth": 0,
             "ticks": ""
            },
            "colorscale": [
             [
              0,
              "#0d0887"
             ],
             [
              0.1111111111111111,
              "#46039f"
             ],
             [
              0.2222222222222222,
              "#7201a8"
             ],
             [
              0.3333333333333333,
              "#9c179e"
             ],
             [
              0.4444444444444444,
              "#bd3786"
             ],
             [
              0.5555555555555556,
              "#d8576b"
             ],
             [
              0.6666666666666666,
              "#ed7953"
             ],
             [
              0.7777777777777778,
              "#fb9f3a"
             ],
             [
              0.8888888888888888,
              "#fdca26"
             ],
             [
              1,
              "#f0f921"
             ]
            ],
            "type": "histogram2dcontour"
           }
          ],
          "mesh3d": [
           {
            "colorbar": {
             "outlinewidth": 0,
             "ticks": ""
            },
            "type": "mesh3d"
           }
          ],
          "parcoords": [
           {
            "line": {
             "colorbar": {
              "outlinewidth": 0,
              "ticks": ""
             }
            },
            "type": "parcoords"
           }
          ],
          "scatter": [
           {
            "marker": {
             "colorbar": {
              "outlinewidth": 0,
              "ticks": ""
             }
            },
            "type": "scatter"
           }
          ],
          "scatter3d": [
           {
            "line": {
             "colorbar": {
              "outlinewidth": 0,
              "ticks": ""
             }
            },
            "marker": {
             "colorbar": {
              "outlinewidth": 0,
              "ticks": ""
             }
            },
            "type": "scatter3d"
           }
          ],
          "scattercarpet": [
           {
            "marker": {
             "colorbar": {
              "outlinewidth": 0,
              "ticks": ""
             }
            },
            "type": "scattercarpet"
           }
          ],
          "scattergeo": [
           {
            "marker": {
             "colorbar": {
              "outlinewidth": 0,
              "ticks": ""
             }
            },
            "type": "scattergeo"
           }
          ],
          "scattergl": [
           {
            "marker": {
             "colorbar": {
              "outlinewidth": 0,
              "ticks": ""
             }
            },
            "type": "scattergl"
           }
          ],
          "scattermapbox": [
           {
            "marker": {
             "colorbar": {
              "outlinewidth": 0,
              "ticks": ""
             }
            },
            "type": "scattermapbox"
           }
          ],
          "scatterpolar": [
           {
            "marker": {
             "colorbar": {
              "outlinewidth": 0,
              "ticks": ""
             }
            },
            "type": "scatterpolar"
           }
          ],
          "scatterpolargl": [
           {
            "marker": {
             "colorbar": {
              "outlinewidth": 0,
              "ticks": ""
             }
            },
            "type": "scatterpolargl"
           }
          ],
          "scatterternary": [
           {
            "marker": {
             "colorbar": {
              "outlinewidth": 0,
              "ticks": ""
             }
            },
            "type": "scatterternary"
           }
          ],
          "surface": [
           {
            "colorbar": {
             "outlinewidth": 0,
             "ticks": ""
            },
            "colorscale": [
             [
              0,
              "#0d0887"
             ],
             [
              0.1111111111111111,
              "#46039f"
             ],
             [
              0.2222222222222222,
              "#7201a8"
             ],
             [
              0.3333333333333333,
              "#9c179e"
             ],
             [
              0.4444444444444444,
              "#bd3786"
             ],
             [
              0.5555555555555556,
              "#d8576b"
             ],
             [
              0.6666666666666666,
              "#ed7953"
             ],
             [
              0.7777777777777778,
              "#fb9f3a"
             ],
             [
              0.8888888888888888,
              "#fdca26"
             ],
             [
              1,
              "#f0f921"
             ]
            ],
            "type": "surface"
           }
          ],
          "table": [
           {
            "cells": {
             "fill": {
              "color": "#EBF0F8"
             },
             "line": {
              "color": "white"
             }
            },
            "header": {
             "fill": {
              "color": "#C8D4E3"
             },
             "line": {
              "color": "white"
             }
            },
            "type": "table"
           }
          ]
         },
         "layout": {
          "annotationdefaults": {
           "arrowcolor": "#2a3f5f",
           "arrowhead": 0,
           "arrowwidth": 1
          },
          "colorscale": {
           "diverging": [
            [
             0,
             "#8e0152"
            ],
            [
             0.1,
             "#c51b7d"
            ],
            [
             0.2,
             "#de77ae"
            ],
            [
             0.3,
             "#f1b6da"
            ],
            [
             0.4,
             "#fde0ef"
            ],
            [
             0.5,
             "#f7f7f7"
            ],
            [
             0.6,
             "#e6f5d0"
            ],
            [
             0.7,
             "#b8e186"
            ],
            [
             0.8,
             "#7fbc41"
            ],
            [
             0.9,
             "#4d9221"
            ],
            [
             1,
             "#276419"
            ]
           ],
           "sequential": [
            [
             0,
             "#0d0887"
            ],
            [
             0.1111111111111111,
             "#46039f"
            ],
            [
             0.2222222222222222,
             "#7201a8"
            ],
            [
             0.3333333333333333,
             "#9c179e"
            ],
            [
             0.4444444444444444,
             "#bd3786"
            ],
            [
             0.5555555555555556,
             "#d8576b"
            ],
            [
             0.6666666666666666,
             "#ed7953"
            ],
            [
             0.7777777777777778,
             "#fb9f3a"
            ],
            [
             0.8888888888888888,
             "#fdca26"
            ],
            [
             1,
             "#f0f921"
            ]
           ],
           "sequentialminus": [
            [
             0,
             "#0d0887"
            ],
            [
             0.1111111111111111,
             "#46039f"
            ],
            [
             0.2222222222222222,
             "#7201a8"
            ],
            [
             0.3333333333333333,
             "#9c179e"
            ],
            [
             0.4444444444444444,
             "#bd3786"
            ],
            [
             0.5555555555555556,
             "#d8576b"
            ],
            [
             0.6666666666666666,
             "#ed7953"
            ],
            [
             0.7777777777777778,
             "#fb9f3a"
            ],
            [
             0.8888888888888888,
             "#fdca26"
            ],
            [
             1,
             "#f0f921"
            ]
           ]
          },
          "colorway": [
           "#636efa",
           "#EF553B",
           "#00cc96",
           "#ab63fa",
           "#FFA15A",
           "#19d3f3",
           "#FF6692",
           "#B6E880",
           "#FF97FF",
           "#FECB52"
          ],
          "font": {
           "color": "#2a3f5f"
          },
          "geo": {
           "bgcolor": "white",
           "lakecolor": "white",
           "landcolor": "#E5ECF6",
           "showlakes": true,
           "showland": true,
           "subunitcolor": "white"
          },
          "hoverlabel": {
           "align": "left"
          },
          "hovermode": "closest",
          "mapbox": {
           "style": "light"
          },
          "paper_bgcolor": "white",
          "plot_bgcolor": "#E5ECF6",
          "polar": {
           "angularaxis": {
            "gridcolor": "white",
            "linecolor": "white",
            "ticks": ""
           },
           "bgcolor": "#E5ECF6",
           "radialaxis": {
            "gridcolor": "white",
            "linecolor": "white",
            "ticks": ""
           }
          },
          "scene": {
           "xaxis": {
            "backgroundcolor": "#E5ECF6",
            "gridcolor": "white",
            "gridwidth": 2,
            "linecolor": "white",
            "showbackground": true,
            "ticks": "",
            "zerolinecolor": "white"
           },
           "yaxis": {
            "backgroundcolor": "#E5ECF6",
            "gridcolor": "white",
            "gridwidth": 2,
            "linecolor": "white",
            "showbackground": true,
            "ticks": "",
            "zerolinecolor": "white"
           },
           "zaxis": {
            "backgroundcolor": "#E5ECF6",
            "gridcolor": "white",
            "gridwidth": 2,
            "linecolor": "white",
            "showbackground": true,
            "ticks": "",
            "zerolinecolor": "white"
           }
          },
          "shapedefaults": {
           "line": {
            "color": "#2a3f5f"
           }
          },
          "ternary": {
           "aaxis": {
            "gridcolor": "white",
            "linecolor": "white",
            "ticks": ""
           },
           "baxis": {
            "gridcolor": "white",
            "linecolor": "white",
            "ticks": ""
           },
           "bgcolor": "#E5ECF6",
           "caxis": {
            "gridcolor": "white",
            "linecolor": "white",
            "ticks": ""
           }
          },
          "title": {
           "x": 0.05
          },
          "xaxis": {
           "automargin": true,
           "gridcolor": "white",
           "linecolor": "white",
           "ticks": "",
           "zerolinecolor": "white",
           "zerolinewidth": 2
          },
          "yaxis": {
           "automargin": true,
           "gridcolor": "white",
           "linecolor": "white",
           "ticks": "",
           "zerolinecolor": "white",
           "zerolinewidth": 2
          }
         }
        },
        "xaxis": {
         "anchor": "y",
         "domain": [
          0,
          0.98
         ],
         "title": {
          "text": "DataPesquisa"
         }
        },
        "yaxis": {
         "anchor": "x",
         "domain": [
          0,
          1
         ],
         "title": {
          "text": "preco"
         }
        }
       }
      },
      "text/html": [
       "<div>\n",
       "        \n",
       "        \n",
       "            <div id=\"852e6cd6-9649-4e9c-a1e1-6d7ce5af1be0\" class=\"plotly-graph-div\" style=\"height:600px; width:100%;\"></div>\n",
       "            <script type=\"text/javascript\">\n",
       "                require([\"plotly\"], function(Plotly) {\n",
       "                    window.PLOTLYENV=window.PLOTLYENV || {};\n",
       "                    \n",
       "                if (document.getElementById(\"852e6cd6-9649-4e9c-a1e1-6d7ce5af1be0\")) {\n",
       "                    Plotly.newPlot(\n",
       "                        '852e6cd6-9649-4e9c-a1e1-6d7ce5af1be0',\n",
       "                        [],\n",
       "                        {\"height\": 600, \"legend\": {\"tracegroupgap\": 0}, \"margin\": {\"t\": 60}, \"template\": {\"data\": {\"bar\": [{\"error_x\": {\"color\": \"#2a3f5f\"}, \"error_y\": {\"color\": \"#2a3f5f\"}, \"marker\": {\"line\": {\"color\": \"#E5ECF6\", \"width\": 0.5}}, \"type\": \"bar\"}], \"barpolar\": [{\"marker\": {\"line\": {\"color\": \"#E5ECF6\", \"width\": 0.5}}, \"type\": \"barpolar\"}], \"carpet\": [{\"aaxis\": {\"endlinecolor\": \"#2a3f5f\", \"gridcolor\": \"white\", \"linecolor\": \"white\", \"minorgridcolor\": \"white\", \"startlinecolor\": \"#2a3f5f\"}, \"baxis\": {\"endlinecolor\": \"#2a3f5f\", \"gridcolor\": \"white\", \"linecolor\": \"white\", \"minorgridcolor\": \"white\", \"startlinecolor\": \"#2a3f5f\"}, \"type\": \"carpet\"}], \"choropleth\": [{\"colorbar\": {\"outlinewidth\": 0, \"ticks\": \"\"}, \"type\": \"choropleth\"}], \"contour\": [{\"colorbar\": {\"outlinewidth\": 0, \"ticks\": \"\"}, \"colorscale\": [[0.0, \"#0d0887\"], [0.1111111111111111, \"#46039f\"], [0.2222222222222222, \"#7201a8\"], [0.3333333333333333, \"#9c179e\"], [0.4444444444444444, \"#bd3786\"], [0.5555555555555556, \"#d8576b\"], [0.6666666666666666, \"#ed7953\"], [0.7777777777777778, \"#fb9f3a\"], [0.8888888888888888, \"#fdca26\"], [1.0, \"#f0f921\"]], \"type\": \"contour\"}], \"contourcarpet\": [{\"colorbar\": {\"outlinewidth\": 0, \"ticks\": \"\"}, \"type\": \"contourcarpet\"}], \"heatmap\": [{\"colorbar\": {\"outlinewidth\": 0, \"ticks\": \"\"}, \"colorscale\": [[0.0, \"#0d0887\"], [0.1111111111111111, \"#46039f\"], [0.2222222222222222, \"#7201a8\"], [0.3333333333333333, \"#9c179e\"], [0.4444444444444444, \"#bd3786\"], [0.5555555555555556, \"#d8576b\"], [0.6666666666666666, \"#ed7953\"], [0.7777777777777778, \"#fb9f3a\"], [0.8888888888888888, \"#fdca26\"], [1.0, \"#f0f921\"]], \"type\": \"heatmap\"}], \"heatmapgl\": [{\"colorbar\": {\"outlinewidth\": 0, \"ticks\": \"\"}, \"colorscale\": [[0.0, \"#0d0887\"], [0.1111111111111111, \"#46039f\"], [0.2222222222222222, \"#7201a8\"], [0.3333333333333333, \"#9c179e\"], [0.4444444444444444, \"#bd3786\"], [0.5555555555555556, \"#d8576b\"], [0.6666666666666666, \"#ed7953\"], [0.7777777777777778, \"#fb9f3a\"], [0.8888888888888888, \"#fdca26\"], [1.0, \"#f0f921\"]], \"type\": \"heatmapgl\"}], \"histogram\": [{\"marker\": {\"colorbar\": {\"outlinewidth\": 0, \"ticks\": \"\"}}, \"type\": \"histogram\"}], \"histogram2d\": [{\"colorbar\": {\"outlinewidth\": 0, \"ticks\": \"\"}, \"colorscale\": [[0.0, \"#0d0887\"], [0.1111111111111111, \"#46039f\"], [0.2222222222222222, \"#7201a8\"], [0.3333333333333333, \"#9c179e\"], [0.4444444444444444, \"#bd3786\"], [0.5555555555555556, \"#d8576b\"], [0.6666666666666666, \"#ed7953\"], [0.7777777777777778, \"#fb9f3a\"], [0.8888888888888888, \"#fdca26\"], [1.0, \"#f0f921\"]], \"type\": \"histogram2d\"}], \"histogram2dcontour\": [{\"colorbar\": {\"outlinewidth\": 0, \"ticks\": \"\"}, \"colorscale\": [[0.0, \"#0d0887\"], [0.1111111111111111, \"#46039f\"], [0.2222222222222222, \"#7201a8\"], [0.3333333333333333, \"#9c179e\"], [0.4444444444444444, \"#bd3786\"], [0.5555555555555556, \"#d8576b\"], [0.6666666666666666, \"#ed7953\"], [0.7777777777777778, \"#fb9f3a\"], [0.8888888888888888, \"#fdca26\"], [1.0, \"#f0f921\"]], \"type\": \"histogram2dcontour\"}], \"mesh3d\": [{\"colorbar\": {\"outlinewidth\": 0, \"ticks\": \"\"}, \"type\": \"mesh3d\"}], \"parcoords\": [{\"line\": {\"colorbar\": {\"outlinewidth\": 0, \"ticks\": \"\"}}, \"type\": \"parcoords\"}], \"scatter\": [{\"marker\": {\"colorbar\": {\"outlinewidth\": 0, \"ticks\": \"\"}}, \"type\": \"scatter\"}], \"scatter3d\": [{\"line\": {\"colorbar\": {\"outlinewidth\": 0, \"ticks\": \"\"}}, \"marker\": {\"colorbar\": {\"outlinewidth\": 0, \"ticks\": \"\"}}, \"type\": \"scatter3d\"}], \"scattercarpet\": [{\"marker\": {\"colorbar\": {\"outlinewidth\": 0, \"ticks\": \"\"}}, \"type\": \"scattercarpet\"}], \"scattergeo\": [{\"marker\": {\"colorbar\": {\"outlinewidth\": 0, \"ticks\": \"\"}}, \"type\": \"scattergeo\"}], \"scattergl\": [{\"marker\": {\"colorbar\": {\"outlinewidth\": 0, \"ticks\": \"\"}}, \"type\": \"scattergl\"}], \"scattermapbox\": [{\"marker\": {\"colorbar\": {\"outlinewidth\": 0, \"ticks\": \"\"}}, \"type\": \"scattermapbox\"}], \"scatterpolar\": [{\"marker\": {\"colorbar\": {\"outlinewidth\": 0, \"ticks\": \"\"}}, \"type\": \"scatterpolar\"}], \"scatterpolargl\": [{\"marker\": {\"colorbar\": {\"outlinewidth\": 0, \"ticks\": \"\"}}, \"type\": \"scatterpolargl\"}], \"scatterternary\": [{\"marker\": {\"colorbar\": {\"outlinewidth\": 0, \"ticks\": \"\"}}, \"type\": \"scatterternary\"}], \"surface\": [{\"colorbar\": {\"outlinewidth\": 0, \"ticks\": \"\"}, \"colorscale\": [[0.0, \"#0d0887\"], [0.1111111111111111, \"#46039f\"], [0.2222222222222222, \"#7201a8\"], [0.3333333333333333, \"#9c179e\"], [0.4444444444444444, \"#bd3786\"], [0.5555555555555556, \"#d8576b\"], [0.6666666666666666, \"#ed7953\"], [0.7777777777777778, \"#fb9f3a\"], [0.8888888888888888, \"#fdca26\"], [1.0, \"#f0f921\"]], \"type\": \"surface\"}], \"table\": [{\"cells\": {\"fill\": {\"color\": \"#EBF0F8\"}, \"line\": {\"color\": \"white\"}}, \"header\": {\"fill\": {\"color\": \"#C8D4E3\"}, \"line\": {\"color\": \"white\"}}, \"type\": \"table\"}]}, \"layout\": {\"annotationdefaults\": {\"arrowcolor\": \"#2a3f5f\", \"arrowhead\": 0, \"arrowwidth\": 1}, \"colorscale\": {\"diverging\": [[0, \"#8e0152\"], [0.1, \"#c51b7d\"], [0.2, \"#de77ae\"], [0.3, \"#f1b6da\"], [0.4, \"#fde0ef\"], [0.5, \"#f7f7f7\"], [0.6, \"#e6f5d0\"], [0.7, \"#b8e186\"], [0.8, \"#7fbc41\"], [0.9, \"#4d9221\"], [1, \"#276419\"]], \"sequential\": [[0.0, \"#0d0887\"], [0.1111111111111111, \"#46039f\"], [0.2222222222222222, \"#7201a8\"], [0.3333333333333333, \"#9c179e\"], [0.4444444444444444, \"#bd3786\"], [0.5555555555555556, \"#d8576b\"], [0.6666666666666666, \"#ed7953\"], [0.7777777777777778, \"#fb9f3a\"], [0.8888888888888888, \"#fdca26\"], [1.0, \"#f0f921\"]], \"sequentialminus\": [[0.0, \"#0d0887\"], [0.1111111111111111, \"#46039f\"], [0.2222222222222222, \"#7201a8\"], [0.3333333333333333, \"#9c179e\"], [0.4444444444444444, \"#bd3786\"], [0.5555555555555556, \"#d8576b\"], [0.6666666666666666, \"#ed7953\"], [0.7777777777777778, \"#fb9f3a\"], [0.8888888888888888, \"#fdca26\"], [1.0, \"#f0f921\"]]}, \"colorway\": [\"#636efa\", \"#EF553B\", \"#00cc96\", \"#ab63fa\", \"#FFA15A\", \"#19d3f3\", \"#FF6692\", \"#B6E880\", \"#FF97FF\", \"#FECB52\"], \"font\": {\"color\": \"#2a3f5f\"}, \"geo\": {\"bgcolor\": \"white\", \"lakecolor\": \"white\", \"landcolor\": \"#E5ECF6\", \"showlakes\": true, \"showland\": true, \"subunitcolor\": \"white\"}, \"hoverlabel\": {\"align\": \"left\"}, \"hovermode\": \"closest\", \"mapbox\": {\"style\": \"light\"}, \"paper_bgcolor\": \"white\", \"plot_bgcolor\": \"#E5ECF6\", \"polar\": {\"angularaxis\": {\"gridcolor\": \"white\", \"linecolor\": \"white\", \"ticks\": \"\"}, \"bgcolor\": \"#E5ECF6\", \"radialaxis\": {\"gridcolor\": \"white\", \"linecolor\": \"white\", \"ticks\": \"\"}}, \"scene\": {\"xaxis\": {\"backgroundcolor\": \"#E5ECF6\", \"gridcolor\": \"white\", \"gridwidth\": 2, \"linecolor\": \"white\", \"showbackground\": true, \"ticks\": \"\", \"zerolinecolor\": \"white\"}, \"yaxis\": {\"backgroundcolor\": \"#E5ECF6\", \"gridcolor\": \"white\", \"gridwidth\": 2, \"linecolor\": \"white\", \"showbackground\": true, \"ticks\": \"\", \"zerolinecolor\": \"white\"}, \"zaxis\": {\"backgroundcolor\": \"#E5ECF6\", \"gridcolor\": \"white\", \"gridwidth\": 2, \"linecolor\": \"white\", \"showbackground\": true, \"ticks\": \"\", \"zerolinecolor\": \"white\"}}, \"shapedefaults\": {\"line\": {\"color\": \"#2a3f5f\"}}, \"ternary\": {\"aaxis\": {\"gridcolor\": \"white\", \"linecolor\": \"white\", \"ticks\": \"\"}, \"baxis\": {\"gridcolor\": \"white\", \"linecolor\": \"white\", \"ticks\": \"\"}, \"bgcolor\": \"#E5ECF6\", \"caxis\": {\"gridcolor\": \"white\", \"linecolor\": \"white\", \"ticks\": \"\"}}, \"title\": {\"x\": 0.05}, \"xaxis\": {\"automargin\": true, \"gridcolor\": \"white\", \"linecolor\": \"white\", \"ticks\": \"\", \"zerolinecolor\": \"white\", \"zerolinewidth\": 2}, \"yaxis\": {\"automargin\": true, \"gridcolor\": \"white\", \"linecolor\": \"white\", \"ticks\": \"\", \"zerolinecolor\": \"white\", \"zerolinewidth\": 2}}}, \"xaxis\": {\"anchor\": \"y\", \"domain\": [0.0, 0.98], \"title\": {\"text\": \"DataPesquisa\"}}, \"yaxis\": {\"anchor\": \"x\", \"domain\": [0.0, 1.0], \"title\": {\"text\": \"preco\"}}},\n",
       "                        {\"responsive\": true}\n",
       "                    ).then(function(){\n",
       "                            \n",
       "var gd = document.getElementById('852e6cd6-9649-4e9c-a1e1-6d7ce5af1be0');\n",
       "var x = new MutationObserver(function (mutations, observer) {{\n",
       "        var display = window.getComputedStyle(gd).display;\n",
       "        if (!display || display === 'none') {{\n",
       "            console.log([gd, 'removed!']);\n",
       "            Plotly.purge(gd);\n",
       "            observer.disconnect();\n",
       "        }}\n",
       "}});\n",
       "\n",
       "// Listen for the removal of the full notebook cells\n",
       "var notebookContainer = gd.closest('#notebook-container');\n",
       "if (notebookContainer) {{\n",
       "    x.observe(notebookContainer, {childList: true});\n",
       "}}\n",
       "\n",
       "// Listen for the clearing of the current output cell\n",
       "var outputEl = gd.closest('.output');\n",
       "if (outputEl) {{\n",
       "    x.observe(outputEl, {childList: true});\n",
       "}}\n",
       "\n",
       "                        })\n",
       "                };\n",
       "                });\n",
       "            </script>\n",
       "        </div>"
      ]
     },
     "metadata": {},
     "output_type": "display_data"
    },
    {
     "data": {
      "application/vnd.plotly.v1+json": {
       "config": {
        "plotlyServerURL": "https://plot.ly"
       },
       "data": [],
       "layout": {
        "height": 600,
        "legend": {
         "tracegroupgap": 0
        },
        "margin": {
         "t": 60
        },
        "template": {
         "data": {
          "bar": [
           {
            "error_x": {
             "color": "#2a3f5f"
            },
            "error_y": {
             "color": "#2a3f5f"
            },
            "marker": {
             "line": {
              "color": "#E5ECF6",
              "width": 0.5
             }
            },
            "type": "bar"
           }
          ],
          "barpolar": [
           {
            "marker": {
             "line": {
              "color": "#E5ECF6",
              "width": 0.5
             }
            },
            "type": "barpolar"
           }
          ],
          "carpet": [
           {
            "aaxis": {
             "endlinecolor": "#2a3f5f",
             "gridcolor": "white",
             "linecolor": "white",
             "minorgridcolor": "white",
             "startlinecolor": "#2a3f5f"
            },
            "baxis": {
             "endlinecolor": "#2a3f5f",
             "gridcolor": "white",
             "linecolor": "white",
             "minorgridcolor": "white",
             "startlinecolor": "#2a3f5f"
            },
            "type": "carpet"
           }
          ],
          "choropleth": [
           {
            "colorbar": {
             "outlinewidth": 0,
             "ticks": ""
            },
            "type": "choropleth"
           }
          ],
          "contour": [
           {
            "colorbar": {
             "outlinewidth": 0,
             "ticks": ""
            },
            "colorscale": [
             [
              0,
              "#0d0887"
             ],
             [
              0.1111111111111111,
              "#46039f"
             ],
             [
              0.2222222222222222,
              "#7201a8"
             ],
             [
              0.3333333333333333,
              "#9c179e"
             ],
             [
              0.4444444444444444,
              "#bd3786"
             ],
             [
              0.5555555555555556,
              "#d8576b"
             ],
             [
              0.6666666666666666,
              "#ed7953"
             ],
             [
              0.7777777777777778,
              "#fb9f3a"
             ],
             [
              0.8888888888888888,
              "#fdca26"
             ],
             [
              1,
              "#f0f921"
             ]
            ],
            "type": "contour"
           }
          ],
          "contourcarpet": [
           {
            "colorbar": {
             "outlinewidth": 0,
             "ticks": ""
            },
            "type": "contourcarpet"
           }
          ],
          "heatmap": [
           {
            "colorbar": {
             "outlinewidth": 0,
             "ticks": ""
            },
            "colorscale": [
             [
              0,
              "#0d0887"
             ],
             [
              0.1111111111111111,
              "#46039f"
             ],
             [
              0.2222222222222222,
              "#7201a8"
             ],
             [
              0.3333333333333333,
              "#9c179e"
             ],
             [
              0.4444444444444444,
              "#bd3786"
             ],
             [
              0.5555555555555556,
              "#d8576b"
             ],
             [
              0.6666666666666666,
              "#ed7953"
             ],
             [
              0.7777777777777778,
              "#fb9f3a"
             ],
             [
              0.8888888888888888,
              "#fdca26"
             ],
             [
              1,
              "#f0f921"
             ]
            ],
            "type": "heatmap"
           }
          ],
          "heatmapgl": [
           {
            "colorbar": {
             "outlinewidth": 0,
             "ticks": ""
            },
            "colorscale": [
             [
              0,
              "#0d0887"
             ],
             [
              0.1111111111111111,
              "#46039f"
             ],
             [
              0.2222222222222222,
              "#7201a8"
             ],
             [
              0.3333333333333333,
              "#9c179e"
             ],
             [
              0.4444444444444444,
              "#bd3786"
             ],
             [
              0.5555555555555556,
              "#d8576b"
             ],
             [
              0.6666666666666666,
              "#ed7953"
             ],
             [
              0.7777777777777778,
              "#fb9f3a"
             ],
             [
              0.8888888888888888,
              "#fdca26"
             ],
             [
              1,
              "#f0f921"
             ]
            ],
            "type": "heatmapgl"
           }
          ],
          "histogram": [
           {
            "marker": {
             "colorbar": {
              "outlinewidth": 0,
              "ticks": ""
             }
            },
            "type": "histogram"
           }
          ],
          "histogram2d": [
           {
            "colorbar": {
             "outlinewidth": 0,
             "ticks": ""
            },
            "colorscale": [
             [
              0,
              "#0d0887"
             ],
             [
              0.1111111111111111,
              "#46039f"
             ],
             [
              0.2222222222222222,
              "#7201a8"
             ],
             [
              0.3333333333333333,
              "#9c179e"
             ],
             [
              0.4444444444444444,
              "#bd3786"
             ],
             [
              0.5555555555555556,
              "#d8576b"
             ],
             [
              0.6666666666666666,
              "#ed7953"
             ],
             [
              0.7777777777777778,
              "#fb9f3a"
             ],
             [
              0.8888888888888888,
              "#fdca26"
             ],
             [
              1,
              "#f0f921"
             ]
            ],
            "type": "histogram2d"
           }
          ],
          "histogram2dcontour": [
           {
            "colorbar": {
             "outlinewidth": 0,
             "ticks": ""
            },
            "colorscale": [
             [
              0,
              "#0d0887"
             ],
             [
              0.1111111111111111,
              "#46039f"
             ],
             [
              0.2222222222222222,
              "#7201a8"
             ],
             [
              0.3333333333333333,
              "#9c179e"
             ],
             [
              0.4444444444444444,
              "#bd3786"
             ],
             [
              0.5555555555555556,
              "#d8576b"
             ],
             [
              0.6666666666666666,
              "#ed7953"
             ],
             [
              0.7777777777777778,
              "#fb9f3a"
             ],
             [
              0.8888888888888888,
              "#fdca26"
             ],
             [
              1,
              "#f0f921"
             ]
            ],
            "type": "histogram2dcontour"
           }
          ],
          "mesh3d": [
           {
            "colorbar": {
             "outlinewidth": 0,
             "ticks": ""
            },
            "type": "mesh3d"
           }
          ],
          "parcoords": [
           {
            "line": {
             "colorbar": {
              "outlinewidth": 0,
              "ticks": ""
             }
            },
            "type": "parcoords"
           }
          ],
          "scatter": [
           {
            "marker": {
             "colorbar": {
              "outlinewidth": 0,
              "ticks": ""
             }
            },
            "type": "scatter"
           }
          ],
          "scatter3d": [
           {
            "line": {
             "colorbar": {
              "outlinewidth": 0,
              "ticks": ""
             }
            },
            "marker": {
             "colorbar": {
              "outlinewidth": 0,
              "ticks": ""
             }
            },
            "type": "scatter3d"
           }
          ],
          "scattercarpet": [
           {
            "marker": {
             "colorbar": {
              "outlinewidth": 0,
              "ticks": ""
             }
            },
            "type": "scattercarpet"
           }
          ],
          "scattergeo": [
           {
            "marker": {
             "colorbar": {
              "outlinewidth": 0,
              "ticks": ""
             }
            },
            "type": "scattergeo"
           }
          ],
          "scattergl": [
           {
            "marker": {
             "colorbar": {
              "outlinewidth": 0,
              "ticks": ""
             }
            },
            "type": "scattergl"
           }
          ],
          "scattermapbox": [
           {
            "marker": {
             "colorbar": {
              "outlinewidth": 0,
              "ticks": ""
             }
            },
            "type": "scattermapbox"
           }
          ],
          "scatterpolar": [
           {
            "marker": {
             "colorbar": {
              "outlinewidth": 0,
              "ticks": ""
             }
            },
            "type": "scatterpolar"
           }
          ],
          "scatterpolargl": [
           {
            "marker": {
             "colorbar": {
              "outlinewidth": 0,
              "ticks": ""
             }
            },
            "type": "scatterpolargl"
           }
          ],
          "scatterternary": [
           {
            "marker": {
             "colorbar": {
              "outlinewidth": 0,
              "ticks": ""
             }
            },
            "type": "scatterternary"
           }
          ],
          "surface": [
           {
            "colorbar": {
             "outlinewidth": 0,
             "ticks": ""
            },
            "colorscale": [
             [
              0,
              "#0d0887"
             ],
             [
              0.1111111111111111,
              "#46039f"
             ],
             [
              0.2222222222222222,
              "#7201a8"
             ],
             [
              0.3333333333333333,
              "#9c179e"
             ],
             [
              0.4444444444444444,
              "#bd3786"
             ],
             [
              0.5555555555555556,
              "#d8576b"
             ],
             [
              0.6666666666666666,
              "#ed7953"
             ],
             [
              0.7777777777777778,
              "#fb9f3a"
             ],
             [
              0.8888888888888888,
              "#fdca26"
             ],
             [
              1,
              "#f0f921"
             ]
            ],
            "type": "surface"
           }
          ],
          "table": [
           {
            "cells": {
             "fill": {
              "color": "#EBF0F8"
             },
             "line": {
              "color": "white"
             }
            },
            "header": {
             "fill": {
              "color": "#C8D4E3"
             },
             "line": {
              "color": "white"
             }
            },
            "type": "table"
           }
          ]
         },
         "layout": {
          "annotationdefaults": {
           "arrowcolor": "#2a3f5f",
           "arrowhead": 0,
           "arrowwidth": 1
          },
          "colorscale": {
           "diverging": [
            [
             0,
             "#8e0152"
            ],
            [
             0.1,
             "#c51b7d"
            ],
            [
             0.2,
             "#de77ae"
            ],
            [
             0.3,
             "#f1b6da"
            ],
            [
             0.4,
             "#fde0ef"
            ],
            [
             0.5,
             "#f7f7f7"
            ],
            [
             0.6,
             "#e6f5d0"
            ],
            [
             0.7,
             "#b8e186"
            ],
            [
             0.8,
             "#7fbc41"
            ],
            [
             0.9,
             "#4d9221"
            ],
            [
             1,
             "#276419"
            ]
           ],
           "sequential": [
            [
             0,
             "#0d0887"
            ],
            [
             0.1111111111111111,
             "#46039f"
            ],
            [
             0.2222222222222222,
             "#7201a8"
            ],
            [
             0.3333333333333333,
             "#9c179e"
            ],
            [
             0.4444444444444444,
             "#bd3786"
            ],
            [
             0.5555555555555556,
             "#d8576b"
            ],
            [
             0.6666666666666666,
             "#ed7953"
            ],
            [
             0.7777777777777778,
             "#fb9f3a"
            ],
            [
             0.8888888888888888,
             "#fdca26"
            ],
            [
             1,
             "#f0f921"
            ]
           ],
           "sequentialminus": [
            [
             0,
             "#0d0887"
            ],
            [
             0.1111111111111111,
             "#46039f"
            ],
            [
             0.2222222222222222,
             "#7201a8"
            ],
            [
             0.3333333333333333,
             "#9c179e"
            ],
            [
             0.4444444444444444,
             "#bd3786"
            ],
            [
             0.5555555555555556,
             "#d8576b"
            ],
            [
             0.6666666666666666,
             "#ed7953"
            ],
            [
             0.7777777777777778,
             "#fb9f3a"
            ],
            [
             0.8888888888888888,
             "#fdca26"
            ],
            [
             1,
             "#f0f921"
            ]
           ]
          },
          "colorway": [
           "#636efa",
           "#EF553B",
           "#00cc96",
           "#ab63fa",
           "#FFA15A",
           "#19d3f3",
           "#FF6692",
           "#B6E880",
           "#FF97FF",
           "#FECB52"
          ],
          "font": {
           "color": "#2a3f5f"
          },
          "geo": {
           "bgcolor": "white",
           "lakecolor": "white",
           "landcolor": "#E5ECF6",
           "showlakes": true,
           "showland": true,
           "subunitcolor": "white"
          },
          "hoverlabel": {
           "align": "left"
          },
          "hovermode": "closest",
          "mapbox": {
           "style": "light"
          },
          "paper_bgcolor": "white",
          "plot_bgcolor": "#E5ECF6",
          "polar": {
           "angularaxis": {
            "gridcolor": "white",
            "linecolor": "white",
            "ticks": ""
           },
           "bgcolor": "#E5ECF6",
           "radialaxis": {
            "gridcolor": "white",
            "linecolor": "white",
            "ticks": ""
           }
          },
          "scene": {
           "xaxis": {
            "backgroundcolor": "#E5ECF6",
            "gridcolor": "white",
            "gridwidth": 2,
            "linecolor": "white",
            "showbackground": true,
            "ticks": "",
            "zerolinecolor": "white"
           },
           "yaxis": {
            "backgroundcolor": "#E5ECF6",
            "gridcolor": "white",
            "gridwidth": 2,
            "linecolor": "white",
            "showbackground": true,
            "ticks": "",
            "zerolinecolor": "white"
           },
           "zaxis": {
            "backgroundcolor": "#E5ECF6",
            "gridcolor": "white",
            "gridwidth": 2,
            "linecolor": "white",
            "showbackground": true,
            "ticks": "",
            "zerolinecolor": "white"
           }
          },
          "shapedefaults": {
           "line": {
            "color": "#2a3f5f"
           }
          },
          "ternary": {
           "aaxis": {
            "gridcolor": "white",
            "linecolor": "white",
            "ticks": ""
           },
           "baxis": {
            "gridcolor": "white",
            "linecolor": "white",
            "ticks": ""
           },
           "bgcolor": "#E5ECF6",
           "caxis": {
            "gridcolor": "white",
            "linecolor": "white",
            "ticks": ""
           }
          },
          "title": {
           "x": 0.05
          },
          "xaxis": {
           "automargin": true,
           "gridcolor": "white",
           "linecolor": "white",
           "ticks": "",
           "zerolinecolor": "white",
           "zerolinewidth": 2
          },
          "yaxis": {
           "automargin": true,
           "gridcolor": "white",
           "linecolor": "white",
           "ticks": "",
           "zerolinecolor": "white",
           "zerolinewidth": 2
          }
         }
        },
        "xaxis": {
         "anchor": "y",
         "domain": [
          0,
          0.98
         ],
         "title": {
          "text": "DataPesquisa"
         }
        },
        "yaxis": {
         "anchor": "x",
         "domain": [
          0,
          1
         ],
         "title": {
          "text": "preco"
         }
        }
       }
      },
      "text/html": [
       "<div>\n",
       "        \n",
       "        \n",
       "            <div id=\"2616fd55-4408-46b6-9cd6-f334340be7a4\" class=\"plotly-graph-div\" style=\"height:600px; width:100%;\"></div>\n",
       "            <script type=\"text/javascript\">\n",
       "                require([\"plotly\"], function(Plotly) {\n",
       "                    window.PLOTLYENV=window.PLOTLYENV || {};\n",
       "                    \n",
       "                if (document.getElementById(\"2616fd55-4408-46b6-9cd6-f334340be7a4\")) {\n",
       "                    Plotly.newPlot(\n",
       "                        '2616fd55-4408-46b6-9cd6-f334340be7a4',\n",
       "                        [],\n",
       "                        {\"height\": 600, \"legend\": {\"tracegroupgap\": 0}, \"margin\": {\"t\": 60}, \"template\": {\"data\": {\"bar\": [{\"error_x\": {\"color\": \"#2a3f5f\"}, \"error_y\": {\"color\": \"#2a3f5f\"}, \"marker\": {\"line\": {\"color\": \"#E5ECF6\", \"width\": 0.5}}, \"type\": \"bar\"}], \"barpolar\": [{\"marker\": {\"line\": {\"color\": \"#E5ECF6\", \"width\": 0.5}}, \"type\": \"barpolar\"}], \"carpet\": [{\"aaxis\": {\"endlinecolor\": \"#2a3f5f\", \"gridcolor\": \"white\", \"linecolor\": \"white\", \"minorgridcolor\": \"white\", \"startlinecolor\": \"#2a3f5f\"}, \"baxis\": {\"endlinecolor\": \"#2a3f5f\", \"gridcolor\": \"white\", \"linecolor\": \"white\", \"minorgridcolor\": \"white\", \"startlinecolor\": \"#2a3f5f\"}, \"type\": \"carpet\"}], \"choropleth\": [{\"colorbar\": {\"outlinewidth\": 0, \"ticks\": \"\"}, \"type\": \"choropleth\"}], \"contour\": [{\"colorbar\": {\"outlinewidth\": 0, \"ticks\": \"\"}, \"colorscale\": [[0.0, \"#0d0887\"], [0.1111111111111111, \"#46039f\"], [0.2222222222222222, \"#7201a8\"], [0.3333333333333333, \"#9c179e\"], [0.4444444444444444, \"#bd3786\"], [0.5555555555555556, \"#d8576b\"], [0.6666666666666666, \"#ed7953\"], [0.7777777777777778, \"#fb9f3a\"], [0.8888888888888888, \"#fdca26\"], [1.0, \"#f0f921\"]], \"type\": \"contour\"}], \"contourcarpet\": [{\"colorbar\": {\"outlinewidth\": 0, \"ticks\": \"\"}, \"type\": \"contourcarpet\"}], \"heatmap\": [{\"colorbar\": {\"outlinewidth\": 0, \"ticks\": \"\"}, \"colorscale\": [[0.0, \"#0d0887\"], [0.1111111111111111, \"#46039f\"], [0.2222222222222222, \"#7201a8\"], [0.3333333333333333, \"#9c179e\"], [0.4444444444444444, \"#bd3786\"], [0.5555555555555556, \"#d8576b\"], [0.6666666666666666, \"#ed7953\"], [0.7777777777777778, \"#fb9f3a\"], [0.8888888888888888, \"#fdca26\"], [1.0, \"#f0f921\"]], \"type\": \"heatmap\"}], \"heatmapgl\": [{\"colorbar\": {\"outlinewidth\": 0, \"ticks\": \"\"}, \"colorscale\": [[0.0, \"#0d0887\"], [0.1111111111111111, \"#46039f\"], [0.2222222222222222, \"#7201a8\"], [0.3333333333333333, \"#9c179e\"], [0.4444444444444444, \"#bd3786\"], [0.5555555555555556, \"#d8576b\"], [0.6666666666666666, \"#ed7953\"], [0.7777777777777778, \"#fb9f3a\"], [0.8888888888888888, \"#fdca26\"], [1.0, \"#f0f921\"]], \"type\": \"heatmapgl\"}], \"histogram\": [{\"marker\": {\"colorbar\": {\"outlinewidth\": 0, \"ticks\": \"\"}}, \"type\": \"histogram\"}], \"histogram2d\": [{\"colorbar\": {\"outlinewidth\": 0, \"ticks\": \"\"}, \"colorscale\": [[0.0, \"#0d0887\"], [0.1111111111111111, \"#46039f\"], [0.2222222222222222, \"#7201a8\"], [0.3333333333333333, \"#9c179e\"], [0.4444444444444444, \"#bd3786\"], [0.5555555555555556, \"#d8576b\"], [0.6666666666666666, \"#ed7953\"], [0.7777777777777778, \"#fb9f3a\"], [0.8888888888888888, \"#fdca26\"], [1.0, \"#f0f921\"]], \"type\": \"histogram2d\"}], \"histogram2dcontour\": [{\"colorbar\": {\"outlinewidth\": 0, \"ticks\": \"\"}, \"colorscale\": [[0.0, \"#0d0887\"], [0.1111111111111111, \"#46039f\"], [0.2222222222222222, \"#7201a8\"], [0.3333333333333333, \"#9c179e\"], [0.4444444444444444, \"#bd3786\"], [0.5555555555555556, \"#d8576b\"], [0.6666666666666666, \"#ed7953\"], [0.7777777777777778, \"#fb9f3a\"], [0.8888888888888888, \"#fdca26\"], [1.0, \"#f0f921\"]], \"type\": \"histogram2dcontour\"}], \"mesh3d\": [{\"colorbar\": {\"outlinewidth\": 0, \"ticks\": \"\"}, \"type\": \"mesh3d\"}], \"parcoords\": [{\"line\": {\"colorbar\": {\"outlinewidth\": 0, \"ticks\": \"\"}}, \"type\": \"parcoords\"}], \"scatter\": [{\"marker\": {\"colorbar\": {\"outlinewidth\": 0, \"ticks\": \"\"}}, \"type\": \"scatter\"}], \"scatter3d\": [{\"line\": {\"colorbar\": {\"outlinewidth\": 0, \"ticks\": \"\"}}, \"marker\": {\"colorbar\": {\"outlinewidth\": 0, \"ticks\": \"\"}}, \"type\": \"scatter3d\"}], \"scattercarpet\": [{\"marker\": {\"colorbar\": {\"outlinewidth\": 0, \"ticks\": \"\"}}, \"type\": \"scattercarpet\"}], \"scattergeo\": [{\"marker\": {\"colorbar\": {\"outlinewidth\": 0, \"ticks\": \"\"}}, \"type\": \"scattergeo\"}], \"scattergl\": [{\"marker\": {\"colorbar\": {\"outlinewidth\": 0, \"ticks\": \"\"}}, \"type\": \"scattergl\"}], \"scattermapbox\": [{\"marker\": {\"colorbar\": {\"outlinewidth\": 0, \"ticks\": \"\"}}, \"type\": \"scattermapbox\"}], \"scatterpolar\": [{\"marker\": {\"colorbar\": {\"outlinewidth\": 0, \"ticks\": \"\"}}, \"type\": \"scatterpolar\"}], \"scatterpolargl\": [{\"marker\": {\"colorbar\": {\"outlinewidth\": 0, \"ticks\": \"\"}}, \"type\": \"scatterpolargl\"}], \"scatterternary\": [{\"marker\": {\"colorbar\": {\"outlinewidth\": 0, \"ticks\": \"\"}}, \"type\": \"scatterternary\"}], \"surface\": [{\"colorbar\": {\"outlinewidth\": 0, \"ticks\": \"\"}, \"colorscale\": [[0.0, \"#0d0887\"], [0.1111111111111111, \"#46039f\"], [0.2222222222222222, \"#7201a8\"], [0.3333333333333333, \"#9c179e\"], [0.4444444444444444, \"#bd3786\"], [0.5555555555555556, \"#d8576b\"], [0.6666666666666666, \"#ed7953\"], [0.7777777777777778, \"#fb9f3a\"], [0.8888888888888888, \"#fdca26\"], [1.0, \"#f0f921\"]], \"type\": \"surface\"}], \"table\": [{\"cells\": {\"fill\": {\"color\": \"#EBF0F8\"}, \"line\": {\"color\": \"white\"}}, \"header\": {\"fill\": {\"color\": \"#C8D4E3\"}, \"line\": {\"color\": \"white\"}}, \"type\": \"table\"}]}, \"layout\": {\"annotationdefaults\": {\"arrowcolor\": \"#2a3f5f\", \"arrowhead\": 0, \"arrowwidth\": 1}, \"colorscale\": {\"diverging\": [[0, \"#8e0152\"], [0.1, \"#c51b7d\"], [0.2, \"#de77ae\"], [0.3, \"#f1b6da\"], [0.4, \"#fde0ef\"], [0.5, \"#f7f7f7\"], [0.6, \"#e6f5d0\"], [0.7, \"#b8e186\"], [0.8, \"#7fbc41\"], [0.9, \"#4d9221\"], [1, \"#276419\"]], \"sequential\": [[0.0, \"#0d0887\"], [0.1111111111111111, \"#46039f\"], [0.2222222222222222, \"#7201a8\"], [0.3333333333333333, \"#9c179e\"], [0.4444444444444444, \"#bd3786\"], [0.5555555555555556, \"#d8576b\"], [0.6666666666666666, \"#ed7953\"], [0.7777777777777778, \"#fb9f3a\"], [0.8888888888888888, \"#fdca26\"], [1.0, \"#f0f921\"]], \"sequentialminus\": [[0.0, \"#0d0887\"], [0.1111111111111111, \"#46039f\"], [0.2222222222222222, \"#7201a8\"], [0.3333333333333333, \"#9c179e\"], [0.4444444444444444, \"#bd3786\"], [0.5555555555555556, \"#d8576b\"], [0.6666666666666666, \"#ed7953\"], [0.7777777777777778, \"#fb9f3a\"], [0.8888888888888888, \"#fdca26\"], [1.0, \"#f0f921\"]]}, \"colorway\": [\"#636efa\", \"#EF553B\", \"#00cc96\", \"#ab63fa\", \"#FFA15A\", \"#19d3f3\", \"#FF6692\", \"#B6E880\", \"#FF97FF\", \"#FECB52\"], \"font\": {\"color\": \"#2a3f5f\"}, \"geo\": {\"bgcolor\": \"white\", \"lakecolor\": \"white\", \"landcolor\": \"#E5ECF6\", \"showlakes\": true, \"showland\": true, \"subunitcolor\": \"white\"}, \"hoverlabel\": {\"align\": \"left\"}, \"hovermode\": \"closest\", \"mapbox\": {\"style\": \"light\"}, \"paper_bgcolor\": \"white\", \"plot_bgcolor\": \"#E5ECF6\", \"polar\": {\"angularaxis\": {\"gridcolor\": \"white\", \"linecolor\": \"white\", \"ticks\": \"\"}, \"bgcolor\": \"#E5ECF6\", \"radialaxis\": {\"gridcolor\": \"white\", \"linecolor\": \"white\", \"ticks\": \"\"}}, \"scene\": {\"xaxis\": {\"backgroundcolor\": \"#E5ECF6\", \"gridcolor\": \"white\", \"gridwidth\": 2, \"linecolor\": \"white\", \"showbackground\": true, \"ticks\": \"\", \"zerolinecolor\": \"white\"}, \"yaxis\": {\"backgroundcolor\": \"#E5ECF6\", \"gridcolor\": \"white\", \"gridwidth\": 2, \"linecolor\": \"white\", \"showbackground\": true, \"ticks\": \"\", \"zerolinecolor\": \"white\"}, \"zaxis\": {\"backgroundcolor\": \"#E5ECF6\", \"gridcolor\": \"white\", \"gridwidth\": 2, \"linecolor\": \"white\", \"showbackground\": true, \"ticks\": \"\", \"zerolinecolor\": \"white\"}}, \"shapedefaults\": {\"line\": {\"color\": \"#2a3f5f\"}}, \"ternary\": {\"aaxis\": {\"gridcolor\": \"white\", \"linecolor\": \"white\", \"ticks\": \"\"}, \"baxis\": {\"gridcolor\": \"white\", \"linecolor\": \"white\", \"ticks\": \"\"}, \"bgcolor\": \"#E5ECF6\", \"caxis\": {\"gridcolor\": \"white\", \"linecolor\": \"white\", \"ticks\": \"\"}}, \"title\": {\"x\": 0.05}, \"xaxis\": {\"automargin\": true, \"gridcolor\": \"white\", \"linecolor\": \"white\", \"ticks\": \"\", \"zerolinecolor\": \"white\", \"zerolinewidth\": 2}, \"yaxis\": {\"automargin\": true, \"gridcolor\": \"white\", \"linecolor\": \"white\", \"ticks\": \"\", \"zerolinecolor\": \"white\", \"zerolinewidth\": 2}}}, \"xaxis\": {\"anchor\": \"y\", \"domain\": [0.0, 0.98], \"title\": {\"text\": \"DataPesquisa\"}}, \"yaxis\": {\"anchor\": \"x\", \"domain\": [0.0, 1.0], \"title\": {\"text\": \"preco\"}}},\n",
       "                        {\"responsive\": true}\n",
       "                    ).then(function(){\n",
       "                            \n",
       "var gd = document.getElementById('2616fd55-4408-46b6-9cd6-f334340be7a4');\n",
       "var x = new MutationObserver(function (mutations, observer) {{\n",
       "        var display = window.getComputedStyle(gd).display;\n",
       "        if (!display || display === 'none') {{\n",
       "            console.log([gd, 'removed!']);\n",
       "            Plotly.purge(gd);\n",
       "            observer.disconnect();\n",
       "        }}\n",
       "}});\n",
       "\n",
       "// Listen for the removal of the full notebook cells\n",
       "var notebookContainer = gd.closest('#notebook-container');\n",
       "if (notebookContainer) {{\n",
       "    x.observe(notebookContainer, {childList: true});\n",
       "}}\n",
       "\n",
       "// Listen for the clearing of the current output cell\n",
       "var outputEl = gd.closest('.output');\n",
       "if (outputEl) {{\n",
       "    x.observe(outputEl, {childList: true});\n",
       "}}\n",
       "\n",
       "                        })\n",
       "                };\n",
       "                });\n",
       "            </script>\n",
       "        </div>"
      ]
     },
     "metadata": {},
     "output_type": "display_data"
    }
   ],
   "source": [
    "import plotly.express as px\n",
    "\n",
    "for graph in datasets: \n",
    "    #graph = graph.query('Ida ==\"2020-07-05\" & Volta ==\"2020-07-20\"')\n",
    "    graph = graph.query('de ==\"POA\" & Dias >=14 & Dias <=17')# | de ==\"GRU\"')\n",
    "    fig = px.line(graph.drop_duplicates(), x=\"DataPesquisa\", y=\"preco\", color=\"EspecificoTodos\",hover_data=['de','para','Ida', 'Volta','preco'])\n",
    "    fig.show()"
   ]
  },
  {
   "cell_type": "code",
   "execution_count": null,
   "metadata": {},
   "outputs": [],
   "source": []
  },
  {
   "cell_type": "code",
   "execution_count": 72,
   "metadata": {},
   "outputs": [
    {
     "name": "stdout",
     "output_type": "stream",
     "text": [
      "Index(['Unnamed: 0', 'DataPesquisa', 'Ida', 'Volta', 'de', 'para', 'preco',\n",
      "       'DataPesquisaDATA', 'Dias', 'OrigemDestino', 'EspecificoIda',\n",
      "       'EspecificoVolta', 'EspecificoTodos'],\n",
      "      dtype='object')\n"
     ]
    }
   ],
   "source": [
    "import pandas_profiling\n",
    "print(dfGraficoPOA_MIA.columns)"
   ]
  },
  {
   "cell_type": "code",
   "execution_count": 73,
   "metadata": {},
   "outputs": [],
   "source": [
    "#pandasDf=dfGraficoPOA_MIA[['Ida', 'Volta', 'de', 'para', 'preco','DataPesquisaDATA', 'Dias']]\n",
    "#display(pandasDf.head(3))\n",
    "#pandas_profiling.ProfileReport(pandasDf)\n"
   ]
  },
  {
   "cell_type": "code",
   "execution_count": 74,
   "metadata": {},
   "outputs": [],
   "source": [
    "def highlight_max(data, color='yellow'):\n",
    "    '''\n",
    "    highlight the maximum in a Series or DataFrame\n",
    "    '''\n",
    "    attr = 'background-color: {}'.format(color)\n",
    "    #remove % and cast to float\n",
    "    data = data.replace('%','', regex=True).astype(float)\n",
    "    if data.ndim == 1:  # Series from .apply(axis=0) or axis=1\n",
    "        is_max = data == data.max()\n",
    "        return [attr if v else '' for v in is_max]\n",
    "    else:  # from .apply(axis=None)\n",
    "        is_max = data == data.max().max()\n",
    "        return pd.DataFrame(np.where(is_max, attr, ''),index=data.index, columns=data.columns)\n",
    "\n",
    "def highlight_min(data, color='green'):\n",
    "    '''\n",
    "    highlight the maximum in a Series or DataFrame\n",
    "    '''\n",
    "    attr = 'background-color: {}'.format(color)\n",
    "    #remove % and cast to float\n",
    "    data = data.replace('%','', regex=True).astype(float)\n",
    "    if data.ndim == 1:  # Series from .apply(axis=0) or axis=1\n",
    "        is_min = data == data.min()\n",
    "        return [attr if v else '' for v in is_min]\n",
    "    else:  # from .apply(axis=None)\n",
    "        is_min = data == data.min().min()\n",
    "        return pd.DataFrame(np.where(is_min, attr, ''),index=data.index, columns=data.columns)"
   ]
  },
  {
   "cell_type": "code",
   "execution_count": 75,
   "metadata": {},
   "outputs": [
    {
     "data": {
      "text/html": [
       "<div>\n",
       "<style scoped>\n",
       "    .dataframe tbody tr th:only-of-type {\n",
       "        vertical-align: middle;\n",
       "    }\n",
       "\n",
       "    .dataframe tbody tr th {\n",
       "        vertical-align: top;\n",
       "    }\n",
       "\n",
       "    .dataframe thead th {\n",
       "        text-align: right;\n",
       "    }\n",
       "</style>\n",
       "<table border=\"1\" class=\"dataframe\">\n",
       "  <thead>\n",
       "    <tr style=\"text-align: right;\">\n",
       "      <th></th>\n",
       "      <th>Unnamed: 0</th>\n",
       "      <th>DataPesquisa</th>\n",
       "      <th>Ida</th>\n",
       "      <th>Volta</th>\n",
       "      <th>de</th>\n",
       "      <th>para</th>\n",
       "      <th>preco</th>\n",
       "      <th>DataPesquisaDATA</th>\n",
       "      <th>Dias</th>\n",
       "      <th>OrigemDestino</th>\n",
       "      <th>EspecificoIda</th>\n",
       "      <th>EspecificoVolta</th>\n",
       "      <th>EspecificoTodos</th>\n",
       "    </tr>\n",
       "  </thead>\n",
       "  <tbody>\n",
       "    <tr>\n",
       "      <th>0</th>\n",
       "      <td>0</td>\n",
       "      <td>16/01/2020 15</td>\n",
       "      <td>2020-07-05</td>\n",
       "      <td>2020-07-20</td>\n",
       "      <td>POA</td>\n",
       "      <td>ATL</td>\n",
       "      <td>6561</td>\n",
       "      <td>2020-01-16</td>\n",
       "      <td>15</td>\n",
       "      <td>POAATL</td>\n",
       "      <td>POAATL-2020-07-05</td>\n",
       "      <td>POAATL-2020-07-20</td>\n",
       "      <td>POAATL-2020-07-05-2020-07-20</td>\n",
       "    </tr>\n",
       "    <tr>\n",
       "      <th>10</th>\n",
       "      <td>10</td>\n",
       "      <td>16/01/2020 15</td>\n",
       "      <td>2020-07-03</td>\n",
       "      <td>2020-07-19</td>\n",
       "      <td>POA</td>\n",
       "      <td>MIA</td>\n",
       "      <td>3789</td>\n",
       "      <td>2020-01-16</td>\n",
       "      <td>16</td>\n",
       "      <td>POAMIA</td>\n",
       "      <td>POAMIA-2020-07-03</td>\n",
       "      <td>POAMIA-2020-07-19</td>\n",
       "      <td>POAMIA-2020-07-03-2020-07-19</td>\n",
       "    </tr>\n",
       "    <tr>\n",
       "      <th>11</th>\n",
       "      <td>11</td>\n",
       "      <td>16/01/2020 15</td>\n",
       "      <td>2020-07-03</td>\n",
       "      <td>2020-07-20</td>\n",
       "      <td>POA</td>\n",
       "      <td>MIA</td>\n",
       "      <td>3748</td>\n",
       "      <td>2020-01-16</td>\n",
       "      <td>17</td>\n",
       "      <td>POAMIA</td>\n",
       "      <td>POAMIA-2020-07-03</td>\n",
       "      <td>POAMIA-2020-07-20</td>\n",
       "      <td>POAMIA-2020-07-03-2020-07-20</td>\n",
       "    </tr>\n",
       "  </tbody>\n",
       "</table>\n",
       "</div>"
      ],
      "text/plain": [
       "    Unnamed: 0   DataPesquisa         Ida       Volta   de para  preco  \\\n",
       "0            0  16/01/2020 15  2020-07-05  2020-07-20  POA  ATL   6561   \n",
       "10          10  16/01/2020 15  2020-07-03  2020-07-19  POA  MIA   3789   \n",
       "11          11  16/01/2020 15  2020-07-03  2020-07-20  POA  MIA   3748   \n",
       "\n",
       "   DataPesquisaDATA  Dias OrigemDestino      EspecificoIda    EspecificoVolta  \\\n",
       "0        2020-01-16    15        POAATL  POAATL-2020-07-05  POAATL-2020-07-20   \n",
       "10       2020-01-16    16        POAMIA  POAMIA-2020-07-03  POAMIA-2020-07-19   \n",
       "11       2020-01-16    17        POAMIA  POAMIA-2020-07-03  POAMIA-2020-07-20   \n",
       "\n",
       "                 EspecificoTodos  \n",
       "0   POAATL-2020-07-05-2020-07-20  \n",
       "10  POAMIA-2020-07-03-2020-07-19  \n",
       "11  POAMIA-2020-07-03-2020-07-20  "
      ]
     },
     "metadata": {},
     "output_type": "display_data"
    }
   ],
   "source": [
    "dfPivot = dfGrafico.query('de == \"POA\" or de==\"GRU\"')\n",
    "display(dfPivot.head(3))"
   ]
  },
  {
   "cell_type": "code",
   "execution_count": 76,
   "metadata": {},
   "outputs": [],
   "source": [
    "dfPivot = pd.pivot_table(dfPivot,values='preco',index=['de','para','Dias','Ida'],columns='DataPesquisa')"
   ]
  },
  {
   "cell_type": "markdown",
   "metadata": {},
   "source": [
    "## Maiores valores da serie historica"
   ]
  },
  {
   "cell_type": "code",
   "execution_count": 77,
   "metadata": {
    "scrolled": false
   },
   "outputs": [],
   "source": [
    "#display(dfPivot)\n",
    "#dfPivot.style.apply(highlight_max)"
   ]
  },
  {
   "cell_type": "markdown",
   "metadata": {},
   "source": [
    "## Menores valores da serie historica"
   ]
  },
  {
   "cell_type": "code",
   "execution_count": 78,
   "metadata": {
    "scrolled": false
   },
   "outputs": [],
   "source": [
    "#dfPivot.style.apply(highlight_min)"
   ]
  },
  {
   "cell_type": "code",
   "execution_count": 79,
   "metadata": {},
   "outputs": [],
   "source": [
    "dfLastSearch = dfGrafico.query('de == \"POA\" or de==\"GRU\"')\n",
    "dfLastSearch = dfLastSearch[dfLastSearch['DataPesquisaDATA']>='21/01/2020']\n",
    "#dfLastSearchPivot = pd.pivot_table(dfLastSearch,values='preco',index=['de','para','Dias','Ida','Volta'],columns='DataPesquisa')"
   ]
  },
  {
   "cell_type": "code",
   "execution_count": 80,
   "metadata": {},
   "outputs": [],
   "source": [
    "#dfLastSearchPivot.style.apply(highlight_min)"
   ]
  },
  {
   "cell_type": "code",
   "execution_count": 81,
   "metadata": {},
   "outputs": [],
   "source": [
    "import pandas as pd\n",
    "import matplotlib.pyplot as plt\n",
    "from matplotlib import colors\n",
    "\n",
    "def background_gradient(s, m, M, cmap='PuBu', low=0, high=0):\n",
    "    rng = M - m\n",
    "    norm = colors.Normalize(m - (rng * low),\n",
    "                            M + (rng * high))\n",
    "    normed = norm(s.values)\n",
    "    c = [colors.rgb2hex(x) for x in plt.cm.get_cmap(cmap)(normed)]\n",
    "    return ['background-color: %s' % color for color in c]\n",
    "\n",
    "#df = pd.DataFrame([[3,2,10,4],[20,1,3,2],[5,4,6,1]])\n"
   ]
  },
  {
   "cell_type": "code",
   "execution_count": 82,
   "metadata": {
    "scrolled": false
   },
   "outputs": [
    {
     "data": {
      "text/html": [
       "<style  type=\"text/css\" >\n",
       "    #T_fa4adc92_3e18_11ea_b8e9_001a7dda7111row0_col0 {\n",
       "            background-color:  #fdc38d;\n",
       "            color:  #000000;\n",
       "        }    #T_fa4adc92_3e18_11ea_b8e9_001a7dda7111row0_col1 {\n",
       "            background-color:  #fca06b;\n",
       "            color:  #000000;\n",
       "        }    #T_fa4adc92_3e18_11ea_b8e9_001a7dda7111row0_col2 {\n",
       "            background-color:  #fdbc85;\n",
       "            color:  #000000;\n",
       "        }    #T_fa4adc92_3e18_11ea_b8e9_001a7dda7111row0_col3 {\n",
       "            background-color:  #fdaf79;\n",
       "            color:  #000000;\n",
       "        }    #T_fa4adc92_3e18_11ea_b8e9_001a7dda7111row0_col4 {\n",
       "            background-color:  #fdc58e;\n",
       "            color:  #000000;\n",
       "        }    #T_fa4adc92_3e18_11ea_b8e9_001a7dda7111row0_col5 {\n",
       "            background-color:  #fee3bd;\n",
       "            color:  #000000;\n",
       "        }    #T_fa4adc92_3e18_11ea_b8e9_001a7dda7111row0_col6 {\n",
       "            background-color:  #fee2bb;\n",
       "            color:  #000000;\n",
       "        }    #T_fa4adc92_3e18_11ea_b8e9_001a7dda7111row1_col0 {\n",
       "            background-color:  #fdce97;\n",
       "            color:  #000000;\n",
       "        }    #T_fa4adc92_3e18_11ea_b8e9_001a7dda7111row1_col1 {\n",
       "            background-color:  #f88053;\n",
       "            color:  #000000;\n",
       "        }    #T_fa4adc92_3e18_11ea_b8e9_001a7dda7111row1_col2 {\n",
       "            background-color:  #fb8957;\n",
       "            color:  #000000;\n",
       "        }    #T_fa4adc92_3e18_11ea_b8e9_001a7dda7111row1_col3 {\n",
       "            background-color:  #fc8c59;\n",
       "            color:  #000000;\n",
       "        }    #T_fa4adc92_3e18_11ea_b8e9_001a7dda7111row1_col4 {\n",
       "            background-color:  #fdd6a3;\n",
       "            color:  #000000;\n",
       "        }    #T_fa4adc92_3e18_11ea_b8e9_001a7dda7111row1_col5 {\n",
       "            background-color:  #fddcaf;\n",
       "            color:  #000000;\n",
       "        }    #T_fa4adc92_3e18_11ea_b8e9_001a7dda7111row1_col6 {\n",
       "            background-color:  #fdc992;\n",
       "            color:  #000000;\n",
       "        }    #T_fa4adc92_3e18_11ea_b8e9_001a7dda7111row2_col0 {\n",
       "            background-color:  #feefd9;\n",
       "            color:  #000000;\n",
       "        }    #T_fa4adc92_3e18_11ea_b8e9_001a7dda7111row2_col1 {\n",
       "            background-color:  #fee6c4;\n",
       "            color:  #000000;\n",
       "        }    #T_fa4adc92_3e18_11ea_b8e9_001a7dda7111row2_col2 {\n",
       "            background-color:  #fdd49f;\n",
       "            color:  #000000;\n",
       "        }    #T_fa4adc92_3e18_11ea_b8e9_001a7dda7111row2_col3 {\n",
       "            background-color:  #fee0b8;\n",
       "            color:  #000000;\n",
       "        }    #T_fa4adc92_3e18_11ea_b8e9_001a7dda7111row2_col4 {\n",
       "            background-color:  #fee8c8;\n",
       "            color:  #000000;\n",
       "        }    #T_fa4adc92_3e18_11ea_b8e9_001a7dda7111row2_col5 {\n",
       "            background-color:  #fff2e0;\n",
       "            color:  #000000;\n",
       "        }    #T_fa4adc92_3e18_11ea_b8e9_001a7dda7111row2_col6 {\n",
       "            background-color:  #feedd4;\n",
       "            color:  #000000;\n",
       "        }    #T_fa4adc92_3e18_11ea_b8e9_001a7dda7111row3_col0 {\n",
       "            background-color:  #fdc38d;\n",
       "            color:  #000000;\n",
       "        }    #T_fa4adc92_3e18_11ea_b8e9_001a7dda7111row3_col1 {\n",
       "            background-color:  #f26e4c;\n",
       "            color:  #000000;\n",
       "        }    #T_fa4adc92_3e18_11ea_b8e9_001a7dda7111row3_col2 {\n",
       "            background-color:  #f98556;\n",
       "            color:  #000000;\n",
       "        }    #T_fa4adc92_3e18_11ea_b8e9_001a7dda7111row3_col3 {\n",
       "            background-color:  #fb8a58;\n",
       "            color:  #000000;\n",
       "        }    #T_fa4adc92_3e18_11ea_b8e9_001a7dda7111row3_col4 {\n",
       "            background-color:  #fdcd96;\n",
       "            color:  #000000;\n",
       "        }    #T_fa4adc92_3e18_11ea_b8e9_001a7dda7111row3_col5 {\n",
       "            background-color:  #fdd6a3;\n",
       "            color:  #000000;\n",
       "        }    #T_fa4adc92_3e18_11ea_b8e9_001a7dda7111row3_col6 {\n",
       "            background-color:  #fdbf89;\n",
       "            color:  #000000;\n",
       "        }    #T_fa4adc92_3e18_11ea_b8e9_001a7dda7111row4_col0 {\n",
       "            background-color:  #f77d52;\n",
       "            color:  #000000;\n",
       "        }    #T_fa4adc92_3e18_11ea_b8e9_001a7dda7111row4_col1 {\n",
       "            background-color:  #f3714d;\n",
       "            color:  #000000;\n",
       "        }    #T_fa4adc92_3e18_11ea_b8e9_001a7dda7111row4_col2 {\n",
       "            background-color:  #f57750;\n",
       "            color:  #000000;\n",
       "        }    #T_fa4adc92_3e18_11ea_b8e9_001a7dda7111row4_col3 {\n",
       "            background-color:  #fca36e;\n",
       "            color:  #000000;\n",
       "        }    #T_fa4adc92_3e18_11ea_b8e9_001a7dda7111row4_col4 {\n",
       "            background-color:  #fdcc96;\n",
       "            color:  #000000;\n",
       "        }    #T_fa4adc92_3e18_11ea_b8e9_001a7dda7111row4_col5 {\n",
       "            background-color:  #fdcd96;\n",
       "            color:  #000000;\n",
       "        }    #T_fa4adc92_3e18_11ea_b8e9_001a7dda7111row4_col6 {\n",
       "            background-color:  #fdbc85;\n",
       "            color:  #000000;\n",
       "        }    #T_fa4adc92_3e18_11ea_b8e9_001a7dda7111row5_col0 {\n",
       "            background-color:  #feedd4;\n",
       "            color:  #000000;\n",
       "        }    #T_fa4adc92_3e18_11ea_b8e9_001a7dda7111row5_col1 {\n",
       "            background-color:  #fee7c7;\n",
       "            color:  #000000;\n",
       "        }    #T_fa4adc92_3e18_11ea_b8e9_001a7dda7111row5_col2 {\n",
       "            background-color:  #fee8c8;\n",
       "            color:  #000000;\n",
       "        }    #T_fa4adc92_3e18_11ea_b8e9_001a7dda7111row5_col3 {\n",
       "            background-color:  #feeed5;\n",
       "            color:  #000000;\n",
       "        }    #T_fa4adc92_3e18_11ea_b8e9_001a7dda7111row5_col4 {\n",
       "            background-color:  #fff5e7;\n",
       "            color:  #000000;\n",
       "        }    #T_fa4adc92_3e18_11ea_b8e9_001a7dda7111row5_col5 {\n",
       "            background-color:  #fff7ec;\n",
       "            color:  #000000;\n",
       "        }    #T_fa4adc92_3e18_11ea_b8e9_001a7dda7111row5_col6 {\n",
       "            background-color:  #feeed7;\n",
       "            color:  #000000;\n",
       "        }    #T_fa4adc92_3e18_11ea_b8e9_001a7dda7111row6_col0 {\n",
       "            background-color:  #fdd19b;\n",
       "            color:  #000000;\n",
       "        }    #T_fa4adc92_3e18_11ea_b8e9_001a7dda7111row6_col1 {\n",
       "            background-color:  #f26e4c;\n",
       "            color:  #000000;\n",
       "        }    #T_fa4adc92_3e18_11ea_b8e9_001a7dda7111row6_col2 {\n",
       "            background-color:  #fa8656;\n",
       "            color:  #000000;\n",
       "        }    #T_fa4adc92_3e18_11ea_b8e9_001a7dda7111row6_col3 {\n",
       "            background-color:  #fee4bf;\n",
       "            color:  #000000;\n",
       "        }    #T_fa4adc92_3e18_11ea_b8e9_001a7dda7111row6_col4 {\n",
       "            background-color:  #feecd1;\n",
       "            color:  #000000;\n",
       "        }    #T_fa4adc92_3e18_11ea_b8e9_001a7dda7111row6_col5 {\n",
       "            background-color:  #fee1b9;\n",
       "            color:  #000000;\n",
       "        }    #T_fa4adc92_3e18_11ea_b8e9_001a7dda7111row6_col6 {\n",
       "            background-color:  #fff7ec;\n",
       "            color:  #000000;\n",
       "        }    #T_fa4adc92_3e18_11ea_b8e9_001a7dda7111row7_col0 {\n",
       "            background-color:  #fdad77;\n",
       "            color:  #000000;\n",
       "        }    #T_fa4adc92_3e18_11ea_b8e9_001a7dda7111row7_col1 {\n",
       "            background-color:  #f26d4b;\n",
       "            color:  #000000;\n",
       "        }    #T_fa4adc92_3e18_11ea_b8e9_001a7dda7111row7_col2 {\n",
       "            background-color:  #f67a51;\n",
       "            color:  #000000;\n",
       "        }    #T_fa4adc92_3e18_11ea_b8e9_001a7dda7111row7_col3 {\n",
       "            background-color:  #fc9b66;\n",
       "            color:  #000000;\n",
       "        }    #T_fa4adc92_3e18_11ea_b8e9_001a7dda7111row7_col4 {\n",
       "            background-color:  #fdc68f;\n",
       "            color:  #000000;\n",
       "        }    #T_fa4adc92_3e18_11ea_b8e9_001a7dda7111row7_col5 {\n",
       "            background-color:  #fdc089;\n",
       "            color:  #000000;\n",
       "        }    #T_fa4adc92_3e18_11ea_b8e9_001a7dda7111row7_col6 {\n",
       "            background-color:  #fdc38c;\n",
       "            color:  #000000;\n",
       "        }    #T_fa4adc92_3e18_11ea_b8e9_001a7dda7111row8_col0 {\n",
       "            background-color:  #fdc38d;\n",
       "            color:  #000000;\n",
       "        }    #T_fa4adc92_3e18_11ea_b8e9_001a7dda7111row8_col1 {\n",
       "            background-color:  #fb8a58;\n",
       "            color:  #000000;\n",
       "        }    #T_fa4adc92_3e18_11ea_b8e9_001a7dda7111row8_col2 {\n",
       "            background-color:  #fc9964;\n",
       "            color:  #000000;\n",
       "        }    #T_fa4adc92_3e18_11ea_b8e9_001a7dda7111row8_col3 {\n",
       "            background-color:  #fda671;\n",
       "            color:  #000000;\n",
       "        }    #T_fa4adc92_3e18_11ea_b8e9_001a7dda7111row8_col4 {\n",
       "            background-color:  #fee8c8;\n",
       "            color:  #000000;\n",
       "        }    #T_fa4adc92_3e18_11ea_b8e9_001a7dda7111row8_col5 {\n",
       "            background-color:  #fdca94;\n",
       "            color:  #000000;\n",
       "        }    #T_fa4adc92_3e18_11ea_b8e9_001a7dda7111row8_col6 {\n",
       "            background-color:  #fdbe87;\n",
       "            color:  #000000;\n",
       "        }    #T_fa4adc92_3e18_11ea_b8e9_001a7dda7111row9_col0 {\n",
       "            background-color:  #fff0dc;\n",
       "            color:  #000000;\n",
       "        }    #T_fa4adc92_3e18_11ea_b8e9_001a7dda7111row9_col1 {\n",
       "            background-color:  #feeace;\n",
       "            color:  #000000;\n",
       "        }    #T_fa4adc92_3e18_11ea_b8e9_001a7dda7111row9_col2 {\n",
       "            background-color:  #fdd49f;\n",
       "            color:  #000000;\n",
       "        }    #T_fa4adc92_3e18_11ea_b8e9_001a7dda7111row9_col3 {\n",
       "            background-color:  #feebd0;\n",
       "            color:  #000000;\n",
       "        }    #T_fa4adc92_3e18_11ea_b8e9_001a7dda7111row9_col4 {\n",
       "            background-color:  #fff7ec;\n",
       "            color:  #000000;\n",
       "        }    #T_fa4adc92_3e18_11ea_b8e9_001a7dda7111row9_col5 {\n",
       "            background-color:  #fff3e2;\n",
       "            color:  #000000;\n",
       "        }    #T_fa4adc92_3e18_11ea_b8e9_001a7dda7111row9_col6 {\n",
       "            background-color:  #feecd1;\n",
       "            color:  #000000;\n",
       "        }    #T_fa4adc92_3e18_11ea_b8e9_001a7dda7111row10_col0 {\n",
       "            background-color:  #fdc68f;\n",
       "            color:  #000000;\n",
       "        }    #T_fa4adc92_3e18_11ea_b8e9_001a7dda7111row10_col1 {\n",
       "            background-color:  #f4754f;\n",
       "            color:  #000000;\n",
       "        }    #T_fa4adc92_3e18_11ea_b8e9_001a7dda7111row10_col2 {\n",
       "            background-color:  #fb8b58;\n",
       "            color:  #000000;\n",
       "        }    #T_fa4adc92_3e18_11ea_b8e9_001a7dda7111row10_col3 {\n",
       "            background-color:  #fca26d;\n",
       "            color:  #000000;\n",
       "        }    #T_fa4adc92_3e18_11ea_b8e9_001a7dda7111row10_col4 {\n",
       "            background-color:  #fdbf88;\n",
       "            color:  #000000;\n",
       "        }    #T_fa4adc92_3e18_11ea_b8e9_001a7dda7111row10_col5 {\n",
       "            background-color:  #fdca93;\n",
       "            color:  #000000;\n",
       "        }    #T_fa4adc92_3e18_11ea_b8e9_001a7dda7111row10_col6 {\n",
       "            background-color:  #fdce98;\n",
       "            color:  #000000;\n",
       "        }    #T_fa4adc92_3e18_11ea_b8e9_001a7dda7111row11_col0 {\n",
       "            background-color:  #fdc38d;\n",
       "            color:  #000000;\n",
       "        }    #T_fa4adc92_3e18_11ea_b8e9_001a7dda7111row11_col1 {\n",
       "            background-color:  #fa8656;\n",
       "            color:  #000000;\n",
       "        }    #T_fa4adc92_3e18_11ea_b8e9_001a7dda7111row11_col2 {\n",
       "            background-color:  #fc9662;\n",
       "            color:  #000000;\n",
       "        }    #T_fa4adc92_3e18_11ea_b8e9_001a7dda7111row11_col3 {\n",
       "            background-color:  #fc9e69;\n",
       "            color:  #000000;\n",
       "        }    #T_fa4adc92_3e18_11ea_b8e9_001a7dda7111row11_col4 {\n",
       "            background-color:  #fdc892;\n",
       "            color:  #000000;\n",
       "        }    #T_fa4adc92_3e18_11ea_b8e9_001a7dda7111row11_col5 {\n",
       "            background-color:  #fdb57e;\n",
       "            color:  #000000;\n",
       "        }    #T_fa4adc92_3e18_11ea_b8e9_001a7dda7111row11_col6 {\n",
       "            background-color:  #fda56f;\n",
       "            color:  #000000;\n",
       "        }    #T_fa4adc92_3e18_11ea_b8e9_001a7dda7111row12_col0 {\n",
       "            background-color:  #fdce97;\n",
       "            color:  #000000;\n",
       "        }    #T_fa4adc92_3e18_11ea_b8e9_001a7dda7111row12_col1 {\n",
       "            background-color:  #fc8f5b;\n",
       "            color:  #000000;\n",
       "        }    #T_fa4adc92_3e18_11ea_b8e9_001a7dda7111row12_col2 {\n",
       "            background-color:  #fc9f6a;\n",
       "            color:  #000000;\n",
       "        }    #T_fa4adc92_3e18_11ea_b8e9_001a7dda7111row12_col3 {\n",
       "            background-color:  #fc9b66;\n",
       "            color:  #000000;\n",
       "        }    #T_fa4adc92_3e18_11ea_b8e9_001a7dda7111row12_col4 {\n",
       "            background-color:  #fdcd96;\n",
       "            color:  #000000;\n",
       "        }    #T_fa4adc92_3e18_11ea_b8e9_001a7dda7111row12_col5 {\n",
       "            background-color:  #fdc48d;\n",
       "            color:  #000000;\n",
       "        }    #T_fa4adc92_3e18_11ea_b8e9_001a7dda7111row12_col6 {\n",
       "            background-color:  #fdb37d;\n",
       "            color:  #000000;\n",
       "        }    #T_fa4adc92_3e18_11ea_b8e9_001a7dda7111row13_col0 {\n",
       "            background-color:  #fff7ec;\n",
       "            color:  #000000;\n",
       "        }    #T_fa4adc92_3e18_11ea_b8e9_001a7dda7111row13_col1 {\n",
       "            background-color:  #fff7ec;\n",
       "            color:  #000000;\n",
       "        }    #T_fa4adc92_3e18_11ea_b8e9_001a7dda7111row13_col2 {\n",
       "            background-color:  #fff7ec;\n",
       "            color:  #000000;\n",
       "        }    #T_fa4adc92_3e18_11ea_b8e9_001a7dda7111row13_col3 {\n",
       "            background-color:  #fff7ec;\n",
       "            color:  #000000;\n",
       "        }    #T_fa4adc92_3e18_11ea_b8e9_001a7dda7111row13_col4 {\n",
       "            background-color:  #fee8c8;\n",
       "            color:  #000000;\n",
       "        }    #T_fa4adc92_3e18_11ea_b8e9_001a7dda7111row13_col5 {\n",
       "            background-color:  #fff6ea;\n",
       "            color:  #000000;\n",
       "        }    #T_fa4adc92_3e18_11ea_b8e9_001a7dda7111row13_col6 {\n",
       "            background-color:  #fff3e2;\n",
       "            color:  #000000;\n",
       "        }    #T_fa4adc92_3e18_11ea_b8e9_001a7dda7111row14_col0 {\n",
       "            background-color:  #fdc58e;\n",
       "            color:  #000000;\n",
       "        }    #T_fa4adc92_3e18_11ea_b8e9_001a7dda7111row14_col1 {\n",
       "            background-color:  #f77f53;\n",
       "            color:  #000000;\n",
       "        }    #T_fa4adc92_3e18_11ea_b8e9_001a7dda7111row14_col2 {\n",
       "            background-color:  #fc9964;\n",
       "            color:  #000000;\n",
       "        }    #T_fa4adc92_3e18_11ea_b8e9_001a7dda7111row14_col3 {\n",
       "            background-color:  #fdab75;\n",
       "            color:  #000000;\n",
       "        }    #T_fa4adc92_3e18_11ea_b8e9_001a7dda7111row14_col4 {\n",
       "            background-color:  #fdc48d;\n",
       "            color:  #000000;\n",
       "        }    #T_fa4adc92_3e18_11ea_b8e9_001a7dda7111row14_col5 {\n",
       "            background-color:  #fdc892;\n",
       "            color:  #000000;\n",
       "        }    #T_fa4adc92_3e18_11ea_b8e9_001a7dda7111row14_col6 {\n",
       "            background-color:  #fdd09a;\n",
       "            color:  #000000;\n",
       "        }    #T_fa4adc92_3e18_11ea_b8e9_001a7dda7111row15_col0 {\n",
       "            background-color:  #fdcd96;\n",
       "            color:  #000000;\n",
       "        }    #T_fa4adc92_3e18_11ea_b8e9_001a7dda7111row15_col1 {\n",
       "            background-color:  #fa8757;\n",
       "            color:  #000000;\n",
       "        }    #T_fa4adc92_3e18_11ea_b8e9_001a7dda7111row15_col2 {\n",
       "            background-color:  #fc9f6a;\n",
       "            color:  #000000;\n",
       "        }    #T_fa4adc92_3e18_11ea_b8e9_001a7dda7111row15_col3 {\n",
       "            background-color:  #fb8a58;\n",
       "            color:  #000000;\n",
       "        }    #T_fa4adc92_3e18_11ea_b8e9_001a7dda7111row15_col4 {\n",
       "            background-color:  #fdad77;\n",
       "            color:  #000000;\n",
       "        }    #T_fa4adc92_3e18_11ea_b8e9_001a7dda7111row15_col5 {\n",
       "            background-color:  #fdba83;\n",
       "            color:  #000000;\n",
       "        }    #T_fa4adc92_3e18_11ea_b8e9_001a7dda7111row15_col6 {\n",
       "            background-color:  #fdb67f;\n",
       "            color:  #000000;\n",
       "        }    #T_fa4adc92_3e18_11ea_b8e9_001a7dda7111row16_col0 {\n",
       "            background-color:  #fdd39d;\n",
       "            color:  #000000;\n",
       "        }    #T_fa4adc92_3e18_11ea_b8e9_001a7dda7111row16_col1 {\n",
       "            background-color:  #fc9964;\n",
       "            color:  #000000;\n",
       "        }    #T_fa4adc92_3e18_11ea_b8e9_001a7dda7111row16_col2 {\n",
       "            background-color:  #fdb57e;\n",
       "            color:  #000000;\n",
       "        }    #T_fa4adc92_3e18_11ea_b8e9_001a7dda7111row16_col3 {\n",
       "            background-color:  #fdab75;\n",
       "            color:  #000000;\n",
       "        }    #T_fa4adc92_3e18_11ea_b8e9_001a7dda7111row16_col4 {\n",
       "            background-color:  #fdd8a7;\n",
       "            color:  #000000;\n",
       "        }    #T_fa4adc92_3e18_11ea_b8e9_001a7dda7111row16_col5 {\n",
       "            background-color:  #fdc58e;\n",
       "            color:  #000000;\n",
       "        }    #T_fa4adc92_3e18_11ea_b8e9_001a7dda7111row16_col6 {\n",
       "            background-color:  #fc9662;\n",
       "            color:  #000000;\n",
       "        }    #T_fa4adc92_3e18_11ea_b8e9_001a7dda7111row17_col0 {\n",
       "            background-color:  #fdd39d;\n",
       "            color:  #000000;\n",
       "        }    #T_fa4adc92_3e18_11ea_b8e9_001a7dda7111row17_col1 {\n",
       "            background-color:  #fc935f;\n",
       "            color:  #000000;\n",
       "        }    #T_fa4adc92_3e18_11ea_b8e9_001a7dda7111row17_col2 {\n",
       "            background-color:  #fdb07a;\n",
       "            color:  #000000;\n",
       "        }    #T_fa4adc92_3e18_11ea_b8e9_001a7dda7111row17_col3 {\n",
       "            background-color:  #fda872;\n",
       "            color:  #000000;\n",
       "        }    #T_fa4adc92_3e18_11ea_b8e9_001a7dda7111row17_col4 {\n",
       "            background-color:  #fdc992;\n",
       "            color:  #000000;\n",
       "        }    #T_fa4adc92_3e18_11ea_b8e9_001a7dda7111row17_col5 {\n",
       "            background-color:  #fdcc96;\n",
       "            color:  #000000;\n",
       "        }    #T_fa4adc92_3e18_11ea_b8e9_001a7dda7111row17_col6 {\n",
       "            background-color:  #fdcb95;\n",
       "            color:  #000000;\n",
       "        }    #T_fa4adc92_3e18_11ea_b8e9_001a7dda7111row18_col0 {\n",
       "            background-color:  #fdd49f;\n",
       "            color:  #000000;\n",
       "        }    #T_fa4adc92_3e18_11ea_b8e9_001a7dda7111row18_col1 {\n",
       "            background-color:  #fc9964;\n",
       "            color:  #000000;\n",
       "        }    #T_fa4adc92_3e18_11ea_b8e9_001a7dda7111row18_col2 {\n",
       "            background-color:  #fdb67f;\n",
       "            color:  #000000;\n",
       "        }    #T_fa4adc92_3e18_11ea_b8e9_001a7dda7111row18_col3 {\n",
       "            background-color:  #fdac76;\n",
       "            color:  #000000;\n",
       "        }    #T_fa4adc92_3e18_11ea_b8e9_001a7dda7111row18_col4 {\n",
       "            background-color:  #fdd29c;\n",
       "            color:  #000000;\n",
       "        }    #T_fa4adc92_3e18_11ea_b8e9_001a7dda7111row18_col5 {\n",
       "            background-color:  #fdcc96;\n",
       "            color:  #000000;\n",
       "        }    #T_fa4adc92_3e18_11ea_b8e9_001a7dda7111row18_col6 {\n",
       "            background-color:  #fdba83;\n",
       "            color:  #000000;\n",
       "        }    #T_fa4adc92_3e18_11ea_b8e9_001a7dda7111row19_col0 {\n",
       "            background-color:  #fddbac;\n",
       "            color:  #000000;\n",
       "        }    #T_fa4adc92_3e18_11ea_b8e9_001a7dda7111row19_col1 {\n",
       "            background-color:  #fca06b;\n",
       "            color:  #000000;\n",
       "        }    #T_fa4adc92_3e18_11ea_b8e9_001a7dda7111row19_col2 {\n",
       "            background-color:  #fdcb95;\n",
       "            color:  #000000;\n",
       "        }    #T_fa4adc92_3e18_11ea_b8e9_001a7dda7111row19_col3 {\n",
       "            background-color:  #fdb27b;\n",
       "            color:  #000000;\n",
       "        }    #T_fa4adc92_3e18_11ea_b8e9_001a7dda7111row19_col4 {\n",
       "            background-color:  #fedfb4;\n",
       "            color:  #000000;\n",
       "        }    #T_fa4adc92_3e18_11ea_b8e9_001a7dda7111row19_col5 {\n",
       "            background-color:  #fdd5a0;\n",
       "            color:  #000000;\n",
       "        }    #T_fa4adc92_3e18_11ea_b8e9_001a7dda7111row19_col6 {\n",
       "            background-color:  #fdd39d;\n",
       "            color:  #000000;\n",
       "        }    #T_fa4adc92_3e18_11ea_b8e9_001a7dda7111row20_col0 {\n",
       "            background-color:  #7f0000;\n",
       "            color:  #f1f1f1;\n",
       "        }    #T_fa4adc92_3e18_11ea_b8e9_001a7dda7111row20_col1 {\n",
       "            background-color:  #b20000;\n",
       "            color:  #f1f1f1;\n",
       "        }    #T_fa4adc92_3e18_11ea_b8e9_001a7dda7111row20_col2 {\n",
       "            background-color:  #ef6447;\n",
       "            color:  #000000;\n",
       "        }    #T_fa4adc92_3e18_11ea_b8e9_001a7dda7111row20_col3 {\n",
       "            background-color:  #f26d4b;\n",
       "            color:  #000000;\n",
       "        }    #T_fa4adc92_3e18_11ea_b8e9_001a7dda7111row20_col4 {\n",
       "            background-color:  #c61a11;\n",
       "            color:  #f1f1f1;\n",
       "        }    #T_fa4adc92_3e18_11ea_b8e9_001a7dda7111row20_col5 {\n",
       "            background-color:  #d42c1c;\n",
       "            color:  #f1f1f1;\n",
       "        }    #T_fa4adc92_3e18_11ea_b8e9_001a7dda7111row20_col6 {\n",
       "            background-color:  #e9583e;\n",
       "            color:  #000000;\n",
       "        }    #T_fa4adc92_3e18_11ea_b8e9_001a7dda7111row21_col0 {\n",
       "            background-color:  #ba0906;\n",
       "            color:  #f1f1f1;\n",
       "        }    #T_fa4adc92_3e18_11ea_b8e9_001a7dda7111row21_col1 {\n",
       "            background-color:  #860000;\n",
       "            color:  #f1f1f1;\n",
       "        }    #T_fa4adc92_3e18_11ea_b8e9_001a7dda7111row21_col2 {\n",
       "            background-color:  #c4170f;\n",
       "            color:  #f1f1f1;\n",
       "        }    #T_fa4adc92_3e18_11ea_b8e9_001a7dda7111row21_col3 {\n",
       "            background-color:  #a30000;\n",
       "            color:  #f1f1f1;\n",
       "        }    #T_fa4adc92_3e18_11ea_b8e9_001a7dda7111row21_col4 {\n",
       "            background-color:  #c61a11;\n",
       "            color:  #f1f1f1;\n",
       "        }    #T_fa4adc92_3e18_11ea_b8e9_001a7dda7111row21_col5 {\n",
       "            background-color:  #ce2417;\n",
       "            color:  #f1f1f1;\n",
       "        }    #T_fa4adc92_3e18_11ea_b8e9_001a7dda7111row21_col6 {\n",
       "            background-color:  #e0442f;\n",
       "            color:  #f1f1f1;\n",
       "        }    #T_fa4adc92_3e18_11ea_b8e9_001a7dda7111row22_col0 {\n",
       "            background-color:  #f3714d;\n",
       "            color:  #000000;\n",
       "        }    #T_fa4adc92_3e18_11ea_b8e9_001a7dda7111row22_col1 {\n",
       "            background-color:  #f06749;\n",
       "            color:  #000000;\n",
       "        }    #T_fa4adc92_3e18_11ea_b8e9_001a7dda7111row22_col2 {\n",
       "            background-color:  #fb8957;\n",
       "            color:  #000000;\n",
       "        }    #T_fa4adc92_3e18_11ea_b8e9_001a7dda7111row22_col3 {\n",
       "            background-color:  #fca26d;\n",
       "            color:  #000000;\n",
       "        }    #T_fa4adc92_3e18_11ea_b8e9_001a7dda7111row22_col4 {\n",
       "            background-color:  #fa8757;\n",
       "            color:  #000000;\n",
       "        }    #T_fa4adc92_3e18_11ea_b8e9_001a7dda7111row22_col5 {\n",
       "            background-color:  #f88154;\n",
       "            color:  #000000;\n",
       "        }    #T_fa4adc92_3e18_11ea_b8e9_001a7dda7111row22_col6 {\n",
       "            background-color:  #fc9863;\n",
       "            color:  #000000;\n",
       "        }    #T_fa4adc92_3e18_11ea_b8e9_001a7dda7111row23_col0 {\n",
       "            background-color:  #940000;\n",
       "            color:  #f1f1f1;\n",
       "        }    #T_fa4adc92_3e18_11ea_b8e9_001a7dda7111row23_col1 {\n",
       "            background-color:  #7f0000;\n",
       "            color:  #f1f1f1;\n",
       "        }    #T_fa4adc92_3e18_11ea_b8e9_001a7dda7111row23_col2 {\n",
       "            background-color:  #7f0000;\n",
       "            color:  #f1f1f1;\n",
       "        }    #T_fa4adc92_3e18_11ea_b8e9_001a7dda7111row23_col3 {\n",
       "            background-color:  #7f0000;\n",
       "            color:  #f1f1f1;\n",
       "        }    #T_fa4adc92_3e18_11ea_b8e9_001a7dda7111row23_col4 {\n",
       "            background-color:  #c4170f;\n",
       "            color:  #f1f1f1;\n",
       "        }    #T_fa4adc92_3e18_11ea_b8e9_001a7dda7111row23_col5 {\n",
       "            background-color:  #d2291a;\n",
       "            color:  #f1f1f1;\n",
       "        }    #T_fa4adc92_3e18_11ea_b8e9_001a7dda7111row23_col6 {\n",
       "            background-color:  #fca26d;\n",
       "            color:  #000000;\n",
       "        }    #T_fa4adc92_3e18_11ea_b8e9_001a7dda7111row24_col0 {\n",
       "            background-color:  #f26d4b;\n",
       "            color:  #000000;\n",
       "        }    #T_fa4adc92_3e18_11ea_b8e9_001a7dda7111row24_col1 {\n",
       "            background-color:  #bc0c08;\n",
       "            color:  #f1f1f1;\n",
       "        }    #T_fa4adc92_3e18_11ea_b8e9_001a7dda7111row24_col2 {\n",
       "            background-color:  #ef6548;\n",
       "            color:  #000000;\n",
       "        }    #T_fa4adc92_3e18_11ea_b8e9_001a7dda7111row24_col3 {\n",
       "            background-color:  #da3724;\n",
       "            color:  #f1f1f1;\n",
       "        }    #T_fa4adc92_3e18_11ea_b8e9_001a7dda7111row24_col4 {\n",
       "            background-color:  #f98556;\n",
       "            color:  #000000;\n",
       "        }    #T_fa4adc92_3e18_11ea_b8e9_001a7dda7111row24_col5 {\n",
       "            background-color:  #f67c52;\n",
       "            color:  #000000;\n",
       "        }    #T_fa4adc92_3e18_11ea_b8e9_001a7dda7111row24_col6 {\n",
       "            background-color:  #ef6447;\n",
       "            color:  #000000;\n",
       "        }    #T_fa4adc92_3e18_11ea_b8e9_001a7dda7111row25_col0 {\n",
       "            background-color:  #f98455;\n",
       "            color:  #000000;\n",
       "        }    #T_fa4adc92_3e18_11ea_b8e9_001a7dda7111row25_col1 {\n",
       "            background-color:  #fda872;\n",
       "            color:  #000000;\n",
       "        }    #T_fa4adc92_3e18_11ea_b8e9_001a7dda7111row25_col2 {\n",
       "            background-color:  #fda973;\n",
       "            color:  #000000;\n",
       "        }    #T_fa4adc92_3e18_11ea_b8e9_001a7dda7111row25_col3 {\n",
       "            background-color:  #fdb982;\n",
       "            color:  #000000;\n",
       "        }    #T_fa4adc92_3e18_11ea_b8e9_001a7dda7111row25_col4 {\n",
       "            background-color:  #e8553c;\n",
       "            color:  #000000;\n",
       "        }    #T_fa4adc92_3e18_11ea_b8e9_001a7dda7111row25_col5 {\n",
       "            background-color:  #fda671;\n",
       "            color:  #000000;\n",
       "        }    #T_fa4adc92_3e18_11ea_b8e9_001a7dda7111row25_col6 {\n",
       "            background-color:  #f88154;\n",
       "            color:  #000000;\n",
       "        }    #T_fa4adc92_3e18_11ea_b8e9_001a7dda7111row26_col0 {\n",
       "            background-color:  #990000;\n",
       "            color:  #f1f1f1;\n",
       "        }    #T_fa4adc92_3e18_11ea_b8e9_001a7dda7111row26_col1 {\n",
       "            background-color:  #f67c52;\n",
       "            color:  #000000;\n",
       "        }    #T_fa4adc92_3e18_11ea_b8e9_001a7dda7111row26_col2 {\n",
       "            background-color:  #e34b34;\n",
       "            color:  #000000;\n",
       "        }    #T_fa4adc92_3e18_11ea_b8e9_001a7dda7111row26_col3 {\n",
       "            background-color:  #fdbb85;\n",
       "            color:  #000000;\n",
       "        }    #T_fa4adc92_3e18_11ea_b8e9_001a7dda7111row26_col4 {\n",
       "            background-color:  #7f0000;\n",
       "            color:  #f1f1f1;\n",
       "        }    #T_fa4adc92_3e18_11ea_b8e9_001a7dda7111row26_col5 {\n",
       "            background-color:  #7f0000;\n",
       "            color:  #f1f1f1;\n",
       "        }    #T_fa4adc92_3e18_11ea_b8e9_001a7dda7111row26_col6 {\n",
       "            background-color:  #fdc791;\n",
       "            color:  #000000;\n",
       "        }    #T_fa4adc92_3e18_11ea_b8e9_001a7dda7111row27_col0 {\n",
       "            background-color:  #ea5a3f;\n",
       "            color:  #000000;\n",
       "        }    #T_fa4adc92_3e18_11ea_b8e9_001a7dda7111row27_col1 {\n",
       "            background-color:  #c1120c;\n",
       "            color:  #f1f1f1;\n",
       "        }    #T_fa4adc92_3e18_11ea_b8e9_001a7dda7111row27_col2 {\n",
       "            background-color:  #de3f2b;\n",
       "            color:  #f1f1f1;\n",
       "        }    #T_fa4adc92_3e18_11ea_b8e9_001a7dda7111row27_col3 {\n",
       "            background-color:  #e7533a;\n",
       "            color:  #000000;\n",
       "        }    #T_fa4adc92_3e18_11ea_b8e9_001a7dda7111row27_col4 {\n",
       "            background-color:  #f16c4b;\n",
       "            color:  #000000;\n",
       "        }    #T_fa4adc92_3e18_11ea_b8e9_001a7dda7111row27_col5 {\n",
       "            background-color:  #f67a51;\n",
       "            color:  #000000;\n",
       "        }    #T_fa4adc92_3e18_11ea_b8e9_001a7dda7111row27_col6 {\n",
       "            background-color:  #fa8656;\n",
       "            color:  #000000;\n",
       "        }    #T_fa4adc92_3e18_11ea_b8e9_001a7dda7111row28_col0 {\n",
       "            background-color:  #f67c52;\n",
       "            color:  #000000;\n",
       "        }    #T_fa4adc92_3e18_11ea_b8e9_001a7dda7111row28_col1 {\n",
       "            background-color:  #e9573d;\n",
       "            color:  #000000;\n",
       "        }    #T_fa4adc92_3e18_11ea_b8e9_001a7dda7111row28_col2 {\n",
       "            background-color:  #fa8757;\n",
       "            color:  #000000;\n",
       "        }    #T_fa4adc92_3e18_11ea_b8e9_001a7dda7111row28_col3 {\n",
       "            background-color:  #e7533a;\n",
       "            color:  #000000;\n",
       "        }    #T_fa4adc92_3e18_11ea_b8e9_001a7dda7111row28_col4 {\n",
       "            background-color:  #fc9c67;\n",
       "            color:  #000000;\n",
       "        }    #T_fa4adc92_3e18_11ea_b8e9_001a7dda7111row28_col5 {\n",
       "            background-color:  #f67c52;\n",
       "            color:  #000000;\n",
       "        }    #T_fa4adc92_3e18_11ea_b8e9_001a7dda7111row28_col6 {\n",
       "            background-color:  #f3724e;\n",
       "            color:  #000000;\n",
       "        }    #T_fa4adc92_3e18_11ea_b8e9_001a7dda7111row29_col0 {\n",
       "            background-color:  #ee6246;\n",
       "            color:  #000000;\n",
       "        }    #T_fa4adc92_3e18_11ea_b8e9_001a7dda7111row29_col1 {\n",
       "            background-color:  #fc9964;\n",
       "            color:  #000000;\n",
       "        }    #T_fa4adc92_3e18_11ea_b8e9_001a7dda7111row29_col2 {\n",
       "            background-color:  #fc9964;\n",
       "            color:  #000000;\n",
       "        }    #T_fa4adc92_3e18_11ea_b8e9_001a7dda7111row29_col3 {\n",
       "            background-color:  #fdb57e;\n",
       "            color:  #000000;\n",
       "        }    #T_fa4adc92_3e18_11ea_b8e9_001a7dda7111row29_col4 {\n",
       "            background-color:  #fc9f6a;\n",
       "            color:  #000000;\n",
       "        }    #T_fa4adc92_3e18_11ea_b8e9_001a7dda7111row29_col5 {\n",
       "            background-color:  #f4764f;\n",
       "            color:  #000000;\n",
       "        }    #T_fa4adc92_3e18_11ea_b8e9_001a7dda7111row29_col6 {\n",
       "            background-color:  #f67c52;\n",
       "            color:  #000000;\n",
       "        }    #T_fa4adc92_3e18_11ea_b8e9_001a7dda7111row30_col0 {\n",
       "            background-color:  #ef6447;\n",
       "            color:  #000000;\n",
       "        }    #T_fa4adc92_3e18_11ea_b8e9_001a7dda7111row30_col1 {\n",
       "            background-color:  #fb8957;\n",
       "            color:  #000000;\n",
       "        }    #T_fa4adc92_3e18_11ea_b8e9_001a7dda7111row30_col2 {\n",
       "            background-color:  #fdac76;\n",
       "            color:  #000000;\n",
       "        }    #T_fa4adc92_3e18_11ea_b8e9_001a7dda7111row30_col3 {\n",
       "            background-color:  #fdc690;\n",
       "            color:  #000000;\n",
       "        }    #T_fa4adc92_3e18_11ea_b8e9_001a7dda7111row30_col4 {\n",
       "            background-color:  #fb8a58;\n",
       "            color:  #000000;\n",
       "        }    #T_fa4adc92_3e18_11ea_b8e9_001a7dda7111row30_col5 {\n",
       "            background-color:  #f06849;\n",
       "            color:  #000000;\n",
       "        }    #T_fa4adc92_3e18_11ea_b8e9_001a7dda7111row30_col6 {\n",
       "            background-color:  #fda671;\n",
       "            color:  #000000;\n",
       "        }    #T_fa4adc92_3e18_11ea_b8e9_001a7dda7111row31_col0 {\n",
       "            background-color:  #f4754f;\n",
       "            color:  #000000;\n",
       "        }    #T_fa4adc92_3e18_11ea_b8e9_001a7dda7111row31_col1 {\n",
       "            background-color:  #dc3a27;\n",
       "            color:  #f1f1f1;\n",
       "        }    #T_fa4adc92_3e18_11ea_b8e9_001a7dda7111row31_col2 {\n",
       "            background-color:  #f06749;\n",
       "            color:  #000000;\n",
       "        }    #T_fa4adc92_3e18_11ea_b8e9_001a7dda7111row31_col3 {\n",
       "            background-color:  #e54e36;\n",
       "            color:  #000000;\n",
       "        }    #T_fa4adc92_3e18_11ea_b8e9_001a7dda7111row31_col4 {\n",
       "            background-color:  #f57750;\n",
       "            color:  #000000;\n",
       "        }    #T_fa4adc92_3e18_11ea_b8e9_001a7dda7111row31_col5 {\n",
       "            background-color:  #f77d52;\n",
       "            color:  #000000;\n",
       "        }    #T_fa4adc92_3e18_11ea_b8e9_001a7dda7111row31_col6 {\n",
       "            background-color:  #f98556;\n",
       "            color:  #000000;\n",
       "        }    #T_fa4adc92_3e18_11ea_b8e9_001a7dda7111row32_col0 {\n",
       "            background-color:  #f67c52;\n",
       "            color:  #000000;\n",
       "        }    #T_fa4adc92_3e18_11ea_b8e9_001a7dda7111row32_col1 {\n",
       "            background-color:  #e54e36;\n",
       "            color:  #000000;\n",
       "        }    #T_fa4adc92_3e18_11ea_b8e9_001a7dda7111row32_col2 {\n",
       "            background-color:  #fda973;\n",
       "            color:  #000000;\n",
       "        }    #T_fa4adc92_3e18_11ea_b8e9_001a7dda7111row32_col3 {\n",
       "            background-color:  #d83221;\n",
       "            color:  #f1f1f1;\n",
       "        }    #T_fa4adc92_3e18_11ea_b8e9_001a7dda7111row32_col4 {\n",
       "            background-color:  #fc9560;\n",
       "            color:  #000000;\n",
       "        }    #T_fa4adc92_3e18_11ea_b8e9_001a7dda7111row32_col5 {\n",
       "            background-color:  #f06749;\n",
       "            color:  #000000;\n",
       "        }    #T_fa4adc92_3e18_11ea_b8e9_001a7dda7111row32_col6 {\n",
       "            background-color:  #ef6447;\n",
       "            color:  #000000;\n",
       "        }    #T_fa4adc92_3e18_11ea_b8e9_001a7dda7111row33_col0 {\n",
       "            background-color:  #e8553c;\n",
       "            color:  #000000;\n",
       "        }    #T_fa4adc92_3e18_11ea_b8e9_001a7dda7111row33_col1 {\n",
       "            background-color:  #fc9f6a;\n",
       "            color:  #000000;\n",
       "        }    #T_fa4adc92_3e18_11ea_b8e9_001a7dda7111row33_col2 {\n",
       "            background-color:  #f77f53;\n",
       "            color:  #000000;\n",
       "        }    #T_fa4adc92_3e18_11ea_b8e9_001a7dda7111row33_col3 {\n",
       "            background-color:  #fc9b66;\n",
       "            color:  #000000;\n",
       "        }    #T_fa4adc92_3e18_11ea_b8e9_001a7dda7111row33_col4 {\n",
       "            background-color:  #fc9560;\n",
       "            color:  #000000;\n",
       "        }    #T_fa4adc92_3e18_11ea_b8e9_001a7dda7111row33_col5 {\n",
       "            background-color:  #f88154;\n",
       "            color:  #000000;\n",
       "        }    #T_fa4adc92_3e18_11ea_b8e9_001a7dda7111row33_col6 {\n",
       "            background-color:  #f67a51;\n",
       "            color:  #000000;\n",
       "        }    #T_fa4adc92_3e18_11ea_b8e9_001a7dda7111row34_col0 {\n",
       "            background-color:  #f57750;\n",
       "            color:  #000000;\n",
       "        }    #T_fa4adc92_3e18_11ea_b8e9_001a7dda7111row34_col1 {\n",
       "            background-color:  #fca06b;\n",
       "            color:  #000000;\n",
       "        }    #T_fa4adc92_3e18_11ea_b8e9_001a7dda7111row34_col2 {\n",
       "            background-color:  #fdbf88;\n",
       "            color:  #000000;\n",
       "        }    #T_fa4adc92_3e18_11ea_b8e9_001a7dda7111row34_col3 {\n",
       "            background-color:  #fdc089;\n",
       "            color:  #000000;\n",
       "        }    #T_fa4adc92_3e18_11ea_b8e9_001a7dda7111row34_col4 {\n",
       "            background-color:  #fc8f5b;\n",
       "            color:  #000000;\n",
       "        }    #T_fa4adc92_3e18_11ea_b8e9_001a7dda7111row34_col5 {\n",
       "            background-color:  #ec5f43;\n",
       "            color:  #000000;\n",
       "        }    #T_fa4adc92_3e18_11ea_b8e9_001a7dda7111row34_col6 {\n",
       "            background-color:  #fca26d;\n",
       "            color:  #000000;\n",
       "        }    #T_fa4adc92_3e18_11ea_b8e9_001a7dda7111row35_col0 {\n",
       "            background-color:  #f4754f;\n",
       "            color:  #000000;\n",
       "        }    #T_fa4adc92_3e18_11ea_b8e9_001a7dda7111row35_col1 {\n",
       "            background-color:  #d12719;\n",
       "            color:  #f1f1f1;\n",
       "        }    #T_fa4adc92_3e18_11ea_b8e9_001a7dda7111row35_col2 {\n",
       "            background-color:  #f16c4b;\n",
       "            color:  #000000;\n",
       "        }    #T_fa4adc92_3e18_11ea_b8e9_001a7dda7111row35_col3 {\n",
       "            background-color:  #cf2618;\n",
       "            color:  #f1f1f1;\n",
       "        }    #T_fa4adc92_3e18_11ea_b8e9_001a7dda7111row35_col4 {\n",
       "            background-color:  #f26e4c;\n",
       "            color:  #000000;\n",
       "        }    #T_fa4adc92_3e18_11ea_b8e9_001a7dda7111row35_col5 {\n",
       "            background-color:  #e65239;\n",
       "            color:  #000000;\n",
       "        }    #T_fa4adc92_3e18_11ea_b8e9_001a7dda7111row35_col6 {\n",
       "            background-color:  #fb8957;\n",
       "            color:  #000000;\n",
       "        }    #T_fa4adc92_3e18_11ea_b8e9_001a7dda7111row36_col0 {\n",
       "            background-color:  #ef6548;\n",
       "            color:  #000000;\n",
       "        }    #T_fa4adc92_3e18_11ea_b8e9_001a7dda7111row36_col1 {\n",
       "            background-color:  #e34b34;\n",
       "            color:  #000000;\n",
       "        }    #T_fa4adc92_3e18_11ea_b8e9_001a7dda7111row36_col2 {\n",
       "            background-color:  #f4754f;\n",
       "            color:  #000000;\n",
       "        }    #T_fa4adc92_3e18_11ea_b8e9_001a7dda7111row36_col3 {\n",
       "            background-color:  #b90805;\n",
       "            color:  #f1f1f1;\n",
       "        }    #T_fa4adc92_3e18_11ea_b8e9_001a7dda7111row36_col4 {\n",
       "            background-color:  #f4734e;\n",
       "            color:  #000000;\n",
       "        }    #T_fa4adc92_3e18_11ea_b8e9_001a7dda7111row36_col5 {\n",
       "            background-color:  #eb5c41;\n",
       "            color:  #000000;\n",
       "        }    #T_fa4adc92_3e18_11ea_b8e9_001a7dda7111row36_col6 {\n",
       "            background-color:  #7f0000;\n",
       "            color:  #f1f1f1;\n",
       "        }    #T_fa4adc92_3e18_11ea_b8e9_001a7dda7111row37_col0 {\n",
       "            background-color:  #f57750;\n",
       "            color:  #000000;\n",
       "        }    #T_fa4adc92_3e18_11ea_b8e9_001a7dda7111row37_col1 {\n",
       "            background-color:  #fc925e;\n",
       "            color:  #000000;\n",
       "        }    #T_fa4adc92_3e18_11ea_b8e9_001a7dda7111row37_col2 {\n",
       "            background-color:  #fdc791;\n",
       "            color:  #000000;\n",
       "        }    #T_fa4adc92_3e18_11ea_b8e9_001a7dda7111row37_col3 {\n",
       "            background-color:  #fdcb95;\n",
       "            color:  #000000;\n",
       "        }    #T_fa4adc92_3e18_11ea_b8e9_001a7dda7111row37_col4 {\n",
       "            background-color:  #f4734e;\n",
       "            color:  #000000;\n",
       "        }    #T_fa4adc92_3e18_11ea_b8e9_001a7dda7111row37_col5 {\n",
       "            background-color:  #d93422;\n",
       "            color:  #f1f1f1;\n",
       "        }    #T_fa4adc92_3e18_11ea_b8e9_001a7dda7111row37_col6 {\n",
       "            background-color:  #fca36e;\n",
       "            color:  #000000;\n",
       "        }    #T_fa4adc92_3e18_11ea_b8e9_001a7dda7111row38_col0 {\n",
       "            background-color:  #e9583e;\n",
       "            color:  #000000;\n",
       "        }    #T_fa4adc92_3e18_11ea_b8e9_001a7dda7111row38_col1 {\n",
       "            background-color:  #b90805;\n",
       "            color:  #f1f1f1;\n",
       "        }    #T_fa4adc92_3e18_11ea_b8e9_001a7dda7111row38_col2 {\n",
       "            background-color:  #db3926;\n",
       "            color:  #f1f1f1;\n",
       "        }    #T_fa4adc92_3e18_11ea_b8e9_001a7dda7111row38_col3 {\n",
       "            background-color:  #a80000;\n",
       "            color:  #f1f1f1;\n",
       "        }    #T_fa4adc92_3e18_11ea_b8e9_001a7dda7111row38_col4 {\n",
       "            background-color:  #d62f1e;\n",
       "            color:  #f1f1f1;\n",
       "        }    #T_fa4adc92_3e18_11ea_b8e9_001a7dda7111row38_col5 {\n",
       "            background-color:  #e54e36;\n",
       "            color:  #000000;\n",
       "        }    #T_fa4adc92_3e18_11ea_b8e9_001a7dda7111row38_col6 {\n",
       "            background-color:  #ec5f43;\n",
       "            color:  #000000;\n",
       "        }    #T_fa4adc92_3e18_11ea_b8e9_001a7dda7111row39_col0 {\n",
       "            background-color:  #ec5d42;\n",
       "            color:  #000000;\n",
       "        }    #T_fa4adc92_3e18_11ea_b8e9_001a7dda7111row39_col1 {\n",
       "            background-color:  #f4754f;\n",
       "            color:  #000000;\n",
       "        }    #T_fa4adc92_3e18_11ea_b8e9_001a7dda7111row39_col2 {\n",
       "            background-color:  #fdb67f;\n",
       "            color:  #000000;\n",
       "        }    #T_fa4adc92_3e18_11ea_b8e9_001a7dda7111row39_col3 {\n",
       "            background-color:  #fdac76;\n",
       "            color:  #000000;\n",
       "        }    #T_fa4adc92_3e18_11ea_b8e9_001a7dda7111row39_col4 {\n",
       "            background-color:  #e65239;\n",
       "            color:  #000000;\n",
       "        }    #T_fa4adc92_3e18_11ea_b8e9_001a7dda7111row39_col5 {\n",
       "            background-color:  #e54e36;\n",
       "            color:  #000000;\n",
       "        }    #T_fa4adc92_3e18_11ea_b8e9_001a7dda7111row39_col6 {\n",
       "            background-color:  #fa8656;\n",
       "            color:  #000000;\n",
       "        }</style><table id=\"T_fa4adc92_3e18_11ea_b8e9_001a7dda7111\" ><thead>    <tr>        <th class=\"blank\" ></th>        <th class=\"blank\" ></th>        <th class=\"blank\" ></th>        <th class=\"blank\" ></th>        <th class=\"index_name level0\" >DataPesquisa</th>        <th class=\"col_heading level0 col0\" >21/01/2020 09</th>        <th class=\"col_heading level0 col1\" >21/01/2020 10</th>        <th class=\"col_heading level0 col2\" >21/01/2020 16</th>        <th class=\"col_heading level0 col3\" >22/01/2020 09</th>        <th class=\"col_heading level0 col4\" >22/01/2020 18</th>        <th class=\"col_heading level0 col5\" >23/01/2020 09</th>        <th class=\"col_heading level0 col6\" >23/01/2020 15</th>    </tr>    <tr>        <th class=\"index_name level0\" >de</th>        <th class=\"index_name level1\" >para</th>        <th class=\"index_name level2\" >Dias</th>        <th class=\"index_name level3\" >Ida</th>        <th class=\"index_name level4\" >Volta</th>        <th class=\"blank\" ></th>        <th class=\"blank\" ></th>        <th class=\"blank\" ></th>        <th class=\"blank\" ></th>        <th class=\"blank\" ></th>        <th class=\"blank\" ></th>        <th class=\"blank\" ></th>    </tr></thead><tbody>\n",
       "                <tr>\n",
       "                        <th id=\"T_fa4adc92_3e18_11ea_b8e9_001a7dda7111level0_row0\" class=\"row_heading level0 row0\" rowspan=20>GRU</th>\n",
       "                        <th id=\"T_fa4adc92_3e18_11ea_b8e9_001a7dda7111level1_row0\" class=\"row_heading level1 row0\" rowspan=20>MIA</th>\n",
       "                        <th id=\"T_fa4adc92_3e18_11ea_b8e9_001a7dda7111level2_row0\" class=\"row_heading level2 row0\" >13</th>\n",
       "                        <th id=\"T_fa4adc92_3e18_11ea_b8e9_001a7dda7111level3_row0\" class=\"row_heading level3 row0\" >2020-07-06</th>\n",
       "                        <th id=\"T_fa4adc92_3e18_11ea_b8e9_001a7dda7111level4_row0\" class=\"row_heading level4 row0\" >2020-07-19</th>\n",
       "                        <td id=\"T_fa4adc92_3e18_11ea_b8e9_001a7dda7111row0_col0\" class=\"data row0 col0\" >3450</td>\n",
       "                        <td id=\"T_fa4adc92_3e18_11ea_b8e9_001a7dda7111row0_col1\" class=\"data row0 col1\" >3508</td>\n",
       "                        <td id=\"T_fa4adc92_3e18_11ea_b8e9_001a7dda7111row0_col2\" class=\"data row0 col2\" >3482</td>\n",
       "                        <td id=\"T_fa4adc92_3e18_11ea_b8e9_001a7dda7111row0_col3\" class=\"data row0 col3\" >3539</td>\n",
       "                        <td id=\"T_fa4adc92_3e18_11ea_b8e9_001a7dda7111row0_col4\" class=\"data row0 col4\" >3581</td>\n",
       "                        <td id=\"T_fa4adc92_3e18_11ea_b8e9_001a7dda7111row0_col5\" class=\"data row0 col5\" >3477</td>\n",
       "                        <td id=\"T_fa4adc92_3e18_11ea_b8e9_001a7dda7111row0_col6\" class=\"data row0 col6\" >3480</td>\n",
       "            </tr>\n",
       "            <tr>\n",
       "                                        <th id=\"T_fa4adc92_3e18_11ea_b8e9_001a7dda7111level2_row1\" class=\"row_heading level2 row1\" rowspan=2>14</th>\n",
       "                        <th id=\"T_fa4adc92_3e18_11ea_b8e9_001a7dda7111level3_row1\" class=\"row_heading level3 row1\" >2020-07-05</th>\n",
       "                        <th id=\"T_fa4adc92_3e18_11ea_b8e9_001a7dda7111level4_row1\" class=\"row_heading level4 row1\" >2020-07-19</th>\n",
       "                        <td id=\"T_fa4adc92_3e18_11ea_b8e9_001a7dda7111row1_col0\" class=\"data row1 col0\" >3414</td>\n",
       "                        <td id=\"T_fa4adc92_3e18_11ea_b8e9_001a7dda7111row1_col1\" class=\"data row1 col1\" >3568</td>\n",
       "                        <td id=\"T_fa4adc92_3e18_11ea_b8e9_001a7dda7111row1_col2\" class=\"data row1 col2\" >3597</td>\n",
       "                        <td id=\"T_fa4adc92_3e18_11ea_b8e9_001a7dda7111row1_col3\" class=\"data row1 col3\" >3597</td>\n",
       "                        <td id=\"T_fa4adc92_3e18_11ea_b8e9_001a7dda7111row1_col4\" class=\"data row1 col4\" >3501</td>\n",
       "                        <td id=\"T_fa4adc92_3e18_11ea_b8e9_001a7dda7111row1_col5\" class=\"data row1 col5\" >3510</td>\n",
       "                        <td id=\"T_fa4adc92_3e18_11ea_b8e9_001a7dda7111row1_col6\" class=\"data row1 col6\" >3577</td>\n",
       "            </tr>\n",
       "            <tr>\n",
       "                                                <th id=\"T_fa4adc92_3e18_11ea_b8e9_001a7dda7111level3_row2\" class=\"row_heading level3 row2\" >2020-07-06</th>\n",
       "                        <th id=\"T_fa4adc92_3e18_11ea_b8e9_001a7dda7111level4_row2\" class=\"row_heading level4 row2\" >2020-07-20</th>\n",
       "                        <td id=\"T_fa4adc92_3e18_11ea_b8e9_001a7dda7111row2_col0\" class=\"data row2 col0\" >3266</td>\n",
       "                        <td id=\"T_fa4adc92_3e18_11ea_b8e9_001a7dda7111row2_col1\" class=\"data row2 col1\" >3314</td>\n",
       "                        <td id=\"T_fa4adc92_3e18_11ea_b8e9_001a7dda7111row2_col2\" class=\"data row2 col2\" >3388</td>\n",
       "                        <td id=\"T_fa4adc92_3e18_11ea_b8e9_001a7dda7111row2_col3\" class=\"data row2 col3\" >3388</td>\n",
       "                        <td id=\"T_fa4adc92_3e18_11ea_b8e9_001a7dda7111row2_col4\" class=\"data row2 col4\" >3403</td>\n",
       "                        <td id=\"T_fa4adc92_3e18_11ea_b8e9_001a7dda7111row2_col5\" class=\"data row2 col5\" >3393</td>\n",
       "                        <td id=\"T_fa4adc92_3e18_11ea_b8e9_001a7dda7111row2_col6\" class=\"data row2 col6\" >3423</td>\n",
       "            </tr>\n",
       "            <tr>\n",
       "                                        <th id=\"T_fa4adc92_3e18_11ea_b8e9_001a7dda7111level2_row3\" class=\"row_heading level2 row3\" rowspan=3>15</th>\n",
       "                        <th id=\"T_fa4adc92_3e18_11ea_b8e9_001a7dda7111level3_row3\" class=\"row_heading level3 row3\" >2020-07-04</th>\n",
       "                        <th id=\"T_fa4adc92_3e18_11ea_b8e9_001a7dda7111level4_row3\" class=\"row_heading level4 row3\" >2020-07-19</th>\n",
       "                        <td id=\"T_fa4adc92_3e18_11ea_b8e9_001a7dda7111row3_col0\" class=\"data row3 col0\" >3448</td>\n",
       "                        <td id=\"T_fa4adc92_3e18_11ea_b8e9_001a7dda7111row3_col1\" class=\"data row3 col1\" >3603</td>\n",
       "                        <td id=\"T_fa4adc92_3e18_11ea_b8e9_001a7dda7111row3_col2\" class=\"data row3 col2\" >3607</td>\n",
       "                        <td id=\"T_fa4adc92_3e18_11ea_b8e9_001a7dda7111row3_col3\" class=\"data row3 col3\" >3602</td>\n",
       "                        <td id=\"T_fa4adc92_3e18_11ea_b8e9_001a7dda7111row3_col4\" class=\"data row3 col4\" >3548</td>\n",
       "                        <td id=\"T_fa4adc92_3e18_11ea_b8e9_001a7dda7111row3_col5\" class=\"data row3 col5\" >3537</td>\n",
       "                        <td id=\"T_fa4adc92_3e18_11ea_b8e9_001a7dda7111row3_col6\" class=\"data row3 col6\" >3607</td>\n",
       "            </tr>\n",
       "            <tr>\n",
       "                                                <th id=\"T_fa4adc92_3e18_11ea_b8e9_001a7dda7111level3_row4\" class=\"row_heading level3 row4\" >2020-07-05</th>\n",
       "                        <th id=\"T_fa4adc92_3e18_11ea_b8e9_001a7dda7111level4_row4\" class=\"row_heading level4 row4\" >2020-07-20</th>\n",
       "                        <td id=\"T_fa4adc92_3e18_11ea_b8e9_001a7dda7111row4_col0\" class=\"data row4 col0\" >3597</td>\n",
       "                        <td id=\"T_fa4adc92_3e18_11ea_b8e9_001a7dda7111row4_col1\" class=\"data row4 col1\" >3597</td>\n",
       "                        <td id=\"T_fa4adc92_3e18_11ea_b8e9_001a7dda7111row4_col2\" class=\"data row4 col2\" >3641</td>\n",
       "                        <td id=\"T_fa4adc92_3e18_11ea_b8e9_001a7dda7111row4_col3\" class=\"data row4 col3\" >3558</td>\n",
       "                        <td id=\"T_fa4adc92_3e18_11ea_b8e9_001a7dda7111row4_col4\" class=\"data row4 col4\" >3550</td>\n",
       "                        <td id=\"T_fa4adc92_3e18_11ea_b8e9_001a7dda7111row4_col5\" class=\"data row4 col5\" >3575</td>\n",
       "                        <td id=\"T_fa4adc92_3e18_11ea_b8e9_001a7dda7111row4_col6\" class=\"data row4 col6\" >3618</td>\n",
       "            </tr>\n",
       "            <tr>\n",
       "                                                <th id=\"T_fa4adc92_3e18_11ea_b8e9_001a7dda7111level3_row5\" class=\"row_heading level3 row5\" >2020-07-06</th>\n",
       "                        <th id=\"T_fa4adc92_3e18_11ea_b8e9_001a7dda7111level4_row5\" class=\"row_heading level4 row5\" >2020-07-21</th>\n",
       "                        <td id=\"T_fa4adc92_3e18_11ea_b8e9_001a7dda7111row5_col0\" class=\"data row5 col0\" >3278</td>\n",
       "                        <td id=\"T_fa4adc92_3e18_11ea_b8e9_001a7dda7111row5_col1\" class=\"data row5 col1\" >3308</td>\n",
       "                        <td id=\"T_fa4adc92_3e18_11ea_b8e9_001a7dda7111row5_col2\" class=\"data row5 col2\" >3293</td>\n",
       "                        <td id=\"T_fa4adc92_3e18_11ea_b8e9_001a7dda7111row5_col3\" class=\"data row5 col3\" >3329</td>\n",
       "                        <td id=\"T_fa4adc92_3e18_11ea_b8e9_001a7dda7111row5_col4\" class=\"data row5 col4\" >3307</td>\n",
       "                        <td id=\"T_fa4adc92_3e18_11ea_b8e9_001a7dda7111row5_col5\" class=\"data row5 col5\" >3360</td>\n",
       "                        <td id=\"T_fa4adc92_3e18_11ea_b8e9_001a7dda7111row5_col6\" class=\"data row5 col6\" >3418</td>\n",
       "            </tr>\n",
       "            <tr>\n",
       "                                        <th id=\"T_fa4adc92_3e18_11ea_b8e9_001a7dda7111level2_row6\" class=\"row_heading level2 row6\" rowspan=4>16</th>\n",
       "                        <th id=\"T_fa4adc92_3e18_11ea_b8e9_001a7dda7111level3_row6\" class=\"row_heading level3 row6\" >2020-07-03</th>\n",
       "                        <th id=\"T_fa4adc92_3e18_11ea_b8e9_001a7dda7111level4_row6\" class=\"row_heading level4 row6\" >2020-07-19</th>\n",
       "                        <td id=\"T_fa4adc92_3e18_11ea_b8e9_001a7dda7111row6_col0\" class=\"data row6 col0\" >3400</td>\n",
       "                        <td id=\"T_fa4adc92_3e18_11ea_b8e9_001a7dda7111row6_col1\" class=\"data row6 col1\" >3602</td>\n",
       "                        <td id=\"T_fa4adc92_3e18_11ea_b8e9_001a7dda7111row6_col2\" class=\"data row6 col2\" >3603</td>\n",
       "                        <td id=\"T_fa4adc92_3e18_11ea_b8e9_001a7dda7111row6_col3\" class=\"data row6 col3\" >3376</td>\n",
       "                        <td id=\"T_fa4adc92_3e18_11ea_b8e9_001a7dda7111row6_col4\" class=\"data row6 col4\" >3376</td>\n",
       "                        <td id=\"T_fa4adc92_3e18_11ea_b8e9_001a7dda7111row6_col5\" class=\"data row6 col5\" >3487</td>\n",
       "                        <td id=\"T_fa4adc92_3e18_11ea_b8e9_001a7dda7111row6_col6\" class=\"data row6 col6\" >3367</td>\n",
       "            </tr>\n",
       "            <tr>\n",
       "                                                <th id=\"T_fa4adc92_3e18_11ea_b8e9_001a7dda7111level3_row7\" class=\"row_heading level3 row7\" >2020-07-04</th>\n",
       "                        <th id=\"T_fa4adc92_3e18_11ea_b8e9_001a7dda7111level4_row7\" class=\"row_heading level4 row7\" >2020-07-20</th>\n",
       "                        <td id=\"T_fa4adc92_3e18_11ea_b8e9_001a7dda7111row7_col0\" class=\"data row7 col0\" >3504</td>\n",
       "                        <td id=\"T_fa4adc92_3e18_11ea_b8e9_001a7dda7111row7_col1\" class=\"data row7 col1\" >3604</td>\n",
       "                        <td id=\"T_fa4adc92_3e18_11ea_b8e9_001a7dda7111row7_col2\" class=\"data row7 col2\" >3635</td>\n",
       "                        <td id=\"T_fa4adc92_3e18_11ea_b8e9_001a7dda7111row7_col3\" class=\"data row7 col3\" >3574</td>\n",
       "                        <td id=\"T_fa4adc92_3e18_11ea_b8e9_001a7dda7111row7_col4\" class=\"data row7 col4\" >3580</td>\n",
       "                        <td id=\"T_fa4adc92_3e18_11ea_b8e9_001a7dda7111row7_col5\" class=\"data row7 col5\" >3620</td>\n",
       "                        <td id=\"T_fa4adc92_3e18_11ea_b8e9_001a7dda7111row7_col6\" class=\"data row7 col6\" >3596</td>\n",
       "            </tr>\n",
       "            <tr>\n",
       "                                                <th id=\"T_fa4adc92_3e18_11ea_b8e9_001a7dda7111level3_row8\" class=\"row_heading level3 row8\" >2020-07-05</th>\n",
       "                        <th id=\"T_fa4adc92_3e18_11ea_b8e9_001a7dda7111level4_row8\" class=\"row_heading level4 row8\" >2020-07-21</th>\n",
       "                        <td id=\"T_fa4adc92_3e18_11ea_b8e9_001a7dda7111row8_col0\" class=\"data row8 col0\" >3450</td>\n",
       "                        <td id=\"T_fa4adc92_3e18_11ea_b8e9_001a7dda7111row8_col1\" class=\"data row8 col1\" >3547</td>\n",
       "                        <td id=\"T_fa4adc92_3e18_11ea_b8e9_001a7dda7111row8_col2\" class=\"data row8 col2\" >3559</td>\n",
       "                        <td id=\"T_fa4adc92_3e18_11ea_b8e9_001a7dda7111row8_col3\" class=\"data row8 col3\" >3554</td>\n",
       "                        <td id=\"T_fa4adc92_3e18_11ea_b8e9_001a7dda7111row8_col4\" class=\"data row8 col4\" >3403</td>\n",
       "                        <td id=\"T_fa4adc92_3e18_11ea_b8e9_001a7dda7111row8_col5\" class=\"data row8 col5\" >3583</td>\n",
       "                        <td id=\"T_fa4adc92_3e18_11ea_b8e9_001a7dda7111row8_col6\" class=\"data row8 col6\" >3612</td>\n",
       "            </tr>\n",
       "            <tr>\n",
       "                                                <th id=\"T_fa4adc92_3e18_11ea_b8e9_001a7dda7111level3_row9\" class=\"row_heading level3 row9\" >2020-07-06</th>\n",
       "                        <th id=\"T_fa4adc92_3e18_11ea_b8e9_001a7dda7111level4_row9\" class=\"row_heading level4 row9\" >2020-07-22</th>\n",
       "                        <td id=\"T_fa4adc92_3e18_11ea_b8e9_001a7dda7111row9_col0\" class=\"data row9 col0\" >3258</td>\n",
       "                        <td id=\"T_fa4adc92_3e18_11ea_b8e9_001a7dda7111row9_col1\" class=\"data row9 col1\" >3293</td>\n",
       "                        <td id=\"T_fa4adc92_3e18_11ea_b8e9_001a7dda7111row9_col2\" class=\"data row9 col2\" >3388</td>\n",
       "                        <td id=\"T_fa4adc92_3e18_11ea_b8e9_001a7dda7111row9_col3\" class=\"data row9 col3\" >3342</td>\n",
       "                        <td id=\"T_fa4adc92_3e18_11ea_b8e9_001a7dda7111row9_col4\" class=\"data row9 col4\" >3290</td>\n",
       "                        <td id=\"T_fa4adc92_3e18_11ea_b8e9_001a7dda7111row9_col5\" class=\"data row9 col5\" >3389</td>\n",
       "                        <td id=\"T_fa4adc92_3e18_11ea_b8e9_001a7dda7111row9_col6\" class=\"data row9 col6\" >3432</td>\n",
       "            </tr>\n",
       "            <tr>\n",
       "                                        <th id=\"T_fa4adc92_3e18_11ea_b8e9_001a7dda7111level2_row10\" class=\"row_heading level2 row10\" rowspan=4>17</th>\n",
       "                        <th id=\"T_fa4adc92_3e18_11ea_b8e9_001a7dda7111level3_row10\" class=\"row_heading level3 row10\" >2020-07-03</th>\n",
       "                        <th id=\"T_fa4adc92_3e18_11ea_b8e9_001a7dda7111level4_row10\" class=\"row_heading level4 row10\" >2020-07-20</th>\n",
       "                        <td id=\"T_fa4adc92_3e18_11ea_b8e9_001a7dda7111row10_col0\" class=\"data row10 col0\" >3441</td>\n",
       "                        <td id=\"T_fa4adc92_3e18_11ea_b8e9_001a7dda7111row10_col1\" class=\"data row10 col1\" >3590</td>\n",
       "                        <td id=\"T_fa4adc92_3e18_11ea_b8e9_001a7dda7111row10_col2\" class=\"data row10 col2\" >3591</td>\n",
       "                        <td id=\"T_fa4adc92_3e18_11ea_b8e9_001a7dda7111row10_col3\" class=\"data row10 col3\" >3560</td>\n",
       "                        <td id=\"T_fa4adc92_3e18_11ea_b8e9_001a7dda7111row10_col4\" class=\"data row10 col4\" >3612</td>\n",
       "                        <td id=\"T_fa4adc92_3e18_11ea_b8e9_001a7dda7111row10_col5\" class=\"data row10 col5\" >3586</td>\n",
       "                        <td id=\"T_fa4adc92_3e18_11ea_b8e9_001a7dda7111row10_col6\" class=\"data row10 col6\" >3558</td>\n",
       "            </tr>\n",
       "            <tr>\n",
       "                                                <th id=\"T_fa4adc92_3e18_11ea_b8e9_001a7dda7111level3_row11\" class=\"row_heading level3 row11\" >2020-07-04</th>\n",
       "                        <th id=\"T_fa4adc92_3e18_11ea_b8e9_001a7dda7111level4_row11\" class=\"row_heading level4 row11\" >2020-07-21</th>\n",
       "                        <td id=\"T_fa4adc92_3e18_11ea_b8e9_001a7dda7111row11_col0\" class=\"data row11 col0\" >3450</td>\n",
       "                        <td id=\"T_fa4adc92_3e18_11ea_b8e9_001a7dda7111row11_col1\" class=\"data row11 col1\" >3555</td>\n",
       "                        <td id=\"T_fa4adc92_3e18_11ea_b8e9_001a7dda7111row11_col2\" class=\"data row11 col2\" >3567</td>\n",
       "                        <td id=\"T_fa4adc92_3e18_11ea_b8e9_001a7dda7111row11_col3\" class=\"data row11 col3\" >3568</td>\n",
       "                        <td id=\"T_fa4adc92_3e18_11ea_b8e9_001a7dda7111row11_col4\" class=\"data row11 col4\" >3568</td>\n",
       "                        <td id=\"T_fa4adc92_3e18_11ea_b8e9_001a7dda7111row11_col5\" class=\"data row11 col5\" >3652</td>\n",
       "                        <td id=\"T_fa4adc92_3e18_11ea_b8e9_001a7dda7111row11_col6\" class=\"data row11 col6\" >3664</td>\n",
       "            </tr>\n",
       "            <tr>\n",
       "                                                <th id=\"T_fa4adc92_3e18_11ea_b8e9_001a7dda7111level3_row12\" class=\"row_heading level3 row12\" >2020-07-05</th>\n",
       "                        <th id=\"T_fa4adc92_3e18_11ea_b8e9_001a7dda7111level4_row12\" class=\"row_heading level4 row12\" >2020-07-22</th>\n",
       "                        <td id=\"T_fa4adc92_3e18_11ea_b8e9_001a7dda7111row12_col0\" class=\"data row12 col0\" >3415</td>\n",
       "                        <td id=\"T_fa4adc92_3e18_11ea_b8e9_001a7dda7111row12_col1\" class=\"data row12 col1\" >3539</td>\n",
       "                        <td id=\"T_fa4adc92_3e18_11ea_b8e9_001a7dda7111row12_col2\" class=\"data row12 col2\" >3547</td>\n",
       "                        <td id=\"T_fa4adc92_3e18_11ea_b8e9_001a7dda7111row12_col3\" class=\"data row12 col3\" >3573</td>\n",
       "                        <td id=\"T_fa4adc92_3e18_11ea_b8e9_001a7dda7111row12_col4\" class=\"data row12 col4\" >3548</td>\n",
       "                        <td id=\"T_fa4adc92_3e18_11ea_b8e9_001a7dda7111row12_col5\" class=\"data row12 col5\" >3605</td>\n",
       "                        <td id=\"T_fa4adc92_3e18_11ea_b8e9_001a7dda7111row12_col6\" class=\"data row12 col6\" >3637</td>\n",
       "            </tr>\n",
       "            <tr>\n",
       "                                                <th id=\"T_fa4adc92_3e18_11ea_b8e9_001a7dda7111level3_row13\" class=\"row_heading level3 row13\" >2020-07-06</th>\n",
       "                        <th id=\"T_fa4adc92_3e18_11ea_b8e9_001a7dda7111level4_row13\" class=\"row_heading level4 row13\" >2020-07-23</th>\n",
       "                        <td id=\"T_fa4adc92_3e18_11ea_b8e9_001a7dda7111row13_col0\" class=\"data row13 col0\" >3220</td>\n",
       "                        <td id=\"T_fa4adc92_3e18_11ea_b8e9_001a7dda7111row13_col1\" class=\"data row13 col1\" >3225</td>\n",
       "                        <td id=\"T_fa4adc92_3e18_11ea_b8e9_001a7dda7111row13_col2\" class=\"data row13 col2\" >3192</td>\n",
       "                        <td id=\"T_fa4adc92_3e18_11ea_b8e9_001a7dda7111row13_col3\" class=\"data row13 col3\" >3278</td>\n",
       "                        <td id=\"T_fa4adc92_3e18_11ea_b8e9_001a7dda7111row13_col4\" class=\"data row13 col4\" >3403</td>\n",
       "                        <td id=\"T_fa4adc92_3e18_11ea_b8e9_001a7dda7111row13_col5\" class=\"data row13 col5\" >3366</td>\n",
       "                        <td id=\"T_fa4adc92_3e18_11ea_b8e9_001a7dda7111row13_col6\" class=\"data row13 col6\" >3393</td>\n",
       "            </tr>\n",
       "            <tr>\n",
       "                                        <th id=\"T_fa4adc92_3e18_11ea_b8e9_001a7dda7111level2_row14\" class=\"row_heading level2 row14\" rowspan=3>18</th>\n",
       "                        <th id=\"T_fa4adc92_3e18_11ea_b8e9_001a7dda7111level3_row14\" class=\"row_heading level3 row14\" >2020-07-03</th>\n",
       "                        <th id=\"T_fa4adc92_3e18_11ea_b8e9_001a7dda7111level4_row14\" class=\"row_heading level4 row14\" >2020-07-21</th>\n",
       "                        <td id=\"T_fa4adc92_3e18_11ea_b8e9_001a7dda7111row14_col0\" class=\"data row14 col0\" >3445</td>\n",
       "                        <td id=\"T_fa4adc92_3e18_11ea_b8e9_001a7dda7111row14_col1\" class=\"data row14 col1\" >3571</td>\n",
       "                        <td id=\"T_fa4adc92_3e18_11ea_b8e9_001a7dda7111row14_col2\" class=\"data row14 col2\" >3559</td>\n",
       "                        <td id=\"T_fa4adc92_3e18_11ea_b8e9_001a7dda7111row14_col3\" class=\"data row14 col3\" >3545</td>\n",
       "                        <td id=\"T_fa4adc92_3e18_11ea_b8e9_001a7dda7111row14_col4\" class=\"data row14 col4\" >3585</td>\n",
       "                        <td id=\"T_fa4adc92_3e18_11ea_b8e9_001a7dda7111row14_col5\" class=\"data row14 col5\" >3592</td>\n",
       "                        <td id=\"T_fa4adc92_3e18_11ea_b8e9_001a7dda7111row14_col6\" class=\"data row14 col6\" >3552</td>\n",
       "            </tr>\n",
       "            <tr>\n",
       "                                                <th id=\"T_fa4adc92_3e18_11ea_b8e9_001a7dda7111level3_row15\" class=\"row_heading level3 row15\" >2020-07-04</th>\n",
       "                        <th id=\"T_fa4adc92_3e18_11ea_b8e9_001a7dda7111level4_row15\" class=\"row_heading level4 row15\" >2020-07-22</th>\n",
       "                        <td id=\"T_fa4adc92_3e18_11ea_b8e9_001a7dda7111row15_col0\" class=\"data row15 col0\" >3417</td>\n",
       "                        <td id=\"T_fa4adc92_3e18_11ea_b8e9_001a7dda7111row15_col1\" class=\"data row15 col1\" >3553</td>\n",
       "                        <td id=\"T_fa4adc92_3e18_11ea_b8e9_001a7dda7111row15_col2\" class=\"data row15 col2\" >3547</td>\n",
       "                        <td id=\"T_fa4adc92_3e18_11ea_b8e9_001a7dda7111row15_col3\" class=\"data row15 col3\" >3602</td>\n",
       "                        <td id=\"T_fa4adc92_3e18_11ea_b8e9_001a7dda7111row15_col4\" class=\"data row15 col4\" >3660</td>\n",
       "                        <td id=\"T_fa4adc92_3e18_11ea_b8e9_001a7dda7111row15_col5\" class=\"data row15 col5\" >3641</td>\n",
       "                        <td id=\"T_fa4adc92_3e18_11ea_b8e9_001a7dda7111row15_col6\" class=\"data row15 col6\" >3632</td>\n",
       "            </tr>\n",
       "            <tr>\n",
       "                                                <th id=\"T_fa4adc92_3e18_11ea_b8e9_001a7dda7111level3_row16\" class=\"row_heading level3 row16\" >2020-07-05</th>\n",
       "                        <th id=\"T_fa4adc92_3e18_11ea_b8e9_001a7dda7111level4_row16\" class=\"row_heading level4 row16\" >2020-07-23</th>\n",
       "                        <td id=\"T_fa4adc92_3e18_11ea_b8e9_001a7dda7111row16_col0\" class=\"data row16 col0\" >3395</td>\n",
       "                        <td id=\"T_fa4adc92_3e18_11ea_b8e9_001a7dda7111row16_col1\" class=\"data row16 col1\" >3521</td>\n",
       "                        <td id=\"T_fa4adc92_3e18_11ea_b8e9_001a7dda7111row16_col2\" class=\"data row16 col2\" >3502</td>\n",
       "                        <td id=\"T_fa4adc92_3e18_11ea_b8e9_001a7dda7111row16_col3\" class=\"data row16 col3\" >3546</td>\n",
       "                        <td id=\"T_fa4adc92_3e18_11ea_b8e9_001a7dda7111row16_col4\" class=\"data row16 col4\" >3491</td>\n",
       "                        <td id=\"T_fa4adc92_3e18_11ea_b8e9_001a7dda7111row16_col5\" class=\"data row16 col5\" >3602</td>\n",
       "                        <td id=\"T_fa4adc92_3e18_11ea_b8e9_001a7dda7111row16_col6\" class=\"data row16 col6\" >3691</td>\n",
       "            </tr>\n",
       "            <tr>\n",
       "                                        <th id=\"T_fa4adc92_3e18_11ea_b8e9_001a7dda7111level2_row17\" class=\"row_heading level2 row17\" rowspan=2>19</th>\n",
       "                        <th id=\"T_fa4adc92_3e18_11ea_b8e9_001a7dda7111level3_row17\" class=\"row_heading level3 row17\" >2020-07-03</th>\n",
       "                        <th id=\"T_fa4adc92_3e18_11ea_b8e9_001a7dda7111level4_row17\" class=\"row_heading level4 row17\" >2020-07-22</th>\n",
       "                        <td id=\"T_fa4adc92_3e18_11ea_b8e9_001a7dda7111row17_col0\" class=\"data row17 col0\" >3396</td>\n",
       "                        <td id=\"T_fa4adc92_3e18_11ea_b8e9_001a7dda7111row17_col1\" class=\"data row17 col1\" >3531</td>\n",
       "                        <td id=\"T_fa4adc92_3e18_11ea_b8e9_001a7dda7111row17_col2\" class=\"data row17 col2\" >3510</td>\n",
       "                        <td id=\"T_fa4adc92_3e18_11ea_b8e9_001a7dda7111row17_col3\" class=\"data row17 col3\" >3551</td>\n",
       "                        <td id=\"T_fa4adc92_3e18_11ea_b8e9_001a7dda7111row17_col4\" class=\"data row17 col4\" >3564</td>\n",
       "                        <td id=\"T_fa4adc92_3e18_11ea_b8e9_001a7dda7111row17_col5\" class=\"data row17 col5\" >3577</td>\n",
       "                        <td id=\"T_fa4adc92_3e18_11ea_b8e9_001a7dda7111row17_col6\" class=\"data row17 col6\" >3568</td>\n",
       "            </tr>\n",
       "            <tr>\n",
       "                                                <th id=\"T_fa4adc92_3e18_11ea_b8e9_001a7dda7111level3_row18\" class=\"row_heading level3 row18\" >2020-07-04</th>\n",
       "                        <th id=\"T_fa4adc92_3e18_11ea_b8e9_001a7dda7111level4_row18\" class=\"row_heading level4 row18\" >2020-07-23</th>\n",
       "                        <td id=\"T_fa4adc92_3e18_11ea_b8e9_001a7dda7111row18_col0\" class=\"data row18 col0\" >3389</td>\n",
       "                        <td id=\"T_fa4adc92_3e18_11ea_b8e9_001a7dda7111row18_col1\" class=\"data row18 col1\" >3521</td>\n",
       "                        <td id=\"T_fa4adc92_3e18_11ea_b8e9_001a7dda7111row18_col2\" class=\"data row18 col2\" >3499</td>\n",
       "                        <td id=\"T_fa4adc92_3e18_11ea_b8e9_001a7dda7111row18_col3\" class=\"data row18 col3\" >3544</td>\n",
       "                        <td id=\"T_fa4adc92_3e18_11ea_b8e9_001a7dda7111row18_col4\" class=\"data row18 col4\" >3522</td>\n",
       "                        <td id=\"T_fa4adc92_3e18_11ea_b8e9_001a7dda7111row18_col5\" class=\"data row18 col5\" >3577</td>\n",
       "                        <td id=\"T_fa4adc92_3e18_11ea_b8e9_001a7dda7111row18_col6\" class=\"data row18 col6\" >3625</td>\n",
       "            </tr>\n",
       "            <tr>\n",
       "                                        <th id=\"T_fa4adc92_3e18_11ea_b8e9_001a7dda7111level2_row19\" class=\"row_heading level2 row19\" >20</th>\n",
       "                        <th id=\"T_fa4adc92_3e18_11ea_b8e9_001a7dda7111level3_row19\" class=\"row_heading level3 row19\" >2020-07-03</th>\n",
       "                        <th id=\"T_fa4adc92_3e18_11ea_b8e9_001a7dda7111level4_row19\" class=\"row_heading level4 row19\" >2020-07-23</th>\n",
       "                        <td id=\"T_fa4adc92_3e18_11ea_b8e9_001a7dda7111row19_col0\" class=\"data row19 col0\" >3363</td>\n",
       "                        <td id=\"T_fa4adc92_3e18_11ea_b8e9_001a7dda7111row19_col1\" class=\"data row19 col1\" >3507</td>\n",
       "                        <td id=\"T_fa4adc92_3e18_11ea_b8e9_001a7dda7111row19_col2\" class=\"data row19 col2\" >3425</td>\n",
       "                        <td id=\"T_fa4adc92_3e18_11ea_b8e9_001a7dda7111row19_col3\" class=\"data row19 col3\" >3533</td>\n",
       "                        <td id=\"T_fa4adc92_3e18_11ea_b8e9_001a7dda7111row19_col4\" class=\"data row19 col4\" >3456</td>\n",
       "                        <td id=\"T_fa4adc92_3e18_11ea_b8e9_001a7dda7111row19_col5\" class=\"data row19 col5\" >3542</td>\n",
       "                        <td id=\"T_fa4adc92_3e18_11ea_b8e9_001a7dda7111row19_col6\" class=\"data row19 col6\" >3542</td>\n",
       "            </tr>\n",
       "            <tr>\n",
       "                        <th id=\"T_fa4adc92_3e18_11ea_b8e9_001a7dda7111level0_row20\" class=\"row_heading level0 row20\" rowspan=20>POA</th>\n",
       "                        <th id=\"T_fa4adc92_3e18_11ea_b8e9_001a7dda7111level1_row20\" class=\"row_heading level1 row20\" rowspan=20>MIA</th>\n",
       "                        <th id=\"T_fa4adc92_3e18_11ea_b8e9_001a7dda7111level2_row20\" class=\"row_heading level2 row20\" >13</th>\n",
       "                        <th id=\"T_fa4adc92_3e18_11ea_b8e9_001a7dda7111level3_row20\" class=\"row_heading level3 row20\" >2020-07-06</th>\n",
       "                        <th id=\"T_fa4adc92_3e18_11ea_b8e9_001a7dda7111level4_row20\" class=\"row_heading level4 row20\" >2020-07-19</th>\n",
       "                        <td id=\"T_fa4adc92_3e18_11ea_b8e9_001a7dda7111row20_col0\" class=\"data row20 col0\" >3906</td>\n",
       "                        <td id=\"T_fa4adc92_3e18_11ea_b8e9_001a7dda7111row20_col1\" class=\"data row20 col1\" >3779</td>\n",
       "                        <td id=\"T_fa4adc92_3e18_11ea_b8e9_001a7dda7111row20_col2\" class=\"data row20 col2\" >3686</td>\n",
       "                        <td id=\"T_fa4adc92_3e18_11ea_b8e9_001a7dda7111row20_col3\" class=\"data row20 col3\" >3661</td>\n",
       "                        <td id=\"T_fa4adc92_3e18_11ea_b8e9_001a7dda7111row20_col4\" class=\"data row20 col4\" >4012</td>\n",
       "                        <td id=\"T_fa4adc92_3e18_11ea_b8e9_001a7dda7111row20_col5\" class=\"data row20 col5\" >3925</td>\n",
       "                        <td id=\"T_fa4adc92_3e18_11ea_b8e9_001a7dda7111row20_col6\" class=\"data row20 col6\" >3812</td>\n",
       "            </tr>\n",
       "            <tr>\n",
       "                                        <th id=\"T_fa4adc92_3e18_11ea_b8e9_001a7dda7111level2_row21\" class=\"row_heading level2 row21\" rowspan=2>14</th>\n",
       "                        <th id=\"T_fa4adc92_3e18_11ea_b8e9_001a7dda7111level3_row21\" class=\"row_heading level3 row21\" >2020-07-05</th>\n",
       "                        <th id=\"T_fa4adc92_3e18_11ea_b8e9_001a7dda7111level4_row21\" class=\"row_heading level4 row21\" >2020-07-19</th>\n",
       "                        <td id=\"T_fa4adc92_3e18_11ea_b8e9_001a7dda7111row21_col0\" class=\"data row21 col0\" >3804</td>\n",
       "                        <td id=\"T_fa4adc92_3e18_11ea_b8e9_001a7dda7111row21_col1\" class=\"data row21 col1\" >3846</td>\n",
       "                        <td id=\"T_fa4adc92_3e18_11ea_b8e9_001a7dda7111row21_col2\" class=\"data row21 col2\" >3836</td>\n",
       "                        <td id=\"T_fa4adc92_3e18_11ea_b8e9_001a7dda7111row21_col3\" class=\"data row21 col3\" >3860</td>\n",
       "                        <td id=\"T_fa4adc92_3e18_11ea_b8e9_001a7dda7111row21_col4\" class=\"data row21 col4\" >4012</td>\n",
       "                        <td id=\"T_fa4adc92_3e18_11ea_b8e9_001a7dda7111row21_col5\" class=\"data row21 col5\" >3940</td>\n",
       "                        <td id=\"T_fa4adc92_3e18_11ea_b8e9_001a7dda7111row21_col6\" class=\"data row21 col6\" >3844</td>\n",
       "            </tr>\n",
       "            <tr>\n",
       "                                                <th id=\"T_fa4adc92_3e18_11ea_b8e9_001a7dda7111level3_row22\" class=\"row_heading level3 row22\" >2020-07-06</th>\n",
       "                        <th id=\"T_fa4adc92_3e18_11ea_b8e9_001a7dda7111level4_row22\" class=\"row_heading level4 row22\" >2020-07-20</th>\n",
       "                        <td id=\"T_fa4adc92_3e18_11ea_b8e9_001a7dda7111row22_col0\" class=\"data row22 col0\" >3622</td>\n",
       "                        <td id=\"T_fa4adc92_3e18_11ea_b8e9_001a7dda7111row22_col1\" class=\"data row22 col1\" >3618</td>\n",
       "                        <td id=\"T_fa4adc92_3e18_11ea_b8e9_001a7dda7111row22_col2\" class=\"data row22 col2\" >3597</td>\n",
       "                        <td id=\"T_fa4adc92_3e18_11ea_b8e9_001a7dda7111row22_col3\" class=\"data row22 col3\" >3561</td>\n",
       "                        <td id=\"T_fa4adc92_3e18_11ea_b8e9_001a7dda7111row22_col4\" class=\"data row22 col4\" >3753</td>\n",
       "                        <td id=\"T_fa4adc92_3e18_11ea_b8e9_001a7dda7111row22_col5\" class=\"data row22 col5\" >3761</td>\n",
       "                        <td id=\"T_fa4adc92_3e18_11ea_b8e9_001a7dda7111row22_col6\" class=\"data row22 col6\" >3687</td>\n",
       "            </tr>\n",
       "            <tr>\n",
       "                                        <th id=\"T_fa4adc92_3e18_11ea_b8e9_001a7dda7111level2_row23\" class=\"row_heading level2 row23\" rowspan=3>15</th>\n",
       "                        <th id=\"T_fa4adc92_3e18_11ea_b8e9_001a7dda7111level3_row23\" class=\"row_heading level3 row23\" >2020-07-04</th>\n",
       "                        <th id=\"T_fa4adc92_3e18_11ea_b8e9_001a7dda7111level4_row23\" class=\"row_heading level4 row23\" >2020-07-19</th>\n",
       "                        <td id=\"T_fa4adc92_3e18_11ea_b8e9_001a7dda7111row23_col0\" class=\"data row23 col0\" >3871</td>\n",
       "                        <td id=\"T_fa4adc92_3e18_11ea_b8e9_001a7dda7111row23_col1\" class=\"data row23 col1\" >3858</td>\n",
       "                        <td id=\"T_fa4adc92_3e18_11ea_b8e9_001a7dda7111row23_col2\" class=\"data row23 col2\" >3981</td>\n",
       "                        <td id=\"T_fa4adc92_3e18_11ea_b8e9_001a7dda7111row23_col3\" class=\"data row23 col3\" >3916</td>\n",
       "                        <td id=\"T_fa4adc92_3e18_11ea_b8e9_001a7dda7111row23_col4\" class=\"data row23 col4\" >4022</td>\n",
       "                        <td id=\"T_fa4adc92_3e18_11ea_b8e9_001a7dda7111row23_col5\" class=\"data row23 col5\" >3932</td>\n",
       "                        <td id=\"T_fa4adc92_3e18_11ea_b8e9_001a7dda7111row23_col6\" class=\"data row23 col6\" >3670</td>\n",
       "            </tr>\n",
       "            <tr>\n",
       "                                                <th id=\"T_fa4adc92_3e18_11ea_b8e9_001a7dda7111level3_row24\" class=\"row_heading level3 row24\" >2020-07-05</th>\n",
       "                        <th id=\"T_fa4adc92_3e18_11ea_b8e9_001a7dda7111level4_row24\" class=\"row_heading level4 row24\" >2020-07-20</th>\n",
       "                        <td id=\"T_fa4adc92_3e18_11ea_b8e9_001a7dda7111row24_col0\" class=\"data row24 col0\" >3630</td>\n",
       "                        <td id=\"T_fa4adc92_3e18_11ea_b8e9_001a7dda7111row24_col1\" class=\"data row24 col1\" >3757</td>\n",
       "                        <td id=\"T_fa4adc92_3e18_11ea_b8e9_001a7dda7111row24_col2\" class=\"data row24 col2\" >3684</td>\n",
       "                        <td id=\"T_fa4adc92_3e18_11ea_b8e9_001a7dda7111row24_col3\" class=\"data row24 col3\" >3745</td>\n",
       "                        <td id=\"T_fa4adc92_3e18_11ea_b8e9_001a7dda7111row24_col4\" class=\"data row24 col4\" >3761</td>\n",
       "                        <td id=\"T_fa4adc92_3e18_11ea_b8e9_001a7dda7111row24_col5\" class=\"data row24 col5\" >3771</td>\n",
       "                        <td id=\"T_fa4adc92_3e18_11ea_b8e9_001a7dda7111row24_col6\" class=\"data row24 col6\" >3795</td>\n",
       "            </tr>\n",
       "            <tr>\n",
       "                                                <th id=\"T_fa4adc92_3e18_11ea_b8e9_001a7dda7111level3_row25\" class=\"row_heading level3 row25\" >2020-07-06</th>\n",
       "                        <th id=\"T_fa4adc92_3e18_11ea_b8e9_001a7dda7111level4_row25\" class=\"row_heading level4 row25\" >2020-07-21</th>\n",
       "                        <td id=\"T_fa4adc92_3e18_11ea_b8e9_001a7dda7111row25_col0\" class=\"data row25 col0\" >3584</td>\n",
       "                        <td id=\"T_fa4adc92_3e18_11ea_b8e9_001a7dda7111row25_col1\" class=\"data row25 col1\" >3496</td>\n",
       "                        <td id=\"T_fa4adc92_3e18_11ea_b8e9_001a7dda7111row25_col2\" class=\"data row25 col2\" >3527</td>\n",
       "                        <td id=\"T_fa4adc92_3e18_11ea_b8e9_001a7dda7111row25_col3\" class=\"data row25 col3\" >3522</td>\n",
       "                        <td id=\"T_fa4adc92_3e18_11ea_b8e9_001a7dda7111row25_col4\" class=\"data row25 col4\" >3884</td>\n",
       "                        <td id=\"T_fa4adc92_3e18_11ea_b8e9_001a7dda7111row25_col5\" class=\"data row25 col5\" >3681</td>\n",
       "                        <td id=\"T_fa4adc92_3e18_11ea_b8e9_001a7dda7111row25_col6\" class=\"data row25 col6\" >3733</td>\n",
       "            </tr>\n",
       "            <tr>\n",
       "                                        <th id=\"T_fa4adc92_3e18_11ea_b8e9_001a7dda7111level2_row26\" class=\"row_heading level2 row26\" rowspan=4>16</th>\n",
       "                        <th id=\"T_fa4adc92_3e18_11ea_b8e9_001a7dda7111level3_row26\" class=\"row_heading level3 row26\" >2020-07-03</th>\n",
       "                        <th id=\"T_fa4adc92_3e18_11ea_b8e9_001a7dda7111level4_row26\" class=\"row_heading level4 row26\" >2020-07-19</th>\n",
       "                        <td id=\"T_fa4adc92_3e18_11ea_b8e9_001a7dda7111row26_col0\" class=\"data row26 col0\" >3861</td>\n",
       "                        <td id=\"T_fa4adc92_3e18_11ea_b8e9_001a7dda7111row26_col1\" class=\"data row26 col1\" >3574</td>\n",
       "                        <td id=\"T_fa4adc92_3e18_11ea_b8e9_001a7dda7111row26_col2\" class=\"data row26 col2\" >3732</td>\n",
       "                        <td id=\"T_fa4adc92_3e18_11ea_b8e9_001a7dda7111row26_col3\" class=\"data row26 col3\" >3517</td>\n",
       "                        <td id=\"T_fa4adc92_3e18_11ea_b8e9_001a7dda7111row26_col4\" class=\"data row26 col4\" >4187</td>\n",
       "                        <td id=\"T_fa4adc92_3e18_11ea_b8e9_001a7dda7111row26_col5\" class=\"data row26 col5\" >4104</td>\n",
       "                        <td id=\"T_fa4adc92_3e18_11ea_b8e9_001a7dda7111row26_col6\" class=\"data row26 col6\" >3582</td>\n",
       "            </tr>\n",
       "            <tr>\n",
       "                                                <th id=\"T_fa4adc92_3e18_11ea_b8e9_001a7dda7111level3_row27\" class=\"row_heading level3 row27\" >2020-07-04</th>\n",
       "                        <th id=\"T_fa4adc92_3e18_11ea_b8e9_001a7dda7111level4_row27\" class=\"row_heading level4 row27\" >2020-07-20</th>\n",
       "                        <td id=\"T_fa4adc92_3e18_11ea_b8e9_001a7dda7111row27_col0\" class=\"data row27 col0\" >3666</td>\n",
       "                        <td id=\"T_fa4adc92_3e18_11ea_b8e9_001a7dda7111row27_col1\" class=\"data row27 col1\" >3749</td>\n",
       "                        <td id=\"T_fa4adc92_3e18_11ea_b8e9_001a7dda7111row27_col2\" class=\"data row27 col2\" >3754</td>\n",
       "                        <td id=\"T_fa4adc92_3e18_11ea_b8e9_001a7dda7111row27_col3\" class=\"data row27 col3\" >3703</td>\n",
       "                        <td id=\"T_fa4adc92_3e18_11ea_b8e9_001a7dda7111row27_col4\" class=\"data row27 col4\" >3830</td>\n",
       "                        <td id=\"T_fa4adc92_3e18_11ea_b8e9_001a7dda7111row27_col5\" class=\"data row27 col5\" >3777</td>\n",
       "                        <td id=\"T_fa4adc92_3e18_11ea_b8e9_001a7dda7111row27_col6\" class=\"data row27 col6\" >3722</td>\n",
       "            </tr>\n",
       "            <tr>\n",
       "                                                <th id=\"T_fa4adc92_3e18_11ea_b8e9_001a7dda7111level3_row28\" class=\"row_heading level3 row28\" >2020-07-05</th>\n",
       "                        <th id=\"T_fa4adc92_3e18_11ea_b8e9_001a7dda7111level4_row28\" class=\"row_heading level4 row28\" >2020-07-21</th>\n",
       "                        <td id=\"T_fa4adc92_3e18_11ea_b8e9_001a7dda7111row28_col0\" class=\"data row28 col0\" >3598</td>\n",
       "                        <td id=\"T_fa4adc92_3e18_11ea_b8e9_001a7dda7111row28_col1\" class=\"data row28 col1\" >3642</td>\n",
       "                        <td id=\"T_fa4adc92_3e18_11ea_b8e9_001a7dda7111row28_col2\" class=\"data row28 col2\" >3601</td>\n",
       "                        <td id=\"T_fa4adc92_3e18_11ea_b8e9_001a7dda7111row28_col3\" class=\"data row28 col3\" >3704</td>\n",
       "                        <td id=\"T_fa4adc92_3e18_11ea_b8e9_001a7dda7111row28_col4\" class=\"data row28 col4\" >3702</td>\n",
       "                        <td id=\"T_fa4adc92_3e18_11ea_b8e9_001a7dda7111row28_col5\" class=\"data row28 col5\" >3771</td>\n",
       "                        <td id=\"T_fa4adc92_3e18_11ea_b8e9_001a7dda7111row28_col6\" class=\"data row28 col6\" >3766</td>\n",
       "            </tr>\n",
       "            <tr>\n",
       "                                                <th id=\"T_fa4adc92_3e18_11ea_b8e9_001a7dda7111level3_row29\" class=\"row_heading level3 row29\" >2020-07-06</th>\n",
       "                        <th id=\"T_fa4adc92_3e18_11ea_b8e9_001a7dda7111level4_row29\" class=\"row_heading level4 row29\" >2020-07-22</th>\n",
       "                        <td id=\"T_fa4adc92_3e18_11ea_b8e9_001a7dda7111row29_col0\" class=\"data row29 col0\" >3654</td>\n",
       "                        <td id=\"T_fa4adc92_3e18_11ea_b8e9_001a7dda7111row29_col1\" class=\"data row29 col1\" >3520</td>\n",
       "                        <td id=\"T_fa4adc92_3e18_11ea_b8e9_001a7dda7111row29_col2\" class=\"data row29 col2\" >3560</td>\n",
       "                        <td id=\"T_fa4adc92_3e18_11ea_b8e9_001a7dda7111row29_col3\" class=\"data row29 col3\" >3529</td>\n",
       "                        <td id=\"T_fa4adc92_3e18_11ea_b8e9_001a7dda7111row29_col4\" class=\"data row29 col4\" >3693</td>\n",
       "                        <td id=\"T_fa4adc92_3e18_11ea_b8e9_001a7dda7111row29_col5\" class=\"data row29 col5\" >3785</td>\n",
       "                        <td id=\"T_fa4adc92_3e18_11ea_b8e9_001a7dda7111row29_col6\" class=\"data row29 col6\" >3744</td>\n",
       "            </tr>\n",
       "            <tr>\n",
       "                                        <th id=\"T_fa4adc92_3e18_11ea_b8e9_001a7dda7111level2_row30\" class=\"row_heading level2 row30\" rowspan=4>17</th>\n",
       "                        <th id=\"T_fa4adc92_3e18_11ea_b8e9_001a7dda7111level3_row30\" class=\"row_heading level3 row30\" >2020-07-03</th>\n",
       "                        <th id=\"T_fa4adc92_3e18_11ea_b8e9_001a7dda7111level4_row30\" class=\"row_heading level4 row30\" >2020-07-20</th>\n",
       "                        <td id=\"T_fa4adc92_3e18_11ea_b8e9_001a7dda7111row30_col0\" class=\"data row30 col0\" >3650</td>\n",
       "                        <td id=\"T_fa4adc92_3e18_11ea_b8e9_001a7dda7111row30_col1\" class=\"data row30 col1\" >3551</td>\n",
       "                        <td id=\"T_fa4adc92_3e18_11ea_b8e9_001a7dda7111row30_col2\" class=\"data row30 col2\" >3521</td>\n",
       "                        <td id=\"T_fa4adc92_3e18_11ea_b8e9_001a7dda7111row30_col3\" class=\"data row30 col3\" >3480</td>\n",
       "                        <td id=\"T_fa4adc92_3e18_11ea_b8e9_001a7dda7111row30_col4\" class=\"data row30 col4\" >3747</td>\n",
       "                        <td id=\"T_fa4adc92_3e18_11ea_b8e9_001a7dda7111row30_col5\" class=\"data row30 col5\" >3819</td>\n",
       "                        <td id=\"T_fa4adc92_3e18_11ea_b8e9_001a7dda7111row30_col6\" class=\"data row30 col6\" >3660</td>\n",
       "            </tr>\n",
       "            <tr>\n",
       "                                                <th id=\"T_fa4adc92_3e18_11ea_b8e9_001a7dda7111level3_row31\" class=\"row_heading level3 row31\" >2020-07-04</th>\n",
       "                        <th id=\"T_fa4adc92_3e18_11ea_b8e9_001a7dda7111level4_row31\" class=\"row_heading level4 row31\" >2020-07-21</th>\n",
       "                        <td id=\"T_fa4adc92_3e18_11ea_b8e9_001a7dda7111row31_col0\" class=\"data row31 col0\" >3615</td>\n",
       "                        <td id=\"T_fa4adc92_3e18_11ea_b8e9_001a7dda7111row31_col1\" class=\"data row31 col1\" >3683</td>\n",
       "                        <td id=\"T_fa4adc92_3e18_11ea_b8e9_001a7dda7111row31_col2\" class=\"data row31 col2\" >3680</td>\n",
       "                        <td id=\"T_fa4adc92_3e18_11ea_b8e9_001a7dda7111row31_col3\" class=\"data row31 col3\" >3711</td>\n",
       "                        <td id=\"T_fa4adc92_3e18_11ea_b8e9_001a7dda7111row31_col4\" class=\"data row31 col4\" >3801</td>\n",
       "                        <td id=\"T_fa4adc92_3e18_11ea_b8e9_001a7dda7111row31_col5\" class=\"data row31 col5\" >3767</td>\n",
       "                        <td id=\"T_fa4adc92_3e18_11ea_b8e9_001a7dda7111row31_col6\" class=\"data row31 col6\" >3724</td>\n",
       "            </tr>\n",
       "            <tr>\n",
       "                                                <th id=\"T_fa4adc92_3e18_11ea_b8e9_001a7dda7111level3_row32\" class=\"row_heading level3 row32\" >2020-07-05</th>\n",
       "                        <th id=\"T_fa4adc92_3e18_11ea_b8e9_001a7dda7111level4_row32\" class=\"row_heading level4 row32\" >2020-07-22</th>\n",
       "                        <td id=\"T_fa4adc92_3e18_11ea_b8e9_001a7dda7111row32_col0\" class=\"data row32 col0\" >3598</td>\n",
       "                        <td id=\"T_fa4adc92_3e18_11ea_b8e9_001a7dda7111row32_col1\" class=\"data row32 col1\" >3653</td>\n",
       "                        <td id=\"T_fa4adc92_3e18_11ea_b8e9_001a7dda7111row32_col2\" class=\"data row32 col2\" >3526</td>\n",
       "                        <td id=\"T_fa4adc92_3e18_11ea_b8e9_001a7dda7111row32_col3\" class=\"data row32 col3\" >3754</td>\n",
       "                        <td id=\"T_fa4adc92_3e18_11ea_b8e9_001a7dda7111row32_col4\" class=\"data row32 col4\" >3720</td>\n",
       "                        <td id=\"T_fa4adc92_3e18_11ea_b8e9_001a7dda7111row32_col5\" class=\"data row32 col5\" >3820</td>\n",
       "                        <td id=\"T_fa4adc92_3e18_11ea_b8e9_001a7dda7111row32_col6\" class=\"data row32 col6\" >3795</td>\n",
       "            </tr>\n",
       "            <tr>\n",
       "                                                <th id=\"T_fa4adc92_3e18_11ea_b8e9_001a7dda7111level3_row33\" class=\"row_heading level3 row33\" >2020-07-06</th>\n",
       "                        <th id=\"T_fa4adc92_3e18_11ea_b8e9_001a7dda7111level4_row33\" class=\"row_heading level4 row33\" >2020-07-23</th>\n",
       "                        <td id=\"T_fa4adc92_3e18_11ea_b8e9_001a7dda7111row33_col0\" class=\"data row33 col0\" >3674</td>\n",
       "                        <td id=\"T_fa4adc92_3e18_11ea_b8e9_001a7dda7111row33_col1\" class=\"data row33 col1\" >3510</td>\n",
       "                        <td id=\"T_fa4adc92_3e18_11ea_b8e9_001a7dda7111row33_col2\" class=\"data row33 col2\" >3623</td>\n",
       "                        <td id=\"T_fa4adc92_3e18_11ea_b8e9_001a7dda7111row33_col3\" class=\"data row33 col3\" >3573</td>\n",
       "                        <td id=\"T_fa4adc92_3e18_11ea_b8e9_001a7dda7111row33_col4\" class=\"data row33 col4\" >3718</td>\n",
       "                        <td id=\"T_fa4adc92_3e18_11ea_b8e9_001a7dda7111row33_col5\" class=\"data row33 col5\" >3761</td>\n",
       "                        <td id=\"T_fa4adc92_3e18_11ea_b8e9_001a7dda7111row33_col6\" class=\"data row33 col6\" >3749</td>\n",
       "            </tr>\n",
       "            <tr>\n",
       "                                        <th id=\"T_fa4adc92_3e18_11ea_b8e9_001a7dda7111level2_row34\" class=\"row_heading level2 row34\" rowspan=3>18</th>\n",
       "                        <th id=\"T_fa4adc92_3e18_11ea_b8e9_001a7dda7111level3_row34\" class=\"row_heading level3 row34\" >2020-07-03</th>\n",
       "                        <th id=\"T_fa4adc92_3e18_11ea_b8e9_001a7dda7111level4_row34\" class=\"row_heading level4 row34\" >2020-07-21</th>\n",
       "                        <td id=\"T_fa4adc92_3e18_11ea_b8e9_001a7dda7111row34_col0\" class=\"data row34 col0\" >3611</td>\n",
       "                        <td id=\"T_fa4adc92_3e18_11ea_b8e9_001a7dda7111row34_col1\" class=\"data row34 col1\" >3509</td>\n",
       "                        <td id=\"T_fa4adc92_3e18_11ea_b8e9_001a7dda7111row34_col2\" class=\"data row34 col2\" >3474</td>\n",
       "                        <td id=\"T_fa4adc92_3e18_11ea_b8e9_001a7dda7111row34_col3\" class=\"data row34 col3\" >3502</td>\n",
       "                        <td id=\"T_fa4adc92_3e18_11ea_b8e9_001a7dda7111row34_col4\" class=\"data row34 col4\" >3732</td>\n",
       "                        <td id=\"T_fa4adc92_3e18_11ea_b8e9_001a7dda7111row34_col5\" class=\"data row34 col5\" >3834</td>\n",
       "                        <td id=\"T_fa4adc92_3e18_11ea_b8e9_001a7dda7111row34_col6\" class=\"data row34 col6\" >3668</td>\n",
       "            </tr>\n",
       "            <tr>\n",
       "                                                <th id=\"T_fa4adc92_3e18_11ea_b8e9_001a7dda7111level3_row35\" class=\"row_heading level3 row35\" >2020-07-04</th>\n",
       "                        <th id=\"T_fa4adc92_3e18_11ea_b8e9_001a7dda7111level4_row35\" class=\"row_heading level4 row35\" >2020-07-22</th>\n",
       "                        <td id=\"T_fa4adc92_3e18_11ea_b8e9_001a7dda7111row35_col0\" class=\"data row35 col0\" >3616</td>\n",
       "                        <td id=\"T_fa4adc92_3e18_11ea_b8e9_001a7dda7111row35_col1\" class=\"data row35 col1\" >3713</td>\n",
       "                        <td id=\"T_fa4adc92_3e18_11ea_b8e9_001a7dda7111row35_col2\" class=\"data row35 col2\" >3667</td>\n",
       "                        <td id=\"T_fa4adc92_3e18_11ea_b8e9_001a7dda7111row35_col3\" class=\"data row35 col3\" >3772</td>\n",
       "                        <td id=\"T_fa4adc92_3e18_11ea_b8e9_001a7dda7111row35_col4\" class=\"data row35 col4\" >3826</td>\n",
       "                        <td id=\"T_fa4adc92_3e18_11ea_b8e9_001a7dda7111row35_col5\" class=\"data row35 col5\" >3857</td>\n",
       "                        <td id=\"T_fa4adc92_3e18_11ea_b8e9_001a7dda7111row35_col6\" class=\"data row35 col6\" >3717</td>\n",
       "            </tr>\n",
       "            <tr>\n",
       "                                                <th id=\"T_fa4adc92_3e18_11ea_b8e9_001a7dda7111level3_row36\" class=\"row_heading level3 row36\" >2020-07-05</th>\n",
       "                        <th id=\"T_fa4adc92_3e18_11ea_b8e9_001a7dda7111level4_row36\" class=\"row_heading level4 row36\" >2020-07-23</th>\n",
       "                        <td id=\"T_fa4adc92_3e18_11ea_b8e9_001a7dda7111row36_col0\" class=\"data row36 col0\" >3647</td>\n",
       "                        <td id=\"T_fa4adc92_3e18_11ea_b8e9_001a7dda7111row36_col1\" class=\"data row36 col1\" >3658</td>\n",
       "                        <td id=\"T_fa4adc92_3e18_11ea_b8e9_001a7dda7111row36_col2\" class=\"data row36 col2\" >3647</td>\n",
       "                        <td id=\"T_fa4adc92_3e18_11ea_b8e9_001a7dda7111row36_col3\" class=\"data row36 col3\" >3823</td>\n",
       "                        <td id=\"T_fa4adc92_3e18_11ea_b8e9_001a7dda7111row36_col4\" class=\"data row36 col4\" >3811</td>\n",
       "                        <td id=\"T_fa4adc92_3e18_11ea_b8e9_001a7dda7111row36_col5\" class=\"data row36 col5\" >3842</td>\n",
       "                        <td id=\"T_fa4adc92_3e18_11ea_b8e9_001a7dda7111row36_col6\" class=\"data row36 col6\" >4048</td>\n",
       "            </tr>\n",
       "            <tr>\n",
       "                                        <th id=\"T_fa4adc92_3e18_11ea_b8e9_001a7dda7111level2_row37\" class=\"row_heading level2 row37\" rowspan=2>19</th>\n",
       "                        <th id=\"T_fa4adc92_3e18_11ea_b8e9_001a7dda7111level3_row37\" class=\"row_heading level3 row37\" >2020-07-03</th>\n",
       "                        <th id=\"T_fa4adc92_3e18_11ea_b8e9_001a7dda7111level4_row37\" class=\"row_heading level4 row37\" >2020-07-22</th>\n",
       "                        <td id=\"T_fa4adc92_3e18_11ea_b8e9_001a7dda7111row37_col0\" class=\"data row37 col0\" >3611</td>\n",
       "                        <td id=\"T_fa4adc92_3e18_11ea_b8e9_001a7dda7111row37_col1\" class=\"data row37 col1\" >3534</td>\n",
       "                        <td id=\"T_fa4adc92_3e18_11ea_b8e9_001a7dda7111row37_col2\" class=\"data row37 col2\" >3440</td>\n",
       "                        <td id=\"T_fa4adc92_3e18_11ea_b8e9_001a7dda7111row37_col3\" class=\"data row37 col3\" >3467</td>\n",
       "                        <td id=\"T_fa4adc92_3e18_11ea_b8e9_001a7dda7111row37_col4\" class=\"data row37 col4\" >3810</td>\n",
       "                        <td id=\"T_fa4adc92_3e18_11ea_b8e9_001a7dda7111row37_col5\" class=\"data row37 col5\" >3911</td>\n",
       "                        <td id=\"T_fa4adc92_3e18_11ea_b8e9_001a7dda7111row37_col6\" class=\"data row37 col6\" >3667</td>\n",
       "            </tr>\n",
       "            <tr>\n",
       "                                                <th id=\"T_fa4adc92_3e18_11ea_b8e9_001a7dda7111level3_row38\" class=\"row_heading level3 row38\" >2020-07-04</th>\n",
       "                        <th id=\"T_fa4adc92_3e18_11ea_b8e9_001a7dda7111level4_row38\" class=\"row_heading level4 row38\" >2020-07-23</th>\n",
       "                        <td id=\"T_fa4adc92_3e18_11ea_b8e9_001a7dda7111row38_col0\" class=\"data row38 col0\" >3670</td>\n",
       "                        <td id=\"T_fa4adc92_3e18_11ea_b8e9_001a7dda7111row38_col1\" class=\"data row38 col1\" >3765</td>\n",
       "                        <td id=\"T_fa4adc92_3e18_11ea_b8e9_001a7dda7111row38_col2\" class=\"data row38 col2\" >3766</td>\n",
       "                        <td id=\"T_fa4adc92_3e18_11ea_b8e9_001a7dda7111row38_col3\" class=\"data row38 col3\" >3852</td>\n",
       "                        <td id=\"T_fa4adc92_3e18_11ea_b8e9_001a7dda7111row38_col4\" class=\"data row38 col4\" >3963</td>\n",
       "                        <td id=\"T_fa4adc92_3e18_11ea_b8e9_001a7dda7111row38_col5\" class=\"data row38 col5\" >3864</td>\n",
       "                        <td id=\"T_fa4adc92_3e18_11ea_b8e9_001a7dda7111row38_col6\" class=\"data row38 col6\" >3803</td>\n",
       "            </tr>\n",
       "            <tr>\n",
       "                                        <th id=\"T_fa4adc92_3e18_11ea_b8e9_001a7dda7111level2_row39\" class=\"row_heading level2 row39\" >20</th>\n",
       "                        <th id=\"T_fa4adc92_3e18_11ea_b8e9_001a7dda7111level3_row39\" class=\"row_heading level3 row39\" >2020-07-03</th>\n",
       "                        <th id=\"T_fa4adc92_3e18_11ea_b8e9_001a7dda7111level4_row39\" class=\"row_heading level4 row39\" >2020-07-23</th>\n",
       "                        <td id=\"T_fa4adc92_3e18_11ea_b8e9_001a7dda7111row39_col0\" class=\"data row39 col0\" >3661</td>\n",
       "                        <td id=\"T_fa4adc92_3e18_11ea_b8e9_001a7dda7111row39_col1\" class=\"data row39 col1\" >3590</td>\n",
       "                        <td id=\"T_fa4adc92_3e18_11ea_b8e9_001a7dda7111row39_col2\" class=\"data row39 col2\" >3498</td>\n",
       "                        <td id=\"T_fa4adc92_3e18_11ea_b8e9_001a7dda7111row39_col3\" class=\"data row39 col3\" >3543</td>\n",
       "                        <td id=\"T_fa4adc92_3e18_11ea_b8e9_001a7dda7111row39_col4\" class=\"data row39 col4\" >3890</td>\n",
       "                        <td id=\"T_fa4adc92_3e18_11ea_b8e9_001a7dda7111row39_col5\" class=\"data row39 col5\" >3865</td>\n",
       "                        <td id=\"T_fa4adc92_3e18_11ea_b8e9_001a7dda7111row39_col6\" class=\"data row39 col6\" >3723</td>\n",
       "            </tr>\n",
       "    </tbody></table>"
      ],
      "text/plain": [
       "<pandas.io.formats.style.Styler at 0x21cb2070>"
      ]
     },
     "execution_count": 82,
     "metadata": {},
     "output_type": "execute_result"
    }
   ],
   "source": [
    "dfLastSearchPivot.dropna(inplace=True)\n",
    "dfLastSearchPivot.style.background_gradient(cmap='OrRd')\n",
    "#dfLastSearchPivot.style.apply(background_gradient,cmap='OrRd',m=dfLastSearchPivot.min().min(),M=dfLastSearchPivot.max().max(),low=0,high=7000)"
   ]
  },
  {
   "cell_type": "code",
   "execution_count": null,
   "metadata": {},
   "outputs": [],
   "source": []
  },
  {
   "cell_type": "code",
   "execution_count": null,
   "metadata": {},
   "outputs": [],
   "source": []
  },
  {
   "cell_type": "code",
   "execution_count": 83,
   "metadata": {},
   "outputs": [],
   "source": [
    "urlPontoLatam = 'https://bff.latam.com/ws/proxy/booking-webapp-bff/v1/public/redemption/recommendations/outbound?departure={dataInicial}&origin={origem}&destination={destino}&cabin=Y&country=BR&language=PT&home=pt_br&return={dataFinal}&adult=1&tierCode=LTAM&tierType=low'"
   ]
  },
  {
   "cell_type": "code",
   "execution_count": null,
   "metadata": {
    "scrolled": false
   },
   "outputs": [
    {
     "name": "stdout",
     "output_type": "stream",
     "text": [
      "POA -> MIA\n"
     ]
    }
   ],
   "source": [
    "origensPontos = ['POA']#,'GRU','GIG']\n",
    "destinosPontos = ['MIA']#,'ATL']\n",
    "dataPesquisa = datetime.now().strftime(\"%d/%m/%Y %H:%M:%S\")\n",
    "dfPontosList =[]\n",
    "\n",
    "for origem in origensPontos:\n",
    "    for destino in destinosPontos:  \n",
    "        minValue = 999999999\n",
    "        fraseFinal= ''\n",
    "        print(origem + ' -> '+ destino)\n",
    "        urlPontos = urlPontoLatam.format(dataInicial=dataInicial,dataFinal=dataFinal,origem=origem,destino=destino)\n",
    "        #print(urlDecolar)\n",
    "        with urllib.request.urlopen(urlPontos) as url:\n",
    "            s = url.read()\n",
    "            data = json.loads(s.decode('utf-8'))\n",
    "            for flight in data['data']:                  \n",
    "                for cabins in flight['flights']:                    \n",
    "                    paradas = cabins['stops']\n",
    "                    dataChegada=cabins['arrival']['date']\n",
    "                    horaChegada = cabins['arrival']['time']['hours']\n",
    "                    minutoChegada = cabins['arrival']['time']['minutes']\n",
    "                    chegadaNextDay = cabins['arrival']['overnights']\n",
    "                    #partida\n",
    "                    dataPartida=cabins['departure']['date']\n",
    "                    horaPartida = cabins['departure']['time']['hours']\n",
    "                    minutoPartida = cabins['departure']['time']['minutes']                                        \n",
    "                    print('chegada',cabins['arrival']['time']['hours'])\n",
    "                    for price in cabins['cabins']:\n",
    "                        dfPontosList.append({'DataPesquisa':dataPesquisa,'de':origem,'para':destino,'PartidaData':dataPartida,'PartidaHora':horaPartida,'PartidaMinuto':minutoPartida,'ChegadaData':dataChegada,'ChegadaHora':horaChegada,'ChegadaMinuto':minutoChegada,'Volta':arr['arrivalDate'],'Paradas':paradas,'pontos':price['displayPrice'],'preco':PONTOSMULTIPLUS *price['displayPrice']})                                                \n",
    "                        dfPontos = pd.DataFrame.from_dict(dfPontosList)\n",
    "                        break\n",
    "            "
   ]
  },
  {
   "cell_type": "code",
   "execution_count": null,
   "metadata": {},
   "outputs": [],
   "source": []
  },
  {
   "cell_type": "code",
   "execution_count": null,
   "metadata": {},
   "outputs": [],
   "source": []
  },
  {
   "cell_type": "code",
   "execution_count": 99,
   "metadata": {},
   "outputs": [],
   "source": [
    "uriPontos = 'https://www.pontosmultiplus.com.br/service/facilities/handle-points'"
   ]
  },
  {
   "cell_type": "code",
   "execution_count": null,
   "metadata": {},
   "outputs": [],
   "source": []
  },
  {
   "cell_type": "code",
   "execution_count": null,
   "metadata": {},
   "outputs": [],
   "source": []
  },
  {
   "cell_type": "code",
   "execution_count": 149,
   "metadata": {},
   "outputs": [
    {
     "name": "stdout",
     "output_type": "stream",
     "text": [
      "70.0\n"
     ]
    }
   ],
   "source": []
  },
  {
   "cell_type": "code",
   "execution_count": null,
   "metadata": {},
   "outputs": [],
   "source": []
  },
  {
   "cell_type": "code",
   "execution_count": null,
   "metadata": {},
   "outputs": [],
   "source": []
  },
  {
   "cell_type": "code",
   "execution_count": null,
   "metadata": {},
   "outputs": [],
   "source": []
  },
  {
   "cell_type": "code",
   "execution_count": null,
   "metadata": {},
   "outputs": [],
   "source": []
  },
  {
   "cell_type": "code",
   "execution_count": null,
   "metadata": {},
   "outputs": [],
   "source": []
  },
  {
   "cell_type": "code",
   "execution_count": null,
   "metadata": {},
   "outputs": [],
   "source": []
  },
  {
   "cell_type": "code",
   "execution_count": null,
   "metadata": {},
   "outputs": [],
   "source": []
  },
  {
   "cell_type": "code",
   "execution_count": null,
   "metadata": {},
   "outputs": [],
   "source": []
  },
  {
   "cell_type": "code",
   "execution_count": null,
   "metadata": {},
   "outputs": [],
   "source": []
  },
  {
   "cell_type": "code",
   "execution_count": null,
   "metadata": {},
   "outputs": [],
   "source": []
  },
  {
   "cell_type": "code",
   "execution_count": 85,
   "metadata": {},
   "outputs": [
    {
     "ename": "NameError",
     "evalue": "name 'aa' is not defined",
     "output_type": "error",
     "traceback": [
      "\u001b[1;31m---------------------------------------------------------------------------\u001b[0m",
      "\u001b[1;31mNameError\u001b[0m                                 Traceback (most recent call last)",
      "\u001b[1;32m<ipython-input-85-312382290f4f>\u001b[0m in \u001b[0;36m<module>\u001b[1;34m\u001b[0m\n\u001b[1;32m----> 1\u001b[1;33m \u001b[0maa\u001b[0m\u001b[1;33m\u001b[0m\u001b[1;33m\u001b[0m\u001b[0m\n\u001b[0m",
      "\u001b[1;31mNameError\u001b[0m: name 'aa' is not defined"
     ]
    }
   ],
   "source": [
    "aa"
   ]
  },
  {
   "cell_type": "code",
   "execution_count": null,
   "metadata": {},
   "outputs": [],
   "source": [
    "#POSTMAN ONE WAY "
   ]
  },
  {
   "cell_type": "code",
   "execution_count": null,
   "metadata": {},
   "outputs": [],
   "source": [
    "import requests\n",
    "\n",
    "dataInicial = '2020-04-08'\n",
    "dataFinal = '2020-04-22'\n",
    "\n",
    "origens = ['POA','GRU','GIG','BSB','FOR']\n",
    "destinos = ['ATL','MIA']\n",
    "\n",
    "url = \"https://www.decolar.com/shop/flights-busquets/api/v1/web/search\"\n",
    "\n",
    "for origem in origens:\n",
    "    for destino in destinos:        \n",
    "        querystring = {\"adults\":\"1\",\"limit\":\"4\",\"site\":\"BR\",\"channel\":\"site\",\"from\":\"{origem}\".format(origem=origem),\"to\":\"{destino}\".format(destino=destino),\"departureDate\":\"2020-03-04\",\"orderBy\":\"total_price_ascending\",\"viewMode\":\"CLUSTER\",\"language\":\"pt_BR\",\"h\":\"38dc1f66dbf4f5c8df105321c3286b5c\",\"flow\":\"SEARCH\",\"clientType\":\"WEB\",\"initialOrigins\":\"{origem}\".format(origem=origem),\"initialDestinations\":\"{destino}\".format(destino=destino)}\n",
    "    \n",
    "        headers = {\n",
    "            'Connection': \"keep-alive\",\n",
    "            'DNT': \"1\",\n",
    "            'X-UOW': \"results-13-1579106681089\",\n",
    "            'X-RequestId': \"xzTTJ6fDfw\",\n",
    "            'User-Agent': \"Mozilla/5.0 (Windows NT 10.0; Win64; x64) AppleWebKit/537.36 (KHTML, like Gecko) Chrome/79.0.3945.88 Safari/537.36\",\n",
    "            'Accept': \"application/json, text/javascript, */*; q=0.01\",\n",
    "            'X-Requested-With': \"XMLHttpRequest\",\n",
    "            'XDESP-REFERRER': \"https://www.decolar.com/shop/flights/search/oneway/{origem}/{destino}/2020-03-04/2/0/0/NA/NA/NA/NA/?from=SB&di=2-0\".format(origem=origem,destino=destino),\n",
    "            'Sec-Fetch-Site': \"same-origin\",\n",
    "            'Sec-Fetch-Mode': \"cors\",\n",
    "            'Referer': \"https://www.decolar.com/shop/flights/search/oneway/{origem}/{destino}/2020-03-04/1/0/0/NA/NA/NA/NA/?from=SB&di=1-0\".format(origem=origem,destino=destino),\n",
    "            'Accept-Encoding': \"gzip, deflate, br\",\n",
    "            'Accept-Language': \"pt-BR,pt;q=0.9,en-US;q=0.8,en;q=0.7\",\n",
    "            'Cookie': 'trackerid=e1861e3a-3357-4a76-861e-3a3357ea76c0; xdesp-rand-usr=292; xdsid=C632CEAAF251AE2A72F165ECA9A4A2CA; xduid=1727A02D2FAA249C654A094113369154; _ga=GA1.2.772144563.1579011917; _gid=GA1.2.317154519.1579011917; trackeame_cookie=%7B%22id%22%3A%22UPA_e1861e3a-3357-4a76-861e-3a3357ea76c0%22%2C%22version%22%3A%225.0%22%2C%22upa_id%22%3A%22e1861e3a-3357-4a76-861e-3a3357ea76c0%22%2C%22creation_date%22%3A%222020-01-14T14%3A25%3A17Z%22%7D; __ssid=41de76d348be0e334af8e657f6801b8; _gcl_au=1.1.1367791908.1579011932; _fbp=fb.1.1579011933564.1470255143; __gads=ID=9139db3a836078f5:T=1579011933:S=ALNI_MawboBo55i9nPvoDvzaF396HudEKg; abzTestingId=\"{\\\"flightsFisherAB\\\":90,\\\"pkgImbatibleBrand_ctrl\\\":76,\\\"s_flights_s_violet_sbox_v1\\\":21,\\\"upsellingConfig\\\":58,\\\"twoOneWayForceMX\\\":0,\\\"filterLandingFlights\\\":41,\\\"s_loyalty_v2_ctrl\\\":5,\\\"s_flights_l_violet_sbox_v1\\\":0,\\\"s_flights_l_loyalty_v2\\\":58,\\\"mostProfitablePromotion\\\":0,\\\"despechecks\\\":72,\\\"s_loyalty_v2_review\\\":33,\\\"platform\\\":55,\\\"selected_radio_button\\\":0,\\\"fisher_2ow\\\":0,\\\"loyalty_non_adherents\\\":63,\\\"paymentMethod\\\":55,\\\"shifuMobileProductLabels\\\":0,\\\"obFee\\\":40,\\\"twoOneWay\\\":0,\\\"s_violet_sbox_v1\\\":17,\\\"s_flights_s_loyalty_v2\\\":14,\\\"flights_loyalty_non_adherents\\\":63,\\\"pkgImbatibleBrand-ctrl\\\":60,\\\"crossBorderTicketing\\\":0}; chktkn=ask3r5kj6ed0ksqrs7eio4cebk; searchId=243920d8-49cc-4271-972a-60d05221ef20; _gat_UA-36944350-2=1,trackerid=e1861e3a-3357-4a76-861e-3a3357ea76c0; xdesp-rand-usr=292; xdsid=C632CEAAF251AE2A72F165ECA9A4A2CA; xduid=1727A02D2FAA249C654A094113369154; _ga=GA1.2.772144563.1579011917; _gid=GA1.2.317154519.1579011917; trackeame_cookie=%7B%22id%22%3A%22UPA_e1861e3a-3357-4a76-861e-3a3357ea76c0%22%2C%22version%22%3A%225.0%22%2C%22upa_id%22%3A%22e1861e3a-3357-4a76-861e-3a3357ea76c0%22%2C%22creation_date%22%3A%222020-01-14T14%3A25%3A17Z%22%7D; __ssid=41de76d348be0e334af8e657f6801b8; _gcl_au=1.1.1367791908.1579011932; _fbp=fb.1.1579011933564.1470255143; __gads=ID=9139db3a836078f5:T=1579011933:S=ALNI_MawboBo55i9nPvoDvzaF396HudEKg; abzTestingId=\"{\\\"flightsFisherAB\\\":90,\\\"pkgImbatibleBrand_ctrl\\\":76,\\\"s_flights_s_violet_sbox_v1\\\":21,\\\"upsellingConfig\\\":58,\\\"twoOneWayForceMX\\\":0,\\\"filterLandingFlights\\\":41,\\\"s_loyalty_v2_ctrl\\\":5,\\\"s_flights_l_violet_sbox_v1\\\":0,\\\"s_flights_l_loyalty_v2\\\":58,\\\"mostProfitablePromotion\\\":0,\\\"despechecks\\\":72,\\\"s_loyalty_v2_review\\\":33,\\\"platform\\\":55,\\\"selected_radio_button\\\":0,\\\"fisher_2ow\\\":0,\\\"loyalty_non_adherents\\\":63,\\\"paymentMethod\\\":55,\\\"shifuMobileProductLabels\\\":0,\\\"obFee\\\":40,\\\"twoOneWay\\\":0,\\\"s_violet_sbox_v1\\\":17,\\\"s_flights_s_loyalty_v2\\\":14,\\\"flights_loyalty_non_adherents\\\":63,\\\"pkgImbatibleBrand-ctrl\\\":60,\\\"crossBorderTicketing\\\":0}\"; chktkn=ask3r5kj6ed0ksqrs7eio4cebk; searchId=243920d8-49cc-4271-972a-60d05221ef20; _gat_UA-36944350-2=1; xdsid=DCF9EDC0035E07BEDBFEE30E55F725C5; xduid=55D857BEFC5E27A8B84A7407D4A86B38; xdesp-rand-usr=292; abzTestingId=\"{\\\"flightsFisherAB\\\":90,\\\"pkgImbatibleBrand_ctrl\\\":76,\\\"s_flights_s_violet_sbox_v1\\\":21,\\\"upsellingConfig\\\":58,\\\"twoOneWayForceMX\\\":0,\\\"filterLandingFlights\\\":41,\\\"s_loyalty_v2_ctrl\\\":5,\\\"s_flights_l_violet_sbox_v1\\\":0,\\\"s_flights_l_loyalty_v2\\\":58,\\\"mostProfitablePromotion\\\":0,\\\"despechecks\\\":72,\\\"s_loyalty_v2_review\\\":33,\\\"platform\\\":55,\\\"selected_radio_button\\\":0,\\\"fisher_2ow\\\":0,\\\"loyalty_non_adherents\\\":63,\\\"paymentMethod\\\":55,\\\"shifuMobileProductLabels\\\":0,\\\"obFee\\\":40,\\\"twoOneWay\\\":0,\\\"s_violet_sbox_v1\\\":17,\\\"s_flights_s_loyalty_v2\\\":14,\\\"flights_loyalty_non_adherents\\\":63,\\\"pkgImbatibleBrand-ctrl\\\":60,\\\"crossBorderTicketing\\\":0}',\n",
    "            'Cache-Control': \"no-cache\",\n",
    "            'Postman-Token': \"4c6c6b9f-ed0a-477f-a787-c8cde039475b,4e35a9da-93ed-4602-825a-283f619d543b\",\n",
    "            'Host': \"www.decolar.com\",\n",
    "            'cache-control': \"no-cache\"\n",
    "            }\n",
    "\n",
    "        response = requests.request(\"GET\", url, headers=headers, params=querystring)\n",
    "        dataOneWay = json.loads(response.text)\n",
    "        print(origem, '->' , destino)\n",
    "        print(querystring)\n",
    "        print(dataOneWay)\n",
    "        if 'clusters' in dataOneWay:\n",
    "            for i in dataOneWay['clusters']:                \n",
    "                print(i['priceDetail']['mainFare']['amount'])\n",
    "\n",
    "\n"
   ]
  },
  {
   "cell_type": "code",
   "execution_count": null,
   "metadata": {},
   "outputs": [],
   "source": []
  }
 ],
 "metadata": {
  "kernelspec": {
   "display_name": "Python 3",
   "language": "python",
   "name": "python3"
  },
  "language_info": {
   "codemirror_mode": {
    "name": "ipython",
    "version": 3
   },
   "file_extension": ".py",
   "mimetype": "text/x-python",
   "name": "python",
   "nbconvert_exporter": "python",
   "pygments_lexer": "ipython3",
   "version": "3.7.4"
  }
 },
 "nbformat": 4,
 "nbformat_minor": 2
}
