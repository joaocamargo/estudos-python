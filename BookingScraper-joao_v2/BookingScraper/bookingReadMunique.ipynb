{
 "cells": [
  {
   "cell_type": "code",
   "execution_count": 401,
   "metadata": {},
   "outputs": [],
   "source": [
    "import pandas as pd\n",
    "import numpy as np"
   ]
  },
  {
   "cell_type": "code",
   "execution_count": 402,
   "metadata": {},
   "outputs": [],
   "source": [
    "def calculaPorDia(x):    \n",
    "    #print(x[3]/x[6].days)\n",
    "    #print(x[3],'',x[7])\n",
    "    return x[3]/x[7].days\n"
   ]
  },
  {
   "cell_type": "code",
   "execution_count": 431,
   "metadata": {
    "scrolled": false
   },
   "outputs": [],
   "source": [
    "hotels = []\n",
    "with open('hotels-in-Munich.txt') as f:\n",
    "    for line in f:\n",
    "        if len(line)>10:\n",
    "            hotels.append([str(n.replace('\\xa0','').replace('\"','').replace('[','').replace(']','')) for n in line.strip().split(';')])\n",
    "            #print(line)"
   ]
  },
  {
   "cell_type": "code",
   "execution_count": 483,
   "metadata": {},
   "outputs": [],
   "source": [
    "import datetime\n",
    "hotelDict = []\n",
    "for i in hotels:\n",
    "    #print(i[0][3:5])\n",
    "    dtIni = datetime.datetime(int(i[0][6:10]), int(i[0][3:5]), int(i[0][0:2]), 0, 0, 0)\n",
    "    dtEnd = datetime.datetime(int(i[1][6:10]), int(i[1][3:5]), int(i[1][0:2]), 0, 0, 0)\n",
    "    hotelDict.append({'de':dtIni,'ate':dtEnd,'nome':i[2],'preco':i[3],'nota':i[4],'distancia':i[5],'url':i[6]})"
   ]
  },
  {
   "cell_type": "code",
   "execution_count": 497,
   "metadata": {},
   "outputs": [
    {
     "data": {
      "text/html": [
       "<div>\n",
       "<style scoped>\n",
       "    .dataframe tbody tr th:only-of-type {\n",
       "        vertical-align: middle;\n",
       "    }\n",
       "\n",
       "    .dataframe tbody tr th {\n",
       "        vertical-align: top;\n",
       "    }\n",
       "\n",
       "    .dataframe thead th {\n",
       "        text-align: right;\n",
       "    }\n",
       "</style>\n",
       "<table border=\"1\" class=\"dataframe\">\n",
       "  <thead>\n",
       "    <tr style=\"text-align: right;\">\n",
       "      <th></th>\n",
       "      <th>preco</th>\n",
       "      <th>dias</th>\n",
       "      <th>precoPorNoite</th>\n",
       "    </tr>\n",
       "  </thead>\n",
       "  <tbody>\n",
       "    <tr>\n",
       "      <th>count</th>\n",
       "      <td>400.000000</td>\n",
       "      <td>400</td>\n",
       "      <td>400.000000</td>\n",
       "    </tr>\n",
       "    <tr>\n",
       "      <th>mean</th>\n",
       "      <td>1538.342500</td>\n",
       "      <td>4 days 00:00:00</td>\n",
       "      <td>384.585625</td>\n",
       "    </tr>\n",
       "    <tr>\n",
       "      <th>std</th>\n",
       "      <td>406.248002</td>\n",
       "      <td>0 days 00:00:00</td>\n",
       "      <td>101.562000</td>\n",
       "    </tr>\n",
       "    <tr>\n",
       "      <th>min</th>\n",
       "      <td>910.000000</td>\n",
       "      <td>4 days 00:00:00</td>\n",
       "      <td>227.500000</td>\n",
       "    </tr>\n",
       "    <tr>\n",
       "      <th>25%</th>\n",
       "      <td>1223.000000</td>\n",
       "      <td>4 days 00:00:00</td>\n",
       "      <td>305.750000</td>\n",
       "    </tr>\n",
       "    <tr>\n",
       "      <th>50%</th>\n",
       "      <td>1409.000000</td>\n",
       "      <td>4 days 00:00:00</td>\n",
       "      <td>352.250000</td>\n",
       "    </tr>\n",
       "    <tr>\n",
       "      <th>75%</th>\n",
       "      <td>1797.000000</td>\n",
       "      <td>4 days 00:00:00</td>\n",
       "      <td>449.250000</td>\n",
       "    </tr>\n",
       "    <tr>\n",
       "      <th>max</th>\n",
       "      <td>3522.000000</td>\n",
       "      <td>4 days 00:00:00</td>\n",
       "      <td>880.500000</td>\n",
       "    </tr>\n",
       "  </tbody>\n",
       "</table>\n",
       "</div>"
      ],
      "text/plain": [
       "             preco             dias  precoPorNoite\n",
       "count   400.000000              400     400.000000\n",
       "mean   1538.342500  4 days 00:00:00     384.585625\n",
       "std     406.248002  0 days 00:00:00     101.562000\n",
       "min     910.000000  4 days 00:00:00     227.500000\n",
       "25%    1223.000000  4 days 00:00:00     305.750000\n",
       "50%    1409.000000  4 days 00:00:00     352.250000\n",
       "75%    1797.000000  4 days 00:00:00     449.250000\n",
       "max    3522.000000  4 days 00:00:00     880.500000"
      ]
     },
     "metadata": {},
     "output_type": "display_data"
    }
   ],
   "source": [
    "df = pd.DataFrame(hotelDict)\n",
    "df.drop_duplicates(inplace = True) \n",
    "df = df[df['preco']>'-1']\n",
    "df['preco'].replace(regex=True,inplace=True,to_replace=r'\\D',value=r'')\n",
    "df['preco'] = pd.to_numeric(df['preco'])\n",
    "df['dias'] = (df['ate']-df['de']).replace(regex=True,to_replace=r'\\D',value=r'')\n",
    "df[\"precoPorNoite\"] = df.apply(calculaPorDia,axis=1)\n",
    "display(df.describe())\n"
   ]
  },
  {
   "cell_type": "code",
   "execution_count": 498,
   "metadata": {},
   "outputs": [
    {
     "data": {
      "text/html": [
       "<div>\n",
       "<style scoped>\n",
       "    .dataframe tbody tr th:only-of-type {\n",
       "        vertical-align: middle;\n",
       "    }\n",
       "\n",
       "    .dataframe tbody tr th {\n",
       "        vertical-align: top;\n",
       "    }\n",
       "\n",
       "    .dataframe thead th {\n",
       "        text-align: right;\n",
       "    }\n",
       "</style>\n",
       "<table border=\"1\" class=\"dataframe\">\n",
       "  <thead>\n",
       "    <tr style=\"text-align: right;\">\n",
       "      <th></th>\n",
       "      <th>preco</th>\n",
       "      <th>nota</th>\n",
       "      <th>dias</th>\n",
       "      <th>precoPorNoite</th>\n",
       "      <th>distanciaMetros</th>\n",
       "    </tr>\n",
       "  </thead>\n",
       "  <tbody>\n",
       "    <tr>\n",
       "      <th>count</th>\n",
       "      <td>94.000000</td>\n",
       "      <td>94.000000</td>\n",
       "      <td>94</td>\n",
       "      <td>94.000000</td>\n",
       "      <td>94.000000</td>\n",
       "    </tr>\n",
       "    <tr>\n",
       "      <th>mean</th>\n",
       "      <td>1818.170213</td>\n",
       "      <td>8.321277</td>\n",
       "      <td>4 days 00:00:00</td>\n",
       "      <td>454.542553</td>\n",
       "      <td>1124.468085</td>\n",
       "    </tr>\n",
       "    <tr>\n",
       "      <th>std</th>\n",
       "      <td>298.383157</td>\n",
       "      <td>0.369211</td>\n",
       "      <td>0 days 00:00:00</td>\n",
       "      <td>74.595789</td>\n",
       "      <td>252.167452</td>\n",
       "    </tr>\n",
       "    <tr>\n",
       "      <th>min</th>\n",
       "      <td>1406.000000</td>\n",
       "      <td>7.800000</td>\n",
       "      <td>4 days 00:00:00</td>\n",
       "      <td>351.500000</td>\n",
       "      <td>600.000000</td>\n",
       "    </tr>\n",
       "    <tr>\n",
       "      <th>25%</th>\n",
       "      <td>1657.000000</td>\n",
       "      <td>7.925000</td>\n",
       "      <td>4 days 00:00:00</td>\n",
       "      <td>414.250000</td>\n",
       "      <td>1000.000000</td>\n",
       "    </tr>\n",
       "    <tr>\n",
       "      <th>50%</th>\n",
       "      <td>1797.000000</td>\n",
       "      <td>8.600000</td>\n",
       "      <td>4 days 00:00:00</td>\n",
       "      <td>449.250000</td>\n",
       "      <td>1100.000000</td>\n",
       "    </tr>\n",
       "    <tr>\n",
       "      <th>75%</th>\n",
       "      <td>1896.000000</td>\n",
       "      <td>8.700000</td>\n",
       "      <td>4 days 00:00:00</td>\n",
       "      <td>474.000000</td>\n",
       "      <td>1200.000000</td>\n",
       "    </tr>\n",
       "    <tr>\n",
       "      <th>max</th>\n",
       "      <td>2465.000000</td>\n",
       "      <td>8.900000</td>\n",
       "      <td>4 days 00:00:00</td>\n",
       "      <td>616.250000</td>\n",
       "      <td>1900.000000</td>\n",
       "    </tr>\n",
       "  </tbody>\n",
       "</table>\n",
       "</div>"
      ],
      "text/plain": [
       "             preco       nota             dias  precoPorNoite  distanciaMetros\n",
       "count    94.000000  94.000000               94      94.000000        94.000000\n",
       "mean   1818.170213   8.321277  4 days 00:00:00     454.542553      1124.468085\n",
       "std     298.383157   0.369211  0 days 00:00:00      74.595789       252.167452\n",
       "min    1406.000000   7.800000  4 days 00:00:00     351.500000       600.000000\n",
       "25%    1657.000000   7.925000  4 days 00:00:00     414.250000      1000.000000\n",
       "50%    1797.000000   8.600000  4 days 00:00:00     449.250000      1100.000000\n",
       "75%    1896.000000   8.700000  4 days 00:00:00     474.000000      1200.000000\n",
       "max    2465.000000   8.900000  4 days 00:00:00     616.250000      1900.000000"
      ]
     },
     "metadata": {},
     "output_type": "display_data"
    },
    {
     "data": {
      "text/html": [
       "<div>\n",
       "<style scoped>\n",
       "    .dataframe tbody tr th:only-of-type {\n",
       "        vertical-align: middle;\n",
       "    }\n",
       "\n",
       "    .dataframe tbody tr th {\n",
       "        vertical-align: top;\n",
       "    }\n",
       "\n",
       "    .dataframe thead th {\n",
       "        text-align: right;\n",
       "    }\n",
       "</style>\n",
       "<table border=\"1\" class=\"dataframe\">\n",
       "  <thead>\n",
       "    <tr style=\"text-align: right;\">\n",
       "      <th></th>\n",
       "      <th>de</th>\n",
       "      <th>ate</th>\n",
       "      <th>nome</th>\n",
       "      <th>preco</th>\n",
       "      <th>nota</th>\n",
       "      <th>distancia</th>\n",
       "      <th>url</th>\n",
       "      <th>dias</th>\n",
       "      <th>precoPorNoite</th>\n",
       "      <th>distanciaMetros</th>\n",
       "    </tr>\n",
       "  </thead>\n",
       "  <tbody>\n",
       "    <tr>\n",
       "      <th>6</th>\n",
       "      <td>2020-03-05</td>\n",
       "      <td>2020-03-09</td>\n",
       "      <td>Hotel Eder</td>\n",
       "      <td>2465</td>\n",
       "      <td>8.7</td>\n",
       "      <td>1 km from centre</td>\n",
       "      <td>www.booking.com/hotel/de/eder.en-gb.html?aid=3...</td>\n",
       "      <td>4 days</td>\n",
       "      <td>616.25</td>\n",
       "      <td>1000.0</td>\n",
       "    </tr>\n",
       "    <tr>\n",
       "      <th>12</th>\n",
       "      <td>2020-03-05</td>\n",
       "      <td>2020-03-09</td>\n",
       "      <td>Hotel Stachus</td>\n",
       "      <td>1406</td>\n",
       "      <td>7.9</td>\n",
       "      <td>950 m from centre</td>\n",
       "      <td>www.booking.com/hotel/de/stachus-munchen.en-gb...</td>\n",
       "      <td>4 days</td>\n",
       "      <td>351.50</td>\n",
       "      <td>950.0</td>\n",
       "    </tr>\n",
       "    <tr>\n",
       "      <th>14</th>\n",
       "      <td>2020-03-05</td>\n",
       "      <td>2020-03-09</td>\n",
       "      <td>Euro Youth Hotel Munich</td>\n",
       "      <td>1797</td>\n",
       "      <td>8.7</td>\n",
       "      <td>1.2 km from centre</td>\n",
       "      <td>www.booking.com/hotel/de/euro-youth.en-gb.html...</td>\n",
       "      <td>4 days</td>\n",
       "      <td>449.25</td>\n",
       "      <td>1200.0</td>\n",
       "    </tr>\n",
       "    <tr>\n",
       "      <th>15</th>\n",
       "      <td>2020-03-05</td>\n",
       "      <td>2020-03-09</td>\n",
       "      <td>Novotel Mxc3xcnchen City</td>\n",
       "      <td>1779</td>\n",
       "      <td>8.6</td>\n",
       "      <td>1.4 km from centre</td>\n",
       "      <td>www.booking.com/hotel/de/novotel-munchen.en-gb...</td>\n",
       "      <td>4 days</td>\n",
       "      <td>444.75</td>\n",
       "      <td>1400.0</td>\n",
       "    </tr>\n",
       "    <tr>\n",
       "      <th>20</th>\n",
       "      <td>2020-03-05</td>\n",
       "      <td>2020-03-09</td>\n",
       "      <td>Hotel Luitpold</td>\n",
       "      <td>1896</td>\n",
       "      <td>8.0</td>\n",
       "      <td>1.1 km from centre</td>\n",
       "      <td>www.booking.com/hotel/de/luitpoldmuenchen.en-g...</td>\n",
       "      <td>4 days</td>\n",
       "      <td>474.00</td>\n",
       "      <td>1100.0</td>\n",
       "    </tr>\n",
       "    <tr>\n",
       "      <th>32</th>\n",
       "      <td>2020-03-05</td>\n",
       "      <td>2020-03-09</td>\n",
       "      <td>Hotel Stachus</td>\n",
       "      <td>1406</td>\n",
       "      <td>7.9</td>\n",
       "      <td>950 m from centre</td>\n",
       "      <td>www.booking.com/hotel/de/stachus-munchen.en-gb...</td>\n",
       "      <td>4 days</td>\n",
       "      <td>351.50</td>\n",
       "      <td>950.0</td>\n",
       "    </tr>\n",
       "    <tr>\n",
       "      <th>34</th>\n",
       "      <td>2020-03-05</td>\n",
       "      <td>2020-03-09</td>\n",
       "      <td>Euro Youth Hotel Munich</td>\n",
       "      <td>1797</td>\n",
       "      <td>8.7</td>\n",
       "      <td>1.2 km from centre</td>\n",
       "      <td>www.booking.com/hotel/de/euro-youth.en-gb.html...</td>\n",
       "      <td>4 days</td>\n",
       "      <td>449.25</td>\n",
       "      <td>1200.0</td>\n",
       "    </tr>\n",
       "    <tr>\n",
       "      <th>35</th>\n",
       "      <td>2020-03-05</td>\n",
       "      <td>2020-03-09</td>\n",
       "      <td>Novotel Mxc3xcnchen City</td>\n",
       "      <td>1779</td>\n",
       "      <td>8.6</td>\n",
       "      <td>1.4 km from centre</td>\n",
       "      <td>www.booking.com/hotel/de/novotel-munchen.en-gb...</td>\n",
       "      <td>4 days</td>\n",
       "      <td>444.75</td>\n",
       "      <td>1400.0</td>\n",
       "    </tr>\n",
       "    <tr>\n",
       "      <th>40</th>\n",
       "      <td>2020-03-05</td>\n",
       "      <td>2020-03-09</td>\n",
       "      <td>Hotel Luitpold</td>\n",
       "      <td>1896</td>\n",
       "      <td>8.0</td>\n",
       "      <td>1.1 km from centre</td>\n",
       "      <td>www.booking.com/hotel/de/luitpoldmuenchen.en-g...</td>\n",
       "      <td>4 days</td>\n",
       "      <td>474.00</td>\n",
       "      <td>1100.0</td>\n",
       "    </tr>\n",
       "    <tr>\n",
       "      <th>50</th>\n",
       "      <td>2020-03-05</td>\n",
       "      <td>2020-03-09</td>\n",
       "      <td>City-Hotel Mxc3xcnchen</td>\n",
       "      <td>1853</td>\n",
       "      <td>7.8</td>\n",
       "      <td>1.1 km from centre</td>\n",
       "      <td>www.booking.com/hotel/de/city-munchen.en-gb.ht...</td>\n",
       "      <td>4 days</td>\n",
       "      <td>463.25</td>\n",
       "      <td>1100.0</td>\n",
       "    </tr>\n",
       "    <tr>\n",
       "      <th>53</th>\n",
       "      <td>2020-03-05</td>\n",
       "      <td>2020-03-09</td>\n",
       "      <td>Hotel MIO y AMANO</td>\n",
       "      <td>1624</td>\n",
       "      <td>8.6</td>\n",
       "      <td>600 m from centre</td>\n",
       "      <td>www.booking.com/hotel/de/mio-by-amano.en-gb.ht...</td>\n",
       "      <td>4 days</td>\n",
       "      <td>406.00</td>\n",
       "      <td>600.0</td>\n",
       "    </tr>\n",
       "    <tr>\n",
       "      <th>55</th>\n",
       "      <td>2020-03-05</td>\n",
       "      <td>2020-03-09</td>\n",
       "      <td>Hotel Senator Mxc3xcnchen</td>\n",
       "      <td>1657</td>\n",
       "      <td>8.2</td>\n",
       "      <td>1.9 km from centre</td>\n",
       "      <td>www.booking.com/hotel/de/senator-munchen.en-gb...</td>\n",
       "      <td>4 days</td>\n",
       "      <td>414.25</td>\n",
       "      <td>1900.0</td>\n",
       "    </tr>\n",
       "    <tr>\n",
       "      <th>69</th>\n",
       "      <td>2020-03-05</td>\n",
       "      <td>2020-03-09</td>\n",
       "      <td>Hotel Eder</td>\n",
       "      <td>2465</td>\n",
       "      <td>8.7</td>\n",
       "      <td>1 km from centre</td>\n",
       "      <td>www.booking.com/hotel/de/eder.en-gb.html?aid=3...</td>\n",
       "      <td>4 days</td>\n",
       "      <td>616.25</td>\n",
       "      <td>1000.0</td>\n",
       "    </tr>\n",
       "    <tr>\n",
       "      <th>73</th>\n",
       "      <td>2020-03-05</td>\n",
       "      <td>2020-03-09</td>\n",
       "      <td>Hotel Stachus</td>\n",
       "      <td>1406</td>\n",
       "      <td>7.9</td>\n",
       "      <td>950 m from centre</td>\n",
       "      <td>www.booking.com/hotel/de/stachus-munchen.en-gb...</td>\n",
       "      <td>4 days</td>\n",
       "      <td>351.50</td>\n",
       "      <td>950.0</td>\n",
       "    </tr>\n",
       "    <tr>\n",
       "      <th>75</th>\n",
       "      <td>2020-03-05</td>\n",
       "      <td>2020-03-09</td>\n",
       "      <td>Hotel Stachus</td>\n",
       "      <td>1406</td>\n",
       "      <td>7.9</td>\n",
       "      <td>950 m from centre</td>\n",
       "      <td>www.booking.com/hotel/de/stachus-munchen.en-gb...</td>\n",
       "      <td>4 days</td>\n",
       "      <td>351.50</td>\n",
       "      <td>950.0</td>\n",
       "    </tr>\n",
       "    <tr>\n",
       "      <th>78</th>\n",
       "      <td>2020-03-05</td>\n",
       "      <td>2020-03-09</td>\n",
       "      <td>Euro Youth Hotel Munich</td>\n",
       "      <td>1797</td>\n",
       "      <td>8.7</td>\n",
       "      <td>1.2 km from centre</td>\n",
       "      <td>www.booking.com/hotel/de/euro-youth.en-gb.html...</td>\n",
       "      <td>4 days</td>\n",
       "      <td>449.25</td>\n",
       "      <td>1200.0</td>\n",
       "    </tr>\n",
       "    <tr>\n",
       "      <th>79</th>\n",
       "      <td>2020-03-05</td>\n",
       "      <td>2020-03-09</td>\n",
       "      <td>Novotel Mxc3xcnchen City</td>\n",
       "      <td>1779</td>\n",
       "      <td>8.6</td>\n",
       "      <td>1.4 km from centre</td>\n",
       "      <td>www.booking.com/hotel/de/novotel-munchen.en-gb...</td>\n",
       "      <td>4 days</td>\n",
       "      <td>444.75</td>\n",
       "      <td>1400.0</td>\n",
       "    </tr>\n",
       "    <tr>\n",
       "      <th>83</th>\n",
       "      <td>2020-03-05</td>\n",
       "      <td>2020-03-09</td>\n",
       "      <td>Euro Youth Hotel Munich</td>\n",
       "      <td>1797</td>\n",
       "      <td>8.7</td>\n",
       "      <td>1.2 km from centre</td>\n",
       "      <td>www.booking.com/hotel/de/euro-youth.en-gb.html...</td>\n",
       "      <td>4 days</td>\n",
       "      <td>449.25</td>\n",
       "      <td>1200.0</td>\n",
       "    </tr>\n",
       "    <tr>\n",
       "      <th>96</th>\n",
       "      <td>2020-03-05</td>\n",
       "      <td>2020-03-09</td>\n",
       "      <td>Hotel Luitpold</td>\n",
       "      <td>1896</td>\n",
       "      <td>8.0</td>\n",
       "      <td>1.1 km from centre</td>\n",
       "      <td>www.booking.com/hotel/de/luitpoldmuenchen.en-g...</td>\n",
       "      <td>4 days</td>\n",
       "      <td>474.00</td>\n",
       "      <td>1100.0</td>\n",
       "    </tr>\n",
       "    <tr>\n",
       "      <th>106</th>\n",
       "      <td>2020-03-05</td>\n",
       "      <td>2020-03-09</td>\n",
       "      <td>Hotel Luitpold</td>\n",
       "      <td>1896</td>\n",
       "      <td>8.0</td>\n",
       "      <td>1.1 km from centre</td>\n",
       "      <td>www.booking.com/hotel/de/luitpoldmuenchen.en-g...</td>\n",
       "      <td>4 days</td>\n",
       "      <td>474.00</td>\n",
       "      <td>1100.0</td>\n",
       "    </tr>\n",
       "    <tr>\n",
       "      <th>108</th>\n",
       "      <td>2020-03-05</td>\n",
       "      <td>2020-03-09</td>\n",
       "      <td>Hotel Eder</td>\n",
       "      <td>2465</td>\n",
       "      <td>8.7</td>\n",
       "      <td>1 km from centre</td>\n",
       "      <td>www.booking.com/hotel/de/eder.en-gb.html?aid=3...</td>\n",
       "      <td>4 days</td>\n",
       "      <td>616.25</td>\n",
       "      <td>1000.0</td>\n",
       "    </tr>\n",
       "    <tr>\n",
       "      <th>117</th>\n",
       "      <td>2020-03-05</td>\n",
       "      <td>2020-03-09</td>\n",
       "      <td>Hotel Eder</td>\n",
       "      <td>2465</td>\n",
       "      <td>8.7</td>\n",
       "      <td>1 km from centre</td>\n",
       "      <td>www.booking.com/hotel/de/eder.en-gb.html?aid=3...</td>\n",
       "      <td>4 days</td>\n",
       "      <td>616.25</td>\n",
       "      <td>1000.0</td>\n",
       "    </tr>\n",
       "    <tr>\n",
       "      <th>123</th>\n",
       "      <td>2020-03-05</td>\n",
       "      <td>2020-03-09</td>\n",
       "      <td>Hotel Stachus</td>\n",
       "      <td>1406</td>\n",
       "      <td>7.9</td>\n",
       "      <td>950 m from centre</td>\n",
       "      <td>www.booking.com/hotel/de/stachus-munchen.en-gb...</td>\n",
       "      <td>4 days</td>\n",
       "      <td>351.50</td>\n",
       "      <td>950.0</td>\n",
       "    </tr>\n",
       "    <tr>\n",
       "      <th>127</th>\n",
       "      <td>2020-03-05</td>\n",
       "      <td>2020-03-09</td>\n",
       "      <td>Euro Youth Hotel Munich</td>\n",
       "      <td>1797</td>\n",
       "      <td>8.7</td>\n",
       "      <td>1.2 km from centre</td>\n",
       "      <td>www.booking.com/hotel/de/euro-youth.en-gb.html...</td>\n",
       "      <td>4 days</td>\n",
       "      <td>449.25</td>\n",
       "      <td>1200.0</td>\n",
       "    </tr>\n",
       "    <tr>\n",
       "      <th>128</th>\n",
       "      <td>2020-03-05</td>\n",
       "      <td>2020-03-09</td>\n",
       "      <td>Hotel Stachus</td>\n",
       "      <td>1406</td>\n",
       "      <td>7.9</td>\n",
       "      <td>950 m from centre</td>\n",
       "      <td>www.booking.com/hotel/de/stachus-munchen.en-gb...</td>\n",
       "      <td>4 days</td>\n",
       "      <td>351.50</td>\n",
       "      <td>950.0</td>\n",
       "    </tr>\n",
       "    <tr>\n",
       "      <th>130</th>\n",
       "      <td>2020-03-05</td>\n",
       "      <td>2020-03-09</td>\n",
       "      <td>Euro Youth Hotel Munich</td>\n",
       "      <td>1797</td>\n",
       "      <td>8.7</td>\n",
       "      <td>1.2 km from centre</td>\n",
       "      <td>www.booking.com/hotel/de/euro-youth.en-gb.html...</td>\n",
       "      <td>4 days</td>\n",
       "      <td>449.25</td>\n",
       "      <td>1200.0</td>\n",
       "    </tr>\n",
       "    <tr>\n",
       "      <th>132</th>\n",
       "      <td>2020-03-05</td>\n",
       "      <td>2020-03-09</td>\n",
       "      <td>Novotel Mxc3xcnchen City</td>\n",
       "      <td>1779</td>\n",
       "      <td>8.6</td>\n",
       "      <td>1.4 km from centre</td>\n",
       "      <td>www.booking.com/hotel/de/novotel-munchen.en-gb...</td>\n",
       "      <td>4 days</td>\n",
       "      <td>444.75</td>\n",
       "      <td>1400.0</td>\n",
       "    </tr>\n",
       "    <tr>\n",
       "      <th>133</th>\n",
       "      <td>2020-03-05</td>\n",
       "      <td>2020-03-09</td>\n",
       "      <td>Novotel Mxc3xcnchen City</td>\n",
       "      <td>1779</td>\n",
       "      <td>8.6</td>\n",
       "      <td>1.4 km from centre</td>\n",
       "      <td>www.booking.com/hotel/de/novotel-munchen.en-gb...</td>\n",
       "      <td>4 days</td>\n",
       "      <td>444.75</td>\n",
       "      <td>1400.0</td>\n",
       "    </tr>\n",
       "    <tr>\n",
       "      <th>143</th>\n",
       "      <td>2020-03-05</td>\n",
       "      <td>2020-03-09</td>\n",
       "      <td>Hotel Luitpold</td>\n",
       "      <td>1896</td>\n",
       "      <td>8.0</td>\n",
       "      <td>1.1 km from centre</td>\n",
       "      <td>www.booking.com/hotel/de/luitpoldmuenchen.en-g...</td>\n",
       "      <td>4 days</td>\n",
       "      <td>474.00</td>\n",
       "      <td>1100.0</td>\n",
       "    </tr>\n",
       "    <tr>\n",
       "      <th>159</th>\n",
       "      <td>2020-03-05</td>\n",
       "      <td>2020-03-09</td>\n",
       "      <td>Hotel Luitpold</td>\n",
       "      <td>1896</td>\n",
       "      <td>8.0</td>\n",
       "      <td>1.1 km from centre</td>\n",
       "      <td>www.booking.com/hotel/de/luitpoldmuenchen.en-g...</td>\n",
       "      <td>4 days</td>\n",
       "      <td>474.00</td>\n",
       "      <td>1100.0</td>\n",
       "    </tr>\n",
       "    <tr>\n",
       "      <th>...</th>\n",
       "      <td>...</td>\n",
       "      <td>...</td>\n",
       "      <td>...</td>\n",
       "      <td>...</td>\n",
       "      <td>...</td>\n",
       "      <td>...</td>\n",
       "      <td>...</td>\n",
       "      <td>...</td>\n",
       "      <td>...</td>\n",
       "      <td>...</td>\n",
       "    </tr>\n",
       "    <tr>\n",
       "      <th>320</th>\n",
       "      <td>2020-03-05</td>\n",
       "      <td>2020-03-09</td>\n",
       "      <td>City-Hotel Mxc3xcnchen</td>\n",
       "      <td>1833</td>\n",
       "      <td>7.8</td>\n",
       "      <td>1.1 km from centre</td>\n",
       "      <td>www.booking.com/hotel/de/city-munchen.en-gb.ht...</td>\n",
       "      <td>4 days</td>\n",
       "      <td>458.25</td>\n",
       "      <td>1100.0</td>\n",
       "    </tr>\n",
       "    <tr>\n",
       "      <th>322</th>\n",
       "      <td>2020-03-05</td>\n",
       "      <td>2020-03-09</td>\n",
       "      <td>Hotel MIO y AMANO</td>\n",
       "      <td>1606</td>\n",
       "      <td>8.6</td>\n",
       "      <td>600 m from centre</td>\n",
       "      <td>www.booking.com/hotel/de/mio-by-amano.en-gb.ht...</td>\n",
       "      <td>4 days</td>\n",
       "      <td>401.50</td>\n",
       "      <td>600.0</td>\n",
       "    </tr>\n",
       "    <tr>\n",
       "      <th>324</th>\n",
       "      <td>2020-03-05</td>\n",
       "      <td>2020-03-09</td>\n",
       "      <td>City-Hotel Mxc3xcnchen</td>\n",
       "      <td>1833</td>\n",
       "      <td>7.8</td>\n",
       "      <td>1.1 km from centre</td>\n",
       "      <td>www.booking.com/hotel/de/city-munchen.en-gb.ht...</td>\n",
       "      <td>4 days</td>\n",
       "      <td>458.25</td>\n",
       "      <td>1100.0</td>\n",
       "    </tr>\n",
       "    <tr>\n",
       "      <th>341</th>\n",
       "      <td>2020-03-05</td>\n",
       "      <td>2020-03-09</td>\n",
       "      <td>Hotel Luitpold</td>\n",
       "      <td>1896</td>\n",
       "      <td>8.0</td>\n",
       "      <td>1.1 km from centre</td>\n",
       "      <td>www.booking.com/hotel/de/luitpoldmuenchen.en-g...</td>\n",
       "      <td>4 days</td>\n",
       "      <td>474.00</td>\n",
       "      <td>1100.0</td>\n",
       "    </tr>\n",
       "    <tr>\n",
       "      <th>345</th>\n",
       "      <td>2020-03-05</td>\n",
       "      <td>2020-03-09</td>\n",
       "      <td>Hotel Stachus</td>\n",
       "      <td>1406</td>\n",
       "      <td>7.9</td>\n",
       "      <td>950 m from centre</td>\n",
       "      <td>www.booking.com/hotel/de/stachus-munchen.en-gb...</td>\n",
       "      <td>4 days</td>\n",
       "      <td>351.50</td>\n",
       "      <td>950.0</td>\n",
       "    </tr>\n",
       "    <tr>\n",
       "      <th>348</th>\n",
       "      <td>2020-03-05</td>\n",
       "      <td>2020-03-09</td>\n",
       "      <td>Hotel Eder</td>\n",
       "      <td>2465</td>\n",
       "      <td>8.7</td>\n",
       "      <td>1 km from centre</td>\n",
       "      <td>www.booking.com/hotel/de/eder.en-gb.html?aid=3...</td>\n",
       "      <td>4 days</td>\n",
       "      <td>616.25</td>\n",
       "      <td>1000.0</td>\n",
       "    </tr>\n",
       "    <tr>\n",
       "      <th>351</th>\n",
       "      <td>2020-03-05</td>\n",
       "      <td>2020-03-09</td>\n",
       "      <td>Euro Youth Hotel Munich</td>\n",
       "      <td>1797</td>\n",
       "      <td>8.7</td>\n",
       "      <td>1.2 km from centre</td>\n",
       "      <td>www.booking.com/hotel/de/euro-youth.en-gb.html...</td>\n",
       "      <td>4 days</td>\n",
       "      <td>449.25</td>\n",
       "      <td>1200.0</td>\n",
       "    </tr>\n",
       "    <tr>\n",
       "      <th>360</th>\n",
       "      <td>2020-03-05</td>\n",
       "      <td>2020-03-09</td>\n",
       "      <td>Novotel Mxc3xcnchen City</td>\n",
       "      <td>1779</td>\n",
       "      <td>8.6</td>\n",
       "      <td>1.4 km from centre</td>\n",
       "      <td>www.booking.com/hotel/de/novotel-munchen.en-gb...</td>\n",
       "      <td>4 days</td>\n",
       "      <td>444.75</td>\n",
       "      <td>1400.0</td>\n",
       "    </tr>\n",
       "    <tr>\n",
       "      <th>363</th>\n",
       "      <td>2020-03-05</td>\n",
       "      <td>2020-03-09</td>\n",
       "      <td>Hotel Stachus</td>\n",
       "      <td>1406</td>\n",
       "      <td>7.9</td>\n",
       "      <td>950 m from centre</td>\n",
       "      <td>www.booking.com/hotel/de/stachus-munchen.en-gb...</td>\n",
       "      <td>4 days</td>\n",
       "      <td>351.50</td>\n",
       "      <td>950.0</td>\n",
       "    </tr>\n",
       "    <tr>\n",
       "      <th>369</th>\n",
       "      <td>2020-03-05</td>\n",
       "      <td>2020-03-09</td>\n",
       "      <td>City-Hotel Mxc3xcnchen</td>\n",
       "      <td>1833</td>\n",
       "      <td>7.8</td>\n",
       "      <td>1.1 km from centre</td>\n",
       "      <td>www.booking.com/hotel/de/city-munchen.en-gb.ht...</td>\n",
       "      <td>4 days</td>\n",
       "      <td>458.25</td>\n",
       "      <td>1100.0</td>\n",
       "    </tr>\n",
       "    <tr>\n",
       "      <th>370</th>\n",
       "      <td>2020-03-05</td>\n",
       "      <td>2020-03-09</td>\n",
       "      <td>Hotel Luitpold</td>\n",
       "      <td>1896</td>\n",
       "      <td>8.0</td>\n",
       "      <td>1.1 km from centre</td>\n",
       "      <td>www.booking.com/hotel/de/luitpoldmuenchen.en-g...</td>\n",
       "      <td>4 days</td>\n",
       "      <td>474.00</td>\n",
       "      <td>1100.0</td>\n",
       "    </tr>\n",
       "    <tr>\n",
       "      <th>375</th>\n",
       "      <td>2020-03-05</td>\n",
       "      <td>2020-03-09</td>\n",
       "      <td>Euro Youth Hotel Munich</td>\n",
       "      <td>1797</td>\n",
       "      <td>8.7</td>\n",
       "      <td>1.2 km from centre</td>\n",
       "      <td>www.booking.com/hotel/de/euro-youth.en-gb.html...</td>\n",
       "      <td>4 days</td>\n",
       "      <td>449.25</td>\n",
       "      <td>1200.0</td>\n",
       "    </tr>\n",
       "    <tr>\n",
       "      <th>379</th>\n",
       "      <td>2020-03-05</td>\n",
       "      <td>2020-03-09</td>\n",
       "      <td>Novotel Mxc3xcnchen City</td>\n",
       "      <td>1779</td>\n",
       "      <td>8.6</td>\n",
       "      <td>1.4 km from centre</td>\n",
       "      <td>www.booking.com/hotel/de/novotel-munchen.en-gb...</td>\n",
       "      <td>4 days</td>\n",
       "      <td>444.75</td>\n",
       "      <td>1400.0</td>\n",
       "    </tr>\n",
       "    <tr>\n",
       "      <th>383</th>\n",
       "      <td>2020-03-05</td>\n",
       "      <td>2020-03-09</td>\n",
       "      <td>Hotel MIO y AMANO</td>\n",
       "      <td>1606</td>\n",
       "      <td>8.6</td>\n",
       "      <td>600 m from centre</td>\n",
       "      <td>www.booking.com/hotel/de/mio-by-amano.en-gb.ht...</td>\n",
       "      <td>4 days</td>\n",
       "      <td>401.50</td>\n",
       "      <td>600.0</td>\n",
       "    </tr>\n",
       "    <tr>\n",
       "      <th>387</th>\n",
       "      <td>2020-03-05</td>\n",
       "      <td>2020-03-09</td>\n",
       "      <td>Hotel Luitpold</td>\n",
       "      <td>1896</td>\n",
       "      <td>8.0</td>\n",
       "      <td>1.1 km from centre</td>\n",
       "      <td>www.booking.com/hotel/de/luitpoldmuenchen.en-g...</td>\n",
       "      <td>4 days</td>\n",
       "      <td>474.00</td>\n",
       "      <td>1100.0</td>\n",
       "    </tr>\n",
       "    <tr>\n",
       "      <th>398</th>\n",
       "      <td>2020-03-05</td>\n",
       "      <td>2020-03-09</td>\n",
       "      <td>City-Hotel Mxc3xcnchen</td>\n",
       "      <td>1833</td>\n",
       "      <td>7.8</td>\n",
       "      <td>1.1 km from centre</td>\n",
       "      <td>www.booking.com/hotel/de/city-munchen.en-gb.ht...</td>\n",
       "      <td>4 days</td>\n",
       "      <td>458.25</td>\n",
       "      <td>1100.0</td>\n",
       "    </tr>\n",
       "    <tr>\n",
       "      <th>402</th>\n",
       "      <td>2020-03-05</td>\n",
       "      <td>2020-03-09</td>\n",
       "      <td>Hotel MIO y AMANO</td>\n",
       "      <td>1606</td>\n",
       "      <td>8.6</td>\n",
       "      <td>600 m from centre</td>\n",
       "      <td>www.booking.com/hotel/de/mio-by-amano.en-gb.ht...</td>\n",
       "      <td>4 days</td>\n",
       "      <td>401.50</td>\n",
       "      <td>600.0</td>\n",
       "    </tr>\n",
       "    <tr>\n",
       "      <th>407</th>\n",
       "      <td>2020-03-05</td>\n",
       "      <td>2020-03-09</td>\n",
       "      <td>Hotel Senator Mxc3xcnchen</td>\n",
       "      <td>1657</td>\n",
       "      <td>8.2</td>\n",
       "      <td>1.9 km from centre</td>\n",
       "      <td>www.booking.com/hotel/de/senator-munchen.en-gb...</td>\n",
       "      <td>4 days</td>\n",
       "      <td>414.25</td>\n",
       "      <td>1900.0</td>\n",
       "    </tr>\n",
       "    <tr>\n",
       "      <th>409</th>\n",
       "      <td>2020-03-05</td>\n",
       "      <td>2020-03-09</td>\n",
       "      <td>Hotel Senator Mxc3xcnchen</td>\n",
       "      <td>1657</td>\n",
       "      <td>8.2</td>\n",
       "      <td>1.9 km from centre</td>\n",
       "      <td>www.booking.com/hotel/de/senator-munchen.en-gb...</td>\n",
       "      <td>4 days</td>\n",
       "      <td>414.25</td>\n",
       "      <td>1900.0</td>\n",
       "    </tr>\n",
       "    <tr>\n",
       "      <th>412</th>\n",
       "      <td>2020-03-05</td>\n",
       "      <td>2020-03-09</td>\n",
       "      <td>Hotel Eder</td>\n",
       "      <td>2465</td>\n",
       "      <td>8.7</td>\n",
       "      <td>1 km from centre</td>\n",
       "      <td>www.booking.com/hotel/de/eder.en-gb.html?aid=3...</td>\n",
       "      <td>4 days</td>\n",
       "      <td>616.25</td>\n",
       "      <td>1000.0</td>\n",
       "    </tr>\n",
       "    <tr>\n",
       "      <th>416</th>\n",
       "      <td>2020-03-05</td>\n",
       "      <td>2020-03-09</td>\n",
       "      <td>Hotel Stachus</td>\n",
       "      <td>1406</td>\n",
       "      <td>7.9</td>\n",
       "      <td>950 m from centre</td>\n",
       "      <td>www.booking.com/hotel/de/stachus-munchen.en-gb...</td>\n",
       "      <td>4 days</td>\n",
       "      <td>351.50</td>\n",
       "      <td>950.0</td>\n",
       "    </tr>\n",
       "    <tr>\n",
       "      <th>421</th>\n",
       "      <td>2020-03-05</td>\n",
       "      <td>2020-03-09</td>\n",
       "      <td>Euro Youth Hotel Munich</td>\n",
       "      <td>1797</td>\n",
       "      <td>8.7</td>\n",
       "      <td>1.2 km from centre</td>\n",
       "      <td>www.booking.com/hotel/de/euro-youth.en-gb.html...</td>\n",
       "      <td>4 days</td>\n",
       "      <td>449.25</td>\n",
       "      <td>1200.0</td>\n",
       "    </tr>\n",
       "    <tr>\n",
       "      <th>424</th>\n",
       "      <td>2020-03-05</td>\n",
       "      <td>2020-03-09</td>\n",
       "      <td>Novotel Mxc3xcnchen City</td>\n",
       "      <td>1779</td>\n",
       "      <td>8.6</td>\n",
       "      <td>1.4 km from centre</td>\n",
       "      <td>www.booking.com/hotel/de/novotel-munchen.en-gb...</td>\n",
       "      <td>4 days</td>\n",
       "      <td>444.75</td>\n",
       "      <td>1400.0</td>\n",
       "    </tr>\n",
       "    <tr>\n",
       "      <th>428</th>\n",
       "      <td>2020-03-05</td>\n",
       "      <td>2020-03-09</td>\n",
       "      <td>Hotel Luitpold</td>\n",
       "      <td>1896</td>\n",
       "      <td>8.0</td>\n",
       "      <td>1.1 km from centre</td>\n",
       "      <td>www.booking.com/hotel/de/luitpoldmuenchen.en-g...</td>\n",
       "      <td>4 days</td>\n",
       "      <td>474.00</td>\n",
       "      <td>1100.0</td>\n",
       "    </tr>\n",
       "    <tr>\n",
       "      <th>439</th>\n",
       "      <td>2020-03-05</td>\n",
       "      <td>2020-03-09</td>\n",
       "      <td>Hotel Eder</td>\n",
       "      <td>2465</td>\n",
       "      <td>8.7</td>\n",
       "      <td>1 km from centre</td>\n",
       "      <td>www.booking.com/hotel/de/eder.en-gb.html?aid=3...</td>\n",
       "      <td>4 days</td>\n",
       "      <td>616.25</td>\n",
       "      <td>1000.0</td>\n",
       "    </tr>\n",
       "    <tr>\n",
       "      <th>445</th>\n",
       "      <td>2020-03-05</td>\n",
       "      <td>2020-03-09</td>\n",
       "      <td>Hotel Stachus</td>\n",
       "      <td>1406</td>\n",
       "      <td>7.9</td>\n",
       "      <td>950 m from centre</td>\n",
       "      <td>www.booking.com/hotel/de/stachus-munchen.en-gb...</td>\n",
       "      <td>4 days</td>\n",
       "      <td>351.50</td>\n",
       "      <td>950.0</td>\n",
       "    </tr>\n",
       "    <tr>\n",
       "      <th>447</th>\n",
       "      <td>2020-03-05</td>\n",
       "      <td>2020-03-09</td>\n",
       "      <td>Euro Youth Hotel Munich</td>\n",
       "      <td>1797</td>\n",
       "      <td>8.7</td>\n",
       "      <td>1.2 km from centre</td>\n",
       "      <td>www.booking.com/hotel/de/euro-youth.en-gb.html...</td>\n",
       "      <td>4 days</td>\n",
       "      <td>449.25</td>\n",
       "      <td>1200.0</td>\n",
       "    </tr>\n",
       "    <tr>\n",
       "      <th>448</th>\n",
       "      <td>2020-03-05</td>\n",
       "      <td>2020-03-09</td>\n",
       "      <td>Novotel Mxc3xcnchen City</td>\n",
       "      <td>1779</td>\n",
       "      <td>8.6</td>\n",
       "      <td>1.4 km from centre</td>\n",
       "      <td>www.booking.com/hotel/de/novotel-munchen.en-gb...</td>\n",
       "      <td>4 days</td>\n",
       "      <td>444.75</td>\n",
       "      <td>1400.0</td>\n",
       "    </tr>\n",
       "    <tr>\n",
       "      <th>453</th>\n",
       "      <td>2020-03-05</td>\n",
       "      <td>2020-03-09</td>\n",
       "      <td>Hotel Luitpold</td>\n",
       "      <td>1896</td>\n",
       "      <td>8.0</td>\n",
       "      <td>1.1 km from centre</td>\n",
       "      <td>www.booking.com/hotel/de/luitpoldmuenchen.en-g...</td>\n",
       "      <td>4 days</td>\n",
       "      <td>474.00</td>\n",
       "      <td>1100.0</td>\n",
       "    </tr>\n",
       "    <tr>\n",
       "      <th>463</th>\n",
       "      <td>2020-03-05</td>\n",
       "      <td>2020-03-09</td>\n",
       "      <td>City-Hotel Mxc3xcnchen</td>\n",
       "      <td>1833</td>\n",
       "      <td>7.8</td>\n",
       "      <td>1.1 km from centre</td>\n",
       "      <td>www.booking.com/hotel/de/city-munchen.en-gb.ht...</td>\n",
       "      <td>4 days</td>\n",
       "      <td>458.25</td>\n",
       "      <td>1100.0</td>\n",
       "    </tr>\n",
       "  </tbody>\n",
       "</table>\n",
       "<p>94 rows × 10 columns</p>\n",
       "</div>"
      ],
      "text/plain": [
       "            de        ate                      nome  preco  nota  \\\n",
       "6   2020-03-05 2020-03-09                Hotel Eder   2465   8.7   \n",
       "12  2020-03-05 2020-03-09             Hotel Stachus   1406   7.9   \n",
       "14  2020-03-05 2020-03-09   Euro Youth Hotel Munich   1797   8.7   \n",
       "15  2020-03-05 2020-03-09  Novotel Mxc3xcnchen City   1779   8.6   \n",
       "20  2020-03-05 2020-03-09            Hotel Luitpold   1896   8.0   \n",
       "..         ...        ...                       ...    ...   ...   \n",
       "445 2020-03-05 2020-03-09             Hotel Stachus   1406   7.9   \n",
       "447 2020-03-05 2020-03-09   Euro Youth Hotel Munich   1797   8.7   \n",
       "448 2020-03-05 2020-03-09  Novotel Mxc3xcnchen City   1779   8.6   \n",
       "453 2020-03-05 2020-03-09            Hotel Luitpold   1896   8.0   \n",
       "463 2020-03-05 2020-03-09    City-Hotel Mxc3xcnchen   1833   7.8   \n",
       "\n",
       "              distancia                                                url  \\\n",
       "6      1 km from centre  www.booking.com/hotel/de/eder.en-gb.html?aid=3...   \n",
       "12    950 m from centre  www.booking.com/hotel/de/stachus-munchen.en-gb...   \n",
       "14   1.2 km from centre  www.booking.com/hotel/de/euro-youth.en-gb.html...   \n",
       "15   1.4 km from centre  www.booking.com/hotel/de/novotel-munchen.en-gb...   \n",
       "20   1.1 km from centre  www.booking.com/hotel/de/luitpoldmuenchen.en-g...   \n",
       "..                  ...                                                ...   \n",
       "445   950 m from centre  www.booking.com/hotel/de/stachus-munchen.en-gb...   \n",
       "447  1.2 km from centre  www.booking.com/hotel/de/euro-youth.en-gb.html...   \n",
       "448  1.4 km from centre  www.booking.com/hotel/de/novotel-munchen.en-gb...   \n",
       "453  1.1 km from centre  www.booking.com/hotel/de/luitpoldmuenchen.en-g...   \n",
       "463  1.1 km from centre  www.booking.com/hotel/de/city-munchen.en-gb.ht...   \n",
       "\n",
       "      dias  precoPorNoite  distanciaMetros  \n",
       "6   4 days         616.25           1000.0  \n",
       "12  4 days         351.50            950.0  \n",
       "14  4 days         449.25           1200.0  \n",
       "15  4 days         444.75           1400.0  \n",
       "20  4 days         474.00           1100.0  \n",
       "..     ...            ...              ...  \n",
       "445 4 days         351.50            950.0  \n",
       "447 4 days         449.25           1200.0  \n",
       "448 4 days         444.75           1400.0  \n",
       "453 4 days         474.00           1100.0  \n",
       "463 4 days         458.25           1100.0  \n",
       "\n",
       "[94 rows x 10 columns]"
      ]
     },
     "metadata": {},
     "output_type": "display_data"
    }
   ],
   "source": [
    "\n",
    "datetimeFormat = '%Y-%m-%d %H:%M:%S.%f'\n",
    "\n",
    "\n",
    "#df['diasteste'] = datetime.datetime.strptime(df['ate'],datetimeFormat) - datetime.datetime.strptime(df['de'],datetimeFormat)\n",
    "df['dias'] = (df['ate']-df['de']).replace(regex=True,to_replace=r'\\D',value=r'')\n",
    "df[\"nota\"] = pd.to_numeric(df[\"nota\"])\n",
    "df['distanciaMedida'] = pd.np.where(df.distancia.str.contains(\"km\"),\"km\",\"m\")\n",
    "df[\"distanciaNumerica\"] = pd.to_numeric(df['distancia'].replace(regex=True,to_replace=r'\\D',value=r''))#, downcast='float')\n",
    "df[\"distanciaMetros\"] = pd.np.where(df.distancia.str.contains(\"km\") & df.distancia.str.contains(\".\"),df.distanciaNumerica*1000,df[\"distanciaNumerica\"])\n",
    "df[\"distanciaMetros\"] = pd.np.where(df.distanciaMetros > 9000,(df.distanciaNumerica/10),df[\"distanciaNumerica\"])\n",
    "\n",
    "\n",
    "df[\"distanciaMetros\"] = df[\"distanciaMetros\"].apply(lambda x: x*1000 if x < 100 else x)\n",
    "#df[\"precoPorNoite\"] = df.apply(calculaPorDia,axis=1)\n",
    "\n",
    "\n",
    "df = df[df['precoPorNoite']<800]\n",
    "df = df[df['nota']>7.5]\n",
    "df = df[df['distanciaMetros']<2000]\n",
    "df = df[~df[\"nome\"].str.contains('Hostel')]\n",
    "\n",
    "del df['distanciaMedida']\n",
    "del df['distanciaNumerica']\n",
    "\n",
    "\n",
    "df.drop_duplicates(inplace = True) \n",
    "display(df.describe())\n",
    "display(df)\n",
    "\n",
    "\n"
   ]
  },
  {
   "cell_type": "code",
   "execution_count": 499,
   "metadata": {},
   "outputs": [],
   "source": [
    "import plotly.express as px\n",
    "#fig = px.scatter(df, x=\"precoPorNoite\", y=\"nota\",color=\"nome\")\n",
    "#fig = px.scatter(df, x=\"preco\", y=\"nota\",color=\"nome\")\n",
    "#fig.show()"
   ]
  },
  {
   "cell_type": "code",
   "execution_count": 500,
   "metadata": {},
   "outputs": [
    {
     "data": {
      "application/vnd.plotly.v1+json": {
       "config": {
        "plotlyServerURL": "https://plot.ly"
       },
       "data": [
        {
         "hoverlabel": {
          "namelength": 0
         },
         "hovertemplate": "<b>%{hovertext}</b><br><br>nome=Hotel Eder<br>precoPorNoite=%{x}<br>nota=%{y}<br>distanciaMetros=%{marker.size}",
         "hovertext": [
          "Hotel Eder",
          "Hotel Eder",
          "Hotel Eder",
          "Hotel Eder",
          "Hotel Eder",
          "Hotel Eder",
          "Hotel Eder",
          "Hotel Eder",
          "Hotel Eder",
          "Hotel Eder",
          "Hotel Eder",
          "Hotel Eder"
         ],
         "legendgroup": "nome=Hotel Eder",
         "marker": {
          "color": "#636efa",
          "size": [
           1000,
           1000,
           1000,
           1000,
           1000,
           1000,
           1000,
           1000,
           1000,
           1000,
           1000,
           1000
          ],
          "sizemode": "area",
          "sizeref": 4.75,
          "symbol": "circle"
         },
         "mode": "markers",
         "name": "nome=Hotel Eder",
         "showlegend": true,
         "type": "scatter",
         "x": [
          616.25,
          616.25,
          616.25,
          616.25,
          616.25,
          616.25,
          616.25,
          616.25,
          616.25,
          616.25,
          616.25,
          616.25
         ],
         "xaxis": "x",
         "y": [
          8.7,
          8.7,
          8.7,
          8.7,
          8.7,
          8.7,
          8.7,
          8.7,
          8.7,
          8.7,
          8.7,
          8.7
         ],
         "yaxis": "y"
        },
        {
         "hoverlabel": {
          "namelength": 0
         },
         "hovertemplate": "<b>%{hovertext}</b><br><br>nome=Hotel Stachus<br>precoPorNoite=%{x}<br>nota=%{y}<br>distanciaMetros=%{marker.size}",
         "hovertext": [
          "Hotel Stachus",
          "Hotel Stachus",
          "Hotel Stachus",
          "Hotel Stachus",
          "Hotel Stachus",
          "Hotel Stachus",
          "Hotel Stachus",
          "Hotel Stachus",
          "Hotel Stachus",
          "Hotel Stachus",
          "Hotel Stachus",
          "Hotel Stachus",
          "Hotel Stachus",
          "Hotel Stachus",
          "Hotel Stachus",
          "Hotel Stachus"
         ],
         "legendgroup": "nome=Hotel Stachus",
         "marker": {
          "color": "#EF553B",
          "size": [
           950,
           950,
           950,
           950,
           950,
           950,
           950,
           950,
           950,
           950,
           950,
           950,
           950,
           950,
           950,
           950
          ],
          "sizemode": "area",
          "sizeref": 4.75,
          "symbol": "circle"
         },
         "mode": "markers",
         "name": "nome=Hotel Stachus",
         "showlegend": true,
         "type": "scatter",
         "x": [
          351.5,
          351.5,
          351.5,
          351.5,
          351.5,
          351.5,
          351.5,
          351.5,
          351.5,
          351.5,
          351.5,
          351.5,
          351.5,
          351.5,
          351.5,
          351.5
         ],
         "xaxis": "x",
         "y": [
          7.9,
          7.9,
          7.9,
          7.9,
          7.9,
          7.9,
          7.9,
          7.9,
          7.9,
          7.9,
          7.9,
          7.9,
          7.9,
          7.9,
          7.9,
          7.9
         ],
         "yaxis": "y"
        },
        {
         "hoverlabel": {
          "namelength": 0
         },
         "hovertemplate": "<b>%{hovertext}</b><br><br>nome=Euro Youth Hotel Munich<br>precoPorNoite=%{x}<br>nota=%{y}<br>distanciaMetros=%{marker.size}",
         "hovertext": [
          "Euro Youth Hotel Munich",
          "Euro Youth Hotel Munich",
          "Euro Youth Hotel Munich",
          "Euro Youth Hotel Munich",
          "Euro Youth Hotel Munich",
          "Euro Youth Hotel Munich",
          "Euro Youth Hotel Munich",
          "Euro Youth Hotel Munich",
          "Euro Youth Hotel Munich",
          "Euro Youth Hotel Munich",
          "Euro Youth Hotel Munich",
          "Euro Youth Hotel Munich",
          "Euro Youth Hotel Munich",
          "Euro Youth Hotel Munich",
          "Euro Youth Hotel Munich",
          "Euro Youth Hotel Munich"
         ],
         "legendgroup": "nome=Euro Youth Hotel Munich",
         "marker": {
          "color": "#00cc96",
          "size": [
           1200,
           1200,
           1200,
           1200,
           1200,
           1200,
           1200,
           1200,
           1200,
           1200,
           1200,
           1200,
           1200,
           1200,
           1200,
           1200
          ],
          "sizemode": "area",
          "sizeref": 4.75,
          "symbol": "circle"
         },
         "mode": "markers",
         "name": "nome=Euro Youth Hotel Munich",
         "showlegend": true,
         "type": "scatter",
         "x": [
          449.25,
          449.25,
          449.25,
          449.25,
          449.25,
          449.25,
          449.25,
          449.25,
          449.25,
          449.25,
          449.25,
          449.25,
          449.25,
          449.25,
          449.25,
          449.25
         ],
         "xaxis": "x",
         "y": [
          8.7,
          8.7,
          8.7,
          8.7,
          8.7,
          8.7,
          8.7,
          8.7,
          8.7,
          8.7,
          8.7,
          8.7,
          8.7,
          8.7,
          8.7,
          8.7
         ],
         "yaxis": "y"
        },
        {
         "hoverlabel": {
          "namelength": 0
         },
         "hovertemplate": "<b>%{hovertext}</b><br><br>nome=Novotel Mxc3xcnchen City<br>precoPorNoite=%{x}<br>nota=%{y}<br>distanciaMetros=%{marker.size}",
         "hovertext": [
          "Novotel Mxc3xcnchen City",
          "Novotel Mxc3xcnchen City",
          "Novotel Mxc3xcnchen City",
          "Novotel Mxc3xcnchen City",
          "Novotel Mxc3xcnchen City",
          "Novotel Mxc3xcnchen City",
          "Novotel Mxc3xcnchen City",
          "Novotel Mxc3xcnchen City",
          "Novotel Mxc3xcnchen City",
          "Novotel Mxc3xcnchen City",
          "Novotel Mxc3xcnchen City",
          "Novotel Mxc3xcnchen City",
          "Novotel Mxc3xcnchen City",
          "Novotel Mxc3xcnchen City"
         ],
         "legendgroup": "nome=Novotel Mxc3xcnchen City",
         "marker": {
          "color": "#ab63fa",
          "size": [
           1400,
           1400,
           1400,
           1400,
           1400,
           1400,
           1400,
           1400,
           1400,
           1400,
           1400,
           1400,
           1400,
           1400
          ],
          "sizemode": "area",
          "sizeref": 4.75,
          "symbol": "circle"
         },
         "mode": "markers",
         "name": "nome=Novotel Mxc3xcnchen City",
         "showlegend": true,
         "type": "scatter",
         "x": [
          444.75,
          444.75,
          444.75,
          444.75,
          444.75,
          444.75,
          444.75,
          444.75,
          444.75,
          444.75,
          444.75,
          444.75,
          444.75,
          444.75
         ],
         "xaxis": "x",
         "y": [
          8.6,
          8.6,
          8.6,
          8.6,
          8.6,
          8.6,
          8.6,
          8.6,
          8.6,
          8.6,
          8.6,
          8.6,
          8.6,
          8.6
         ],
         "yaxis": "y"
        },
        {
         "hoverlabel": {
          "namelength": 0
         },
         "hovertemplate": "<b>%{hovertext}</b><br><br>nome=Hotel Luitpold<br>precoPorNoite=%{x}<br>nota=%{y}<br>distanciaMetros=%{marker.size}",
         "hovertext": [
          "Hotel Luitpold",
          "Hotel Luitpold",
          "Hotel Luitpold",
          "Hotel Luitpold",
          "Hotel Luitpold",
          "Hotel Luitpold",
          "Hotel Luitpold",
          "Hotel Luitpold",
          "Hotel Luitpold",
          "Hotel Luitpold",
          "Hotel Luitpold",
          "Hotel Luitpold",
          "Hotel Luitpold",
          "Hotel Luitpold",
          "Hotel Luitpold",
          "Hotel Luitpold"
         ],
         "legendgroup": "nome=Hotel Luitpold",
         "marker": {
          "color": "#FFA15A",
          "size": [
           1100,
           1100,
           1100,
           1100,
           1100,
           1100,
           1100,
           1100,
           1100,
           1100,
           1100,
           1100,
           1100,
           1100,
           1100,
           1100
          ],
          "sizemode": "area",
          "sizeref": 4.75,
          "symbol": "circle"
         },
         "mode": "markers",
         "name": "nome=Hotel Luitpold",
         "showlegend": true,
         "type": "scatter",
         "x": [
          474,
          474,
          474,
          474,
          474,
          474,
          474,
          474,
          474,
          474,
          474,
          474,
          474,
          474,
          474,
          474
         ],
         "xaxis": "x",
         "y": [
          8,
          8,
          8,
          8,
          8,
          8,
          8,
          8,
          8,
          8,
          8,
          8,
          8,
          8,
          8,
          8
         ],
         "yaxis": "y"
        },
        {
         "hoverlabel": {
          "namelength": 0
         },
         "hovertemplate": "<b>%{hovertext}</b><br><br>nome=City-Hotel Mxc3xcnchen<br>precoPorNoite=%{x}<br>nota=%{y}<br>distanciaMetros=%{marker.size}",
         "hovertext": [
          "City-Hotel Mxc3xcnchen",
          "City-Hotel Mxc3xcnchen",
          "City-Hotel Mxc3xcnchen",
          "City-Hotel Mxc3xcnchen",
          "City-Hotel Mxc3xcnchen",
          "City-Hotel Mxc3xcnchen",
          "City-Hotel Mxc3xcnchen",
          "City-Hotel Mxc3xcnchen"
         ],
         "legendgroup": "nome=City-Hotel Mxc3xcnchen",
         "marker": {
          "color": "#19d3f3",
          "size": [
           1100,
           1100,
           1100,
           1100,
           1100,
           1100,
           1100,
           1100
          ],
          "sizemode": "area",
          "sizeref": 4.75,
          "symbol": "circle"
         },
         "mode": "markers",
         "name": "nome=City-Hotel Mxc3xcnchen",
         "showlegend": true,
         "type": "scatter",
         "x": [
          463.25,
          458.25,
          458.25,
          458.25,
          458.25,
          458.25,
          458.25,
          458.25
         ],
         "xaxis": "x",
         "y": [
          7.8,
          7.8,
          7.8,
          7.8,
          7.8,
          7.8,
          7.8,
          7.8
         ],
         "yaxis": "y"
        },
        {
         "hoverlabel": {
          "namelength": 0
         },
         "hovertemplate": "<b>%{hovertext}</b><br><br>nome=Hotel MIO y AMANO<br>precoPorNoite=%{x}<br>nota=%{y}<br>distanciaMetros=%{marker.size}",
         "hovertext": [
          "Hotel MIO y AMANO",
          "Hotel MIO y AMANO",
          "Hotel MIO y AMANO",
          "Hotel MIO y AMANO",
          "Hotel MIO y AMANO",
          "Hotel MIO y AMANO"
         ],
         "legendgroup": "nome=Hotel MIO y AMANO",
         "marker": {
          "color": "#FF6692",
          "size": [
           600,
           600,
           600,
           600,
           600,
           600
          ],
          "sizemode": "area",
          "sizeref": 4.75,
          "symbol": "circle"
         },
         "mode": "markers",
         "name": "nome=Hotel MIO y AMANO",
         "showlegend": true,
         "type": "scatter",
         "x": [
          406,
          401.5,
          401.5,
          401.5,
          401.5,
          401.5
         ],
         "xaxis": "x",
         "y": [
          8.6,
          8.6,
          8.6,
          8.6,
          8.6,
          8.6
         ],
         "yaxis": "y"
        },
        {
         "hoverlabel": {
          "namelength": 0
         },
         "hovertemplate": "<b>%{hovertext}</b><br><br>nome=Hotel Senator Mxc3xcnchen<br>precoPorNoite=%{x}<br>nota=%{y}<br>distanciaMetros=%{marker.size}",
         "hovertext": [
          "Hotel Senator Mxc3xcnchen",
          "Hotel Senator Mxc3xcnchen",
          "Hotel Senator Mxc3xcnchen",
          "Hotel Senator Mxc3xcnchen"
         ],
         "legendgroup": "nome=Hotel Senator Mxc3xcnchen",
         "marker": {
          "color": "#B6E880",
          "size": [
           1900,
           1900,
           1900,
           1900
          ],
          "sizemode": "area",
          "sizeref": 4.75,
          "symbol": "circle"
         },
         "mode": "markers",
         "name": "nome=Hotel Senator Mxc3xcnchen",
         "showlegend": true,
         "type": "scatter",
         "x": [
          414.25,
          414.25,
          414.25,
          414.25
         ],
         "xaxis": "x",
         "y": [
          8.2,
          8.2,
          8.2,
          8.2
         ],
         "yaxis": "y"
        },
        {
         "hoverlabel": {
          "namelength": 0
         },
         "hovertemplate": "<b>%{hovertext}</b><br><br>nome=\\Hotel Bayers\\<br>precoPorNoite=%{x}<br>nota=%{y}<br>distanciaMetros=%{marker.size}",
         "hovertext": [
          "\\Hotel Bayers\\"
         ],
         "legendgroup": "nome=\\Hotel Bayers\\",
         "marker": {
          "color": "#FF97FF",
          "size": [
           1000
          ],
          "sizemode": "area",
          "sizeref": 4.75,
          "symbol": "circle"
         },
         "mode": "markers",
         "name": "nome=\\Hotel Bayers\\",
         "showlegend": true,
         "type": "scatter",
         "x": [
          508
         ],
         "xaxis": "x",
         "y": [
          8.9
         ],
         "yaxis": "y"
        },
        {
         "hoverlabel": {
          "namelength": 0
         },
         "hovertemplate": "<b>%{hovertext}</b><br><br>nome=AWA Hotel<br>precoPorNoite=%{x}<br>nota=%{y}<br>distanciaMetros=%{marker.size}",
         "hovertext": [
          "AWA Hotel"
         ],
         "legendgroup": "nome=AWA Hotel",
         "marker": {
          "color": "#FECB52",
          "size": [
           1100
          ],
          "sizemode": "area",
          "sizeref": 4.75,
          "symbol": "circle"
         },
         "mode": "markers",
         "name": "nome=AWA Hotel",
         "showlegend": true,
         "type": "scatter",
         "x": [
          460
         ],
         "xaxis": "x",
         "y": [
          8.1
         ],
         "yaxis": "y"
        }
       ],
       "layout": {
        "height": 600,
        "legend": {
         "itemsizing": "constant",
         "tracegroupgap": 0
        },
        "margin": {
         "t": 60
        },
        "template": {
         "data": {
          "bar": [
           {
            "error_x": {
             "color": "#2a3f5f"
            },
            "error_y": {
             "color": "#2a3f5f"
            },
            "marker": {
             "line": {
              "color": "#E5ECF6",
              "width": 0.5
             }
            },
            "type": "bar"
           }
          ],
          "barpolar": [
           {
            "marker": {
             "line": {
              "color": "#E5ECF6",
              "width": 0.5
             }
            },
            "type": "barpolar"
           }
          ],
          "carpet": [
           {
            "aaxis": {
             "endlinecolor": "#2a3f5f",
             "gridcolor": "white",
             "linecolor": "white",
             "minorgridcolor": "white",
             "startlinecolor": "#2a3f5f"
            },
            "baxis": {
             "endlinecolor": "#2a3f5f",
             "gridcolor": "white",
             "linecolor": "white",
             "minorgridcolor": "white",
             "startlinecolor": "#2a3f5f"
            },
            "type": "carpet"
           }
          ],
          "choropleth": [
           {
            "colorbar": {
             "outlinewidth": 0,
             "ticks": ""
            },
            "type": "choropleth"
           }
          ],
          "contour": [
           {
            "colorbar": {
             "outlinewidth": 0,
             "ticks": ""
            },
            "colorscale": [
             [
              0,
              "#0d0887"
             ],
             [
              0.1111111111111111,
              "#46039f"
             ],
             [
              0.2222222222222222,
              "#7201a8"
             ],
             [
              0.3333333333333333,
              "#9c179e"
             ],
             [
              0.4444444444444444,
              "#bd3786"
             ],
             [
              0.5555555555555556,
              "#d8576b"
             ],
             [
              0.6666666666666666,
              "#ed7953"
             ],
             [
              0.7777777777777778,
              "#fb9f3a"
             ],
             [
              0.8888888888888888,
              "#fdca26"
             ],
             [
              1,
              "#f0f921"
             ]
            ],
            "type": "contour"
           }
          ],
          "contourcarpet": [
           {
            "colorbar": {
             "outlinewidth": 0,
             "ticks": ""
            },
            "type": "contourcarpet"
           }
          ],
          "heatmap": [
           {
            "colorbar": {
             "outlinewidth": 0,
             "ticks": ""
            },
            "colorscale": [
             [
              0,
              "#0d0887"
             ],
             [
              0.1111111111111111,
              "#46039f"
             ],
             [
              0.2222222222222222,
              "#7201a8"
             ],
             [
              0.3333333333333333,
              "#9c179e"
             ],
             [
              0.4444444444444444,
              "#bd3786"
             ],
             [
              0.5555555555555556,
              "#d8576b"
             ],
             [
              0.6666666666666666,
              "#ed7953"
             ],
             [
              0.7777777777777778,
              "#fb9f3a"
             ],
             [
              0.8888888888888888,
              "#fdca26"
             ],
             [
              1,
              "#f0f921"
             ]
            ],
            "type": "heatmap"
           }
          ],
          "heatmapgl": [
           {
            "colorbar": {
             "outlinewidth": 0,
             "ticks": ""
            },
            "colorscale": [
             [
              0,
              "#0d0887"
             ],
             [
              0.1111111111111111,
              "#46039f"
             ],
             [
              0.2222222222222222,
              "#7201a8"
             ],
             [
              0.3333333333333333,
              "#9c179e"
             ],
             [
              0.4444444444444444,
              "#bd3786"
             ],
             [
              0.5555555555555556,
              "#d8576b"
             ],
             [
              0.6666666666666666,
              "#ed7953"
             ],
             [
              0.7777777777777778,
              "#fb9f3a"
             ],
             [
              0.8888888888888888,
              "#fdca26"
             ],
             [
              1,
              "#f0f921"
             ]
            ],
            "type": "heatmapgl"
           }
          ],
          "histogram": [
           {
            "marker": {
             "colorbar": {
              "outlinewidth": 0,
              "ticks": ""
             }
            },
            "type": "histogram"
           }
          ],
          "histogram2d": [
           {
            "colorbar": {
             "outlinewidth": 0,
             "ticks": ""
            },
            "colorscale": [
             [
              0,
              "#0d0887"
             ],
             [
              0.1111111111111111,
              "#46039f"
             ],
             [
              0.2222222222222222,
              "#7201a8"
             ],
             [
              0.3333333333333333,
              "#9c179e"
             ],
             [
              0.4444444444444444,
              "#bd3786"
             ],
             [
              0.5555555555555556,
              "#d8576b"
             ],
             [
              0.6666666666666666,
              "#ed7953"
             ],
             [
              0.7777777777777778,
              "#fb9f3a"
             ],
             [
              0.8888888888888888,
              "#fdca26"
             ],
             [
              1,
              "#f0f921"
             ]
            ],
            "type": "histogram2d"
           }
          ],
          "histogram2dcontour": [
           {
            "colorbar": {
             "outlinewidth": 0,
             "ticks": ""
            },
            "colorscale": [
             [
              0,
              "#0d0887"
             ],
             [
              0.1111111111111111,
              "#46039f"
             ],
             [
              0.2222222222222222,
              "#7201a8"
             ],
             [
              0.3333333333333333,
              "#9c179e"
             ],
             [
              0.4444444444444444,
              "#bd3786"
             ],
             [
              0.5555555555555556,
              "#d8576b"
             ],
             [
              0.6666666666666666,
              "#ed7953"
             ],
             [
              0.7777777777777778,
              "#fb9f3a"
             ],
             [
              0.8888888888888888,
              "#fdca26"
             ],
             [
              1,
              "#f0f921"
             ]
            ],
            "type": "histogram2dcontour"
           }
          ],
          "mesh3d": [
           {
            "colorbar": {
             "outlinewidth": 0,
             "ticks": ""
            },
            "type": "mesh3d"
           }
          ],
          "parcoords": [
           {
            "line": {
             "colorbar": {
              "outlinewidth": 0,
              "ticks": ""
             }
            },
            "type": "parcoords"
           }
          ],
          "scatter": [
           {
            "marker": {
             "colorbar": {
              "outlinewidth": 0,
              "ticks": ""
             }
            },
            "type": "scatter"
           }
          ],
          "scatter3d": [
           {
            "line": {
             "colorbar": {
              "outlinewidth": 0,
              "ticks": ""
             }
            },
            "marker": {
             "colorbar": {
              "outlinewidth": 0,
              "ticks": ""
             }
            },
            "type": "scatter3d"
           }
          ],
          "scattercarpet": [
           {
            "marker": {
             "colorbar": {
              "outlinewidth": 0,
              "ticks": ""
             }
            },
            "type": "scattercarpet"
           }
          ],
          "scattergeo": [
           {
            "marker": {
             "colorbar": {
              "outlinewidth": 0,
              "ticks": ""
             }
            },
            "type": "scattergeo"
           }
          ],
          "scattergl": [
           {
            "marker": {
             "colorbar": {
              "outlinewidth": 0,
              "ticks": ""
             }
            },
            "type": "scattergl"
           }
          ],
          "scattermapbox": [
           {
            "marker": {
             "colorbar": {
              "outlinewidth": 0,
              "ticks": ""
             }
            },
            "type": "scattermapbox"
           }
          ],
          "scatterpolar": [
           {
            "marker": {
             "colorbar": {
              "outlinewidth": 0,
              "ticks": ""
             }
            },
            "type": "scatterpolar"
           }
          ],
          "scatterpolargl": [
           {
            "marker": {
             "colorbar": {
              "outlinewidth": 0,
              "ticks": ""
             }
            },
            "type": "scatterpolargl"
           }
          ],
          "scatterternary": [
           {
            "marker": {
             "colorbar": {
              "outlinewidth": 0,
              "ticks": ""
             }
            },
            "type": "scatterternary"
           }
          ],
          "surface": [
           {
            "colorbar": {
             "outlinewidth": 0,
             "ticks": ""
            },
            "colorscale": [
             [
              0,
              "#0d0887"
             ],
             [
              0.1111111111111111,
              "#46039f"
             ],
             [
              0.2222222222222222,
              "#7201a8"
             ],
             [
              0.3333333333333333,
              "#9c179e"
             ],
             [
              0.4444444444444444,
              "#bd3786"
             ],
             [
              0.5555555555555556,
              "#d8576b"
             ],
             [
              0.6666666666666666,
              "#ed7953"
             ],
             [
              0.7777777777777778,
              "#fb9f3a"
             ],
             [
              0.8888888888888888,
              "#fdca26"
             ],
             [
              1,
              "#f0f921"
             ]
            ],
            "type": "surface"
           }
          ],
          "table": [
           {
            "cells": {
             "fill": {
              "color": "#EBF0F8"
             },
             "line": {
              "color": "white"
             }
            },
            "header": {
             "fill": {
              "color": "#C8D4E3"
             },
             "line": {
              "color": "white"
             }
            },
            "type": "table"
           }
          ]
         },
         "layout": {
          "annotationdefaults": {
           "arrowcolor": "#2a3f5f",
           "arrowhead": 0,
           "arrowwidth": 1
          },
          "colorscale": {
           "diverging": [
            [
             0,
             "#8e0152"
            ],
            [
             0.1,
             "#c51b7d"
            ],
            [
             0.2,
             "#de77ae"
            ],
            [
             0.3,
             "#f1b6da"
            ],
            [
             0.4,
             "#fde0ef"
            ],
            [
             0.5,
             "#f7f7f7"
            ],
            [
             0.6,
             "#e6f5d0"
            ],
            [
             0.7,
             "#b8e186"
            ],
            [
             0.8,
             "#7fbc41"
            ],
            [
             0.9,
             "#4d9221"
            ],
            [
             1,
             "#276419"
            ]
           ],
           "sequential": [
            [
             0,
             "#0d0887"
            ],
            [
             0.1111111111111111,
             "#46039f"
            ],
            [
             0.2222222222222222,
             "#7201a8"
            ],
            [
             0.3333333333333333,
             "#9c179e"
            ],
            [
             0.4444444444444444,
             "#bd3786"
            ],
            [
             0.5555555555555556,
             "#d8576b"
            ],
            [
             0.6666666666666666,
             "#ed7953"
            ],
            [
             0.7777777777777778,
             "#fb9f3a"
            ],
            [
             0.8888888888888888,
             "#fdca26"
            ],
            [
             1,
             "#f0f921"
            ]
           ],
           "sequentialminus": [
            [
             0,
             "#0d0887"
            ],
            [
             0.1111111111111111,
             "#46039f"
            ],
            [
             0.2222222222222222,
             "#7201a8"
            ],
            [
             0.3333333333333333,
             "#9c179e"
            ],
            [
             0.4444444444444444,
             "#bd3786"
            ],
            [
             0.5555555555555556,
             "#d8576b"
            ],
            [
             0.6666666666666666,
             "#ed7953"
            ],
            [
             0.7777777777777778,
             "#fb9f3a"
            ],
            [
             0.8888888888888888,
             "#fdca26"
            ],
            [
             1,
             "#f0f921"
            ]
           ]
          },
          "colorway": [
           "#636efa",
           "#EF553B",
           "#00cc96",
           "#ab63fa",
           "#FFA15A",
           "#19d3f3",
           "#FF6692",
           "#B6E880",
           "#FF97FF",
           "#FECB52"
          ],
          "font": {
           "color": "#2a3f5f"
          },
          "geo": {
           "bgcolor": "white",
           "lakecolor": "white",
           "landcolor": "#E5ECF6",
           "showlakes": true,
           "showland": true,
           "subunitcolor": "white"
          },
          "hoverlabel": {
           "align": "left"
          },
          "hovermode": "closest",
          "mapbox": {
           "style": "light"
          },
          "paper_bgcolor": "white",
          "plot_bgcolor": "#E5ECF6",
          "polar": {
           "angularaxis": {
            "gridcolor": "white",
            "linecolor": "white",
            "ticks": ""
           },
           "bgcolor": "#E5ECF6",
           "radialaxis": {
            "gridcolor": "white",
            "linecolor": "white",
            "ticks": ""
           }
          },
          "scene": {
           "xaxis": {
            "backgroundcolor": "#E5ECF6",
            "gridcolor": "white",
            "gridwidth": 2,
            "linecolor": "white",
            "showbackground": true,
            "ticks": "",
            "zerolinecolor": "white"
           },
           "yaxis": {
            "backgroundcolor": "#E5ECF6",
            "gridcolor": "white",
            "gridwidth": 2,
            "linecolor": "white",
            "showbackground": true,
            "ticks": "",
            "zerolinecolor": "white"
           },
           "zaxis": {
            "backgroundcolor": "#E5ECF6",
            "gridcolor": "white",
            "gridwidth": 2,
            "linecolor": "white",
            "showbackground": true,
            "ticks": "",
            "zerolinecolor": "white"
           }
          },
          "shapedefaults": {
           "line": {
            "color": "#2a3f5f"
           }
          },
          "ternary": {
           "aaxis": {
            "gridcolor": "white",
            "linecolor": "white",
            "ticks": ""
           },
           "baxis": {
            "gridcolor": "white",
            "linecolor": "white",
            "ticks": ""
           },
           "bgcolor": "#E5ECF6",
           "caxis": {
            "gridcolor": "white",
            "linecolor": "white",
            "ticks": ""
           }
          },
          "title": {
           "x": 0.05
          },
          "xaxis": {
           "automargin": true,
           "gridcolor": "white",
           "linecolor": "white",
           "ticks": "",
           "zerolinecolor": "white",
           "zerolinewidth": 2
          },
          "yaxis": {
           "automargin": true,
           "gridcolor": "white",
           "linecolor": "white",
           "ticks": "",
           "zerolinecolor": "white",
           "zerolinewidth": 2
          }
         }
        },
        "xaxis": {
         "anchor": "y",
         "domain": [
          0,
          0.98
         ],
         "title": {
          "text": "precoPorNoite"
         },
         "type": "log"
        },
        "yaxis": {
         "anchor": "x",
         "domain": [
          0,
          1
         ],
         "title": {
          "text": "nota"
         }
        }
       }
      },
      "text/html": [
       "<div>\n",
       "        \n",
       "        \n",
       "            <div id=\"9f7fa757-9065-4c3a-a3c7-8bd4fe8af29a\" class=\"plotly-graph-div\" style=\"height:600px; width:100%;\"></div>\n",
       "            <script type=\"text/javascript\">\n",
       "                require([\"plotly\"], function(Plotly) {\n",
       "                    window.PLOTLYENV=window.PLOTLYENV || {};\n",
       "                    \n",
       "                if (document.getElementById(\"9f7fa757-9065-4c3a-a3c7-8bd4fe8af29a\")) {\n",
       "                    Plotly.newPlot(\n",
       "                        '9f7fa757-9065-4c3a-a3c7-8bd4fe8af29a',\n",
       "                        [{\"hoverlabel\": {\"namelength\": 0}, \"hovertemplate\": \"<b>%{hovertext}</b><br><br>nome=Hotel Eder<br>precoPorNoite=%{x}<br>nota=%{y}<br>distanciaMetros=%{marker.size}\", \"hovertext\": [\"Hotel Eder\", \"Hotel Eder\", \"Hotel Eder\", \"Hotel Eder\", \"Hotel Eder\", \"Hotel Eder\", \"Hotel Eder\", \"Hotel Eder\", \"Hotel Eder\", \"Hotel Eder\", \"Hotel Eder\", \"Hotel Eder\"], \"legendgroup\": \"nome=Hotel Eder\", \"marker\": {\"color\": \"#636efa\", \"size\": [1000.0, 1000.0, 1000.0, 1000.0, 1000.0, 1000.0, 1000.0, 1000.0, 1000.0, 1000.0, 1000.0, 1000.0], \"sizemode\": \"area\", \"sizeref\": 4.75, \"symbol\": \"circle\"}, \"mode\": \"markers\", \"name\": \"nome=Hotel Eder\", \"showlegend\": true, \"type\": \"scatter\", \"x\": [616.25, 616.25, 616.25, 616.25, 616.25, 616.25, 616.25, 616.25, 616.25, 616.25, 616.25, 616.25], \"xaxis\": \"x\", \"y\": [8.7, 8.7, 8.7, 8.7, 8.7, 8.7, 8.7, 8.7, 8.7, 8.7, 8.7, 8.7], \"yaxis\": \"y\"}, {\"hoverlabel\": {\"namelength\": 0}, \"hovertemplate\": \"<b>%{hovertext}</b><br><br>nome=Hotel Stachus<br>precoPorNoite=%{x}<br>nota=%{y}<br>distanciaMetros=%{marker.size}\", \"hovertext\": [\"Hotel Stachus\", \"Hotel Stachus\", \"Hotel Stachus\", \"Hotel Stachus\", \"Hotel Stachus\", \"Hotel Stachus\", \"Hotel Stachus\", \"Hotel Stachus\", \"Hotel Stachus\", \"Hotel Stachus\", \"Hotel Stachus\", \"Hotel Stachus\", \"Hotel Stachus\", \"Hotel Stachus\", \"Hotel Stachus\", \"Hotel Stachus\"], \"legendgroup\": \"nome=Hotel Stachus\", \"marker\": {\"color\": \"#EF553B\", \"size\": [950.0, 950.0, 950.0, 950.0, 950.0, 950.0, 950.0, 950.0, 950.0, 950.0, 950.0, 950.0, 950.0, 950.0, 950.0, 950.0], \"sizemode\": \"area\", \"sizeref\": 4.75, \"symbol\": \"circle\"}, \"mode\": \"markers\", \"name\": \"nome=Hotel Stachus\", \"showlegend\": true, \"type\": \"scatter\", \"x\": [351.5, 351.5, 351.5, 351.5, 351.5, 351.5, 351.5, 351.5, 351.5, 351.5, 351.5, 351.5, 351.5, 351.5, 351.5, 351.5], \"xaxis\": \"x\", \"y\": [7.9, 7.9, 7.9, 7.9, 7.9, 7.9, 7.9, 7.9, 7.9, 7.9, 7.9, 7.9, 7.9, 7.9, 7.9, 7.9], \"yaxis\": \"y\"}, {\"hoverlabel\": {\"namelength\": 0}, \"hovertemplate\": \"<b>%{hovertext}</b><br><br>nome=Euro Youth Hotel Munich<br>precoPorNoite=%{x}<br>nota=%{y}<br>distanciaMetros=%{marker.size}\", \"hovertext\": [\"Euro Youth Hotel Munich\", \"Euro Youth Hotel Munich\", \"Euro Youth Hotel Munich\", \"Euro Youth Hotel Munich\", \"Euro Youth Hotel Munich\", \"Euro Youth Hotel Munich\", \"Euro Youth Hotel Munich\", \"Euro Youth Hotel Munich\", \"Euro Youth Hotel Munich\", \"Euro Youth Hotel Munich\", \"Euro Youth Hotel Munich\", \"Euro Youth Hotel Munich\", \"Euro Youth Hotel Munich\", \"Euro Youth Hotel Munich\", \"Euro Youth Hotel Munich\", \"Euro Youth Hotel Munich\"], \"legendgroup\": \"nome=Euro Youth Hotel Munich\", \"marker\": {\"color\": \"#00cc96\", \"size\": [1200.0, 1200.0, 1200.0, 1200.0, 1200.0, 1200.0, 1200.0, 1200.0, 1200.0, 1200.0, 1200.0, 1200.0, 1200.0, 1200.0, 1200.0, 1200.0], \"sizemode\": \"area\", \"sizeref\": 4.75, \"symbol\": \"circle\"}, \"mode\": \"markers\", \"name\": \"nome=Euro Youth Hotel Munich\", \"showlegend\": true, \"type\": \"scatter\", \"x\": [449.25, 449.25, 449.25, 449.25, 449.25, 449.25, 449.25, 449.25, 449.25, 449.25, 449.25, 449.25, 449.25, 449.25, 449.25, 449.25], \"xaxis\": \"x\", \"y\": [8.7, 8.7, 8.7, 8.7, 8.7, 8.7, 8.7, 8.7, 8.7, 8.7, 8.7, 8.7, 8.7, 8.7, 8.7, 8.7], \"yaxis\": \"y\"}, {\"hoverlabel\": {\"namelength\": 0}, \"hovertemplate\": \"<b>%{hovertext}</b><br><br>nome=Novotel Mxc3xcnchen City<br>precoPorNoite=%{x}<br>nota=%{y}<br>distanciaMetros=%{marker.size}\", \"hovertext\": [\"Novotel Mxc3xcnchen City\", \"Novotel Mxc3xcnchen City\", \"Novotel Mxc3xcnchen City\", \"Novotel Mxc3xcnchen City\", \"Novotel Mxc3xcnchen City\", \"Novotel Mxc3xcnchen City\", \"Novotel Mxc3xcnchen City\", \"Novotel Mxc3xcnchen City\", \"Novotel Mxc3xcnchen City\", \"Novotel Mxc3xcnchen City\", \"Novotel Mxc3xcnchen City\", \"Novotel Mxc3xcnchen City\", \"Novotel Mxc3xcnchen City\", \"Novotel Mxc3xcnchen City\"], \"legendgroup\": \"nome=Novotel Mxc3xcnchen City\", \"marker\": {\"color\": \"#ab63fa\", \"size\": [1400.0, 1400.0, 1400.0, 1400.0, 1400.0, 1400.0, 1400.0, 1400.0, 1400.0, 1400.0, 1400.0, 1400.0, 1400.0, 1400.0], \"sizemode\": \"area\", \"sizeref\": 4.75, \"symbol\": \"circle\"}, \"mode\": \"markers\", \"name\": \"nome=Novotel Mxc3xcnchen City\", \"showlegend\": true, \"type\": \"scatter\", \"x\": [444.75, 444.75, 444.75, 444.75, 444.75, 444.75, 444.75, 444.75, 444.75, 444.75, 444.75, 444.75, 444.75, 444.75], \"xaxis\": \"x\", \"y\": [8.6, 8.6, 8.6, 8.6, 8.6, 8.6, 8.6, 8.6, 8.6, 8.6, 8.6, 8.6, 8.6, 8.6], \"yaxis\": \"y\"}, {\"hoverlabel\": {\"namelength\": 0}, \"hovertemplate\": \"<b>%{hovertext}</b><br><br>nome=Hotel Luitpold<br>precoPorNoite=%{x}<br>nota=%{y}<br>distanciaMetros=%{marker.size}\", \"hovertext\": [\"Hotel Luitpold\", \"Hotel Luitpold\", \"Hotel Luitpold\", \"Hotel Luitpold\", \"Hotel Luitpold\", \"Hotel Luitpold\", \"Hotel Luitpold\", \"Hotel Luitpold\", \"Hotel Luitpold\", \"Hotel Luitpold\", \"Hotel Luitpold\", \"Hotel Luitpold\", \"Hotel Luitpold\", \"Hotel Luitpold\", \"Hotel Luitpold\", \"Hotel Luitpold\"], \"legendgroup\": \"nome=Hotel Luitpold\", \"marker\": {\"color\": \"#FFA15A\", \"size\": [1100.0, 1100.0, 1100.0, 1100.0, 1100.0, 1100.0, 1100.0, 1100.0, 1100.0, 1100.0, 1100.0, 1100.0, 1100.0, 1100.0, 1100.0, 1100.0], \"sizemode\": \"area\", \"sizeref\": 4.75, \"symbol\": \"circle\"}, \"mode\": \"markers\", \"name\": \"nome=Hotel Luitpold\", \"showlegend\": true, \"type\": \"scatter\", \"x\": [474.0, 474.0, 474.0, 474.0, 474.0, 474.0, 474.0, 474.0, 474.0, 474.0, 474.0, 474.0, 474.0, 474.0, 474.0, 474.0], \"xaxis\": \"x\", \"y\": [8.0, 8.0, 8.0, 8.0, 8.0, 8.0, 8.0, 8.0, 8.0, 8.0, 8.0, 8.0, 8.0, 8.0, 8.0, 8.0], \"yaxis\": \"y\"}, {\"hoverlabel\": {\"namelength\": 0}, \"hovertemplate\": \"<b>%{hovertext}</b><br><br>nome=City-Hotel Mxc3xcnchen<br>precoPorNoite=%{x}<br>nota=%{y}<br>distanciaMetros=%{marker.size}\", \"hovertext\": [\"City-Hotel Mxc3xcnchen\", \"City-Hotel Mxc3xcnchen\", \"City-Hotel Mxc3xcnchen\", \"City-Hotel Mxc3xcnchen\", \"City-Hotel Mxc3xcnchen\", \"City-Hotel Mxc3xcnchen\", \"City-Hotel Mxc3xcnchen\", \"City-Hotel Mxc3xcnchen\"], \"legendgroup\": \"nome=City-Hotel Mxc3xcnchen\", \"marker\": {\"color\": \"#19d3f3\", \"size\": [1100.0, 1100.0, 1100.0, 1100.0, 1100.0, 1100.0, 1100.0, 1100.0], \"sizemode\": \"area\", \"sizeref\": 4.75, \"symbol\": \"circle\"}, \"mode\": \"markers\", \"name\": \"nome=City-Hotel Mxc3xcnchen\", \"showlegend\": true, \"type\": \"scatter\", \"x\": [463.25, 458.25, 458.25, 458.25, 458.25, 458.25, 458.25, 458.25], \"xaxis\": \"x\", \"y\": [7.8, 7.8, 7.8, 7.8, 7.8, 7.8, 7.8, 7.8], \"yaxis\": \"y\"}, {\"hoverlabel\": {\"namelength\": 0}, \"hovertemplate\": \"<b>%{hovertext}</b><br><br>nome=Hotel MIO y AMANO<br>precoPorNoite=%{x}<br>nota=%{y}<br>distanciaMetros=%{marker.size}\", \"hovertext\": [\"Hotel MIO y AMANO\", \"Hotel MIO y AMANO\", \"Hotel MIO y AMANO\", \"Hotel MIO y AMANO\", \"Hotel MIO y AMANO\", \"Hotel MIO y AMANO\"], \"legendgroup\": \"nome=Hotel MIO y AMANO\", \"marker\": {\"color\": \"#FF6692\", \"size\": [600.0, 600.0, 600.0, 600.0, 600.0, 600.0], \"sizemode\": \"area\", \"sizeref\": 4.75, \"symbol\": \"circle\"}, \"mode\": \"markers\", \"name\": \"nome=Hotel MIO y AMANO\", \"showlegend\": true, \"type\": \"scatter\", \"x\": [406.0, 401.5, 401.5, 401.5, 401.5, 401.5], \"xaxis\": \"x\", \"y\": [8.6, 8.6, 8.6, 8.6, 8.6, 8.6], \"yaxis\": \"y\"}, {\"hoverlabel\": {\"namelength\": 0}, \"hovertemplate\": \"<b>%{hovertext}</b><br><br>nome=Hotel Senator Mxc3xcnchen<br>precoPorNoite=%{x}<br>nota=%{y}<br>distanciaMetros=%{marker.size}\", \"hovertext\": [\"Hotel Senator Mxc3xcnchen\", \"Hotel Senator Mxc3xcnchen\", \"Hotel Senator Mxc3xcnchen\", \"Hotel Senator Mxc3xcnchen\"], \"legendgroup\": \"nome=Hotel Senator Mxc3xcnchen\", \"marker\": {\"color\": \"#B6E880\", \"size\": [1900.0, 1900.0, 1900.0, 1900.0], \"sizemode\": \"area\", \"sizeref\": 4.75, \"symbol\": \"circle\"}, \"mode\": \"markers\", \"name\": \"nome=Hotel Senator Mxc3xcnchen\", \"showlegend\": true, \"type\": \"scatter\", \"x\": [414.25, 414.25, 414.25, 414.25], \"xaxis\": \"x\", \"y\": [8.2, 8.2, 8.2, 8.2], \"yaxis\": \"y\"}, {\"hoverlabel\": {\"namelength\": 0}, \"hovertemplate\": \"<b>%{hovertext}</b><br><br>nome=\\\\Hotel Bayers\\\\<br>precoPorNoite=%{x}<br>nota=%{y}<br>distanciaMetros=%{marker.size}\", \"hovertext\": [\"\\\\Hotel Bayers\\\\\"], \"legendgroup\": \"nome=\\\\Hotel Bayers\\\\\", \"marker\": {\"color\": \"#FF97FF\", \"size\": [1000.0], \"sizemode\": \"area\", \"sizeref\": 4.75, \"symbol\": \"circle\"}, \"mode\": \"markers\", \"name\": \"nome=\\\\Hotel Bayers\\\\\", \"showlegend\": true, \"type\": \"scatter\", \"x\": [508.0], \"xaxis\": \"x\", \"y\": [8.9], \"yaxis\": \"y\"}, {\"hoverlabel\": {\"namelength\": 0}, \"hovertemplate\": \"<b>%{hovertext}</b><br><br>nome=AWA Hotel<br>precoPorNoite=%{x}<br>nota=%{y}<br>distanciaMetros=%{marker.size}\", \"hovertext\": [\"AWA Hotel\"], \"legendgroup\": \"nome=AWA Hotel\", \"marker\": {\"color\": \"#FECB52\", \"size\": [1100.0], \"sizemode\": \"area\", \"sizeref\": 4.75, \"symbol\": \"circle\"}, \"mode\": \"markers\", \"name\": \"nome=AWA Hotel\", \"showlegend\": true, \"type\": \"scatter\", \"x\": [460.0], \"xaxis\": \"x\", \"y\": [8.1], \"yaxis\": \"y\"}],\n",
       "                        {\"height\": 600, \"legend\": {\"itemsizing\": \"constant\", \"tracegroupgap\": 0}, \"margin\": {\"t\": 60}, \"template\": {\"data\": {\"bar\": [{\"error_x\": {\"color\": \"#2a3f5f\"}, \"error_y\": {\"color\": \"#2a3f5f\"}, \"marker\": {\"line\": {\"color\": \"#E5ECF6\", \"width\": 0.5}}, \"type\": \"bar\"}], \"barpolar\": [{\"marker\": {\"line\": {\"color\": \"#E5ECF6\", \"width\": 0.5}}, \"type\": \"barpolar\"}], \"carpet\": [{\"aaxis\": {\"endlinecolor\": \"#2a3f5f\", \"gridcolor\": \"white\", \"linecolor\": \"white\", \"minorgridcolor\": \"white\", \"startlinecolor\": \"#2a3f5f\"}, \"baxis\": {\"endlinecolor\": \"#2a3f5f\", \"gridcolor\": \"white\", \"linecolor\": \"white\", \"minorgridcolor\": \"white\", \"startlinecolor\": \"#2a3f5f\"}, \"type\": \"carpet\"}], \"choropleth\": [{\"colorbar\": {\"outlinewidth\": 0, \"ticks\": \"\"}, \"type\": \"choropleth\"}], \"contour\": [{\"colorbar\": {\"outlinewidth\": 0, \"ticks\": \"\"}, \"colorscale\": [[0.0, \"#0d0887\"], [0.1111111111111111, \"#46039f\"], [0.2222222222222222, \"#7201a8\"], [0.3333333333333333, \"#9c179e\"], [0.4444444444444444, \"#bd3786\"], [0.5555555555555556, \"#d8576b\"], [0.6666666666666666, \"#ed7953\"], [0.7777777777777778, \"#fb9f3a\"], [0.8888888888888888, \"#fdca26\"], [1.0, \"#f0f921\"]], \"type\": \"contour\"}], \"contourcarpet\": [{\"colorbar\": {\"outlinewidth\": 0, \"ticks\": \"\"}, \"type\": \"contourcarpet\"}], \"heatmap\": [{\"colorbar\": {\"outlinewidth\": 0, \"ticks\": \"\"}, \"colorscale\": [[0.0, \"#0d0887\"], [0.1111111111111111, \"#46039f\"], [0.2222222222222222, \"#7201a8\"], [0.3333333333333333, \"#9c179e\"], [0.4444444444444444, \"#bd3786\"], [0.5555555555555556, \"#d8576b\"], [0.6666666666666666, \"#ed7953\"], [0.7777777777777778, \"#fb9f3a\"], [0.8888888888888888, \"#fdca26\"], [1.0, \"#f0f921\"]], \"type\": \"heatmap\"}], \"heatmapgl\": [{\"colorbar\": {\"outlinewidth\": 0, \"ticks\": \"\"}, \"colorscale\": [[0.0, \"#0d0887\"], [0.1111111111111111, \"#46039f\"], [0.2222222222222222, \"#7201a8\"], [0.3333333333333333, \"#9c179e\"], [0.4444444444444444, \"#bd3786\"], [0.5555555555555556, \"#d8576b\"], [0.6666666666666666, \"#ed7953\"], [0.7777777777777778, \"#fb9f3a\"], [0.8888888888888888, \"#fdca26\"], [1.0, \"#f0f921\"]], \"type\": \"heatmapgl\"}], \"histogram\": [{\"marker\": {\"colorbar\": {\"outlinewidth\": 0, \"ticks\": \"\"}}, \"type\": \"histogram\"}], \"histogram2d\": [{\"colorbar\": {\"outlinewidth\": 0, \"ticks\": \"\"}, \"colorscale\": [[0.0, \"#0d0887\"], [0.1111111111111111, \"#46039f\"], [0.2222222222222222, \"#7201a8\"], [0.3333333333333333, \"#9c179e\"], [0.4444444444444444, \"#bd3786\"], [0.5555555555555556, \"#d8576b\"], [0.6666666666666666, \"#ed7953\"], [0.7777777777777778, \"#fb9f3a\"], [0.8888888888888888, \"#fdca26\"], [1.0, \"#f0f921\"]], \"type\": \"histogram2d\"}], \"histogram2dcontour\": [{\"colorbar\": {\"outlinewidth\": 0, \"ticks\": \"\"}, \"colorscale\": [[0.0, \"#0d0887\"], [0.1111111111111111, \"#46039f\"], [0.2222222222222222, \"#7201a8\"], [0.3333333333333333, \"#9c179e\"], [0.4444444444444444, \"#bd3786\"], [0.5555555555555556, \"#d8576b\"], [0.6666666666666666, \"#ed7953\"], [0.7777777777777778, \"#fb9f3a\"], [0.8888888888888888, \"#fdca26\"], [1.0, \"#f0f921\"]], \"type\": \"histogram2dcontour\"}], \"mesh3d\": [{\"colorbar\": {\"outlinewidth\": 0, \"ticks\": \"\"}, \"type\": \"mesh3d\"}], \"parcoords\": [{\"line\": {\"colorbar\": {\"outlinewidth\": 0, \"ticks\": \"\"}}, \"type\": \"parcoords\"}], \"scatter\": [{\"marker\": {\"colorbar\": {\"outlinewidth\": 0, \"ticks\": \"\"}}, \"type\": \"scatter\"}], \"scatter3d\": [{\"line\": {\"colorbar\": {\"outlinewidth\": 0, \"ticks\": \"\"}}, \"marker\": {\"colorbar\": {\"outlinewidth\": 0, \"ticks\": \"\"}}, \"type\": \"scatter3d\"}], \"scattercarpet\": [{\"marker\": {\"colorbar\": {\"outlinewidth\": 0, \"ticks\": \"\"}}, \"type\": \"scattercarpet\"}], \"scattergeo\": [{\"marker\": {\"colorbar\": {\"outlinewidth\": 0, \"ticks\": \"\"}}, \"type\": \"scattergeo\"}], \"scattergl\": [{\"marker\": {\"colorbar\": {\"outlinewidth\": 0, \"ticks\": \"\"}}, \"type\": \"scattergl\"}], \"scattermapbox\": [{\"marker\": {\"colorbar\": {\"outlinewidth\": 0, \"ticks\": \"\"}}, \"type\": \"scattermapbox\"}], \"scatterpolar\": [{\"marker\": {\"colorbar\": {\"outlinewidth\": 0, \"ticks\": \"\"}}, \"type\": \"scatterpolar\"}], \"scatterpolargl\": [{\"marker\": {\"colorbar\": {\"outlinewidth\": 0, \"ticks\": \"\"}}, \"type\": \"scatterpolargl\"}], \"scatterternary\": [{\"marker\": {\"colorbar\": {\"outlinewidth\": 0, \"ticks\": \"\"}}, \"type\": \"scatterternary\"}], \"surface\": [{\"colorbar\": {\"outlinewidth\": 0, \"ticks\": \"\"}, \"colorscale\": [[0.0, \"#0d0887\"], [0.1111111111111111, \"#46039f\"], [0.2222222222222222, \"#7201a8\"], [0.3333333333333333, \"#9c179e\"], [0.4444444444444444, \"#bd3786\"], [0.5555555555555556, \"#d8576b\"], [0.6666666666666666, \"#ed7953\"], [0.7777777777777778, \"#fb9f3a\"], [0.8888888888888888, \"#fdca26\"], [1.0, \"#f0f921\"]], \"type\": \"surface\"}], \"table\": [{\"cells\": {\"fill\": {\"color\": \"#EBF0F8\"}, \"line\": {\"color\": \"white\"}}, \"header\": {\"fill\": {\"color\": \"#C8D4E3\"}, \"line\": {\"color\": \"white\"}}, \"type\": \"table\"}]}, \"layout\": {\"annotationdefaults\": {\"arrowcolor\": \"#2a3f5f\", \"arrowhead\": 0, \"arrowwidth\": 1}, \"colorscale\": {\"diverging\": [[0, \"#8e0152\"], [0.1, \"#c51b7d\"], [0.2, \"#de77ae\"], [0.3, \"#f1b6da\"], [0.4, \"#fde0ef\"], [0.5, \"#f7f7f7\"], [0.6, \"#e6f5d0\"], [0.7, \"#b8e186\"], [0.8, \"#7fbc41\"], [0.9, \"#4d9221\"], [1, \"#276419\"]], \"sequential\": [[0.0, \"#0d0887\"], [0.1111111111111111, \"#46039f\"], [0.2222222222222222, \"#7201a8\"], [0.3333333333333333, \"#9c179e\"], [0.4444444444444444, \"#bd3786\"], [0.5555555555555556, \"#d8576b\"], [0.6666666666666666, \"#ed7953\"], [0.7777777777777778, \"#fb9f3a\"], [0.8888888888888888, \"#fdca26\"], [1.0, \"#f0f921\"]], \"sequentialminus\": [[0.0, \"#0d0887\"], [0.1111111111111111, \"#46039f\"], [0.2222222222222222, \"#7201a8\"], [0.3333333333333333, \"#9c179e\"], [0.4444444444444444, \"#bd3786\"], [0.5555555555555556, \"#d8576b\"], [0.6666666666666666, \"#ed7953\"], [0.7777777777777778, \"#fb9f3a\"], [0.8888888888888888, \"#fdca26\"], [1.0, \"#f0f921\"]]}, \"colorway\": [\"#636efa\", \"#EF553B\", \"#00cc96\", \"#ab63fa\", \"#FFA15A\", \"#19d3f3\", \"#FF6692\", \"#B6E880\", \"#FF97FF\", \"#FECB52\"], \"font\": {\"color\": \"#2a3f5f\"}, \"geo\": {\"bgcolor\": \"white\", \"lakecolor\": \"white\", \"landcolor\": \"#E5ECF6\", \"showlakes\": true, \"showland\": true, \"subunitcolor\": \"white\"}, \"hoverlabel\": {\"align\": \"left\"}, \"hovermode\": \"closest\", \"mapbox\": {\"style\": \"light\"}, \"paper_bgcolor\": \"white\", \"plot_bgcolor\": \"#E5ECF6\", \"polar\": {\"angularaxis\": {\"gridcolor\": \"white\", \"linecolor\": \"white\", \"ticks\": \"\"}, \"bgcolor\": \"#E5ECF6\", \"radialaxis\": {\"gridcolor\": \"white\", \"linecolor\": \"white\", \"ticks\": \"\"}}, \"scene\": {\"xaxis\": {\"backgroundcolor\": \"#E5ECF6\", \"gridcolor\": \"white\", \"gridwidth\": 2, \"linecolor\": \"white\", \"showbackground\": true, \"ticks\": \"\", \"zerolinecolor\": \"white\"}, \"yaxis\": {\"backgroundcolor\": \"#E5ECF6\", \"gridcolor\": \"white\", \"gridwidth\": 2, \"linecolor\": \"white\", \"showbackground\": true, \"ticks\": \"\", \"zerolinecolor\": \"white\"}, \"zaxis\": {\"backgroundcolor\": \"#E5ECF6\", \"gridcolor\": \"white\", \"gridwidth\": 2, \"linecolor\": \"white\", \"showbackground\": true, \"ticks\": \"\", \"zerolinecolor\": \"white\"}}, \"shapedefaults\": {\"line\": {\"color\": \"#2a3f5f\"}}, \"ternary\": {\"aaxis\": {\"gridcolor\": \"white\", \"linecolor\": \"white\", \"ticks\": \"\"}, \"baxis\": {\"gridcolor\": \"white\", \"linecolor\": \"white\", \"ticks\": \"\"}, \"bgcolor\": \"#E5ECF6\", \"caxis\": {\"gridcolor\": \"white\", \"linecolor\": \"white\", \"ticks\": \"\"}}, \"title\": {\"x\": 0.05}, \"xaxis\": {\"automargin\": true, \"gridcolor\": \"white\", \"linecolor\": \"white\", \"ticks\": \"\", \"zerolinecolor\": \"white\", \"zerolinewidth\": 2}, \"yaxis\": {\"automargin\": true, \"gridcolor\": \"white\", \"linecolor\": \"white\", \"ticks\": \"\", \"zerolinecolor\": \"white\", \"zerolinewidth\": 2}}}, \"xaxis\": {\"anchor\": \"y\", \"domain\": [0.0, 0.98], \"title\": {\"text\": \"precoPorNoite\"}, \"type\": \"log\"}, \"yaxis\": {\"anchor\": \"x\", \"domain\": [0.0, 1.0], \"title\": {\"text\": \"nota\"}}},\n",
       "                        {\"responsive\": true}\n",
       "                    ).then(function(){\n",
       "                            \n",
       "var gd = document.getElementById('9f7fa757-9065-4c3a-a3c7-8bd4fe8af29a');\n",
       "var x = new MutationObserver(function (mutations, observer) {{\n",
       "        var display = window.getComputedStyle(gd).display;\n",
       "        if (!display || display === 'none') {{\n",
       "            console.log([gd, 'removed!']);\n",
       "            Plotly.purge(gd);\n",
       "            observer.disconnect();\n",
       "        }}\n",
       "}});\n",
       "\n",
       "// Listen for the removal of the full notebook cells\n",
       "var notebookContainer = gd.closest('#notebook-container');\n",
       "if (notebookContainer) {{\n",
       "    x.observe(notebookContainer, {childList: true});\n",
       "}}\n",
       "\n",
       "// Listen for the clearing of the current output cell\n",
       "var outputEl = gd.closest('.output');\n",
       "if (outputEl) {{\n",
       "    x.observe(outputEl, {childList: true});\n",
       "}}\n",
       "\n",
       "                        })\n",
       "                };\n",
       "                });\n",
       "            </script>\n",
       "        </div>"
      ]
     },
     "metadata": {},
     "output_type": "display_data"
    }
   ],
   "source": [
    "import plotly.express as px\n",
    "fig = px.scatter(df, x=\"precoPorNoite\", y=\"nota\", size=\"distanciaMetros\", color=\"nome\",hover_name=\"nome\",log_x=True)\n",
    "fig.show()"
   ]
  },
  {
   "cell_type": "code",
   "execution_count": 522,
   "metadata": {
    "scrolled": false
   },
   "outputs": [
    {
     "name": "stdout",
     "output_type": "stream",
     "text": [
      "de:  2020-03-05 00:00:00\n",
      "até:  2020-03-09 00:00:00\n"
     ]
    },
    {
     "data": {
      "text/html": [
       "<table border=\"1\" class=\"dataframe\">\n",
       "  <thead>\n",
       "    <tr style=\"text-align: right;\">\n",
       "      <th></th>\n",
       "      <th>nome</th>\n",
       "      <th>preco</th>\n",
       "      <th>nota</th>\n",
       "      <th>distancia</th>\n",
       "      <th>precoPorNoite</th>\n",
       "      <th>link</th>\n",
       "    </tr>\n",
       "  </thead>\n",
       "  <tbody>\n",
       "    <tr>\n",
       "      <th>6</th>\n",
       "      <td>Hotel Eder</td>\n",
       "      <td>2465</td>\n",
       "      <td>8.7</td>\n",
       "      <td>1 km from centre</td>\n",
       "      <td>616.25</td>\n",
       "      <td>&lt;a href=\"http://www.booking.com/hotel/de/eder.en-gb.html?aid=304142&amp;label=gen173nr-1BCAEoggI46AdIM1gEaJMBiAEBmAEJuAEXyAEM2AEB6AEBiAIBqAID&amp;sid=b9e793a0c1175bd31ab4942d27b2a032&amp;all_sr_blocks=30946006_96873376_0_1_0&amp;checkin=2020-03-05&amp;checkout=2020-03-09&amp;dest_id=-1829149&amp;dest_type=city&amp;group_adults=2&amp;group_children=0&amp;hapos=15&amp;highlighted_blocks=30946006_96873376_0_1_0&amp;hpos=7&amp;nflt=roomfacility%3D38%3B&amp;no_rooms=1&amp;sr_order=popularity&amp;sr_pri_blocks=30946006_96873376_0_1_0__54600&amp;srepoch=1578148741&amp;srpvid=955567024616018e&amp;ucfs=1&amp;from=searchresults\"&gt;Clique&lt;/a&gt;</td>\n",
       "    </tr>\n",
       "    <tr>\n",
       "      <th>12</th>\n",
       "      <td>Hotel Stachus</td>\n",
       "      <td>1406</td>\n",
       "      <td>7.9</td>\n",
       "      <td>950 m from centre</td>\n",
       "      <td>351.50</td>\n",
       "      <td>&lt;a href=\"http://www.booking.com/hotel/de/stachus-munchen.en-gb.html?aid=304142&amp;label=gen173nr-1BCAEoggI46AdIM1gEaJMBiAEBmAEJuAEXyAEM2AEB6AEBiAIBqAID&amp;sid=b9e793a0c1175bd31ab4942d27b2a032&amp;all_sr_blocks=7440102_91906223_0_2_0&amp;checkin=2020-03-05&amp;checkout=2020-03-09&amp;dest_id=-1829149&amp;dest_type=city&amp;group_adults=2&amp;group_children=0&amp;hapos=21&amp;highlighted_blocks=7440102_91906223_0_2_0&amp;hpos=13&amp;nflt=roomfacility%3D38%3B&amp;no_rooms=1&amp;sr_order=popularity&amp;sr_pri_blocks=7440102_91906223_0_2_0__31140&amp;srepoch=1578148741&amp;srpvid=955567024616018e&amp;ucfs=1&amp;from=searchresults\"&gt;Clique&lt;/a&gt;</td>\n",
       "    </tr>\n",
       "    <tr>\n",
       "      <th>14</th>\n",
       "      <td>Euro Youth Hotel Munich</td>\n",
       "      <td>1797</td>\n",
       "      <td>8.7</td>\n",
       "      <td>1.2 km from centre</td>\n",
       "      <td>449.25</td>\n",
       "      <td>&lt;a href=\"http://www.booking.com/hotel/de/euro-youth.en-gb.html?aid=304142&amp;label=gen173nr-1BCAEoggI46AdIM1gEaJMBiAEBmAEJuAEXyAEM2AEB6AEBiAIBqAID&amp;sid=b9e793a0c1175bd31ab4942d27b2a032&amp;all_sr_blocks=7946002_138720173_0_1_0&amp;checkin=2020-03-05&amp;checkout=2020-03-09&amp;dest_id=-1829149&amp;dest_type=city&amp;group_adults=2&amp;group_children=0&amp;hapos=23&amp;highlighted_blocks=7946002_138720173_0_1_0&amp;hpos=15&amp;nflt=roomfacility%3D38%3B&amp;no_rooms=1&amp;sr_order=popularity&amp;sr_pri_blocks=7946002_138720173_0_1_0__39800&amp;srepoch=1578148741&amp;srpvid=955567024616018e&amp;ucfs=1&amp;from=searchresults\"&gt;Clique&lt;/a&gt;</td>\n",
       "    </tr>\n",
       "    <tr>\n",
       "      <th>15</th>\n",
       "      <td>Novotel Mxc3xcnchen City</td>\n",
       "      <td>1779</td>\n",
       "      <td>8.6</td>\n",
       "      <td>1.4 km from centre</td>\n",
       "      <td>444.75</td>\n",
       "      <td>&lt;a href=\"http://www.booking.com/hotel/de/novotel-munchen.en-gb.html?aid=304142&amp;label=gen173nr-1BCAEoggI46AdIM1gEaJMBiAEBmAEJuAEXyAEM2AEB6AEBiAIBqAID&amp;sid=b9e793a0c1175bd31ab4942d27b2a032&amp;all_sr_blocks=6135823_94280284_2_2_0&amp;checkin=2020-03-05&amp;checkout=2020-03-09&amp;dest_id=-1829149&amp;dest_type=city&amp;group_adults=2&amp;group_children=0&amp;hapos=24&amp;highlighted_blocks=6135823_94280284_2_2_0&amp;hpos=16&amp;nflt=roomfacility%3D38%3B&amp;no_rooms=1&amp;sr_order=popularity&amp;sr_pri_blocks=6135823_94280284_2_2_0__39400&amp;srepoch=1578148741&amp;srpvid=955567024616018e&amp;ucfs=1&amp;from=searchresults\"&gt;Clique&lt;/a&gt;</td>\n",
       "    </tr>\n",
       "    <tr>\n",
       "      <th>20</th>\n",
       "      <td>Hotel Luitpold</td>\n",
       "      <td>1896</td>\n",
       "      <td>8.0</td>\n",
       "      <td>1.1 km from centre</td>\n",
       "      <td>474.00</td>\n",
       "      <td>&lt;a href=\"http://www.booking.com/hotel/de/luitpoldmuenchen.en-gb.html?aid=304142&amp;label=gen173nr-1BCAEoggI46AdIM1gEaJMBiAEBmAEJuAEXyAEM2AEB6AEBiAIBqAID&amp;sid=b9e793a0c1175bd31ab4942d27b2a032&amp;all_sr_blocks=6151802_200884162_0_1_0&amp;checkin=2020-03-05&amp;checkout=2020-03-09&amp;dest_id=-1829149&amp;dest_type=city&amp;group_adults=2&amp;group_children=0&amp;hapos=29&amp;highlighted_blocks=6151802_200884162_0_1_0&amp;hpos=21&amp;nflt=roomfacility%3D38%3B&amp;no_rooms=1&amp;sr_order=popularity&amp;sr_pri_blocks=6151802_200884162_0_1_0__42000&amp;srepoch=1578148741&amp;srpvid=955567024616018e&amp;ucfs=1&amp;from=searchresults\"&gt;Clique&lt;/a&gt;</td>\n",
       "    </tr>\n",
       "    <tr>\n",
       "      <th>50</th>\n",
       "      <td>City-Hotel Mxc3xcnchen</td>\n",
       "      <td>1853</td>\n",
       "      <td>7.8</td>\n",
       "      <td>1.1 km from centre</td>\n",
       "      <td>463.25</td>\n",
       "      <td>&lt;a href=\"http://www.booking.com/hotel/de/city-munchen.en-gb.html?aid=304142&amp;label=gen173nr-1BCAEoggI46AdIM1gEaJMBiAEBmAEJuAEXyAEM2AEB6AEBiAIBqAID&amp;sid=b69b2d1a4e5dbbd249d68399fdab0402&amp;all_sr_blocks=6612002_97883604_0_2_0&amp;checkin=2020-03-05&amp;checkout=2020-03-09&amp;dest_id=-1829149&amp;dest_type=city&amp;group_adults=2&amp;group_children=0&amp;hapos=38&amp;highlighted_blocks=6612002_97883604_0_2_0&amp;hpos=22&amp;nflt=roomfacility%3D38%3B&amp;no_rooms=1&amp;sr_order=popularity&amp;sr_pri_blocks=6612002_97883604_0_2_0__41041&amp;srepoch=1578148741&amp;srpvid=3e686702896f00c7&amp;ucfs=1&amp;from=searchresults\"&gt;Clique&lt;/a&gt;</td>\n",
       "    </tr>\n",
       "    <tr>\n",
       "      <th>53</th>\n",
       "      <td>Hotel MIO y AMANO</td>\n",
       "      <td>1624</td>\n",
       "      <td>8.6</td>\n",
       "      <td>600 m from centre</td>\n",
       "      <td>406.00</td>\n",
       "      <td>&lt;a href=\"http://www.booking.com/hotel/de/mio-by-amano.en-gb.html?aid=304142&amp;label=gen173nr-1BCAEoggI46AdIM1gEaJMBiAEBmAEJuAEXyAEM2AEB6AEBiAIBqAID&amp;sid=b69b2d1a4e5dbbd249d68399fdab0402&amp;all_sr_blocks=544159501_195625961_0_2_0&amp;checkin=2020-03-05&amp;checkout=2020-03-09&amp;dest_id=-1829149&amp;dest_type=city&amp;group_adults=2&amp;group_children=0&amp;hapos=41&amp;highlighted_blocks=544159501_195625961_0_2_0&amp;hpos=25&amp;nflt=roomfacility%3D38%3B&amp;no_rooms=1&amp;sr_order=popularity&amp;sr_pri_blocks=544159501_195625961_0_2_0__35963&amp;srepoch=1578148741&amp;srpvid=3e686702896f00c7&amp;ucfs=1&amp;from=searchresults\"&gt;Clique&lt;/a&gt;</td>\n",
       "    </tr>\n",
       "    <tr>\n",
       "      <th>55</th>\n",
       "      <td>Hotel Senator Mxc3xcnchen</td>\n",
       "      <td>1657</td>\n",
       "      <td>8.2</td>\n",
       "      <td>1.9 km from centre</td>\n",
       "      <td>414.25</td>\n",
       "      <td>&lt;a href=\"http://www.booking.com/hotel/de/senator-munchen.en-gb.html?aid=304142&amp;label=gen173nr-1BCAEoggI46AdIM1gEaJMBiAEBmAEJuAEXyAEM2AEB6AEBiAIBqAID&amp;sid=b69b2d1a4e5dbbd249d68399fdab0402&amp;all_sr_blocks=25878102_199270029_0_1_0&amp;checkin=2020-03-05&amp;checkout=2020-03-09&amp;dest_id=-1829149&amp;dest_type=city&amp;group_adults=2&amp;group_children=0&amp;hapos=43&amp;highlighted_blocks=25878102_199270029_0_1_0&amp;hpos=27&amp;nflt=roomfacility%3D38%3B&amp;no_rooms=1&amp;sr_order=popularity&amp;sr_pri_blocks=25878102_199270029_0_1_0__36700&amp;srepoch=1578148741&amp;srpvid=3e686702896f00c7&amp;ucfs=1&amp;from=searchresults\"&gt;Clique&lt;/a&gt;</td>\n",
       "    </tr>\n",
       "    <tr>\n",
       "      <th>166</th>\n",
       "      <td>City-Hotel Mxc3xcnchen</td>\n",
       "      <td>1833</td>\n",
       "      <td>7.8</td>\n",
       "      <td>1.1 km from centre</td>\n",
       "      <td>458.25</td>\n",
       "      <td>&lt;a href=\"http://www.booking.com/hotel/de/city-munchen.en-gb.html?aid=304142&amp;label=gen173nr-1BCAEoggI46AdIM1gEaJMBiAEBmAEJuAEXyAEM2AEB6AEBiAIBqAID&amp;sid=f9fcfcf24f25e9a1c6c31050cf9bf774&amp;all_sr_blocks=6612002_97883604_0_2_0&amp;checkin=2020-03-05&amp;checkout=2020-03-09&amp;dest_id=-1829149&amp;dest_type=city&amp;group_adults=2&amp;group_children=0&amp;hapos=37&amp;highlighted_blocks=6612002_97883604_0_2_0&amp;hpos=20&amp;nflt=roomfacility%3D38%3B&amp;no_rooms=1&amp;sr_order=popularity&amp;sr_pri_blocks=6612002_97883604_0_2_0__40590&amp;srepoch=1578148741&amp;srpvid=f6b86702864b0078&amp;ucfs=1&amp;from=searchresults\"&gt;Clique&lt;/a&gt;</td>\n",
       "    </tr>\n",
       "    <tr>\n",
       "      <th>171</th>\n",
       "      <td>Hotel MIO y AMANO</td>\n",
       "      <td>1606</td>\n",
       "      <td>8.6</td>\n",
       "      <td>600 m from centre</td>\n",
       "      <td>401.50</td>\n",
       "      <td>&lt;a href=\"http://www.booking.com/hotel/de/mio-by-amano.en-gb.html?aid=304142&amp;label=gen173nr-1BCAEoggI46AdIM1gEaJMBiAEBmAEJuAEXyAEM2AEB6AEBiAIBqAID&amp;sid=f9fcfcf24f25e9a1c6c31050cf9bf774&amp;all_sr_blocks=544159501_195625961_0_2_0&amp;checkin=2020-03-05&amp;checkout=2020-03-09&amp;dest_id=-1829149&amp;dest_type=city&amp;group_adults=2&amp;group_children=0&amp;hapos=39&amp;highlighted_blocks=544159501_195625961_0_2_0&amp;hpos=22&amp;nflt=roomfacility%3D38%3B&amp;no_rooms=1&amp;sr_order=popularity&amp;sr_pri_blocks=544159501_195625961_0_2_0__35568&amp;srepoch=1578148741&amp;srpvid=f6b86702864b0078&amp;ucfs=1&amp;from=searchresults\"&gt;Clique&lt;/a&gt;</td>\n",
       "    </tr>\n",
       "    <tr>\n",
       "      <th>183</th>\n",
       "      <td>\\Hotel Bayers\\</td>\n",
       "      <td>2032</td>\n",
       "      <td>8.9</td>\n",
       "      <td>1 km from centre</td>\n",
       "      <td>508.00</td>\n",
       "      <td>&lt;a href=\"http://www.booking.com/hotel/de/bayera-s.en-gb.html?aid=304142&amp;label=gen173nr-1BCAEoggI46AdIM1gEaJMBiAEBmAEJuAEXyAEM2AEB6AEBiAIBqAID&amp;sid=f9fcfcf24f25e9a1c6c31050cf9bf774&amp;all_sr_blocks=49782902_104192271_0_2_0&amp;checkin=2020-03-05&amp;checkout=2020-03-09&amp;dest_id=-1829149&amp;dest_type=city&amp;group_adults=2&amp;group_children=0&amp;hapos=45&amp;highlighted_blocks=49782902_104192271_0_2_0&amp;hpos=28&amp;nflt=roomfacility%3D38%3B&amp;no_rooms=1&amp;sr_order=popularity&amp;sr_pri_blocks=49782902_104192271_0_2_0__44999&amp;srepoch=1578148741&amp;srpvid=f6b86702864b0078&amp;ucfs=1&amp;from=searchresults\"&gt;Clique&lt;/a&gt;</td>\n",
       "    </tr>\n",
       "    <tr>\n",
       "      <th>246</th>\n",
       "      <td>AWA Hotel</td>\n",
       "      <td>1840</td>\n",
       "      <td>8.1</td>\n",
       "      <td>1.1 km from centre</td>\n",
       "      <td>460.00</td>\n",
       "      <td>&lt;a href=\"http://www.booking.com/hotel/de/devillemuenchen.en-gb.html?aid=304142&amp;label=gen173nr-1BCAEoggI46AdIM1gEaJMBiAEBmAEJuAEXyAEM2AEB6AEBiAIBqAID&amp;sid=bf09efb3cdfb8b9fdb5748d404941699&amp;all_sr_blocks=6096607_196578731_2_0_0&amp;checkin=2020-03-05&amp;checkout=2020-03-09&amp;dest_id=-1829149&amp;dest_type=city&amp;group_adults=2&amp;group_children=0&amp;hapos=3&amp;highlighted_blocks=6096607_196578731_2_0_0&amp;hpos=1&amp;nflt=roomfacility%3D38%3B&amp;no_rooms=1&amp;sr_order=popularity&amp;sr_pri_blocks=6096607_196578731_2_0_0__40759&amp;srepoch=1578148741&amp;srpvid=7c136702f631002c&amp;ucfs=1&amp;from=searchresults\"&gt;Clique&lt;/a&gt;</td>\n",
       "    </tr>\n",
       "  </tbody>\n",
       "</table>"
      ],
      "text/plain": [
       "<IPython.core.display.HTML object>"
      ]
     },
     "metadata": {},
     "output_type": "display_data"
    }
   ],
   "source": [
    "df['link'] ='<a href=\"http://'+df['url']+'\">Clique</a>'\n",
    "\n",
    "df= df.drop_duplicates(subset=['nome', 'preco'])\n",
    "dfa = df.copy()\n",
    "del dfa['url']\n",
    "del dfa['de']\n",
    "del dfa['ate']\n",
    "del dfa['dias']\n",
    "del dfa['distanciaMetros']\n",
    "dfa = dfa.to_html()\n",
    "print('de: ',df['de'].max())\n",
    "print('até: ',df['ate'].max())\n",
    "#display(dfa)\n",
    "#display(df.drop_duplicates().sort_values(by=['precoPorNoite'],ascending=False))\n",
    "from IPython.core.display import display, HTML\n",
    "display(HTML(dfa))"
   ]
  },
  {
   "cell_type": "code",
   "execution_count": null,
   "metadata": {},
   "outputs": [],
   "source": []
  },
  {
   "cell_type": "code",
   "execution_count": null,
   "metadata": {},
   "outputs": [],
   "source": []
  },
  {
   "cell_type": "code",
   "execution_count": null,
   "metadata": {},
   "outputs": [],
   "source": []
  }
 ],
 "metadata": {
  "kernelspec": {
   "display_name": "Python 3",
   "language": "python",
   "name": "python3"
  },
  "language_info": {
   "codemirror_mode": {
    "name": "ipython",
    "version": 3
   },
   "file_extension": ".py",
   "mimetype": "text/x-python",
   "name": "python",
   "nbconvert_exporter": "python",
   "pygments_lexer": "ipython3",
   "version": "3.7.3"
  }
 },
 "nbformat": 4,
 "nbformat_minor": 2
}
