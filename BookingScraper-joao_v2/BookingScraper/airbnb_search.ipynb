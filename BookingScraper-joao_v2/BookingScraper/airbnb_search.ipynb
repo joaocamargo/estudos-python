{
 "cells": [
  {
   "cell_type": "code",
   "execution_count": 350,
   "metadata": {},
   "outputs": [],
   "source": [
    "import argparse\n",
    "import argcomplete\n",
    "from argcomplete.completers import ChoicesCompleter\n",
    "from argcomplete.completers import EnvironCompleter\n",
    "import requests\n",
    "from bthread import BookingThread\n",
    "from bs4 import BeautifulSoup\n",
    "from file_writer import FileWriter"
   ]
  },
  {
   "cell_type": "code",
   "execution_count": 351,
   "metadata": {},
   "outputs": [],
   "source": [
    "rooms=2\n",
    "country = ['Gramado','Porto Alegre']\n",
    "anoFinal=2020\n",
    "anoInicial=2019\n",
    "mesFinal=1\n",
    "mesInicial=12\n",
    "diaInicial=30\n",
    "diaFinal=1\n",
    "dest_id=-133\n"
   ]
  },
  {
   "cell_type": "code",
   "execution_count": 352,
   "metadata": {},
   "outputs": [],
   "source": [
    "def getUrlResult(offset,anoFinal,anoInicial,mesFinal,mesInicial,diaInicial,diaFinal,country):\n",
    "    url = 'https://www.airbnb.com.br/s/{country}/'\\\n",
    "              'homes?refinement_paths%5B%5D=%2Fhomes&current_tab_id=home_tab&selected_tab_id=home_tab&source=mc_search_bar&search_type=unknown'\\\n",
    "              '&click_referer=t%3ASEE_ALL%7Csid%3A874f16ee-6196-4289-9717-17dec73e1e5c%7Cst%3AMAGAZINE_HOMES&screen_size=large&hide_dates_and_guests_filters=false'\\\n",
    "              '&search_by_map=false&checkin={anoInicial}-{mesInicial}-{diaInicial}'\\\n",
    "              '&checkout={anoFinal}-{mesFinal}-{diaFinal}&adults={rooms}&property_type_id%5B%5D=1&property_type_id%5B%5D=43&property_type_id%5B%5D=47'\\\n",
    "              '&room_types%5B%5D=Entire%20home%2Fapt'\\\n",
    "              '&section_offset=6&items_offset={offset}'.format(rooms=rooms, country=country.replace(' ', '-'),anoFinal=anoFinal,mesFinal=mesFinal,diaInicial=diaInicial,mesInicial=mesInicial,anoInicial=anoInicial,diaFinal=diaFinal,offset=offset)\n",
    "    print(url)\n",
    "    r = requests.get(url, headers={'User-Agent': 'Mozilla/5.0 (Windows NT 6.1; Win64; x64; rv:47.0)'' Gecko/20100101 Firefox/48.0'})\n",
    "    html = r.content\n",
    "    parsed_html = BeautifulSoup(html, 'lxml')\n",
    "    hotel = parsed_html.find_all('div', {'itemprop': 'itemListElement'})\n",
    "    return hotel"
   ]
  },
  {
   "cell_type": "code",
   "execution_count": 353,
   "metadata": {},
   "outputs": [],
   "source": [
    "def saveItems(dados_airbnb,hotel,cidade):\n",
    "    count=0\n",
    "    for ho in hotel:\n",
    "        count=count+1\n",
    "        tipo=''\n",
    "        nota=''\n",
    "        superhost=''\n",
    "        nome=''\n",
    "        url=''\n",
    "        valor=''\n",
    "                      \n",
    "            \n",
    "        nome = ho.find('a', {'data-check-info-section': 'true'})['aria-label']\n",
    "        #print(nome,count)\n",
    "        url = ho.find('a', {'data-check-info-section': 'true'})['href']\n",
    "        \n",
    "        for i in ho.find_all('div', {'class': '_1u1r986'}):\n",
    "            valor = i.text.replace('Preço:Total de ','')       \n",
    "            \n",
    "            if len(ho.find_all('span', {'class': '_ky9opu0'}))>0:\n",
    "                nota = ho.find('span', {'class': '_ky9opu0'}).text        \n",
    "                #print(nota,count)\n",
    "            if len(ho.find_all('span', {'class': '_1a31dx8f'}))>0:\n",
    "                superhost = ho.find('span', {'class': '_1a31dx8f'}).text                \n",
    "            if len(ho.find_all('div', {'class': '_1j3840rv'}))>0:\n",
    "                tipo = ho.find('div', {'class': '_1j3840rv'}).text                    \n",
    "            dados_airbnb.append({'Cidade':cidade,'Nome':nome, 'Nota':nota,'SuperHost': superhost != '','Valor':valor,'Tipo':tipo,'url':'https://www.airbnb.com.br'+url})"
   ]
  },
  {
   "cell_type": "code",
   "execution_count": null,
   "metadata": {},
   "outputs": [],
   "source": []
  },
  {
   "cell_type": "code",
   "execution_count": 354,
   "metadata": {},
   "outputs": [],
   "source": [
    "#hotel = getUrlResult(6,anoFinal,anoInicial,mesFinal,mesInicial,diaInicial,diaFinal,country)\n",
    "#saveItems(dados_airbnb,hotel,country)"
   ]
  },
  {
   "cell_type": "code",
   "execution_count": 355,
   "metadata": {},
   "outputs": [
    {
     "name": "stdout",
     "output_type": "stream",
     "text": [
      "https://www.airbnb.com.br/s/Gramado/homes?refinement_paths%5B%5D=%2Fhomes&current_tab_id=home_tab&selected_tab_id=home_tab&source=mc_search_bar&search_type=unknown&click_referer=t%3ASEE_ALL%7Csid%3A874f16ee-6196-4289-9717-17dec73e1e5c%7Cst%3AMAGAZINE_HOMES&screen_size=large&hide_dates_and_guests_filters=false&search_by_map=false&checkin=2019-12-30&checkout=2020-1-1&adults=2&property_type_id%5B%5D=1&property_type_id%5B%5D=43&property_type_id%5B%5D=47&room_types%5B%5D=Entire%20home%2Fapt&section_offset=6&items_offset=6\n",
      "https://www.airbnb.com.br/s/Gramado/homes?refinement_paths%5B%5D=%2Fhomes&current_tab_id=home_tab&selected_tab_id=home_tab&source=mc_search_bar&search_type=unknown&click_referer=t%3ASEE_ALL%7Csid%3A874f16ee-6196-4289-9717-17dec73e1e5c%7Cst%3AMAGAZINE_HOMES&screen_size=large&hide_dates_and_guests_filters=false&search_by_map=false&checkin=2019-12-30&checkout=2020-1-1&adults=2&property_type_id%5B%5D=1&property_type_id%5B%5D=43&property_type_id%5B%5D=47&room_types%5B%5D=Entire%20home%2Fapt&section_offset=6&items_offset=12\n",
      "https://www.airbnb.com.br/s/Gramado/homes?refinement_paths%5B%5D=%2Fhomes&current_tab_id=home_tab&selected_tab_id=home_tab&source=mc_search_bar&search_type=unknown&click_referer=t%3ASEE_ALL%7Csid%3A874f16ee-6196-4289-9717-17dec73e1e5c%7Cst%3AMAGAZINE_HOMES&screen_size=large&hide_dates_and_guests_filters=false&search_by_map=false&checkin=2019-12-30&checkout=2020-1-1&adults=2&property_type_id%5B%5D=1&property_type_id%5B%5D=43&property_type_id%5B%5D=47&room_types%5B%5D=Entire%20home%2Fapt&section_offset=6&items_offset=18\n",
      "https://www.airbnb.com.br/s/Gramado/homes?refinement_paths%5B%5D=%2Fhomes&current_tab_id=home_tab&selected_tab_id=home_tab&source=mc_search_bar&search_type=unknown&click_referer=t%3ASEE_ALL%7Csid%3A874f16ee-6196-4289-9717-17dec73e1e5c%7Cst%3AMAGAZINE_HOMES&screen_size=large&hide_dates_and_guests_filters=false&search_by_map=false&checkin=2019-12-30&checkout=2020-1-1&adults=2&property_type_id%5B%5D=1&property_type_id%5B%5D=43&property_type_id%5B%5D=47&room_types%5B%5D=Entire%20home%2Fapt&section_offset=6&items_offset=24\n",
      "https://www.airbnb.com.br/s/Gramado/homes?refinement_paths%5B%5D=%2Fhomes&current_tab_id=home_tab&selected_tab_id=home_tab&source=mc_search_bar&search_type=unknown&click_referer=t%3ASEE_ALL%7Csid%3A874f16ee-6196-4289-9717-17dec73e1e5c%7Cst%3AMAGAZINE_HOMES&screen_size=large&hide_dates_and_guests_filters=false&search_by_map=false&checkin=2019-12-30&checkout=2020-1-1&adults=2&property_type_id%5B%5D=1&property_type_id%5B%5D=43&property_type_id%5B%5D=47&room_types%5B%5D=Entire%20home%2Fapt&section_offset=6&items_offset=30\n",
      "https://www.airbnb.com.br/s/Gramado/homes?refinement_paths%5B%5D=%2Fhomes&current_tab_id=home_tab&selected_tab_id=home_tab&source=mc_search_bar&search_type=unknown&click_referer=t%3ASEE_ALL%7Csid%3A874f16ee-6196-4289-9717-17dec73e1e5c%7Cst%3AMAGAZINE_HOMES&screen_size=large&hide_dates_and_guests_filters=false&search_by_map=false&checkin=2019-12-30&checkout=2020-1-1&adults=2&property_type_id%5B%5D=1&property_type_id%5B%5D=43&property_type_id%5B%5D=47&room_types%5B%5D=Entire%20home%2Fapt&section_offset=6&items_offset=36\n",
      "https://www.airbnb.com.br/s/Gramado/homes?refinement_paths%5B%5D=%2Fhomes&current_tab_id=home_tab&selected_tab_id=home_tab&source=mc_search_bar&search_type=unknown&click_referer=t%3ASEE_ALL%7Csid%3A874f16ee-6196-4289-9717-17dec73e1e5c%7Cst%3AMAGAZINE_HOMES&screen_size=large&hide_dates_and_guests_filters=false&search_by_map=false&checkin=2019-12-30&checkout=2020-1-1&adults=2&property_type_id%5B%5D=1&property_type_id%5B%5D=43&property_type_id%5B%5D=47&room_types%5B%5D=Entire%20home%2Fapt&section_offset=6&items_offset=42\n",
      "https://www.airbnb.com.br/s/Gramado/homes?refinement_paths%5B%5D=%2Fhomes&current_tab_id=home_tab&selected_tab_id=home_tab&source=mc_search_bar&search_type=unknown&click_referer=t%3ASEE_ALL%7Csid%3A874f16ee-6196-4289-9717-17dec73e1e5c%7Cst%3AMAGAZINE_HOMES&screen_size=large&hide_dates_and_guests_filters=false&search_by_map=false&checkin=2019-12-30&checkout=2020-1-1&adults=2&property_type_id%5B%5D=1&property_type_id%5B%5D=43&property_type_id%5B%5D=47&room_types%5B%5D=Entire%20home%2Fapt&section_offset=6&items_offset=48\n",
      "https://www.airbnb.com.br/s/Gramado/homes?refinement_paths%5B%5D=%2Fhomes&current_tab_id=home_tab&selected_tab_id=home_tab&source=mc_search_bar&search_type=unknown&click_referer=t%3ASEE_ALL%7Csid%3A874f16ee-6196-4289-9717-17dec73e1e5c%7Cst%3AMAGAZINE_HOMES&screen_size=large&hide_dates_and_guests_filters=false&search_by_map=false&checkin=2019-12-30&checkout=2020-1-1&adults=2&property_type_id%5B%5D=1&property_type_id%5B%5D=43&property_type_id%5B%5D=47&room_types%5B%5D=Entire%20home%2Fapt&section_offset=6&items_offset=54\n",
      "https://www.airbnb.com.br/s/Porto-Alegre/homes?refinement_paths%5B%5D=%2Fhomes&current_tab_id=home_tab&selected_tab_id=home_tab&source=mc_search_bar&search_type=unknown&click_referer=t%3ASEE_ALL%7Csid%3A874f16ee-6196-4289-9717-17dec73e1e5c%7Cst%3AMAGAZINE_HOMES&screen_size=large&hide_dates_and_guests_filters=false&search_by_map=false&checkin=2019-12-30&checkout=2020-1-1&adults=2&property_type_id%5B%5D=1&property_type_id%5B%5D=43&property_type_id%5B%5D=47&room_types%5B%5D=Entire%20home%2Fapt&section_offset=6&items_offset=6\n",
      "https://www.airbnb.com.br/s/Porto-Alegre/homes?refinement_paths%5B%5D=%2Fhomes&current_tab_id=home_tab&selected_tab_id=home_tab&source=mc_search_bar&search_type=unknown&click_referer=t%3ASEE_ALL%7Csid%3A874f16ee-6196-4289-9717-17dec73e1e5c%7Cst%3AMAGAZINE_HOMES&screen_size=large&hide_dates_and_guests_filters=false&search_by_map=false&checkin=2019-12-30&checkout=2020-1-1&adults=2&property_type_id%5B%5D=1&property_type_id%5B%5D=43&property_type_id%5B%5D=47&room_types%5B%5D=Entire%20home%2Fapt&section_offset=6&items_offset=12\n",
      "https://www.airbnb.com.br/s/Porto-Alegre/homes?refinement_paths%5B%5D=%2Fhomes&current_tab_id=home_tab&selected_tab_id=home_tab&source=mc_search_bar&search_type=unknown&click_referer=t%3ASEE_ALL%7Csid%3A874f16ee-6196-4289-9717-17dec73e1e5c%7Cst%3AMAGAZINE_HOMES&screen_size=large&hide_dates_and_guests_filters=false&search_by_map=false&checkin=2019-12-30&checkout=2020-1-1&adults=2&property_type_id%5B%5D=1&property_type_id%5B%5D=43&property_type_id%5B%5D=47&room_types%5B%5D=Entire%20home%2Fapt&section_offset=6&items_offset=18\n",
      "https://www.airbnb.com.br/s/Porto-Alegre/homes?refinement_paths%5B%5D=%2Fhomes&current_tab_id=home_tab&selected_tab_id=home_tab&source=mc_search_bar&search_type=unknown&click_referer=t%3ASEE_ALL%7Csid%3A874f16ee-6196-4289-9717-17dec73e1e5c%7Cst%3AMAGAZINE_HOMES&screen_size=large&hide_dates_and_guests_filters=false&search_by_map=false&checkin=2019-12-30&checkout=2020-1-1&adults=2&property_type_id%5B%5D=1&property_type_id%5B%5D=43&property_type_id%5B%5D=47&room_types%5B%5D=Entire%20home%2Fapt&section_offset=6&items_offset=24\n",
      "https://www.airbnb.com.br/s/Porto-Alegre/homes?refinement_paths%5B%5D=%2Fhomes&current_tab_id=home_tab&selected_tab_id=home_tab&source=mc_search_bar&search_type=unknown&click_referer=t%3ASEE_ALL%7Csid%3A874f16ee-6196-4289-9717-17dec73e1e5c%7Cst%3AMAGAZINE_HOMES&screen_size=large&hide_dates_and_guests_filters=false&search_by_map=false&checkin=2019-12-30&checkout=2020-1-1&adults=2&property_type_id%5B%5D=1&property_type_id%5B%5D=43&property_type_id%5B%5D=47&room_types%5B%5D=Entire%20home%2Fapt&section_offset=6&items_offset=30\n",
      "https://www.airbnb.com.br/s/Porto-Alegre/homes?refinement_paths%5B%5D=%2Fhomes&current_tab_id=home_tab&selected_tab_id=home_tab&source=mc_search_bar&search_type=unknown&click_referer=t%3ASEE_ALL%7Csid%3A874f16ee-6196-4289-9717-17dec73e1e5c%7Cst%3AMAGAZINE_HOMES&screen_size=large&hide_dates_and_guests_filters=false&search_by_map=false&checkin=2019-12-30&checkout=2020-1-1&adults=2&property_type_id%5B%5D=1&property_type_id%5B%5D=43&property_type_id%5B%5D=47&room_types%5B%5D=Entire%20home%2Fapt&section_offset=6&items_offset=36\n",
      "https://www.airbnb.com.br/s/Porto-Alegre/homes?refinement_paths%5B%5D=%2Fhomes&current_tab_id=home_tab&selected_tab_id=home_tab&source=mc_search_bar&search_type=unknown&click_referer=t%3ASEE_ALL%7Csid%3A874f16ee-6196-4289-9717-17dec73e1e5c%7Cst%3AMAGAZINE_HOMES&screen_size=large&hide_dates_and_guests_filters=false&search_by_map=false&checkin=2019-12-30&checkout=2020-1-1&adults=2&property_type_id%5B%5D=1&property_type_id%5B%5D=43&property_type_id%5B%5D=47&room_types%5B%5D=Entire%20home%2Fapt&section_offset=6&items_offset=42\n"
     ]
    },
    {
     "name": "stdout",
     "output_type": "stream",
     "text": [
      "https://www.airbnb.com.br/s/Porto-Alegre/homes?refinement_paths%5B%5D=%2Fhomes&current_tab_id=home_tab&selected_tab_id=home_tab&source=mc_search_bar&search_type=unknown&click_referer=t%3ASEE_ALL%7Csid%3A874f16ee-6196-4289-9717-17dec73e1e5c%7Cst%3AMAGAZINE_HOMES&screen_size=large&hide_dates_and_guests_filters=false&search_by_map=false&checkin=2019-12-30&checkout=2020-1-1&adults=2&property_type_id%5B%5D=1&property_type_id%5B%5D=43&property_type_id%5B%5D=47&room_types%5B%5D=Entire%20home%2Fapt&section_offset=6&items_offset=48\n",
      "https://www.airbnb.com.br/s/Porto-Alegre/homes?refinement_paths%5B%5D=%2Fhomes&current_tab_id=home_tab&selected_tab_id=home_tab&source=mc_search_bar&search_type=unknown&click_referer=t%3ASEE_ALL%7Csid%3A874f16ee-6196-4289-9717-17dec73e1e5c%7Cst%3AMAGAZINE_HOMES&screen_size=large&hide_dates_and_guests_filters=false&search_by_map=false&checkin=2019-12-30&checkout=2020-1-1&adults=2&property_type_id%5B%5D=1&property_type_id%5B%5D=43&property_type_id%5B%5D=47&room_types%5B%5D=Entire%20home%2Fapt&section_offset=6&items_offset=54\n"
     ]
    }
   ],
   "source": [
    "pages = []\n",
    "for i in range(1,10):\n",
    "    pages.append(6*i)\n",
    "\n",
    "dados_airbnb = []\n",
    "\n",
    "for cidade in country:\n",
    "    for i in pages:\n",
    "        hotel = getUrlResult(i,anoFinal,anoInicial,mesFinal,mesInicial,diaInicial,diaFinal,cidade)\n",
    "        saveItems(dados_airbnb,hotel,cidade)\n",
    "    #print(hotel)\n",
    "\n",
    "\n",
    "\n",
    "#saveItems(dados_airbnb,hotel)"
   ]
  },
  {
   "cell_type": "code",
   "execution_count": 356,
   "metadata": {
    "scrolled": false
   },
   "outputs": [],
   "source": [
    "import pandas as pd\n",
    "df = pd.DataFrame(dados_airbnb)\n",
    "#df"
   ]
  },
  {
   "cell_type": "code",
   "execution_count": 357,
   "metadata": {},
   "outputs": [],
   "source": [
    "df['Valor'] = df['Valor'].apply(lambda x: x.replace('R$',''))\n",
    "df['Valor'] = df['Valor'].apply(lambda x: x.replace(',',''))\n",
    "#df"
   ]
  },
  {
   "cell_type": "code",
   "execution_count": 358,
   "metadata": {},
   "outputs": [
    {
     "data": {
      "text/html": [
       "<div>\n",
       "<style scoped>\n",
       "    .dataframe tbody tr th:only-of-type {\n",
       "        vertical-align: middle;\n",
       "    }\n",
       "\n",
       "    .dataframe tbody tr th {\n",
       "        vertical-align: top;\n",
       "    }\n",
       "\n",
       "    .dataframe thead th {\n",
       "        text-align: right;\n",
       "    }\n",
       "</style>\n",
       "<table border=\"1\" class=\"dataframe\">\n",
       "  <thead>\n",
       "    <tr style=\"text-align: right;\">\n",
       "      <th></th>\n",
       "      <th>Cidade</th>\n",
       "      <th>Nome</th>\n",
       "      <th>Nota</th>\n",
       "      <th>SuperHost</th>\n",
       "      <th>Tipo</th>\n",
       "      <th>Valor</th>\n",
       "      <th>url</th>\n",
       "      <th>Color</th>\n",
       "      <th>Size</th>\n",
       "    </tr>\n",
       "  </thead>\n",
       "  <tbody>\n",
       "    <tr>\n",
       "      <th>0</th>\n",
       "      <td>Gramado</td>\n",
       "      <td>Estalagem san Marco a Serra Gaúcha te espera</td>\n",
       "      <td>4.94</td>\n",
       "      <td>False</td>\n",
       "      <td></td>\n",
       "      <td>847</td>\n",
       "      <td>https://www.airbnb.com.br/rooms/14317194?locat...</td>\n",
       "      <td>1</td>\n",
       "      <td>1</td>\n",
       "    </tr>\n",
       "    <tr>\n",
       "      <th>1</th>\n",
       "      <td>Gramado</td>\n",
       "      <td>Refúgio das Hortênsias: conforto e localização</td>\n",
       "      <td>5.00</td>\n",
       "      <td>True</td>\n",
       "      <td>Apartamento inteiro</td>\n",
       "      <td>1919</td>\n",
       "      <td>https://www.airbnb.com.br/rooms/30460679?locat...</td>\n",
       "      <td>0</td>\n",
       "      <td>10</td>\n",
       "    </tr>\n",
       "    <tr>\n",
       "      <th>2</th>\n",
       "      <td>Gramado</td>\n",
       "      <td>Apartamento Cristo Rei Gramado - RS</td>\n",
       "      <td>NaN</td>\n",
       "      <td>False</td>\n",
       "      <td></td>\n",
       "      <td>1581</td>\n",
       "      <td>https://www.airbnb.com.br/rooms/8320404?locati...</td>\n",
       "      <td>1</td>\n",
       "      <td>1</td>\n",
       "    </tr>\n",
       "    <tr>\n",
       "      <th>3</th>\n",
       "      <td>Gramado</td>\n",
       "      <td>Cantinho da Cíntia/Conforto e praticidade...</td>\n",
       "      <td>NaN</td>\n",
       "      <td>True</td>\n",
       "      <td>Apartamento inteiro</td>\n",
       "      <td>689</td>\n",
       "      <td>https://www.airbnb.com.br/rooms/28689512?locat...</td>\n",
       "      <td>0</td>\n",
       "      <td>10</td>\n",
       "    </tr>\n",
       "    <tr>\n",
       "      <th>4</th>\n",
       "      <td>Gramado</td>\n",
       "      <td>Apartamentos há 14 km de Gramado</td>\n",
       "      <td>NaN</td>\n",
       "      <td>False</td>\n",
       "      <td></td>\n",
       "      <td>217</td>\n",
       "      <td>https://www.airbnb.com.br/rooms/40329178?locat...</td>\n",
       "      <td>1</td>\n",
       "      <td>1</td>\n",
       "    </tr>\n",
       "  </tbody>\n",
       "</table>\n",
       "</div>"
      ],
      "text/plain": [
       "    Cidade                                            Nome  Nota  SuperHost  \\\n",
       "0  Gramado    Estalagem san Marco a Serra Gaúcha te espera  4.94      False   \n",
       "1  Gramado  Refúgio das Hortênsias: conforto e localização  5.00       True   \n",
       "2  Gramado             Apartamento Cristo Rei Gramado - RS   NaN      False   \n",
       "3  Gramado    Cantinho da Cíntia/Conforto e praticidade...   NaN       True   \n",
       "4  Gramado                Apartamentos há 14 km de Gramado   NaN      False   \n",
       "\n",
       "                  Tipo  Valor  \\\n",
       "0                         847   \n",
       "1  Apartamento inteiro   1919   \n",
       "2                        1581   \n",
       "3  Apartamento inteiro    689   \n",
       "4                         217   \n",
       "\n",
       "                                                 url Color  Size  \n",
       "0  https://www.airbnb.com.br/rooms/14317194?locat...     1     1  \n",
       "1  https://www.airbnb.com.br/rooms/30460679?locat...     0    10  \n",
       "2  https://www.airbnb.com.br/rooms/8320404?locati...     1     1  \n",
       "3  https://www.airbnb.com.br/rooms/28689512?locat...     0    10  \n",
       "4  https://www.airbnb.com.br/rooms/40329178?locat...     1     1  "
      ]
     },
     "metadata": {},
     "output_type": "display_data"
    },
    {
     "name": "stdout",
     "output_type": "stream",
     "text": [
      "quantidade 324\n"
     ]
    },
    {
     "data": {
      "application/vnd.plotly.v1+json": {
       "config": {
        "plotlyServerURL": "https://plot.ly"
       },
       "data": [
        {
         "customdata": [
          [
           "Estalagem san Marco a Serra Gaúcha te espera"
          ],
          [
           "Refúgio das Hortênsias: conforto e localização"
          ],
          [
           "Apartamento Cristo Rei Gramado - RS"
          ],
          [
           "Cantinho da Cíntia/Conforto e praticidade..."
          ],
          [
           "Apartamentos há 14 km de Gramado"
          ],
          [
           "Solar da encosta"
          ],
          [
           "Lindo 2D Knorrville"
          ],
          [
           "Belo Ap.no centro de Gramado"
          ],
          [
           "Apartamento no centro de Canela"
          ],
          [
           "Apto Duplex 307. A melhor vista de Gramado!"
          ],
          [
           "Apartamento no centro,duas quadras da Rua Coberta."
          ],
          [
           "Casa do Artista"
          ],
          [
           "Apartamento em cidade visinha de Gramado e canela"
          ],
          [
           "APARTAMENTO CURTA CANELA"
          ],
          [
           "Flat Rios - Conforto em Área Nobre (Centro)"
          ],
          [
           "Residencial Vista 161 - Rua Coberta"
          ],
          [
           "Apto completo no centro de Gramado"
          ],
          [
           "Confortável apto 2 dorm próximo ao centro Gramado"
          ],
          [
           "Lindo 2D Knorrville"
          ],
          [
           "Belo Ap.no centro de Gramado"
          ],
          [
           "Apartamento no centro de Canela"
          ],
          [
           "Apto Duplex 307. A melhor vista de Gramado!"
          ],
          [
           "Apartamento no centro,duas quadras da Rua Coberta."
          ],
          [
           "Casa do Artista"
          ],
          [
           "Apartamento em cidade visinha de Gramado e canela"
          ],
          [
           "APARTAMENTO CURTA CANELA"
          ],
          [
           "Flat Rios - Conforto em Área Nobre (Centro)"
          ],
          [
           "Residencial Vista 161 - Rua Coberta"
          ],
          [
           "Apto completo no centro de Gramado"
          ],
          [
           "Confortável apto 2 dorm próximo ao centro Gramado"
          ],
          [
           "Flat  Theobald em Três Coroas no caminho da serra"
          ],
          [
           "Casa das Tias II"
          ],
          [
           "Apartamento perfeito, no centro de Canela."
          ],
          [
           "Residencial Borges - Apartamento Superior"
          ],
          [
           "Excelente Cobertura - Centro/Canela"
          ],
          [
           "Junto à Catedral! Suíte, Wi-Fi, Sky, box duplo!"
          ],
          [
           "Residencial Vista 161 - Rua Coberta"
          ],
          [
           "Apartamento perfeito, no centro de Canela."
          ],
          [
           "APARTAMENTO CURTA CANELA"
          ],
          [
           "Flat Rios - Conforto em Área Nobre (Centro)"
          ],
          [
           "Belíssimo e amplo apartamento no coração de Canela"
          ],
          [
           "Flat 215 Hotel Alpenhaus"
          ],
          [
           "Confortável apto 2 dorm próximo ao centro Gramado"
          ],
          [
           "Excelente Cobertura - Centro/Canela"
          ],
          [
           "Apto 308. O DUPLEX charmoso de Gramado!"
          ],
          [
           "Apartamento de alto padrão no centro de Canela"
          ],
          [
           "Residencial Orquídeas 101 - Natal Luz"
          ],
          [
           "Residencial Borges - Apartamento Superior"
          ],
          [
           "Bosque de Viena - Natal Luz"
          ],
          [
           "Apto completo no centro de Gramado"
          ],
          [
           "Casa das Tias II"
          ],
          [
           "We Love Gramado: Apto Mobiliado Equipado para até 04 pessoas - Araucárias 406"
          ],
          [
           "Apartamento com ar, varanda e internet"
          ],
          [
           "Apartamento em Canela RS"
          ],
          [
           "Flat  Theobald em Três Coroas no caminho da serra"
          ],
          [
           "Casa das Tias II"
          ],
          [
           "Apartamento perfeito, no centro de Canela."
          ],
          [
           "Residencial Borges - Apartamento Superior"
          ],
          [
           "Excelente Cobertura - Centro/Canela"
          ],
          [
           "Junto à Catedral! Suíte, Wi-Fi, Sky, box duplo!"
          ],
          [
           "Apartamento com ar, varanda e internet"
          ],
          [
           "Apartamento de alto padrão no centro de Canela"
          ],
          [
           "Apto Novo e Aconchegante / Residencial Orquídeas"
          ],
          [
           "Apartamento com Vista Lago Grande Hotel Canela"
          ],
          [
           "Residencial Orquídeas 101 - Natal Luz"
          ],
          [
           "Bosque de Viena - Natal Luz"
          ],
          [
           "Apartamento SENSACIONAL em GRAMADO/RS!"
          ],
          [
           "Flat 215 Hotel Alpenhaus"
          ],
          [
           "Apartamento de luxo em Gramado Knorrville 204 tr2"
          ],
          [
           "Apto 308. O DUPLEX charmoso de Gramado!"
          ],
          [
           "LUXO e CONFORTO em Gramado"
          ],
          [
           "GRAMADO - APARTAMENTO CHARMOSO E ESPECIAL"
          ],
          [
           "Apartamento de alto padrão no centro de Canela"
          ],
          [
           "Residencial Borges - Apartamento Superior"
          ],
          [
           "Residencial Orquídeas 101 - Natal Luz"
          ],
          [
           "Apto completo no centro de Gramado"
          ],
          [
           "Bosque de Viena - Natal Luz"
          ],
          [
           "Casa das Tias II"
          ],
          [
           "We Love Gramado: Apto Mobiliado Equipado para até 04 pessoas - Araucárias 406"
          ],
          [
           "Apartamento com ar, varanda e internet"
          ],
          [
           "Apartamento em Canela RS"
          ],
          [
           "Duplex Borges de Medeiros"
          ],
          [
           "Apto Novo e Aconchegante / Residencial Orquídeas"
          ],
          [
           "Confortável apto 2 dorm próximo ao centro Gramado"
          ],
          [
           "Apartamento Plaza Serrana"
          ],
          [
           "GRAMADO - APARTAMENTO CHARMOSO E ESPECIAL"
          ],
          [
           "Apartamento com Vista Lago Grande Hotel Canela"
          ],
          [
           "Apartamento SENSACIONAL em GRAMADO/RS!"
          ],
          [
           "Apartamento de luxo em Gramado Knorrville 204 tr2"
          ],
          [
           "apto central em gramado"
          ],
          [
           "Duplex Borges de Medeiros"
          ],
          [
           "Apto Novo e Aconchegante / Residencial Orquídeas"
          ],
          [
           "GRAMADO - APARTAMENTO CHARMOSO E ESPECIAL"
          ],
          [
           "Apartamento Plaza Serrana"
          ],
          [
           "Apartamento com Vista Lago Grande Hotel Canela"
          ],
          [
           "Apartamento SENSACIONAL em GRAMADO/RS!"
          ],
          [
           "Apartamento de luxo em Gramado Knorrville 204 tr2"
          ],
          [
           "apto central em gramado"
          ],
          [
           "LAGHETTO VACANZE - LUXO PARQUE DA VINÍCOLA"
          ],
          [
           "LUXO e CONFORTO em Gramado"
          ],
          [
           "Belíssimo apartamento em Gramado"
          ],
          [
           "Apartamento Luxo em Canela/RS - Serra Gaúcha"
          ],
          [
           "Apto 309. Um DUPLEX aconchegante em Gramado!"
          ],
          [
           "Aconchego da Floresta"
          ],
          [
           "Cores da Serra\nPróximo a Igreja de Pedra/Canela."
          ],
          [
           "Apto. 106 - Charme e Conforto em Gramado"
          ],
          [
           "Apartamento Morada do Vale Centro Nova Petrópolis"
          ],
          [
           "Apartamento família Cruz"
          ],
          [
           "Apartamento de luxo em Gramado Knorrville 204 tr2"
          ],
          [
           "apto central em gramado"
          ],
          [
           "LAGHETTO VACANZE - LUXO PARQUE DA VINÍCOLA"
          ],
          [
           "LUXO e CONFORTO em Gramado"
          ],
          [
           "Belíssimo apartamento em Gramado"
          ],
          [
           "Apartamento Luxo em Canela/RS - Serra Gaúcha"
          ],
          [
           "Apto 309. Um DUPLEX aconchegante em Gramado!"
          ],
          [
           "Aconchego da Floresta"
          ],
          [
           "Cores da Serra\nPróximo a Igreja de Pedra/Canela."
          ],
          [
           "Apto. 106 - Charme e Conforto em Gramado"
          ],
          [
           "Apartamento Morada do Vale Centro Nova Petrópolis"
          ],
          [
           "Apartamento família Cruz"
          ],
          [
           "Encanto de Gramado"
          ],
          [
           "Apto. 205. Uma vista linda de Gramado"
          ],
          [
           "Apartamento Belluno"
          ],
          [
           "Lindo Apartamento Decorado em Gramado"
          ],
          [
           "Conforto e Requinte"
          ],
          [
           "CONDADO DE ANA CAROLINA - 2 SUÍTES NO LAGO NEGRO!"
          ],
          [
           "apto central em gramado"
          ],
          [
           "Belíssimo apartamento em Gramado"
          ],
          [
           "Excelente apartamento no centro lado  rua Coberta"
          ],
          [
           "Apartamento Correa 10"
          ],
          [
           "Apartamento Morada do Vale Centro Nova Petrópolis"
          ],
          [
           "Lindo Apartamento Decorado em Gramado"
          ],
          [
           "Apartamento família Cruz"
          ],
          [
           "Apto. 106 - Charme e Conforto em Gramado"
          ],
          [
           "Apto Descanso em Gramado"
          ],
          [
           "Apartamento Novo, duas suítes, bem no centro"
          ],
          [
           "Apto. 205. Uma vista linda de Gramado"
          ],
          [
           "Aconchego da Floresta"
          ],
          [
           "Cores da Serra\nPróximo a Igreja de Pedra/Canela."
          ],
          [
           "LAGHETTO VACANZE - LUXO PARQUE DA VINÍCOLA"
          ],
          [
           "ELEGANCE PREMIUM"
          ],
          [
           "Conforto e Requinte"
          ],
          [
           "Apartamento Solar do Centro - Luxo"
          ],
          [
           "CONDADO DE ANA CAROLINA - 2 SUÍTES NO LAGO NEGRO!"
          ],
          [
           "Apartamento família Cruz"
          ],
          [
           "Apto. 106 - Charme e Conforto em Gramado"
          ],
          [
           "Apto Descanso em Gramado"
          ],
          [
           "Apartamento Novo, duas suítes, bem no centro"
          ],
          [
           "Apto. 205. Uma vista linda de Gramado"
          ],
          [
           "Aconchego da Floresta"
          ],
          [
           "Cores da Serra\nPróximo a Igreja de Pedra/Canela."
          ],
          [
           "LAGHETTO VACANZE - LUXO PARQUE DA VINÍCOLA"
          ],
          [
           "ELEGANCE PREMIUM"
          ],
          [
           "Conforto e Requinte"
          ],
          [
           "Apartamento Solar do Centro - Luxo"
          ],
          [
           "CONDADO DE ANA CAROLINA - 2 SUÍTES NO LAGO NEGRO!"
          ],
          [
           "Aconchego no centro de Gramado"
          ],
          [
           "Ótimo apto. c/ 3D na melhor localização de Gramado"
          ],
          [
           "Elegance Premium"
          ],
          [
           "Apto no Centro de Canela 500m da Catedral de Pedra"
          ],
          [
           "Apto central em gramado"
          ],
          [
           "Apartamento Centro Gramado 2 quartos"
          ]
         ],
         "hoverlabel": {
          "namelength": 0
         },
         "hovertemplate": "Cidade=Gramado<br>Nota=%{x}<br>Valor=%{y}<br>Size=%{marker.size}<br>Nome=%{customdata[0]}",
         "legendgroup": "Cidade=Gramado",
         "marker": {
          "color": "#636efa",
          "size": [
           1,
           10,
           1,
           10,
           1,
           10,
           1,
           1,
           10,
           1,
           1,
           10,
           1,
           1,
           1,
           1,
           1,
           1,
           1,
           1,
           10,
           1,
           1,
           10,
           1,
           1,
           1,
           1,
           1,
           1,
           1,
           1,
           10,
           10,
           1,
           10,
           1,
           10,
           1,
           1,
           1,
           1,
           1,
           1,
           1,
           1,
           1,
           10,
           1,
           1,
           1,
           1,
           10,
           1,
           1,
           1,
           10,
           10,
           1,
           10,
           10,
           1,
           1,
           1,
           1,
           1,
           1,
           1,
           1,
           1,
           1,
           1,
           1,
           10,
           1,
           1,
           1,
           1,
           1,
           10,
           1,
           10,
           1,
           1,
           1,
           1,
           1,
           1,
           1,
           1,
           10,
           1,
           1,
           1,
           1,
           1,
           1,
           1,
           1,
           1,
           10,
           1,
           1,
           1,
           10,
           1,
           1,
           1,
           1,
           1,
           1,
           1,
           10,
           1,
           1,
           1,
           10,
           1,
           1,
           1,
           1,
           1,
           1,
           1,
           1,
           1,
           1,
           10,
           1,
           1,
           1,
           1,
           1,
           1,
           1,
           1,
           1,
           1,
           10,
           1,
           1,
           1,
           1,
           1,
           1,
           1,
           1,
           1,
           1,
           1,
           10,
           1,
           1,
           1,
           1,
           1,
           1,
           1,
           1,
           1,
           1,
           1
          ],
          "sizemode": "area",
          "sizeref": 0.025,
          "symbol": "circle"
         },
         "mode": "markers",
         "name": "Cidade=Gramado",
         "showlegend": true,
         "type": "scatter",
         "x": [
          4.94,
          5,
          null,
          null,
          null,
          4.83,
          4.9,
          4.67,
          null,
          5,
          5,
          5,
          null,
          null,
          null,
          null,
          4.67,
          null,
          4.9,
          4.67,
          null,
          5,
          5,
          5,
          null,
          null,
          null,
          null,
          4.67,
          null,
          null,
          null,
          5,
          5,
          null,
          4.85,
          null,
          5,
          null,
          null,
          null,
          4.83,
          null,
          null,
          4.75,
          null,
          null,
          5,
          null,
          4.67,
          null,
          null,
          5,
          5,
          null,
          null,
          5,
          5,
          null,
          4.85,
          5,
          null,
          null,
          4.75,
          null,
          null,
          null,
          4.83,
          4.63,
          4.75,
          5,
          null,
          null,
          5,
          null,
          4.67,
          null,
          null,
          null,
          5,
          5,
          4.88,
          null,
          null,
          null,
          null,
          4.75,
          null,
          4.63,
          4,
          4.88,
          null,
          null,
          null,
          4.75,
          null,
          4.63,
          4,
          null,
          5,
          4.89,
          null,
          4.33,
          null,
          4.85,
          null,
          null,
          null,
          4.63,
          4,
          null,
          5,
          4.89,
          null,
          4.33,
          null,
          4.85,
          null,
          null,
          null,
          null,
          null,
          null,
          null,
          null,
          4.67,
          4,
          4.89,
          4.21,
          null,
          null,
          null,
          null,
          null,
          null,
          4.89,
          null,
          null,
          4.85,
          null,
          null,
          null,
          null,
          4.67,
          null,
          null,
          null,
          4.89,
          null,
          null,
          4.85,
          null,
          null,
          null,
          null,
          4.67,
          null,
          null,
          null,
          null,
          null,
          null
         ],
         "xaxis": "x",
         "y": [
          847,
          1919,
          1581,
          689,
          217,
          632,
          1694,
          1581,
          717,
          1637,
          1705,
          497,
          271,
          1272,
          1095,
          1705,
          1581,
          2156,
          1694,
          1581,
          717,
          1637,
          1705,
          497,
          271,
          1272,
          1095,
          1705,
          1581,
          2156,
          632,
          1502,
          1409,
          1004,
          1445,
          1750,
          1705,
          1409,
          1272,
          1095,
          2450,
          2371,
          2156,
          1445,
          2879,
          1863,
          1524,
          1004,
          1524,
          1581,
          1502,
          2038,
          1095,
          1242,
          632,
          1502,
          1409,
          1004,
          1445,
          1750,
          1095,
          1863,
          1219,
          1242,
          1524,
          1524,
          1919,
          2371,
          2540,
          2879,
          2574,
          2032,
          1863,
          1004,
          1524,
          1581,
          1524,
          1502,
          2038,
          1095,
          1242,
          3161,
          1219,
          2156,
          926,
          2032,
          1242,
          1919,
          2540,
          2089,
          3161,
          1219,
          2032,
          926,
          1242,
          1919,
          2540,
          2089,
          2981,
          2574,
          2030,
          1648,
          2879,
          1761,
          1919,
          2879,
          711,
          565,
          2540,
          2089,
          2981,
          2574,
          2030,
          1648,
          2879,
          1761,
          1919,
          2879,
          711,
          565,
          1468,
          2879,
          1264,
          2089,
          2179,
          2427,
          2089,
          2030,
          1581,
          1197,
          711,
          2089,
          565,
          2879,
          1411,
          2710,
          2879,
          1761,
          1919,
          4087,
          2427,
          2179,
          4234,
          2427,
          565,
          2879,
          1411,
          2710,
          2879,
          1761,
          1919,
          4087,
          2427,
          2179,
          4234,
          2427,
          1558,
          2195,
          2427,
          9817,
          1976,
          2258
         ],
         "yaxis": "y"
        },
        {
         "customdata": [
          [
           "Tranquilidade em ótima localização"
          ],
          [
           "Moderno apartamento em Porto Alegre e seu sunset"
          ],
          [
           "Apto 1 dorm, completo próximo a PUC e Fórum PTN"
          ],
          [
           "Conforto e natureza perto da Orla do Guaíba"
          ],
          [
           "Consulado Americano, apto 1 dormitório com garagem"
          ],
          [
           "Aconchego e privacidade em Porto Alegre!"
          ],
          [
           "No coração e na tranquilidade da Cidade Baixa"
          ],
          [
           "Aconchegante apezinho em Porto Alegre com garagem!"
          ],
          [
           "Lindo Apartamento no Bom Fim"
          ],
          [
           "O Melhor custo X benefício da Região."
          ],
          [
           "APTO LUXO CASAL"
          ],
          [
           "Na melhor localização do Centro de Porto Alegre"
          ],
          [
           "Apartamento de paz e sossego, perto de tudo"
          ],
          [
           "Perto de tudo e fora do fervo do Centro Histórico"
          ],
          [
           "Apartamento NOVO 1 Quarto próximo à PUC"
          ],
          [
           "Apto 1 quarto ao lado Pq Redenção, perto faculdade"
          ],
          [
           "Centro Histórico com vista para o lago."
          ],
          [
           "Apto na Santana"
          ],
          [
           "No coração e na tranquilidade da Cidade Baixa"
          ],
          [
           "Lindo Apartamento no Bom Fim"
          ],
          [
           "Aconchegante apezinho em Porto Alegre com garagem!"
          ],
          [
           "O Melhor custo X benefício da Região."
          ],
          [
           "APTO LUXO CASAL"
          ],
          [
           "Na melhor localização do Centro de Porto Alegre"
          ],
          [
           "Apartamento de paz e sossego, perto de tudo"
          ],
          [
           "Perto de tudo e fora do fervo do Centro Histórico"
          ],
          [
           "Apartamento NOVO 1 Quarto próximo à PUC"
          ],
          [
           "Centro Histórico com vista para o lago."
          ],
          [
           "Apto 1 quarto ao lado Pq Redenção, perto faculdade"
          ],
          [
           "Apto na Santana"
          ],
          [
           "Cobertura no Moinhos de Vento"
          ],
          [
           "Apto c/ garagem próximo ao teatro São Pedro"
          ],
          [
           "Apê na área Militar em frente QG Da Brigada/ wi fi"
          ],
          [
           "Ap. na Zona Sul de POA - perto do Barra Shopping"
          ],
          [
           "Apartamento próximo a Praça da Encol"
          ],
          [
           "Apartamento aconchegante e completo/Porto Alegre"
          ],
          [
           "Apartamento NOVO 1 Quarto próximo à PUC"
          ],
          [
           "Apartamento aconchegante e bem localizado!"
          ],
          [
           "Apto 1 quarto ao lado Pq Redenção, perto faculdade"
          ],
          [
           "Ap. na Zona Sul de POA - perto do Barra Shopping"
          ],
          [
           "Excelente cobertura próxima à PUC!"
          ],
          [
           "Cobertura no Moinhos de Vento"
          ],
          [
           "Lindo 1D no Menino Deus, próx CB e Orla Guaíba!!"
          ],
          [
           "Apartamento amplo próximo ao consulado americano"
          ],
          [
           "Na melhor localização do Centro de Porto Alegre"
          ],
          [
           "Apartamento de paz e sossego, perto de tudo"
          ],
          [
           "Apto na Santana"
          ],
          [
           "Apartamento com área externa no Bairro Petrópolis"
          ],
          [
           "O Melhor custo X benefício da Região."
          ],
          [
           "Apartamento com dois quartos (1 suíte)"
          ],
          [
           "Aconchegante apê perto de tudo"
          ],
          [
           "Apartamento aconchegante 1 dormitório c/garagem!"
          ],
          [
           "Apto perto da Universidade Federal e de lazer."
          ],
          [
           "Apartamento Funcional no Centro"
          ],
          [
           "Lindo 1D no Menino Deus, próx CB e Orla Guaíba!!"
          ],
          [
           "Apartamento amplo próximo ao consulado americano"
          ],
          [
           "Na melhor localização do Centro de Porto Alegre"
          ],
          [
           "Apartamento de paz e sossego, perto de tudo"
          ],
          [
           "Apto na Santana"
          ],
          [
           "Apartamento com área externa no Bairro Petrópolis"
          ],
          [
           "O Melhor custo X benefício da Região."
          ],
          [
           "Apartamento com dois quartos (1 suíte)"
          ],
          [
           "Aconchegante apê perto de tudo"
          ],
          [
           "Apartamento aconchegante 1 dormitório c/garagem!"
          ],
          [
           "Apto perto da Universidade Federal e de lazer."
          ],
          [
           "Apartamento Funcional no Centro"
          ],
          [
           "Apartamento no centro de Porto Alegre."
          ],
          [
           "Centro Histórico com vista para o lago."
          ],
          [
           "Ótimo apto no Centro Histórico e Orla do Guaíba"
          ],
          [
           "Apto executivo AJURIS, Fórum, Beira-rio c/ garagem"
          ],
          [
           "Apto agradável e muito bem localizado."
          ],
          [
           "Apartamento aconchegante e completo/Porto Alegre"
          ],
          [
           "O Melhor custo X benefício da Região."
          ],
          [
           "Apartamento com dois quartos (1 suíte)"
          ],
          [
           "Aconchegante apê perto de tudo"
          ],
          [
           "Apartamento aconchegante 1 dormitório c/garagem!"
          ],
          [
           "Apto perto da Universidade Federal e de lazer."
          ],
          [
           "Apartamento Funcional no Centro"
          ],
          [
           "Apartamento no centro de Porto Alegre."
          ],
          [
           "Centro Histórico com vista para o lago."
          ],
          [
           "Ótimo apto no Centro Histórico e Orla do Guaíba"
          ],
          [
           "Apto executivo AJURIS, Fórum, Beira-rio c/ garagem"
          ],
          [
           "Apto agradável e muito bem localizado."
          ],
          [
           "Apartamento aconchegante e completo/Porto Alegre"
          ],
          [
           "Loft (no Barra Shopping Sul) com vista espetacular"
          ],
          [
           "Apartamento Centro Histórico perto Orla do Guaíba"
          ],
          [
           "Aconchego com vista para o rio"
          ],
          [
           "Aconchegante apto no Sta. Cecília/Petrópolis!"
          ],
          [
           "Studio na melhor região do Centro de POA"
          ],
          [
           "Apto c/ garagem próximo ao teatro São Pedro"
          ],
          [
           "Apto agradável e muito bem localizado."
          ],
          [
           "Apartamento Funcional no Centro"
          ],
          [
           "Ótimo apto no Centro Histórico e Orla do Guaíba"
          ],
          [
           "Centro Histórico com vista para o lago."
          ],
          [
           "Aconchegante apto no Sta. Cecília/Petrópolis!"
          ],
          [
           "Apto executivo AJURIS, Fórum, Beira-rio c/ garagem"
          ],
          [
           "Apartamento Centro Histórico perto Orla do Guaíba"
          ],
          [
           "Apartamento aconchegante e completo/Porto Alegre"
          ],
          [
           "Aconchego com vista para o rio"
          ],
          [
           "Apto. Inteiro no Centro"
          ],
          [
           "Apto c/ garagem próximo ao teatro São Pedro"
          ],
          [
           "Loft (no Barra Shopping Sul) com vista espetacular"
          ],
          [
           "Studio na melhor região do Centro de POA"
          ],
          [
           "APARTAMENTO no Menino Deus"
          ],
          [
           "LINDO AP C/ GARAGEM C. BAIXA UFRGS STA CASA CAFF"
          ],
          [
           "Apartamento próximo a Praça da Encol"
          ],
          [
           "Ótimo apto perto iguatemi e unisinos! Portaria 24h"
          ],
          [
           "Belo AP C/ garagem CID. BAIXA Prox UFRGS Sta Casa"
          ],
          [
           "LINDO AP C/ GARAGEM C. BAIXA UFRGS STA CASA CAFF"
          ],
          [
           "Tranquilidade"
          ],
          [
           "APARTAMENTO no Menino Deus"
          ],
          [
           "Aconchegante e Silencioso Ap. Centro Histórico-Poa"
          ],
          [
           "Apartamento Studio Mobiliado e Bem Localizado"
          ],
          [
           "Belo AP C/ garagem CID. BAIXA Prox UFRGS Sta Casa"
          ],
          [
           "Apto. Inteiro no Centro"
          ],
          [
           "Apartamento aconchegante 1 dormitório c/garagem!"
          ],
          [
           "Apartamento com área externa no Bairro Petrópolis"
          ],
          [
           "Ótimo apto perto iguatemi e unisinos! Portaria 24h"
          ],
          [
           "Viva a Cidade Baixa"
          ],
          [
           "Lindo apto entre Centro e Cidade Baixa - c/garagem"
          ],
          [
           "Apartamento Funcional no Centro"
          ],
          [
           "Quer ter acesso rápido a tudo?"
          ],
          [
           "Apto executivo AJURIS, Fórum, Beira-rio c/ garagem"
          ],
          [
           "Apartamento com ótima localização (Lima e Silva)."
          ],
          [
           "Confortável estúdio no Centro Histórico"
          ],
          [
           "Charmoso Apartamento Centro/Cidadebaixa"
          ],
          [
           "Apto. Inteiro no Centro"
          ],
          [
           "Apartamento aconchegante 1 dormitório c/garagem!"
          ],
          [
           "Apartamento com área externa no Bairro Petrópolis"
          ],
          [
           "Ótimo apto perto iguatemi e unisinos! Portaria 24h"
          ],
          [
           "Viva a Cidade Baixa"
          ],
          [
           "Lindo apto entre Centro e Cidade Baixa - c/garagem"
          ],
          [
           "Apartamento Funcional no Centro"
          ],
          [
           "Quer ter acesso rápido a tudo?"
          ],
          [
           "Apto executivo AJURIS, Fórum, Beira-rio c/ garagem"
          ],
          [
           "Apartamento com ótima localização (Lima e Silva)."
          ],
          [
           "Confortável estúdio no Centro Histórico"
          ],
          [
           "Charmoso Apartamento Centro/Cidadebaixa"
          ],
          [
           "Belo apartamento quarto e sala bem localizado"
          ],
          [
           "Apto agradável e muito bem localizado."
          ],
          [
           "Charmoso studio na Cidade Baixa."
          ],
          [
           "Lar central minimalista cidade baixa c/fliperama."
          ],
          [
           "Apartamento - 7"
          ],
          [
           "Your cool&cozy place near the airport in P Alegre"
          ],
          [
           "Loft de Cinema no Centro (Praça da Matriz)"
          ],
          [
           "APTO. CENTRO HISTÓRICO - APARTMENT DOWNTOWN"
          ],
          [
           "Apartamento no coração do Centro Histórico com box"
          ],
          [
           "APARTAMENTO ESPETACULAR"
          ],
          [
           "Conforto e Praticidade 2 dorm para Família"
          ],
          [
           "Tranquilidade"
          ],
          [
           "Charmoso Apartamento Centro/Cidadebaixa"
          ],
          [
           "Quer ter acesso rápido a tudo?"
          ],
          [
           "Studio c/200MB, Netflix e split: no centro de Poa."
          ],
          [
           "Aconchego no M. Deus, 3D, 2 vagas p/carro, 2B, 6P"
          ],
          [
           "Lindo apto entre Centro e Cidade Baixa - c/garagem"
          ],
          [
           "Comodidade e conforto (com amplo terraço)"
          ],
          [
           "Apartamento no coração do Centro Histórico"
          ],
          [
           "Muito além de uma cama – Apê inteiro estiloso"
          ],
          [
           "Aconchegante e Silencioso Ap. Centro Histórico-Poa"
          ],
          [
           "Confortável estúdio no Centro Histórico"
          ],
          [
           "Viva a Cidade Baixa"
          ],
          [
           "Apartamento SHOW Menino Deus"
          ]
         ],
         "hoverlabel": {
          "namelength": 0
         },
         "hovertemplate": "Cidade=Porto Alegre<br>Nota=%{x}<br>Valor=%{y}<br>Size=%{marker.size}<br>Nome=%{customdata[0]}",
         "legendgroup": "Cidade=Porto Alegre",
         "marker": {
          "color": "#EF553B",
          "size": [
           1,
           10,
           1,
           10,
           1,
           10,
           10,
           1,
           10,
           1,
           10,
           1,
           1,
           10,
           1,
           1,
           10,
           10,
           10,
           10,
           1,
           1,
           10,
           1,
           1,
           10,
           1,
           10,
           1,
           10,
           1,
           1,
           10,
           1,
           10,
           10,
           1,
           10,
           1,
           1,
           10,
           1,
           10,
           1,
           1,
           1,
           10,
           10,
           1,
           10,
           10,
           10,
           10,
           1,
           10,
           1,
           1,
           1,
           10,
           10,
           1,
           10,
           10,
           10,
           10,
           1,
           10,
           10,
           10,
           10,
           1,
           10,
           1,
           10,
           10,
           10,
           10,
           1,
           10,
           10,
           10,
           10,
           1,
           10,
           1,
           1,
           1,
           10,
           1,
           1,
           1,
           1,
           10,
           10,
           10,
           10,
           1,
           10,
           1,
           10,
           1,
           1,
           1,
           1,
           10,
           10,
           10,
           10,
           10,
           10,
           1,
           10,
           1,
           10,
           10,
           10,
           10,
           10,
           10,
           10,
           1,
           1,
           10,
           10,
           10,
           1,
           10,
           10,
           10,
           10,
           10,
           10,
           1,
           1,
           10,
           10,
           10,
           1,
           10,
           1,
           10,
           10,
           10,
           1,
           1,
           10,
           10,
           1,
           10,
           10,
           1,
           1,
           1,
           10,
           10,
           10,
           1,
           10,
           10,
           10,
           10,
           1
          ],
          "sizemode": "area",
          "sizeref": 0.025,
          "symbol": "circle"
         },
         "mode": "markers",
         "name": "Cidade=Porto Alegre",
         "showlegend": true,
         "type": "scatter",
         "x": [
          null,
          4.9,
          4.14,
          5,
          5,
          4.7,
          4.98,
          5,
          5,
          null,
          4.98,
          4.92,
          4.75,
          4.86,
          5,
          4.8,
          4.81,
          4.82,
          4.98,
          5,
          5,
          null,
          4.98,
          4.92,
          4.75,
          4.86,
          5,
          4.81,
          4.8,
          4.82,
          4.95,
          5,
          4.81,
          4.74,
          5,
          4.93,
          5,
          4.86,
          4.8,
          4.74,
          4.94,
          4.95,
          4.96,
          4.68,
          4.92,
          4.75,
          4.82,
          5,
          null,
          5,
          4.89,
          4.89,
          4.77,
          null,
          4.96,
          4.68,
          4.92,
          4.75,
          4.82,
          5,
          null,
          5,
          4.89,
          4.89,
          4.77,
          null,
          4.83,
          4.81,
          4.85,
          4.86,
          4.75,
          4.93,
          null,
          5,
          4.89,
          4.89,
          4.77,
          null,
          4.83,
          4.81,
          4.85,
          4.86,
          4.75,
          4.93,
          4.57,
          null,
          4.67,
          5,
          5,
          5,
          4.75,
          null,
          4.85,
          4.81,
          5,
          4.86,
          null,
          4.93,
          4.67,
          4.93,
          5,
          4.57,
          5,
          4.77,
          4.91,
          5,
          4.98,
          4.86,
          4.91,
          4.93,
          4.77,
          4.97,
          4.64,
          4.86,
          4.93,
          4.89,
          5,
          4.98,
          5,
          4.84,
          null,
          null,
          4.86,
          4.9,
          5,
          4.62,
          4.93,
          4.89,
          5,
          4.98,
          5,
          4.84,
          null,
          null,
          4.86,
          4.9,
          5,
          4.62,
          4.82,
          4.75,
          4.95,
          4.88,
          4.71,
          4.7,
          4.69,
          4.83,
          5,
          4.96,
          4.95,
          4.93,
          4.62,
          null,
          5,
          4.95,
          4.84,
          4.92,
          4.9,
          5,
          4.97,
          5,
          5,
          null
         ],
         "xaxis": "x",
         "y": [
          203,
          271,
          112,
          336,
          250,
          203,
          242,
          271,
          352,
          339,
          497,
          255,
          235,
          393,
          305,
          289,
          452,
          294,
          242,
          352,
          271,
          339,
          497,
          255,
          235,
          393,
          305,
          452,
          289,
          294,
          585,
          308,
          260,
          282,
          226,
          298,
          305,
          257,
          289,
          282,
          291,
          585,
          327,
          327,
          255,
          235,
          294,
          333,
          339,
          497,
          305,
          361,
          210,
          242,
          327,
          327,
          255,
          235,
          294,
          333,
          339,
          497,
          305,
          361,
          210,
          242,
          220,
          452,
          257,
          373,
          271,
          298,
          339,
          497,
          305,
          361,
          210,
          242,
          220,
          452,
          257,
          373,
          271,
          298,
          598,
          253,
          339,
          226,
          237,
          308,
          271,
          242,
          257,
          452,
          226,
          373,
          253,
          298,
          339,
          260,
          308,
          598,
          237,
          406,
          322,
          226,
          465,
          317,
          322,
          192,
          406,
          339,
          181,
          317,
          260,
          361,
          333,
          465,
          350,
          327,
          242,
          178,
          373,
          271,
          248,
          246,
          260,
          361,
          333,
          465,
          350,
          327,
          242,
          178,
          373,
          271,
          248,
          246,
          339,
          271,
          263,
          272,
          406,
          418,
          305,
          192,
          395,
          677,
          373,
          192,
          246,
          178,
          265,
          393,
          327,
          488,
          422,
          256,
          339,
          248,
          350,
          339
         ],
         "yaxis": "y"
        }
       ],
       "layout": {
        "height": 600,
        "legend": {
         "itemsizing": "constant",
         "tracegroupgap": 0
        },
        "margin": {
         "t": 60
        },
        "template": {
         "data": {
          "bar": [
           {
            "error_x": {
             "color": "#2a3f5f"
            },
            "error_y": {
             "color": "#2a3f5f"
            },
            "marker": {
             "line": {
              "color": "#E5ECF6",
              "width": 0.5
             }
            },
            "type": "bar"
           }
          ],
          "barpolar": [
           {
            "marker": {
             "line": {
              "color": "#E5ECF6",
              "width": 0.5
             }
            },
            "type": "barpolar"
           }
          ],
          "carpet": [
           {
            "aaxis": {
             "endlinecolor": "#2a3f5f",
             "gridcolor": "white",
             "linecolor": "white",
             "minorgridcolor": "white",
             "startlinecolor": "#2a3f5f"
            },
            "baxis": {
             "endlinecolor": "#2a3f5f",
             "gridcolor": "white",
             "linecolor": "white",
             "minorgridcolor": "white",
             "startlinecolor": "#2a3f5f"
            },
            "type": "carpet"
           }
          ],
          "choropleth": [
           {
            "colorbar": {
             "outlinewidth": 0,
             "ticks": ""
            },
            "type": "choropleth"
           }
          ],
          "contour": [
           {
            "colorbar": {
             "outlinewidth": 0,
             "ticks": ""
            },
            "colorscale": [
             [
              0,
              "#0d0887"
             ],
             [
              0.1111111111111111,
              "#46039f"
             ],
             [
              0.2222222222222222,
              "#7201a8"
             ],
             [
              0.3333333333333333,
              "#9c179e"
             ],
             [
              0.4444444444444444,
              "#bd3786"
             ],
             [
              0.5555555555555556,
              "#d8576b"
             ],
             [
              0.6666666666666666,
              "#ed7953"
             ],
             [
              0.7777777777777778,
              "#fb9f3a"
             ],
             [
              0.8888888888888888,
              "#fdca26"
             ],
             [
              1,
              "#f0f921"
             ]
            ],
            "type": "contour"
           }
          ],
          "contourcarpet": [
           {
            "colorbar": {
             "outlinewidth": 0,
             "ticks": ""
            },
            "type": "contourcarpet"
           }
          ],
          "heatmap": [
           {
            "colorbar": {
             "outlinewidth": 0,
             "ticks": ""
            },
            "colorscale": [
             [
              0,
              "#0d0887"
             ],
             [
              0.1111111111111111,
              "#46039f"
             ],
             [
              0.2222222222222222,
              "#7201a8"
             ],
             [
              0.3333333333333333,
              "#9c179e"
             ],
             [
              0.4444444444444444,
              "#bd3786"
             ],
             [
              0.5555555555555556,
              "#d8576b"
             ],
             [
              0.6666666666666666,
              "#ed7953"
             ],
             [
              0.7777777777777778,
              "#fb9f3a"
             ],
             [
              0.8888888888888888,
              "#fdca26"
             ],
             [
              1,
              "#f0f921"
             ]
            ],
            "type": "heatmap"
           }
          ],
          "heatmapgl": [
           {
            "colorbar": {
             "outlinewidth": 0,
             "ticks": ""
            },
            "colorscale": [
             [
              0,
              "#0d0887"
             ],
             [
              0.1111111111111111,
              "#46039f"
             ],
             [
              0.2222222222222222,
              "#7201a8"
             ],
             [
              0.3333333333333333,
              "#9c179e"
             ],
             [
              0.4444444444444444,
              "#bd3786"
             ],
             [
              0.5555555555555556,
              "#d8576b"
             ],
             [
              0.6666666666666666,
              "#ed7953"
             ],
             [
              0.7777777777777778,
              "#fb9f3a"
             ],
             [
              0.8888888888888888,
              "#fdca26"
             ],
             [
              1,
              "#f0f921"
             ]
            ],
            "type": "heatmapgl"
           }
          ],
          "histogram": [
           {
            "marker": {
             "colorbar": {
              "outlinewidth": 0,
              "ticks": ""
             }
            },
            "type": "histogram"
           }
          ],
          "histogram2d": [
           {
            "colorbar": {
             "outlinewidth": 0,
             "ticks": ""
            },
            "colorscale": [
             [
              0,
              "#0d0887"
             ],
             [
              0.1111111111111111,
              "#46039f"
             ],
             [
              0.2222222222222222,
              "#7201a8"
             ],
             [
              0.3333333333333333,
              "#9c179e"
             ],
             [
              0.4444444444444444,
              "#bd3786"
             ],
             [
              0.5555555555555556,
              "#d8576b"
             ],
             [
              0.6666666666666666,
              "#ed7953"
             ],
             [
              0.7777777777777778,
              "#fb9f3a"
             ],
             [
              0.8888888888888888,
              "#fdca26"
             ],
             [
              1,
              "#f0f921"
             ]
            ],
            "type": "histogram2d"
           }
          ],
          "histogram2dcontour": [
           {
            "colorbar": {
             "outlinewidth": 0,
             "ticks": ""
            },
            "colorscale": [
             [
              0,
              "#0d0887"
             ],
             [
              0.1111111111111111,
              "#46039f"
             ],
             [
              0.2222222222222222,
              "#7201a8"
             ],
             [
              0.3333333333333333,
              "#9c179e"
             ],
             [
              0.4444444444444444,
              "#bd3786"
             ],
             [
              0.5555555555555556,
              "#d8576b"
             ],
             [
              0.6666666666666666,
              "#ed7953"
             ],
             [
              0.7777777777777778,
              "#fb9f3a"
             ],
             [
              0.8888888888888888,
              "#fdca26"
             ],
             [
              1,
              "#f0f921"
             ]
            ],
            "type": "histogram2dcontour"
           }
          ],
          "mesh3d": [
           {
            "colorbar": {
             "outlinewidth": 0,
             "ticks": ""
            },
            "type": "mesh3d"
           }
          ],
          "parcoords": [
           {
            "line": {
             "colorbar": {
              "outlinewidth": 0,
              "ticks": ""
             }
            },
            "type": "parcoords"
           }
          ],
          "scatter": [
           {
            "marker": {
             "colorbar": {
              "outlinewidth": 0,
              "ticks": ""
             }
            },
            "type": "scatter"
           }
          ],
          "scatter3d": [
           {
            "line": {
             "colorbar": {
              "outlinewidth": 0,
              "ticks": ""
             }
            },
            "marker": {
             "colorbar": {
              "outlinewidth": 0,
              "ticks": ""
             }
            },
            "type": "scatter3d"
           }
          ],
          "scattercarpet": [
           {
            "marker": {
             "colorbar": {
              "outlinewidth": 0,
              "ticks": ""
             }
            },
            "type": "scattercarpet"
           }
          ],
          "scattergeo": [
           {
            "marker": {
             "colorbar": {
              "outlinewidth": 0,
              "ticks": ""
             }
            },
            "type": "scattergeo"
           }
          ],
          "scattergl": [
           {
            "marker": {
             "colorbar": {
              "outlinewidth": 0,
              "ticks": ""
             }
            },
            "type": "scattergl"
           }
          ],
          "scattermapbox": [
           {
            "marker": {
             "colorbar": {
              "outlinewidth": 0,
              "ticks": ""
             }
            },
            "type": "scattermapbox"
           }
          ],
          "scatterpolar": [
           {
            "marker": {
             "colorbar": {
              "outlinewidth": 0,
              "ticks": ""
             }
            },
            "type": "scatterpolar"
           }
          ],
          "scatterpolargl": [
           {
            "marker": {
             "colorbar": {
              "outlinewidth": 0,
              "ticks": ""
             }
            },
            "type": "scatterpolargl"
           }
          ],
          "scatterternary": [
           {
            "marker": {
             "colorbar": {
              "outlinewidth": 0,
              "ticks": ""
             }
            },
            "type": "scatterternary"
           }
          ],
          "surface": [
           {
            "colorbar": {
             "outlinewidth": 0,
             "ticks": ""
            },
            "colorscale": [
             [
              0,
              "#0d0887"
             ],
             [
              0.1111111111111111,
              "#46039f"
             ],
             [
              0.2222222222222222,
              "#7201a8"
             ],
             [
              0.3333333333333333,
              "#9c179e"
             ],
             [
              0.4444444444444444,
              "#bd3786"
             ],
             [
              0.5555555555555556,
              "#d8576b"
             ],
             [
              0.6666666666666666,
              "#ed7953"
             ],
             [
              0.7777777777777778,
              "#fb9f3a"
             ],
             [
              0.8888888888888888,
              "#fdca26"
             ],
             [
              1,
              "#f0f921"
             ]
            ],
            "type": "surface"
           }
          ],
          "table": [
           {
            "cells": {
             "fill": {
              "color": "#EBF0F8"
             },
             "line": {
              "color": "white"
             }
            },
            "header": {
             "fill": {
              "color": "#C8D4E3"
             },
             "line": {
              "color": "white"
             }
            },
            "type": "table"
           }
          ]
         },
         "layout": {
          "annotationdefaults": {
           "arrowcolor": "#2a3f5f",
           "arrowhead": 0,
           "arrowwidth": 1
          },
          "colorscale": {
           "diverging": [
            [
             0,
             "#8e0152"
            ],
            [
             0.1,
             "#c51b7d"
            ],
            [
             0.2,
             "#de77ae"
            ],
            [
             0.3,
             "#f1b6da"
            ],
            [
             0.4,
             "#fde0ef"
            ],
            [
             0.5,
             "#f7f7f7"
            ],
            [
             0.6,
             "#e6f5d0"
            ],
            [
             0.7,
             "#b8e186"
            ],
            [
             0.8,
             "#7fbc41"
            ],
            [
             0.9,
             "#4d9221"
            ],
            [
             1,
             "#276419"
            ]
           ],
           "sequential": [
            [
             0,
             "#0d0887"
            ],
            [
             0.1111111111111111,
             "#46039f"
            ],
            [
             0.2222222222222222,
             "#7201a8"
            ],
            [
             0.3333333333333333,
             "#9c179e"
            ],
            [
             0.4444444444444444,
             "#bd3786"
            ],
            [
             0.5555555555555556,
             "#d8576b"
            ],
            [
             0.6666666666666666,
             "#ed7953"
            ],
            [
             0.7777777777777778,
             "#fb9f3a"
            ],
            [
             0.8888888888888888,
             "#fdca26"
            ],
            [
             1,
             "#f0f921"
            ]
           ],
           "sequentialminus": [
            [
             0,
             "#0d0887"
            ],
            [
             0.1111111111111111,
             "#46039f"
            ],
            [
             0.2222222222222222,
             "#7201a8"
            ],
            [
             0.3333333333333333,
             "#9c179e"
            ],
            [
             0.4444444444444444,
             "#bd3786"
            ],
            [
             0.5555555555555556,
             "#d8576b"
            ],
            [
             0.6666666666666666,
             "#ed7953"
            ],
            [
             0.7777777777777778,
             "#fb9f3a"
            ],
            [
             0.8888888888888888,
             "#fdca26"
            ],
            [
             1,
             "#f0f921"
            ]
           ]
          },
          "colorway": [
           "#636efa",
           "#EF553B",
           "#00cc96",
           "#ab63fa",
           "#FFA15A",
           "#19d3f3",
           "#FF6692",
           "#B6E880",
           "#FF97FF",
           "#FECB52"
          ],
          "font": {
           "color": "#2a3f5f"
          },
          "geo": {
           "bgcolor": "white",
           "lakecolor": "white",
           "landcolor": "#E5ECF6",
           "showlakes": true,
           "showland": true,
           "subunitcolor": "white"
          },
          "hoverlabel": {
           "align": "left"
          },
          "hovermode": "closest",
          "mapbox": {
           "style": "light"
          },
          "paper_bgcolor": "white",
          "plot_bgcolor": "#E5ECF6",
          "polar": {
           "angularaxis": {
            "gridcolor": "white",
            "linecolor": "white",
            "ticks": ""
           },
           "bgcolor": "#E5ECF6",
           "radialaxis": {
            "gridcolor": "white",
            "linecolor": "white",
            "ticks": ""
           }
          },
          "scene": {
           "xaxis": {
            "backgroundcolor": "#E5ECF6",
            "gridcolor": "white",
            "gridwidth": 2,
            "linecolor": "white",
            "showbackground": true,
            "ticks": "",
            "zerolinecolor": "white"
           },
           "yaxis": {
            "backgroundcolor": "#E5ECF6",
            "gridcolor": "white",
            "gridwidth": 2,
            "linecolor": "white",
            "showbackground": true,
            "ticks": "",
            "zerolinecolor": "white"
           },
           "zaxis": {
            "backgroundcolor": "#E5ECF6",
            "gridcolor": "white",
            "gridwidth": 2,
            "linecolor": "white",
            "showbackground": true,
            "ticks": "",
            "zerolinecolor": "white"
           }
          },
          "shapedefaults": {
           "line": {
            "color": "#2a3f5f"
           }
          },
          "ternary": {
           "aaxis": {
            "gridcolor": "white",
            "linecolor": "white",
            "ticks": ""
           },
           "baxis": {
            "gridcolor": "white",
            "linecolor": "white",
            "ticks": ""
           },
           "bgcolor": "#E5ECF6",
           "caxis": {
            "gridcolor": "white",
            "linecolor": "white",
            "ticks": ""
           }
          },
          "title": {
           "x": 0.05
          },
          "xaxis": {
           "automargin": true,
           "gridcolor": "white",
           "linecolor": "white",
           "ticks": "",
           "zerolinecolor": "white",
           "zerolinewidth": 2
          },
          "yaxis": {
           "automargin": true,
           "gridcolor": "white",
           "linecolor": "white",
           "ticks": "",
           "zerolinecolor": "white",
           "zerolinewidth": 2
          }
         }
        },
        "xaxis": {
         "anchor": "y",
         "domain": [
          0,
          0.98
         ],
         "title": {
          "text": "Nota"
         }
        },
        "yaxis": {
         "anchor": "x",
         "domain": [
          0,
          1
         ],
         "title": {
          "text": "Valor"
         }
        }
       }
      },
      "text/html": [
       "<div>\n",
       "        \n",
       "        \n",
       "            <div id=\"8052b87b-a543-4ea5-9c35-812e2395a59c\" class=\"plotly-graph-div\" style=\"height:600px; width:100%;\"></div>\n",
       "            <script type=\"text/javascript\">\n",
       "                require([\"plotly\"], function(Plotly) {\n",
       "                    window.PLOTLYENV=window.PLOTLYENV || {};\n",
       "                    \n",
       "                if (document.getElementById(\"8052b87b-a543-4ea5-9c35-812e2395a59c\")) {\n",
       "                    Plotly.newPlot(\n",
       "                        '8052b87b-a543-4ea5-9c35-812e2395a59c',\n",
       "                        [{\"customdata\": [[\"Estalagem san Marco a Serra Ga\\u00facha te espera\"], [\"Ref\\u00fagio das Hort\\u00eansias: conforto e localiza\\u00e7\\u00e3o\"], [\"Apartamento Cristo Rei Gramado - RS\"], [\"Cantinho da C\\u00edntia/Conforto e praticidade...\"], [\"Apartamentos h\\u00e1 14 km de Gramado\"], [\"Solar da encosta\"], [\"Lindo 2D Knorrville\"], [\"Belo Ap.no centro de Gramado\"], [\"Apartamento no centro de Canela\"], [\"Apto Duplex 307. A melhor vista de Gramado!\"], [\"Apartamento no centro,duas quadras da Rua Coberta.\"], [\"Casa do Artista\"], [\"Apartamento em cidade visinha de Gramado e canela\"], [\"APARTAMENTO CURTA CANELA\"], [\"Flat Rios - Conforto em \\u00c1rea Nobre (Centro)\"], [\"Residencial Vista 161 - Rua Coberta\"], [\"Apto completo no centro de Gramado\"], [\"Confort\\u00e1vel apto 2 dorm pr\\u00f3ximo ao centro Gramado\"], [\"Lindo 2D Knorrville\"], [\"Belo Ap.no centro de Gramado\"], [\"Apartamento no centro de Canela\"], [\"Apto Duplex 307. A melhor vista de Gramado!\"], [\"Apartamento no centro,duas quadras da Rua Coberta.\"], [\"Casa do Artista\"], [\"Apartamento em cidade visinha de Gramado e canela\"], [\"APARTAMENTO CURTA CANELA\"], [\"Flat Rios - Conforto em \\u00c1rea Nobre (Centro)\"], [\"Residencial Vista 161 - Rua Coberta\"], [\"Apto completo no centro de Gramado\"], [\"Confort\\u00e1vel apto 2 dorm pr\\u00f3ximo ao centro Gramado\"], [\"Flat  Theobald em Tr\\u00eas Coroas no caminho da serra\"], [\"Casa das Tias II\"], [\"Apartamento perfeito, no centro de Canela.\"], [\"Residencial Borges - Apartamento Superior\"], [\"Excelente Cobertura - Centro/Canela\"], [\"Junto \\u00e0 Catedral! Su\\u00edte, Wi-Fi, Sky, box duplo!\"], [\"Residencial Vista 161 - Rua Coberta\"], [\"Apartamento perfeito, no centro de Canela.\"], [\"APARTAMENTO CURTA CANELA\"], [\"Flat Rios - Conforto em \\u00c1rea Nobre (Centro)\"], [\"Bel\\u00edssimo e amplo apartamento no cora\\u00e7\\u00e3o de Canela\"], [\"Flat 215 Hotel Alpenhaus\"], [\"Confort\\u00e1vel apto 2 dorm pr\\u00f3ximo ao centro Gramado\"], [\"Excelente Cobertura - Centro/Canela\"], [\"Apto 308. O DUPLEX charmoso de Gramado!\"], [\"Apartamento de alto padr\\u00e3o no centro de Canela\"], [\"Residencial Orqu\\u00eddeas 101 - Natal Luz\"], [\"Residencial Borges - Apartamento Superior\"], [\"Bosque de Viena - Natal Luz\"], [\"Apto completo no centro de Gramado\"], [\"Casa das Tias II\"], [\"We Love Gramado: Apto Mobiliado Equipado para at\\u00e9 04 pessoas - Arauc\\u00e1rias 406\"], [\"Apartamento com ar, varanda e internet\"], [\"Apartamento em Canela RS\"], [\"Flat  Theobald em Tr\\u00eas Coroas no caminho da serra\"], [\"Casa das Tias II\"], [\"Apartamento perfeito, no centro de Canela.\"], [\"Residencial Borges - Apartamento Superior\"], [\"Excelente Cobertura - Centro/Canela\"], [\"Junto \\u00e0 Catedral! Su\\u00edte, Wi-Fi, Sky, box duplo!\"], [\"Apartamento com ar, varanda e internet\"], [\"Apartamento de alto padr\\u00e3o no centro de Canela\"], [\"Apto Novo e Aconchegante / Residencial Orqu\\u00eddeas\"], [\"Apartamento com Vista Lago Grande Hotel Canela\"], [\"Residencial Orqu\\u00eddeas 101 - Natal Luz\"], [\"Bosque de Viena - Natal Luz\"], [\"Apartamento SENSACIONAL em GRAMADO/RS!\"], [\"Flat 215 Hotel Alpenhaus\"], [\"Apartamento de luxo em Gramado Knorrville 204 tr2\"], [\"Apto 308. O DUPLEX charmoso de Gramado!\"], [\"LUXO e CONFORTO em Gramado\"], [\"GRAMADO - APARTAMENTO CHARMOSO E ESPECIAL\"], [\"Apartamento de alto padr\\u00e3o no centro de Canela\"], [\"Residencial Borges - Apartamento Superior\"], [\"Residencial Orqu\\u00eddeas 101 - Natal Luz\"], [\"Apto completo no centro de Gramado\"], [\"Bosque de Viena - Natal Luz\"], [\"Casa das Tias II\"], [\"We Love Gramado: Apto Mobiliado Equipado para at\\u00e9 04 pessoas - Arauc\\u00e1rias 406\"], [\"Apartamento com ar, varanda e internet\"], [\"Apartamento em Canela RS\"], [\"Duplex Borges de Medeiros\"], [\"Apto Novo e Aconchegante / Residencial Orqu\\u00eddeas\"], [\"Confort\\u00e1vel apto 2 dorm pr\\u00f3ximo ao centro Gramado\"], [\"Apartamento Plaza Serrana\"], [\"GRAMADO - APARTAMENTO CHARMOSO E ESPECIAL\"], [\"Apartamento com Vista Lago Grande Hotel Canela\"], [\"Apartamento SENSACIONAL em GRAMADO/RS!\"], [\"Apartamento de luxo em Gramado Knorrville 204 tr2\"], [\"apto central em gramado\"], [\"Duplex Borges de Medeiros\"], [\"Apto Novo e Aconchegante / Residencial Orqu\\u00eddeas\"], [\"GRAMADO - APARTAMENTO CHARMOSO E ESPECIAL\"], [\"Apartamento Plaza Serrana\"], [\"Apartamento com Vista Lago Grande Hotel Canela\"], [\"Apartamento SENSACIONAL em GRAMADO/RS!\"], [\"Apartamento de luxo em Gramado Knorrville 204 tr2\"], [\"apto central em gramado\"], [\"LAGHETTO VACANZE - LUXO PARQUE DA VIN\\u00cdCOLA\"], [\"LUXO e CONFORTO em Gramado\"], [\"Bel\\u00edssimo apartamento em Gramado\"], [\"Apartamento Luxo em Canela/RS - Serra Ga\\u00facha\"], [\"Apto 309. Um DUPLEX aconchegante em Gramado!\"], [\"Aconchego da Floresta\"], [\"Cores da Serra\\nPr\\u00f3ximo a Igreja de Pedra/Canela.\"], [\"Apto. 106 - Charme e Conforto em Gramado\"], [\"Apartamento Morada do Vale Centro Nova Petr\\u00f3polis\"], [\"Apartamento fam\\u00edlia Cruz\"], [\"Apartamento de luxo em Gramado Knorrville 204 tr2\"], [\"apto central em gramado\"], [\"LAGHETTO VACANZE - LUXO PARQUE DA VIN\\u00cdCOLA\"], [\"LUXO e CONFORTO em Gramado\"], [\"Bel\\u00edssimo apartamento em Gramado\"], [\"Apartamento Luxo em Canela/RS - Serra Ga\\u00facha\"], [\"Apto 309. Um DUPLEX aconchegante em Gramado!\"], [\"Aconchego da Floresta\"], [\"Cores da Serra\\nPr\\u00f3ximo a Igreja de Pedra/Canela.\"], [\"Apto. 106 - Charme e Conforto em Gramado\"], [\"Apartamento Morada do Vale Centro Nova Petr\\u00f3polis\"], [\"Apartamento fam\\u00edlia Cruz\"], [\"Encanto de Gramado\"], [\"Apto. 205. Uma vista linda de Gramado\"], [\"Apartamento Belluno\"], [\"Lindo Apartamento Decorado em Gramado\"], [\"Conforto e Requinte\"], [\"CONDADO DE ANA CAROLINA - 2 SU\\u00cdTES NO LAGO NEGRO!\"], [\"apto central em gramado\"], [\"Bel\\u00edssimo apartamento em Gramado\"], [\"Excelente apartamento no centro lado  rua Coberta\"], [\"Apartamento Correa 10\"], [\"Apartamento Morada do Vale Centro Nova Petr\\u00f3polis\"], [\"Lindo Apartamento Decorado em Gramado\"], [\"Apartamento fam\\u00edlia Cruz\"], [\"Apto. 106 - Charme e Conforto em Gramado\"], [\"Apto Descanso em Gramado\"], [\"Apartamento Novo, duas su\\u00edtes, bem no centro\"], [\"Apto. 205. Uma vista linda de Gramado\"], [\"Aconchego da Floresta\"], [\"Cores da Serra\\nPr\\u00f3ximo a Igreja de Pedra/Canela.\"], [\"LAGHETTO VACANZE - LUXO PARQUE DA VIN\\u00cdCOLA\"], [\"ELEGANCE PREMIUM\"], [\"Conforto e Requinte\"], [\"Apartamento Solar do Centro - Luxo\"], [\"CONDADO DE ANA CAROLINA - 2 SU\\u00cdTES NO LAGO NEGRO!\"], [\"Apartamento fam\\u00edlia Cruz\"], [\"Apto. 106 - Charme e Conforto em Gramado\"], [\"Apto Descanso em Gramado\"], [\"Apartamento Novo, duas su\\u00edtes, bem no centro\"], [\"Apto. 205. Uma vista linda de Gramado\"], [\"Aconchego da Floresta\"], [\"Cores da Serra\\nPr\\u00f3ximo a Igreja de Pedra/Canela.\"], [\"LAGHETTO VACANZE - LUXO PARQUE DA VIN\\u00cdCOLA\"], [\"ELEGANCE PREMIUM\"], [\"Conforto e Requinte\"], [\"Apartamento Solar do Centro - Luxo\"], [\"CONDADO DE ANA CAROLINA - 2 SU\\u00cdTES NO LAGO NEGRO!\"], [\"Aconchego no centro de Gramado\"], [\"\\u00d3timo apto. c/ 3D na melhor localiza\\u00e7\\u00e3o de Gramado\"], [\"Elegance Premium\"], [\"Apto no Centro de Canela 500m da Catedral de Pedra\"], [\"Apto central em gramado\"], [\"Apartamento Centro Gramado 2 quartos\"]], \"hoverlabel\": {\"namelength\": 0}, \"hovertemplate\": \"Cidade=Gramado<br>Nota=%{x}<br>Valor=%{y}<br>Size=%{marker.size}<br>Nome=%{customdata[0]}\", \"legendgroup\": \"Cidade=Gramado\", \"marker\": {\"color\": \"#636efa\", \"size\": [1, 10, 1, 10, 1, 10, 1, 1, 10, 1, 1, 10, 1, 1, 1, 1, 1, 1, 1, 1, 10, 1, 1, 10, 1, 1, 1, 1, 1, 1, 1, 1, 10, 10, 1, 10, 1, 10, 1, 1, 1, 1, 1, 1, 1, 1, 1, 10, 1, 1, 1, 1, 10, 1, 1, 1, 10, 10, 1, 10, 10, 1, 1, 1, 1, 1, 1, 1, 1, 1, 1, 1, 1, 10, 1, 1, 1, 1, 1, 10, 1, 10, 1, 1, 1, 1, 1, 1, 1, 1, 10, 1, 1, 1, 1, 1, 1, 1, 1, 1, 10, 1, 1, 1, 10, 1, 1, 1, 1, 1, 1, 1, 10, 1, 1, 1, 10, 1, 1, 1, 1, 1, 1, 1, 1, 1, 1, 10, 1, 1, 1, 1, 1, 1, 1, 1, 1, 1, 10, 1, 1, 1, 1, 1, 1, 1, 1, 1, 1, 1, 10, 1, 1, 1, 1, 1, 1, 1, 1, 1, 1, 1], \"sizemode\": \"area\", \"sizeref\": 0.025, \"symbol\": \"circle\"}, \"mode\": \"markers\", \"name\": \"Cidade=Gramado\", \"showlegend\": true, \"type\": \"scatter\", \"x\": [4.94, 5.0, null, null, null, 4.83, 4.9, 4.67, null, 5.0, 5.0, 5.0, null, null, null, null, 4.67, null, 4.9, 4.67, null, 5.0, 5.0, 5.0, null, null, null, null, 4.67, null, null, null, 5.0, 5.0, null, 4.85, null, 5.0, null, null, null, 4.83, null, null, 4.75, null, null, 5.0, null, 4.67, null, null, 5.0, 5.0, null, null, 5.0, 5.0, null, 4.85, 5.0, null, null, 4.75, null, null, null, 4.83, 4.63, 4.75, 5.0, null, null, 5.0, null, 4.67, null, null, null, 5.0, 5.0, 4.88, null, null, null, null, 4.75, null, 4.63, 4.0, 4.88, null, null, null, 4.75, null, 4.63, 4.0, null, 5.0, 4.89, null, 4.33, null, 4.85, null, null, null, 4.63, 4.0, null, 5.0, 4.89, null, 4.33, null, 4.85, null, null, null, null, null, null, null, null, 4.67, 4.0, 4.89, 4.21, null, null, null, null, null, null, 4.89, null, null, 4.85, null, null, null, null, 4.67, null, null, null, 4.89, null, null, 4.85, null, null, null, null, 4.67, null, null, null, null, null, null], \"xaxis\": \"x\", \"y\": [847, 1919, 1581, 689, 217, 632, 1694, 1581, 717, 1637, 1705, 497, 271, 1272, 1095, 1705, 1581, 2156, 1694, 1581, 717, 1637, 1705, 497, 271, 1272, 1095, 1705, 1581, 2156, 632, 1502, 1409, 1004, 1445, 1750, 1705, 1409, 1272, 1095, 2450, 2371, 2156, 1445, 2879, 1863, 1524, 1004, 1524, 1581, 1502, 2038, 1095, 1242, 632, 1502, 1409, 1004, 1445, 1750, 1095, 1863, 1219, 1242, 1524, 1524, 1919, 2371, 2540, 2879, 2574, 2032, 1863, 1004, 1524, 1581, 1524, 1502, 2038, 1095, 1242, 3161, 1219, 2156, 926, 2032, 1242, 1919, 2540, 2089, 3161, 1219, 2032, 926, 1242, 1919, 2540, 2089, 2981, 2574, 2030, 1648, 2879, 1761, 1919, 2879, 711, 565, 2540, 2089, 2981, 2574, 2030, 1648, 2879, 1761, 1919, 2879, 711, 565, 1468, 2879, 1264, 2089, 2179, 2427, 2089, 2030, 1581, 1197, 711, 2089, 565, 2879, 1411, 2710, 2879, 1761, 1919, 4087, 2427, 2179, 4234, 2427, 565, 2879, 1411, 2710, 2879, 1761, 1919, 4087, 2427, 2179, 4234, 2427, 1558, 2195, 2427, 9817, 1976, 2258], \"yaxis\": \"y\"}, {\"customdata\": [[\"Tranquilidade em \\u00f3tima localiza\\u00e7\\u00e3o\"], [\"Moderno apartamento em Porto Alegre e seu sunset\"], [\"Apto 1 dorm, completo pr\\u00f3ximo a PUC e F\\u00f3rum PTN\"], [\"Conforto e natureza perto da Orla do Gua\\u00edba\"], [\"Consulado Americano, apto 1 dormit\\u00f3rio com garagem\"], [\"Aconchego e privacidade em Porto Alegre!\"], [\"No cora\\u00e7\\u00e3o e na tranquilidade da Cidade Baixa\"], [\"Aconchegante apezinho em Porto Alegre com garagem!\"], [\"Lindo Apartamento no Bom Fim\"], [\"O Melhor custo X benef\\u00edcio da Regi\\u00e3o.\"], [\"APTO LUXO CASAL\"], [\"Na melhor localiza\\u00e7\\u00e3o do Centro de Porto Alegre\"], [\"Apartamento de paz e sossego, perto de tudo\"], [\"Perto de tudo e fora do fervo do Centro Hist\\u00f3rico\"], [\"Apartamento NOVO 1 Quarto pr\\u00f3ximo \\u00e0 PUC\"], [\"Apto 1 quarto ao lado Pq Reden\\u00e7\\u00e3o, perto faculdade\"], [\"Centro Hist\\u00f3rico com vista para o lago.\"], [\"Apto na Santana\"], [\"No cora\\u00e7\\u00e3o e na tranquilidade da Cidade Baixa\"], [\"Lindo Apartamento no Bom Fim\"], [\"Aconchegante apezinho em Porto Alegre com garagem!\"], [\"O Melhor custo X benef\\u00edcio da Regi\\u00e3o.\"], [\"APTO LUXO CASAL\"], [\"Na melhor localiza\\u00e7\\u00e3o do Centro de Porto Alegre\"], [\"Apartamento de paz e sossego, perto de tudo\"], [\"Perto de tudo e fora do fervo do Centro Hist\\u00f3rico\"], [\"Apartamento NOVO 1 Quarto pr\\u00f3ximo \\u00e0 PUC\"], [\"Centro Hist\\u00f3rico com vista para o lago.\"], [\"Apto 1 quarto ao lado Pq Reden\\u00e7\\u00e3o, perto faculdade\"], [\"Apto na Santana\"], [\"Cobertura no Moinhos de Vento\"], [\"Apto c/ garagem pr\\u00f3ximo ao teatro S\\u00e3o Pedro\"], [\"Ap\\u00ea na \\u00e1rea Militar em frente QG Da Brigada/ wi fi\"], [\"Ap. na Zona Sul de POA - perto do Barra Shopping\"], [\"Apartamento pr\\u00f3ximo a Pra\\u00e7a da Encol\"], [\"Apartamento aconchegante e completo/Porto Alegre\"], [\"Apartamento NOVO 1 Quarto pr\\u00f3ximo \\u00e0 PUC\"], [\"Apartamento aconchegante e bem localizado!\"], [\"Apto 1 quarto ao lado Pq Reden\\u00e7\\u00e3o, perto faculdade\"], [\"Ap. na Zona Sul de POA - perto do Barra Shopping\"], [\"Excelente cobertura pr\\u00f3xima \\u00e0 PUC!\"], [\"Cobertura no Moinhos de Vento\"], [\"Lindo 1D no Menino Deus, pr\\u00f3x CB e Orla Gua\\u00edba!!\"], [\"Apartamento amplo pr\\u00f3ximo ao consulado americano\"], [\"Na melhor localiza\\u00e7\\u00e3o do Centro de Porto Alegre\"], [\"Apartamento de paz e sossego, perto de tudo\"], [\"Apto na Santana\"], [\"Apartamento com \\u00e1rea externa no Bairro Petr\\u00f3polis\"], [\"O Melhor custo X benef\\u00edcio da Regi\\u00e3o.\"], [\"Apartamento com dois quartos (1 su\\u00edte)\"], [\"Aconchegante ap\\u00ea perto de tudo\"], [\"Apartamento aconchegante 1 dormit\\u00f3rio c/garagem!\"], [\"Apto perto da Universidade Federal e de lazer.\"], [\"Apartamento Funcional no Centro\"], [\"Lindo 1D no Menino Deus, pr\\u00f3x CB e Orla Gua\\u00edba!!\"], [\"Apartamento amplo pr\\u00f3ximo ao consulado americano\"], [\"Na melhor localiza\\u00e7\\u00e3o do Centro de Porto Alegre\"], [\"Apartamento de paz e sossego, perto de tudo\"], [\"Apto na Santana\"], [\"Apartamento com \\u00e1rea externa no Bairro Petr\\u00f3polis\"], [\"O Melhor custo X benef\\u00edcio da Regi\\u00e3o.\"], [\"Apartamento com dois quartos (1 su\\u00edte)\"], [\"Aconchegante ap\\u00ea perto de tudo\"], [\"Apartamento aconchegante 1 dormit\\u00f3rio c/garagem!\"], [\"Apto perto da Universidade Federal e de lazer.\"], [\"Apartamento Funcional no Centro\"], [\"Apartamento no centro de Porto Alegre.\"], [\"Centro Hist\\u00f3rico com vista para o lago.\"], [\"\\u00d3timo apto no Centro Hist\\u00f3rico e Orla do Gua\\u00edba\"], [\"Apto executivo AJURIS, F\\u00f3rum, Beira-rio c/ garagem\"], [\"Apto agrad\\u00e1vel e muito bem localizado.\"], [\"Apartamento aconchegante e completo/Porto Alegre\"], [\"O Melhor custo X benef\\u00edcio da Regi\\u00e3o.\"], [\"Apartamento com dois quartos (1 su\\u00edte)\"], [\"Aconchegante ap\\u00ea perto de tudo\"], [\"Apartamento aconchegante 1 dormit\\u00f3rio c/garagem!\"], [\"Apto perto da Universidade Federal e de lazer.\"], [\"Apartamento Funcional no Centro\"], [\"Apartamento no centro de Porto Alegre.\"], [\"Centro Hist\\u00f3rico com vista para o lago.\"], [\"\\u00d3timo apto no Centro Hist\\u00f3rico e Orla do Gua\\u00edba\"], [\"Apto executivo AJURIS, F\\u00f3rum, Beira-rio c/ garagem\"], [\"Apto agrad\\u00e1vel e muito bem localizado.\"], [\"Apartamento aconchegante e completo/Porto Alegre\"], [\"Loft (no Barra Shopping Sul) com vista espetacular\"], [\"Apartamento Centro Hist\\u00f3rico perto Orla do Gua\\u00edba\"], [\"Aconchego com vista para o rio\"], [\"Aconchegante apto no Sta. Cec\\u00edlia/Petr\\u00f3polis!\"], [\"Studio na melhor regi\\u00e3o do Centro de POA\"], [\"Apto c/ garagem pr\\u00f3ximo ao teatro S\\u00e3o Pedro\"], [\"Apto agrad\\u00e1vel e muito bem localizado.\"], [\"Apartamento Funcional no Centro\"], [\"\\u00d3timo apto no Centro Hist\\u00f3rico e Orla do Gua\\u00edba\"], [\"Centro Hist\\u00f3rico com vista para o lago.\"], [\"Aconchegante apto no Sta. Cec\\u00edlia/Petr\\u00f3polis!\"], [\"Apto executivo AJURIS, F\\u00f3rum, Beira-rio c/ garagem\"], [\"Apartamento Centro Hist\\u00f3rico perto Orla do Gua\\u00edba\"], [\"Apartamento aconchegante e completo/Porto Alegre\"], [\"Aconchego com vista para o rio\"], [\"Apto. Inteiro no Centro\"], [\"Apto c/ garagem pr\\u00f3ximo ao teatro S\\u00e3o Pedro\"], [\"Loft (no Barra Shopping Sul) com vista espetacular\"], [\"Studio na melhor regi\\u00e3o do Centro de POA\"], [\"APARTAMENTO no Menino Deus\"], [\"LINDO AP C/ GARAGEM C. BAIXA UFRGS STA CASA CAFF\"], [\"Apartamento pr\\u00f3ximo a Pra\\u00e7a da Encol\"], [\"\\u00d3timo apto perto iguatemi e unisinos! Portaria 24h\"], [\"Belo AP C/ garagem CID. BAIXA Prox UFRGS Sta Casa\"], [\"LINDO AP C/ GARAGEM C. BAIXA UFRGS STA CASA CAFF\"], [\"Tranquilidade\"], [\"APARTAMENTO no Menino Deus\"], [\"Aconchegante e Silencioso Ap. Centro Hist\\u00f3rico-Poa\"], [\"Apartamento Studio Mobiliado e Bem Localizado\"], [\"Belo AP C/ garagem CID. BAIXA Prox UFRGS Sta Casa\"], [\"Apto. Inteiro no Centro\"], [\"Apartamento aconchegante 1 dormit\\u00f3rio c/garagem!\"], [\"Apartamento com \\u00e1rea externa no Bairro Petr\\u00f3polis\"], [\"\\u00d3timo apto perto iguatemi e unisinos! Portaria 24h\"], [\"Viva a Cidade Baixa\"], [\"Lindo apto entre Centro e Cidade Baixa - c/garagem\"], [\"Apartamento Funcional no Centro\"], [\"Quer ter acesso r\\u00e1pido a tudo?\"], [\"Apto executivo AJURIS, F\\u00f3rum, Beira-rio c/ garagem\"], [\"Apartamento com \\u00f3tima localiza\\u00e7\\u00e3o (Lima e Silva).\"], [\"Confort\\u00e1vel est\\u00fadio no Centro Hist\\u00f3rico\"], [\"Charmoso Apartamento Centro/Cidadebaixa\"], [\"Apto. Inteiro no Centro\"], [\"Apartamento aconchegante 1 dormit\\u00f3rio c/garagem!\"], [\"Apartamento com \\u00e1rea externa no Bairro Petr\\u00f3polis\"], [\"\\u00d3timo apto perto iguatemi e unisinos! Portaria 24h\"], [\"Viva a Cidade Baixa\"], [\"Lindo apto entre Centro e Cidade Baixa - c/garagem\"], [\"Apartamento Funcional no Centro\"], [\"Quer ter acesso r\\u00e1pido a tudo?\"], [\"Apto executivo AJURIS, F\\u00f3rum, Beira-rio c/ garagem\"], [\"Apartamento com \\u00f3tima localiza\\u00e7\\u00e3o (Lima e Silva).\"], [\"Confort\\u00e1vel est\\u00fadio no Centro Hist\\u00f3rico\"], [\"Charmoso Apartamento Centro/Cidadebaixa\"], [\"Belo apartamento quarto e sala bem localizado\"], [\"Apto agrad\\u00e1vel e muito bem localizado.\"], [\"Charmoso studio na Cidade Baixa.\"], [\"Lar central minimalista cidade baixa c/fliperama.\"], [\"Apartamento - 7\"], [\"Your cool&cozy place near the airport in P Alegre\"], [\"Loft de Cinema no Centro (Pra\\u00e7a da Matriz)\"], [\"APTO. CENTRO HIST\\u00d3RICO - APARTMENT DOWNTOWN\"], [\"Apartamento no cora\\u00e7\\u00e3o do Centro Hist\\u00f3rico com box\"], [\"APARTAMENTO ESPETACULAR\"], [\"Conforto e Praticidade 2 dorm para Fam\\u00edlia\"], [\"Tranquilidade\"], [\"Charmoso Apartamento Centro/Cidadebaixa\"], [\"Quer ter acesso r\\u00e1pido a tudo?\"], [\"Studio c/200MB, Netflix e split: no centro de Poa.\"], [\"Aconchego no M. Deus, 3D, 2 vagas p/carro, 2B, 6P\"], [\"Lindo apto entre Centro e Cidade Baixa - c/garagem\"], [\"Comodidade e conforto (com amplo terra\\u00e7o)\"], [\"Apartamento no cora\\u00e7\\u00e3o do Centro Hist\\u00f3rico\"], [\"Muito al\\u00e9m de uma cama \\u2013 Ap\\u00ea inteiro estiloso\"], [\"Aconchegante e Silencioso Ap. Centro Hist\\u00f3rico-Poa\"], [\"Confort\\u00e1vel est\\u00fadio no Centro Hist\\u00f3rico\"], [\"Viva a Cidade Baixa\"], [\"Apartamento SHOW Menino Deus\"]], \"hoverlabel\": {\"namelength\": 0}, \"hovertemplate\": \"Cidade=Porto Alegre<br>Nota=%{x}<br>Valor=%{y}<br>Size=%{marker.size}<br>Nome=%{customdata[0]}\", \"legendgroup\": \"Cidade=Porto Alegre\", \"marker\": {\"color\": \"#EF553B\", \"size\": [1, 10, 1, 10, 1, 10, 10, 1, 10, 1, 10, 1, 1, 10, 1, 1, 10, 10, 10, 10, 1, 1, 10, 1, 1, 10, 1, 10, 1, 10, 1, 1, 10, 1, 10, 10, 1, 10, 1, 1, 10, 1, 10, 1, 1, 1, 10, 10, 1, 10, 10, 10, 10, 1, 10, 1, 1, 1, 10, 10, 1, 10, 10, 10, 10, 1, 10, 10, 10, 10, 1, 10, 1, 10, 10, 10, 10, 1, 10, 10, 10, 10, 1, 10, 1, 1, 1, 10, 1, 1, 1, 1, 10, 10, 10, 10, 1, 10, 1, 10, 1, 1, 1, 1, 10, 10, 10, 10, 10, 10, 1, 10, 1, 10, 10, 10, 10, 10, 10, 10, 1, 1, 10, 10, 10, 1, 10, 10, 10, 10, 10, 10, 1, 1, 10, 10, 10, 1, 10, 1, 10, 10, 10, 1, 1, 10, 10, 1, 10, 10, 1, 1, 1, 10, 10, 10, 1, 10, 10, 10, 10, 1], \"sizemode\": \"area\", \"sizeref\": 0.025, \"symbol\": \"circle\"}, \"mode\": \"markers\", \"name\": \"Cidade=Porto Alegre\", \"showlegend\": true, \"type\": \"scatter\", \"x\": [null, 4.9, 4.14, 5.0, 5.0, 4.7, 4.98, 5.0, 5.0, null, 4.98, 4.92, 4.75, 4.86, 5.0, 4.8, 4.81, 4.82, 4.98, 5.0, 5.0, null, 4.98, 4.92, 4.75, 4.86, 5.0, 4.81, 4.8, 4.82, 4.95, 5.0, 4.81, 4.74, 5.0, 4.93, 5.0, 4.86, 4.8, 4.74, 4.94, 4.95, 4.96, 4.68, 4.92, 4.75, 4.82, 5.0, null, 5.0, 4.89, 4.89, 4.77, null, 4.96, 4.68, 4.92, 4.75, 4.82, 5.0, null, 5.0, 4.89, 4.89, 4.77, null, 4.83, 4.81, 4.85, 4.86, 4.75, 4.93, null, 5.0, 4.89, 4.89, 4.77, null, 4.83, 4.81, 4.85, 4.86, 4.75, 4.93, 4.57, null, 4.67, 5.0, 5.0, 5.0, 4.75, null, 4.85, 4.81, 5.0, 4.86, null, 4.93, 4.67, 4.93, 5.0, 4.57, 5.0, 4.77, 4.91, 5.0, 4.98, 4.86, 4.91, 4.93, 4.77, 4.97, 4.64, 4.86, 4.93, 4.89, 5.0, 4.98, 5.0, 4.84, null, null, 4.86, 4.9, 5.0, 4.62, 4.93, 4.89, 5.0, 4.98, 5.0, 4.84, null, null, 4.86, 4.9, 5.0, 4.62, 4.82, 4.75, 4.95, 4.88, 4.71, 4.7, 4.69, 4.83, 5.0, 4.96, 4.95, 4.93, 4.62, null, 5.0, 4.95, 4.84, 4.92, 4.9, 5.0, 4.97, 5.0, 5.0, null], \"xaxis\": \"x\", \"y\": [203, 271, 112, 336, 250, 203, 242, 271, 352, 339, 497, 255, 235, 393, 305, 289, 452, 294, 242, 352, 271, 339, 497, 255, 235, 393, 305, 452, 289, 294, 585, 308, 260, 282, 226, 298, 305, 257, 289, 282, 291, 585, 327, 327, 255, 235, 294, 333, 339, 497, 305, 361, 210, 242, 327, 327, 255, 235, 294, 333, 339, 497, 305, 361, 210, 242, 220, 452, 257, 373, 271, 298, 339, 497, 305, 361, 210, 242, 220, 452, 257, 373, 271, 298, 598, 253, 339, 226, 237, 308, 271, 242, 257, 452, 226, 373, 253, 298, 339, 260, 308, 598, 237, 406, 322, 226, 465, 317, 322, 192, 406, 339, 181, 317, 260, 361, 333, 465, 350, 327, 242, 178, 373, 271, 248, 246, 260, 361, 333, 465, 350, 327, 242, 178, 373, 271, 248, 246, 339, 271, 263, 272, 406, 418, 305, 192, 395, 677, 373, 192, 246, 178, 265, 393, 327, 488, 422, 256, 339, 248, 350, 339], \"yaxis\": \"y\"}],\n",
       "                        {\"height\": 600, \"legend\": {\"itemsizing\": \"constant\", \"tracegroupgap\": 0}, \"margin\": {\"t\": 60}, \"template\": {\"data\": {\"bar\": [{\"error_x\": {\"color\": \"#2a3f5f\"}, \"error_y\": {\"color\": \"#2a3f5f\"}, \"marker\": {\"line\": {\"color\": \"#E5ECF6\", \"width\": 0.5}}, \"type\": \"bar\"}], \"barpolar\": [{\"marker\": {\"line\": {\"color\": \"#E5ECF6\", \"width\": 0.5}}, \"type\": \"barpolar\"}], \"carpet\": [{\"aaxis\": {\"endlinecolor\": \"#2a3f5f\", \"gridcolor\": \"white\", \"linecolor\": \"white\", \"minorgridcolor\": \"white\", \"startlinecolor\": \"#2a3f5f\"}, \"baxis\": {\"endlinecolor\": \"#2a3f5f\", \"gridcolor\": \"white\", \"linecolor\": \"white\", \"minorgridcolor\": \"white\", \"startlinecolor\": \"#2a3f5f\"}, \"type\": \"carpet\"}], \"choropleth\": [{\"colorbar\": {\"outlinewidth\": 0, \"ticks\": \"\"}, \"type\": \"choropleth\"}], \"contour\": [{\"colorbar\": {\"outlinewidth\": 0, \"ticks\": \"\"}, \"colorscale\": [[0.0, \"#0d0887\"], [0.1111111111111111, \"#46039f\"], [0.2222222222222222, \"#7201a8\"], [0.3333333333333333, \"#9c179e\"], [0.4444444444444444, \"#bd3786\"], [0.5555555555555556, \"#d8576b\"], [0.6666666666666666, \"#ed7953\"], [0.7777777777777778, \"#fb9f3a\"], [0.8888888888888888, \"#fdca26\"], [1.0, \"#f0f921\"]], \"type\": \"contour\"}], \"contourcarpet\": [{\"colorbar\": {\"outlinewidth\": 0, \"ticks\": \"\"}, \"type\": \"contourcarpet\"}], \"heatmap\": [{\"colorbar\": {\"outlinewidth\": 0, \"ticks\": \"\"}, \"colorscale\": [[0.0, \"#0d0887\"], [0.1111111111111111, \"#46039f\"], [0.2222222222222222, \"#7201a8\"], [0.3333333333333333, \"#9c179e\"], [0.4444444444444444, \"#bd3786\"], [0.5555555555555556, \"#d8576b\"], [0.6666666666666666, \"#ed7953\"], [0.7777777777777778, \"#fb9f3a\"], [0.8888888888888888, \"#fdca26\"], [1.0, \"#f0f921\"]], \"type\": \"heatmap\"}], \"heatmapgl\": [{\"colorbar\": {\"outlinewidth\": 0, \"ticks\": \"\"}, \"colorscale\": [[0.0, \"#0d0887\"], [0.1111111111111111, \"#46039f\"], [0.2222222222222222, \"#7201a8\"], [0.3333333333333333, \"#9c179e\"], [0.4444444444444444, \"#bd3786\"], [0.5555555555555556, \"#d8576b\"], [0.6666666666666666, \"#ed7953\"], [0.7777777777777778, \"#fb9f3a\"], [0.8888888888888888, \"#fdca26\"], [1.0, \"#f0f921\"]], \"type\": \"heatmapgl\"}], \"histogram\": [{\"marker\": {\"colorbar\": {\"outlinewidth\": 0, \"ticks\": \"\"}}, \"type\": \"histogram\"}], \"histogram2d\": [{\"colorbar\": {\"outlinewidth\": 0, \"ticks\": \"\"}, \"colorscale\": [[0.0, \"#0d0887\"], [0.1111111111111111, \"#46039f\"], [0.2222222222222222, \"#7201a8\"], [0.3333333333333333, \"#9c179e\"], [0.4444444444444444, \"#bd3786\"], [0.5555555555555556, \"#d8576b\"], [0.6666666666666666, \"#ed7953\"], [0.7777777777777778, \"#fb9f3a\"], [0.8888888888888888, \"#fdca26\"], [1.0, \"#f0f921\"]], \"type\": \"histogram2d\"}], \"histogram2dcontour\": [{\"colorbar\": {\"outlinewidth\": 0, \"ticks\": \"\"}, \"colorscale\": [[0.0, \"#0d0887\"], [0.1111111111111111, \"#46039f\"], [0.2222222222222222, \"#7201a8\"], [0.3333333333333333, \"#9c179e\"], [0.4444444444444444, \"#bd3786\"], [0.5555555555555556, \"#d8576b\"], [0.6666666666666666, \"#ed7953\"], [0.7777777777777778, \"#fb9f3a\"], [0.8888888888888888, \"#fdca26\"], [1.0, \"#f0f921\"]], \"type\": \"histogram2dcontour\"}], \"mesh3d\": [{\"colorbar\": {\"outlinewidth\": 0, \"ticks\": \"\"}, \"type\": \"mesh3d\"}], \"parcoords\": [{\"line\": {\"colorbar\": {\"outlinewidth\": 0, \"ticks\": \"\"}}, \"type\": \"parcoords\"}], \"scatter\": [{\"marker\": {\"colorbar\": {\"outlinewidth\": 0, \"ticks\": \"\"}}, \"type\": \"scatter\"}], \"scatter3d\": [{\"line\": {\"colorbar\": {\"outlinewidth\": 0, \"ticks\": \"\"}}, \"marker\": {\"colorbar\": {\"outlinewidth\": 0, \"ticks\": \"\"}}, \"type\": \"scatter3d\"}], \"scattercarpet\": [{\"marker\": {\"colorbar\": {\"outlinewidth\": 0, \"ticks\": \"\"}}, \"type\": \"scattercarpet\"}], \"scattergeo\": [{\"marker\": {\"colorbar\": {\"outlinewidth\": 0, \"ticks\": \"\"}}, \"type\": \"scattergeo\"}], \"scattergl\": [{\"marker\": {\"colorbar\": {\"outlinewidth\": 0, \"ticks\": \"\"}}, \"type\": \"scattergl\"}], \"scattermapbox\": [{\"marker\": {\"colorbar\": {\"outlinewidth\": 0, \"ticks\": \"\"}}, \"type\": \"scattermapbox\"}], \"scatterpolar\": [{\"marker\": {\"colorbar\": {\"outlinewidth\": 0, \"ticks\": \"\"}}, \"type\": \"scatterpolar\"}], \"scatterpolargl\": [{\"marker\": {\"colorbar\": {\"outlinewidth\": 0, \"ticks\": \"\"}}, \"type\": \"scatterpolargl\"}], \"scatterternary\": [{\"marker\": {\"colorbar\": {\"outlinewidth\": 0, \"ticks\": \"\"}}, \"type\": \"scatterternary\"}], \"surface\": [{\"colorbar\": {\"outlinewidth\": 0, \"ticks\": \"\"}, \"colorscale\": [[0.0, \"#0d0887\"], [0.1111111111111111, \"#46039f\"], [0.2222222222222222, \"#7201a8\"], [0.3333333333333333, \"#9c179e\"], [0.4444444444444444, \"#bd3786\"], [0.5555555555555556, \"#d8576b\"], [0.6666666666666666, \"#ed7953\"], [0.7777777777777778, \"#fb9f3a\"], [0.8888888888888888, \"#fdca26\"], [1.0, \"#f0f921\"]], \"type\": \"surface\"}], \"table\": [{\"cells\": {\"fill\": {\"color\": \"#EBF0F8\"}, \"line\": {\"color\": \"white\"}}, \"header\": {\"fill\": {\"color\": \"#C8D4E3\"}, \"line\": {\"color\": \"white\"}}, \"type\": \"table\"}]}, \"layout\": {\"annotationdefaults\": {\"arrowcolor\": \"#2a3f5f\", \"arrowhead\": 0, \"arrowwidth\": 1}, \"colorscale\": {\"diverging\": [[0, \"#8e0152\"], [0.1, \"#c51b7d\"], [0.2, \"#de77ae\"], [0.3, \"#f1b6da\"], [0.4, \"#fde0ef\"], [0.5, \"#f7f7f7\"], [0.6, \"#e6f5d0\"], [0.7, \"#b8e186\"], [0.8, \"#7fbc41\"], [0.9, \"#4d9221\"], [1, \"#276419\"]], \"sequential\": [[0.0, \"#0d0887\"], [0.1111111111111111, \"#46039f\"], [0.2222222222222222, \"#7201a8\"], [0.3333333333333333, \"#9c179e\"], [0.4444444444444444, \"#bd3786\"], [0.5555555555555556, \"#d8576b\"], [0.6666666666666666, \"#ed7953\"], [0.7777777777777778, \"#fb9f3a\"], [0.8888888888888888, \"#fdca26\"], [1.0, \"#f0f921\"]], \"sequentialminus\": [[0.0, \"#0d0887\"], [0.1111111111111111, \"#46039f\"], [0.2222222222222222, \"#7201a8\"], [0.3333333333333333, \"#9c179e\"], [0.4444444444444444, \"#bd3786\"], [0.5555555555555556, \"#d8576b\"], [0.6666666666666666, \"#ed7953\"], [0.7777777777777778, \"#fb9f3a\"], [0.8888888888888888, \"#fdca26\"], [1.0, \"#f0f921\"]]}, \"colorway\": [\"#636efa\", \"#EF553B\", \"#00cc96\", \"#ab63fa\", \"#FFA15A\", \"#19d3f3\", \"#FF6692\", \"#B6E880\", \"#FF97FF\", \"#FECB52\"], \"font\": {\"color\": \"#2a3f5f\"}, \"geo\": {\"bgcolor\": \"white\", \"lakecolor\": \"white\", \"landcolor\": \"#E5ECF6\", \"showlakes\": true, \"showland\": true, \"subunitcolor\": \"white\"}, \"hoverlabel\": {\"align\": \"left\"}, \"hovermode\": \"closest\", \"mapbox\": {\"style\": \"light\"}, \"paper_bgcolor\": \"white\", \"plot_bgcolor\": \"#E5ECF6\", \"polar\": {\"angularaxis\": {\"gridcolor\": \"white\", \"linecolor\": \"white\", \"ticks\": \"\"}, \"bgcolor\": \"#E5ECF6\", \"radialaxis\": {\"gridcolor\": \"white\", \"linecolor\": \"white\", \"ticks\": \"\"}}, \"scene\": {\"xaxis\": {\"backgroundcolor\": \"#E5ECF6\", \"gridcolor\": \"white\", \"gridwidth\": 2, \"linecolor\": \"white\", \"showbackground\": true, \"ticks\": \"\", \"zerolinecolor\": \"white\"}, \"yaxis\": {\"backgroundcolor\": \"#E5ECF6\", \"gridcolor\": \"white\", \"gridwidth\": 2, \"linecolor\": \"white\", \"showbackground\": true, \"ticks\": \"\", \"zerolinecolor\": \"white\"}, \"zaxis\": {\"backgroundcolor\": \"#E5ECF6\", \"gridcolor\": \"white\", \"gridwidth\": 2, \"linecolor\": \"white\", \"showbackground\": true, \"ticks\": \"\", \"zerolinecolor\": \"white\"}}, \"shapedefaults\": {\"line\": {\"color\": \"#2a3f5f\"}}, \"ternary\": {\"aaxis\": {\"gridcolor\": \"white\", \"linecolor\": \"white\", \"ticks\": \"\"}, \"baxis\": {\"gridcolor\": \"white\", \"linecolor\": \"white\", \"ticks\": \"\"}, \"bgcolor\": \"#E5ECF6\", \"caxis\": {\"gridcolor\": \"white\", \"linecolor\": \"white\", \"ticks\": \"\"}}, \"title\": {\"x\": 0.05}, \"xaxis\": {\"automargin\": true, \"gridcolor\": \"white\", \"linecolor\": \"white\", \"ticks\": \"\", \"zerolinecolor\": \"white\", \"zerolinewidth\": 2}, \"yaxis\": {\"automargin\": true, \"gridcolor\": \"white\", \"linecolor\": \"white\", \"ticks\": \"\", \"zerolinecolor\": \"white\", \"zerolinewidth\": 2}}}, \"xaxis\": {\"anchor\": \"y\", \"domain\": [0.0, 0.98], \"title\": {\"text\": \"Nota\"}}, \"yaxis\": {\"anchor\": \"x\", \"domain\": [0.0, 1.0], \"title\": {\"text\": \"Valor\"}}},\n",
       "                        {\"responsive\": true}\n",
       "                    ).then(function(){\n",
       "                            \n",
       "var gd = document.getElementById('8052b87b-a543-4ea5-9c35-812e2395a59c');\n",
       "var x = new MutationObserver(function (mutations, observer) {{\n",
       "        var display = window.getComputedStyle(gd).display;\n",
       "        if (!display || display === 'none') {{\n",
       "            console.log([gd, 'removed!']);\n",
       "            Plotly.purge(gd);\n",
       "            observer.disconnect();\n",
       "        }}\n",
       "}});\n",
       "\n",
       "// Listen for the removal of the full notebook cells\n",
       "var notebookContainer = gd.closest('#notebook-container');\n",
       "if (notebookContainer) {{\n",
       "    x.observe(notebookContainer, {childList: true});\n",
       "}}\n",
       "\n",
       "// Listen for the clearing of the current output cell\n",
       "var outputEl = gd.closest('.output');\n",
       "if (outputEl) {{\n",
       "    x.observe(outputEl, {childList: true});\n",
       "}}\n",
       "\n",
       "                        })\n",
       "                };\n",
       "                });\n",
       "            </script>\n",
       "        </div>"
      ]
     },
     "metadata": {},
     "output_type": "display_data"
    },
    {
     "data": {
      "text/plain": [
       "<Figure size 720x720 with 0 Axes>"
      ]
     },
     "metadata": {},
     "output_type": "display_data"
    }
   ],
   "source": [
    "import seaborn as sns; sns.set()\n",
    "import matplotlib.pyplot as plt\n",
    "df1 =df\n",
    "df1['Nota'].fillna(-1,inplace=True)\n",
    "df1[[\"Valor\", \"Nota\"]] = df1[[\"Valor\", \"Nota\"]].apply(pd.to_numeric)\n",
    "df1['Color'] = df1['SuperHost'].apply(lambda x: str(x).replace('True','0').replace('False','1'))\n",
    "df1['Size'] = df1['SuperHost'].apply(lambda x: 10 if x == True else 1)\n",
    "display(df1.head(5))\n",
    "print('quantidade',len(df1))\n",
    "plt.figure(figsize=(10,10))\n",
    "\n",
    "#ax = sns.scatterplot(x=\"Nota\", y=\"Valor\", hue=\"SuperHost\",data=df1)\n",
    "\n",
    "\n",
    "import plotly.express as px\n",
    "fig = px.scatter(df1, x=\"Nota\", y=\"Valor\", color=\"Cidade\",size='Size'\n",
    "                 , hover_data=['Nome'])\n",
    "fig.show()"
   ]
  },
  {
   "cell_type": "code",
   "execution_count": null,
   "metadata": {},
   "outputs": [],
   "source": []
  },
  {
   "cell_type": "code",
   "execution_count": null,
   "metadata": {},
   "outputs": [],
   "source": []
  },
  {
   "cell_type": "code",
   "execution_count": null,
   "metadata": {},
   "outputs": [],
   "source": []
  },
  {
   "cell_type": "code",
   "execution_count": null,
   "metadata": {},
   "outputs": [],
   "source": []
  },
  {
   "cell_type": "code",
   "execution_count": null,
   "metadata": {},
   "outputs": [],
   "source": []
  },
  {
   "cell_type": "code",
   "execution_count": null,
   "metadata": {},
   "outputs": [],
   "source": []
  },
  {
   "cell_type": "code",
   "execution_count": null,
   "metadata": {},
   "outputs": [],
   "source": []
  }
 ],
 "metadata": {
  "kernelspec": {
   "display_name": "Python 3",
   "language": "python",
   "name": "python3"
  },
  "language_info": {
   "codemirror_mode": {
    "name": "ipython",
    "version": 3
   },
   "file_extension": ".py",
   "mimetype": "text/x-python",
   "name": "python",
   "nbconvert_exporter": "python",
   "pygments_lexer": "ipython3",
   "version": "3.7.3"
  }
 },
 "nbformat": 4,
 "nbformat_minor": 2
}
