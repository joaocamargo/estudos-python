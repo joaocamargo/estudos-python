{
 "cells": [
  {
   "cell_type": "code",
   "execution_count": 38,
   "metadata": {},
   "outputs": [],
   "source": [
    "import pandas as pd\n",
    "import numpy as np"
   ]
  },
  {
   "cell_type": "code",
   "execution_count": 39,
   "metadata": {},
   "outputs": [],
   "source": [
    "def calculaPorDia(x):    \n",
    "    #print(x[3]/x[6].days)\n",
    "    #print(x[3],'',x[7])\n",
    "    return x[3]/x[7].days\n"
   ]
  },
  {
   "cell_type": "code",
   "execution_count": 40,
   "metadata": {
    "scrolled": false
   },
   "outputs": [],
   "source": [
    "hotels = []\n",
    "#filename = 'hotels-in-Veneza.txt'\n",
    "#filename = 'hotels-in-Zurich.txt'\n",
    "filename = 'hotels-in-Munich.txt'\n",
    "#filename = 'hotels-in-Lucerna.txt'\n",
    "\n",
    "with open(filename) as f:\n",
    "    for line in f:\n",
    "        if len(line)>10:\n",
    "            hotels.append([str(n.replace('\\xa0','').replace('\"','').replace('[','').replace(']','')) for n in line.strip().split(';')])\n",
    "            #print(line)"
   ]
  },
  {
   "cell_type": "code",
   "execution_count": 41,
   "metadata": {},
   "outputs": [],
   "source": [
    "import datetime\n",
    "hotelDict = []\n",
    "for i in hotels:\n",
    "    #print(i[0][3:5])\n",
    "    dtIni = datetime.datetime(int(i[0][6:10]), int(i[0][3:5]), int(i[0][0:2]), 0, 0, 0)\n",
    "    dtEnd = datetime.datetime(int(i[1][6:10]), int(i[1][3:5]), int(i[1][0:2]), 0, 0, 0)\n",
    "    hotelDict.append({'de':dtIni,'ate':dtEnd,'nome':i[2],'preco':i[3],'nota':i[4],'distancia':i[5],'url':i[6]})"
   ]
  },
  {
   "cell_type": "code",
   "execution_count": 42,
   "metadata": {},
   "outputs": [
    {
     "data": {
      "text/html": [
       "<div>\n",
       "<style scoped>\n",
       "    .dataframe tbody tr th:only-of-type {\n",
       "        vertical-align: middle;\n",
       "    }\n",
       "\n",
       "    .dataframe tbody tr th {\n",
       "        vertical-align: top;\n",
       "    }\n",
       "\n",
       "    .dataframe thead th {\n",
       "        text-align: right;\n",
       "    }\n",
       "</style>\n",
       "<table border=\"1\" class=\"dataframe\">\n",
       "  <thead>\n",
       "    <tr style=\"text-align: right;\">\n",
       "      <th></th>\n",
       "      <th>preco</th>\n",
       "      <th>dias</th>\n",
       "      <th>precoPorNoite</th>\n",
       "    </tr>\n",
       "  </thead>\n",
       "  <tbody>\n",
       "    <tr>\n",
       "      <th>count</th>\n",
       "      <td>425.000000</td>\n",
       "      <td>425</td>\n",
       "      <td>425.000000</td>\n",
       "    </tr>\n",
       "    <tr>\n",
       "      <th>mean</th>\n",
       "      <td>2837.091765</td>\n",
       "      <td>4 days 00:00:00</td>\n",
       "      <td>709.272941</td>\n",
       "    </tr>\n",
       "    <tr>\n",
       "      <th>std</th>\n",
       "      <td>1052.008456</td>\n",
       "      <td>0 days 00:00:00</td>\n",
       "      <td>263.002114</td>\n",
       "    </tr>\n",
       "    <tr>\n",
       "      <th>min</th>\n",
       "      <td>536.000000</td>\n",
       "      <td>4 days 00:00:00</td>\n",
       "      <td>134.000000</td>\n",
       "    </tr>\n",
       "    <tr>\n",
       "      <th>25%</th>\n",
       "      <td>2312.000000</td>\n",
       "      <td>4 days 00:00:00</td>\n",
       "      <td>578.000000</td>\n",
       "    </tr>\n",
       "    <tr>\n",
       "      <th>50%</th>\n",
       "      <td>2763.000000</td>\n",
       "      <td>4 days 00:00:00</td>\n",
       "      <td>690.750000</td>\n",
       "    </tr>\n",
       "    <tr>\n",
       "      <th>75%</th>\n",
       "      <td>3336.000000</td>\n",
       "      <td>4 days 00:00:00</td>\n",
       "      <td>834.000000</td>\n",
       "    </tr>\n",
       "    <tr>\n",
       "      <th>max</th>\n",
       "      <td>5686.000000</td>\n",
       "      <td>4 days 00:00:00</td>\n",
       "      <td>1421.500000</td>\n",
       "    </tr>\n",
       "  </tbody>\n",
       "</table>\n",
       "</div>"
      ],
      "text/plain": [
       "             preco             dias  precoPorNoite\n",
       "count   425.000000              425     425.000000\n",
       "mean   2837.091765  4 days 00:00:00     709.272941\n",
       "std    1052.008456  0 days 00:00:00     263.002114\n",
       "min     536.000000  4 days 00:00:00     134.000000\n",
       "25%    2312.000000  4 days 00:00:00     578.000000\n",
       "50%    2763.000000  4 days 00:00:00     690.750000\n",
       "75%    3336.000000  4 days 00:00:00     834.000000\n",
       "max    5686.000000  4 days 00:00:00    1421.500000"
      ]
     },
     "metadata": {},
     "output_type": "display_data"
    }
   ],
   "source": [
    "df = pd.DataFrame(hotelDict)\n",
    "df.drop_duplicates(inplace = True) \n",
    "df = df[df['preco']>'-1']\n",
    "df['preco'].replace(regex=True,inplace=True,to_replace=r'\\D',value=r'')\n",
    "df['preco'] = pd.to_numeric(df['preco'])\n",
    "df['dias'] = (df['ate']-df['de']).replace(regex=True,to_replace=r'\\D',value=r'')\n",
    "df[\"precoPorNoite\"] = df.apply(calculaPorDia,axis=1)\n",
    "display(df.describe())\n"
   ]
  },
  {
   "cell_type": "code",
   "execution_count": 43,
   "metadata": {},
   "outputs": [
    {
     "data": {
      "text/html": [
       "<div>\n",
       "<style scoped>\n",
       "    .dataframe tbody tr th:only-of-type {\n",
       "        vertical-align: middle;\n",
       "    }\n",
       "\n",
       "    .dataframe tbody tr th {\n",
       "        vertical-align: top;\n",
       "    }\n",
       "\n",
       "    .dataframe thead th {\n",
       "        text-align: right;\n",
       "    }\n",
       "</style>\n",
       "<table border=\"1\" class=\"dataframe\">\n",
       "  <thead>\n",
       "    <tr style=\"text-align: right;\">\n",
       "      <th></th>\n",
       "      <th>preco</th>\n",
       "      <th>nota</th>\n",
       "      <th>dias</th>\n",
       "      <th>precoPorNoite</th>\n",
       "      <th>distanciaMetros</th>\n",
       "    </tr>\n",
       "  </thead>\n",
       "  <tbody>\n",
       "    <tr>\n",
       "      <th>count</th>\n",
       "      <td>93.000000</td>\n",
       "      <td>93.000000</td>\n",
       "      <td>93</td>\n",
       "      <td>93.000000</td>\n",
       "      <td>93.000000</td>\n",
       "    </tr>\n",
       "    <tr>\n",
       "      <th>mean</th>\n",
       "      <td>2754.526882</td>\n",
       "      <td>8.201075</td>\n",
       "      <td>4 days 00:00:00</td>\n",
       "      <td>688.631720</td>\n",
       "      <td>1152.150538</td>\n",
       "    </tr>\n",
       "    <tr>\n",
       "      <th>std</th>\n",
       "      <td>813.671692</td>\n",
       "      <td>0.337347</td>\n",
       "      <td>0 days 00:00:00</td>\n",
       "      <td>203.417923</td>\n",
       "      <td>390.506498</td>\n",
       "    </tr>\n",
       "    <tr>\n",
       "      <th>min</th>\n",
       "      <td>1111.000000</td>\n",
       "      <td>7.800000</td>\n",
       "      <td>4 days 00:00:00</td>\n",
       "      <td>277.750000</td>\n",
       "      <td>600.000000</td>\n",
       "    </tr>\n",
       "    <tr>\n",
       "      <th>25%</th>\n",
       "      <td>2763.000000</td>\n",
       "      <td>7.900000</td>\n",
       "      <td>4 days 00:00:00</td>\n",
       "      <td>690.750000</td>\n",
       "      <td>950.000000</td>\n",
       "    </tr>\n",
       "    <tr>\n",
       "      <th>50%</th>\n",
       "      <td>2881.000000</td>\n",
       "      <td>8.100000</td>\n",
       "      <td>4 days 00:00:00</td>\n",
       "      <td>720.250000</td>\n",
       "      <td>1100.000000</td>\n",
       "    </tr>\n",
       "    <tr>\n",
       "      <th>75%</th>\n",
       "      <td>3336.000000</td>\n",
       "      <td>8.600000</td>\n",
       "      <td>4 days 00:00:00</td>\n",
       "      <td>834.000000</td>\n",
       "      <td>1200.000000</td>\n",
       "    </tr>\n",
       "    <tr>\n",
       "      <th>max</th>\n",
       "      <td>3945.000000</td>\n",
       "      <td>8.700000</td>\n",
       "      <td>4 days 00:00:00</td>\n",
       "      <td>986.250000</td>\n",
       "      <td>1900.000000</td>\n",
       "    </tr>\n",
       "  </tbody>\n",
       "</table>\n",
       "</div>"
      ],
      "text/plain": [
       "             preco       nota             dias  precoPorNoite  distanciaMetros\n",
       "count    93.000000  93.000000               93      93.000000        93.000000\n",
       "mean   2754.526882   8.201075  4 days 00:00:00     688.631720      1152.150538\n",
       "std     813.671692   0.337347  0 days 00:00:00     203.417923       390.506498\n",
       "min    1111.000000   7.800000  4 days 00:00:00     277.750000       600.000000\n",
       "25%    2763.000000   7.900000  4 days 00:00:00     690.750000       950.000000\n",
       "50%    2881.000000   8.100000  4 days 00:00:00     720.250000      1100.000000\n",
       "75%    3336.000000   8.600000  4 days 00:00:00     834.000000      1200.000000\n",
       "max    3945.000000   8.700000  4 days 00:00:00     986.250000      1900.000000"
      ]
     },
     "metadata": {},
     "output_type": "display_data"
    },
    {
     "data": {
      "text/html": [
       "<div>\n",
       "<style scoped>\n",
       "    .dataframe tbody tr th:only-of-type {\n",
       "        vertical-align: middle;\n",
       "    }\n",
       "\n",
       "    .dataframe tbody tr th {\n",
       "        vertical-align: top;\n",
       "    }\n",
       "\n",
       "    .dataframe thead th {\n",
       "        text-align: right;\n",
       "    }\n",
       "</style>\n",
       "<table border=\"1\" class=\"dataframe\">\n",
       "  <thead>\n",
       "    <tr style=\"text-align: right;\">\n",
       "      <th></th>\n",
       "      <th>de</th>\n",
       "      <th>ate</th>\n",
       "      <th>nome</th>\n",
       "      <th>preco</th>\n",
       "      <th>nota</th>\n",
       "      <th>distancia</th>\n",
       "      <th>url</th>\n",
       "      <th>dias</th>\n",
       "      <th>precoPorNoite</th>\n",
       "      <th>distanciaMetros</th>\n",
       "    </tr>\n",
       "  </thead>\n",
       "  <tbody>\n",
       "    <tr>\n",
       "      <th>0</th>\n",
       "      <td>2020-03-05</td>\n",
       "      <td>2020-03-09</td>\n",
       "      <td>AWA Hotel</td>\n",
       "      <td>3258</td>\n",
       "      <td>8.1</td>\n",
       "      <td>1.1 km from centre</td>\n",
       "      <td>www.booking.com/hotel/de/devillemuenchen.en-gb...</td>\n",
       "      <td>4 days</td>\n",
       "      <td>814.50</td>\n",
       "      <td>1100.0</td>\n",
       "    </tr>\n",
       "    <tr>\n",
       "      <th>17</th>\n",
       "      <td>2020-03-05</td>\n",
       "      <td>2020-03-09</td>\n",
       "      <td>Euro Youth Hotel Munich</td>\n",
       "      <td>1111</td>\n",
       "      <td>8.7</td>\n",
       "      <td>1.2 km from centre</td>\n",
       "      <td>www.booking.com/hotel/de/euro-youth.en-gb.html...</td>\n",
       "      <td>4 days</td>\n",
       "      <td>277.75</td>\n",
       "      <td>1200.0</td>\n",
       "    </tr>\n",
       "    <tr>\n",
       "      <th>26</th>\n",
       "      <td>2020-03-05</td>\n",
       "      <td>2020-03-09</td>\n",
       "      <td>Hotel Stachus</td>\n",
       "      <td>2763</td>\n",
       "      <td>7.9</td>\n",
       "      <td>950 m from centre</td>\n",
       "      <td>www.booking.com/hotel/de/stachus-munchen.en-gb...</td>\n",
       "      <td>4 days</td>\n",
       "      <td>690.75</td>\n",
       "      <td>950.0</td>\n",
       "    </tr>\n",
       "    <tr>\n",
       "      <th>33</th>\n",
       "      <td>2020-03-05</td>\n",
       "      <td>2020-03-09</td>\n",
       "      <td>Euro Youth Hotel Munich</td>\n",
       "      <td>1111</td>\n",
       "      <td>8.7</td>\n",
       "      <td>1.2 km from centre</td>\n",
       "      <td>www.booking.com/hotel/de/euro-youth.en-gb.html...</td>\n",
       "      <td>4 days</td>\n",
       "      <td>277.75</td>\n",
       "      <td>1200.0</td>\n",
       "    </tr>\n",
       "    <tr>\n",
       "      <th>39</th>\n",
       "      <td>2020-03-05</td>\n",
       "      <td>2020-03-09</td>\n",
       "      <td>Hotel Stachus</td>\n",
       "      <td>2763</td>\n",
       "      <td>7.9</td>\n",
       "      <td>950 m from centre</td>\n",
       "      <td>www.booking.com/hotel/de/stachus-munchen.en-gb...</td>\n",
       "      <td>4 days</td>\n",
       "      <td>690.75</td>\n",
       "      <td>950.0</td>\n",
       "    </tr>\n",
       "    <tr>\n",
       "      <th>48</th>\n",
       "      <td>2020-03-05</td>\n",
       "      <td>2020-03-09</td>\n",
       "      <td>Euro Youth Hotel Munich</td>\n",
       "      <td>1111</td>\n",
       "      <td>8.7</td>\n",
       "      <td>1.2 km from centre</td>\n",
       "      <td>www.booking.com/hotel/de/euro-youth.en-gb.html...</td>\n",
       "      <td>4 days</td>\n",
       "      <td>277.75</td>\n",
       "      <td>1200.0</td>\n",
       "    </tr>\n",
       "    <tr>\n",
       "      <th>53</th>\n",
       "      <td>2020-03-05</td>\n",
       "      <td>2020-03-09</td>\n",
       "      <td>Hotel Senator Mxc3xcnchen</td>\n",
       "      <td>2881</td>\n",
       "      <td>8.2</td>\n",
       "      <td>1.9 km from centre</td>\n",
       "      <td>www.booking.com/hotel/de/senator-munchen.en-gb...</td>\n",
       "      <td>4 days</td>\n",
       "      <td>720.25</td>\n",
       "      <td>1900.0</td>\n",
       "    </tr>\n",
       "    <tr>\n",
       "      <th>54</th>\n",
       "      <td>2020-03-05</td>\n",
       "      <td>2020-03-09</td>\n",
       "      <td>Hotel Luitpold</td>\n",
       "      <td>2926</td>\n",
       "      <td>8.0</td>\n",
       "      <td>1.1 km from centre</td>\n",
       "      <td>www.booking.com/hotel/de/luitpoldmuenchen.en-g...</td>\n",
       "      <td>4 days</td>\n",
       "      <td>731.50</td>\n",
       "      <td>1100.0</td>\n",
       "    </tr>\n",
       "    <tr>\n",
       "      <th>56</th>\n",
       "      <td>2020-03-05</td>\n",
       "      <td>2020-03-09</td>\n",
       "      <td>Hotel MIO y AMANO</td>\n",
       "      <td>3590</td>\n",
       "      <td>8.6</td>\n",
       "      <td>600 m from centre</td>\n",
       "      <td>www.booking.com/hotel/de/mio-by-amano.en-gb.ht...</td>\n",
       "      <td>4 days</td>\n",
       "      <td>897.50</td>\n",
       "      <td>600.0</td>\n",
       "    </tr>\n",
       "    <tr>\n",
       "      <th>57</th>\n",
       "      <td>2020-03-05</td>\n",
       "      <td>2020-03-09</td>\n",
       "      <td>City-Hotel Mxc3xcnchen</td>\n",
       "      <td>3336</td>\n",
       "      <td>7.8</td>\n",
       "      <td>1.1 km from centre</td>\n",
       "      <td>www.booking.com/hotel/de/city-munchen.en-gb.ht...</td>\n",
       "      <td>4 days</td>\n",
       "      <td>834.00</td>\n",
       "      <td>1100.0</td>\n",
       "    </tr>\n",
       "    <tr>\n",
       "      <th>66</th>\n",
       "      <td>2020-03-05</td>\n",
       "      <td>2020-03-09</td>\n",
       "      <td>Hotel Senator Mxc3xcnchen</td>\n",
       "      <td>2881</td>\n",
       "      <td>8.2</td>\n",
       "      <td>1.9 km from centre</td>\n",
       "      <td>www.booking.com/hotel/de/senator-munchen.en-gb...</td>\n",
       "      <td>4 days</td>\n",
       "      <td>720.25</td>\n",
       "      <td>1900.0</td>\n",
       "    </tr>\n",
       "    <tr>\n",
       "      <th>67</th>\n",
       "      <td>2020-03-05</td>\n",
       "      <td>2020-03-09</td>\n",
       "      <td>Hotel Luitpold</td>\n",
       "      <td>2926</td>\n",
       "      <td>8.0</td>\n",
       "      <td>1.1 km from centre</td>\n",
       "      <td>www.booking.com/hotel/de/luitpoldmuenchen.en-g...</td>\n",
       "      <td>4 days</td>\n",
       "      <td>731.50</td>\n",
       "      <td>1100.0</td>\n",
       "    </tr>\n",
       "    <tr>\n",
       "      <th>68</th>\n",
       "      <td>2020-03-05</td>\n",
       "      <td>2020-03-09</td>\n",
       "      <td>Hotel MIO y AMANO</td>\n",
       "      <td>3590</td>\n",
       "      <td>8.6</td>\n",
       "      <td>600 m from centre</td>\n",
       "      <td>www.booking.com/hotel/de/mio-by-amano.en-gb.ht...</td>\n",
       "      <td>4 days</td>\n",
       "      <td>897.50</td>\n",
       "      <td>600.0</td>\n",
       "    </tr>\n",
       "    <tr>\n",
       "      <th>70</th>\n",
       "      <td>2020-03-05</td>\n",
       "      <td>2020-03-09</td>\n",
       "      <td>City-Hotel Mxc3xcnchen</td>\n",
       "      <td>3336</td>\n",
       "      <td>7.8</td>\n",
       "      <td>1.1 km from centre</td>\n",
       "      <td>www.booking.com/hotel/de/city-munchen.en-gb.ht...</td>\n",
       "      <td>4 days</td>\n",
       "      <td>834.00</td>\n",
       "      <td>1100.0</td>\n",
       "    </tr>\n",
       "    <tr>\n",
       "      <th>73</th>\n",
       "      <td>2020-03-05</td>\n",
       "      <td>2020-03-09</td>\n",
       "      <td>Hotel Stachus</td>\n",
       "      <td>2763</td>\n",
       "      <td>7.9</td>\n",
       "      <td>950 m from centre</td>\n",
       "      <td>www.booking.com/hotel/de/stachus-munchen.en-gb...</td>\n",
       "      <td>4 days</td>\n",
       "      <td>690.75</td>\n",
       "      <td>950.0</td>\n",
       "    </tr>\n",
       "    <tr>\n",
       "      <th>85</th>\n",
       "      <td>2020-03-05</td>\n",
       "      <td>2020-03-09</td>\n",
       "      <td>Hotel Senator Mxc3xcnchen</td>\n",
       "      <td>2881</td>\n",
       "      <td>8.2</td>\n",
       "      <td>1.9 km from centre</td>\n",
       "      <td>www.booking.com/hotel/de/senator-munchen.en-gb...</td>\n",
       "      <td>4 days</td>\n",
       "      <td>720.25</td>\n",
       "      <td>1900.0</td>\n",
       "    </tr>\n",
       "    <tr>\n",
       "      <th>100</th>\n",
       "      <td>2020-03-05</td>\n",
       "      <td>2020-03-09</td>\n",
       "      <td>Euro Youth Hotel Munich</td>\n",
       "      <td>1111</td>\n",
       "      <td>8.7</td>\n",
       "      <td>1.2 km from centre</td>\n",
       "      <td>www.booking.com/hotel/de/euro-youth.en-gb.html...</td>\n",
       "      <td>4 days</td>\n",
       "      <td>277.75</td>\n",
       "      <td>1200.0</td>\n",
       "    </tr>\n",
       "    <tr>\n",
       "      <th>107</th>\n",
       "      <td>2020-03-05</td>\n",
       "      <td>2020-03-09</td>\n",
       "      <td>Euro Youth Hotel Munich</td>\n",
       "      <td>1111</td>\n",
       "      <td>8.7</td>\n",
       "      <td>1.2 km from centre</td>\n",
       "      <td>www.booking.com/hotel/de/euro-youth.en-gb.html...</td>\n",
       "      <td>4 days</td>\n",
       "      <td>277.75</td>\n",
       "      <td>1200.0</td>\n",
       "    </tr>\n",
       "    <tr>\n",
       "      <th>110</th>\n",
       "      <td>2020-03-05</td>\n",
       "      <td>2020-03-09</td>\n",
       "      <td>Hotel Stachus</td>\n",
       "      <td>2763</td>\n",
       "      <td>7.9</td>\n",
       "      <td>950 m from centre</td>\n",
       "      <td>www.booking.com/hotel/de/stachus-munchen.en-gb...</td>\n",
       "      <td>4 days</td>\n",
       "      <td>690.75</td>\n",
       "      <td>950.0</td>\n",
       "    </tr>\n",
       "    <tr>\n",
       "      <th>122</th>\n",
       "      <td>2020-03-05</td>\n",
       "      <td>2020-03-09</td>\n",
       "      <td>Hotel Senator Mxc3xcnchen</td>\n",
       "      <td>2881</td>\n",
       "      <td>8.2</td>\n",
       "      <td>1.9 km from centre</td>\n",
       "      <td>www.booking.com/hotel/de/senator-munchen.en-gb...</td>\n",
       "      <td>4 days</td>\n",
       "      <td>720.25</td>\n",
       "      <td>1900.0</td>\n",
       "    </tr>\n",
       "    <tr>\n",
       "      <th>141</th>\n",
       "      <td>2020-03-05</td>\n",
       "      <td>2020-03-09</td>\n",
       "      <td>Hotel Luitpold</td>\n",
       "      <td>2926</td>\n",
       "      <td>8.0</td>\n",
       "      <td>1.1 km from centre</td>\n",
       "      <td>www.booking.com/hotel/de/luitpoldmuenchen.en-g...</td>\n",
       "      <td>4 days</td>\n",
       "      <td>731.50</td>\n",
       "      <td>1100.0</td>\n",
       "    </tr>\n",
       "    <tr>\n",
       "      <th>145</th>\n",
       "      <td>2020-03-05</td>\n",
       "      <td>2020-03-09</td>\n",
       "      <td>Euro Youth Hotel Munich</td>\n",
       "      <td>1111</td>\n",
       "      <td>8.7</td>\n",
       "      <td>1.2 km from centre</td>\n",
       "      <td>www.booking.com/hotel/de/euro-youth.en-gb.html...</td>\n",
       "      <td>4 days</td>\n",
       "      <td>277.75</td>\n",
       "      <td>1200.0</td>\n",
       "    </tr>\n",
       "    <tr>\n",
       "      <th>148</th>\n",
       "      <td>2020-03-05</td>\n",
       "      <td>2020-03-09</td>\n",
       "      <td>Hotel MIO y AMANO</td>\n",
       "      <td>3550</td>\n",
       "      <td>8.6</td>\n",
       "      <td>600 m from centre</td>\n",
       "      <td>www.booking.com/hotel/de/mio-by-amano.en-gb.ht...</td>\n",
       "      <td>4 days</td>\n",
       "      <td>887.50</td>\n",
       "      <td>600.0</td>\n",
       "    </tr>\n",
       "    <tr>\n",
       "      <th>149</th>\n",
       "      <td>2020-03-05</td>\n",
       "      <td>2020-03-09</td>\n",
       "      <td>City-Hotel Mxc3xcnchen</td>\n",
       "      <td>3300</td>\n",
       "      <td>7.8</td>\n",
       "      <td>1.1 km from centre</td>\n",
       "      <td>www.booking.com/hotel/de/city-munchen.en-gb.ht...</td>\n",
       "      <td>4 days</td>\n",
       "      <td>825.00</td>\n",
       "      <td>1100.0</td>\n",
       "    </tr>\n",
       "    <tr>\n",
       "      <th>155</th>\n",
       "      <td>2020-03-05</td>\n",
       "      <td>2020-03-09</td>\n",
       "      <td>Hotel Stachus</td>\n",
       "      <td>2763</td>\n",
       "      <td>7.9</td>\n",
       "      <td>950 m from centre</td>\n",
       "      <td>www.booking.com/hotel/de/stachus-munchen.en-gb...</td>\n",
       "      <td>4 days</td>\n",
       "      <td>690.75</td>\n",
       "      <td>950.0</td>\n",
       "    </tr>\n",
       "    <tr>\n",
       "      <th>158</th>\n",
       "      <td>2020-03-05</td>\n",
       "      <td>2020-03-09</td>\n",
       "      <td>Euro Youth Hotel Munich</td>\n",
       "      <td>1111</td>\n",
       "      <td>8.7</td>\n",
       "      <td>1.2 km from centre</td>\n",
       "      <td>www.booking.com/hotel/de/euro-youth.en-gb.html...</td>\n",
       "      <td>4 days</td>\n",
       "      <td>277.75</td>\n",
       "      <td>1200.0</td>\n",
       "    </tr>\n",
       "    <tr>\n",
       "      <th>160</th>\n",
       "      <td>2020-03-05</td>\n",
       "      <td>2020-03-09</td>\n",
       "      <td>Hotel Stachus</td>\n",
       "      <td>2763</td>\n",
       "      <td>7.9</td>\n",
       "      <td>950 m from centre</td>\n",
       "      <td>www.booking.com/hotel/de/stachus-munchen.en-gb...</td>\n",
       "      <td>4 days</td>\n",
       "      <td>690.75</td>\n",
       "      <td>950.0</td>\n",
       "    </tr>\n",
       "    <tr>\n",
       "      <th>176</th>\n",
       "      <td>2020-03-05</td>\n",
       "      <td>2020-03-09</td>\n",
       "      <td>Hotel Senator Mxc3xcnchen</td>\n",
       "      <td>2881</td>\n",
       "      <td>8.2</td>\n",
       "      <td>1.9 km from centre</td>\n",
       "      <td>www.booking.com/hotel/de/senator-munchen.en-gb...</td>\n",
       "      <td>4 days</td>\n",
       "      <td>720.25</td>\n",
       "      <td>1900.0</td>\n",
       "    </tr>\n",
       "    <tr>\n",
       "      <th>177</th>\n",
       "      <td>2020-03-05</td>\n",
       "      <td>2020-03-09</td>\n",
       "      <td>Hotel Luitpold</td>\n",
       "      <td>2926</td>\n",
       "      <td>8.0</td>\n",
       "      <td>1.1 km from centre</td>\n",
       "      <td>www.booking.com/hotel/de/luitpoldmuenchen.en-g...</td>\n",
       "      <td>4 days</td>\n",
       "      <td>731.50</td>\n",
       "      <td>1100.0</td>\n",
       "    </tr>\n",
       "    <tr>\n",
       "      <th>183</th>\n",
       "      <td>2020-03-05</td>\n",
       "      <td>2020-03-09</td>\n",
       "      <td>Hotel MIO y AMANO</td>\n",
       "      <td>3590</td>\n",
       "      <td>8.6</td>\n",
       "      <td>600 m from centre</td>\n",
       "      <td>www.booking.com/hotel/de/mio-by-amano.en-gb.ht...</td>\n",
       "      <td>4 days</td>\n",
       "      <td>897.50</td>\n",
       "      <td>600.0</td>\n",
       "    </tr>\n",
       "    <tr>\n",
       "      <th>...</th>\n",
       "      <td>...</td>\n",
       "      <td>...</td>\n",
       "      <td>...</td>\n",
       "      <td>...</td>\n",
       "      <td>...</td>\n",
       "      <td>...</td>\n",
       "      <td>...</td>\n",
       "      <td>...</td>\n",
       "      <td>...</td>\n",
       "      <td>...</td>\n",
       "    </tr>\n",
       "    <tr>\n",
       "      <th>359</th>\n",
       "      <td>2020-03-05</td>\n",
       "      <td>2020-03-09</td>\n",
       "      <td>Hotel Senator Mxc3xcnchen</td>\n",
       "      <td>2881</td>\n",
       "      <td>8.2</td>\n",
       "      <td>1.9 km from centre</td>\n",
       "      <td>www.booking.com/hotel/de/senator-munchen.en-gb...</td>\n",
       "      <td>4 days</td>\n",
       "      <td>720.25</td>\n",
       "      <td>1900.0</td>\n",
       "    </tr>\n",
       "    <tr>\n",
       "      <th>368</th>\n",
       "      <td>2020-03-05</td>\n",
       "      <td>2020-03-09</td>\n",
       "      <td>Hotel Luitpold</td>\n",
       "      <td>2926</td>\n",
       "      <td>8.0</td>\n",
       "      <td>1.1 km from centre</td>\n",
       "      <td>www.booking.com/hotel/de/luitpoldmuenchen.en-g...</td>\n",
       "      <td>4 days</td>\n",
       "      <td>731.50</td>\n",
       "      <td>1100.0</td>\n",
       "    </tr>\n",
       "    <tr>\n",
       "      <th>369</th>\n",
       "      <td>2020-03-05</td>\n",
       "      <td>2020-03-09</td>\n",
       "      <td>Hotel MIO y AMANO</td>\n",
       "      <td>3590</td>\n",
       "      <td>8.6</td>\n",
       "      <td>600 m from centre</td>\n",
       "      <td>www.booking.com/hotel/de/mio-by-amano.en-gb.ht...</td>\n",
       "      <td>4 days</td>\n",
       "      <td>897.50</td>\n",
       "      <td>600.0</td>\n",
       "    </tr>\n",
       "    <tr>\n",
       "      <th>374</th>\n",
       "      <td>2020-03-05</td>\n",
       "      <td>2020-03-09</td>\n",
       "      <td>Euro Youth Hotel Munich</td>\n",
       "      <td>1111</td>\n",
       "      <td>8.7</td>\n",
       "      <td>1.2 km from centre</td>\n",
       "      <td>www.booking.com/hotel/de/euro-youth.en-gb.html...</td>\n",
       "      <td>4 days</td>\n",
       "      <td>277.75</td>\n",
       "      <td>1200.0</td>\n",
       "    </tr>\n",
       "    <tr>\n",
       "      <th>377</th>\n",
       "      <td>2020-03-05</td>\n",
       "      <td>2020-03-09</td>\n",
       "      <td>Hotel Stachus</td>\n",
       "      <td>2763</td>\n",
       "      <td>7.9</td>\n",
       "      <td>950 m from centre</td>\n",
       "      <td>www.booking.com/hotel/de/stachus-munchen.en-gb...</td>\n",
       "      <td>4 days</td>\n",
       "      <td>690.75</td>\n",
       "      <td>950.0</td>\n",
       "    </tr>\n",
       "    <tr>\n",
       "      <th>378</th>\n",
       "      <td>2020-03-05</td>\n",
       "      <td>2020-03-09</td>\n",
       "      <td>City-Hotel Mxc3xcnchen</td>\n",
       "      <td>3336</td>\n",
       "      <td>7.8</td>\n",
       "      <td>1.1 km from centre</td>\n",
       "      <td>www.booking.com/hotel/de/city-munchen.en-gb.ht...</td>\n",
       "      <td>4 days</td>\n",
       "      <td>834.00</td>\n",
       "      <td>1100.0</td>\n",
       "    </tr>\n",
       "    <tr>\n",
       "      <th>390</th>\n",
       "      <td>2020-03-05</td>\n",
       "      <td>2020-03-09</td>\n",
       "      <td>Hotel Luitpold</td>\n",
       "      <td>2926</td>\n",
       "      <td>8.0</td>\n",
       "      <td>1.1 km from centre</td>\n",
       "      <td>www.booking.com/hotel/de/luitpoldmuenchen.en-g...</td>\n",
       "      <td>4 days</td>\n",
       "      <td>731.50</td>\n",
       "      <td>1100.0</td>\n",
       "    </tr>\n",
       "    <tr>\n",
       "      <th>392</th>\n",
       "      <td>2020-03-05</td>\n",
       "      <td>2020-03-09</td>\n",
       "      <td>Hotel MIO y AMANO</td>\n",
       "      <td>3590</td>\n",
       "      <td>8.6</td>\n",
       "      <td>600 m from centre</td>\n",
       "      <td>www.booking.com/hotel/de/mio-by-amano.en-gb.ht...</td>\n",
       "      <td>4 days</td>\n",
       "      <td>897.50</td>\n",
       "      <td>600.0</td>\n",
       "    </tr>\n",
       "    <tr>\n",
       "      <th>396</th>\n",
       "      <td>2020-03-05</td>\n",
       "      <td>2020-03-09</td>\n",
       "      <td>Hotel Stachus</td>\n",
       "      <td>2763</td>\n",
       "      <td>7.9</td>\n",
       "      <td>950 m from centre</td>\n",
       "      <td>www.booking.com/hotel/de/stachus-munchen.en-gb...</td>\n",
       "      <td>4 days</td>\n",
       "      <td>690.75</td>\n",
       "      <td>950.0</td>\n",
       "    </tr>\n",
       "    <tr>\n",
       "      <th>407</th>\n",
       "      <td>2020-03-05</td>\n",
       "      <td>2020-03-09</td>\n",
       "      <td>Hotel Senator Mxc3xcnchen</td>\n",
       "      <td>2881</td>\n",
       "      <td>8.2</td>\n",
       "      <td>1.9 km from centre</td>\n",
       "      <td>www.booking.com/hotel/de/senator-munchen.en-gb...</td>\n",
       "      <td>4 days</td>\n",
       "      <td>720.25</td>\n",
       "      <td>1900.0</td>\n",
       "    </tr>\n",
       "    <tr>\n",
       "      <th>408</th>\n",
       "      <td>2020-03-05</td>\n",
       "      <td>2020-03-09</td>\n",
       "      <td>Hotel Luitpold</td>\n",
       "      <td>2926</td>\n",
       "      <td>8.0</td>\n",
       "      <td>1.1 km from centre</td>\n",
       "      <td>www.booking.com/hotel/de/luitpoldmuenchen.en-g...</td>\n",
       "      <td>4 days</td>\n",
       "      <td>731.50</td>\n",
       "      <td>1100.0</td>\n",
       "    </tr>\n",
       "    <tr>\n",
       "      <th>411</th>\n",
       "      <td>2020-03-05</td>\n",
       "      <td>2020-03-09</td>\n",
       "      <td>Hotel Senator Mxc3xcnchen</td>\n",
       "      <td>2881</td>\n",
       "      <td>8.2</td>\n",
       "      <td>1.9 km from centre</td>\n",
       "      <td>www.booking.com/hotel/de/senator-munchen.en-gb...</td>\n",
       "      <td>4 days</td>\n",
       "      <td>720.25</td>\n",
       "      <td>1900.0</td>\n",
       "    </tr>\n",
       "    <tr>\n",
       "      <th>412</th>\n",
       "      <td>2020-03-05</td>\n",
       "      <td>2020-03-09</td>\n",
       "      <td>City-Hotel Mxc3xcnchen</td>\n",
       "      <td>3336</td>\n",
       "      <td>7.8</td>\n",
       "      <td>1.1 km from centre</td>\n",
       "      <td>www.booking.com/hotel/de/city-munchen.en-gb.ht...</td>\n",
       "      <td>4 days</td>\n",
       "      <td>834.00</td>\n",
       "      <td>1100.0</td>\n",
       "    </tr>\n",
       "    <tr>\n",
       "      <th>415</th>\n",
       "      <td>2020-03-05</td>\n",
       "      <td>2020-03-09</td>\n",
       "      <td>Hotel Stachus</td>\n",
       "      <td>2763</td>\n",
       "      <td>7.9</td>\n",
       "      <td>950 m from centre</td>\n",
       "      <td>www.booking.com/hotel/de/stachus-munchen.en-gb...</td>\n",
       "      <td>4 days</td>\n",
       "      <td>690.75</td>\n",
       "      <td>950.0</td>\n",
       "    </tr>\n",
       "    <tr>\n",
       "      <th>416</th>\n",
       "      <td>2020-03-05</td>\n",
       "      <td>2020-03-09</td>\n",
       "      <td>Hotel MIO y AMANO</td>\n",
       "      <td>3590</td>\n",
       "      <td>8.6</td>\n",
       "      <td>600 m from centre</td>\n",
       "      <td>www.booking.com/hotel/de/mio-by-amano.en-gb.ht...</td>\n",
       "      <td>4 days</td>\n",
       "      <td>897.50</td>\n",
       "      <td>600.0</td>\n",
       "    </tr>\n",
       "    <tr>\n",
       "      <th>417</th>\n",
       "      <td>2020-03-05</td>\n",
       "      <td>2020-03-09</td>\n",
       "      <td>City-Hotel Mxc3xcnchen</td>\n",
       "      <td>3336</td>\n",
       "      <td>7.8</td>\n",
       "      <td>1.1 km from centre</td>\n",
       "      <td>www.booking.com/hotel/de/city-munchen.en-gb.ht...</td>\n",
       "      <td>4 days</td>\n",
       "      <td>834.00</td>\n",
       "      <td>1100.0</td>\n",
       "    </tr>\n",
       "    <tr>\n",
       "      <th>419</th>\n",
       "      <td>2020-03-05</td>\n",
       "      <td>2020-03-09</td>\n",
       "      <td>City-Hotel Mxc3xcnchen</td>\n",
       "      <td>3336</td>\n",
       "      <td>7.8</td>\n",
       "      <td>1.1 km from centre</td>\n",
       "      <td>www.booking.com/hotel/de/city-munchen.en-gb.ht...</td>\n",
       "      <td>4 days</td>\n",
       "      <td>834.00</td>\n",
       "      <td>1100.0</td>\n",
       "    </tr>\n",
       "    <tr>\n",
       "      <th>444</th>\n",
       "      <td>2020-03-05</td>\n",
       "      <td>2020-03-09</td>\n",
       "      <td>Hotel Senator Mxc3xcnchen</td>\n",
       "      <td>2881</td>\n",
       "      <td>8.2</td>\n",
       "      <td>1.9 km from centre</td>\n",
       "      <td>www.booking.com/hotel/de/senator-munchen.en-gb...</td>\n",
       "      <td>4 days</td>\n",
       "      <td>720.25</td>\n",
       "      <td>1900.0</td>\n",
       "    </tr>\n",
       "    <tr>\n",
       "      <th>446</th>\n",
       "      <td>2020-03-05</td>\n",
       "      <td>2020-03-09</td>\n",
       "      <td>Hotel Luitpold</td>\n",
       "      <td>2926</td>\n",
       "      <td>8.0</td>\n",
       "      <td>1.1 km from centre</td>\n",
       "      <td>www.booking.com/hotel/de/luitpoldmuenchen.en-g...</td>\n",
       "      <td>4 days</td>\n",
       "      <td>731.50</td>\n",
       "      <td>1100.0</td>\n",
       "    </tr>\n",
       "    <tr>\n",
       "      <th>450</th>\n",
       "      <td>2020-03-05</td>\n",
       "      <td>2020-03-09</td>\n",
       "      <td>Hotel Luitpold</td>\n",
       "      <td>2926</td>\n",
       "      <td>8.0</td>\n",
       "      <td>1.1 km from centre</td>\n",
       "      <td>www.booking.com/hotel/de/luitpoldmuenchen.en-g...</td>\n",
       "      <td>4 days</td>\n",
       "      <td>731.50</td>\n",
       "      <td>1100.0</td>\n",
       "    </tr>\n",
       "    <tr>\n",
       "      <th>453</th>\n",
       "      <td>2020-03-05</td>\n",
       "      <td>2020-03-09</td>\n",
       "      <td>Hotel MIO y AMANO</td>\n",
       "      <td>3590</td>\n",
       "      <td>8.6</td>\n",
       "      <td>600 m from centre</td>\n",
       "      <td>www.booking.com/hotel/de/mio-by-amano.en-gb.ht...</td>\n",
       "      <td>4 days</td>\n",
       "      <td>897.50</td>\n",
       "      <td>600.0</td>\n",
       "    </tr>\n",
       "    <tr>\n",
       "      <th>454</th>\n",
       "      <td>2020-03-05</td>\n",
       "      <td>2020-03-09</td>\n",
       "      <td>City-Hotel Mxc3xcnchen</td>\n",
       "      <td>3336</td>\n",
       "      <td>7.8</td>\n",
       "      <td>1.1 km from centre</td>\n",
       "      <td>www.booking.com/hotel/de/city-munchen.en-gb.ht...</td>\n",
       "      <td>4 days</td>\n",
       "      <td>834.00</td>\n",
       "      <td>1100.0</td>\n",
       "    </tr>\n",
       "    <tr>\n",
       "      <th>461</th>\n",
       "      <td>2020-03-05</td>\n",
       "      <td>2020-03-09</td>\n",
       "      <td>Hotel MIO y AMANO</td>\n",
       "      <td>3945</td>\n",
       "      <td>8.6</td>\n",
       "      <td>600 m from centre</td>\n",
       "      <td>www.booking.com/hotel/de/mio-by-amano.en-gb.ht...</td>\n",
       "      <td>4 days</td>\n",
       "      <td>986.25</td>\n",
       "      <td>600.0</td>\n",
       "    </tr>\n",
       "    <tr>\n",
       "      <th>462</th>\n",
       "      <td>2020-03-05</td>\n",
       "      <td>2020-03-09</td>\n",
       "      <td>City-Hotel Mxc3xcnchen</td>\n",
       "      <td>3666</td>\n",
       "      <td>7.8</td>\n",
       "      <td>1.1 km from centre</td>\n",
       "      <td>www.booking.com/hotel/de/city-munchen.en-gb.ht...</td>\n",
       "      <td>4 days</td>\n",
       "      <td>916.50</td>\n",
       "      <td>1100.0</td>\n",
       "    </tr>\n",
       "    <tr>\n",
       "      <th>468</th>\n",
       "      <td>2020-03-05</td>\n",
       "      <td>2020-03-09</td>\n",
       "      <td>Euro Youth Hotel Munich</td>\n",
       "      <td>1111</td>\n",
       "      <td>8.7</td>\n",
       "      <td>1.2 km from centre</td>\n",
       "      <td>www.booking.com/hotel/de/euro-youth.en-gb.html...</td>\n",
       "      <td>4 days</td>\n",
       "      <td>277.75</td>\n",
       "      <td>1200.0</td>\n",
       "    </tr>\n",
       "    <tr>\n",
       "      <th>471</th>\n",
       "      <td>2020-03-05</td>\n",
       "      <td>2020-03-09</td>\n",
       "      <td>Hotel Stachus</td>\n",
       "      <td>2763</td>\n",
       "      <td>7.9</td>\n",
       "      <td>950 m from centre</td>\n",
       "      <td>www.booking.com/hotel/de/stachus-munchen.en-gb...</td>\n",
       "      <td>4 days</td>\n",
       "      <td>690.75</td>\n",
       "      <td>950.0</td>\n",
       "    </tr>\n",
       "    <tr>\n",
       "      <th>479</th>\n",
       "      <td>2020-03-05</td>\n",
       "      <td>2020-03-09</td>\n",
       "      <td>Hotel Senator Mxc3xcnchen</td>\n",
       "      <td>2881</td>\n",
       "      <td>8.2</td>\n",
       "      <td>1.9 km from centre</td>\n",
       "      <td>www.booking.com/hotel/de/senator-munchen.en-gb...</td>\n",
       "      <td>4 days</td>\n",
       "      <td>720.25</td>\n",
       "      <td>1900.0</td>\n",
       "    </tr>\n",
       "    <tr>\n",
       "      <th>481</th>\n",
       "      <td>2020-03-05</td>\n",
       "      <td>2020-03-09</td>\n",
       "      <td>Hotel Luitpold</td>\n",
       "      <td>2926</td>\n",
       "      <td>8.0</td>\n",
       "      <td>1.1 km from centre</td>\n",
       "      <td>www.booking.com/hotel/de/luitpoldmuenchen.en-g...</td>\n",
       "      <td>4 days</td>\n",
       "      <td>731.50</td>\n",
       "      <td>1100.0</td>\n",
       "    </tr>\n",
       "    <tr>\n",
       "      <th>482</th>\n",
       "      <td>2020-03-05</td>\n",
       "      <td>2020-03-09</td>\n",
       "      <td>Hotel MIO y AMANO</td>\n",
       "      <td>3590</td>\n",
       "      <td>8.6</td>\n",
       "      <td>600 m from centre</td>\n",
       "      <td>www.booking.com/hotel/de/mio-by-amano.en-gb.ht...</td>\n",
       "      <td>4 days</td>\n",
       "      <td>897.50</td>\n",
       "      <td>600.0</td>\n",
       "    </tr>\n",
       "    <tr>\n",
       "      <th>483</th>\n",
       "      <td>2020-03-05</td>\n",
       "      <td>2020-03-09</td>\n",
       "      <td>City-Hotel Mxc3xcnchen</td>\n",
       "      <td>3336</td>\n",
       "      <td>7.8</td>\n",
       "      <td>1.1 km from centre</td>\n",
       "      <td>www.booking.com/hotel/de/city-munchen.en-gb.ht...</td>\n",
       "      <td>4 days</td>\n",
       "      <td>834.00</td>\n",
       "      <td>1100.0</td>\n",
       "    </tr>\n",
       "  </tbody>\n",
       "</table>\n",
       "<p>93 rows × 10 columns</p>\n",
       "</div>"
      ],
      "text/plain": [
       "            de        ate                       nome  preco  nota  \\\n",
       "0   2020-03-05 2020-03-09                  AWA Hotel   3258   8.1   \n",
       "17  2020-03-05 2020-03-09    Euro Youth Hotel Munich   1111   8.7   \n",
       "26  2020-03-05 2020-03-09              Hotel Stachus   2763   7.9   \n",
       "33  2020-03-05 2020-03-09    Euro Youth Hotel Munich   1111   8.7   \n",
       "39  2020-03-05 2020-03-09              Hotel Stachus   2763   7.9   \n",
       "..         ...        ...                        ...    ...   ...   \n",
       "471 2020-03-05 2020-03-09              Hotel Stachus   2763   7.9   \n",
       "479 2020-03-05 2020-03-09  Hotel Senator Mxc3xcnchen   2881   8.2   \n",
       "481 2020-03-05 2020-03-09             Hotel Luitpold   2926   8.0   \n",
       "482 2020-03-05 2020-03-09          Hotel MIO y AMANO   3590   8.6   \n",
       "483 2020-03-05 2020-03-09     City-Hotel Mxc3xcnchen   3336   7.8   \n",
       "\n",
       "              distancia                                                url  \\\n",
       "0    1.1 km from centre  www.booking.com/hotel/de/devillemuenchen.en-gb...   \n",
       "17   1.2 km from centre  www.booking.com/hotel/de/euro-youth.en-gb.html...   \n",
       "26    950 m from centre  www.booking.com/hotel/de/stachus-munchen.en-gb...   \n",
       "33   1.2 km from centre  www.booking.com/hotel/de/euro-youth.en-gb.html...   \n",
       "39    950 m from centre  www.booking.com/hotel/de/stachus-munchen.en-gb...   \n",
       "..                  ...                                                ...   \n",
       "471   950 m from centre  www.booking.com/hotel/de/stachus-munchen.en-gb...   \n",
       "479  1.9 km from centre  www.booking.com/hotel/de/senator-munchen.en-gb...   \n",
       "481  1.1 km from centre  www.booking.com/hotel/de/luitpoldmuenchen.en-g...   \n",
       "482   600 m from centre  www.booking.com/hotel/de/mio-by-amano.en-gb.ht...   \n",
       "483  1.1 km from centre  www.booking.com/hotel/de/city-munchen.en-gb.ht...   \n",
       "\n",
       "      dias  precoPorNoite  distanciaMetros  \n",
       "0   4 days         814.50           1100.0  \n",
       "17  4 days         277.75           1200.0  \n",
       "26  4 days         690.75            950.0  \n",
       "33  4 days         277.75           1200.0  \n",
       "39  4 days         690.75            950.0  \n",
       "..     ...            ...              ...  \n",
       "471 4 days         690.75            950.0  \n",
       "479 4 days         720.25           1900.0  \n",
       "481 4 days         731.50           1100.0  \n",
       "482 4 days         897.50            600.0  \n",
       "483 4 days         834.00           1100.0  \n",
       "\n",
       "[93 rows x 10 columns]"
      ]
     },
     "metadata": {},
     "output_type": "display_data"
    }
   ],
   "source": [
    "\n",
    "datetimeFormat = '%Y-%m-%d %H:%M:%S.%f'\n",
    "\n",
    "\n",
    "#df['diasteste'] = datetime.datetime.strptime(df['ate'],datetimeFormat) - datetime.datetime.strptime(df['de'],datetimeFormat)\n",
    "df['dias'] = (df['ate']-df['de']).replace(regex=True,to_replace=r'\\D',value=r'')\n",
    "df[\"nota\"] = pd.to_numeric(df[\"nota\"])\n",
    "df['distanciaMedida'] = pd.np.where(df.distancia.str.contains(\"km\"),\"km\",\"m\")\n",
    "df[\"distanciaNumerica\"] = pd.to_numeric(df['distancia'].replace(regex=True,to_replace=r'\\D',value=r''))#, downcast='float')\n",
    "df[\"distanciaMetros\"] = pd.np.where(df.distancia.str.contains(\"km\") & df.distancia.str.contains(\".\"),df.distanciaNumerica*1000,df[\"distanciaNumerica\"])\n",
    "df[\"distanciaMetros\"] = pd.np.where(df.distanciaMetros > 9000,(df.distanciaNumerica/10),df[\"distanciaNumerica\"])\n",
    "\n",
    "\n",
    "df[\"distanciaMetros\"] = df[\"distanciaMetros\"].apply(lambda x: x*1000 if x < 100 else x)\n",
    "#df[\"precoPorNoite\"] = df.apply(calculaPorDia,axis=1)\n",
    "\n",
    "\n",
    "df = df[df['precoPorNoite']<1000]\n",
    "df = df[df['nota']>7.5]\n",
    "df = df[df['distanciaMetros']<2000]\n",
    "df = df[~df[\"nome\"].str.contains('Hostel')]\n",
    "\n",
    "del df['distanciaMedida']\n",
    "del df['distanciaNumerica']\n",
    "\n",
    "\n",
    "df.drop_duplicates(inplace = True) \n",
    "display(df.describe())\n",
    "display(df)\n",
    "\n",
    "\n"
   ]
  },
  {
   "cell_type": "code",
   "execution_count": 44,
   "metadata": {},
   "outputs": [],
   "source": [
    "import plotly.express as px\n",
    "#fig = px.scatter(df, x=\"precoPorNoite\", y=\"nota\",color=\"nome\")\n",
    "#fig = px.scatter(df, x=\"preco\", y=\"nota\",color=\"nome\")\n",
    "#fig.show()"
   ]
  },
  {
   "cell_type": "code",
   "execution_count": 45,
   "metadata": {},
   "outputs": [
    {
     "data": {
      "application/vnd.plotly.v1+json": {
       "config": {
        "plotlyServerURL": "https://plot.ly"
       },
       "data": [
        {
         "hoverlabel": {
          "namelength": 0
         },
         "hovertemplate": "<b>%{hovertext}</b><br><br>nome=AWA Hotel<br>precoPorNoite=%{x}<br>nota=%{y}<br>distanciaMetros=%{marker.size}",
         "hovertext": [
          "AWA Hotel",
          "AWA Hotel"
         ],
         "legendgroup": "nome=AWA Hotel",
         "marker": {
          "color": "#636efa",
          "size": [
           1100,
           1100
          ],
          "sizemode": "area",
          "sizeref": 4.75,
          "symbol": "circle"
         },
         "mode": "markers",
         "name": "nome=AWA Hotel",
         "showlegend": true,
         "type": "scatter",
         "x": [
          814.5,
          814.5
         ],
         "xaxis": "x",
         "y": [
          8.1,
          8.1
         ],
         "yaxis": "y"
        },
        {
         "hoverlabel": {
          "namelength": 0
         },
         "hovertemplate": "<b>%{hovertext}</b><br><br>nome=Euro Youth Hotel Munich<br>precoPorNoite=%{x}<br>nota=%{y}<br>distanciaMetros=%{marker.size}",
         "hovertext": [
          "Euro Youth Hotel Munich",
          "Euro Youth Hotel Munich",
          "Euro Youth Hotel Munich",
          "Euro Youth Hotel Munich",
          "Euro Youth Hotel Munich",
          "Euro Youth Hotel Munich",
          "Euro Youth Hotel Munich",
          "Euro Youth Hotel Munich",
          "Euro Youth Hotel Munich",
          "Euro Youth Hotel Munich",
          "Euro Youth Hotel Munich",
          "Euro Youth Hotel Munich",
          "Euro Youth Hotel Munich",
          "Euro Youth Hotel Munich",
          "Euro Youth Hotel Munich",
          "Euro Youth Hotel Munich"
         ],
         "legendgroup": "nome=Euro Youth Hotel Munich",
         "marker": {
          "color": "#EF553B",
          "size": [
           1200,
           1200,
           1200,
           1200,
           1200,
           1200,
           1200,
           1200,
           1200,
           1200,
           1200,
           1200,
           1200,
           1200,
           1200,
           1200
          ],
          "sizemode": "area",
          "sizeref": 4.75,
          "symbol": "circle"
         },
         "mode": "markers",
         "name": "nome=Euro Youth Hotel Munich",
         "showlegend": true,
         "type": "scatter",
         "x": [
          277.75,
          277.75,
          277.75,
          277.75,
          277.75,
          277.75,
          277.75,
          277.75,
          277.75,
          277.75,
          277.75,
          277.75,
          277.75,
          277.75,
          277.75,
          277.75
         ],
         "xaxis": "x",
         "y": [
          8.7,
          8.7,
          8.7,
          8.7,
          8.7,
          8.7,
          8.7,
          8.7,
          8.7,
          8.7,
          8.7,
          8.7,
          8.7,
          8.7,
          8.7,
          8.7
         ],
         "yaxis": "y"
        },
        {
         "hoverlabel": {
          "namelength": 0
         },
         "hovertemplate": "<b>%{hovertext}</b><br><br>nome=Hotel Stachus<br>precoPorNoite=%{x}<br>nota=%{y}<br>distanciaMetros=%{marker.size}",
         "hovertext": [
          "Hotel Stachus",
          "Hotel Stachus",
          "Hotel Stachus",
          "Hotel Stachus",
          "Hotel Stachus",
          "Hotel Stachus",
          "Hotel Stachus",
          "Hotel Stachus",
          "Hotel Stachus",
          "Hotel Stachus",
          "Hotel Stachus",
          "Hotel Stachus",
          "Hotel Stachus",
          "Hotel Stachus",
          "Hotel Stachus",
          "Hotel Stachus",
          "Hotel Stachus"
         ],
         "legendgroup": "nome=Hotel Stachus",
         "marker": {
          "color": "#00cc96",
          "size": [
           950,
           950,
           950,
           950,
           950,
           950,
           950,
           950,
           950,
           950,
           950,
           950,
           950,
           950,
           950,
           950,
           950
          ],
          "sizemode": "area",
          "sizeref": 4.75,
          "symbol": "circle"
         },
         "mode": "markers",
         "name": "nome=Hotel Stachus",
         "showlegend": true,
         "type": "scatter",
         "x": [
          690.75,
          690.75,
          690.75,
          690.75,
          690.75,
          690.75,
          690.75,
          690.75,
          690.75,
          690.75,
          690.75,
          690.75,
          690.75,
          690.75,
          690.75,
          690.75,
          690.75
         ],
         "xaxis": "x",
         "y": [
          7.9,
          7.9,
          7.9,
          7.9,
          7.9,
          7.9,
          7.9,
          7.9,
          7.9,
          7.9,
          7.9,
          7.9,
          7.9,
          7.9,
          7.9,
          7.9,
          7.9
         ],
         "yaxis": "y"
        },
        {
         "hoverlabel": {
          "namelength": 0
         },
         "hovertemplate": "<b>%{hovertext}</b><br><br>nome=Hotel Senator Mxc3xcnchen<br>precoPorNoite=%{x}<br>nota=%{y}<br>distanciaMetros=%{marker.size}",
         "hovertext": [
          "Hotel Senator Mxc3xcnchen",
          "Hotel Senator Mxc3xcnchen",
          "Hotel Senator Mxc3xcnchen",
          "Hotel Senator Mxc3xcnchen",
          "Hotel Senator Mxc3xcnchen",
          "Hotel Senator Mxc3xcnchen",
          "Hotel Senator Mxc3xcnchen",
          "Hotel Senator Mxc3xcnchen",
          "Hotel Senator Mxc3xcnchen",
          "Hotel Senator Mxc3xcnchen",
          "Hotel Senator Mxc3xcnchen",
          "Hotel Senator Mxc3xcnchen",
          "Hotel Senator Mxc3xcnchen",
          "Hotel Senator Mxc3xcnchen",
          "Hotel Senator Mxc3xcnchen",
          "Hotel Senator Mxc3xcnchen"
         ],
         "legendgroup": "nome=Hotel Senator Mxc3xcnchen",
         "marker": {
          "color": "#ab63fa",
          "size": [
           1900,
           1900,
           1900,
           1900,
           1900,
           1900,
           1900,
           1900,
           1900,
           1900,
           1900,
           1900,
           1900,
           1900,
           1900,
           1900
          ],
          "sizemode": "area",
          "sizeref": 4.75,
          "symbol": "circle"
         },
         "mode": "markers",
         "name": "nome=Hotel Senator Mxc3xcnchen",
         "showlegend": true,
         "type": "scatter",
         "x": [
          720.25,
          720.25,
          720.25,
          720.25,
          720.25,
          720.25,
          720.25,
          720.25,
          720.25,
          720.25,
          720.25,
          720.25,
          720.25,
          720.25,
          720.25,
          720.25
         ],
         "xaxis": "x",
         "y": [
          8.2,
          8.2,
          8.2,
          8.2,
          8.2,
          8.2,
          8.2,
          8.2,
          8.2,
          8.2,
          8.2,
          8.2,
          8.2,
          8.2,
          8.2,
          8.2
         ],
         "yaxis": "y"
        },
        {
         "hoverlabel": {
          "namelength": 0
         },
         "hovertemplate": "<b>%{hovertext}</b><br><br>nome=Hotel Luitpold<br>precoPorNoite=%{x}<br>nota=%{y}<br>distanciaMetros=%{marker.size}",
         "hovertext": [
          "Hotel Luitpold",
          "Hotel Luitpold",
          "Hotel Luitpold",
          "Hotel Luitpold",
          "Hotel Luitpold",
          "Hotel Luitpold",
          "Hotel Luitpold",
          "Hotel Luitpold",
          "Hotel Luitpold",
          "Hotel Luitpold",
          "Hotel Luitpold",
          "Hotel Luitpold",
          "Hotel Luitpold",
          "Hotel Luitpold",
          "Hotel Luitpold"
         ],
         "legendgroup": "nome=Hotel Luitpold",
         "marker": {
          "color": "#FFA15A",
          "size": [
           1100,
           1100,
           1100,
           1100,
           1100,
           1100,
           1100,
           1100,
           1100,
           1100,
           1100,
           1100,
           1100,
           1100,
           1100
          ],
          "sizemode": "area",
          "sizeref": 4.75,
          "symbol": "circle"
         },
         "mode": "markers",
         "name": "nome=Hotel Luitpold",
         "showlegend": true,
         "type": "scatter",
         "x": [
          731.5,
          731.5,
          731.5,
          731.5,
          731.5,
          731.5,
          731.5,
          731.5,
          731.5,
          731.5,
          731.5,
          731.5,
          731.5,
          731.5,
          731.5
         ],
         "xaxis": "x",
         "y": [
          8,
          8,
          8,
          8,
          8,
          8,
          8,
          8,
          8,
          8,
          8,
          8,
          8,
          8,
          8
         ],
         "yaxis": "y"
        },
        {
         "hoverlabel": {
          "namelength": 0
         },
         "hovertemplate": "<b>%{hovertext}</b><br><br>nome=Hotel MIO y AMANO<br>precoPorNoite=%{x}<br>nota=%{y}<br>distanciaMetros=%{marker.size}",
         "hovertext": [
          "Hotel MIO y AMANO",
          "Hotel MIO y AMANO",
          "Hotel MIO y AMANO",
          "Hotel MIO y AMANO",
          "Hotel MIO y AMANO",
          "Hotel MIO y AMANO",
          "Hotel MIO y AMANO",
          "Hotel MIO y AMANO",
          "Hotel MIO y AMANO",
          "Hotel MIO y AMANO",
          "Hotel MIO y AMANO",
          "Hotel MIO y AMANO",
          "Hotel MIO y AMANO",
          "Hotel MIO y AMANO"
         ],
         "legendgroup": "nome=Hotel MIO y AMANO",
         "marker": {
          "color": "#19d3f3",
          "size": [
           600,
           600,
           600,
           600,
           600,
           600,
           600,
           600,
           600,
           600,
           600,
           600,
           600,
           600
          ],
          "sizemode": "area",
          "sizeref": 4.75,
          "symbol": "circle"
         },
         "mode": "markers",
         "name": "nome=Hotel MIO y AMANO",
         "showlegend": true,
         "type": "scatter",
         "x": [
          897.5,
          897.5,
          887.5,
          897.5,
          897.5,
          986.25,
          897.5,
          897.5,
          897.5,
          897.5,
          897.5,
          897.5,
          986.25,
          897.5
         ],
         "xaxis": "x",
         "y": [
          8.6,
          8.6,
          8.6,
          8.6,
          8.6,
          8.6,
          8.6,
          8.6,
          8.6,
          8.6,
          8.6,
          8.6,
          8.6,
          8.6
         ],
         "yaxis": "y"
        },
        {
         "hoverlabel": {
          "namelength": 0
         },
         "hovertemplate": "<b>%{hovertext}</b><br><br>nome=City-Hotel Mxc3xcnchen<br>precoPorNoite=%{x}<br>nota=%{y}<br>distanciaMetros=%{marker.size}",
         "hovertext": [
          "City-Hotel Mxc3xcnchen",
          "City-Hotel Mxc3xcnchen",
          "City-Hotel Mxc3xcnchen",
          "City-Hotel Mxc3xcnchen",
          "City-Hotel Mxc3xcnchen",
          "City-Hotel Mxc3xcnchen",
          "City-Hotel Mxc3xcnchen",
          "City-Hotel Mxc3xcnchen",
          "City-Hotel Mxc3xcnchen",
          "City-Hotel Mxc3xcnchen",
          "City-Hotel Mxc3xcnchen",
          "City-Hotel Mxc3xcnchen",
          "City-Hotel Mxc3xcnchen"
         ],
         "legendgroup": "nome=City-Hotel Mxc3xcnchen",
         "marker": {
          "color": "#FF6692",
          "size": [
           1100,
           1100,
           1100,
           1100,
           1100,
           1100,
           1100,
           1100,
           1100,
           1100,
           1100,
           1100,
           1100
          ],
          "sizemode": "area",
          "sizeref": 4.75,
          "symbol": "circle"
         },
         "mode": "markers",
         "name": "nome=City-Hotel Mxc3xcnchen",
         "showlegend": true,
         "type": "scatter",
         "x": [
          834,
          834,
          825,
          834,
          916.5,
          834,
          834,
          834,
          834,
          834,
          834,
          916.5,
          834
         ],
         "xaxis": "x",
         "y": [
          7.8,
          7.8,
          7.8,
          7.8,
          7.8,
          7.8,
          7.8,
          7.8,
          7.8,
          7.8,
          7.8,
          7.8,
          7.8
         ],
         "yaxis": "y"
        }
       ],
       "layout": {
        "height": 600,
        "legend": {
         "itemsizing": "constant",
         "tracegroupgap": 0
        },
        "margin": {
         "t": 60
        },
        "template": {
         "data": {
          "bar": [
           {
            "error_x": {
             "color": "#2a3f5f"
            },
            "error_y": {
             "color": "#2a3f5f"
            },
            "marker": {
             "line": {
              "color": "#E5ECF6",
              "width": 0.5
             }
            },
            "type": "bar"
           }
          ],
          "barpolar": [
           {
            "marker": {
             "line": {
              "color": "#E5ECF6",
              "width": 0.5
             }
            },
            "type": "barpolar"
           }
          ],
          "carpet": [
           {
            "aaxis": {
             "endlinecolor": "#2a3f5f",
             "gridcolor": "white",
             "linecolor": "white",
             "minorgridcolor": "white",
             "startlinecolor": "#2a3f5f"
            },
            "baxis": {
             "endlinecolor": "#2a3f5f",
             "gridcolor": "white",
             "linecolor": "white",
             "minorgridcolor": "white",
             "startlinecolor": "#2a3f5f"
            },
            "type": "carpet"
           }
          ],
          "choropleth": [
           {
            "colorbar": {
             "outlinewidth": 0,
             "ticks": ""
            },
            "type": "choropleth"
           }
          ],
          "contour": [
           {
            "colorbar": {
             "outlinewidth": 0,
             "ticks": ""
            },
            "colorscale": [
             [
              0,
              "#0d0887"
             ],
             [
              0.1111111111111111,
              "#46039f"
             ],
             [
              0.2222222222222222,
              "#7201a8"
             ],
             [
              0.3333333333333333,
              "#9c179e"
             ],
             [
              0.4444444444444444,
              "#bd3786"
             ],
             [
              0.5555555555555556,
              "#d8576b"
             ],
             [
              0.6666666666666666,
              "#ed7953"
             ],
             [
              0.7777777777777778,
              "#fb9f3a"
             ],
             [
              0.8888888888888888,
              "#fdca26"
             ],
             [
              1,
              "#f0f921"
             ]
            ],
            "type": "contour"
           }
          ],
          "contourcarpet": [
           {
            "colorbar": {
             "outlinewidth": 0,
             "ticks": ""
            },
            "type": "contourcarpet"
           }
          ],
          "heatmap": [
           {
            "colorbar": {
             "outlinewidth": 0,
             "ticks": ""
            },
            "colorscale": [
             [
              0,
              "#0d0887"
             ],
             [
              0.1111111111111111,
              "#46039f"
             ],
             [
              0.2222222222222222,
              "#7201a8"
             ],
             [
              0.3333333333333333,
              "#9c179e"
             ],
             [
              0.4444444444444444,
              "#bd3786"
             ],
             [
              0.5555555555555556,
              "#d8576b"
             ],
             [
              0.6666666666666666,
              "#ed7953"
             ],
             [
              0.7777777777777778,
              "#fb9f3a"
             ],
             [
              0.8888888888888888,
              "#fdca26"
             ],
             [
              1,
              "#f0f921"
             ]
            ],
            "type": "heatmap"
           }
          ],
          "heatmapgl": [
           {
            "colorbar": {
             "outlinewidth": 0,
             "ticks": ""
            },
            "colorscale": [
             [
              0,
              "#0d0887"
             ],
             [
              0.1111111111111111,
              "#46039f"
             ],
             [
              0.2222222222222222,
              "#7201a8"
             ],
             [
              0.3333333333333333,
              "#9c179e"
             ],
             [
              0.4444444444444444,
              "#bd3786"
             ],
             [
              0.5555555555555556,
              "#d8576b"
             ],
             [
              0.6666666666666666,
              "#ed7953"
             ],
             [
              0.7777777777777778,
              "#fb9f3a"
             ],
             [
              0.8888888888888888,
              "#fdca26"
             ],
             [
              1,
              "#f0f921"
             ]
            ],
            "type": "heatmapgl"
           }
          ],
          "histogram": [
           {
            "marker": {
             "colorbar": {
              "outlinewidth": 0,
              "ticks": ""
             }
            },
            "type": "histogram"
           }
          ],
          "histogram2d": [
           {
            "colorbar": {
             "outlinewidth": 0,
             "ticks": ""
            },
            "colorscale": [
             [
              0,
              "#0d0887"
             ],
             [
              0.1111111111111111,
              "#46039f"
             ],
             [
              0.2222222222222222,
              "#7201a8"
             ],
             [
              0.3333333333333333,
              "#9c179e"
             ],
             [
              0.4444444444444444,
              "#bd3786"
             ],
             [
              0.5555555555555556,
              "#d8576b"
             ],
             [
              0.6666666666666666,
              "#ed7953"
             ],
             [
              0.7777777777777778,
              "#fb9f3a"
             ],
             [
              0.8888888888888888,
              "#fdca26"
             ],
             [
              1,
              "#f0f921"
             ]
            ],
            "type": "histogram2d"
           }
          ],
          "histogram2dcontour": [
           {
            "colorbar": {
             "outlinewidth": 0,
             "ticks": ""
            },
            "colorscale": [
             [
              0,
              "#0d0887"
             ],
             [
              0.1111111111111111,
              "#46039f"
             ],
             [
              0.2222222222222222,
              "#7201a8"
             ],
             [
              0.3333333333333333,
              "#9c179e"
             ],
             [
              0.4444444444444444,
              "#bd3786"
             ],
             [
              0.5555555555555556,
              "#d8576b"
             ],
             [
              0.6666666666666666,
              "#ed7953"
             ],
             [
              0.7777777777777778,
              "#fb9f3a"
             ],
             [
              0.8888888888888888,
              "#fdca26"
             ],
             [
              1,
              "#f0f921"
             ]
            ],
            "type": "histogram2dcontour"
           }
          ],
          "mesh3d": [
           {
            "colorbar": {
             "outlinewidth": 0,
             "ticks": ""
            },
            "type": "mesh3d"
           }
          ],
          "parcoords": [
           {
            "line": {
             "colorbar": {
              "outlinewidth": 0,
              "ticks": ""
             }
            },
            "type": "parcoords"
           }
          ],
          "scatter": [
           {
            "marker": {
             "colorbar": {
              "outlinewidth": 0,
              "ticks": ""
             }
            },
            "type": "scatter"
           }
          ],
          "scatter3d": [
           {
            "line": {
             "colorbar": {
              "outlinewidth": 0,
              "ticks": ""
             }
            },
            "marker": {
             "colorbar": {
              "outlinewidth": 0,
              "ticks": ""
             }
            },
            "type": "scatter3d"
           }
          ],
          "scattercarpet": [
           {
            "marker": {
             "colorbar": {
              "outlinewidth": 0,
              "ticks": ""
             }
            },
            "type": "scattercarpet"
           }
          ],
          "scattergeo": [
           {
            "marker": {
             "colorbar": {
              "outlinewidth": 0,
              "ticks": ""
             }
            },
            "type": "scattergeo"
           }
          ],
          "scattergl": [
           {
            "marker": {
             "colorbar": {
              "outlinewidth": 0,
              "ticks": ""
             }
            },
            "type": "scattergl"
           }
          ],
          "scattermapbox": [
           {
            "marker": {
             "colorbar": {
              "outlinewidth": 0,
              "ticks": ""
             }
            },
            "type": "scattermapbox"
           }
          ],
          "scatterpolar": [
           {
            "marker": {
             "colorbar": {
              "outlinewidth": 0,
              "ticks": ""
             }
            },
            "type": "scatterpolar"
           }
          ],
          "scatterpolargl": [
           {
            "marker": {
             "colorbar": {
              "outlinewidth": 0,
              "ticks": ""
             }
            },
            "type": "scatterpolargl"
           }
          ],
          "scatterternary": [
           {
            "marker": {
             "colorbar": {
              "outlinewidth": 0,
              "ticks": ""
             }
            },
            "type": "scatterternary"
           }
          ],
          "surface": [
           {
            "colorbar": {
             "outlinewidth": 0,
             "ticks": ""
            },
            "colorscale": [
             [
              0,
              "#0d0887"
             ],
             [
              0.1111111111111111,
              "#46039f"
             ],
             [
              0.2222222222222222,
              "#7201a8"
             ],
             [
              0.3333333333333333,
              "#9c179e"
             ],
             [
              0.4444444444444444,
              "#bd3786"
             ],
             [
              0.5555555555555556,
              "#d8576b"
             ],
             [
              0.6666666666666666,
              "#ed7953"
             ],
             [
              0.7777777777777778,
              "#fb9f3a"
             ],
             [
              0.8888888888888888,
              "#fdca26"
             ],
             [
              1,
              "#f0f921"
             ]
            ],
            "type": "surface"
           }
          ],
          "table": [
           {
            "cells": {
             "fill": {
              "color": "#EBF0F8"
             },
             "line": {
              "color": "white"
             }
            },
            "header": {
             "fill": {
              "color": "#C8D4E3"
             },
             "line": {
              "color": "white"
             }
            },
            "type": "table"
           }
          ]
         },
         "layout": {
          "annotationdefaults": {
           "arrowcolor": "#2a3f5f",
           "arrowhead": 0,
           "arrowwidth": 1
          },
          "colorscale": {
           "diverging": [
            [
             0,
             "#8e0152"
            ],
            [
             0.1,
             "#c51b7d"
            ],
            [
             0.2,
             "#de77ae"
            ],
            [
             0.3,
             "#f1b6da"
            ],
            [
             0.4,
             "#fde0ef"
            ],
            [
             0.5,
             "#f7f7f7"
            ],
            [
             0.6,
             "#e6f5d0"
            ],
            [
             0.7,
             "#b8e186"
            ],
            [
             0.8,
             "#7fbc41"
            ],
            [
             0.9,
             "#4d9221"
            ],
            [
             1,
             "#276419"
            ]
           ],
           "sequential": [
            [
             0,
             "#0d0887"
            ],
            [
             0.1111111111111111,
             "#46039f"
            ],
            [
             0.2222222222222222,
             "#7201a8"
            ],
            [
             0.3333333333333333,
             "#9c179e"
            ],
            [
             0.4444444444444444,
             "#bd3786"
            ],
            [
             0.5555555555555556,
             "#d8576b"
            ],
            [
             0.6666666666666666,
             "#ed7953"
            ],
            [
             0.7777777777777778,
             "#fb9f3a"
            ],
            [
             0.8888888888888888,
             "#fdca26"
            ],
            [
             1,
             "#f0f921"
            ]
           ],
           "sequentialminus": [
            [
             0,
             "#0d0887"
            ],
            [
             0.1111111111111111,
             "#46039f"
            ],
            [
             0.2222222222222222,
             "#7201a8"
            ],
            [
             0.3333333333333333,
             "#9c179e"
            ],
            [
             0.4444444444444444,
             "#bd3786"
            ],
            [
             0.5555555555555556,
             "#d8576b"
            ],
            [
             0.6666666666666666,
             "#ed7953"
            ],
            [
             0.7777777777777778,
             "#fb9f3a"
            ],
            [
             0.8888888888888888,
             "#fdca26"
            ],
            [
             1,
             "#f0f921"
            ]
           ]
          },
          "colorway": [
           "#636efa",
           "#EF553B",
           "#00cc96",
           "#ab63fa",
           "#FFA15A",
           "#19d3f3",
           "#FF6692",
           "#B6E880",
           "#FF97FF",
           "#FECB52"
          ],
          "font": {
           "color": "#2a3f5f"
          },
          "geo": {
           "bgcolor": "white",
           "lakecolor": "white",
           "landcolor": "#E5ECF6",
           "showlakes": true,
           "showland": true,
           "subunitcolor": "white"
          },
          "hoverlabel": {
           "align": "left"
          },
          "hovermode": "closest",
          "mapbox": {
           "style": "light"
          },
          "paper_bgcolor": "white",
          "plot_bgcolor": "#E5ECF6",
          "polar": {
           "angularaxis": {
            "gridcolor": "white",
            "linecolor": "white",
            "ticks": ""
           },
           "bgcolor": "#E5ECF6",
           "radialaxis": {
            "gridcolor": "white",
            "linecolor": "white",
            "ticks": ""
           }
          },
          "scene": {
           "xaxis": {
            "backgroundcolor": "#E5ECF6",
            "gridcolor": "white",
            "gridwidth": 2,
            "linecolor": "white",
            "showbackground": true,
            "ticks": "",
            "zerolinecolor": "white"
           },
           "yaxis": {
            "backgroundcolor": "#E5ECF6",
            "gridcolor": "white",
            "gridwidth": 2,
            "linecolor": "white",
            "showbackground": true,
            "ticks": "",
            "zerolinecolor": "white"
           },
           "zaxis": {
            "backgroundcolor": "#E5ECF6",
            "gridcolor": "white",
            "gridwidth": 2,
            "linecolor": "white",
            "showbackground": true,
            "ticks": "",
            "zerolinecolor": "white"
           }
          },
          "shapedefaults": {
           "line": {
            "color": "#2a3f5f"
           }
          },
          "ternary": {
           "aaxis": {
            "gridcolor": "white",
            "linecolor": "white",
            "ticks": ""
           },
           "baxis": {
            "gridcolor": "white",
            "linecolor": "white",
            "ticks": ""
           },
           "bgcolor": "#E5ECF6",
           "caxis": {
            "gridcolor": "white",
            "linecolor": "white",
            "ticks": ""
           }
          },
          "title": {
           "x": 0.05
          },
          "xaxis": {
           "automargin": true,
           "gridcolor": "white",
           "linecolor": "white",
           "ticks": "",
           "zerolinecolor": "white",
           "zerolinewidth": 2
          },
          "yaxis": {
           "automargin": true,
           "gridcolor": "white",
           "linecolor": "white",
           "ticks": "",
           "zerolinecolor": "white",
           "zerolinewidth": 2
          }
         }
        },
        "xaxis": {
         "anchor": "y",
         "domain": [
          0,
          0.98
         ],
         "title": {
          "text": "precoPorNoite"
         },
         "type": "log"
        },
        "yaxis": {
         "anchor": "x",
         "domain": [
          0,
          1
         ],
         "title": {
          "text": "nota"
         }
        }
       }
      },
      "text/html": [
       "<div>\n",
       "        \n",
       "        \n",
       "            <div id=\"424a58c8-53e8-4114-8211-085b4a63a549\" class=\"plotly-graph-div\" style=\"height:600px; width:100%;\"></div>\n",
       "            <script type=\"text/javascript\">\n",
       "                require([\"plotly\"], function(Plotly) {\n",
       "                    window.PLOTLYENV=window.PLOTLYENV || {};\n",
       "                    \n",
       "                if (document.getElementById(\"424a58c8-53e8-4114-8211-085b4a63a549\")) {\n",
       "                    Plotly.newPlot(\n",
       "                        '424a58c8-53e8-4114-8211-085b4a63a549',\n",
       "                        [{\"hoverlabel\": {\"namelength\": 0}, \"hovertemplate\": \"<b>%{hovertext}</b><br><br>nome=AWA Hotel<br>precoPorNoite=%{x}<br>nota=%{y}<br>distanciaMetros=%{marker.size}\", \"hovertext\": [\"AWA Hotel\", \"AWA Hotel\"], \"legendgroup\": \"nome=AWA Hotel\", \"marker\": {\"color\": \"#636efa\", \"size\": [1100.0, 1100.0], \"sizemode\": \"area\", \"sizeref\": 4.75, \"symbol\": \"circle\"}, \"mode\": \"markers\", \"name\": \"nome=AWA Hotel\", \"showlegend\": true, \"type\": \"scatter\", \"x\": [814.5, 814.5], \"xaxis\": \"x\", \"y\": [8.1, 8.1], \"yaxis\": \"y\"}, {\"hoverlabel\": {\"namelength\": 0}, \"hovertemplate\": \"<b>%{hovertext}</b><br><br>nome=Euro Youth Hotel Munich<br>precoPorNoite=%{x}<br>nota=%{y}<br>distanciaMetros=%{marker.size}\", \"hovertext\": [\"Euro Youth Hotel Munich\", \"Euro Youth Hotel Munich\", \"Euro Youth Hotel Munich\", \"Euro Youth Hotel Munich\", \"Euro Youth Hotel Munich\", \"Euro Youth Hotel Munich\", \"Euro Youth Hotel Munich\", \"Euro Youth Hotel Munich\", \"Euro Youth Hotel Munich\", \"Euro Youth Hotel Munich\", \"Euro Youth Hotel Munich\", \"Euro Youth Hotel Munich\", \"Euro Youth Hotel Munich\", \"Euro Youth Hotel Munich\", \"Euro Youth Hotel Munich\", \"Euro Youth Hotel Munich\"], \"legendgroup\": \"nome=Euro Youth Hotel Munich\", \"marker\": {\"color\": \"#EF553B\", \"size\": [1200.0, 1200.0, 1200.0, 1200.0, 1200.0, 1200.0, 1200.0, 1200.0, 1200.0, 1200.0, 1200.0, 1200.0, 1200.0, 1200.0, 1200.0, 1200.0], \"sizemode\": \"area\", \"sizeref\": 4.75, \"symbol\": \"circle\"}, \"mode\": \"markers\", \"name\": \"nome=Euro Youth Hotel Munich\", \"showlegend\": true, \"type\": \"scatter\", \"x\": [277.75, 277.75, 277.75, 277.75, 277.75, 277.75, 277.75, 277.75, 277.75, 277.75, 277.75, 277.75, 277.75, 277.75, 277.75, 277.75], \"xaxis\": \"x\", \"y\": [8.7, 8.7, 8.7, 8.7, 8.7, 8.7, 8.7, 8.7, 8.7, 8.7, 8.7, 8.7, 8.7, 8.7, 8.7, 8.7], \"yaxis\": \"y\"}, {\"hoverlabel\": {\"namelength\": 0}, \"hovertemplate\": \"<b>%{hovertext}</b><br><br>nome=Hotel Stachus<br>precoPorNoite=%{x}<br>nota=%{y}<br>distanciaMetros=%{marker.size}\", \"hovertext\": [\"Hotel Stachus\", \"Hotel Stachus\", \"Hotel Stachus\", \"Hotel Stachus\", \"Hotel Stachus\", \"Hotel Stachus\", \"Hotel Stachus\", \"Hotel Stachus\", \"Hotel Stachus\", \"Hotel Stachus\", \"Hotel Stachus\", \"Hotel Stachus\", \"Hotel Stachus\", \"Hotel Stachus\", \"Hotel Stachus\", \"Hotel Stachus\", \"Hotel Stachus\"], \"legendgroup\": \"nome=Hotel Stachus\", \"marker\": {\"color\": \"#00cc96\", \"size\": [950.0, 950.0, 950.0, 950.0, 950.0, 950.0, 950.0, 950.0, 950.0, 950.0, 950.0, 950.0, 950.0, 950.0, 950.0, 950.0, 950.0], \"sizemode\": \"area\", \"sizeref\": 4.75, \"symbol\": \"circle\"}, \"mode\": \"markers\", \"name\": \"nome=Hotel Stachus\", \"showlegend\": true, \"type\": \"scatter\", \"x\": [690.75, 690.75, 690.75, 690.75, 690.75, 690.75, 690.75, 690.75, 690.75, 690.75, 690.75, 690.75, 690.75, 690.75, 690.75, 690.75, 690.75], \"xaxis\": \"x\", \"y\": [7.9, 7.9, 7.9, 7.9, 7.9, 7.9, 7.9, 7.9, 7.9, 7.9, 7.9, 7.9, 7.9, 7.9, 7.9, 7.9, 7.9], \"yaxis\": \"y\"}, {\"hoverlabel\": {\"namelength\": 0}, \"hovertemplate\": \"<b>%{hovertext}</b><br><br>nome=Hotel Senator Mxc3xcnchen<br>precoPorNoite=%{x}<br>nota=%{y}<br>distanciaMetros=%{marker.size}\", \"hovertext\": [\"Hotel Senator Mxc3xcnchen\", \"Hotel Senator Mxc3xcnchen\", \"Hotel Senator Mxc3xcnchen\", \"Hotel Senator Mxc3xcnchen\", \"Hotel Senator Mxc3xcnchen\", \"Hotel Senator Mxc3xcnchen\", \"Hotel Senator Mxc3xcnchen\", \"Hotel Senator Mxc3xcnchen\", \"Hotel Senator Mxc3xcnchen\", \"Hotel Senator Mxc3xcnchen\", \"Hotel Senator Mxc3xcnchen\", \"Hotel Senator Mxc3xcnchen\", \"Hotel Senator Mxc3xcnchen\", \"Hotel Senator Mxc3xcnchen\", \"Hotel Senator Mxc3xcnchen\", \"Hotel Senator Mxc3xcnchen\"], \"legendgroup\": \"nome=Hotel Senator Mxc3xcnchen\", \"marker\": {\"color\": \"#ab63fa\", \"size\": [1900.0, 1900.0, 1900.0, 1900.0, 1900.0, 1900.0, 1900.0, 1900.0, 1900.0, 1900.0, 1900.0, 1900.0, 1900.0, 1900.0, 1900.0, 1900.0], \"sizemode\": \"area\", \"sizeref\": 4.75, \"symbol\": \"circle\"}, \"mode\": \"markers\", \"name\": \"nome=Hotel Senator Mxc3xcnchen\", \"showlegend\": true, \"type\": \"scatter\", \"x\": [720.25, 720.25, 720.25, 720.25, 720.25, 720.25, 720.25, 720.25, 720.25, 720.25, 720.25, 720.25, 720.25, 720.25, 720.25, 720.25], \"xaxis\": \"x\", \"y\": [8.2, 8.2, 8.2, 8.2, 8.2, 8.2, 8.2, 8.2, 8.2, 8.2, 8.2, 8.2, 8.2, 8.2, 8.2, 8.2], \"yaxis\": \"y\"}, {\"hoverlabel\": {\"namelength\": 0}, \"hovertemplate\": \"<b>%{hovertext}</b><br><br>nome=Hotel Luitpold<br>precoPorNoite=%{x}<br>nota=%{y}<br>distanciaMetros=%{marker.size}\", \"hovertext\": [\"Hotel Luitpold\", \"Hotel Luitpold\", \"Hotel Luitpold\", \"Hotel Luitpold\", \"Hotel Luitpold\", \"Hotel Luitpold\", \"Hotel Luitpold\", \"Hotel Luitpold\", \"Hotel Luitpold\", \"Hotel Luitpold\", \"Hotel Luitpold\", \"Hotel Luitpold\", \"Hotel Luitpold\", \"Hotel Luitpold\", \"Hotel Luitpold\"], \"legendgroup\": \"nome=Hotel Luitpold\", \"marker\": {\"color\": \"#FFA15A\", \"size\": [1100.0, 1100.0, 1100.0, 1100.0, 1100.0, 1100.0, 1100.0, 1100.0, 1100.0, 1100.0, 1100.0, 1100.0, 1100.0, 1100.0, 1100.0], \"sizemode\": \"area\", \"sizeref\": 4.75, \"symbol\": \"circle\"}, \"mode\": \"markers\", \"name\": \"nome=Hotel Luitpold\", \"showlegend\": true, \"type\": \"scatter\", \"x\": [731.5, 731.5, 731.5, 731.5, 731.5, 731.5, 731.5, 731.5, 731.5, 731.5, 731.5, 731.5, 731.5, 731.5, 731.5], \"xaxis\": \"x\", \"y\": [8.0, 8.0, 8.0, 8.0, 8.0, 8.0, 8.0, 8.0, 8.0, 8.0, 8.0, 8.0, 8.0, 8.0, 8.0], \"yaxis\": \"y\"}, {\"hoverlabel\": {\"namelength\": 0}, \"hovertemplate\": \"<b>%{hovertext}</b><br><br>nome=Hotel MIO y AMANO<br>precoPorNoite=%{x}<br>nota=%{y}<br>distanciaMetros=%{marker.size}\", \"hovertext\": [\"Hotel MIO y AMANO\", \"Hotel MIO y AMANO\", \"Hotel MIO y AMANO\", \"Hotel MIO y AMANO\", \"Hotel MIO y AMANO\", \"Hotel MIO y AMANO\", \"Hotel MIO y AMANO\", \"Hotel MIO y AMANO\", \"Hotel MIO y AMANO\", \"Hotel MIO y AMANO\", \"Hotel MIO y AMANO\", \"Hotel MIO y AMANO\", \"Hotel MIO y AMANO\", \"Hotel MIO y AMANO\"], \"legendgroup\": \"nome=Hotel MIO y AMANO\", \"marker\": {\"color\": \"#19d3f3\", \"size\": [600.0, 600.0, 600.0, 600.0, 600.0, 600.0, 600.0, 600.0, 600.0, 600.0, 600.0, 600.0, 600.0, 600.0], \"sizemode\": \"area\", \"sizeref\": 4.75, \"symbol\": \"circle\"}, \"mode\": \"markers\", \"name\": \"nome=Hotel MIO y AMANO\", \"showlegend\": true, \"type\": \"scatter\", \"x\": [897.5, 897.5, 887.5, 897.5, 897.5, 986.25, 897.5, 897.5, 897.5, 897.5, 897.5, 897.5, 986.25, 897.5], \"xaxis\": \"x\", \"y\": [8.6, 8.6, 8.6, 8.6, 8.6, 8.6, 8.6, 8.6, 8.6, 8.6, 8.6, 8.6, 8.6, 8.6], \"yaxis\": \"y\"}, {\"hoverlabel\": {\"namelength\": 0}, \"hovertemplate\": \"<b>%{hovertext}</b><br><br>nome=City-Hotel Mxc3xcnchen<br>precoPorNoite=%{x}<br>nota=%{y}<br>distanciaMetros=%{marker.size}\", \"hovertext\": [\"City-Hotel Mxc3xcnchen\", \"City-Hotel Mxc3xcnchen\", \"City-Hotel Mxc3xcnchen\", \"City-Hotel Mxc3xcnchen\", \"City-Hotel Mxc3xcnchen\", \"City-Hotel Mxc3xcnchen\", \"City-Hotel Mxc3xcnchen\", \"City-Hotel Mxc3xcnchen\", \"City-Hotel Mxc3xcnchen\", \"City-Hotel Mxc3xcnchen\", \"City-Hotel Mxc3xcnchen\", \"City-Hotel Mxc3xcnchen\", \"City-Hotel Mxc3xcnchen\"], \"legendgroup\": \"nome=City-Hotel Mxc3xcnchen\", \"marker\": {\"color\": \"#FF6692\", \"size\": [1100.0, 1100.0, 1100.0, 1100.0, 1100.0, 1100.0, 1100.0, 1100.0, 1100.0, 1100.0, 1100.0, 1100.0, 1100.0], \"sizemode\": \"area\", \"sizeref\": 4.75, \"symbol\": \"circle\"}, \"mode\": \"markers\", \"name\": \"nome=City-Hotel Mxc3xcnchen\", \"showlegend\": true, \"type\": \"scatter\", \"x\": [834.0, 834.0, 825.0, 834.0, 916.5, 834.0, 834.0, 834.0, 834.0, 834.0, 834.0, 916.5, 834.0], \"xaxis\": \"x\", \"y\": [7.8, 7.8, 7.8, 7.8, 7.8, 7.8, 7.8, 7.8, 7.8, 7.8, 7.8, 7.8, 7.8], \"yaxis\": \"y\"}],\n",
       "                        {\"height\": 600, \"legend\": {\"itemsizing\": \"constant\", \"tracegroupgap\": 0}, \"margin\": {\"t\": 60}, \"template\": {\"data\": {\"bar\": [{\"error_x\": {\"color\": \"#2a3f5f\"}, \"error_y\": {\"color\": \"#2a3f5f\"}, \"marker\": {\"line\": {\"color\": \"#E5ECF6\", \"width\": 0.5}}, \"type\": \"bar\"}], \"barpolar\": [{\"marker\": {\"line\": {\"color\": \"#E5ECF6\", \"width\": 0.5}}, \"type\": \"barpolar\"}], \"carpet\": [{\"aaxis\": {\"endlinecolor\": \"#2a3f5f\", \"gridcolor\": \"white\", \"linecolor\": \"white\", \"minorgridcolor\": \"white\", \"startlinecolor\": \"#2a3f5f\"}, \"baxis\": {\"endlinecolor\": \"#2a3f5f\", \"gridcolor\": \"white\", \"linecolor\": \"white\", \"minorgridcolor\": \"white\", \"startlinecolor\": \"#2a3f5f\"}, \"type\": \"carpet\"}], \"choropleth\": [{\"colorbar\": {\"outlinewidth\": 0, \"ticks\": \"\"}, \"type\": \"choropleth\"}], \"contour\": [{\"colorbar\": {\"outlinewidth\": 0, \"ticks\": \"\"}, \"colorscale\": [[0.0, \"#0d0887\"], [0.1111111111111111, \"#46039f\"], [0.2222222222222222, \"#7201a8\"], [0.3333333333333333, \"#9c179e\"], [0.4444444444444444, \"#bd3786\"], [0.5555555555555556, \"#d8576b\"], [0.6666666666666666, \"#ed7953\"], [0.7777777777777778, \"#fb9f3a\"], [0.8888888888888888, \"#fdca26\"], [1.0, \"#f0f921\"]], \"type\": \"contour\"}], \"contourcarpet\": [{\"colorbar\": {\"outlinewidth\": 0, \"ticks\": \"\"}, \"type\": \"contourcarpet\"}], \"heatmap\": [{\"colorbar\": {\"outlinewidth\": 0, \"ticks\": \"\"}, \"colorscale\": [[0.0, \"#0d0887\"], [0.1111111111111111, \"#46039f\"], [0.2222222222222222, \"#7201a8\"], [0.3333333333333333, \"#9c179e\"], [0.4444444444444444, \"#bd3786\"], [0.5555555555555556, \"#d8576b\"], [0.6666666666666666, \"#ed7953\"], [0.7777777777777778, \"#fb9f3a\"], [0.8888888888888888, \"#fdca26\"], [1.0, \"#f0f921\"]], \"type\": \"heatmap\"}], \"heatmapgl\": [{\"colorbar\": {\"outlinewidth\": 0, \"ticks\": \"\"}, \"colorscale\": [[0.0, \"#0d0887\"], [0.1111111111111111, \"#46039f\"], [0.2222222222222222, \"#7201a8\"], [0.3333333333333333, \"#9c179e\"], [0.4444444444444444, \"#bd3786\"], [0.5555555555555556, \"#d8576b\"], [0.6666666666666666, \"#ed7953\"], [0.7777777777777778, \"#fb9f3a\"], [0.8888888888888888, \"#fdca26\"], [1.0, \"#f0f921\"]], \"type\": \"heatmapgl\"}], \"histogram\": [{\"marker\": {\"colorbar\": {\"outlinewidth\": 0, \"ticks\": \"\"}}, \"type\": \"histogram\"}], \"histogram2d\": [{\"colorbar\": {\"outlinewidth\": 0, \"ticks\": \"\"}, \"colorscale\": [[0.0, \"#0d0887\"], [0.1111111111111111, \"#46039f\"], [0.2222222222222222, \"#7201a8\"], [0.3333333333333333, \"#9c179e\"], [0.4444444444444444, \"#bd3786\"], [0.5555555555555556, \"#d8576b\"], [0.6666666666666666, \"#ed7953\"], [0.7777777777777778, \"#fb9f3a\"], [0.8888888888888888, \"#fdca26\"], [1.0, \"#f0f921\"]], \"type\": \"histogram2d\"}], \"histogram2dcontour\": [{\"colorbar\": {\"outlinewidth\": 0, \"ticks\": \"\"}, \"colorscale\": [[0.0, \"#0d0887\"], [0.1111111111111111, \"#46039f\"], [0.2222222222222222, \"#7201a8\"], [0.3333333333333333, \"#9c179e\"], [0.4444444444444444, \"#bd3786\"], [0.5555555555555556, \"#d8576b\"], [0.6666666666666666, \"#ed7953\"], [0.7777777777777778, \"#fb9f3a\"], [0.8888888888888888, \"#fdca26\"], [1.0, \"#f0f921\"]], \"type\": \"histogram2dcontour\"}], \"mesh3d\": [{\"colorbar\": {\"outlinewidth\": 0, \"ticks\": \"\"}, \"type\": \"mesh3d\"}], \"parcoords\": [{\"line\": {\"colorbar\": {\"outlinewidth\": 0, \"ticks\": \"\"}}, \"type\": \"parcoords\"}], \"scatter\": [{\"marker\": {\"colorbar\": {\"outlinewidth\": 0, \"ticks\": \"\"}}, \"type\": \"scatter\"}], \"scatter3d\": [{\"line\": {\"colorbar\": {\"outlinewidth\": 0, \"ticks\": \"\"}}, \"marker\": {\"colorbar\": {\"outlinewidth\": 0, \"ticks\": \"\"}}, \"type\": \"scatter3d\"}], \"scattercarpet\": [{\"marker\": {\"colorbar\": {\"outlinewidth\": 0, \"ticks\": \"\"}}, \"type\": \"scattercarpet\"}], \"scattergeo\": [{\"marker\": {\"colorbar\": {\"outlinewidth\": 0, \"ticks\": \"\"}}, \"type\": \"scattergeo\"}], \"scattergl\": [{\"marker\": {\"colorbar\": {\"outlinewidth\": 0, \"ticks\": \"\"}}, \"type\": \"scattergl\"}], \"scattermapbox\": [{\"marker\": {\"colorbar\": {\"outlinewidth\": 0, \"ticks\": \"\"}}, \"type\": \"scattermapbox\"}], \"scatterpolar\": [{\"marker\": {\"colorbar\": {\"outlinewidth\": 0, \"ticks\": \"\"}}, \"type\": \"scatterpolar\"}], \"scatterpolargl\": [{\"marker\": {\"colorbar\": {\"outlinewidth\": 0, \"ticks\": \"\"}}, \"type\": \"scatterpolargl\"}], \"scatterternary\": [{\"marker\": {\"colorbar\": {\"outlinewidth\": 0, \"ticks\": \"\"}}, \"type\": \"scatterternary\"}], \"surface\": [{\"colorbar\": {\"outlinewidth\": 0, \"ticks\": \"\"}, \"colorscale\": [[0.0, \"#0d0887\"], [0.1111111111111111, \"#46039f\"], [0.2222222222222222, \"#7201a8\"], [0.3333333333333333, \"#9c179e\"], [0.4444444444444444, \"#bd3786\"], [0.5555555555555556, \"#d8576b\"], [0.6666666666666666, \"#ed7953\"], [0.7777777777777778, \"#fb9f3a\"], [0.8888888888888888, \"#fdca26\"], [1.0, \"#f0f921\"]], \"type\": \"surface\"}], \"table\": [{\"cells\": {\"fill\": {\"color\": \"#EBF0F8\"}, \"line\": {\"color\": \"white\"}}, \"header\": {\"fill\": {\"color\": \"#C8D4E3\"}, \"line\": {\"color\": \"white\"}}, \"type\": \"table\"}]}, \"layout\": {\"annotationdefaults\": {\"arrowcolor\": \"#2a3f5f\", \"arrowhead\": 0, \"arrowwidth\": 1}, \"colorscale\": {\"diverging\": [[0, \"#8e0152\"], [0.1, \"#c51b7d\"], [0.2, \"#de77ae\"], [0.3, \"#f1b6da\"], [0.4, \"#fde0ef\"], [0.5, \"#f7f7f7\"], [0.6, \"#e6f5d0\"], [0.7, \"#b8e186\"], [0.8, \"#7fbc41\"], [0.9, \"#4d9221\"], [1, \"#276419\"]], \"sequential\": [[0.0, \"#0d0887\"], [0.1111111111111111, \"#46039f\"], [0.2222222222222222, \"#7201a8\"], [0.3333333333333333, \"#9c179e\"], [0.4444444444444444, \"#bd3786\"], [0.5555555555555556, \"#d8576b\"], [0.6666666666666666, \"#ed7953\"], [0.7777777777777778, \"#fb9f3a\"], [0.8888888888888888, \"#fdca26\"], [1.0, \"#f0f921\"]], \"sequentialminus\": [[0.0, \"#0d0887\"], [0.1111111111111111, \"#46039f\"], [0.2222222222222222, \"#7201a8\"], [0.3333333333333333, \"#9c179e\"], [0.4444444444444444, \"#bd3786\"], [0.5555555555555556, \"#d8576b\"], [0.6666666666666666, \"#ed7953\"], [0.7777777777777778, \"#fb9f3a\"], [0.8888888888888888, \"#fdca26\"], [1.0, \"#f0f921\"]]}, \"colorway\": [\"#636efa\", \"#EF553B\", \"#00cc96\", \"#ab63fa\", \"#FFA15A\", \"#19d3f3\", \"#FF6692\", \"#B6E880\", \"#FF97FF\", \"#FECB52\"], \"font\": {\"color\": \"#2a3f5f\"}, \"geo\": {\"bgcolor\": \"white\", \"lakecolor\": \"white\", \"landcolor\": \"#E5ECF6\", \"showlakes\": true, \"showland\": true, \"subunitcolor\": \"white\"}, \"hoverlabel\": {\"align\": \"left\"}, \"hovermode\": \"closest\", \"mapbox\": {\"style\": \"light\"}, \"paper_bgcolor\": \"white\", \"plot_bgcolor\": \"#E5ECF6\", \"polar\": {\"angularaxis\": {\"gridcolor\": \"white\", \"linecolor\": \"white\", \"ticks\": \"\"}, \"bgcolor\": \"#E5ECF6\", \"radialaxis\": {\"gridcolor\": \"white\", \"linecolor\": \"white\", \"ticks\": \"\"}}, \"scene\": {\"xaxis\": {\"backgroundcolor\": \"#E5ECF6\", \"gridcolor\": \"white\", \"gridwidth\": 2, \"linecolor\": \"white\", \"showbackground\": true, \"ticks\": \"\", \"zerolinecolor\": \"white\"}, \"yaxis\": {\"backgroundcolor\": \"#E5ECF6\", \"gridcolor\": \"white\", \"gridwidth\": 2, \"linecolor\": \"white\", \"showbackground\": true, \"ticks\": \"\", \"zerolinecolor\": \"white\"}, \"zaxis\": {\"backgroundcolor\": \"#E5ECF6\", \"gridcolor\": \"white\", \"gridwidth\": 2, \"linecolor\": \"white\", \"showbackground\": true, \"ticks\": \"\", \"zerolinecolor\": \"white\"}}, \"shapedefaults\": {\"line\": {\"color\": \"#2a3f5f\"}}, \"ternary\": {\"aaxis\": {\"gridcolor\": \"white\", \"linecolor\": \"white\", \"ticks\": \"\"}, \"baxis\": {\"gridcolor\": \"white\", \"linecolor\": \"white\", \"ticks\": \"\"}, \"bgcolor\": \"#E5ECF6\", \"caxis\": {\"gridcolor\": \"white\", \"linecolor\": \"white\", \"ticks\": \"\"}}, \"title\": {\"x\": 0.05}, \"xaxis\": {\"automargin\": true, \"gridcolor\": \"white\", \"linecolor\": \"white\", \"ticks\": \"\", \"zerolinecolor\": \"white\", \"zerolinewidth\": 2}, \"yaxis\": {\"automargin\": true, \"gridcolor\": \"white\", \"linecolor\": \"white\", \"ticks\": \"\", \"zerolinecolor\": \"white\", \"zerolinewidth\": 2}}}, \"xaxis\": {\"anchor\": \"y\", \"domain\": [0.0, 0.98], \"title\": {\"text\": \"precoPorNoite\"}, \"type\": \"log\"}, \"yaxis\": {\"anchor\": \"x\", \"domain\": [0.0, 1.0], \"title\": {\"text\": \"nota\"}}},\n",
       "                        {\"responsive\": true}\n",
       "                    ).then(function(){\n",
       "                            \n",
       "var gd = document.getElementById('424a58c8-53e8-4114-8211-085b4a63a549');\n",
       "var x = new MutationObserver(function (mutations, observer) {{\n",
       "        var display = window.getComputedStyle(gd).display;\n",
       "        if (!display || display === 'none') {{\n",
       "            console.log([gd, 'removed!']);\n",
       "            Plotly.purge(gd);\n",
       "            observer.disconnect();\n",
       "        }}\n",
       "}});\n",
       "\n",
       "// Listen for the removal of the full notebook cells\n",
       "var notebookContainer = gd.closest('#notebook-container');\n",
       "if (notebookContainer) {{\n",
       "    x.observe(notebookContainer, {childList: true});\n",
       "}}\n",
       "\n",
       "// Listen for the clearing of the current output cell\n",
       "var outputEl = gd.closest('.output');\n",
       "if (outputEl) {{\n",
       "    x.observe(outputEl, {childList: true});\n",
       "}}\n",
       "\n",
       "                        })\n",
       "                };\n",
       "                });\n",
       "            </script>\n",
       "        </div>"
      ]
     },
     "metadata": {},
     "output_type": "display_data"
    }
   ],
   "source": [
    "import plotly.express as px\n",
    "fig = px.scatter(df, x=\"precoPorNoite\", y=\"nota\", size=\"distanciaMetros\", color=\"nome\",hover_name=\"nome\",log_x=True)\n",
    "fig.show()\n",
    "fig.write_html(filename+\".html\") "
   ]
  },
  {
   "cell_type": "code",
   "execution_count": 46,
   "metadata": {
    "scrolled": false
   },
   "outputs": [
    {
     "name": "stdout",
     "output_type": "stream",
     "text": [
      "de:  2020-03-05 00:00:00\n",
      "até:  2020-03-09 00:00:00\n"
     ]
    },
    {
     "data": {
      "text/html": [
       "<table border=\"1\" class=\"dataframe\">\n",
       "  <thead>\n",
       "    <tr style=\"text-align: right;\">\n",
       "      <th></th>\n",
       "      <th>nome</th>\n",
       "      <th>preco</th>\n",
       "      <th>nota</th>\n",
       "      <th>distancia</th>\n",
       "      <th>precoPorNoite</th>\n",
       "      <th>link</th>\n",
       "    </tr>\n",
       "  </thead>\n",
       "  <tbody>\n",
       "    <tr>\n",
       "      <th>0</th>\n",
       "      <td>AWA Hotel</td>\n",
       "      <td>3258</td>\n",
       "      <td>8.1</td>\n",
       "      <td>1.1 km from centre</td>\n",
       "      <td>814.50</td>\n",
       "      <td>&lt;a href=\"http://www.booking.com/hotel/de/devillemuenchen.en-gb.html?aid=304142&amp;label=gen173nr-1BCAEoggI46AdIM1gEaJMBiAEBmAEJuAEXyAEM2AEB6AEBiAIBqAID&amp;sid=0264f227627e990b07cba1276bca7042&amp;all_sr_blocks=6096608_196578731_0_0_0%2C6096608_196578731_0_0_0&amp;checkin=2020-03-05&amp;checkout=2020-03-09&amp;dest_id=-1829149&amp;dest_type=city&amp;group_adults=1&amp;group_children=0&amp;hapos=4&amp;highlighted_blocks=6096608_196578731_0_0_0%2C6096608_196578731_0_0_0&amp;hpos=1&amp;nflt=roomfacility%3D38%3B&amp;no_rooms=2&amp;req_adults=1&amp;req_children=0&amp;room1=A&amp;room2=A&amp;sr_order=popularity&amp;sr_pri_blocks=6096608_196578731_0_0_0__36072%2C6096608_196578731_0_0_0__36072&amp;srepoch=1578179411&amp;srpvid=e573a2e9213b006e&amp;ucfs=1&amp;from=searchresults\"&gt;Clique&lt;/a&gt;</td>\n",
       "    </tr>\n",
       "    <tr>\n",
       "      <th>17</th>\n",
       "      <td>Euro Youth Hotel Munich</td>\n",
       "      <td>1111</td>\n",
       "      <td>8.7</td>\n",
       "      <td>1.2 km from centre</td>\n",
       "      <td>277.75</td>\n",
       "      <td>&lt;a href=\"http://www.booking.com/hotel/de/euro-youth.en-gb.html?aid=304142&amp;label=gen173nr-1BCAEoggI46AdIM1gEaJMBiAEBmAEJuAEXyAEM2AEB6AEBiAIBqAID&amp;sid=7f7617d77bc8869baa397004c985b585&amp;all_sr_blocks=7946021_138720173_0_2_0%2C7946021_138720173_0_2_0&amp;checkin=2020-03-05&amp;checkout=2020-03-09&amp;dest_id=-1829149&amp;dest_type=city&amp;group_adults=1&amp;group_children=0&amp;hapos=19&amp;highlighted_blocks=7946021_138720173_0_2_0%2C7946021_138720173_0_2_0&amp;hpos=6&amp;nflt=roomfacility%3D38%3B&amp;no_rooms=2&amp;req_adults=1&amp;req_children=0&amp;room1=A&amp;room2=A&amp;sr_order=popularity&amp;sr_pri_blocks=7946021_138720173_0_2_0__12300%2C7946021_138720173_0_2_0__12300&amp;srepoch=1578179412&amp;srpvid=ada1a2e9cf090188&amp;ucfs=1&amp;from=searchresults\"&gt;Clique&lt;/a&gt;</td>\n",
       "    </tr>\n",
       "    <tr>\n",
       "      <th>26</th>\n",
       "      <td>Hotel Stachus</td>\n",
       "      <td>2763</td>\n",
       "      <td>7.9</td>\n",
       "      <td>950 m from centre</td>\n",
       "      <td>690.75</td>\n",
       "      <td>&lt;a href=\"http://www.booking.com/hotel/de/stachus-munchen.en-gb.html?aid=304142&amp;label=gen173nr-1BCAEoggI46AdIM1gEaJMBiAEBmAEJuAEXyAEM2AEB6AEBiAIBqAID&amp;sid=7f7617d77bc8869baa397004c985b585&amp;all_sr_blocks=7440101_121581685_0_2_0%2C7440105_121581685_0_2_0&amp;checkin=2020-03-05&amp;checkout=2020-03-09&amp;dest_id=-1829149&amp;dest_type=city&amp;group_adults=1&amp;group_children=0&amp;hapos=22&amp;highlighted_blocks=7440101_121581685_0_2_0%2C7440105_121581685_0_2_0&amp;hpos=9&amp;nflt=roomfacility%3D38%3B&amp;no_rooms=2&amp;req_adults=1&amp;req_children=0&amp;room1=A&amp;room2=A&amp;sr_order=popularity&amp;sr_pri_blocks=7440101_121581685_0_2_0__28600%2C7440105_121581685_0_2_0__32600&amp;srepoch=1578179412&amp;srpvid=ada1a2e9cf090188&amp;ucfs=1&amp;from=searchresults\"&gt;Clique&lt;/a&gt;</td>\n",
       "    </tr>\n",
       "    <tr>\n",
       "      <th>53</th>\n",
       "      <td>Hotel Senator Mxc3xcnchen</td>\n",
       "      <td>2881</td>\n",
       "      <td>8.2</td>\n",
       "      <td>1.9 km from centre</td>\n",
       "      <td>720.25</td>\n",
       "      <td>&lt;a href=\"http://www.booking.com/hotel/de/senator-munchen.en-gb.html?aid=304142&amp;label=gen173nr-1BCAEoggI46AdIM1gEaJMBiAEBmAEJuAEXyAEM2AEB6AEBiAIBqAID&amp;sid=7f7617d77bc8869baa397004c985b585&amp;all_sr_blocks=25878101_199270029_0_1_0%2C25878101_199270029_0_1_0&amp;checkin=2020-03-05&amp;checkout=2020-03-09&amp;dest_id=-1829149&amp;dest_type=city&amp;group_adults=1&amp;group_children=0&amp;hapos=31&amp;highlighted_blocks=25878101_199270029_0_1_0%2C25878101_199270029_0_1_0&amp;hpos=18&amp;nflt=roomfacility%3D38%3B&amp;no_rooms=2&amp;req_adults=1&amp;req_children=0&amp;room1=A&amp;room2=A&amp;sr_order=popularity&amp;sr_pri_blocks=25878101_199270029_0_1_0__31900%2C25878101_199270029_0_1_0__31900&amp;srepoch=1578179412&amp;srpvid=ada1a2e9cf090188&amp;ucfs=1&amp;from=searchresults\"&gt;Clique&lt;/a&gt;</td>\n",
       "    </tr>\n",
       "    <tr>\n",
       "      <th>54</th>\n",
       "      <td>Hotel Luitpold</td>\n",
       "      <td>2926</td>\n",
       "      <td>8.0</td>\n",
       "      <td>1.1 km from centre</td>\n",
       "      <td>731.50</td>\n",
       "      <td>&lt;a href=\"http://www.booking.com/hotel/de/luitpoldmuenchen.en-gb.html?aid=304142&amp;label=gen173nr-1BCAEoggI46AdIM1gEaJMBiAEBmAEJuAEXyAEM2AEB6AEBiAIBqAID&amp;sid=7f7617d77bc8869baa397004c985b585&amp;all_sr_blocks=6151801_200884162_0_1_0%2C6151801_200884162_0_1_0&amp;checkin=2020-03-05&amp;checkout=2020-03-09&amp;dest_id=-1829149&amp;dest_type=city&amp;group_adults=1&amp;group_children=0&amp;hapos=32&amp;highlighted_blocks=6151801_200884162_0_1_0%2C6151801_200884162_0_1_0&amp;hpos=19&amp;nflt=roomfacility%3D38%3B&amp;no_rooms=2&amp;req_adults=1&amp;req_children=0&amp;room1=A&amp;room2=A&amp;sr_order=popularity&amp;sr_pri_blocks=6151801_200884162_0_1_0__32400%2C6151801_200884162_0_1_0__32400&amp;srepoch=1578179412&amp;srpvid=ada1a2e9cf090188&amp;ucfs=1&amp;from=searchresults\"&gt;Clique&lt;/a&gt;</td>\n",
       "    </tr>\n",
       "    <tr>\n",
       "      <th>56</th>\n",
       "      <td>Hotel MIO y AMANO</td>\n",
       "      <td>3590</td>\n",
       "      <td>8.6</td>\n",
       "      <td>600 m from centre</td>\n",
       "      <td>897.50</td>\n",
       "      <td>&lt;a href=\"http://www.booking.com/hotel/de/mio-by-amano.en-gb.html?aid=304142&amp;label=gen173nr-1BCAEoggI46AdIM1gEaJMBiAEBmAEJuAEXyAEM2AEB6AEBiAIBqAID&amp;sid=7f7617d77bc8869baa397004c985b585&amp;all_sr_blocks=544159501_195870664_0_2_0%2C544159501_195870664_0_2_0&amp;checkin=2020-03-05&amp;checkout=2020-03-09&amp;dest_id=-1829149&amp;dest_type=city&amp;group_adults=1&amp;group_children=0&amp;hapos=33&amp;highlighted_blocks=544159501_195870664_0_2_0%2C544159501_195870664_0_2_0&amp;hpos=20&amp;nflt=roomfacility%3D38%3B&amp;no_rooms=2&amp;req_adults=1&amp;req_children=0&amp;room1=A&amp;room2=A&amp;sr_order=popularity&amp;sr_pri_blocks=544159501_195870664_0_2_0__39749%2C544159501_195870664_0_2_0__39749&amp;srepoch=1578179412&amp;srpvid=ada1a2e9cf090188&amp;ucfs=1&amp;from=searchresults\"&gt;Clique&lt;/a&gt;</td>\n",
       "    </tr>\n",
       "    <tr>\n",
       "      <th>57</th>\n",
       "      <td>City-Hotel Mxc3xcnchen</td>\n",
       "      <td>3336</td>\n",
       "      <td>7.8</td>\n",
       "      <td>1.1 km from centre</td>\n",
       "      <td>834.00</td>\n",
       "      <td>&lt;a href=\"http://www.booking.com/hotel/de/city-munchen.en-gb.html?aid=304142&amp;label=gen173nr-1BCAEoggI46AdIM1gEaJMBiAEBmAEJuAEXyAEM2AEB6AEBiAIBqAID&amp;sid=7f7617d77bc8869baa397004c985b585&amp;all_sr_blocks=6612001_196355785_0_2_0%2C6612001_196355785_0_2_0&amp;checkin=2020-03-05&amp;checkout=2020-03-09&amp;dest_id=-1829149&amp;dest_type=city&amp;group_adults=1&amp;group_children=0&amp;hapos=34&amp;highlighted_blocks=6612001_196355785_0_2_0%2C6612001_196355785_0_2_0&amp;hpos=21&amp;nflt=roomfacility%3D38%3B&amp;no_rooms=2&amp;req_adults=1&amp;req_children=0&amp;room1=A&amp;room2=A&amp;sr_order=popularity&amp;sr_pri_blocks=6612001_196355785_0_2_0__36945%2C6612001_196355785_0_2_0__36945&amp;srepoch=1578179412&amp;srpvid=ada1a2e9cf090188&amp;ucfs=1&amp;from=searchresults\"&gt;Clique&lt;/a&gt;</td>\n",
       "    </tr>\n",
       "    <tr>\n",
       "      <th>148</th>\n",
       "      <td>Hotel MIO y AMANO</td>\n",
       "      <td>3550</td>\n",
       "      <td>8.6</td>\n",
       "      <td>600 m from centre</td>\n",
       "      <td>887.50</td>\n",
       "      <td>&lt;a href=\"http://www.booking.com/hotel/de/mio-by-amano.en-gb.html?aid=304142&amp;label=gen173nr-1BCAEoggI46AdIM1gEaJMBiAEBmAEJuAEXyAEM2AEB6AEBiAIBqAID&amp;sid=a9fde9c838328ec87abf5ca0f834c72a&amp;all_sr_blocks=544159501_195870664_0_2_0%2C544159501_195870664_0_2_0&amp;checkin=2020-03-05&amp;checkout=2020-03-09&amp;dest_id=-1829149&amp;dest_type=city&amp;group_adults=1&amp;group_children=0&amp;hapos=33&amp;highlighted_blocks=544159501_195870664_0_2_0%2C544159501_195870664_0_2_0&amp;hpos=18&amp;nflt=roomfacility%3D38%3B&amp;no_rooms=2&amp;req_adults=1&amp;req_children=0&amp;room1=A&amp;room2=A&amp;sr_order=popularity&amp;sr_pri_blocks=544159501_195870664_0_2_0__39311%2C544159501_195870664_0_2_0__39311&amp;srepoch=1578179412&amp;srpvid=f6b8a2e9d2d40074&amp;ucfs=1&amp;from=searchresults\"&gt;Clique&lt;/a&gt;</td>\n",
       "    </tr>\n",
       "    <tr>\n",
       "      <th>149</th>\n",
       "      <td>City-Hotel Mxc3xcnchen</td>\n",
       "      <td>3300</td>\n",
       "      <td>7.8</td>\n",
       "      <td>1.1 km from centre</td>\n",
       "      <td>825.00</td>\n",
       "      <td>&lt;a href=\"http://www.booking.com/hotel/de/city-munchen.en-gb.html?aid=304142&amp;label=gen173nr-1BCAEoggI46AdIM1gEaJMBiAEBmAEJuAEXyAEM2AEB6AEBiAIBqAID&amp;sid=a9fde9c838328ec87abf5ca0f834c72a&amp;all_sr_blocks=6612001_196355785_0_2_0%2C6612001_196355785_0_2_0&amp;checkin=2020-03-05&amp;checkout=2020-03-09&amp;dest_id=-1829149&amp;dest_type=city&amp;group_adults=1&amp;group_children=0&amp;hapos=34&amp;highlighted_blocks=6612001_196355785_0_2_0%2C6612001_196355785_0_2_0&amp;hpos=19&amp;nflt=roomfacility%3D38%3B&amp;no_rooms=2&amp;req_adults=1&amp;req_children=0&amp;room1=A&amp;room2=A&amp;sr_order=popularity&amp;sr_pri_blocks=6612001_196355785_0_2_0__36540%2C6612001_196355785_0_2_0__36540&amp;srepoch=1578179412&amp;srpvid=f6b8a2e9d2d40074&amp;ucfs=1&amp;from=searchresults\"&gt;Clique&lt;/a&gt;</td>\n",
       "    </tr>\n",
       "    <tr>\n",
       "      <th>236</th>\n",
       "      <td>Hotel MIO y AMANO</td>\n",
       "      <td>3945</td>\n",
       "      <td>8.6</td>\n",
       "      <td>600 m from centre</td>\n",
       "      <td>986.25</td>\n",
       "      <td>&lt;a href=\"http://www.booking.com/hotel/de/mio-by-amano.en-gb.html?aid=304142&amp;label=gen173nr-1BCAEoggI46AdIM1gEaJMBiAEBmAEJuAEXyAEM2AEB6AEBiAIBqAID&amp;sid=00a4a05aef6827ddf1ae1f659b3f4925&amp;all_sr_blocks=544159501_195870664_0_2_0%2C544159501_195870664_0_2_0&amp;checkin=2020-03-05&amp;checkout=2020-03-09&amp;dest_id=-1829149&amp;dest_type=city&amp;group_adults=1&amp;group_children=0&amp;hapos=34&amp;highlighted_blocks=544159501_195870664_0_2_0%2C544159501_195870664_0_2_0&amp;hpos=28&amp;nflt=roomfacility%3D38%3B&amp;no_rooms=2&amp;req_adults=1&amp;req_children=0&amp;room1=A&amp;room2=A&amp;sr_order=popularity&amp;sr_pri_blocks=544159501_195870664_0_2_0__43680%2C544159501_195870664_0_2_0__43680&amp;srepoch=1578179412&amp;srpvid=dda5a2e90fd900f5&amp;ucfs=1&amp;from=searchresults\"&gt;Clique&lt;/a&gt;</td>\n",
       "    </tr>\n",
       "    <tr>\n",
       "      <th>237</th>\n",
       "      <td>City-Hotel Mxc3xcnchen</td>\n",
       "      <td>3666</td>\n",
       "      <td>7.8</td>\n",
       "      <td>1.1 km from centre</td>\n",
       "      <td>916.50</td>\n",
       "      <td>&lt;a href=\"http://www.booking.com/hotel/de/city-munchen.en-gb.html?aid=304142&amp;label=gen173nr-1BCAEoggI46AdIM1gEaJMBiAEBmAEJuAEXyAEM2AEB6AEBiAIBqAID&amp;sid=00a4a05aef6827ddf1ae1f659b3f4925&amp;all_sr_blocks=6612001_196355785_0_2_0%2C6612001_196355785_0_2_0&amp;checkin=2020-03-05&amp;checkout=2020-03-09&amp;dest_id=-1829149&amp;dest_type=city&amp;group_adults=1&amp;group_children=0&amp;hapos=35&amp;highlighted_blocks=6612001_196355785_0_2_0%2C6612001_196355785_0_2_0&amp;hpos=29&amp;nflt=roomfacility%3D38%3B&amp;no_rooms=2&amp;req_adults=1&amp;req_children=0&amp;room1=A&amp;room2=A&amp;sr_order=popularity&amp;sr_pri_blocks=6612001_196355785_0_2_0__40600%2C6612001_196355785_0_2_0__40600&amp;srepoch=1578179412&amp;srpvid=dda5a2e90fd900f5&amp;ucfs=1&amp;from=searchresults\"&gt;Clique&lt;/a&gt;</td>\n",
       "    </tr>\n",
       "  </tbody>\n",
       "</table>"
      ],
      "text/plain": [
       "<IPython.core.display.HTML object>"
      ]
     },
     "metadata": {},
     "output_type": "display_data"
    }
   ],
   "source": [
    "df['link'] ='<a href=\"http://'+df['url']+'\">Clique</a>'\n",
    "\n",
    "df= df.drop_duplicates(subset=['nome', 'preco'])\n",
    "dfa = df.copy()\n",
    "del dfa['url']\n",
    "del dfa['de']\n",
    "del dfa['ate']\n",
    "del dfa['dias']\n",
    "del dfa['distanciaMetros']\n",
    "dfa = dfa.to_html()\n",
    "print('de: ',df['de'].max())\n",
    "print('até: ',df['ate'].max())\n",
    "#display(dfa)\n",
    "#display(df.drop_duplicates().sort_values(by=['precoPorNoite'],ascending=False))\n",
    "from IPython.core.display import display, HTML\n",
    "display(HTML(dfa))"
   ]
  },
  {
   "cell_type": "code",
   "execution_count": null,
   "metadata": {},
   "outputs": [],
   "source": []
  },
  {
   "cell_type": "code",
   "execution_count": null,
   "metadata": {},
   "outputs": [],
   "source": []
  },
  {
   "cell_type": "code",
   "execution_count": null,
   "metadata": {},
   "outputs": [],
   "source": []
  }
 ],
 "metadata": {
  "kernelspec": {
   "display_name": "Python 3",
   "language": "python",
   "name": "python3"
  },
  "language_info": {
   "codemirror_mode": {
    "name": "ipython",
    "version": 3
   },
   "file_extension": ".py",
   "mimetype": "text/x-python",
   "name": "python",
   "nbconvert_exporter": "python",
   "pygments_lexer": "ipython3",
   "version": "3.7.3"
  }
 },
 "nbformat": 4,
 "nbformat_minor": 2
}
