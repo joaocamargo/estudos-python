{
 "cells": [
  {
   "cell_type": "code",
   "execution_count": 167,
   "metadata": {},
   "outputs": [],
   "source": [
    "import argparse\n",
    "import argcomplete\n",
    "from argcomplete.completers import ChoicesCompleter\n",
    "from argcomplete.completers import EnvironCompleter\n",
    "import requests\n",
    "#from bthread import BookingThread\n",
    "from bs4 import BeautifulSoup\n",
    "#from file_writer import FileWriter\n",
    "import reverse_geocoder as rg \n",
    "import pprint"
   ]
  },
  {
   "cell_type": "code",
   "execution_count": 168,
   "metadata": {},
   "outputs": [],
   "source": [
    "rooms=2\n",
    "#country = ['Gramado','Bento Goncalves','Sao francisco de paula','Canela','nova petropolis']\n",
    "#country = ['Gramado','Canela','nova petropolis']\n",
    "country = ['Gramado']\n",
    "anoFinal=2020\n",
    "anoInicial=2019\n",
    "mesFinal=1\n",
    "mesInicial=12\n",
    "diaInicial=30\n",
    "diaFinal=1\n",
    "dest_id=-133\n"
   ]
  },
  {
   "cell_type": "code",
   "execution_count": 460,
   "metadata": {},
   "outputs": [],
   "source": [
    "def getUrlResult(offset,anoFinal,anoInicial,mesFinal,mesInicial,diaInicial,diaFinal,country):\n",
    "    url = 'https://www.airbnb.com.br/s/{country}/homes'\\\n",
    "              '?search_type=pagination'\\\n",
    "              '&checkin={anoInicial}-{mesInicial}-{diaInicial}'\\\n",
    "              '&checkout={anoFinal}-{mesFinal}-{diaFinal}&adults={rooms}&property_type_id%5B%5D=1&property_type_id%5B%5D=43&property_type_id%5B%5D=47'\\\n",
    "              '&room_types%5B%5D=Entire%20home%2Fapt'\\\n",
    "              '&section_offset=5&items_offset={offset}'.format(rooms=rooms, country=country.replace(' ', '-'),anoFinal=anoFinal,mesFinal=mesFinal,diaInicial=diaInicial,mesInicial=mesInicial,anoInicial=anoInicial,diaFinal=diaFinal,offset=offset)\n",
    "    if offset==0:\n",
    "        url.replace('&section_offset=5&items_offset='+str(offset),'')\n",
    "\n",
    "    \n",
    "    print(url)\n",
    "    r = requests.get(url, headers={'User-Agent': 'Mozilla/5.0 (Windows NT 6.1; Win64; x64; rv:47.0)'' Gecko/20100101 Firefox/48.0'})\n",
    "    html = r.content\n",
    "    parsed_html = BeautifulSoup(html)#, 'lxml')\n",
    "    hotel = parsed_html.find_all('div', {'itemprop': 'itemListElement'})\n",
    "    return hotel,url\n",
    "\n",
    "\n",
    "\n",
    "def getUrlResultDetailPage(anoFinal,anoInicial,mesFinal,mesInicial,diaInicial,diaFinal,roomNumber):\n",
    "    if mesFinal <10:\n",
    "        mesFinal = '0'+str(mesFinal)\n",
    "    if mesInicial <10:\n",
    "        mesInicial = '0'+str(mesInicial)\n",
    "    if diaInicial <10:\n",
    "        diaInicial = '0'+str(diaInicial)\n",
    "    if diaFinal <10:\n",
    "        diaFinal = '0'+str(diaFinal)   \n",
    "    \n",
    "    \n",
    "    url = 'https://www.airbnb.com.br/rooms/{roomNumber}?adults={rooms}'\\\n",
    "          '&checkin={anoInicial}-{mesInicial}-{diaInicial}'\\\n",
    "          '&checkout={anoFinal}-{mesFinal}-{diaFinal}'.format(roomNumber=roomNumber,rooms=rooms,anoFinal=anoFinal,mesFinal=mesFinal,diaInicial=diaInicial,mesInicial=mesInicial,anoInicial=anoInicial,diaFinal=diaFinal)\n",
    "    print(url)\n",
    "    r = requests.get(url, headers={'User-Agent': 'Mozilla/5.0 (Windows NT 6.1; Win64; x64; rv:47.0)'' Gecko/20100101 Firefox/48.0'})\n",
    "    html = r.content\n",
    "    parsed_html = BeautifulSoup(html, 'lxml')\n",
    "    hotel = parsed_html.find_all('script',{'id':'data-state'})\n",
    "    \n",
    "    \n",
    "        \n",
    "    return hotel,url"
   ]
  },
  {
   "cell_type": "code",
   "execution_count": 479,
   "metadata": {
    "scrolled": false
   },
   "outputs": [
    {
     "name": "stdout",
     "output_type": "stream",
     "text": [
      "https://www.airbnb.com.br/rooms/29729079?adults=2&checkin=2019-12-30&checkout=2020-01-01\n",
      "13958\n",
      "\n"
     ]
    }
   ],
   "source": [
    "testeURL='https://www.airbnb.com.br/rooms/29729078?adults=2&check_in=2019-12-30&check_out=2020-01-01'\n",
    "#29729079\n",
    "#33513010\n",
    "hotel,url = getUrlResultDetailPage(anoFinal,anoInicial,mesFinal,mesInicial,diaInicial,diaFinal,'29729079')\n",
    "\n",
    "texto = str(hotel)\n",
    "position = texto.find('lat')\n",
    "print(position)\n",
    "print(texto[position:100])\n"
   ]
  },
  {
   "cell_type": "code",
   "execution_count": 446,
   "metadata": {},
   "outputs": [
    {
     "name": "stdout",
     "output_type": "stream",
     "text": [
      "\n"
     ]
    }
   ],
   "source": [
    "print(hott[pos:200])"
   ]
  },
  {
   "cell_type": "code",
   "execution_count": 403,
   "metadata": {},
   "outputs": [
    {
     "ename": "IndentationError",
     "evalue": "expected an indented block (<ipython-input-403-8bb47ee3bc30>, line 22)",
     "output_type": "error",
     "traceback": [
      "\u001b[1;36m  File \u001b[1;32m\"<ipython-input-403-8bb47ee3bc30>\"\u001b[1;36m, line \u001b[1;32m22\u001b[0m\n\u001b[1;33m    for i in ho.find_all('div', {'class': '_1u1r986'}):\u001b[0m\n\u001b[1;37m      ^\u001b[0m\n\u001b[1;31mIndentationError\u001b[0m\u001b[1;31m:\u001b[0m expected an indented block\n"
     ]
    }
   ],
   "source": [
    "def saveItems(dados_airbnb,hotel,cidade,urlSearch):\n",
    "    count=0\n",
    "    for ho in hotel:\n",
    "        \n",
    "        tipo=''\n",
    "        nota=''\n",
    "        superhost=''\n",
    "        nome=''\n",
    "        url=''\n",
    "        valor=''\n",
    "                      \n",
    "            \n",
    "        nome = ho.find('a', {'data-check-info-section': 'true'})['aria-label']\n",
    "        #print(nome,count)\n",
    "        url = ho.find('a', {'data-check-info-section': 'true'})['href']\n",
    "        \n",
    "        \n",
    "        if url is not None:\n",
    "            \n",
    "        \n",
    "        \n",
    "        for i in ho.find_all('div', {'class': '_1u1r986'}):\n",
    "            valor = i.text.replace('Preço:Total de ','')       \n",
    "            \n",
    "            if len(ho.find_all('span', {'class': '_ky9opu0'}))>0:\n",
    "                nota = ho.find('span', {'class': '_ky9opu0'}).text        \n",
    "                #print(nota,count)\n",
    "            if len(ho.find_all('span', {'class': '_1a31dx8f'}))>0:\n",
    "                superhost = ho.find('span', {'class': '_1a31dx8f'}).text                \n",
    "            if len(ho.find_all('div', {'class': '_1j3840rv'}))>0:\n",
    "                tipo = ho.find('div', {'class': '_1j3840rv'}).text                    \n",
    "            count=count+1\n",
    "            dados_airbnb.append({'Cidade':cidade,'Nome':nome, 'Nota':nota,'SuperHost': superhost != '','Valor':valor,'Tipo':tipo,'url':'https://www.airbnb.com.br'+url,'urlSearch':urlSearch})\n",
    "    return dados_airbnb,count"
   ]
  },
  {
   "cell_type": "code",
   "execution_count": null,
   "metadata": {},
   "outputs": [],
   "source": []
  },
  {
   "cell_type": "code",
   "execution_count": 171,
   "metadata": {},
   "outputs": [],
   "source": [
    "#hotel = getUrlResult(6,anoFinal,anoInicial,mesFinal,mesInicial,diaInicial,diaFinal,country)\n",
    "#saveItems(dados_airbnb,hotel,country)"
   ]
  },
  {
   "cell_type": "code",
   "execution_count": 174,
   "metadata": {},
   "outputs": [
    {
     "name": "stdout",
     "output_type": "stream",
     "text": [
      "[0]\n",
      "https://www.airbnb.com.br/s/Gramado/homes?search_type=pagination&checkin=2019-12-30&checkout=2020-1-1&adults=2&property_type_id%5B%5D=1&property_type_id%5B%5D=43&property_type_id%5B%5D=47&room_types%5B%5D=Entire%20home%2Fapt&section_offset=5&items_offset=0\n",
      "Completando Gramado ...\n"
     ]
    }
   ],
   "source": [
    "pages = []\n",
    "#for i in range(0,14):\n",
    "for i in range(0,1):\n",
    "    pages.append(18*i)\n",
    "\n",
    "dados_airbnb = []\n",
    "print(pages)\n",
    "\n",
    "for cidade in country:\n",
    "    countPousadas = 0\n",
    "    for i in pages:\n",
    "        hotel,urlSearch = getUrlResult(i,anoFinal,anoInicial,mesFinal,mesInicial,diaInicial,diaFinal,cidade)\n",
    "        dados_airbnb,qtd = saveItems(dados_airbnb,hotel,cidade,urlSearch)\n",
    "    print('Completando {} ...'.format(cidade))\n",
    "\n",
    "\n",
    "\n",
    "#saveItems(dados_airbnb,hotel)"
   ]
  },
  {
   "cell_type": "code",
   "execution_count": 175,
   "metadata": {
    "scrolled": false
   },
   "outputs": [
    {
     "data": {
      "text/html": [
       "<div>\n",
       "<style scoped>\n",
       "    .dataframe tbody tr th:only-of-type {\n",
       "        vertical-align: middle;\n",
       "    }\n",
       "\n",
       "    .dataframe tbody tr th {\n",
       "        vertical-align: top;\n",
       "    }\n",
       "\n",
       "    .dataframe thead th {\n",
       "        text-align: right;\n",
       "    }\n",
       "</style>\n",
       "<table border=\"1\" class=\"dataframe\">\n",
       "  <thead>\n",
       "    <tr style=\"text-align: right;\">\n",
       "      <th></th>\n",
       "      <th>Cidade</th>\n",
       "      <th>Nome</th>\n",
       "      <th>Nota</th>\n",
       "      <th>SuperHost</th>\n",
       "      <th>Valor</th>\n",
       "      <th>Tipo</th>\n",
       "      <th>url</th>\n",
       "      <th>urlSearch</th>\n",
       "    </tr>\n",
       "  </thead>\n",
       "  <tbody>\n",
       "    <tr>\n",
       "      <th>0</th>\n",
       "      <td>Gramado</td>\n",
       "      <td>Quarto para 2 pessoas</td>\n",
       "      <td></td>\n",
       "      <td>False</td>\n",
       "      <td>R$226</td>\n",
       "      <td></td>\n",
       "      <td>https://www.airbnb.com.br/rooms/38778926?locat...</td>\n",
       "      <td>https://www.airbnb.com.br/s/Gramado/homes?sear...</td>\n",
       "    </tr>\n",
       "    <tr>\n",
       "      <th>1</th>\n",
       "      <td>Gramado</td>\n",
       "      <td>GRAMADO, Natal Luz, assista da janela do seu apto</td>\n",
       "      <td></td>\n",
       "      <td>False</td>\n",
       "      <td>R$452</td>\n",
       "      <td></td>\n",
       "      <td>https://www.airbnb.com.br/rooms/40376411?locat...</td>\n",
       "      <td>https://www.airbnb.com.br/s/Gramado/homes?sear...</td>\n",
       "    </tr>\n",
       "    <tr>\n",
       "      <th>2</th>\n",
       "      <td>Gramado</td>\n",
       "      <td>Apto Maria Flor  106 Gramado</td>\n",
       "      <td></td>\n",
       "      <td>True</td>\n",
       "      <td>R$903</td>\n",
       "      <td>Apartamento inteiro</td>\n",
       "      <td>https://www.airbnb.com.br/rooms/30126185?locat...</td>\n",
       "      <td>https://www.airbnb.com.br/s/Gramado/homes?sear...</td>\n",
       "    </tr>\n",
       "    <tr>\n",
       "      <th>3</th>\n",
       "      <td>Gramado</td>\n",
       "      <td>Apto Novo e Aconchegante / Residencial Orquídeas</td>\n",
       "      <td></td>\n",
       "      <td>False</td>\n",
       "      <td>R$1,219</td>\n",
       "      <td></td>\n",
       "      <td>https://www.airbnb.com.br/rooms/20959062?locat...</td>\n",
       "      <td>https://www.airbnb.com.br/s/Gramado/homes?sear...</td>\n",
       "    </tr>\n",
       "    <tr>\n",
       "      <th>4</th>\n",
       "      <td>Gramado</td>\n",
       "      <td>Aconchego Apartamento Lovato</td>\n",
       "      <td>4.83</td>\n",
       "      <td>False</td>\n",
       "      <td>R$903</td>\n",
       "      <td></td>\n",
       "      <td>https://www.airbnb.com.br/rooms/23658095?locat...</td>\n",
       "      <td>https://www.airbnb.com.br/s/Gramado/homes?sear...</td>\n",
       "    </tr>\n",
       "  </tbody>\n",
       "</table>\n",
       "</div>"
      ],
      "text/plain": [
       "    Cidade                                               Nome  Nota  \\\n",
       "0  Gramado                              Quarto para 2 pessoas         \n",
       "1  Gramado  GRAMADO, Natal Luz, assista da janela do seu apto         \n",
       "2  Gramado                       Apto Maria Flor  106 Gramado         \n",
       "3  Gramado   Apto Novo e Aconchegante / Residencial Orquídeas         \n",
       "4  Gramado                       Aconchego Apartamento Lovato  4.83   \n",
       "\n",
       "   SuperHost    Valor                 Tipo  \\\n",
       "0      False    R$226                        \n",
       "1      False    R$452                        \n",
       "2       True    R$903  Apartamento inteiro   \n",
       "3      False  R$1,219                        \n",
       "4      False    R$903                        \n",
       "\n",
       "                                                 url  \\\n",
       "0  https://www.airbnb.com.br/rooms/38778926?locat...   \n",
       "1  https://www.airbnb.com.br/rooms/40376411?locat...   \n",
       "2  https://www.airbnb.com.br/rooms/30126185?locat...   \n",
       "3  https://www.airbnb.com.br/rooms/20959062?locat...   \n",
       "4  https://www.airbnb.com.br/rooms/23658095?locat...   \n",
       "\n",
       "                                           urlSearch  \n",
       "0  https://www.airbnb.com.br/s/Gramado/homes?sear...  \n",
       "1  https://www.airbnb.com.br/s/Gramado/homes?sear...  \n",
       "2  https://www.airbnb.com.br/s/Gramado/homes?sear...  \n",
       "3  https://www.airbnb.com.br/s/Gramado/homes?sear...  \n",
       "4  https://www.airbnb.com.br/s/Gramado/homes?sear...  "
      ]
     },
     "metadata": {},
     "output_type": "display_data"
    },
    {
     "data": {
      "text/html": [
       "<div>\n",
       "<style scoped>\n",
       "    .dataframe tbody tr th:only-of-type {\n",
       "        vertical-align: middle;\n",
       "    }\n",
       "\n",
       "    .dataframe tbody tr th {\n",
       "        vertical-align: top;\n",
       "    }\n",
       "\n",
       "    .dataframe thead th {\n",
       "        text-align: right;\n",
       "    }\n",
       "</style>\n",
       "<table border=\"1\" class=\"dataframe\">\n",
       "  <thead>\n",
       "    <tr style=\"text-align: right;\">\n",
       "      <th></th>\n",
       "      <th>Cidade</th>\n",
       "      <th>Tipo</th>\n",
       "    </tr>\n",
       "  </thead>\n",
       "  <tbody>\n",
       "    <tr>\n",
       "      <th>0</th>\n",
       "      <td>Gramado</td>\n",
       "      <td>18</td>\n",
       "    </tr>\n",
       "  </tbody>\n",
       "</table>\n",
       "</div>"
      ],
      "text/plain": [
       "    Cidade  Tipo\n",
       "0  Gramado    18"
      ]
     },
     "metadata": {},
     "output_type": "display_data"
    }
   ],
   "source": [
    "import pandas as pd\n",
    "df = pd.DataFrame(dados_airbnb)\n",
    "df= df.drop_duplicates()\n",
    "display(df.head(5))\n",
    "resumo = df.groupby('Cidade').count().reset_index()\n",
    "display(resumo[['Cidade','Tipo']])"
   ]
  },
  {
   "cell_type": "code",
   "execution_count": 176,
   "metadata": {},
   "outputs": [],
   "source": [
    "df['Valor'] = df['Valor'].apply(lambda x: x.replace('R$',''))\n",
    "df['Valor'] = df['Valor'].apply(lambda x: x.replace(',',''))\n",
    "#df"
   ]
  },
  {
   "cell_type": "code",
   "execution_count": 177,
   "metadata": {},
   "outputs": [
    {
     "data": {
      "text/html": [
       "<div>\n",
       "<style scoped>\n",
       "    .dataframe tbody tr th:only-of-type {\n",
       "        vertical-align: middle;\n",
       "    }\n",
       "\n",
       "    .dataframe tbody tr th {\n",
       "        vertical-align: top;\n",
       "    }\n",
       "\n",
       "    .dataframe thead th {\n",
       "        text-align: right;\n",
       "    }\n",
       "</style>\n",
       "<table border=\"1\" class=\"dataframe\">\n",
       "  <thead>\n",
       "    <tr style=\"text-align: right;\">\n",
       "      <th></th>\n",
       "      <th>Cidade</th>\n",
       "      <th>Nome</th>\n",
       "      <th>Nota</th>\n",
       "      <th>SuperHost</th>\n",
       "      <th>Valor</th>\n",
       "      <th>Tipo</th>\n",
       "      <th>url</th>\n",
       "      <th>urlSearch</th>\n",
       "      <th>Color</th>\n",
       "      <th>Size</th>\n",
       "    </tr>\n",
       "  </thead>\n",
       "  <tbody>\n",
       "    <tr>\n",
       "      <th>0</th>\n",
       "      <td>Gramado</td>\n",
       "      <td>Quarto para 2 pessoas</td>\n",
       "      <td>NaN</td>\n",
       "      <td>False</td>\n",
       "      <td>226</td>\n",
       "      <td></td>\n",
       "      <td>https://www.airbnb.com.br/rooms/38778926?locat...</td>\n",
       "      <td>https://www.airbnb.com.br/s/Gramado/homes?sear...</td>\n",
       "      <td>1</td>\n",
       "      <td>1</td>\n",
       "    </tr>\n",
       "    <tr>\n",
       "      <th>1</th>\n",
       "      <td>Gramado</td>\n",
       "      <td>GRAMADO, Natal Luz, assista da janela do seu apto</td>\n",
       "      <td>NaN</td>\n",
       "      <td>False</td>\n",
       "      <td>452</td>\n",
       "      <td></td>\n",
       "      <td>https://www.airbnb.com.br/rooms/40376411?locat...</td>\n",
       "      <td>https://www.airbnb.com.br/s/Gramado/homes?sear...</td>\n",
       "      <td>1</td>\n",
       "      <td>1</td>\n",
       "    </tr>\n",
       "    <tr>\n",
       "      <th>2</th>\n",
       "      <td>Gramado</td>\n",
       "      <td>Apto Maria Flor  106 Gramado</td>\n",
       "      <td>NaN</td>\n",
       "      <td>True</td>\n",
       "      <td>903</td>\n",
       "      <td>Apartamento inteiro</td>\n",
       "      <td>https://www.airbnb.com.br/rooms/30126185?locat...</td>\n",
       "      <td>https://www.airbnb.com.br/s/Gramado/homes?sear...</td>\n",
       "      <td>0</td>\n",
       "      <td>10</td>\n",
       "    </tr>\n",
       "    <tr>\n",
       "      <th>3</th>\n",
       "      <td>Gramado</td>\n",
       "      <td>Apto Novo e Aconchegante / Residencial Orquídeas</td>\n",
       "      <td>NaN</td>\n",
       "      <td>False</td>\n",
       "      <td>1219</td>\n",
       "      <td></td>\n",
       "      <td>https://www.airbnb.com.br/rooms/20959062?locat...</td>\n",
       "      <td>https://www.airbnb.com.br/s/Gramado/homes?sear...</td>\n",
       "      <td>1</td>\n",
       "      <td>1</td>\n",
       "    </tr>\n",
       "    <tr>\n",
       "      <th>4</th>\n",
       "      <td>Gramado</td>\n",
       "      <td>Aconchego Apartamento Lovato</td>\n",
       "      <td>4.83</td>\n",
       "      <td>False</td>\n",
       "      <td>903</td>\n",
       "      <td></td>\n",
       "      <td>https://www.airbnb.com.br/rooms/23658095?locat...</td>\n",
       "      <td>https://www.airbnb.com.br/s/Gramado/homes?sear...</td>\n",
       "      <td>1</td>\n",
       "      <td>1</td>\n",
       "    </tr>\n",
       "  </tbody>\n",
       "</table>\n",
       "</div>"
      ],
      "text/plain": [
       "    Cidade                                               Nome  Nota  \\\n",
       "0  Gramado                              Quarto para 2 pessoas   NaN   \n",
       "1  Gramado  GRAMADO, Natal Luz, assista da janela do seu apto   NaN   \n",
       "2  Gramado                       Apto Maria Flor  106 Gramado   NaN   \n",
       "3  Gramado   Apto Novo e Aconchegante / Residencial Orquídeas   NaN   \n",
       "4  Gramado                       Aconchego Apartamento Lovato  4.83   \n",
       "\n",
       "   SuperHost  Valor                 Tipo  \\\n",
       "0      False    226                        \n",
       "1      False    452                        \n",
       "2       True    903  Apartamento inteiro   \n",
       "3      False   1219                        \n",
       "4      False    903                        \n",
       "\n",
       "                                                 url  \\\n",
       "0  https://www.airbnb.com.br/rooms/38778926?locat...   \n",
       "1  https://www.airbnb.com.br/rooms/40376411?locat...   \n",
       "2  https://www.airbnb.com.br/rooms/30126185?locat...   \n",
       "3  https://www.airbnb.com.br/rooms/20959062?locat...   \n",
       "4  https://www.airbnb.com.br/rooms/23658095?locat...   \n",
       "\n",
       "                                           urlSearch Color  Size  \n",
       "0  https://www.airbnb.com.br/s/Gramado/homes?sear...     1     1  \n",
       "1  https://www.airbnb.com.br/s/Gramado/homes?sear...     1     1  \n",
       "2  https://www.airbnb.com.br/s/Gramado/homes?sear...     0    10  \n",
       "3  https://www.airbnb.com.br/s/Gramado/homes?sear...     1     1  \n",
       "4  https://www.airbnb.com.br/s/Gramado/homes?sear...     1     1  "
      ]
     },
     "metadata": {},
     "output_type": "display_data"
    },
    {
     "name": "stdout",
     "output_type": "stream",
     "text": [
      "quantidade 18\n"
     ]
    },
    {
     "data": {
      "text/plain": [
       "<Figure size 720x720 with 0 Axes>"
      ]
     },
     "execution_count": 177,
     "metadata": {},
     "output_type": "execute_result"
    },
    {
     "data": {
      "text/plain": [
       "<Figure size 720x720 with 0 Axes>"
      ]
     },
     "metadata": {},
     "output_type": "display_data"
    }
   ],
   "source": [
    "import seaborn as sns; sns.set()\n",
    "import matplotlib.pyplot as plt\n",
    "df1 =df\n",
    "df1['Nota'].fillna(-1,inplace=True)\n",
    "df1[[\"Valor\", \"Nota\"]] = df1[[\"Valor\", \"Nota\"]].apply(pd.to_numeric)\n",
    "df1['Color'] = df1['SuperHost'].apply(lambda x: str(x).replace('True','0').replace('False','1'))\n",
    "df1['Size'] = df1['SuperHost'].apply(lambda x: 10 if x == True else 1)\n",
    "display(df1.head(5))\n",
    "print('quantidade',len(df1))\n",
    "plt.figure(figsize=(10,10))\n",
    "\n",
    "#ax = sns.scatterplot(x=\"Nota\", y=\"Valor\", hue=\"SuperHost\",data=df1)\n",
    "\n",
    "\n"
   ]
  },
  {
   "cell_type": "code",
   "execution_count": 178,
   "metadata": {},
   "outputs": [
    {
     "data": {
      "application/vnd.plotly.v1+json": {
       "config": {
        "plotlyServerURL": "https://plot.ly"
       },
       "data": [
        {
         "customdata": [
          [
           "Quarto para 2 pessoas"
          ],
          [
           "GRAMADO, Natal Luz, assista da janela do seu apto"
          ],
          [
           "Apto Maria Flor  106 Gramado"
          ],
          [
           "Apto Novo e Aconchegante / Residencial Orquídeas"
          ],
          [
           "Aconchego Apartamento Lovato"
          ],
          [
           "APTO. LUXO PRÓXIMO CENTRO DE GRAMADO-RS"
          ],
          [
           "imperial lugar que encanta.."
          ],
          [
           "Apartamento no Centro de Canela"
          ],
          [
           "Apartamento em condomínio"
          ],
          [
           "Aconchego solar da serra !Apartamento central"
          ],
          [
           "Canela/RS - 50m da Catedral de Pedra"
          ],
          [
           "Apartamento Cristo Rei Gramado - RS"
          ],
          [
           "Estalagem san Marco a Serra Gaúcha te espera"
          ],
          [
           "Apto Maria Flor 312"
          ],
          [
           "Solar da encosta"
          ],
          [
           "Belo Ap.no centro de Gramado"
          ],
          [
           "Lindo 2D Knorrville"
          ],
          [
           "Cantinho da Cíntia/Conforto e praticidade..."
          ]
         ],
         "hoverlabel": {
          "namelength": 0
         },
         "hovertemplate": "Cidade=Gramado<br>Nota=%{x}<br>Valor=%{y}<br>Size=%{marker.size}<br>Nome=%{customdata[0]}",
         "legendgroup": "Cidade=Gramado",
         "marker": {
          "color": "#636efa",
          "opacity": 0.5,
          "size": [
           1,
           1,
           10,
           1,
           1,
           1,
           1,
           1,
           1,
           1,
           10,
           1,
           1,
           10,
           10,
           1,
           1,
           10
          ],
          "sizemode": "area",
          "sizeref": 0.025,
          "symbol": "circle"
         },
         "mode": "markers",
         "name": "Cidade=Gramado",
         "showlegend": true,
         "type": "scatter",
         "x": [
          null,
          null,
          null,
          null,
          4.83,
          5,
          5,
          null,
          null,
          4.72,
          5,
          null,
          4.94,
          5,
          4.83,
          4.67,
          4.9,
          null
         ],
         "xaxis": "x",
         "y": [
          226,
          452,
          903,
          1219,
          903,
          1759,
          226,
          872,
          632,
          908,
          1450,
          1581,
          847,
          1242,
          632,
          1581,
          1694,
          689
         ],
         "yaxis": "y"
        }
       ],
       "layout": {
        "height": 600,
        "legend": {
         "itemsizing": "constant",
         "tracegroupgap": 0
        },
        "margin": {
         "t": 60
        },
        "template": {
         "data": {
          "bar": [
           {
            "error_x": {
             "color": "#2a3f5f"
            },
            "error_y": {
             "color": "#2a3f5f"
            },
            "marker": {
             "line": {
              "color": "#E5ECF6",
              "width": 0.5
             }
            },
            "type": "bar"
           }
          ],
          "barpolar": [
           {
            "marker": {
             "line": {
              "color": "#E5ECF6",
              "width": 0.5
             }
            },
            "type": "barpolar"
           }
          ],
          "carpet": [
           {
            "aaxis": {
             "endlinecolor": "#2a3f5f",
             "gridcolor": "white",
             "linecolor": "white",
             "minorgridcolor": "white",
             "startlinecolor": "#2a3f5f"
            },
            "baxis": {
             "endlinecolor": "#2a3f5f",
             "gridcolor": "white",
             "linecolor": "white",
             "minorgridcolor": "white",
             "startlinecolor": "#2a3f5f"
            },
            "type": "carpet"
           }
          ],
          "choropleth": [
           {
            "colorbar": {
             "outlinewidth": 0,
             "ticks": ""
            },
            "type": "choropleth"
           }
          ],
          "contour": [
           {
            "colorbar": {
             "outlinewidth": 0,
             "ticks": ""
            },
            "colorscale": [
             [
              0,
              "#0d0887"
             ],
             [
              0.1111111111111111,
              "#46039f"
             ],
             [
              0.2222222222222222,
              "#7201a8"
             ],
             [
              0.3333333333333333,
              "#9c179e"
             ],
             [
              0.4444444444444444,
              "#bd3786"
             ],
             [
              0.5555555555555556,
              "#d8576b"
             ],
             [
              0.6666666666666666,
              "#ed7953"
             ],
             [
              0.7777777777777778,
              "#fb9f3a"
             ],
             [
              0.8888888888888888,
              "#fdca26"
             ],
             [
              1,
              "#f0f921"
             ]
            ],
            "type": "contour"
           }
          ],
          "contourcarpet": [
           {
            "colorbar": {
             "outlinewidth": 0,
             "ticks": ""
            },
            "type": "contourcarpet"
           }
          ],
          "heatmap": [
           {
            "colorbar": {
             "outlinewidth": 0,
             "ticks": ""
            },
            "colorscale": [
             [
              0,
              "#0d0887"
             ],
             [
              0.1111111111111111,
              "#46039f"
             ],
             [
              0.2222222222222222,
              "#7201a8"
             ],
             [
              0.3333333333333333,
              "#9c179e"
             ],
             [
              0.4444444444444444,
              "#bd3786"
             ],
             [
              0.5555555555555556,
              "#d8576b"
             ],
             [
              0.6666666666666666,
              "#ed7953"
             ],
             [
              0.7777777777777778,
              "#fb9f3a"
             ],
             [
              0.8888888888888888,
              "#fdca26"
             ],
             [
              1,
              "#f0f921"
             ]
            ],
            "type": "heatmap"
           }
          ],
          "heatmapgl": [
           {
            "colorbar": {
             "outlinewidth": 0,
             "ticks": ""
            },
            "colorscale": [
             [
              0,
              "#0d0887"
             ],
             [
              0.1111111111111111,
              "#46039f"
             ],
             [
              0.2222222222222222,
              "#7201a8"
             ],
             [
              0.3333333333333333,
              "#9c179e"
             ],
             [
              0.4444444444444444,
              "#bd3786"
             ],
             [
              0.5555555555555556,
              "#d8576b"
             ],
             [
              0.6666666666666666,
              "#ed7953"
             ],
             [
              0.7777777777777778,
              "#fb9f3a"
             ],
             [
              0.8888888888888888,
              "#fdca26"
             ],
             [
              1,
              "#f0f921"
             ]
            ],
            "type": "heatmapgl"
           }
          ],
          "histogram": [
           {
            "marker": {
             "colorbar": {
              "outlinewidth": 0,
              "ticks": ""
             }
            },
            "type": "histogram"
           }
          ],
          "histogram2d": [
           {
            "colorbar": {
             "outlinewidth": 0,
             "ticks": ""
            },
            "colorscale": [
             [
              0,
              "#0d0887"
             ],
             [
              0.1111111111111111,
              "#46039f"
             ],
             [
              0.2222222222222222,
              "#7201a8"
             ],
             [
              0.3333333333333333,
              "#9c179e"
             ],
             [
              0.4444444444444444,
              "#bd3786"
             ],
             [
              0.5555555555555556,
              "#d8576b"
             ],
             [
              0.6666666666666666,
              "#ed7953"
             ],
             [
              0.7777777777777778,
              "#fb9f3a"
             ],
             [
              0.8888888888888888,
              "#fdca26"
             ],
             [
              1,
              "#f0f921"
             ]
            ],
            "type": "histogram2d"
           }
          ],
          "histogram2dcontour": [
           {
            "colorbar": {
             "outlinewidth": 0,
             "ticks": ""
            },
            "colorscale": [
             [
              0,
              "#0d0887"
             ],
             [
              0.1111111111111111,
              "#46039f"
             ],
             [
              0.2222222222222222,
              "#7201a8"
             ],
             [
              0.3333333333333333,
              "#9c179e"
             ],
             [
              0.4444444444444444,
              "#bd3786"
             ],
             [
              0.5555555555555556,
              "#d8576b"
             ],
             [
              0.6666666666666666,
              "#ed7953"
             ],
             [
              0.7777777777777778,
              "#fb9f3a"
             ],
             [
              0.8888888888888888,
              "#fdca26"
             ],
             [
              1,
              "#f0f921"
             ]
            ],
            "type": "histogram2dcontour"
           }
          ],
          "mesh3d": [
           {
            "colorbar": {
             "outlinewidth": 0,
             "ticks": ""
            },
            "type": "mesh3d"
           }
          ],
          "parcoords": [
           {
            "line": {
             "colorbar": {
              "outlinewidth": 0,
              "ticks": ""
             }
            },
            "type": "parcoords"
           }
          ],
          "scatter": [
           {
            "marker": {
             "colorbar": {
              "outlinewidth": 0,
              "ticks": ""
             }
            },
            "type": "scatter"
           }
          ],
          "scatter3d": [
           {
            "line": {
             "colorbar": {
              "outlinewidth": 0,
              "ticks": ""
             }
            },
            "marker": {
             "colorbar": {
              "outlinewidth": 0,
              "ticks": ""
             }
            },
            "type": "scatter3d"
           }
          ],
          "scattercarpet": [
           {
            "marker": {
             "colorbar": {
              "outlinewidth": 0,
              "ticks": ""
             }
            },
            "type": "scattercarpet"
           }
          ],
          "scattergeo": [
           {
            "marker": {
             "colorbar": {
              "outlinewidth": 0,
              "ticks": ""
             }
            },
            "type": "scattergeo"
           }
          ],
          "scattergl": [
           {
            "marker": {
             "colorbar": {
              "outlinewidth": 0,
              "ticks": ""
             }
            },
            "type": "scattergl"
           }
          ],
          "scattermapbox": [
           {
            "marker": {
             "colorbar": {
              "outlinewidth": 0,
              "ticks": ""
             }
            },
            "type": "scattermapbox"
           }
          ],
          "scatterpolar": [
           {
            "marker": {
             "colorbar": {
              "outlinewidth": 0,
              "ticks": ""
             }
            },
            "type": "scatterpolar"
           }
          ],
          "scatterpolargl": [
           {
            "marker": {
             "colorbar": {
              "outlinewidth": 0,
              "ticks": ""
             }
            },
            "type": "scatterpolargl"
           }
          ],
          "scatterternary": [
           {
            "marker": {
             "colorbar": {
              "outlinewidth": 0,
              "ticks": ""
             }
            },
            "type": "scatterternary"
           }
          ],
          "surface": [
           {
            "colorbar": {
             "outlinewidth": 0,
             "ticks": ""
            },
            "colorscale": [
             [
              0,
              "#0d0887"
             ],
             [
              0.1111111111111111,
              "#46039f"
             ],
             [
              0.2222222222222222,
              "#7201a8"
             ],
             [
              0.3333333333333333,
              "#9c179e"
             ],
             [
              0.4444444444444444,
              "#bd3786"
             ],
             [
              0.5555555555555556,
              "#d8576b"
             ],
             [
              0.6666666666666666,
              "#ed7953"
             ],
             [
              0.7777777777777778,
              "#fb9f3a"
             ],
             [
              0.8888888888888888,
              "#fdca26"
             ],
             [
              1,
              "#f0f921"
             ]
            ],
            "type": "surface"
           }
          ],
          "table": [
           {
            "cells": {
             "fill": {
              "color": "#EBF0F8"
             },
             "line": {
              "color": "white"
             }
            },
            "header": {
             "fill": {
              "color": "#C8D4E3"
             },
             "line": {
              "color": "white"
             }
            },
            "type": "table"
           }
          ]
         },
         "layout": {
          "annotationdefaults": {
           "arrowcolor": "#2a3f5f",
           "arrowhead": 0,
           "arrowwidth": 1
          },
          "colorscale": {
           "diverging": [
            [
             0,
             "#8e0152"
            ],
            [
             0.1,
             "#c51b7d"
            ],
            [
             0.2,
             "#de77ae"
            ],
            [
             0.3,
             "#f1b6da"
            ],
            [
             0.4,
             "#fde0ef"
            ],
            [
             0.5,
             "#f7f7f7"
            ],
            [
             0.6,
             "#e6f5d0"
            ],
            [
             0.7,
             "#b8e186"
            ],
            [
             0.8,
             "#7fbc41"
            ],
            [
             0.9,
             "#4d9221"
            ],
            [
             1,
             "#276419"
            ]
           ],
           "sequential": [
            [
             0,
             "#0d0887"
            ],
            [
             0.1111111111111111,
             "#46039f"
            ],
            [
             0.2222222222222222,
             "#7201a8"
            ],
            [
             0.3333333333333333,
             "#9c179e"
            ],
            [
             0.4444444444444444,
             "#bd3786"
            ],
            [
             0.5555555555555556,
             "#d8576b"
            ],
            [
             0.6666666666666666,
             "#ed7953"
            ],
            [
             0.7777777777777778,
             "#fb9f3a"
            ],
            [
             0.8888888888888888,
             "#fdca26"
            ],
            [
             1,
             "#f0f921"
            ]
           ],
           "sequentialminus": [
            [
             0,
             "#0d0887"
            ],
            [
             0.1111111111111111,
             "#46039f"
            ],
            [
             0.2222222222222222,
             "#7201a8"
            ],
            [
             0.3333333333333333,
             "#9c179e"
            ],
            [
             0.4444444444444444,
             "#bd3786"
            ],
            [
             0.5555555555555556,
             "#d8576b"
            ],
            [
             0.6666666666666666,
             "#ed7953"
            ],
            [
             0.7777777777777778,
             "#fb9f3a"
            ],
            [
             0.8888888888888888,
             "#fdca26"
            ],
            [
             1,
             "#f0f921"
            ]
           ]
          },
          "colorway": [
           "#636efa",
           "#EF553B",
           "#00cc96",
           "#ab63fa",
           "#FFA15A",
           "#19d3f3",
           "#FF6692",
           "#B6E880",
           "#FF97FF",
           "#FECB52"
          ],
          "font": {
           "color": "#2a3f5f"
          },
          "geo": {
           "bgcolor": "white",
           "lakecolor": "white",
           "landcolor": "#E5ECF6",
           "showlakes": true,
           "showland": true,
           "subunitcolor": "white"
          },
          "hoverlabel": {
           "align": "left"
          },
          "hovermode": "closest",
          "mapbox": {
           "style": "light"
          },
          "paper_bgcolor": "white",
          "plot_bgcolor": "#E5ECF6",
          "polar": {
           "angularaxis": {
            "gridcolor": "white",
            "linecolor": "white",
            "ticks": ""
           },
           "bgcolor": "#E5ECF6",
           "radialaxis": {
            "gridcolor": "white",
            "linecolor": "white",
            "ticks": ""
           }
          },
          "scene": {
           "xaxis": {
            "backgroundcolor": "#E5ECF6",
            "gridcolor": "white",
            "gridwidth": 2,
            "linecolor": "white",
            "showbackground": true,
            "ticks": "",
            "zerolinecolor": "white"
           },
           "yaxis": {
            "backgroundcolor": "#E5ECF6",
            "gridcolor": "white",
            "gridwidth": 2,
            "linecolor": "white",
            "showbackground": true,
            "ticks": "",
            "zerolinecolor": "white"
           },
           "zaxis": {
            "backgroundcolor": "#E5ECF6",
            "gridcolor": "white",
            "gridwidth": 2,
            "linecolor": "white",
            "showbackground": true,
            "ticks": "",
            "zerolinecolor": "white"
           }
          },
          "shapedefaults": {
           "line": {
            "color": "#2a3f5f"
           }
          },
          "ternary": {
           "aaxis": {
            "gridcolor": "white",
            "linecolor": "white",
            "ticks": ""
           },
           "baxis": {
            "gridcolor": "white",
            "linecolor": "white",
            "ticks": ""
           },
           "bgcolor": "#E5ECF6",
           "caxis": {
            "gridcolor": "white",
            "linecolor": "white",
            "ticks": ""
           }
          },
          "title": {
           "x": 0.05
          },
          "xaxis": {
           "automargin": true,
           "gridcolor": "white",
           "linecolor": "white",
           "ticks": "",
           "zerolinecolor": "white",
           "zerolinewidth": 2
          },
          "yaxis": {
           "automargin": true,
           "gridcolor": "white",
           "linecolor": "white",
           "ticks": "",
           "zerolinecolor": "white",
           "zerolinewidth": 2
          }
         }
        },
        "xaxis": {
         "anchor": "y",
         "domain": [
          0,
          0.98
         ],
         "title": {
          "text": "Nota"
         }
        },
        "yaxis": {
         "anchor": "x",
         "domain": [
          0,
          1
         ],
         "title": {
          "text": "Valor"
         }
        }
       }
      },
      "text/html": [
       "<div>\n",
       "        \n",
       "        \n",
       "            <div id=\"20d98070-2dd8-4bd8-a9cf-514052f28a0e\" class=\"plotly-graph-div\" style=\"height:600px; width:100%;\"></div>\n",
       "            <script type=\"text/javascript\">\n",
       "                require([\"plotly\"], function(Plotly) {\n",
       "                    window.PLOTLYENV=window.PLOTLYENV || {};\n",
       "                    \n",
       "                if (document.getElementById(\"20d98070-2dd8-4bd8-a9cf-514052f28a0e\")) {\n",
       "                    Plotly.newPlot(\n",
       "                        '20d98070-2dd8-4bd8-a9cf-514052f28a0e',\n",
       "                        [{\"customdata\": [[\"Quarto para 2 pessoas\"], [\"GRAMADO, Natal Luz, assista da janela do seu apto\"], [\"Apto Maria Flor  106 Gramado\"], [\"Apto Novo e Aconchegante / Residencial Orqu\\u00eddeas\"], [\"Aconchego Apartamento Lovato\"], [\"APTO. LUXO PR\\u00d3XIMO CENTRO DE GRAMADO-RS\"], [\"imperial lugar que encanta..\"], [\"Apartamento no Centro de Canela\"], [\"Apartamento em condom\\u00ednio\"], [\"Aconchego solar da serra !Apartamento central\"], [\"Canela/RS - 50m da Catedral de Pedra\"], [\"Apartamento Cristo Rei Gramado - RS\"], [\"Estalagem san Marco a Serra Ga\\u00facha te espera\"], [\"Apto Maria Flor 312\"], [\"Solar da encosta\"], [\"Belo Ap.no centro de Gramado\"], [\"Lindo 2D Knorrville\"], [\"Cantinho da C\\u00edntia/Conforto e praticidade...\"]], \"hoverlabel\": {\"namelength\": 0}, \"hovertemplate\": \"Cidade=Gramado<br>Nota=%{x}<br>Valor=%{y}<br>Size=%{marker.size}<br>Nome=%{customdata[0]}\", \"legendgroup\": \"Cidade=Gramado\", \"marker\": {\"color\": \"#636efa\", \"opacity\": 0.5, \"size\": [1, 1, 10, 1, 1, 1, 1, 1, 1, 1, 10, 1, 1, 10, 10, 1, 1, 10], \"sizemode\": \"area\", \"sizeref\": 0.025, \"symbol\": \"circle\"}, \"mode\": \"markers\", \"name\": \"Cidade=Gramado\", \"showlegend\": true, \"type\": \"scatter\", \"x\": [null, null, null, null, 4.83, 5.0, 5.0, null, null, 4.72, 5.0, null, 4.94, 5.0, 4.83, 4.67, 4.9, null], \"xaxis\": \"x\", \"y\": [226, 452, 903, 1219, 903, 1759, 226, 872, 632, 908, 1450, 1581, 847, 1242, 632, 1581, 1694, 689], \"yaxis\": \"y\"}],\n",
       "                        {\"height\": 600, \"legend\": {\"itemsizing\": \"constant\", \"tracegroupgap\": 0}, \"margin\": {\"t\": 60}, \"template\": {\"data\": {\"bar\": [{\"error_x\": {\"color\": \"#2a3f5f\"}, \"error_y\": {\"color\": \"#2a3f5f\"}, \"marker\": {\"line\": {\"color\": \"#E5ECF6\", \"width\": 0.5}}, \"type\": \"bar\"}], \"barpolar\": [{\"marker\": {\"line\": {\"color\": \"#E5ECF6\", \"width\": 0.5}}, \"type\": \"barpolar\"}], \"carpet\": [{\"aaxis\": {\"endlinecolor\": \"#2a3f5f\", \"gridcolor\": \"white\", \"linecolor\": \"white\", \"minorgridcolor\": \"white\", \"startlinecolor\": \"#2a3f5f\"}, \"baxis\": {\"endlinecolor\": \"#2a3f5f\", \"gridcolor\": \"white\", \"linecolor\": \"white\", \"minorgridcolor\": \"white\", \"startlinecolor\": \"#2a3f5f\"}, \"type\": \"carpet\"}], \"choropleth\": [{\"colorbar\": {\"outlinewidth\": 0, \"ticks\": \"\"}, \"type\": \"choropleth\"}], \"contour\": [{\"colorbar\": {\"outlinewidth\": 0, \"ticks\": \"\"}, \"colorscale\": [[0.0, \"#0d0887\"], [0.1111111111111111, \"#46039f\"], [0.2222222222222222, \"#7201a8\"], [0.3333333333333333, \"#9c179e\"], [0.4444444444444444, \"#bd3786\"], [0.5555555555555556, \"#d8576b\"], [0.6666666666666666, \"#ed7953\"], [0.7777777777777778, \"#fb9f3a\"], [0.8888888888888888, \"#fdca26\"], [1.0, \"#f0f921\"]], \"type\": \"contour\"}], \"contourcarpet\": [{\"colorbar\": {\"outlinewidth\": 0, \"ticks\": \"\"}, \"type\": \"contourcarpet\"}], \"heatmap\": [{\"colorbar\": {\"outlinewidth\": 0, \"ticks\": \"\"}, \"colorscale\": [[0.0, \"#0d0887\"], [0.1111111111111111, \"#46039f\"], [0.2222222222222222, \"#7201a8\"], [0.3333333333333333, \"#9c179e\"], [0.4444444444444444, \"#bd3786\"], [0.5555555555555556, \"#d8576b\"], [0.6666666666666666, \"#ed7953\"], [0.7777777777777778, \"#fb9f3a\"], [0.8888888888888888, \"#fdca26\"], [1.0, \"#f0f921\"]], \"type\": \"heatmap\"}], \"heatmapgl\": [{\"colorbar\": {\"outlinewidth\": 0, \"ticks\": \"\"}, \"colorscale\": [[0.0, \"#0d0887\"], [0.1111111111111111, \"#46039f\"], [0.2222222222222222, \"#7201a8\"], [0.3333333333333333, \"#9c179e\"], [0.4444444444444444, \"#bd3786\"], [0.5555555555555556, \"#d8576b\"], [0.6666666666666666, \"#ed7953\"], [0.7777777777777778, \"#fb9f3a\"], [0.8888888888888888, \"#fdca26\"], [1.0, \"#f0f921\"]], \"type\": \"heatmapgl\"}], \"histogram\": [{\"marker\": {\"colorbar\": {\"outlinewidth\": 0, \"ticks\": \"\"}}, \"type\": \"histogram\"}], \"histogram2d\": [{\"colorbar\": {\"outlinewidth\": 0, \"ticks\": \"\"}, \"colorscale\": [[0.0, \"#0d0887\"], [0.1111111111111111, \"#46039f\"], [0.2222222222222222, \"#7201a8\"], [0.3333333333333333, \"#9c179e\"], [0.4444444444444444, \"#bd3786\"], [0.5555555555555556, \"#d8576b\"], [0.6666666666666666, \"#ed7953\"], [0.7777777777777778, \"#fb9f3a\"], [0.8888888888888888, \"#fdca26\"], [1.0, \"#f0f921\"]], \"type\": \"histogram2d\"}], \"histogram2dcontour\": [{\"colorbar\": {\"outlinewidth\": 0, \"ticks\": \"\"}, \"colorscale\": [[0.0, \"#0d0887\"], [0.1111111111111111, \"#46039f\"], [0.2222222222222222, \"#7201a8\"], [0.3333333333333333, \"#9c179e\"], [0.4444444444444444, \"#bd3786\"], [0.5555555555555556, \"#d8576b\"], [0.6666666666666666, \"#ed7953\"], [0.7777777777777778, \"#fb9f3a\"], [0.8888888888888888, \"#fdca26\"], [1.0, \"#f0f921\"]], \"type\": \"histogram2dcontour\"}], \"mesh3d\": [{\"colorbar\": {\"outlinewidth\": 0, \"ticks\": \"\"}, \"type\": \"mesh3d\"}], \"parcoords\": [{\"line\": {\"colorbar\": {\"outlinewidth\": 0, \"ticks\": \"\"}}, \"type\": \"parcoords\"}], \"scatter\": [{\"marker\": {\"colorbar\": {\"outlinewidth\": 0, \"ticks\": \"\"}}, \"type\": \"scatter\"}], \"scatter3d\": [{\"line\": {\"colorbar\": {\"outlinewidth\": 0, \"ticks\": \"\"}}, \"marker\": {\"colorbar\": {\"outlinewidth\": 0, \"ticks\": \"\"}}, \"type\": \"scatter3d\"}], \"scattercarpet\": [{\"marker\": {\"colorbar\": {\"outlinewidth\": 0, \"ticks\": \"\"}}, \"type\": \"scattercarpet\"}], \"scattergeo\": [{\"marker\": {\"colorbar\": {\"outlinewidth\": 0, \"ticks\": \"\"}}, \"type\": \"scattergeo\"}], \"scattergl\": [{\"marker\": {\"colorbar\": {\"outlinewidth\": 0, \"ticks\": \"\"}}, \"type\": \"scattergl\"}], \"scattermapbox\": [{\"marker\": {\"colorbar\": {\"outlinewidth\": 0, \"ticks\": \"\"}}, \"type\": \"scattermapbox\"}], \"scatterpolar\": [{\"marker\": {\"colorbar\": {\"outlinewidth\": 0, \"ticks\": \"\"}}, \"type\": \"scatterpolar\"}], \"scatterpolargl\": [{\"marker\": {\"colorbar\": {\"outlinewidth\": 0, \"ticks\": \"\"}}, \"type\": \"scatterpolargl\"}], \"scatterternary\": [{\"marker\": {\"colorbar\": {\"outlinewidth\": 0, \"ticks\": \"\"}}, \"type\": \"scatterternary\"}], \"surface\": [{\"colorbar\": {\"outlinewidth\": 0, \"ticks\": \"\"}, \"colorscale\": [[0.0, \"#0d0887\"], [0.1111111111111111, \"#46039f\"], [0.2222222222222222, \"#7201a8\"], [0.3333333333333333, \"#9c179e\"], [0.4444444444444444, \"#bd3786\"], [0.5555555555555556, \"#d8576b\"], [0.6666666666666666, \"#ed7953\"], [0.7777777777777778, \"#fb9f3a\"], [0.8888888888888888, \"#fdca26\"], [1.0, \"#f0f921\"]], \"type\": \"surface\"}], \"table\": [{\"cells\": {\"fill\": {\"color\": \"#EBF0F8\"}, \"line\": {\"color\": \"white\"}}, \"header\": {\"fill\": {\"color\": \"#C8D4E3\"}, \"line\": {\"color\": \"white\"}}, \"type\": \"table\"}]}, \"layout\": {\"annotationdefaults\": {\"arrowcolor\": \"#2a3f5f\", \"arrowhead\": 0, \"arrowwidth\": 1}, \"colorscale\": {\"diverging\": [[0, \"#8e0152\"], [0.1, \"#c51b7d\"], [0.2, \"#de77ae\"], [0.3, \"#f1b6da\"], [0.4, \"#fde0ef\"], [0.5, \"#f7f7f7\"], [0.6, \"#e6f5d0\"], [0.7, \"#b8e186\"], [0.8, \"#7fbc41\"], [0.9, \"#4d9221\"], [1, \"#276419\"]], \"sequential\": [[0.0, \"#0d0887\"], [0.1111111111111111, \"#46039f\"], [0.2222222222222222, \"#7201a8\"], [0.3333333333333333, \"#9c179e\"], [0.4444444444444444, \"#bd3786\"], [0.5555555555555556, \"#d8576b\"], [0.6666666666666666, \"#ed7953\"], [0.7777777777777778, \"#fb9f3a\"], [0.8888888888888888, \"#fdca26\"], [1.0, \"#f0f921\"]], \"sequentialminus\": [[0.0, \"#0d0887\"], [0.1111111111111111, \"#46039f\"], [0.2222222222222222, \"#7201a8\"], [0.3333333333333333, \"#9c179e\"], [0.4444444444444444, \"#bd3786\"], [0.5555555555555556, \"#d8576b\"], [0.6666666666666666, \"#ed7953\"], [0.7777777777777778, \"#fb9f3a\"], [0.8888888888888888, \"#fdca26\"], [1.0, \"#f0f921\"]]}, \"colorway\": [\"#636efa\", \"#EF553B\", \"#00cc96\", \"#ab63fa\", \"#FFA15A\", \"#19d3f3\", \"#FF6692\", \"#B6E880\", \"#FF97FF\", \"#FECB52\"], \"font\": {\"color\": \"#2a3f5f\"}, \"geo\": {\"bgcolor\": \"white\", \"lakecolor\": \"white\", \"landcolor\": \"#E5ECF6\", \"showlakes\": true, \"showland\": true, \"subunitcolor\": \"white\"}, \"hoverlabel\": {\"align\": \"left\"}, \"hovermode\": \"closest\", \"mapbox\": {\"style\": \"light\"}, \"paper_bgcolor\": \"white\", \"plot_bgcolor\": \"#E5ECF6\", \"polar\": {\"angularaxis\": {\"gridcolor\": \"white\", \"linecolor\": \"white\", \"ticks\": \"\"}, \"bgcolor\": \"#E5ECF6\", \"radialaxis\": {\"gridcolor\": \"white\", \"linecolor\": \"white\", \"ticks\": \"\"}}, \"scene\": {\"xaxis\": {\"backgroundcolor\": \"#E5ECF6\", \"gridcolor\": \"white\", \"gridwidth\": 2, \"linecolor\": \"white\", \"showbackground\": true, \"ticks\": \"\", \"zerolinecolor\": \"white\"}, \"yaxis\": {\"backgroundcolor\": \"#E5ECF6\", \"gridcolor\": \"white\", \"gridwidth\": 2, \"linecolor\": \"white\", \"showbackground\": true, \"ticks\": \"\", \"zerolinecolor\": \"white\"}, \"zaxis\": {\"backgroundcolor\": \"#E5ECF6\", \"gridcolor\": \"white\", \"gridwidth\": 2, \"linecolor\": \"white\", \"showbackground\": true, \"ticks\": \"\", \"zerolinecolor\": \"white\"}}, \"shapedefaults\": {\"line\": {\"color\": \"#2a3f5f\"}}, \"ternary\": {\"aaxis\": {\"gridcolor\": \"white\", \"linecolor\": \"white\", \"ticks\": \"\"}, \"baxis\": {\"gridcolor\": \"white\", \"linecolor\": \"white\", \"ticks\": \"\"}, \"bgcolor\": \"#E5ECF6\", \"caxis\": {\"gridcolor\": \"white\", \"linecolor\": \"white\", \"ticks\": \"\"}}, \"title\": {\"x\": 0.05}, \"xaxis\": {\"automargin\": true, \"gridcolor\": \"white\", \"linecolor\": \"white\", \"ticks\": \"\", \"zerolinecolor\": \"white\", \"zerolinewidth\": 2}, \"yaxis\": {\"automargin\": true, \"gridcolor\": \"white\", \"linecolor\": \"white\", \"ticks\": \"\", \"zerolinecolor\": \"white\", \"zerolinewidth\": 2}}}, \"xaxis\": {\"anchor\": \"y\", \"domain\": [0.0, 0.98], \"title\": {\"text\": \"Nota\"}}, \"yaxis\": {\"anchor\": \"x\", \"domain\": [0.0, 1.0], \"title\": {\"text\": \"Valor\"}}},\n",
       "                        {\"responsive\": true}\n",
       "                    ).then(function(){\n",
       "                            \n",
       "var gd = document.getElementById('20d98070-2dd8-4bd8-a9cf-514052f28a0e');\n",
       "var x = new MutationObserver(function (mutations, observer) {{\n",
       "        var display = window.getComputedStyle(gd).display;\n",
       "        if (!display || display === 'none') {{\n",
       "            console.log([gd, 'removed!']);\n",
       "            Plotly.purge(gd);\n",
       "            observer.disconnect();\n",
       "        }}\n",
       "}});\n",
       "\n",
       "// Listen for the removal of the full notebook cells\n",
       "var notebookContainer = gd.closest('#notebook-container');\n",
       "if (notebookContainer) {{\n",
       "    x.observe(notebookContainer, {childList: true});\n",
       "}}\n",
       "\n",
       "// Listen for the clearing of the current output cell\n",
       "var outputEl = gd.closest('.output');\n",
       "if (outputEl) {{\n",
       "    x.observe(outputEl, {childList: true});\n",
       "}}\n",
       "\n",
       "                        })\n",
       "                };\n",
       "                });\n",
       "            </script>\n",
       "        </div>"
      ]
     },
     "metadata": {},
     "output_type": "display_data"
    }
   ],
   "source": [
    "import plotly.express as px\n",
    "fig = px.scatter(df1, x=\"Nota\", y=\"Valor\", color=\"Cidade\",size='Size',hover_data=['Nome'],opacity=0.5)\n",
    "fig.show()"
   ]
  },
  {
   "cell_type": "code",
   "execution_count": 179,
   "metadata": {},
   "outputs": [],
   "source": [
    "def make_clickable(val):\n",
    "    return '<a href=\"{}\">{}</a>'.format(val,val)\n"
   ]
  },
  {
   "cell_type": "code",
   "execution_count": 180,
   "metadata": {},
   "outputs": [
    {
     "data": {
      "text/html": [
       "<style  type=\"text/css\" >\n",
       "</style><table id=\"T_0a667d00_0fed_11ea_a40c_fc777494c9ff\" ><thead>    <tr>        <th class=\"blank level0\" ></th>        <th class=\"col_heading level0 col0\" >Cidade</th>        <th class=\"col_heading level0 col1\" >Nome</th>        <th class=\"col_heading level0 col2\" >Nota</th>        <th class=\"col_heading level0 col3\" >SuperHost</th>        <th class=\"col_heading level0 col4\" >Valor</th>        <th class=\"col_heading level0 col5\" >Tipo</th>        <th class=\"col_heading level0 col6\" >url</th>        <th class=\"col_heading level0 col7\" >urlSearch</th>        <th class=\"col_heading level0 col8\" >Color</th>        <th class=\"col_heading level0 col9\" >Size</th>    </tr></thead><tbody>\n",
       "                <tr>\n",
       "                        <th id=\"T_0a667d00_0fed_11ea_a40c_fc777494c9fflevel0_row0\" class=\"row_heading level0 row0\" >13</th>\n",
       "                        <td id=\"T_0a667d00_0fed_11ea_a40c_fc777494c9ffrow0_col0\" class=\"data row0 col0\" >Gramado</td>\n",
       "                        <td id=\"T_0a667d00_0fed_11ea_a40c_fc777494c9ffrow0_col1\" class=\"data row0 col1\" >Apto Maria Flor 312</td>\n",
       "                        <td id=\"T_0a667d00_0fed_11ea_a40c_fc777494c9ffrow0_col2\" class=\"data row0 col2\" >5</td>\n",
       "                        <td id=\"T_0a667d00_0fed_11ea_a40c_fc777494c9ffrow0_col3\" class=\"data row0 col3\" >True</td>\n",
       "                        <td id=\"T_0a667d00_0fed_11ea_a40c_fc777494c9ffrow0_col4\" class=\"data row0 col4\" >1242</td>\n",
       "                        <td id=\"T_0a667d00_0fed_11ea_a40c_fc777494c9ffrow0_col5\" class=\"data row0 col5\" >Apartamento inteiro</td>\n",
       "                        <td id=\"T_0a667d00_0fed_11ea_a40c_fc777494c9ffrow0_col6\" class=\"data row0 col6\" ><a href=\"https://www.airbnb.com.br/rooms/33513010?location=Gramado&adults=2&check_in=2019-12-30&check_out=2020-01-01&previous_page_section_name=1000&search_id=46376a24-3ce9-cde2-fead-b25e25af1798&federated_search_id=abd8c74f-7173-4216-b9d1-75b7e7a0a602\">https://www.airbnb.com.br/rooms/33513010?location=Gramado&adults=2&check_in=2019-12-30&check_out=2020-01-01&previous_page_section_name=1000&search_id=46376a24-3ce9-cde2-fead-b25e25af1798&federated_search_id=abd8c74f-7173-4216-b9d1-75b7e7a0a602</a></td>\n",
       "                        <td id=\"T_0a667d00_0fed_11ea_a40c_fc777494c9ffrow0_col7\" class=\"data row0 col7\" >https://www.airbnb.com.br/s/Gramado/homes?search_type=pagination&checkin=2019-12-30&checkout=2020-1-1&adults=2&property_type_id%5B%5D=1&property_type_id%5B%5D=43&property_type_id%5B%5D=47&room_types%5B%5D=Entire%20home%2Fapt&section_offset=5&items_offset=0</td>\n",
       "                        <td id=\"T_0a667d00_0fed_11ea_a40c_fc777494c9ffrow0_col8\" class=\"data row0 col8\" >0</td>\n",
       "                        <td id=\"T_0a667d00_0fed_11ea_a40c_fc777494c9ffrow0_col9\" class=\"data row0 col9\" >10</td>\n",
       "            </tr>\n",
       "            <tr>\n",
       "                        <th id=\"T_0a667d00_0fed_11ea_a40c_fc777494c9fflevel0_row1\" class=\"row_heading level0 row1\" >2</th>\n",
       "                        <td id=\"T_0a667d00_0fed_11ea_a40c_fc777494c9ffrow1_col0\" class=\"data row1 col0\" >Gramado</td>\n",
       "                        <td id=\"T_0a667d00_0fed_11ea_a40c_fc777494c9ffrow1_col1\" class=\"data row1 col1\" >Apto Maria Flor  106 Gramado</td>\n",
       "                        <td id=\"T_0a667d00_0fed_11ea_a40c_fc777494c9ffrow1_col2\" class=\"data row1 col2\" >nan</td>\n",
       "                        <td id=\"T_0a667d00_0fed_11ea_a40c_fc777494c9ffrow1_col3\" class=\"data row1 col3\" >True</td>\n",
       "                        <td id=\"T_0a667d00_0fed_11ea_a40c_fc777494c9ffrow1_col4\" class=\"data row1 col4\" >903</td>\n",
       "                        <td id=\"T_0a667d00_0fed_11ea_a40c_fc777494c9ffrow1_col5\" class=\"data row1 col5\" >Apartamento inteiro</td>\n",
       "                        <td id=\"T_0a667d00_0fed_11ea_a40c_fc777494c9ffrow1_col6\" class=\"data row1 col6\" ><a href=\"https://www.airbnb.com.br/rooms/30126185?location=Gramado&adults=2&check_in=2019-12-30&check_out=2020-01-01&previous_page_section_name=1000&search_id=46376a24-3ce9-cde2-fead-b25e25af1798&federated_search_id=abd8c74f-7173-4216-b9d1-75b7e7a0a602\">https://www.airbnb.com.br/rooms/30126185?location=Gramado&adults=2&check_in=2019-12-30&check_out=2020-01-01&previous_page_section_name=1000&search_id=46376a24-3ce9-cde2-fead-b25e25af1798&federated_search_id=abd8c74f-7173-4216-b9d1-75b7e7a0a602</a></td>\n",
       "                        <td id=\"T_0a667d00_0fed_11ea_a40c_fc777494c9ffrow1_col7\" class=\"data row1 col7\" >https://www.airbnb.com.br/s/Gramado/homes?search_type=pagination&checkin=2019-12-30&checkout=2020-1-1&adults=2&property_type_id%5B%5D=1&property_type_id%5B%5D=43&property_type_id%5B%5D=47&room_types%5B%5D=Entire%20home%2Fapt&section_offset=5&items_offset=0</td>\n",
       "                        <td id=\"T_0a667d00_0fed_11ea_a40c_fc777494c9ffrow1_col8\" class=\"data row1 col8\" >0</td>\n",
       "                        <td id=\"T_0a667d00_0fed_11ea_a40c_fc777494c9ffrow1_col9\" class=\"data row1 col9\" >10</td>\n",
       "            </tr>\n",
       "    </tbody></table>"
      ],
      "text/plain": [
       "<pandas.io.formats.style.Styler at 0x233ef9e9588>"
      ]
     },
     "metadata": {},
     "output_type": "display_data"
    }
   ],
   "source": [
    "#procurarPort = \"imperial\"\n",
    "result = df[df['Nome'].str.contains('Apto Maria')==True]\n",
    "result=result.sort_values(['Nota','Valor'],ascending=[True,False])\n",
    "result = result.style.format({'url': make_clickable})\n",
    "display(result)"
   ]
  },
  {
   "cell_type": "code",
   "execution_count": null,
   "metadata": {},
   "outputs": [],
   "source": []
  },
  {
   "cell_type": "code",
   "execution_count": null,
   "metadata": {},
   "outputs": [],
   "source": []
  },
  {
   "cell_type": "code",
   "execution_count": null,
   "metadata": {},
   "outputs": [],
   "source": []
  },
  {
   "cell_type": "code",
   "execution_count": null,
   "metadata": {},
   "outputs": [],
   "source": []
  }
 ],
 "metadata": {
  "kernelspec": {
   "display_name": "Python 3",
   "language": "python",
   "name": "python3"
  },
  "language_info": {
   "codemirror_mode": {
    "name": "ipython",
    "version": 3
   },
   "file_extension": ".py",
   "mimetype": "text/x-python",
   "name": "python",
   "nbconvert_exporter": "python",
   "pygments_lexer": "ipython3",
   "version": "3.7.4"
  }
 },
 "nbformat": 4,
 "nbformat_minor": 2
}
